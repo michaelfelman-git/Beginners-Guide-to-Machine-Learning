{
 "cells": [
  {
   "cell_type": "markdown",
   "metadata": {},
   "source": [
    "<h1 align=\"center\">MULTIPLE REGRESSION WITH STATSMODELS</h1>"
   ]
  },
  {
   "cell_type": "markdown",
   "metadata": {},
   "source": [
    "- [**Detecting Collinearity with Eigenvectors**](#eigen)\n",
    "- [**Testing for Multicollinearity**](#multi)\n",
    "- [**Residuals & Residual Plots**](#resplot)"
   ]
  },
  {
   "cell_type": "code",
   "execution_count": 1,
   "metadata": {},
   "outputs": [],
   "source": [
    "import numpy as np\n",
    "import pandas as pd\n",
    "import matplotlib.pyplot as plt\n",
    "%matplotlib inline\n",
    "import seaborn as sns\n",
    "from sklearn.datasets import load_boston\n",
    "from sklearn.model_selection import train_test_split"
   ]
  },
  {
   "cell_type": "code",
   "execution_count": 2,
   "metadata": {},
   "outputs": [],
   "source": [
    "import statsmodels.api as sm\n",
    "import statsmodels.formula.api as smf\n",
    "from statsmodels.stats.outliers_influence import variance_inflation_factor"
   ]
  },
  {
   "cell_type": "markdown",
   "metadata": {},
   "source": [
    "<a id='stat'></a>\n",
    "## Regression with Statsmodels"
   ]
  },
  {
   "cell_type": "code",
   "execution_count": 3,
   "metadata": {},
   "outputs": [],
   "source": [
    "boston = load_boston()\n",
    "df = pd.DataFrame(boston.data, columns=boston.feature_names)\n",
    "df['MEDV'] = boston.target"
   ]
  },
  {
   "cell_type": "code",
   "execution_count": 4,
   "metadata": {},
   "outputs": [],
   "source": [
    "X = df[['CRIM', 'ZN', 'INDUS', 'CHAS', 'NOX', 'RM', 'AGE', 'DIS', 'RAD', 'TAX',\n",
    "       'PTRATIO', 'B', 'LSTAT']]\n",
    "y = np.log(df['MEDV'])\n",
    "\n",
    "X_train, X_test, y_train, y_test = train_test_split(X, y, \n",
    "                                                    test_size=0.2, random_state=10)"
   ]
  },
  {
   "cell_type": "code",
   "execution_count": 5,
   "metadata": {},
   "outputs": [],
   "source": [
    "# sm.OLS?"
   ]
  },
  {
   "cell_type": "code",
   "execution_count": 6,
   "metadata": {},
   "outputs": [
    {
     "data": {
      "text/html": [
       "<div>\n",
       "<style scoped>\n",
       "    .dataframe tbody tr th:only-of-type {\n",
       "        vertical-align: middle;\n",
       "    }\n",
       "\n",
       "    .dataframe tbody tr th {\n",
       "        vertical-align: top;\n",
       "    }\n",
       "\n",
       "    .dataframe thead th {\n",
       "        text-align: right;\n",
       "    }\n",
       "</style>\n",
       "<table border=\"1\" class=\"dataframe\">\n",
       "  <thead>\n",
       "    <tr style=\"text-align: right;\">\n",
       "      <th></th>\n",
       "      <th>coef</th>\n",
       "      <th>p-value</th>\n",
       "    </tr>\n",
       "  </thead>\n",
       "  <tbody>\n",
       "    <tr>\n",
       "      <th>const</th>\n",
       "      <td>4.059944</td>\n",
       "      <td>0.000</td>\n",
       "    </tr>\n",
       "    <tr>\n",
       "      <th>CRIM</th>\n",
       "      <td>-0.010672</td>\n",
       "      <td>0.000</td>\n",
       "    </tr>\n",
       "    <tr>\n",
       "      <th>ZN</th>\n",
       "      <td>0.001579</td>\n",
       "      <td>0.009</td>\n",
       "    </tr>\n",
       "    <tr>\n",
       "      <th>INDUS</th>\n",
       "      <td>0.002030</td>\n",
       "      <td>0.445</td>\n",
       "    </tr>\n",
       "    <tr>\n",
       "      <th>CHAS</th>\n",
       "      <td>0.080331</td>\n",
       "      <td>0.038</td>\n",
       "    </tr>\n",
       "    <tr>\n",
       "      <th>NOX</th>\n",
       "      <td>-0.704068</td>\n",
       "      <td>0.000</td>\n",
       "    </tr>\n",
       "    <tr>\n",
       "      <th>RM</th>\n",
       "      <td>0.073404</td>\n",
       "      <td>0.000</td>\n",
       "    </tr>\n",
       "    <tr>\n",
       "      <th>AGE</th>\n",
       "      <td>0.000763</td>\n",
       "      <td>0.209</td>\n",
       "    </tr>\n",
       "    <tr>\n",
       "      <th>DIS</th>\n",
       "      <td>-0.047633</td>\n",
       "      <td>0.000</td>\n",
       "    </tr>\n",
       "    <tr>\n",
       "      <th>RAD</th>\n",
       "      <td>0.014565</td>\n",
       "      <td>0.000</td>\n",
       "    </tr>\n",
       "    <tr>\n",
       "      <th>TAX</th>\n",
       "      <td>-0.000645</td>\n",
       "      <td>0.000</td>\n",
       "    </tr>\n",
       "    <tr>\n",
       "      <th>PTRATIO</th>\n",
       "      <td>-0.034795</td>\n",
       "      <td>0.000</td>\n",
       "    </tr>\n",
       "    <tr>\n",
       "      <th>B</th>\n",
       "      <td>0.000516</td>\n",
       "      <td>0.000</td>\n",
       "    </tr>\n",
       "    <tr>\n",
       "      <th>LSTAT</th>\n",
       "      <td>-0.031390</td>\n",
       "      <td>0.000</td>\n",
       "    </tr>\n",
       "  </tbody>\n",
       "</table>\n",
       "</div>"
      ],
      "text/plain": [
       "             coef  p-value\n",
       "const    4.059944    0.000\n",
       "CRIM    -0.010672    0.000\n",
       "ZN       0.001579    0.009\n",
       "INDUS    0.002030    0.445\n",
       "CHAS     0.080331    0.038\n",
       "NOX     -0.704068    0.000\n",
       "RM       0.073404    0.000\n",
       "AGE      0.000763    0.209\n",
       "DIS     -0.047633    0.000\n",
       "RAD      0.014565    0.000\n",
       "TAX     -0.000645    0.000\n",
       "PTRATIO -0.034795    0.000\n",
       "B        0.000516    0.000\n",
       "LSTAT   -0.031390    0.000"
      ]
     },
     "execution_count": 6,
     "metadata": {},
     "output_type": "execute_result"
    }
   ],
   "source": [
    "X_incl_const = sm.add_constant(X_train)\n",
    "\n",
    "model = sm.OLS(y_train, X_incl_const)\n",
    "results = model.fit()\n",
    "\n",
    "pd.DataFrame({'coef': results.params, 'p-value': round(results.pvalues, 3)})\n",
    "# 't-stat': results.tvalues"
   ]
  },
  {
   "cell_type": "code",
   "execution_count": 7,
   "metadata": {
    "scrolled": true
   },
   "outputs": [
    {
     "data": {
      "text/html": [
       "<table class=\"simpletable\">\n",
       "<caption>OLS Regression Results</caption>\n",
       "<tr>\n",
       "  <th>Dep. Variable:</th>          <td>MEDV</td>       <th>  R-squared:         </th> <td>   0.793</td> \n",
       "</tr>\n",
       "<tr>\n",
       "  <th>Model:</th>                   <td>OLS</td>       <th>  Adj. R-squared:    </th> <td>   0.786</td> \n",
       "</tr>\n",
       "<tr>\n",
       "  <th>Method:</th>             <td>Least Squares</td>  <th>  F-statistic:       </th> <td>   114.9</td> \n",
       "</tr>\n",
       "<tr>\n",
       "  <th>Date:</th>             <td>Thu, 30 Sep 2021</td> <th>  Prob (F-statistic):</th> <td>1.70e-124</td>\n",
       "</tr>\n",
       "<tr>\n",
       "  <th>Time:</th>                 <td>14:32:46</td>     <th>  Log-Likelihood:    </th> <td>  111.88</td> \n",
       "</tr>\n",
       "<tr>\n",
       "  <th>No. Observations:</th>      <td>   404</td>      <th>  AIC:               </th> <td>  -195.8</td> \n",
       "</tr>\n",
       "<tr>\n",
       "  <th>Df Residuals:</th>          <td>   390</td>      <th>  BIC:               </th> <td>  -139.7</td> \n",
       "</tr>\n",
       "<tr>\n",
       "  <th>Df Model:</th>              <td>    13</td>      <th>                     </th>     <td> </td>    \n",
       "</tr>\n",
       "<tr>\n",
       "  <th>Covariance Type:</th>      <td>nonrobust</td>    <th>                     </th>     <td> </td>    \n",
       "</tr>\n",
       "</table>\n",
       "<table class=\"simpletable\">\n",
       "<tr>\n",
       "     <td></td>        <th>coef</th>     <th>std err</th>      <th>t</th>      <th>P>|t|</th>  <th>[0.025</th>    <th>0.975]</th>  \n",
       "</tr>\n",
       "<tr>\n",
       "  <th>const</th>   <td>    4.0599</td> <td>    0.227</td> <td>   17.880</td> <td> 0.000</td> <td>    3.614</td> <td>    4.506</td>\n",
       "</tr>\n",
       "<tr>\n",
       "  <th>CRIM</th>    <td>   -0.0107</td> <td>    0.001</td> <td>   -7.971</td> <td> 0.000</td> <td>   -0.013</td> <td>   -0.008</td>\n",
       "</tr>\n",
       "<tr>\n",
       "  <th>ZN</th>      <td>    0.0016</td> <td>    0.001</td> <td>    2.641</td> <td> 0.009</td> <td>    0.000</td> <td>    0.003</td>\n",
       "</tr>\n",
       "<tr>\n",
       "  <th>INDUS</th>   <td>    0.0020</td> <td>    0.003</td> <td>    0.765</td> <td> 0.445</td> <td>   -0.003</td> <td>    0.007</td>\n",
       "</tr>\n",
       "<tr>\n",
       "  <th>CHAS</th>    <td>    0.0803</td> <td>    0.039</td> <td>    2.079</td> <td> 0.038</td> <td>    0.004</td> <td>    0.156</td>\n",
       "</tr>\n",
       "<tr>\n",
       "  <th>NOX</th>     <td>   -0.7041</td> <td>    0.166</td> <td>   -4.245</td> <td> 0.000</td> <td>   -1.030</td> <td>   -0.378</td>\n",
       "</tr>\n",
       "<tr>\n",
       "  <th>RM</th>      <td>    0.0734</td> <td>    0.019</td> <td>    3.910</td> <td> 0.000</td> <td>    0.036</td> <td>    0.110</td>\n",
       "</tr>\n",
       "<tr>\n",
       "  <th>AGE</th>     <td>    0.0008</td> <td>    0.001</td> <td>    1.258</td> <td> 0.209</td> <td>   -0.000</td> <td>    0.002</td>\n",
       "</tr>\n",
       "<tr>\n",
       "  <th>DIS</th>     <td>   -0.0476</td> <td>    0.009</td> <td>   -5.313</td> <td> 0.000</td> <td>   -0.065</td> <td>   -0.030</td>\n",
       "</tr>\n",
       "<tr>\n",
       "  <th>RAD</th>     <td>    0.0146</td> <td>    0.003</td> <td>    5.170</td> <td> 0.000</td> <td>    0.009</td> <td>    0.020</td>\n",
       "</tr>\n",
       "<tr>\n",
       "  <th>TAX</th>     <td>   -0.0006</td> <td>    0.000</td> <td>   -4.095</td> <td> 0.000</td> <td>   -0.001</td> <td>   -0.000</td>\n",
       "</tr>\n",
       "<tr>\n",
       "  <th>PTRATIO</th> <td>   -0.0348</td> <td>    0.006</td> <td>   -5.908</td> <td> 0.000</td> <td>   -0.046</td> <td>   -0.023</td>\n",
       "</tr>\n",
       "<tr>\n",
       "  <th>B</th>       <td>    0.0005</td> <td>    0.000</td> <td>    4.578</td> <td> 0.000</td> <td>    0.000</td> <td>    0.001</td>\n",
       "</tr>\n",
       "<tr>\n",
       "  <th>LSTAT</th>   <td>   -0.0314</td> <td>    0.002</td> <td>  -14.213</td> <td> 0.000</td> <td>   -0.036</td> <td>   -0.027</td>\n",
       "</tr>\n",
       "</table>\n",
       "<table class=\"simpletable\">\n",
       "<tr>\n",
       "  <th>Omnibus:</th>       <td>28.711</td> <th>  Durbin-Watson:     </th> <td>   2.059</td>\n",
       "</tr>\n",
       "<tr>\n",
       "  <th>Prob(Omnibus):</th> <td> 0.000</td> <th>  Jarque-Bera (JB):  </th> <td> 105.952</td>\n",
       "</tr>\n",
       "<tr>\n",
       "  <th>Skew:</th>          <td> 0.093</td> <th>  Prob(JB):          </th> <td>9.84e-24</td>\n",
       "</tr>\n",
       "<tr>\n",
       "  <th>Kurtosis:</th>      <td> 5.502</td> <th>  Cond. No.          </th> <td>1.54e+04</td>\n",
       "</tr>\n",
       "</table><br/><br/>Warnings:<br/>[1] Standard Errors assume that the covariance matrix of the errors is correctly specified.<br/>[2] The condition number is large, 1.54e+04. This might indicate that there are<br/>strong multicollinearity or other numerical problems."
      ],
      "text/plain": [
       "<class 'statsmodels.iolib.summary.Summary'>\n",
       "\"\"\"\n",
       "                            OLS Regression Results                            \n",
       "==============================================================================\n",
       "Dep. Variable:                   MEDV   R-squared:                       0.793\n",
       "Model:                            OLS   Adj. R-squared:                  0.786\n",
       "Method:                 Least Squares   F-statistic:                     114.9\n",
       "Date:                Thu, 30 Sep 2021   Prob (F-statistic):          1.70e-124\n",
       "Time:                        14:32:46   Log-Likelihood:                 111.88\n",
       "No. Observations:                 404   AIC:                            -195.8\n",
       "Df Residuals:                     390   BIC:                            -139.7\n",
       "Df Model:                          13                                         \n",
       "Covariance Type:            nonrobust                                         \n",
       "==============================================================================\n",
       "                 coef    std err          t      P>|t|      [0.025      0.975]\n",
       "------------------------------------------------------------------------------\n",
       "const          4.0599      0.227     17.880      0.000       3.614       4.506\n",
       "CRIM          -0.0107      0.001     -7.971      0.000      -0.013      -0.008\n",
       "ZN             0.0016      0.001      2.641      0.009       0.000       0.003\n",
       "INDUS          0.0020      0.003      0.765      0.445      -0.003       0.007\n",
       "CHAS           0.0803      0.039      2.079      0.038       0.004       0.156\n",
       "NOX           -0.7041      0.166     -4.245      0.000      -1.030      -0.378\n",
       "RM             0.0734      0.019      3.910      0.000       0.036       0.110\n",
       "AGE            0.0008      0.001      1.258      0.209      -0.000       0.002\n",
       "DIS           -0.0476      0.009     -5.313      0.000      -0.065      -0.030\n",
       "RAD            0.0146      0.003      5.170      0.000       0.009       0.020\n",
       "TAX           -0.0006      0.000     -4.095      0.000      -0.001      -0.000\n",
       "PTRATIO       -0.0348      0.006     -5.908      0.000      -0.046      -0.023\n",
       "B              0.0005      0.000      4.578      0.000       0.000       0.001\n",
       "LSTAT         -0.0314      0.002    -14.213      0.000      -0.036      -0.027\n",
       "==============================================================================\n",
       "Omnibus:                       28.711   Durbin-Watson:                   2.059\n",
       "Prob(Omnibus):                  0.000   Jarque-Bera (JB):              105.952\n",
       "Skew:                           0.093   Prob(JB):                     9.84e-24\n",
       "Kurtosis:                       5.502   Cond. No.                     1.54e+04\n",
       "==============================================================================\n",
       "\n",
       "Warnings:\n",
       "[1] Standard Errors assume that the covariance matrix of the errors is correctly specified.\n",
       "[2] The condition number is large, 1.54e+04. This might indicate that there are\n",
       "strong multicollinearity or other numerical problems.\n",
       "\"\"\""
      ]
     },
     "execution_count": 7,
     "metadata": {},
     "output_type": "execute_result"
    }
   ],
   "source": [
    "results.summary()"
   ]
  },
  {
   "cell_type": "markdown",
   "metadata": {},
   "source": [
    "| **Variable** | **Description** |\n",
    "| :- | :-: |\n",
    "| **Dep. Variable** | Dependent variable or target variable. |\n",
    "| **Model / Method** | Method used to fit the data to the model. |\n",
    "| **No. Observations** | Number of observations. |\n",
    "| **DF Residuals** | Degrees of freedom of the residuals. Calculated by taking the <br>number of observations less the number of parameters.|\n",
    "| **DF Model** | Number of estimated parameters in the model.<br>In this case 13. The constant term is not included. |\n",
    "| **R-squared** | Coefficient of determination. Measure of goodness of fit.<br>$$R^2=1-\\frac{SS_{res}}{SS_{tot}}$$ |\n",
    "| **Adj. R-squared** | Coefficient of determination adjusted by sample size and the number of parameters used.<br> $$\\bar{R}^2=1-(1-R^2)\\frac{n-1}{n-p-1}$$<br>$p$ = The total number of explanatory variables not including the constant term<br>$n$ = The sample size|\n",
    "| **F-statistic** | Measure that tells you if the model is different from a simple average. |\n",
    "| **Prob (F-statistic)** | Measures the significance of your F-statistic. Also called p-value of F-statistic. In statistics, p-value equal or lower than 0.05 is considered significant. |\n",
    "| **AIC** | Akaike Information Criterion. It evaluates the model based on the model complexity and number of observations. The lower the better. |\n",
    "| **BIC** | Bayesian Information Criterion. Similar to AIC, except it punishes models with more parameters. |\n",
    "| **coef** | Estimated coefficient. Note that this is just a point estimate. |\n",
    "| **std err** | Standard error (or standard deviation) of the estimate of the coefficient. |\n",
    "| **t** | The t-statistic score. |\n",
    "| **P > |t|** |  A measure of the probability that the coefficient is different from zero. |\n",
    "| **[95.0% Conf. Interval]** | The 95% confidence interval of the coefficient. |\n",
    "| **Omnibus D'Angostino's test** | A combined statistical test for skewness and kurtosis. |\n",
    "| **Prob(Omnibus)** | p-value of Omnibus test. |\n",
    "| **Skewness** | Measure of the symmetry of the residuals around the mean. Zero if symmetrical. A positive value indicates a long tail to the right; a negative value a long tail to the left. |\n",
    "| **Kurtosis** | Measure of the shape of the distribution of the residuals. A normal distribution has a zero measure. A negative value points to a flatter than normal distribution; a positive one has a higher peak than normal distribution. |\n",
    "| **Durbin-Watson** | Test for the presence of correlation among the residuals. This is especially important for time series modelling. |\n",
    "| **Jarque-Bera** | Combined statistical test of skewness and kurtosis. |\n",
    "| **Prob (JB)** | p-value of Jarque-Bera. |\n",
    "| **Cond. No** | Test for multicollinearity. > 30 indicates unstable results |"
   ]
  },
  {
   "cell_type": "markdown",
   "metadata": {
    "colab_type": "text",
    "id": "u8eqePlyE0VQ"
   },
   "source": [
    "<a id='eigen'></a>\n",
    "### <u>Detecting Collinearity with Eigenvectors<u/>"
   ]
  },
  {
   "cell_type": "code",
   "execution_count": 8,
   "metadata": {
    "colab": {},
    "colab_type": "code",
    "id": "pKji601zE0VR"
   },
   "outputs": [],
   "source": [
    "eigenvalues, eigenvectors = np.linalg.eig(df.corr())"
   ]
  },
  {
   "cell_type": "code",
   "execution_count": 9,
   "metadata": {
    "colab": {
     "base_uri": "https://localhost:8080/"
    },
    "colab_type": "code",
    "id": "brtV_gOdE0VS",
    "outputId": "53b37819-533f-4fa7-aed4-42f765590d53"
   },
   "outputs": [
    {
     "data": {
      "text/plain": [
       "8    0.0603\n",
       "9    0.1340\n",
       "12   0.1830\n",
       "13   0.2128\n",
       "11   0.2523\n",
       "10   0.2773\n",
       "7    0.4031\n",
       "6    0.5354\n",
       "5    0.6600\n",
       "4    0.8509\n",
       "3    0.8865\n",
       "2    1.3489\n",
       "1    1.6495\n",
       "0    6.5460\n",
       "dtype: float64"
      ]
     },
     "execution_count": 9,
     "metadata": {},
     "output_type": "execute_result"
    }
   ],
   "source": [
    "pd.options.display.float_format = '{:,.4f}'.format\n",
    "pd.Series(eigenvalues).sort_values()"
   ]
  },
  {
   "cell_type": "markdown",
   "metadata": {
    "colab_type": "text",
    "id": "lv9JHKIAE0VU"
   },
   "source": [
    "Note that index 8, eigenvalue of 0.0603, is near to zero or very small compared to the others. Small value represents presence of collinearity. "
   ]
  },
  {
   "cell_type": "code",
   "execution_count": 10,
   "metadata": {
    "colab": {
     "base_uri": "https://localhost:8080/"
    },
    "colab_type": "code",
    "id": "ggR1QNcrE0VU",
    "outputId": "29ac0ffe-db0b-4452-a08d-db89727617d3",
    "scrolled": true
   },
   "outputs": [
    {
     "data": {
      "text/plain": [
       "9    0.6988\n",
       "8    0.6350\n",
       "2    0.2355\n",
       "13   0.1341\n",
       "1    0.0963\n",
       "4    0.0876\n",
       "12   0.0831\n",
       "0    0.0591\n",
       "10   0.0557\n",
       "7    0.0471\n",
       "6    0.0382\n",
       "3    0.0235\n",
       "11   0.0162\n",
       "5    0.0072\n",
       "dtype: float64"
      ]
     },
     "execution_count": 10,
     "metadata": {},
     "output_type": "execute_result"
    }
   ],
   "source": [
    "np.abs(pd.Series(eigenvectors[:,8])).sort_values(ascending=False)"
   ]
  },
  {
   "cell_type": "markdown",
   "metadata": {
    "colab_type": "text",
    "id": "WT3D6A04E0VV"
   },
   "source": [
    "Note that index 9, 8, 2 have very high loading when compared against the rest"
   ]
  },
  {
   "cell_type": "code",
   "execution_count": 11,
   "metadata": {
    "colab": {
     "base_uri": "https://localhost:8080/"
    },
    "colab_type": "code",
    "id": "IFjNSFTxE0VW",
    "outputId": "f8279c6c-43c4-4e89-d440-3cb53882c32a"
   },
   "outputs": [
    {
     "name": "stdout",
     "output_type": "stream",
     "text": [
      "INDUS RAD TAX\n"
     ]
    }
   ],
   "source": [
    "print(df.columns[2], df.columns[8], df.columns[9])"
   ]
  },
  {
   "cell_type": "markdown",
   "metadata": {
    "colab_type": "text",
    "id": "Ez-86741E0VY"
   },
   "source": [
    "These are the factors that are causing multicollinearity problem."
   ]
  },
  {
   "cell_type": "code",
   "execution_count": 12,
   "metadata": {},
   "outputs": [],
   "source": [
    "def eigens(features):\n",
    "    eigenvalues, eigenvectors = np.linalg.eig(features.corr())\n",
    "    \n",
    "    pd.options.display.float_format = '{:,.4f}'.format\n",
    "    sorted_eigen = pd.Series(eigenvalues).sort_values()\n",
    "    sorted_vector = np.abs(pd.Series(eigenvectors)).sort_values(ascending=False)\n",
    "    return sorted_eigen, sorted_vector"
   ]
  },
  {
   "cell_type": "markdown",
   "metadata": {},
   "source": [
    "<a id='multi'></a>\n",
    "### <u>Testing for Multicollinearity<u/>\n",
    "\n",
    "$$ TAX = \\alpha _0 + \\alpha _1 RM + \\alpha _2 NOX + ... + \\alpha _{12}LSTAT $$\n",
    "\n",
    "$$ VIF _{TAX} = \\frac{1}{(1 - R _{TAX} ^ 2)} $$"
   ]
  },
  {
   "cell_type": "code",
   "execution_count": 13,
   "metadata": {},
   "outputs": [
    {
     "data": {
      "text/plain": [
       "1.7145250443932485"
      ]
     },
     "execution_count": 13,
     "metadata": {},
     "output_type": "execute_result"
    }
   ],
   "source": [
    "variance_inflation_factor(exog=X_incl_const.values, exog_idx=1)\n",
    "#type(X_incl_const)"
   ]
  },
  {
   "cell_type": "code",
   "execution_count": 14,
   "metadata": {},
   "outputs": [
    {
     "data": {
      "text/plain": [
       "14"
      ]
     },
     "execution_count": 14,
     "metadata": {},
     "output_type": "execute_result"
    }
   ],
   "source": [
    "# Challenge: print out the number of columns in X_incl_const\n",
    "len(X_incl_const.columns)\n",
    "X_incl_const.shape[1]"
   ]
  },
  {
   "cell_type": "code",
   "execution_count": 15,
   "metadata": {},
   "outputs": [
    {
     "name": "stdout",
     "output_type": "stream",
     "text": [
      "597.5487126763895\n",
      "1.7145250443932485\n",
      "2.3328224265597597\n",
      "3.943448822674636\n",
      "1.0788133385000576\n",
      "4.410320817897635\n",
      "1.8404053075678573\n",
      "3.3267660823099394\n",
      "4.222923410477865\n",
      "7.314299817005058\n",
      "8.508856493040817\n",
      "1.8399116326514058\n",
      "1.338671325536472\n",
      "2.812544292793036\n",
      "All done!\n"
     ]
    }
   ],
   "source": [
    "# Challenge: write a for loop that prints out all the VIFs for all the features\n",
    "for i in range(X_incl_const.shape[1]):\n",
    "    print(variance_inflation_factor(exog=X_incl_const.values, exog_idx=i))\n",
    "print('All done!')"
   ]
  },
  {
   "cell_type": "code",
   "execution_count": 16,
   "metadata": {},
   "outputs": [
    {
     "name": "stdout",
     "output_type": "stream",
     "text": [
      "[597.5487126763895, 1.7145250443932485, 2.3328224265597597, 3.943448822674636, 1.0788133385000576, 4.410320817897635, 1.8404053075678573, 3.3267660823099394, 4.222923410477865, 7.314299817005058, 8.508856493040817, 1.8399116326514058, 1.338671325536472, 2.812544292793036]\n"
     ]
    }
   ],
   "source": [
    "vif = [] # empty list\n",
    "for i in range(X_incl_const.shape[1]):\n",
    "    vif.append(variance_inflation_factor(exog=X_incl_const.values, exog_idx=i))\n",
    "print(vif)"
   ]
  },
  {
   "cell_type": "code",
   "execution_count": 17,
   "metadata": {},
   "outputs": [
    {
     "data": {
      "text/html": [
       "<div>\n",
       "<style scoped>\n",
       "    .dataframe tbody tr th:only-of-type {\n",
       "        vertical-align: middle;\n",
       "    }\n",
       "\n",
       "    .dataframe tbody tr th {\n",
       "        vertical-align: top;\n",
       "    }\n",
       "\n",
       "    .dataframe thead th {\n",
       "        text-align: right;\n",
       "    }\n",
       "</style>\n",
       "<table border=\"1\" class=\"dataframe\">\n",
       "  <thead>\n",
       "    <tr style=\"text-align: right;\">\n",
       "      <th></th>\n",
       "      <th>vif</th>\n",
       "    </tr>\n",
       "    <tr>\n",
       "      <th>coef_name</th>\n",
       "      <th></th>\n",
       "    </tr>\n",
       "  </thead>\n",
       "  <tbody>\n",
       "    <tr>\n",
       "      <th>const</th>\n",
       "      <td>597.5500</td>\n",
       "    </tr>\n",
       "    <tr>\n",
       "      <th>CRIM</th>\n",
       "      <td>1.7100</td>\n",
       "    </tr>\n",
       "    <tr>\n",
       "      <th>ZN</th>\n",
       "      <td>2.3300</td>\n",
       "    </tr>\n",
       "    <tr>\n",
       "      <th>INDUS</th>\n",
       "      <td>3.9400</td>\n",
       "    </tr>\n",
       "    <tr>\n",
       "      <th>CHAS</th>\n",
       "      <td>1.0800</td>\n",
       "    </tr>\n",
       "    <tr>\n",
       "      <th>NOX</th>\n",
       "      <td>4.4100</td>\n",
       "    </tr>\n",
       "    <tr>\n",
       "      <th>RM</th>\n",
       "      <td>1.8400</td>\n",
       "    </tr>\n",
       "    <tr>\n",
       "      <th>AGE</th>\n",
       "      <td>3.3300</td>\n",
       "    </tr>\n",
       "    <tr>\n",
       "      <th>DIS</th>\n",
       "      <td>4.2200</td>\n",
       "    </tr>\n",
       "    <tr>\n",
       "      <th>RAD</th>\n",
       "      <td>7.3100</td>\n",
       "    </tr>\n",
       "    <tr>\n",
       "      <th>TAX</th>\n",
       "      <td>8.5100</td>\n",
       "    </tr>\n",
       "    <tr>\n",
       "      <th>PTRATIO</th>\n",
       "      <td>1.8400</td>\n",
       "    </tr>\n",
       "    <tr>\n",
       "      <th>B</th>\n",
       "      <td>1.3400</td>\n",
       "    </tr>\n",
       "    <tr>\n",
       "      <th>LSTAT</th>\n",
       "      <td>2.8100</td>\n",
       "    </tr>\n",
       "  </tbody>\n",
       "</table>\n",
       "</div>"
      ],
      "text/plain": [
       "               vif\n",
       "coef_name         \n",
       "const     597.5500\n",
       "CRIM        1.7100\n",
       "ZN          2.3300\n",
       "INDUS       3.9400\n",
       "CHAS        1.0800\n",
       "NOX         4.4100\n",
       "RM          1.8400\n",
       "AGE         3.3300\n",
       "DIS         4.2200\n",
       "RAD         7.3100\n",
       "TAX         8.5100\n",
       "PTRATIO     1.8400\n",
       "B           1.3400\n",
       "LSTAT       2.8100"
      ]
     },
     "execution_count": 17,
     "metadata": {},
     "output_type": "execute_result"
    }
   ],
   "source": [
    "vif = [variance_inflation_factor(exog=X_incl_const.values, \n",
    "                                 exog_idx=i) for i in range(X_incl_const.shape[1])]\n",
    "\n",
    "pd.DataFrame({'coef_name': X_incl_const.columns, \n",
    "             'vif': np.around(vif, 2)}).set_index('coef_name')"
   ]
  },
  {
   "cell_type": "markdown",
   "metadata": {},
   "source": [
    "## Model Simplification & the BIC"
   ]
  },
  {
   "cell_type": "code",
   "execution_count": 18,
   "metadata": {},
   "outputs": [
    {
     "name": "stdout",
     "output_type": "stream",
     "text": [
      "BIC is -139.74997769478898\n",
      "r-squared is 0.7930234826697584\n"
     ]
    }
   ],
   "source": [
    "# Original model with log prices and all features\n",
    "\n",
    "X_incl_const = sm.add_constant(X_train)\n",
    "\n",
    "model = sm.OLS(y_train, X_incl_const)\n",
    "results = model.fit()\n",
    "\n",
    "org_coef = pd.DataFrame({'coef': results.params, 'p-value': round(results.pvalues, 3)})\n",
    "\n",
    "# Challenge: find and check official docs for results object and print out BIC & r-squared\n",
    "print('BIC is', results.bic)\n",
    "print('r-squared is', results.rsquared)"
   ]
  },
  {
   "cell_type": "code",
   "execution_count": 19,
   "metadata": {},
   "outputs": [
    {
     "name": "stdout",
     "output_type": "stream",
     "text": [
      "BIC is -145.14508855591163\n",
      "r-squared is 0.7927126289415163\n"
     ]
    }
   ],
   "source": [
    "# Reduced model #1 excluding INDUS\n",
    "X_incl_const = sm.add_constant(X_train)\n",
    "X_incl_const = X_incl_const.drop(['INDUS'], axis=1)\n",
    "\n",
    "model = sm.OLS(y_train, X_incl_const)\n",
    "results = model.fit()\n",
    "\n",
    "coef_minus_indus = pd.DataFrame({'coef': results.params, 'p-value': round(results.pvalues, 3)})\n",
    "\n",
    "print('BIC is', results.bic)\n",
    "print('r-squared is', results.rsquared)"
   ]
  },
  {
   "cell_type": "code",
   "execution_count": 20,
   "metadata": {},
   "outputs": [
    {
     "name": "stdout",
     "output_type": "stream",
     "text": [
      "BIC is -149.49934294224678\n",
      "r-squared is 0.7918657661852815\n"
     ]
    }
   ],
   "source": [
    "# Reduced model #2 excluding INDUS and AGE\n",
    "X_incl_const = sm.add_constant(X_train)\n",
    "X_incl_const = X_incl_const.drop(['INDUS', 'AGE'], axis=1)\n",
    "\n",
    "model = sm.OLS(y_train, X_incl_const)\n",
    "results = model.fit()\n",
    "\n",
    "reduced_coef = pd.DataFrame({'coef': results.params, 'p-value': round(results.pvalues, 3)})\n",
    "\n",
    "print('BIC is', results.bic)\n",
    "print('r-squared is', results.rsquared)"
   ]
  },
  {
   "cell_type": "code",
   "execution_count": 21,
   "metadata": {
    "scrolled": true
   },
   "outputs": [
    {
     "data": {
      "text/html": [
       "<div>\n",
       "<style scoped>\n",
       "    .dataframe tbody tr th:only-of-type {\n",
       "        vertical-align: middle;\n",
       "    }\n",
       "\n",
       "    .dataframe tbody tr th {\n",
       "        vertical-align: top;\n",
       "    }\n",
       "\n",
       "    .dataframe thead th {\n",
       "        text-align: right;\n",
       "    }\n",
       "</style>\n",
       "<table border=\"1\" class=\"dataframe\">\n",
       "  <thead>\n",
       "    <tr style=\"text-align: right;\">\n",
       "      <th></th>\n",
       "      <th>coef</th>\n",
       "      <th>p-value</th>\n",
       "      <th>coef</th>\n",
       "      <th>p-value</th>\n",
       "      <th>coef</th>\n",
       "      <th>p-value</th>\n",
       "    </tr>\n",
       "  </thead>\n",
       "  <tbody>\n",
       "    <tr>\n",
       "      <th>const</th>\n",
       "      <td>4.0599</td>\n",
       "      <td>0.0000</td>\n",
       "      <td>4.0562</td>\n",
       "      <td>0.0000</td>\n",
       "      <td>4.0359</td>\n",
       "      <td>0.0000</td>\n",
       "    </tr>\n",
       "    <tr>\n",
       "      <th>CRIM</th>\n",
       "      <td>-0.0107</td>\n",
       "      <td>0.0000</td>\n",
       "      <td>-0.0107</td>\n",
       "      <td>0.0000</td>\n",
       "      <td>-0.0107</td>\n",
       "      <td>0.0000</td>\n",
       "    </tr>\n",
       "    <tr>\n",
       "      <th>ZN</th>\n",
       "      <td>0.0016</td>\n",
       "      <td>0.0090</td>\n",
       "      <td>0.0016</td>\n",
       "      <td>0.0100</td>\n",
       "      <td>0.0015</td>\n",
       "      <td>0.0140</td>\n",
       "    </tr>\n",
       "    <tr>\n",
       "      <th>INDUS</th>\n",
       "      <td>0.0020</td>\n",
       "      <td>0.4450</td>\n",
       "      <td>nan</td>\n",
       "      <td>nan</td>\n",
       "      <td>nan</td>\n",
       "      <td>nan</td>\n",
       "    </tr>\n",
       "    <tr>\n",
       "      <th>CHAS</th>\n",
       "      <td>0.0803</td>\n",
       "      <td>0.0380</td>\n",
       "      <td>0.0828</td>\n",
       "      <td>0.0320</td>\n",
       "      <td>0.0864</td>\n",
       "      <td>0.0250</td>\n",
       "    </tr>\n",
       "    <tr>\n",
       "      <th>NOX</th>\n",
       "      <td>-0.7041</td>\n",
       "      <td>0.0000</td>\n",
       "      <td>-0.6734</td>\n",
       "      <td>0.0000</td>\n",
       "      <td>-0.6164</td>\n",
       "      <td>0.0000</td>\n",
       "    </tr>\n",
       "    <tr>\n",
       "      <th>RM</th>\n",
       "      <td>0.0734</td>\n",
       "      <td>0.0000</td>\n",
       "      <td>0.0717</td>\n",
       "      <td>0.0000</td>\n",
       "      <td>0.0761</td>\n",
       "      <td>0.0000</td>\n",
       "    </tr>\n",
       "    <tr>\n",
       "      <th>AGE</th>\n",
       "      <td>0.0008</td>\n",
       "      <td>0.2090</td>\n",
       "      <td>0.0008</td>\n",
       "      <td>0.2070</td>\n",
       "      <td>nan</td>\n",
       "      <td>nan</td>\n",
       "    </tr>\n",
       "    <tr>\n",
       "      <th>DIS</th>\n",
       "      <td>-0.0476</td>\n",
       "      <td>0.0000</td>\n",
       "      <td>-0.0494</td>\n",
       "      <td>0.0000</td>\n",
       "      <td>-0.0527</td>\n",
       "      <td>0.0000</td>\n",
       "    </tr>\n",
       "    <tr>\n",
       "      <th>RAD</th>\n",
       "      <td>0.0146</td>\n",
       "      <td>0.0000</td>\n",
       "      <td>0.0140</td>\n",
       "      <td>0.0000</td>\n",
       "      <td>0.0137</td>\n",
       "      <td>0.0000</td>\n",
       "    </tr>\n",
       "    <tr>\n",
       "      <th>TAX</th>\n",
       "      <td>-0.0006</td>\n",
       "      <td>0.0000</td>\n",
       "      <td>-0.0006</td>\n",
       "      <td>0.0000</td>\n",
       "      <td>-0.0006</td>\n",
       "      <td>0.0000</td>\n",
       "    </tr>\n",
       "    <tr>\n",
       "      <th>PTRATIO</th>\n",
       "      <td>-0.0348</td>\n",
       "      <td>0.0000</td>\n",
       "      <td>-0.0341</td>\n",
       "      <td>0.0000</td>\n",
       "      <td>-0.0335</td>\n",
       "      <td>0.0000</td>\n",
       "    </tr>\n",
       "    <tr>\n",
       "      <th>B</th>\n",
       "      <td>0.0005</td>\n",
       "      <td>0.0000</td>\n",
       "      <td>0.0005</td>\n",
       "      <td>0.0000</td>\n",
       "      <td>0.0005</td>\n",
       "      <td>0.0000</td>\n",
       "    </tr>\n",
       "    <tr>\n",
       "      <th>LSTAT</th>\n",
       "      <td>-0.0314</td>\n",
       "      <td>0.0000</td>\n",
       "      <td>-0.0313</td>\n",
       "      <td>0.0000</td>\n",
       "      <td>-0.0303</td>\n",
       "      <td>0.0000</td>\n",
       "    </tr>\n",
       "  </tbody>\n",
       "</table>\n",
       "</div>"
      ],
      "text/plain": [
       "           coef  p-value    coef  p-value    coef  p-value\n",
       "const    4.0599   0.0000  4.0562   0.0000  4.0359   0.0000\n",
       "CRIM    -0.0107   0.0000 -0.0107   0.0000 -0.0107   0.0000\n",
       "ZN       0.0016   0.0090  0.0016   0.0100  0.0015   0.0140\n",
       "INDUS    0.0020   0.4450     nan      nan     nan      nan\n",
       "CHAS     0.0803   0.0380  0.0828   0.0320  0.0864   0.0250\n",
       "NOX     -0.7041   0.0000 -0.6734   0.0000 -0.6164   0.0000\n",
       "RM       0.0734   0.0000  0.0717   0.0000  0.0761   0.0000\n",
       "AGE      0.0008   0.2090  0.0008   0.2070     nan      nan\n",
       "DIS     -0.0476   0.0000 -0.0494   0.0000 -0.0527   0.0000\n",
       "RAD      0.0146   0.0000  0.0140   0.0000  0.0137   0.0000\n",
       "TAX     -0.0006   0.0000 -0.0006   0.0000 -0.0006   0.0000\n",
       "PTRATIO -0.0348   0.0000 -0.0341   0.0000 -0.0335   0.0000\n",
       "B        0.0005   0.0000  0.0005   0.0000  0.0005   0.0000\n",
       "LSTAT   -0.0314   0.0000 -0.0313   0.0000 -0.0303   0.0000"
      ]
     },
     "execution_count": 21,
     "metadata": {},
     "output_type": "execute_result"
    }
   ],
   "source": [
    "frames = [org_coef, coef_minus_indus, reduced_coef]\n",
    "pd.concat(frames, axis=1)"
   ]
  },
  {
   "cell_type": "markdown",
   "metadata": {
    "collapsed": true
   },
   "source": [
    "<a id='resplot'></a>\n",
    "### <u>Residuals & Residual Plots<u/>"
   ]
  },
  {
   "cell_type": "code",
   "execution_count": 22,
   "metadata": {},
   "outputs": [
    {
     "data": {
      "image/png": "[encoded data removed]",
      "text/plain": [
       "<Figure size 432x288 with 1 Axes>"
      ]
     },
     "metadata": {
      "needs_background": "light"
     },
     "output_type": "display_data"
    },
    {
     "data": {
      "image/png": "[encoded data removed]",
      "text/plain": [
       "<Figure size 432x288 with 1 Axes>"
      ]
     },
     "metadata": {
      "needs_background": "light"
     },
     "output_type": "display_data"
    },
    {
     "data": {
      "image/png": "[encoded data removed]",
      "text/plain": [
       "<Figure size 432x288 with 1 Axes>"
      ]
     },
     "metadata": {
      "needs_background": "light"
     },
     "output_type": "display_data"
    }
   ],
   "source": [
    "# Modified model: transformed (using log prices) & simplified (dropping two features)\n",
    "prices = np.log(df['MEDV']) # Use log prices\n",
    "features = df.drop(['MEDV', 'INDUS', 'AGE'], axis=1)\n",
    "\n",
    "X_train, X_test, y_train, y_test = train_test_split(features, prices, \n",
    "                                                    test_size=0.2, random_state=10)\n",
    "\n",
    "# Using Statsmodel\n",
    "X_incl_const = sm.add_constant(X_train)\n",
    "model = sm.OLS(y_train, X_incl_const)\n",
    "results = model.fit()\n",
    "\n",
    "# Residuals\n",
    "# residuals = y_train - results.fittedvalues\n",
    "# residuals.describe()\n",
    "# results.resid\n",
    "\n",
    "# Graph of Actual vs. Predicted Prices\n",
    "corr = round(y_train.corr(results.fittedvalues), 2)\n",
    "plt.scatter(x=y_train, y=results.fittedvalues, c='navy', alpha=0.6)\n",
    "plt.plot(y_train, y_train, color='cyan')\n",
    "\n",
    "plt.xlabel('Actual log prices $y _i$', fontsize=14)\n",
    "plt.ylabel('Prediced log prices $\\hat y _i$', fontsize=14)\n",
    "plt.title(f'Actual vs Predicted log prices: $y _i$ vs $\\hat y_i$ (Corr {corr})', fontsize=17)\n",
    "\n",
    "plt.show()\n",
    "\n",
    "plt.scatter(x=np.e**y_train, y=np.e**results.fittedvalues, c='blue', alpha=0.6)\n",
    "plt.plot(np.e**y_train, np.e**y_train, color='cyan')\n",
    "\n",
    "plt.xlabel('Actual prices 000s $y _i$', fontsize=14)\n",
    "plt.ylabel('Prediced prices 000s $\\hat y _i$', fontsize=14)\n",
    "plt.title(f'Actual vs Predicted prices: $y _i$ vs $\\hat y_i$ (Corr {corr})', fontsize=17)\n",
    "\n",
    "plt.show()\n",
    "\n",
    "# Residuals vs Predicted values\n",
    "\n",
    "plt.scatter(x=results.fittedvalues, y=results.resid, c='navy', alpha=0.6)\n",
    "\n",
    "plt.xlabel('Predicted log prices $\\hat y _i$', fontsize=14)\n",
    "plt.ylabel('Residuals', fontsize=14)\n",
    "plt.title('Residuals vs Fitted Values', fontsize=17)\n",
    "\n",
    "plt.show()\n",
    "\n",
    "# Mean Squared Error & R-Squared\n",
    "reduced_log_mse = round(results.mse_resid, 3)\n",
    "reduced_log_rsquared = round(results.rsquared, 3)"
   ]
  },
  {
   "cell_type": "code",
   "execution_count": 23,
   "metadata": {},
   "outputs": [
    {
     "data": {
      "image/png": "[encoded data removed]",
      "text/plain": [
       "<Figure size 432x288 with 1 Axes>"
      ]
     },
     "metadata": {
      "needs_background": "light"
     },
     "output_type": "display_data"
    }
   ],
   "source": [
    "# Distribution of Residuals (log prices) - checking for normality\n",
    "resid_mean = round(results.resid.mean(), 3)\n",
    "resid_skew = round(results.resid.skew(), 3)\n",
    "\n",
    "sns.distplot(results.resid, color='navy')\n",
    "plt.title(f'Log price model: residuals Skew ({resid_skew}) Mean ({resid_mean})')\n",
    "plt.show()"
   ]
  },
  {
   "cell_type": "code",
   "execution_count": 24,
   "metadata": {},
   "outputs": [],
   "source": [
    "# Challenge: Using the original model with all the features and normal prices generate:\n",
    "# Plot of actual vs predicted prices (incl. correlation) using a different colour\n",
    "# Plot of residuals vs. predicted prices\n",
    "# Plot of distribution of residuals (incl. skew)\n",
    "# Analyse the results. "
   ]
  },
  {
   "cell_type": "code",
   "execution_count": 25,
   "metadata": {},
   "outputs": [
    {
     "data": {
      "image/png": "[encoded data removed]",
      "text/plain": [
       "<Figure size 432x288 with 1 Axes>"
      ]
     },
     "metadata": {
      "needs_background": "light"
     },
     "output_type": "display_data"
    },
    {
     "data": {
      "image/png": "[encoded data removed]",
      "text/plain": [
       "<Figure size 432x288 with 1 Axes>"
      ]
     },
     "metadata": {
      "needs_background": "light"
     },
     "output_type": "display_data"
    },
    {
     "data": {
      "image/png": "[encoded data removed]",
      "text/plain": [
       "<Figure size 432x288 with 1 Axes>"
      ]
     },
     "metadata": {
      "needs_background": "light"
     },
     "output_type": "display_data"
    }
   ],
   "source": [
    "# Original model: normal prices & all features\n",
    "prices = df['MEDV']\n",
    "features =df.drop(['MEDV'], axis=1)\n",
    "\n",
    "X_train, X_test, y_train, y_test = train_test_split(features, prices, \n",
    "                                                    test_size=0.2, random_state=10)\n",
    "\n",
    "X_incl_const = sm.add_constant(X_train)\n",
    "model = sm.OLS(y_train, X_incl_const)\n",
    "results = model.fit()\n",
    "\n",
    "# Graph of Actual vs. Predicted Prices\n",
    "corr = round(y_train.corr(results.fittedvalues), 2)\n",
    "plt.scatter(x=y_train, y=results.fittedvalues, c='indigo', alpha=0.6)\n",
    "plt.plot(y_train, y_train, color='cyan')\n",
    "\n",
    "plt.xlabel('Actual prices 000s $y _i$', fontsize=14)\n",
    "plt.ylabel('Prediced prices 000s $\\hat y _i$', fontsize=14)\n",
    "plt.title(f'Actual vs Predicted prices: $y _i$ vs $\\hat y_i$ (Corr {corr})', fontsize=17)\n",
    "\n",
    "plt.show()\n",
    "\n",
    "# Residuals vs Predicted values\n",
    "plt.scatter(x=results.fittedvalues, y=results.resid, c='indigo', alpha=0.6)\n",
    "\n",
    "plt.xlabel('Predicted prices $\\hat y _i$', fontsize=14)\n",
    "plt.ylabel('Residuals', fontsize=14)\n",
    "plt.title('Residuals vs Fitted Values', fontsize=17)\n",
    "\n",
    "plt.show()\n",
    "\n",
    "# Residual Distribution Chart\n",
    "resid_mean = round(results.resid.mean(), 3)\n",
    "resid_skew = round(results.resid.skew(), 3)\n",
    "\n",
    "sns.distplot(results.resid, color='indigo')\n",
    "plt.title(f'Residuals Skew ({resid_skew}) Mean ({resid_mean})')\n",
    "plt.show()\n",
    "\n",
    "# Mean Squared Error & R-Squared\n",
    "full_normal_mse = round(results.mse_resid, 3)\n",
    "full_normal_rsquared = round(results.rsquared, 3)"
   ]
  },
  {
   "cell_type": "code",
   "execution_count": 26,
   "metadata": {},
   "outputs": [
    {
     "data": {
      "image/png": "[encoded data removed]",
      "text/plain": [
       "<Figure size 432x288 with 1 Axes>"
      ]
     },
     "metadata": {
      "needs_background": "light"
     },
     "output_type": "display_data"
    },
    {
     "data": {
      "image/png": "[encoded data removed]",
      "text/plain": [
       "<Figure size 432x288 with 1 Axes>"
      ]
     },
     "metadata": {
      "needs_background": "light"
     },
     "output_type": "display_data"
    }
   ],
   "source": [
    "# Model Omitting Key Features using log prices\n",
    "prices = np.log(df['MEDV'])\n",
    "features = df.drop(['MEDV', 'INDUS', 'AGE', 'LSTAT', 'RM', 'NOX', 'CRIM'], axis=1)\n",
    "\n",
    "X_train, X_test, y_train, y_test = train_test_split(features, prices, \n",
    "                                                    test_size=0.2, random_state=10)\n",
    "\n",
    "X_incl_const = sm.add_constant(X_train)\n",
    "model = sm.OLS(y_train, X_incl_const)\n",
    "results = model.fit()\n",
    "\n",
    "# Graph of Actual vs. Predicted Prices\n",
    "corr = round(y_train.corr(results.fittedvalues), 2)\n",
    "plt.scatter(x=y_train, y=results.fittedvalues, c='#e74c3c', alpha=0.6)\n",
    "plt.plot(y_train, y_train, color='cyan')\n",
    "\n",
    "plt.xlabel('Actual log prices $y _i$', fontsize=14)\n",
    "plt.ylabel('Predicted log prices $\\hat y _i$', fontsize=14)\n",
    "plt.title(f'Actual vs Predicted prices with omitted variables: $y _i$ vs $\\hat y_i$ (Corr {corr})', fontsize=17)\n",
    "\n",
    "plt.show()\n",
    "\n",
    "# Residuals vs Predicted values\n",
    "plt.scatter(x=results.fittedvalues, y=results.resid, c='#e74c3c', alpha=0.6)\n",
    "\n",
    "plt.xlabel('Predicted prices $\\hat y _i$', fontsize=14)\n",
    "plt.ylabel('Residuals', fontsize=14)\n",
    "plt.title('Residuals vs Fitted Values', fontsize=17)\n",
    "\n",
    "plt.show()\n",
    "\n",
    "# Mean Squared Error & R-Squared\n",
    "omitted_var_mse = round(results.mse_resid, 3)\n",
    "omitted_var_rsquared = round(results.rsquared, 3)"
   ]
  },
  {
   "cell_type": "code",
   "execution_count": 27,
   "metadata": {},
   "outputs": [
    {
     "data": {
      "text/html": [
       "<div>\n",
       "<style scoped>\n",
       "    .dataframe tbody tr th:only-of-type {\n",
       "        vertical-align: middle;\n",
       "    }\n",
       "\n",
       "    .dataframe tbody tr th {\n",
       "        vertical-align: top;\n",
       "    }\n",
       "\n",
       "    .dataframe thead th {\n",
       "        text-align: right;\n",
       "    }\n",
       "</style>\n",
       "<table border=\"1\" class=\"dataframe\">\n",
       "  <thead>\n",
       "    <tr style=\"text-align: right;\">\n",
       "      <th></th>\n",
       "      <th>R-Squared</th>\n",
       "      <th>MSE</th>\n",
       "      <th>RMSE</th>\n",
       "    </tr>\n",
       "  </thead>\n",
       "  <tbody>\n",
       "    <tr>\n",
       "      <th>Reduced Log Model</th>\n",
       "      <td>0.7920</td>\n",
       "      <td>0.0350</td>\n",
       "      <td>0.1871</td>\n",
       "    </tr>\n",
       "    <tr>\n",
       "      <th>Full Normal Price Model</th>\n",
       "      <td>0.7500</td>\n",
       "      <td>19.9210</td>\n",
       "      <td>4.4633</td>\n",
       "    </tr>\n",
       "    <tr>\n",
       "      <th>Omitted Var Model</th>\n",
       "      <td>0.4600</td>\n",
       "      <td>0.0900</td>\n",
       "      <td>0.3000</td>\n",
       "    </tr>\n",
       "  </tbody>\n",
       "</table>\n",
       "</div>"
      ],
      "text/plain": [
       "                         R-Squared     MSE   RMSE\n",
       "Reduced Log Model           0.7920  0.0350 0.1871\n",
       "Full Normal Price Model     0.7500 19.9210 4.4633\n",
       "Omitted Var Model           0.4600  0.0900 0.3000"
      ]
     },
     "execution_count": 27,
     "metadata": {},
     "output_type": "execute_result"
    }
   ],
   "source": [
    "pd.DataFrame({'R-Squared': [reduced_log_rsquared, full_normal_rsquared, omitted_var_rsquared],\n",
    "             'MSE': [reduced_log_mse, full_normal_mse, omitted_var_mse], \n",
    "             'RMSE': np.sqrt([reduced_log_mse, full_normal_mse, omitted_var_mse])}, \n",
    "            index=['Reduced Log Model', 'Full Normal Price Model', 'Omitted Var Model'])\n",
    "\n",
    "# the MSE cannot be compared because they are on different scales and different units"
   ]
  },
  {
   "cell_type": "markdown",
   "metadata": {},
   "source": [
    "**The Root Mean Squared Error also represents one standard deviation of the differences between our actual and our predicted values.**"
   ]
  },
  {
   "cell_type": "code",
   "execution_count": 28,
   "metadata": {},
   "outputs": [
    {
     "name": "stdout",
     "output_type": "stream",
     "text": [
      "1 s.d. in log prices is 0.18708286933869708\n",
      "2 s.d. in log prices is 0.37416573867739417\n",
      "The upper bound in log prices for a 95% prediction interval is  3.7753631203395495\n",
      "The upper bound in normal prices is $ 43613.34233239937\n",
      "The lower bound in log prices for a 95% prediction interval is  3.0270316429847615\n",
      "The lower bound in normal prices is $ 20635.886906824155\n"
     ]
    }
   ],
   "source": [
    "# Challenge: Our estimate for a house price is $30,000. Calculate the upper and lower bound\n",
    "# for a 95% prediction interval using the reduced log model\n",
    "\n",
    "print('1 s.d. in log prices is', np.sqrt(reduced_log_mse))\n",
    "print('2 s.d. in log prices is', 2*np.sqrt(reduced_log_mse))\n",
    "\n",
    "upper_bound = np.log(30) + 2*np.sqrt(reduced_log_mse)\n",
    "print('The upper bound in log prices for a 95% prediction interval is ', upper_bound)\n",
    "print('The upper bound in normal prices is $', np.e**upper_bound * 1000)\n",
    "\n",
    "lower_bound = np.log(30) - 2*np.sqrt(reduced_log_mse)\n",
    "print('The lower bound in log prices for a 95% prediction interval is ', lower_bound)\n",
    "print('The lower bound in normal prices is $', np.e**lower_bound * 1000)"
   ]
  },
  {
   "cell_type": "code",
   "execution_count": 29,
   "metadata": {},
   "outputs": [
    {
     "data": {
      "text/plain": [
       "0.29630602897644215"
      ]
     },
     "execution_count": 29,
     "metadata": {},
     "output_type": "execute_result"
    }
   ],
   "source": [
    "np.std(results.resid)"
   ]
  },
  {
   "cell_type": "code",
   "execution_count": 30,
   "metadata": {},
   "outputs": [
    {
     "data": {
      "text/plain": [
       "0.2966734265496503"
      ]
     },
     "execution_count": 30,
     "metadata": {},
     "output_type": "execute_result"
    }
   ],
   "source": [
    "results.resid.std()"
   ]
  },
  {
   "cell_type": "code",
   "execution_count": 31,
   "metadata": {},
   "outputs": [
    {
     "data": {
      "text/plain": [
       "31453.778077746647"
      ]
     },
     "execution_count": 31,
     "metadata": {},
     "output_type": "execute_result"
    }
   ],
   "source": [
    "30000 + np.e**(2*np.sqrt(reduced_log_mse)) * 1000 # Wrong! Add first. Transform afterwards. "
   ]
  },
  {
   "cell_type": "markdown",
   "metadata": {
    "colab_type": "text",
    "id": "WCKz4xE7E0Ug"
   },
   "source": [
    "# statsmodels.formula.api"
   ]
  },
  {
   "cell_type": "code",
   "execution_count": 32,
   "metadata": {
    "colab": {},
    "colab_type": "code",
    "id": "rzEKh-5xE0Ui"
   },
   "outputs": [],
   "source": [
    "form_lr = smf.ols(formula = 'y ~ CRIM + ZN + INDUS + CHAS + NOX + RM + AGE + DIS + RAD + TAX + PTRATIO + B + LSTAT', \n",
    "              data=df)\n",
    "mlr = form_lr.fit()"
   ]
  },
  {
   "cell_type": "code",
   "execution_count": 33,
   "metadata": {
    "colab": {
     "base_uri": "https://localhost:8080/",
     "height": 730
    },
    "colab_type": "code",
    "id": "6s7FAazeE0Un",
    "outputId": "d141838a-49de-42e3-f79a-3b19b7fc51f9",
    "scrolled": true
   },
   "outputs": [
    {
     "data": {
      "text/html": [
       "<table class=\"simpletable\">\n",
       "<caption>OLS Regression Results</caption>\n",
       "<tr>\n",
       "  <th>Dep. Variable:</th>            <td>y</td>        <th>  R-squared:         </th> <td>   0.790</td> \n",
       "</tr>\n",
       "<tr>\n",
       "  <th>Model:</th>                   <td>OLS</td>       <th>  Adj. R-squared:    </th> <td>   0.784</td> \n",
       "</tr>\n",
       "<tr>\n",
       "  <th>Method:</th>             <td>Least Squares</td>  <th>  F-statistic:       </th> <td>   142.1</td> \n",
       "</tr>\n",
       "<tr>\n",
       "  <th>Date:</th>             <td>Thu, 30 Sep 2021</td> <th>  Prob (F-statistic):</th> <td>4.07e-157</td>\n",
       "</tr>\n",
       "<tr>\n",
       "  <th>Time:</th>                 <td>14:32:49</td>     <th>  Log-Likelihood:    </th> <td>  129.61</td> \n",
       "</tr>\n",
       "<tr>\n",
       "  <th>No. Observations:</th>      <td>   506</td>      <th>  AIC:               </th> <td>  -231.2</td> \n",
       "</tr>\n",
       "<tr>\n",
       "  <th>Df Residuals:</th>          <td>   492</td>      <th>  BIC:               </th> <td>  -172.1</td> \n",
       "</tr>\n",
       "<tr>\n",
       "  <th>Df Model:</th>              <td>    13</td>      <th>                     </th>     <td> </td>    \n",
       "</tr>\n",
       "<tr>\n",
       "  <th>Covariance Type:</th>      <td>nonrobust</td>    <th>                     </th>     <td> </td>    \n",
       "</tr>\n",
       "</table>\n",
       "<table class=\"simpletable\">\n",
       "<tr>\n",
       "      <td></td>         <th>coef</th>     <th>std err</th>      <th>t</th>      <th>P>|t|</th>  <th>[0.025</th>    <th>0.975]</th>  \n",
       "</tr>\n",
       "<tr>\n",
       "  <th>Intercept</th> <td>    4.1020</td> <td>    0.204</td> <td>   20.081</td> <td> 0.000</td> <td>    3.701</td> <td>    4.503</td>\n",
       "</tr>\n",
       "<tr>\n",
       "  <th>CRIM</th>      <td>   -0.0103</td> <td>    0.001</td> <td>   -7.808</td> <td> 0.000</td> <td>   -0.013</td> <td>   -0.008</td>\n",
       "</tr>\n",
       "<tr>\n",
       "  <th>ZN</th>        <td>    0.0012</td> <td>    0.001</td> <td>    2.134</td> <td> 0.033</td> <td> 9.29e-05</td> <td>    0.002</td>\n",
       "</tr>\n",
       "<tr>\n",
       "  <th>INDUS</th>     <td>    0.0025</td> <td>    0.002</td> <td>    1.002</td> <td> 0.317</td> <td>   -0.002</td> <td>    0.007</td>\n",
       "</tr>\n",
       "<tr>\n",
       "  <th>CHAS</th>      <td>    0.1009</td> <td>    0.034</td> <td>    2.925</td> <td> 0.004</td> <td>    0.033</td> <td>    0.169</td>\n",
       "</tr>\n",
       "<tr>\n",
       "  <th>NOX</th>       <td>   -0.7784</td> <td>    0.153</td> <td>   -5.091</td> <td> 0.000</td> <td>   -1.079</td> <td>   -0.478</td>\n",
       "</tr>\n",
       "<tr>\n",
       "  <th>RM</th>        <td>    0.0908</td> <td>    0.017</td> <td>    5.430</td> <td> 0.000</td> <td>    0.058</td> <td>    0.124</td>\n",
       "</tr>\n",
       "<tr>\n",
       "  <th>AGE</th>       <td>    0.0002</td> <td>    0.001</td> <td>    0.398</td> <td> 0.691</td> <td>   -0.001</td> <td>    0.001</td>\n",
       "</tr>\n",
       "<tr>\n",
       "  <th>DIS</th>       <td>   -0.0491</td> <td>    0.008</td> <td>   -6.149</td> <td> 0.000</td> <td>   -0.065</td> <td>   -0.033</td>\n",
       "</tr>\n",
       "<tr>\n",
       "  <th>RAD</th>       <td>    0.0143</td> <td>    0.003</td> <td>    5.373</td> <td> 0.000</td> <td>    0.009</td> <td>    0.019</td>\n",
       "</tr>\n",
       "<tr>\n",
       "  <th>TAX</th>       <td>   -0.0006</td> <td>    0.000</td> <td>   -4.157</td> <td> 0.000</td> <td>   -0.001</td> <td>   -0.000</td>\n",
       "</tr>\n",
       "<tr>\n",
       "  <th>PTRATIO</th>   <td>   -0.0383</td> <td>    0.005</td> <td>   -7.309</td> <td> 0.000</td> <td>   -0.049</td> <td>   -0.028</td>\n",
       "</tr>\n",
       "<tr>\n",
       "  <th>B</th>         <td>    0.0004</td> <td>    0.000</td> <td>    3.847</td> <td> 0.000</td> <td>    0.000</td> <td>    0.001</td>\n",
       "</tr>\n",
       "<tr>\n",
       "  <th>LSTAT</th>     <td>   -0.0290</td> <td>    0.002</td> <td>  -14.304</td> <td> 0.000</td> <td>   -0.033</td> <td>   -0.025</td>\n",
       "</tr>\n",
       "</table>\n",
       "<table class=\"simpletable\">\n",
       "<tr>\n",
       "  <th>Omnibus:</th>       <td>59.863</td> <th>  Durbin-Watson:     </th> <td>   1.093</td>\n",
       "</tr>\n",
       "<tr>\n",
       "  <th>Prob(Omnibus):</th> <td> 0.000</td> <th>  Jarque-Bera (JB):  </th> <td> 227.459</td>\n",
       "</tr>\n",
       "<tr>\n",
       "  <th>Skew:</th>          <td> 0.466</td> <th>  Prob(JB):          </th> <td>4.06e-50</td>\n",
       "</tr>\n",
       "<tr>\n",
       "  <th>Kurtosis:</th>      <td> 6.150</td> <th>  Cond. No.          </th> <td>1.51e+04</td>\n",
       "</tr>\n",
       "</table><br/><br/>Warnings:<br/>[1] Standard Errors assume that the covariance matrix of the errors is correctly specified.<br/>[2] The condition number is large, 1.51e+04. This might indicate that there are<br/>strong multicollinearity or other numerical problems."
      ],
      "text/plain": [
       "<class 'statsmodels.iolib.summary.Summary'>\n",
       "\"\"\"\n",
       "                            OLS Regression Results                            \n",
       "==============================================================================\n",
       "Dep. Variable:                      y   R-squared:                       0.790\n",
       "Model:                            OLS   Adj. R-squared:                  0.784\n",
       "Method:                 Least Squares   F-statistic:                     142.1\n",
       "Date:                Thu, 30 Sep 2021   Prob (F-statistic):          4.07e-157\n",
       "Time:                        14:32:49   Log-Likelihood:                 129.61\n",
       "No. Observations:                 506   AIC:                            -231.2\n",
       "Df Residuals:                     492   BIC:                            -172.1\n",
       "Df Model:                          13                                         \n",
       "Covariance Type:            nonrobust                                         \n",
       "==============================================================================\n",
       "                 coef    std err          t      P>|t|      [0.025      0.975]\n",
       "------------------------------------------------------------------------------\n",
       "Intercept      4.1020      0.204     20.081      0.000       3.701       4.503\n",
       "CRIM          -0.0103      0.001     -7.808      0.000      -0.013      -0.008\n",
       "ZN             0.0012      0.001      2.134      0.033    9.29e-05       0.002\n",
       "INDUS          0.0025      0.002      1.002      0.317      -0.002       0.007\n",
       "CHAS           0.1009      0.034      2.925      0.004       0.033       0.169\n",
       "NOX           -0.7784      0.153     -5.091      0.000      -1.079      -0.478\n",
       "RM             0.0908      0.017      5.430      0.000       0.058       0.124\n",
       "AGE            0.0002      0.001      0.398      0.691      -0.001       0.001\n",
       "DIS           -0.0491      0.008     -6.149      0.000      -0.065      -0.033\n",
       "RAD            0.0143      0.003      5.373      0.000       0.009       0.019\n",
       "TAX           -0.0006      0.000     -4.157      0.000      -0.001      -0.000\n",
       "PTRATIO       -0.0383      0.005     -7.309      0.000      -0.049      -0.028\n",
       "B              0.0004      0.000      3.847      0.000       0.000       0.001\n",
       "LSTAT         -0.0290      0.002    -14.304      0.000      -0.033      -0.025\n",
       "==============================================================================\n",
       "Omnibus:                       59.863   Durbin-Watson:                   1.093\n",
       "Prob(Omnibus):                  0.000   Jarque-Bera (JB):              227.459\n",
       "Skew:                           0.466   Prob(JB):                     4.06e-50\n",
       "Kurtosis:                       6.150   Cond. No.                     1.51e+04\n",
       "==============================================================================\n",
       "\n",
       "Warnings:\n",
       "[1] Standard Errors assume that the covariance matrix of the errors is correctly specified.\n",
       "[2] The condition number is large, 1.51e+04. This might indicate that there are\n",
       "strong multicollinearity or other numerical problems.\n",
       "\"\"\""
      ]
     },
     "execution_count": 33,
     "metadata": {},
     "output_type": "execute_result"
    }
   ],
   "source": [
    "mlr.summary()"
   ]
  },
  {
   "cell_type": "code",
   "execution_count": 34,
   "metadata": {
    "colab": {
     "base_uri": "https://localhost:8080/",
     "height": 688
    },
    "colab_type": "code",
    "id": "r88IZ3pmE0Up",
    "outputId": "8a681585-93a7-4d86-8838-ed3ec8c58ed4",
    "scrolled": true
   },
   "outputs": [
    {
     "data": {
      "text/html": [
       "<table class=\"simpletable\">\n",
       "<caption>OLS Regression Results</caption>\n",
       "<tr>\n",
       "  <th>Dep. Variable:</th>            <td>y</td>        <th>  R-squared:         </th> <td>   0.789</td> \n",
       "</tr>\n",
       "<tr>\n",
       "  <th>Model:</th>                   <td>OLS</td>       <th>  Adj. R-squared:    </th> <td>   0.784</td> \n",
       "</tr>\n",
       "<tr>\n",
       "  <th>Method:</th>             <td>Least Squares</td>  <th>  F-statistic:       </th> <td>   168.1</td> \n",
       "</tr>\n",
       "<tr>\n",
       "  <th>Date:</th>             <td>Thu, 30 Sep 2021</td> <th>  Prob (F-statistic):</th> <td>4.31e-159</td>\n",
       "</tr>\n",
       "<tr>\n",
       "  <th>Time:</th>                 <td>14:32:49</td>     <th>  Log-Likelihood:    </th> <td>  129.02</td> \n",
       "</tr>\n",
       "<tr>\n",
       "  <th>No. Observations:</th>      <td>   506</td>      <th>  AIC:               </th> <td>  -234.0</td> \n",
       "</tr>\n",
       "<tr>\n",
       "  <th>Df Residuals:</th>          <td>   494</td>      <th>  BIC:               </th> <td>  -183.3</td> \n",
       "</tr>\n",
       "<tr>\n",
       "  <th>Df Model:</th>              <td>    11</td>      <th>                     </th>     <td> </td>    \n",
       "</tr>\n",
       "<tr>\n",
       "  <th>Covariance Type:</th>      <td>nonrobust</td>    <th>                     </th>     <td> </td>    \n",
       "</tr>\n",
       "</table>\n",
       "<table class=\"simpletable\">\n",
       "<tr>\n",
       "      <td></td>         <th>coef</th>     <th>std err</th>      <th>t</th>      <th>P>|t|</th>  <th>[0.025</th>    <th>0.975]</th>  \n",
       "</tr>\n",
       "<tr>\n",
       "  <th>Intercept</th> <td>    4.0837</td> <td>    0.203</td> <td>   20.112</td> <td> 0.000</td> <td>    3.685</td> <td>    4.483</td>\n",
       "</tr>\n",
       "<tr>\n",
       "  <th>CRIM</th>      <td>   -0.0103</td> <td>    0.001</td> <td>   -7.856</td> <td> 0.000</td> <td>   -0.013</td> <td>   -0.008</td>\n",
       "</tr>\n",
       "<tr>\n",
       "  <th>ZN</th>        <td>    0.0011</td> <td>    0.001</td> <td>    2.007</td> <td> 0.045</td> <td> 2.28e-05</td> <td>    0.002</td>\n",
       "</tr>\n",
       "<tr>\n",
       "  <th>CHAS</th>      <td>    0.1051</td> <td>    0.034</td> <td>    3.072</td> <td> 0.002</td> <td>    0.038</td> <td>    0.172</td>\n",
       "</tr>\n",
       "<tr>\n",
       "  <th>NOX</th>       <td>   -0.7217</td> <td>    0.142</td> <td>   -5.095</td> <td> 0.000</td> <td>   -1.000</td> <td>   -0.443</td>\n",
       "</tr>\n",
       "<tr>\n",
       "  <th>RM</th>        <td>    0.0907</td> <td>    0.016</td> <td>    5.569</td> <td> 0.000</td> <td>    0.059</td> <td>    0.123</td>\n",
       "</tr>\n",
       "<tr>\n",
       "  <th>DIS</th>       <td>   -0.0517</td> <td>    0.007</td> <td>   -6.948</td> <td> 0.000</td> <td>   -0.066</td> <td>   -0.037</td>\n",
       "</tr>\n",
       "<tr>\n",
       "  <th>RAD</th>       <td>    0.0134</td> <td>    0.003</td> <td>    5.293</td> <td> 0.000</td> <td>    0.008</td> <td>    0.018</td>\n",
       "</tr>\n",
       "<tr>\n",
       "  <th>TAX</th>       <td>   -0.0006</td> <td>    0.000</td> <td>   -4.129</td> <td> 0.000</td> <td>   -0.001</td> <td>   -0.000</td>\n",
       "</tr>\n",
       "<tr>\n",
       "  <th>PTRATIO</th>   <td>   -0.0374</td> <td>    0.005</td> <td>   -7.237</td> <td> 0.000</td> <td>   -0.048</td> <td>   -0.027</td>\n",
       "</tr>\n",
       "<tr>\n",
       "  <th>B</th>         <td>    0.0004</td> <td>    0.000</td> <td>    3.852</td> <td> 0.000</td> <td>    0.000</td> <td>    0.001</td>\n",
       "</tr>\n",
       "<tr>\n",
       "  <th>LSTAT</th>     <td>   -0.0286</td> <td>    0.002</td> <td>  -15.053</td> <td> 0.000</td> <td>   -0.032</td> <td>   -0.025</td>\n",
       "</tr>\n",
       "</table>\n",
       "<table class=\"simpletable\">\n",
       "<tr>\n",
       "  <th>Omnibus:</th>       <td>59.445</td> <th>  Durbin-Watson:     </th> <td>   1.087</td>\n",
       "</tr>\n",
       "<tr>\n",
       "  <th>Prob(Omnibus):</th> <td> 0.000</td> <th>  Jarque-Bera (JB):  </th> <td> 227.361</td>\n",
       "</tr>\n",
       "<tr>\n",
       "  <th>Skew:</th>          <td> 0.459</td> <th>  Prob(JB):          </th> <td>4.26e-50</td>\n",
       "</tr>\n",
       "<tr>\n",
       "  <th>Kurtosis:</th>      <td> 6.153</td> <th>  Cond. No.          </th> <td>1.47e+04</td>\n",
       "</tr>\n",
       "</table><br/><br/>Warnings:<br/>[1] Standard Errors assume that the covariance matrix of the errors is correctly specified.<br/>[2] The condition number is large, 1.47e+04. This might indicate that there are<br/>strong multicollinearity or other numerical problems."
      ],
      "text/plain": [
       "<class 'statsmodels.iolib.summary.Summary'>\n",
       "\"\"\"\n",
       "                            OLS Regression Results                            \n",
       "==============================================================================\n",
       "Dep. Variable:                      y   R-squared:                       0.789\n",
       "Model:                            OLS   Adj. R-squared:                  0.784\n",
       "Method:                 Least Squares   F-statistic:                     168.1\n",
       "Date:                Thu, 30 Sep 2021   Prob (F-statistic):          4.31e-159\n",
       "Time:                        14:32:49   Log-Likelihood:                 129.02\n",
       "No. Observations:                 506   AIC:                            -234.0\n",
       "Df Residuals:                     494   BIC:                            -183.3\n",
       "Df Model:                          11                                         \n",
       "Covariance Type:            nonrobust                                         \n",
       "==============================================================================\n",
       "                 coef    std err          t      P>|t|      [0.025      0.975]\n",
       "------------------------------------------------------------------------------\n",
       "Intercept      4.0837      0.203     20.112      0.000       3.685       4.483\n",
       "CRIM          -0.0103      0.001     -7.856      0.000      -0.013      -0.008\n",
       "ZN             0.0011      0.001      2.007      0.045    2.28e-05       0.002\n",
       "CHAS           0.1051      0.034      3.072      0.002       0.038       0.172\n",
       "NOX           -0.7217      0.142     -5.095      0.000      -1.000      -0.443\n",
       "RM             0.0907      0.016      5.569      0.000       0.059       0.123\n",
       "DIS           -0.0517      0.007     -6.948      0.000      -0.066      -0.037\n",
       "RAD            0.0134      0.003      5.293      0.000       0.008       0.018\n",
       "TAX           -0.0006      0.000     -4.129      0.000      -0.001      -0.000\n",
       "PTRATIO       -0.0374      0.005     -7.237      0.000      -0.048      -0.027\n",
       "B              0.0004      0.000      3.852      0.000       0.000       0.001\n",
       "LSTAT         -0.0286      0.002    -15.053      0.000      -0.032      -0.025\n",
       "==============================================================================\n",
       "Omnibus:                       59.445   Durbin-Watson:                   1.087\n",
       "Prob(Omnibus):                  0.000   Jarque-Bera (JB):              227.361\n",
       "Skew:                           0.459   Prob(JB):                     4.26e-50\n",
       "Kurtosis:                       6.153   Cond. No.                     1.47e+04\n",
       "==============================================================================\n",
       "\n",
       "Warnings:\n",
       "[1] Standard Errors assume that the covariance matrix of the errors is correctly specified.\n",
       "[2] The condition number is large, 1.47e+04. This might indicate that there are\n",
       "strong multicollinearity or other numerical problems.\n",
       "\"\"\""
      ]
     },
     "execution_count": 34,
     "metadata": {},
     "output_type": "execute_result"
    }
   ],
   "source": [
    "# removing 'INDUS' & 'AGE' since they are insignificant\n",
    "\n",
    "form_lr = smf.ols(formula = 'y ~ CRIM + ZN + CHAS + NOX + RM + DIS + RAD + TAX + PTRATIO + B + LSTAT', \n",
    "              data=df)\n",
    "mlr = form_lr.fit()\n",
    "mlr.summary()"
   ]
  },
  {
   "cell_type": "markdown",
   "metadata": {
    "colab_type": "text",
    "id": "tBzSu4-FE0Ur"
   },
   "source": [
    "## Exercise"
   ]
  },
  {
   "cell_type": "markdown",
   "metadata": {
    "colab_type": "text",
    "id": "vqnQHEeuE0Ur"
   },
   "source": [
    "Create a model using the following features\n",
    "\n",
    "CRIM, ZN, CHAS, NOX"
   ]
  },
  {
   "cell_type": "code",
   "execution_count": 35,
   "metadata": {},
   "outputs": [
    {
     "data": {
      "text/plain": [
       "'y ~ CRIM + ZN + CHAS + NOX'"
      ]
     },
     "execution_count": 35,
     "metadata": {},
     "output_type": "execute_result"
    }
   ],
   "source": [
    "test = ['CRIM', 'ZN', 'CHAS', 'NOX']\n",
    "'y ~ ' + ' + '.join(test)"
   ]
  },
  {
   "cell_type": "code",
   "execution_count": 36,
   "metadata": {
    "colab": {
     "base_uri": "https://localhost:8080/"
    },
    "colab_type": "code",
    "id": "tG4-XdjHE0VJ",
    "outputId": "2a629c09-9ad0-464b-c94a-44ec1643db46",
    "scrolled": true
   },
   "outputs": [
    {
     "data": {
      "text/html": [
       "<table class=\"simpletable\">\n",
       "<caption>OLS Regression Results</caption>\n",
       "<tr>\n",
       "  <th>Dep. Variable:</th>            <td>y</td>        <th>  R-squared:         </th> <td>   0.424</td>\n",
       "</tr>\n",
       "<tr>\n",
       "  <th>Model:</th>                   <td>OLS</td>       <th>  Adj. R-squared:    </th> <td>   0.419</td>\n",
       "</tr>\n",
       "<tr>\n",
       "  <th>Method:</th>             <td>Least Squares</td>  <th>  F-statistic:       </th> <td>   92.19</td>\n",
       "</tr>\n",
       "<tr>\n",
       "  <th>Date:</th>             <td>Thu, 30 Sep 2021</td> <th>  Prob (F-statistic):</th> <td>1.05e-58</td>\n",
       "</tr>\n",
       "<tr>\n",
       "  <th>Time:</th>                 <td>14:32:49</td>     <th>  Log-Likelihood:    </th> <td> -125.24</td>\n",
       "</tr>\n",
       "<tr>\n",
       "  <th>No. Observations:</th>      <td>   506</td>      <th>  AIC:               </th> <td>   260.5</td>\n",
       "</tr>\n",
       "<tr>\n",
       "  <th>Df Residuals:</th>          <td>   501</td>      <th>  BIC:               </th> <td>   281.6</td>\n",
       "</tr>\n",
       "<tr>\n",
       "  <th>Df Model:</th>              <td>     4</td>      <th>                     </th>     <td> </td>   \n",
       "</tr>\n",
       "<tr>\n",
       "  <th>Covariance Type:</th>      <td>nonrobust</td>    <th>                     </th>     <td> </td>   \n",
       "</tr>\n",
       "</table>\n",
       "<table class=\"simpletable\">\n",
       "<tr>\n",
       "      <td></td>         <th>coef</th>     <th>std err</th>      <th>t</th>      <th>P>|t|</th>  <th>[0.025</th>    <th>0.975]</th>  \n",
       "</tr>\n",
       "<tr>\n",
       "  <th>Intercept</th> <td>    3.6347</td> <td>    0.087</td> <td>   41.793</td> <td> 0.000</td> <td>    3.464</td> <td>    3.806</td>\n",
       "</tr>\n",
       "<tr>\n",
       "  <th>CRIM</th>      <td>   -0.0173</td> <td>    0.002</td> <td>   -9.674</td> <td> 0.000</td> <td>   -0.021</td> <td>   -0.014</td>\n",
       "</tr>\n",
       "<tr>\n",
       "  <th>ZN</th>        <td>    0.0025</td> <td>    0.001</td> <td>    3.615</td> <td> 0.000</td> <td>    0.001</td> <td>    0.004</td>\n",
       "</tr>\n",
       "<tr>\n",
       "  <th>CHAS</th>      <td>    0.2760</td> <td>    0.055</td> <td>    5.008</td> <td> 0.000</td> <td>    0.168</td> <td>    0.384</td>\n",
       "</tr>\n",
       "<tr>\n",
       "  <th>NOX</th>       <td>   -1.0552</td> <td>    0.152</td> <td>   -6.946</td> <td> 0.000</td> <td>   -1.354</td> <td>   -0.757</td>\n",
       "</tr>\n",
       "</table>\n",
       "<table class=\"simpletable\">\n",
       "<tr>\n",
       "  <th>Omnibus:</th>       <td>41.212</td> <th>  Durbin-Watson:     </th> <td>   0.824</td>\n",
       "</tr>\n",
       "<tr>\n",
       "  <th>Prob(Omnibus):</th> <td> 0.000</td> <th>  Jarque-Bera (JB):  </th> <td>  61.509</td>\n",
       "</tr>\n",
       "<tr>\n",
       "  <th>Skew:</th>          <td> 0.587</td> <th>  Prob(JB):          </th> <td>4.40e-14</td>\n",
       "</tr>\n",
       "<tr>\n",
       "  <th>Kurtosis:</th>      <td> 4.240</td> <th>  Cond. No.          </th> <td>    327.</td>\n",
       "</tr>\n",
       "</table><br/><br/>Warnings:<br/>[1] Standard Errors assume that the covariance matrix of the errors is correctly specified."
      ],
      "text/plain": [
       "<class 'statsmodels.iolib.summary.Summary'>\n",
       "\"\"\"\n",
       "                            OLS Regression Results                            \n",
       "==============================================================================\n",
       "Dep. Variable:                      y   R-squared:                       0.424\n",
       "Model:                            OLS   Adj. R-squared:                  0.419\n",
       "Method:                 Least Squares   F-statistic:                     92.19\n",
       "Date:                Thu, 30 Sep 2021   Prob (F-statistic):           1.05e-58\n",
       "Time:                        14:32:49   Log-Likelihood:                -125.24\n",
       "No. Observations:                 506   AIC:                             260.5\n",
       "Df Residuals:                     501   BIC:                             281.6\n",
       "Df Model:                           4                                         \n",
       "Covariance Type:            nonrobust                                         \n",
       "==============================================================================\n",
       "                 coef    std err          t      P>|t|      [0.025      0.975]\n",
       "------------------------------------------------------------------------------\n",
       "Intercept      3.6347      0.087     41.793      0.000       3.464       3.806\n",
       "CRIM          -0.0173      0.002     -9.674      0.000      -0.021      -0.014\n",
       "ZN             0.0025      0.001      3.615      0.000       0.001       0.004\n",
       "CHAS           0.2760      0.055      5.008      0.000       0.168       0.384\n",
       "NOX           -1.0552      0.152     -6.946      0.000      -1.354      -0.757\n",
       "==============================================================================\n",
       "Omnibus:                       41.212   Durbin-Watson:                   0.824\n",
       "Prob(Omnibus):                  0.000   Jarque-Bera (JB):               61.509\n",
       "Skew:                           0.587   Prob(JB):                     4.40e-14\n",
       "Kurtosis:                       4.240   Cond. No.                         327.\n",
       "==============================================================================\n",
       "\n",
       "Warnings:\n",
       "[1] Standard Errors assume that the covariance matrix of the errors is correctly specified.\n",
       "\"\"\""
      ]
     },
     "execution_count": 36,
     "metadata": {},
     "output_type": "execute_result"
    }
   ],
   "source": [
    "form_lr = smf.ols(formula = 'y ~ CRIM + ZN + CHAS + NOX', \n",
    "              data=df)\n",
    "mlr = form_lr.fit()\n",
    "mlr.summary()"
   ]
  },
  {
   "cell_type": "markdown",
   "metadata": {
    "colab_type": "text",
    "id": "LW0JH1LXE0Vv"
   },
   "source": [
    "# Use $R^2$ to Identify Key Features"
   ]
  },
  {
   "cell_type": "markdown",
   "metadata": {
    "colab_type": "text",
    "id": "OyC8jasME0Vw"
   },
   "source": [
    "* Compare $R^2$ of model against $R^2$ of model without a feature. \n",
    "\n",
    "* A significant change in $R^2$ signify the importance of the feature.\n",
    "\n",
    "\n"
   ]
  },
  {
   "cell_type": "code",
   "execution_count": 37,
   "metadata": {
    "colab": {},
    "colab_type": "code",
    "id": "WKr6kChhE0Vw"
   },
   "outputs": [],
   "source": [
    "from sklearn.metrics import r2_score"
   ]
  },
  {
   "cell_type": "code",
   "execution_count": 38,
   "metadata": {
    "colab": {
     "base_uri": "https://localhost:8080/",
     "height": 34
    },
    "colab_type": "code",
    "id": "JXL4BS7xE0Vy",
    "outputId": "beaa6027-52b6-48c7-f817-87774e751c1e"
   },
   "outputs": [
    {
     "data": {
      "text/plain": [
       "0.789640732793439"
      ]
     },
     "execution_count": 38,
     "metadata": {},
     "output_type": "execute_result"
    }
   ],
   "source": [
    "linear_reg = smf.ols(formula = 'y ~ CRIM + ZN + INDUS + CHAS + NOX + RM + AGE + DIS + RAD + TAX + PTRATIO + B + LSTAT', \n",
    "              data=df)\n",
    "benchmark = linear_reg.fit()\n",
    "r2_score(y, benchmark.predict(df))"
   ]
  },
  {
   "cell_type": "markdown",
   "metadata": {
    "colab_type": "text",
    "id": "4tT5LzveE0V0"
   },
   "source": [
    "without LSTAT"
   ]
  },
  {
   "cell_type": "code",
   "execution_count": 39,
   "metadata": {
    "colab": {
     "base_uri": "https://localhost:8080/",
     "height": 34
    },
    "colab_type": "code",
    "id": "-4TWDxTVE0V0",
    "outputId": "a5688877-4d42-4b8d-d429-f58d467cd274"
   },
   "outputs": [
    {
     "data": {
      "text/plain": [
       "0.7021650842054399"
      ]
     },
     "execution_count": 39,
     "metadata": {},
     "output_type": "execute_result"
    }
   ],
   "source": [
    "linear_reg = smf.ols(formula = 'y ~ CRIM + ZN + INDUS + CHAS + NOX + RM + AGE + DIS + RAD + TAX + PTRATIO + B', \n",
    "              data=df)\n",
    "lr_without_LSTAT = linear_reg.fit()\n",
    "r2_score(y, lr_without_LSTAT.predict(df))"
   ]
  },
  {
   "cell_type": "markdown",
   "metadata": {
    "colab_type": "text",
    "id": "7xyasvSOE0V1"
   },
   "source": [
    "without AGE"
   ]
  },
  {
   "cell_type": "code",
   "execution_count": 40,
   "metadata": {
    "colab": {
     "base_uri": "https://localhost:8080/",
     "height": 34
    },
    "colab_type": "code",
    "id": "ZKrEeBKrE0V2",
    "outputId": "d1d027b7-0e1e-4dca-ddf5-bf3de7d698ba"
   },
   "outputs": [
    {
     "data": {
      "text/plain": [
       "0.7895728965889132"
      ]
     },
     "execution_count": 40,
     "metadata": {},
     "output_type": "execute_result"
    }
   ],
   "source": [
    "linear_reg = smf.ols(formula = 'y ~ CRIM + ZN + INDUS + CHAS + NOX + RM + DIS + RAD + TAX + PTRATIO + B + LSTAT', \n",
    "              data=df)\n",
    "lr_without_AGE = linear_reg.fit()\n",
    "r2_score(y, lr_without_AGE.predict(df))"
   ]
  },
  {
   "cell_type": "code",
   "execution_count": 41,
   "metadata": {},
   "outputs": [],
   "source": [
    "# We can see that LSTAT is more useful than AGE"
   ]
  },
  {
   "cell_type": "code",
   "execution_count": null,
   "metadata": {},
   "outputs": [],
   "source": []
  }
 ],
 "metadata": {
  "kernelspec": {
   "display_name": "Python 3",
   "language": "python",
   "name": "python3"
  },
  "language_info": {
   "codemirror_mode": {
    "name": "ipython",
    "version": 3
   },
   "file_extension": ".py",
   "mimetype": "text/x-python",
   "name": "python",
   "nbconvert_exporter": "python",
   "pygments_lexer": "ipython3",
   "version": "3.7.6"
  }
 },
 "nbformat": 4,
 "nbformat_minor": 4
}
