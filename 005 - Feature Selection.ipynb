{
 "cells": [
  {
   "cell_type": "markdown",
   "metadata": {},
   "source": [
    "<h1 align=\"center\">FEATURE SELECTION</h1>\n",
    "<h2 align=\"left\"><ins>Lesson Guide</ins></h2>\n",
    "\n",
    "\n",
    "- [**WHAT IS FEATURE SELECTION?**](#what)\n",
    "- [**TYPES OF FEATURE SELECTION METHODS**](#types)\n",
    "    - [**Wrapper**](#wrapper)\n",
    "    - [**Filter**](#filter)\n",
    "    - [**Intrinsic (Embedded)**](#embed)\n",
    "- [**STATISTICS FOR (FILTER-BASED) FEATURE SELECTION**](#statistics)\n",
    "    - [**Numerical Input, Numerical Output**](#ni_no)\n",
    "        - [**Pearson’s correlation coefficient**](#ni_no)\n",
    "        - [**Spearman’s rank coefficient**](#ni_no)\n",
    "        - [**Mutual Information**](#ni_no)\n",
    "    - [**Numerical Input, Categorical Output**](#ni_co)\n",
    "        - [**ANOVA (F-statistic) correlation coefficient**](#ni_co)\n",
    "        - [**Kendall’s rank coefficient**](#ni_co)\n",
    "        - [**Mutual Information**](#ni_co)\n",
    "    - [**Categorical Input, Numerical Output**](#ci_no)\n",
    "    - [**Categorical Input, Categorical Output**](#ci_co)\n",
    "        - [**Chi-Squared test (contingency tables)**](#ci_co)\n",
    "        - [**Mutual Information**](#ci_co)\n",
    "    - [**Example 1: Categorical Input, Categorical Output**](#eg1)\n",
    "        - [**Tune the Number of Selected Features**](#eg1)\n",
    "    - [**Example 2: Numerical Input, Categorical Output**](#eg2)    \n",
    "        - [**Tune the Number of Selected Features**](#tune)\n",
    "    - [**Example 3: Numerical Output**](#eg3)\n",
    "        - [**Tune the Number of Selected Features**](#tuning)   \n",
    "    - [**Univariate Feature Selection With GenericUnivariateSelect**](#univariate)\n",
    "- [**FEATURE SELECTION WITH ANY DATA TYPE (WRAPPER METHODS)**](#any)\n",
    "    - [**Forward Selection**](#forward)\n",
    "    - [**Backward Selection**](#backward)\n",
    "    - [**Stepwise Selection**](#stepwise)\n",
    "    - [**Sequential Selection using `Sklearn`**](#sklearn)\n",
    "    - [**Sequential Selection using `mlxtend`**](#mlxtend)\n",
    "    - [**Variance Thresholding**](#threshold)\n",
    "- [**RECURSIVE FEATURE ELIMINATION (RFE)**](#rfe)\n",
    "    - [**Basic Outline for RFE & RFECV**](#basic)\n",
    "        - [**Choosing Number of Features Automatically**](#auto)\n",
    "    - [**RFE for Classification: Numerical Input, Categorical Output**](#rfe_cla)\n",
    "    - [**RFE for Regression: Numerical Input, Numerical Output**](#rfe_reg)\n",
    "    - [**RFE Hyperparameters**](#hyper)\n",
    "        - [**Explore Number of Features**](#explore)\n",
    "        - [**Which Features Were Selected With RFE**](#which)\n",
    "        - [**Automatically Select the Number of Features With RFECV**](#explore)\n",
    "        - [**Which Features Were Selected with RFECV**](#which2)\n",
    "        - [**Explore Base Algorithm**](#base)\n",
    "    -[**RFECV with `Yellowbrick`**](#yellow)\n",
    "- [**HOW TO USE FEATURE IMPORTANCE**](#importance)\n",
    "    - [**What is Feature Importance?**](#fi)\n",
    "    - [**Coefficients as Feature Importance**](#coeff)\n",
    "        - [**A Note on Ridge, Lasso & Decision Trees**](#note)\n",
    "        - [**Linear Regression Feature Importance**](#lr)\n",
    "        - [**Logistic Regression Feature Importance**](#log)  \n",
    "    - [**Decision Tree Feature Importance**](#which)\n",
    "        - [**CART Regression Feature Importance**](#cart_reg)\n",
    "        - [**CART Classification Feature Importance**](#cart_cla)\n",
    "    - [**Random Forest Feature Importance**](#forest)\n",
    "        - [**Random Forest Regression Feature Importance**](#forest_reg)\n",
    "        - [**Random Forest Classification Feature Importance**](#forest_cla)\n",
    "    - [**Permutation Feature Importance**](#perm)\n",
    "        - [**Permutation Feature Importance for Regression**](#perm_reg)\n",
    "        - [**Permutation Feature Importance for Classification**](#perm_cla)\n",
    "    - [**Feature Selection with Importance**](#fsi)\n",
    "    -[**Feature Importance with `Yellowbrick`**](#brick)\n",
    "- [**REFERENCES**](#references)"
   ]
  },
  {
   "cell_type": "code",
   "execution_count": 1,
   "metadata": {},
   "outputs": [],
   "source": [
    "import numpy as np\n",
    "import pandas as pd\n",
    "import seaborn as sns\n",
    "import matplotlib.pyplot as plt\n",
    "%matplotlib inline"
   ]
  },
  {
   "cell_type": "code",
   "execution_count": 2,
   "metadata": {},
   "outputs": [],
   "source": [
    "# from sklearn.linear_model import LogisticRegression, LinearRegression\n",
    "# from sklearn.preprocessing import OrdinalEncoder, LabelEncoder\n",
    "# from sklearn.model_selection import train_test_split\n",
    "# from sklearn.preprocessing import StandardScaler\n",
    "# from sklearn.feature_selection import *\n",
    "# from sklearn.metrics import *"
   ]
  },
  {
   "cell_type": "markdown",
   "metadata": {},
   "source": [
    "<a id=\"what\"></a>\n",
    "<h1 align=\"center\">WHAT IS FEATURE SELECTION?</h1>\n",
    "\n",
    "In real world analytics, we often come across a large volume of candidate regressors, but most end up not being useful in regression modeling. Finding the most appropriate set of regressors is a variable selection issue. Unfortunately, variable selection has two conflicting goals:<br>\n",
    "$\\;\\;\\;\\;\\;$**a)** on the one hand, we try to include as many regressors as possible so that we can maximize the explanatory power of our model,<br>\n",
    "$\\;\\;\\;\\;\\;$**b)** on the other hand, we want as few predictors as possible because more regressors could lead to an increased variance in the prediction.\n",
    "\n",
    "Feature selection is the process of reducing the number of input variables when developing a predictive model without sacrificing the predictive power. It is desirable to reduce the number of input variables to both reduce the computational cost of modeling and, in many cases, to improve the performance of the model. Fewer features can allow machine learning algorithms to run more efficiently (less space or time complexity) and be more effective. Features that are redundant or irrelevant can actually mislead or negatively impact the model's performance (especially linear algorithms like linear and logistic regression), so it is necessary (and helpful) to remove them. \n",
    "\n",
    "Benefits of performing feature selection before modeling data:\n",
    "- **Reduces overfitting**. By removing extraneous data, it allows the model to focus only on the important features of the data, and not get hung up on features that don’t matter.\n",
    "- **Improves the accuracy** of the model’s predictions. Less misleading data means modeling accuracy improves. \n",
    "- **Reduces computation time** involved to get the model. Fewer data points reduce algorithm complexity.\n",
    "- Finally, having a smaller number of features makes your model **more interpretable** and easy to understand."
   ]
  },
  {
   "cell_type": "markdown",
   "metadata": {},
   "source": [
    "**Overall, feature selection is key to being able to predict values with any amount of accuracy. The data features used to train a machine learning model have a huge influence on the performance. Irrelevant or partially relevant features can negatively impact model performance. The hope is that feature selection techniques can identify some or all of those features that are relevant to the target, or, at the very least, identify and remove some of the irrelevant input features.**\n",
    "\n",
    ">***Feature Selection*** selects features to keep or remove from the dataset, whereas ***Dimensionality Reduction*** creates a projection of the data resulting in entirely new input features. As such, dimensionality reduction is an alternate to feature selection rather than a type of feature selection."
   ]
  },
  {
   "cell_type": "markdown",
   "metadata": {},
   "source": [
    "<a id=\"types\"></a>\n",
    "<h1 align=\"center\">TYPES OF FEATURE SELECTION METHODS</h1>\n",
    "\n",
    "One way to think about feature selection methods are in terms of **supervised** and **unsupervised methods**. The difference has to do with whether features are selected based on the target variable or not.\n",
    "- **Unsupervised Selection**: Unsupervised feature selection techniques ignore the target variable, such as methods that remove redundant variables using correlation or features that have few values or low variance (i.e. data cleaning).\n",
    "- **Supervised Selection**: Supervised feature selection techniques use the target variable, such as methods that remove irrelevant variables."
   ]
  },
  {
   "cell_type": "markdown",
   "metadata": {},
   "source": [
    "Supervised feature selection methods may further be classified into three groups:, including **intrinsic**, **wrapper** and **filter** methods.\n",
    "<a id=\"wrapper\"></a>\n",
    "1. **Wrapper** methods are those which marry the feature selection process to the type of model being built, evaluating feature subsets in order to detect the model performance between features, and subsequently select the best performing subset. In other words, instead of existing as an independent process taking place prior to model building, wrapper methods attempt to optimize feature selection process for a given machine learning algorithm in tandem with the algorithm. ***The most notable wrapper methods are: forwards, backwards & stepwise selection as well as RFE. RFE is computationally less complex using the feature weight coefficients (e.g., linear models) or feature importance (tree-based algorithms) to eliminate features recursively, whereas forwards or backwards eliminate (or add) features based on a user-defined classifier/regression performance metric.***<br><br>Some of the **benefits** of wrapper methods:  \n",
    "<ul>\n",
    "<li>A good starting point if you have no intuition about the data and what features may be important.</li>\n",
    "<li>It effectively selects a model with significant features from a large amount of data and is unconcerned with the variable types.</li>\n",
    "<li>Wrapper methods evaluate subsets of variables which allows, unlike filter approaches, to detect the possible interactions amongst variables.</li>\n",
    "</ul><br>Some of the <b>drawbacks</b> of wrapper methods:\n",
    "<ul>\n",
    "<li>The methods do not run through every single combination of features (i.e no interaction terms), so they may not end up with the absolute best model.</li>\n",
    "<li>It can result in a model with high multicollinearity (inflated beta coefficients due to relationships among features), which is not great for predicting accurately.</li>\n",
    "<li>The large computation time for data with many features.</li>\n",
    "<li>It tends to overfit the model when there is not a large amount of data points.</li>\n",
    "</ul>"
   ]
  },
  {
   "cell_type": "markdown",
   "metadata": {},
   "source": [
    "<a id=\"filter\"></a>\n",
    "\n",
    "2. **Filter (statistical-based)** methods use statistical techniques to evaluate the relationship between each input variable and the target variable, and these scores are used as the basis to rank and choose those input variables that will be used in the model (i.e. have the strongest relationship with the target variable). Rather than tuning a model (as in wrapper methods), a subset of the features is selected through ranking them by a useful descriptive measure, other than error rate, to determine whether that feature is useful (a measure that is inherent to the feature and not dependent on a model). These methods can be fast & effective and will not overfit the data. However, one drawback is that they are blind to any interactions or correlations between features. This will need to be taken into account separately.<br><br>The choice of statistical measures depends on the data type of both the input and output variables. As such, it can be challenging for a machine learning practitioner to select an appropriate statistical measure for a dataset when performing filter-based feature selection. Statistical measures for feature selection must be carefully chosen based on the data type of the input variable and the output or response variable.<br><br>The statistical measures used in filter-based feature selection are generally calculated one input variable at a time with the target variable. As such, they are referred to as **univariate statistical measures**. This may mean that any interaction between input variables is not considered in the filtering process. In this case, the existence of correlated predictors makes it possible to select important, but redundant, predictors. The obvious consequences of this issue are that too many predictors are chosen and, as a result,  collinearity problems arise.\n",
    "\n",
    "\n",
    "<a id=\"embed\"></a>\n",
    "\n",
    "3. Finally, there are some machine learning algorithms that perform feature  selection (and tuning) automatically as part of the machine learning process, meaning that the model will only include predictors that help maximize accuracy. In these cases, the model can pick and choose which representation of the data is best and are designed to remove features without predictive value. This generally leads to a happy medium between the two methods of feature selection previously explained, as the selection is done in conjunction with the model tuning process. We might refer to these techniques as **intrinsic** (or **embedded**) methods. This includes algorithms such as penalized regression models like Lasso, Ridge, Elastic Net and decision trees, including ensembles of decision trees like random forest."
   ]
  },
  {
   "cell_type": "markdown",
   "metadata": {},
   "source": [
    ">**An important note** for Ridge and Lasso regression is that all of the features must be standardized, because the lambda must be applied equally to each feature. Having one feature with values in the thousands and another with decimal values will not allow this to happen, hence the standardization requirement.\n",
    ">>When evaluating which variable to keep or discard, we need some evaluation criteria. Many people decide on R squared, but other metrics may be better because R squared will always increase with the addition of newer regressors. Adjusted R squared is a metric that does not necessarily increase with the addition of variables. It only increases if the partial F statistic used to test the significance of additional regressors is greater than 1. Other metrics may also be used such as Residual Mean Square, Mallow’s Cp statistic, AIC and BIC, or any other metrics that evaluate model error on the training dataset in machine learning."
   ]
  },
  {
   "cell_type": "markdown",
   "metadata": {},
   "source": [
    "<img src=\"./images/Feature selection/Feature_selection.png\" width=500 height=500>"
   ]
  },
  {
   "cell_type": "markdown",
   "metadata": {},
   "source": [
    "<img src=\"./images/Feature Selection/feature_methods.png\" width=500 height=500>"
   ]
  },
  {
   "cell_type": "markdown",
   "metadata": {},
   "source": [
    "<a id=\"statistics\"></a>\n",
    "<h1 align=\"center\">STATISTICS FOR FILTER-BASED FEATURE SELECTION</h1>\n",
    "\n",
    "It is common to use correlation type statistical measures between input and output variables as the basis for filter feature selection. As such, the choice of statistical measures is highly dependent upon the variable data types.\n",
    "<img src=\"./images/Feature Selection/statistics2.png\" width=500 height=500>"
   ]
  },
  {
   "cell_type": "markdown",
   "metadata": {},
   "source": [
    "<a id=\"ni_no\"></a>\n",
    "<h5><ins>Numerical Input, Numerical Output</ins></h5>\n",
    "\n",
    "This is a regression predictive modeling problem with numerical input variables. The most common techniques are to use a correlation coefficient, such as Pearson’s for a linear correlation, or rank-based methods for a nonlinear correlation and the mutual information statistic.\n",
    "- **Pearson’s correlation coefficient** - Correlation is a measure of how two variables change together. A common correlation measure is Pearson’s correlation that assumes a Gaussian distribution to each variable and reports on their linear relationship. Linear correlation scores vary between -1 and 1 with 0 representing no relationship. For feature selection, we are often interested in a positive score with the larger the positive value, the larger the relationship, and more likely, the feature should be selected for modeling. As such the linear correlation can be converted into a correlation statistic with only positive values. The scikit-learn machine library provides an implementation of the correlation statistic in the **`f regression`** function.\n",
    "- **Spearman’s rank coefficient** - nonlinear\n",
    "- **Mutual Information** - from the field of information theory is the application of information gain which measures the reduction in *entropy (a measure of the purity of the sub split)* or surprise from transforming a dataset in some way. It is commonly used in the construction of decision trees from a training dataset, by evaluating the information gain for each variable, and selecting the variable that maximizes the information gain, which in turn minimizes the entropy and best splits the dataset into groups for effective classification. The scikit-learn machine library provides an implementation of this in the **`mutual_info_regression`** function.<br><br>Information gain can also be used for feature selection, by evaluating the gain of each variable in the context of the target variable. In this slightly different usage, the calculation is referred to as mutual information between the two random variables and measures the reduction in uncertainty for one variable given a known value of the other variable.<br><br>A larger information gain suggests a lower entropy group or groups of samples, and hence less surprise.\n",
    "<ul>\n",
    "    <li><b>Information</b> quantifies how surprising an event is in bits. Lower probability events have more information, higher probability events have less information.</li>\n",
    "<li><b>Entropy</b> quantifies how much information there is in a random variable, or more specifically its probability distribution.</li></ul><br>\n",
    "A skewed distribution has a low entropy, whereas a distribution where events have equal probability has a larger entropy. Low probability events are more surprising therefore have a larger amount of information. Whereas probability distributions where the events are equally likely are more surprising and have larger entropy.\n",
    "<ul>\n",
    "    <li>Skewed Probability Distribution (unsurprising): Low entropy.</li>\n",
    "    <li>Balanced Probability Distribution (surprising): High entropy.</li>\n",
    "</ul>"
   ]
  },
  {
   "cell_type": "markdown",
   "metadata": {},
   "source": [
    "<a id=\"ni_co\"></a>\n",
    "<h5><ins>Numerical Input, Categorical Output</ins></h5>\n",
    "\n",
    "This is a classification predictive modeling problem with numerical input variables. This might be the most common example of a classification problem, Again, the most common techniques are correlation based, although in this case, they must take the categorical target into account.\n",
    "- **ANOVA (F-statistic) correlation coefficient (linear)** - ANOVA (analysis of variance) is a parametric statistical hypothesis test for determining whether the means from two or more samples of data (often three or more) come from the same distribution or not. An F-statistic, or F-test, is a class of statistical tests that calculate the ratio between variances values, such as the variance from two different samples or the explained and unexplained variance by a statistical test, like ANOVA. The ANOVA method is a type of F-statistic referred to here as an ANOVA F-test. Importantly, ANOVA is used when one variable is numeric and one is categorical, such as numerical input variables and a classification target variable in a classification task. The results of this test can be used for feature selection where those features that are independent of the target variable can be removed from the dataset. The scikit-learn machine library provides an implementation of the ANOVA F-test in the **`f classif()`** function.\n",
    "- **Kendall’s rank coefficient (nonlinear)** - assumes categorical variable is ordinal\n",
    "- **Mutual Information** - The scikit-learn machine library provides an implementation of this in the **`mutual_info_classif`** function."
   ]
  },
  {
   "cell_type": "markdown",
   "metadata": {},
   "source": [
    "<a id=\"ci_no\"></a>\n",
    "<h5><ins>Categorical Input, Numerical Output</ins></h5>\n",
    "\n",
    "This is a strange example of a regression problem (e.g. you would not encounter it often). Nevertheless, you can use the same Numerical Input, Categorical Output methods, but in reverse.\n",
    "\n",
    "<a id=\"ci_co\"></a>\n",
    "<h5><ins>Categorical Input, Categorical Output</ins></h5>\n",
    "\n",
    "Feature selection is often straightforward when working with real-valued data, such as using the Pearson’s correlation coefficient, but can be challenging when working with categorical data. The two most commonly used feature selection methods for categorical input data when the target variable is also categorical (e.g. classification predictive modeling) are the chi-squared statistic and the mutual information statistic from the field of information theory.\n",
    "- **Chi-Squared test (contingency tables)** - Pearson’s chi-squared statistical hypothesis test is an example of a test for independence between categorical variables. The results of this test can be used for feature selection, where those features that are independent of the target variable can be removed from the dataset. When there are three or more levels for the predictor, the degree of association between predictor and outcome can be measured with statistics such as $\\chi^{2}$ tests. This function can be used in a feature selection strategy, such as selecting the top k most relevant features (largest values) via the SelectKBest class. For example, we can define the SelectKBest class to use the **`chi2`** function and select all features, then transform the train and test sets.\n",
    "- **Mutual Information**"
   ]
  },
  {
   "cell_type": "markdown",
   "metadata": {},
   "source": [
    "<table>\n",
    "<tr><th style=\"text-align:center\">SCORING FUNCTION</th><th style=\"text-align:center\">MODE</th></tr>\n",
    "<tr><td>\n",
    "\n",
    "|<b>SCORE_FUNC</b>|desc|<b> I/O Data Type</b>|\n",
    "|:-:|:-:|:-:|\n",
    "|f_classif|ANOVA$\\;$F-value between<br>label/feature for classification tasks|numerical / categorical|\n",
    "|chi2|Chi-squared stats of non-negative<br>features for classification tasks|categorical / categorical|\n",
    "|mutual_info_classif|Mutual information<br>for a discrete target|categorical / categorical|\n",
    "|f_regression|F-value between label/feature<br>for regression tasks|numerical / numerical|\n",
    "|mutual_info_regression|Mutual information<br>for a continuous target|numerical / numerical|\n",
    "|f_oneway|Performs a 1-way ANOVA|\n",
    "    \n",
    "</td><td>\n",
    "\n",
    "|<b>PARAM</b>|desc|\n",
    "|:-:|:-:|\n",
    "|'percentile'|requires param<br>between 0 and 100|\n",
    "|'k_best'|requires param between 1<br>and total number of features|\n",
    "|'fpr', 'fdr', 'fwe'|highest p-value for<br>features to be kept|\n",
    "\n",
    "</td></tr> </table>"
   ]
  },
  {
   "cell_type": "markdown",
   "metadata": {},
   "source": [
    "<a id=\"eg1\"></a>\n",
    "<h2><ins>Example 1: Categorical Input, Categorical Output</ins></h2>"
   ]
  },
  {
   "cell_type": "code",
   "execution_count": 3,
   "metadata": {},
   "outputs": [
    {
     "data": {
      "text/html": [
       "<div>\n",
       "<style scoped>\n",
       "    .dataframe tbody tr th:only-of-type {\n",
       "        vertical-align: middle;\n",
       "    }\n",
       "\n",
       "    .dataframe tbody tr th {\n",
       "        vertical-align: top;\n",
       "    }\n",
       "\n",
       "    .dataframe thead th {\n",
       "        text-align: right;\n",
       "    }\n",
       "</style>\n",
       "<table border=\"1\" class=\"dataframe\">\n",
       "  <thead>\n",
       "    <tr style=\"text-align: right;\">\n",
       "      <th></th>\n",
       "      <th>col_0</th>\n",
       "      <th>col_1</th>\n",
       "      <th>col_2</th>\n",
       "      <th>col_3</th>\n",
       "      <th>col_4</th>\n",
       "      <th>col_5</th>\n",
       "      <th>col_6</th>\n",
       "      <th>col_7</th>\n",
       "      <th>col_8</th>\n",
       "      <th>col_9</th>\n",
       "    </tr>\n",
       "  </thead>\n",
       "  <tbody>\n",
       "    <tr>\n",
       "      <th>0</th>\n",
       "      <td>'40-49'</td>\n",
       "      <td>'premeno'</td>\n",
       "      <td>'15-19'</td>\n",
       "      <td>'0-2'</td>\n",
       "      <td>'yes'</td>\n",
       "      <td>'3'</td>\n",
       "      <td>'right'</td>\n",
       "      <td>'left_up'</td>\n",
       "      <td>'no'</td>\n",
       "      <td>'recurrence-events'</td>\n",
       "    </tr>\n",
       "    <tr>\n",
       "      <th>1</th>\n",
       "      <td>'50-59'</td>\n",
       "      <td>'ge40'</td>\n",
       "      <td>'15-19'</td>\n",
       "      <td>'0-2'</td>\n",
       "      <td>'no'</td>\n",
       "      <td>'1'</td>\n",
       "      <td>'right'</td>\n",
       "      <td>'central'</td>\n",
       "      <td>'no'</td>\n",
       "      <td>'no-recurrence-events'</td>\n",
       "    </tr>\n",
       "    <tr>\n",
       "      <th>2</th>\n",
       "      <td>'50-59'</td>\n",
       "      <td>'ge40'</td>\n",
       "      <td>'35-39'</td>\n",
       "      <td>'0-2'</td>\n",
       "      <td>'no'</td>\n",
       "      <td>'2'</td>\n",
       "      <td>'left'</td>\n",
       "      <td>'left_low'</td>\n",
       "      <td>'no'</td>\n",
       "      <td>'recurrence-events'</td>\n",
       "    </tr>\n",
       "    <tr>\n",
       "      <th>3</th>\n",
       "      <td>'40-49'</td>\n",
       "      <td>'premeno'</td>\n",
       "      <td>'35-39'</td>\n",
       "      <td>'0-2'</td>\n",
       "      <td>'yes'</td>\n",
       "      <td>'3'</td>\n",
       "      <td>'right'</td>\n",
       "      <td>'left_low'</td>\n",
       "      <td>'yes'</td>\n",
       "      <td>'no-recurrence-events'</td>\n",
       "    </tr>\n",
       "    <tr>\n",
       "      <th>4</th>\n",
       "      <td>'40-49'</td>\n",
       "      <td>'premeno'</td>\n",
       "      <td>'30-34'</td>\n",
       "      <td>'3-5'</td>\n",
       "      <td>'yes'</td>\n",
       "      <td>'2'</td>\n",
       "      <td>'left'</td>\n",
       "      <td>'right_up'</td>\n",
       "      <td>'no'</td>\n",
       "      <td>'recurrence-events'</td>\n",
       "    </tr>\n",
       "  </tbody>\n",
       "</table>\n",
       "</div>"
      ],
      "text/plain": [
       "     col_0      col_1    col_2  col_3  col_4 col_5    col_6       col_7  \\\n",
       "0  '40-49'  'premeno'  '15-19'  '0-2'  'yes'   '3'  'right'   'left_up'   \n",
       "1  '50-59'     'ge40'  '15-19'  '0-2'   'no'   '1'  'right'   'central'   \n",
       "2  '50-59'     'ge40'  '35-39'  '0-2'   'no'   '2'   'left'  'left_low'   \n",
       "3  '40-49'  'premeno'  '35-39'  '0-2'  'yes'   '3'  'right'  'left_low'   \n",
       "4  '40-49'  'premeno'  '30-34'  '3-5'  'yes'   '2'   'left'  'right_up'   \n",
       "\n",
       "   col_8                   col_9  \n",
       "0   'no'     'recurrence-events'  \n",
       "1   'no'  'no-recurrence-events'  \n",
       "2   'no'     'recurrence-events'  \n",
       "3  'yes'  'no-recurrence-events'  \n",
       "4   'no'     'recurrence-events'  "
      ]
     },
     "execution_count": 3,
     "metadata": {},
     "output_type": "execute_result"
    }
   ],
   "source": [
    "df = pd.read_csv(\"./datasets/Feature Selection/breast_cancer.csv\",\n",
    "                 header=None, prefix='col_')\n",
    "df.head()"
   ]
  },
  {
   "cell_type": "code",
   "execution_count": 4,
   "metadata": {},
   "outputs": [],
   "source": [
    "# .astype('str') is used here to convert nan to the category 'nan'.\n",
    "X = df.drop(columns=['col_9']).astype('str')\n",
    "y = df['col_9']"
   ]
  },
  {
   "cell_type": "code",
   "execution_count": 5,
   "metadata": {},
   "outputs": [],
   "source": [
    "from sklearn.model_selection import train_test_split"
   ]
  },
  {
   "cell_type": "code",
   "execution_count": 6,
   "metadata": {},
   "outputs": [],
   "source": [
    "X_train, X_test, y_train, y_test = train_test_split(X, y, \n",
    "                                                    test_size=0.33, \n",
    "                                                    random_state=1)"
   ]
  },
  {
   "cell_type": "code",
   "execution_count": 7,
   "metadata": {},
   "outputs": [],
   "source": [
    "from sklearn.preprocessing import OrdinalEncoder, LabelEncoder, OneHotEncoder\n",
    "from sklearn.compose import ColumnTransformer"
   ]
  },
  {
   "cell_type": "code",
   "execution_count": 8,
   "metadata": {},
   "outputs": [],
   "source": [
    "# prepare target\n",
    "le = LabelEncoder()\n",
    "y_train_enc = le.fit_transform(y_train)\n",
    "y_test_enc = le.transform(y_test)\n",
    "\n",
    "# prepare input data\n",
    "oe = OrdinalEncoder()\n",
    "X_train_enc = pd.DataFrame(oe.fit_transform(X_train),\n",
    "                           columns=X_train.columns)\n",
    "X_test_enc = pd.DataFrame(oe.transform(X_test),\n",
    "                          columns=X_test.columns)"
   ]
  },
  {
   "cell_type": "code",
   "execution_count": 9,
   "metadata": {},
   "outputs": [],
   "source": [
    "# # encoding the feature variables\n",
    "# ct = ColumnTransformer(transformers=[('ordinal',OrdinalEncoder(), [0,1,2,3,5]),\n",
    "#                                     ('onehot',OneHotEncoder(drop='first'),[4,6,7,8])],\n",
    "#                        remainder='passthrough')\n",
    "# data = ct.fit_transform(X_train)\n",
    "# X_train_ct = pd.DataFrame(data, \n",
    "#                      columns=[f'col_{i}' for i in range(1,data.shape[1]+1)])\n",
    "# X_test_ct = pd.DataFrame(ct.transform(X_test),\n",
    "#                          columns=[f'col_{i}' for i in range(1,data.shape[1]+1)])\n",
    "\n",
    "# # encoding the target variable\n",
    "# le = LabelEncoder()\n",
    "# y_enc = le.fit_transform(y)\n",
    "# print(f'Label dict for target:\\n{dict(enumerate(le.classes_))}')"
   ]
  },
  {
   "cell_type": "code",
   "execution_count": 10,
   "metadata": {},
   "outputs": [],
   "source": [
    "from sklearn.feature_selection import (SelectKBest, chi2, \n",
    "                                       f_classif, mutual_info_classif)"
   ]
  },
  {
   "cell_type": "code",
   "execution_count": 11,
   "metadata": {},
   "outputs": [
    {
     "data": {
      "text/html": [
       "<div>\n",
       "<style scoped>\n",
       "    .dataframe tbody tr th:only-of-type {\n",
       "        vertical-align: middle;\n",
       "    }\n",
       "\n",
       "    .dataframe tbody tr th {\n",
       "        vertical-align: top;\n",
       "    }\n",
       "\n",
       "    .dataframe thead th {\n",
       "        text-align: right;\n",
       "    }\n",
       "</style>\n",
       "<table border=\"1\" class=\"dataframe\">\n",
       "  <thead>\n",
       "    <tr style=\"text-align: right;\">\n",
       "      <th></th>\n",
       "      <th>col_3</th>\n",
       "      <th>col_4</th>\n",
       "      <th>col_5</th>\n",
       "      <th>col_6</th>\n",
       "      <th>col_8</th>\n",
       "    </tr>\n",
       "  </thead>\n",
       "  <tbody>\n",
       "    <tr>\n",
       "      <th>0</th>\n",
       "      <td>0.0</td>\n",
       "      <td>0.0</td>\n",
       "      <td>0.0</td>\n",
       "      <td>0.0</td>\n",
       "      <td>0.0</td>\n",
       "    </tr>\n",
       "    <tr>\n",
       "      <th>1</th>\n",
       "      <td>0.0</td>\n",
       "      <td>0.0</td>\n",
       "      <td>1.0</td>\n",
       "      <td>0.0</td>\n",
       "      <td>0.0</td>\n",
       "    </tr>\n",
       "    <tr>\n",
       "      <th>2</th>\n",
       "      <td>0.0</td>\n",
       "      <td>1.0</td>\n",
       "      <td>1.0</td>\n",
       "      <td>1.0</td>\n",
       "      <td>1.0</td>\n",
       "    </tr>\n",
       "    <tr>\n",
       "      <th>3</th>\n",
       "      <td>0.0</td>\n",
       "      <td>0.0</td>\n",
       "      <td>0.0</td>\n",
       "      <td>0.0</td>\n",
       "      <td>0.0</td>\n",
       "    </tr>\n",
       "    <tr>\n",
       "      <th>4</th>\n",
       "      <td>0.0</td>\n",
       "      <td>0.0</td>\n",
       "      <td>1.0</td>\n",
       "      <td>1.0</td>\n",
       "      <td>0.0</td>\n",
       "    </tr>\n",
       "    <tr>\n",
       "      <th>...</th>\n",
       "      <td>...</td>\n",
       "      <td>...</td>\n",
       "      <td>...</td>\n",
       "      <td>...</td>\n",
       "      <td>...</td>\n",
       "    </tr>\n",
       "    <tr>\n",
       "      <th>186</th>\n",
       "      <td>0.0</td>\n",
       "      <td>0.0</td>\n",
       "      <td>0.0</td>\n",
       "      <td>1.0</td>\n",
       "      <td>0.0</td>\n",
       "    </tr>\n",
       "    <tr>\n",
       "      <th>187</th>\n",
       "      <td>0.0</td>\n",
       "      <td>0.0</td>\n",
       "      <td>2.0</td>\n",
       "      <td>1.0</td>\n",
       "      <td>1.0</td>\n",
       "    </tr>\n",
       "    <tr>\n",
       "      <th>188</th>\n",
       "      <td>0.0</td>\n",
       "      <td>0.0</td>\n",
       "      <td>0.0</td>\n",
       "      <td>1.0</td>\n",
       "      <td>0.0</td>\n",
       "    </tr>\n",
       "    <tr>\n",
       "      <th>189</th>\n",
       "      <td>0.0</td>\n",
       "      <td>0.0</td>\n",
       "      <td>1.0</td>\n",
       "      <td>1.0</td>\n",
       "      <td>0.0</td>\n",
       "    </tr>\n",
       "    <tr>\n",
       "      <th>190</th>\n",
       "      <td>5.0</td>\n",
       "      <td>1.0</td>\n",
       "      <td>2.0</td>\n",
       "      <td>0.0</td>\n",
       "      <td>0.0</td>\n",
       "    </tr>\n",
       "  </tbody>\n",
       "</table>\n",
       "<p>191 rows × 5 columns</p>\n",
       "</div>"
      ],
      "text/plain": [
       "     col_3  col_4  col_5  col_6  col_8\n",
       "0      0.0    0.0    0.0    0.0    0.0\n",
       "1      0.0    0.0    1.0    0.0    0.0\n",
       "2      0.0    1.0    1.0    1.0    1.0\n",
       "3      0.0    0.0    0.0    0.0    0.0\n",
       "4      0.0    0.0    1.0    1.0    0.0\n",
       "..     ...    ...    ...    ...    ...\n",
       "186    0.0    0.0    0.0    1.0    0.0\n",
       "187    0.0    0.0    2.0    1.0    1.0\n",
       "188    0.0    0.0    0.0    1.0    0.0\n",
       "189    0.0    0.0    1.0    1.0    0.0\n",
       "190    5.0    1.0    2.0    0.0    0.0\n",
       "\n",
       "[191 rows x 5 columns]"
      ]
     },
     "execution_count": 11,
     "metadata": {},
     "output_type": "execute_result"
    }
   ],
   "source": [
    "fs = SelectKBest(f_classif, k=5)\n",
    "data = fs.fit_transform(X_train_enc,y_train_enc)\n",
    "X_selected = pd.DataFrame(data=data, columns=fs.get_feature_names_out())\n",
    "X_selected"
   ]
  },
  {
   "cell_type": "code",
   "execution_count": 12,
   "metadata": {},
   "outputs": [
    {
     "data": {
      "text/plain": [
       "array([ 1.19277943,  0.03276349,  1.90112455,  8.66171567,  8.4364691 ,\n",
       "       18.03014605,  2.34363161,  1.36947019,  5.02008525])"
      ]
     },
     "execution_count": 12,
     "metadata": {},
     "output_type": "execute_result"
    }
   ],
   "source": [
    "fs.scores_"
   ]
  },
  {
   "cell_type": "code",
   "execution_count": 13,
   "metadata": {},
   "outputs": [
    {
     "data": {
      "image/png": "[encoded data removed]",
      "text/plain": [
       "<Figure size 432x288 with 1 Axes>"
      ]
     },
     "metadata": {
      "needs_background": "light"
     },
     "output_type": "display_data"
    }
   ],
   "source": [
    "plt.bar([i for i in range(len(fs.scores_))], fs.scores_)\n",
    "plt.hlines(y=5,xmin=-1,xmax=13,colors='red',linestyles='dashed')\n",
    "plt.show()"
   ]
  },
  {
   "cell_type": "code",
   "execution_count": 14,
   "metadata": {
    "scrolled": true
   },
   "outputs": [
    {
     "data": {
      "text/plain": [
       "array([2.76159837e-01, 8.56556128e-01, 1.69582161e-01, 3.65684831e-03,\n",
       "       4.11610141e-03, 3.40707282e-05, 1.27468030e-01, 2.43376437e-01,\n",
       "       2.62190994e-02])"
      ]
     },
     "execution_count": 14,
     "metadata": {},
     "output_type": "execute_result"
    }
   ],
   "source": [
    "fs.pvalues_"
   ]
  },
  {
   "cell_type": "code",
   "execution_count": 15,
   "metadata": {},
   "outputs": [
    {
     "data": {
      "text/plain": [
       "array(['col_3', 'col_4', 'col_5', 'col_6', 'col_8'], dtype=object)"
      ]
     },
     "execution_count": 15,
     "metadata": {},
     "output_type": "execute_result"
    }
   ],
   "source": [
    "fs.get_feature_names_out()"
   ]
  },
  {
   "cell_type": "code",
   "execution_count": 16,
   "metadata": {},
   "outputs": [
    {
     "name": "stdout",
     "output_type": "stream",
     "text": [
      "['col_2' 'col_3' 'col_4' 'col_5' 'col_8']\n",
      "['col_3' 'col_4' 'col_5' 'col_6' 'col_8']\n",
      "['col_2' 'col_4' 'col_5' 'col_6' 'col_7']\n"
     ]
    }
   ],
   "source": [
    "for i in [chi2, f_classif, mutual_info_classif]:\n",
    "    fs = SelectKBest(i, k=5)\n",
    "    fs.fit_transform(X_train_enc,y_train_enc)\n",
    "    print(fs.get_feature_names_out())"
   ]
  },
  {
   "cell_type": "code",
   "execution_count": 17,
   "metadata": {},
   "outputs": [],
   "source": [
    "from sklearn.linear_model import LogisticRegression\n",
    "from sklearn.metrics import accuracy_score\n",
    "from sklearn.pipeline import Pipeline"
   ]
  },
  {
   "cell_type": "code",
   "execution_count": 18,
   "metadata": {},
   "outputs": [
    {
     "name": "stdout",
     "output_type": "stream",
     "text": [
      "Logistic with all features:  Accuracy: 75.79\n"
     ]
    }
   ],
   "source": [
    "model = LogisticRegression(solver='lbfgs')\n",
    "model.fit(X_train_enc, y_train_enc)\n",
    "# evaluate the model\n",
    "yhat = model.predict(X_test_enc)\n",
    "# evaluate predictions\n",
    "accuracy = accuracy_score(y_test_enc, yhat)\n",
    "print('Logistic with all features:  Accuracy: %.2f' % (accuracy*100))"
   ]
  },
  {
   "cell_type": "code",
   "execution_count": 19,
   "metadata": {},
   "outputs": [
    {
     "name": "stdout",
     "output_type": "stream",
     "text": [
      "Logistic with chi2: Accuracy: 72.63\n"
     ]
    }
   ],
   "source": [
    "fs = SelectKBest(chi2, k=5)\n",
    "X_train_chi2 = fs.fit_transform(X_train_enc,y_train_enc)\n",
    "X_test_chi2 = fs.transform(X_test_enc)\n",
    "\n",
    "# Model Built Using chi2 Features\n",
    "model2 = LogisticRegression(solver='liblinear', max_iter=500)\n",
    "model2.fit(X_train_chi2, y_train_enc)\n",
    "yhat2 = model2.predict(X_test_chi2)\n",
    "accuracy2 = accuracy_score(y_test_enc, yhat2)\n",
    "print('Logistic with chi2: Accuracy: %.2f' % (accuracy2*100))"
   ]
  },
  {
   "cell_type": "code",
   "execution_count": 20,
   "metadata": {},
   "outputs": [
    {
     "name": "stdout",
     "output_type": "stream",
     "text": [
      "Logistic with f-classif: Accuracy: 73.68\n"
     ]
    }
   ],
   "source": [
    "fs = SelectKBest(f_classif, k=5)\n",
    "X_train_f_classif = fs.fit_transform(X_train_enc,y_train_enc)\n",
    "X_test_f_classif = fs.transform(X_test_enc)\n",
    "\n",
    "# Model Built Using ANOVA F-test Features\n",
    "model3 = LogisticRegression(solver='liblinear', max_iter=500)\n",
    "model3.fit(X_train_f_classif, y_train_enc)\n",
    "yhat3 = model3.predict(X_test_f_classif)\n",
    "accuracy3 = accuracy_score(y_test_enc, yhat3)\n",
    "print('Logistic with f-classif: Accuracy: %.2f' % (accuracy3*100))"
   ]
  },
  {
   "cell_type": "code",
   "execution_count": 21,
   "metadata": {},
   "outputs": [
    {
     "name": "stdout",
     "output_type": "stream",
     "text": [
      "Logistic with Mutual Informaion: Accuracy: 70.53\n"
     ]
    }
   ],
   "source": [
    "fs = SelectKBest(mutual_info_classif, k=5)\n",
    "X_train_mic = fs.fit_transform(X_train_enc,y_train_enc)\n",
    "X_test_mic = fs.transform(X_test_enc)\n",
    "\n",
    "# Model Built Using Mutual Information Features\n",
    "model4 = LogisticRegression(solver='liblinear', max_iter=500)\n",
    "model4.fit(X_train_mic, y_train_enc)\n",
    "yhat4 = model4.predict(X_test_mic)\n",
    "accuracy4 = accuracy_score(y_test_enc, yhat4)\n",
    "print('Logistic with Mutual Informaion: Accuracy: %.2f' % (accuracy4*100))"
   ]
  },
  {
   "cell_type": "code",
   "execution_count": 22,
   "metadata": {},
   "outputs": [],
   "source": [
    "from sklearn.model_selection import (RepeatedStratifiedKFold, \n",
    "                                     GridSearchCV, cross_val_score)"
   ]
  },
  {
   "cell_type": "code",
   "execution_count": 23,
   "metadata": {},
   "outputs": [],
   "source": [
    "X_ = OrdinalEncoder().fit_transform(X)\n",
    "y_ = LabelEncoder().fit_transform(y)"
   ]
  },
  {
   "cell_type": "code",
   "execution_count": 24,
   "metadata": {
    "scrolled": true
   },
   "outputs": [],
   "source": [
    "# define the pipeline to evaluate\n",
    "model = LogisticRegression(solver='liblinear', max_iter=500)\n",
    "fs = SelectKBest()\n",
    "pipeline = Pipeline(steps=[('anova',fs), ('lr', model)])\n",
    "                                     \n",
    "# define the grid\n",
    "grid = dict()\n",
    "grid['anova__k'] = [i+1 for i in range(X.shape[1])]\n",
    "grid['anova__score_func'] = [chi2, f_classif, mutual_info_classif]\n",
    "\n",
    "cv = RepeatedStratifiedKFold(n_splits=10, n_repeats=3, random_state=1)\n",
    "\n",
    "# define the grid search\n",
    "search = GridSearchCV(pipeline, grid, scoring='accuracy', n_jobs=-1, cv=cv)\n",
    "# perform the search\n",
    "results = search.fit(X_, y_)"
   ]
  },
  {
   "cell_type": "code",
   "execution_count": 25,
   "metadata": {},
   "outputs": [
    {
     "name": "stdout",
     "output_type": "stream",
     "text": [
      "Best Mean Accuracy: 0.746\n",
      "Best Config: {'anova__k': 4, 'anova__score_func': <function f_classif at 0x000001D2C1C97280>}\n"
     ]
    }
   ],
   "source": [
    "# summarize best\n",
    "print('Best Mean Accuracy: %.3f' % results.best_score_)\n",
    "print('Best Config: %s' % results.best_params_)"
   ]
  },
  {
   "cell_type": "code",
   "execution_count": 26,
   "metadata": {
    "scrolled": true
   },
   "outputs": [
    {
     "name": "stdout",
     "output_type": "stream",
     "text": [
      ">1 0.708 (0.075)\n",
      ">2 0.706 (0.073)\n",
      ">3 0.743 (0.057)\n",
      ">4 0.744 (0.063)\n",
      ">5 0.741 (0.063)\n",
      ">6 0.731 (0.062)\n",
      ">7 0.731 (0.062)\n",
      ">8 0.729 (0.072)\n",
      ">9 0.737 (0.066)\n"
     ]
    },
    {
     "data": {
      "image/png": "[encoded data removed]",
      "text/plain": [
       "<Figure size 432x288 with 1 Axes>"
      ]
     },
     "metadata": {
      "needs_background": "light"
     },
     "output_type": "display_data"
    },
    {
     "name": "stdout",
     "output_type": "stream",
     "text": [
      ">1 0.689 (0.052)\n",
      ">2 0.738 (0.055)\n",
      ">3 0.743 (0.057)\n",
      ">4 0.746 (0.064)\n",
      ">5 0.741 (0.063)\n",
      ">6 0.739 (0.061)\n",
      ">7 0.738 (0.071)\n",
      ">8 0.732 (0.074)\n",
      ">9 0.737 (0.066)\n"
     ]
    },
    {
     "data": {
      "image/png": "[encoded data removed]",
      "text/plain": [
       "<Figure size 432x288 with 1 Axes>"
      ]
     },
     "metadata": {
      "needs_background": "light"
     },
     "output_type": "display_data"
    },
    {
     "name": "stdout",
     "output_type": "stream",
     "text": [
      ">1 0.691 (0.034)\n",
      ">2 0.724 (0.052)\n",
      ">3 0.724 (0.062)\n",
      ">4 0.749 (0.057)\n",
      ">5 0.730 (0.064)\n",
      ">6 0.740 (0.056)\n",
      ">7 0.739 (0.069)\n",
      ">8 0.740 (0.065)\n",
      ">9 0.737 (0.066)\n"
     ]
    },
    {
     "data": {
      "image/png": "[encoded data removed]",
      "text/plain": [
       "<Figure size 432x288 with 1 Axes>"
      ]
     },
     "metadata": {
      "needs_background": "light"
     },
     "output_type": "display_data"
    }
   ],
   "source": [
    "# evaluate a given model using cross-validation\n",
    "def evaluate_model(model):\n",
    "    cv = RepeatedStratifiedKFold(n_splits=10, n_repeats=3, random_state=1)\n",
    "    scores = cross_val_score(model, X_, y_, scoring='accuracy', cv=cv, n_jobs=-1)\n",
    "    return scores\n",
    "\n",
    "# define number of features to evaluate\n",
    "num_features = [i+1 for i in range(X_.shape[1])]\n",
    "\n",
    "for i in [chi2, f_classif, mutual_info_classif]:\n",
    "    \n",
    "    # enumerate each number of features\n",
    "    results = list()\n",
    "    for k in num_features:\n",
    "    \n",
    "        # create pipeline\n",
    "        model = LogisticRegression(solver='liblinear')\n",
    "        fs = SelectKBest(score_func=i, k=k)\n",
    "        pipeline = Pipeline(steps=[('anova',fs), ('lr', model)])\n",
    "    \n",
    "        # evaluate the model\n",
    "        scores = evaluate_model(pipeline)\n",
    "        results.append(scores)\n",
    "    \n",
    "        # summarize the results\n",
    "        print('>%d %.3f (%.3f)' % (k, np.mean(scores), np.std(scores)))\n",
    "\n",
    "    # plot model performance for comparison\n",
    "    plt.boxplot(results, labels=num_features, showmeans=True)\n",
    "    plt.title(f'{str(i)}')\n",
    "    plt.show()"
   ]
  },
  {
   "cell_type": "markdown",
   "metadata": {},
   "source": [
    "<a id=\"eg2\"></a>\n",
    "<h2><ins>Example 2: Numerical Input, Categorical Output</ins></h2>"
   ]
  },
  {
   "cell_type": "code",
   "execution_count": 27,
   "metadata": {},
   "outputs": [
    {
     "data": {
      "text/html": [
       "<div>\n",
       "<style scoped>\n",
       "    .dataframe tbody tr th:only-of-type {\n",
       "        vertical-align: middle;\n",
       "    }\n",
       "\n",
       "    .dataframe tbody tr th {\n",
       "        vertical-align: top;\n",
       "    }\n",
       "\n",
       "    .dataframe thead th {\n",
       "        text-align: right;\n",
       "    }\n",
       "</style>\n",
       "<table border=\"1\" class=\"dataframe\">\n",
       "  <thead>\n",
       "    <tr style=\"text-align: right;\">\n",
       "      <th></th>\n",
       "      <th>col_0</th>\n",
       "      <th>col_1</th>\n",
       "      <th>col_2</th>\n",
       "      <th>col_3</th>\n",
       "      <th>col_4</th>\n",
       "      <th>col_5</th>\n",
       "      <th>col_6</th>\n",
       "      <th>col_7</th>\n",
       "      <th>col_8</th>\n",
       "    </tr>\n",
       "  </thead>\n",
       "  <tbody>\n",
       "    <tr>\n",
       "      <th>0</th>\n",
       "      <td>6</td>\n",
       "      <td>148</td>\n",
       "      <td>72</td>\n",
       "      <td>35</td>\n",
       "      <td>0</td>\n",
       "      <td>33.6</td>\n",
       "      <td>0.627</td>\n",
       "      <td>50</td>\n",
       "      <td>1</td>\n",
       "    </tr>\n",
       "    <tr>\n",
       "      <th>1</th>\n",
       "      <td>1</td>\n",
       "      <td>85</td>\n",
       "      <td>66</td>\n",
       "      <td>29</td>\n",
       "      <td>0</td>\n",
       "      <td>26.6</td>\n",
       "      <td>0.351</td>\n",
       "      <td>31</td>\n",
       "      <td>0</td>\n",
       "    </tr>\n",
       "    <tr>\n",
       "      <th>2</th>\n",
       "      <td>8</td>\n",
       "      <td>183</td>\n",
       "      <td>64</td>\n",
       "      <td>0</td>\n",
       "      <td>0</td>\n",
       "      <td>23.3</td>\n",
       "      <td>0.672</td>\n",
       "      <td>32</td>\n",
       "      <td>1</td>\n",
       "    </tr>\n",
       "    <tr>\n",
       "      <th>3</th>\n",
       "      <td>1</td>\n",
       "      <td>89</td>\n",
       "      <td>66</td>\n",
       "      <td>23</td>\n",
       "      <td>94</td>\n",
       "      <td>28.1</td>\n",
       "      <td>0.167</td>\n",
       "      <td>21</td>\n",
       "      <td>0</td>\n",
       "    </tr>\n",
       "    <tr>\n",
       "      <th>4</th>\n",
       "      <td>0</td>\n",
       "      <td>137</td>\n",
       "      <td>40</td>\n",
       "      <td>35</td>\n",
       "      <td>168</td>\n",
       "      <td>43.1</td>\n",
       "      <td>2.288</td>\n",
       "      <td>33</td>\n",
       "      <td>1</td>\n",
       "    </tr>\n",
       "  </tbody>\n",
       "</table>\n",
       "</div>"
      ],
      "text/plain": [
       "   col_0  col_1  col_2  col_3  col_4  col_5  col_6  col_7  col_8\n",
       "0      6    148     72     35      0   33.6  0.627     50      1\n",
       "1      1     85     66     29      0   26.6  0.351     31      0\n",
       "2      8    183     64      0      0   23.3  0.672     32      1\n",
       "3      1     89     66     23     94   28.1  0.167     21      0\n",
       "4      0    137     40     35    168   43.1  2.288     33      1"
      ]
     },
     "execution_count": 27,
     "metadata": {},
     "output_type": "execute_result"
    }
   ],
   "source": [
    "df1 = pd.read_csv(\"./datasets/Feature Selection/Diabetes.csv\", header=None,\n",
    "                prefix='col_')\n",
    "df1.head()"
   ]
  },
  {
   "cell_type": "code",
   "execution_count": 28,
   "metadata": {},
   "outputs": [
    {
     "name": "stdout",
     "output_type": "stream",
     "text": [
      "Logistic with all features: Accuracy: 77.56\n",
      "Logistic with f-classif: Accuracy: 78.74\n",
      "Logistic with Mutual Informaion: Accuracy: 78.74\n"
     ]
    }
   ],
   "source": [
    "def load_dataset(file_path):\n",
    "    # read in the dataset using pandas\n",
    "    df = pd.read_csv(file_path, header=None, prefix='col_')\n",
    "    # split the data into input and output variables\n",
    "    X = df.values[:, :-1]\n",
    "    y = df.values[:,-1]\n",
    "    return X, y\n",
    "\n",
    "# feature selection\n",
    "def select_features(X_train, y_train, X_test,score_func,k):\n",
    "    fs = SelectKBest(score_func=score_func, k=k)\n",
    "    fs.fit(X_train, y_train)\n",
    "    X_train_fs = fs.transform(X_train)\n",
    "    X_test_fs = fs.transform(X_test)\n",
    "    return X_train_fs, X_test_fs, fs\n",
    "\n",
    "\n",
    "# load the dataset\n",
    "X, y = load_dataset(\"./datasets/Feature Selection/Diabetes.csv\")\n",
    "# split into train and test sets\n",
    "X_train, X_test, y_train, y_test = train_test_split(X, y, \n",
    "                                                    test_size=0.33, \n",
    "                                                    random_state=1)\n",
    "# print('Train', X_train.shape, y_train.shape)\n",
    "# print('Test', X_test.shape, y_test.shape)\n",
    "# print('Train', X_train_enc.shape, y_train_enc.shape)\n",
    "# print('Test', X_test_enc.shape, y_test_enc.shape)\n",
    "\n",
    "# # feature selection\n",
    "X_train_fs_fc, X_test_fs_fc, fs_fc = select_features(X_train, y_train, \n",
    "                                            X_test, f_classif,k=4)\n",
    "X_train_fs_mi, X_test_fs_mi, fs_mi = select_features(X_train, y_train, \n",
    "                                            X_test, mutual_info_classif,k=4)\n",
    "\n",
    "# # what are scores for the features\n",
    "# for i in range(len(fs_mi.scores_)):\n",
    "#     print('Feature %d: %f' % (i, fs_mi.scores_[i]))\n",
    "    \n",
    "# # plot the scores\n",
    "# plt.bar([i for i in range(len(fs_mi.scores_))], fs_mi.scores_)\n",
    "# plt.show()\n",
    "\n",
    "# fit the model\n",
    "model = LogisticRegression(solver='liblinear', max_iter=300)\n",
    "model.fit(X_train, y_train)\n",
    "# evaluate the model\n",
    "yhat = model.predict(X_test)\n",
    "# evaluate predictions\n",
    "accuracy = accuracy_score(y_test, yhat)\n",
    "print('Logistic with all features: Accuracy: %.2f' % (accuracy*100))\n",
    "\n",
    "# Model Built Using ANOVA F-test Features\n",
    "model2 = LogisticRegression(solver='liblinear', max_iter=500)\n",
    "model2.fit(X_train_fs_fc, y_train)\n",
    "yhat2 = model2.predict(X_test_fs_fc)\n",
    "accuracy2 = accuracy_score(y_test, yhat2)\n",
    "print('Logistic with f-classif: Accuracy: %.2f' % (accuracy2*100))\n",
    "\n",
    "# Model Built Using Mutual Information Features\n",
    "model3 = LogisticRegression(solver='liblinear', max_iter=300)\n",
    "model3.fit(X_train_fs_mi, y_train)\n",
    "yhat3 = model3.predict(X_test_fs_mi)\n",
    "accuracy3 = accuracy_score(y_test, yhat3)\n",
    "print('Logistic with Mutual Informaion: Accuracy: %.2f' % (accuracy3*100))"
   ]
  },
  {
   "cell_type": "markdown",
   "metadata": {},
   "source": [
    "<a id=\"tune\"></a>\n",
    "<h5><ins>Tune the Number of Selected Features</ins></h5>\n",
    "\n",
    "In the previous examples, we selected the number of features $k$ based on a visual inspection. Instead of guessing, we can systematically test a range\n",
    "of different numbers of selected features and discover which results in the best performing model. This is called a grid search, where the `k` argument to the `SelectKBest` class can be tuned.\n",
    "- It is good practice to evaluate model configurations on classification tasks using repeated stratified k-fold cross-validation."
   ]
  },
  {
   "cell_type": "code",
   "execution_count": 29,
   "metadata": {},
   "outputs": [],
   "source": [
    "# load the dataset\n",
    "X, y = load_dataset(\"./datasets/Feature Selection/Diabetes.csv\")"
   ]
  },
  {
   "cell_type": "markdown",
   "metadata": {},
   "source": [
    "We will use three repeats of 10-fold cross-validation via the `RepeatedStratifiedKFold` class."
   ]
  },
  {
   "cell_type": "code",
   "execution_count": 30,
   "metadata": {},
   "outputs": [],
   "source": [
    "from sklearn.model_selection import (RepeatedStratifiedKFold, \n",
    "                                     GridSearchCV, cross_val_score)"
   ]
  },
  {
   "cell_type": "code",
   "execution_count": 31,
   "metadata": {},
   "outputs": [],
   "source": [
    "# define the evaluation method\n",
    "cv = RepeatedStratifiedKFold(n_splits=10, n_repeats=3, random_state=1)"
   ]
  },
  {
   "cell_type": "markdown",
   "metadata": {},
   "source": [
    "We can define a Pipeline that correctly prepares the feature selection transform on the training set and applies it to the train set and test set for each fold of the cross-validation. In this case, we will use the ANOVA F-test statistical method for selecting features."
   ]
  },
  {
   "cell_type": "code",
   "execution_count": 32,
   "metadata": {},
   "outputs": [],
   "source": [
    "from sklearn.pipeline import Pipeline"
   ]
  },
  {
   "cell_type": "code",
   "execution_count": 33,
   "metadata": {},
   "outputs": [],
   "source": [
    "# define the pipeline to evaluate\n",
    "model = LogisticRegression(solver='liblinear')\n",
    "fs = SelectKBest(score_func=f_classif)\n",
    "pipeline = Pipeline(steps=[('anova',fs), ('lr', model)])"
   ]
  },
  {
   "cell_type": "markdown",
   "metadata": {},
   "source": [
    "We can then define the grid of values to evaluate as 1 to 8. Note that the grid is a dictionary that maps parameter names to values to be searched. Given that we are using a Pipeline, we can access the SelectKBest object via the name we gave it, ‘anova’, and then the parameter name k, separated by two underscores, or ‘anova__k’."
   ]
  },
  {
   "cell_type": "code",
   "execution_count": 34,
   "metadata": {},
   "outputs": [],
   "source": [
    "# define the grid\n",
    "grid = dict()\n",
    "grid['anova__k'] = [i+1 for i in range(X.shape[1])]"
   ]
  },
  {
   "cell_type": "code",
   "execution_count": 35,
   "metadata": {},
   "outputs": [
    {
     "data": {
      "text/plain": [
       "{'anova__k': [1, 2, 3, 4, 5, 6, 7, 8]}"
      ]
     },
     "execution_count": 35,
     "metadata": {},
     "output_type": "execute_result"
    }
   ],
   "source": [
    "grid"
   ]
  },
  {
   "cell_type": "code",
   "execution_count": 36,
   "metadata": {},
   "outputs": [],
   "source": [
    "# define the grid search\n",
    "search = GridSearchCV(pipeline, grid, scoring='accuracy', n_jobs=-1, cv=cv)\n",
    "# perform the search\n",
    "results = search.fit(X, y)"
   ]
  },
  {
   "cell_type": "code",
   "execution_count": 37,
   "metadata": {},
   "outputs": [
    {
     "name": "stdout",
     "output_type": "stream",
     "text": [
      "Best Mean Accuracy: 0.770\n",
      "Best Config: {'anova__k': 7}\n"
     ]
    }
   ],
   "source": [
    "# summarize best\n",
    "print('Best Mean Accuracy: %.3f' % results.best_score_)\n",
    "print('Best Config: %s' % results.best_params_)"
   ]
  },
  {
   "cell_type": "markdown",
   "metadata": {},
   "source": [
    "We might want to see the relationship between the number of selected features and classification accuracy. In this relationship, we may expect that more features result in a better performance to a point. This relationship can be explored by manually evaluating each configuration of k for the SelectKBest from 1 to 8, gathering the sample of accuracy scores, and plotting the results using box and whisker plots side-by-side. The spread and mean of these box plots would be expected to show any interesting relationship between the number of selected features and the classification accuracy of the pipeline. "
   ]
  },
  {
   "cell_type": "code",
   "execution_count": 38,
   "metadata": {},
   "outputs": [
    {
     "name": "stdout",
     "output_type": "stream",
     "text": [
      ">1 0.748 (0.048)\n",
      ">2 0.756 (0.042)\n",
      ">3 0.761 (0.044)\n",
      ">4 0.759 (0.042)\n",
      ">5 0.770 (0.041)\n",
      ">6 0.766 (0.042)\n",
      ">7 0.770 (0.042)\n",
      ">8 0.768 (0.040)\n"
     ]
    },
    {
     "data": {
      "image/png": "[encoded data removed]",
      "text/plain": [
       "<Figure size 432x288 with 1 Axes>"
      ]
     },
     "metadata": {
      "needs_background": "light"
     },
     "output_type": "display_data"
    }
   ],
   "source": [
    "# evaluate a given model using cross-validation\n",
    "def evaluate_model(model):\n",
    "    cv = RepeatedStratifiedKFold(n_splits=10, n_repeats=3, random_state=1)\n",
    "    scores = cross_val_score(model, X, y, scoring='accuracy', cv=cv, n_jobs=-1)\n",
    "    return scores\n",
    "\n",
    "# define number of features to evaluate\n",
    "num_features = [i+1 for i in range(X.shape[1])]\n",
    "\n",
    "# enumerate each number of features\n",
    "results = list()\n",
    "for k in num_features:\n",
    "    \n",
    "    # create pipeline\n",
    "    model = LogisticRegression(solver='liblinear')\n",
    "    fs = SelectKBest(score_func=f_classif, k=k)\n",
    "    pipeline = Pipeline(steps=[('anova',fs), ('lr', model)])\n",
    "    \n",
    "    # evaluate the model\n",
    "    scores = evaluate_model(pipeline)\n",
    "    results.append(scores)\n",
    "    \n",
    "    # summarize the results\n",
    "    print('>%d %.3f (%.3f)' % (k, np.mean(scores), np.std(scores)))\n",
    "\n",
    "# plot model performance for comparison\n",
    "plt.boxplot(results, labels=num_features, showmeans=True)\n",
    "plt.show()"
   ]
  },
  {
   "cell_type": "markdown",
   "metadata": {},
   "source": [
    "Box and whisker plots are created side-by-side showing the trend of increasing mean accuracy with the number of selected features to five features, after which it may become less stable. Selecting five features might be an appropriate configuration in this case."
   ]
  },
  {
   "cell_type": "markdown",
   "metadata": {},
   "source": [
    "<a id=\"eg3\"></a>\n",
    "<h5><ins>Example 3: Numerical Output</ins></h5>"
   ]
  },
  {
   "cell_type": "code",
   "execution_count": 39,
   "metadata": {},
   "outputs": [],
   "source": [
    "from sklearn.datasets import load_diabetes"
   ]
  },
  {
   "cell_type": "code",
   "execution_count": 40,
   "metadata": {},
   "outputs": [
    {
     "data": {
      "text/html": [
       "<div>\n",
       "<style scoped>\n",
       "    .dataframe tbody tr th:only-of-type {\n",
       "        vertical-align: middle;\n",
       "    }\n",
       "\n",
       "    .dataframe tbody tr th {\n",
       "        vertical-align: top;\n",
       "    }\n",
       "\n",
       "    .dataframe thead th {\n",
       "        text-align: right;\n",
       "    }\n",
       "</style>\n",
       "<table border=\"1\" class=\"dataframe\">\n",
       "  <thead>\n",
       "    <tr style=\"text-align: right;\">\n",
       "      <th></th>\n",
       "      <th>age</th>\n",
       "      <th>sex</th>\n",
       "      <th>bmi</th>\n",
       "      <th>bp</th>\n",
       "      <th>s1</th>\n",
       "      <th>s2</th>\n",
       "      <th>s3</th>\n",
       "      <th>s4</th>\n",
       "      <th>s5</th>\n",
       "      <th>s6</th>\n",
       "      <th>target</th>\n",
       "    </tr>\n",
       "  </thead>\n",
       "  <tbody>\n",
       "    <tr>\n",
       "      <th>0</th>\n",
       "      <td>0.038076</td>\n",
       "      <td>0.050680</td>\n",
       "      <td>0.061696</td>\n",
       "      <td>0.021872</td>\n",
       "      <td>-0.044223</td>\n",
       "      <td>-0.034821</td>\n",
       "      <td>-0.043401</td>\n",
       "      <td>-0.002592</td>\n",
       "      <td>0.019908</td>\n",
       "      <td>-0.017646</td>\n",
       "      <td>151.0</td>\n",
       "    </tr>\n",
       "    <tr>\n",
       "      <th>1</th>\n",
       "      <td>-0.001882</td>\n",
       "      <td>-0.044642</td>\n",
       "      <td>-0.051474</td>\n",
       "      <td>-0.026328</td>\n",
       "      <td>-0.008449</td>\n",
       "      <td>-0.019163</td>\n",
       "      <td>0.074412</td>\n",
       "      <td>-0.039493</td>\n",
       "      <td>-0.068330</td>\n",
       "      <td>-0.092204</td>\n",
       "      <td>75.0</td>\n",
       "    </tr>\n",
       "    <tr>\n",
       "      <th>2</th>\n",
       "      <td>0.085299</td>\n",
       "      <td>0.050680</td>\n",
       "      <td>0.044451</td>\n",
       "      <td>-0.005671</td>\n",
       "      <td>-0.045599</td>\n",
       "      <td>-0.034194</td>\n",
       "      <td>-0.032356</td>\n",
       "      <td>-0.002592</td>\n",
       "      <td>0.002864</td>\n",
       "      <td>-0.025930</td>\n",
       "      <td>141.0</td>\n",
       "    </tr>\n",
       "    <tr>\n",
       "      <th>3</th>\n",
       "      <td>-0.089063</td>\n",
       "      <td>-0.044642</td>\n",
       "      <td>-0.011595</td>\n",
       "      <td>-0.036656</td>\n",
       "      <td>0.012191</td>\n",
       "      <td>0.024991</td>\n",
       "      <td>-0.036038</td>\n",
       "      <td>0.034309</td>\n",
       "      <td>0.022692</td>\n",
       "      <td>-0.009362</td>\n",
       "      <td>206.0</td>\n",
       "    </tr>\n",
       "    <tr>\n",
       "      <th>4</th>\n",
       "      <td>0.005383</td>\n",
       "      <td>-0.044642</td>\n",
       "      <td>-0.036385</td>\n",
       "      <td>0.021872</td>\n",
       "      <td>0.003935</td>\n",
       "      <td>0.015596</td>\n",
       "      <td>0.008142</td>\n",
       "      <td>-0.002592</td>\n",
       "      <td>-0.031991</td>\n",
       "      <td>-0.046641</td>\n",
       "      <td>135.0</td>\n",
       "    </tr>\n",
       "  </tbody>\n",
       "</table>\n",
       "</div>"
      ],
      "text/plain": [
       "        age       sex       bmi        bp        s1        s2        s3  \\\n",
       "0  0.038076  0.050680  0.061696  0.021872 -0.044223 -0.034821 -0.043401   \n",
       "1 -0.001882 -0.044642 -0.051474 -0.026328 -0.008449 -0.019163  0.074412   \n",
       "2  0.085299  0.050680  0.044451 -0.005671 -0.045599 -0.034194 -0.032356   \n",
       "3 -0.089063 -0.044642 -0.011595 -0.036656  0.012191  0.024991 -0.036038   \n",
       "4  0.005383 -0.044642 -0.036385  0.021872  0.003935  0.015596  0.008142   \n",
       "\n",
       "         s4        s5        s6  target  \n",
       "0 -0.002592  0.019908 -0.017646   151.0  \n",
       "1 -0.039493 -0.068330 -0.092204    75.0  \n",
       "2 -0.002592  0.002864 -0.025930   141.0  \n",
       "3  0.034309  0.022692 -0.009362   206.0  \n",
       "4 -0.002592 -0.031991 -0.046641   135.0  "
      ]
     },
     "execution_count": 40,
     "metadata": {},
     "output_type": "execute_result"
    }
   ],
   "source": [
    "data = load_diabetes()\n",
    "df = pd.DataFrame(data.data, columns=data.feature_names)\n",
    "df['target'] = data.target\n",
    "df.head()"
   ]
  },
  {
   "cell_type": "code",
   "execution_count": 41,
   "metadata": {},
   "outputs": [],
   "source": [
    "from sklearn.feature_selection import mutual_info_regression, f_regression\n",
    "from sklearn.linear_model import LinearRegression\n",
    "from sklearn.metrics import mean_absolute_error"
   ]
  },
  {
   "cell_type": "code",
   "execution_count": 42,
   "metadata": {},
   "outputs": [
    {
     "name": "stdout",
     "output_type": "stream",
     "text": [
      "Linear with all features: MAE - 41.380\n",
      "Linear with f-reg: MAE - 43.360\n",
      "Linear with mutual information: MAE - 43.360\n"
     ]
    }
   ],
   "source": [
    "X = df.drop(columns=['target'])\n",
    "y = df['target']\n",
    "\n",
    "# split into train and test sets\n",
    "X_train, X_test, y_train, y_test = train_test_split(X, y, test_size=0.33, \n",
    "                                                    random_state=1)\n",
    "# # summarize\n",
    "# print('Train', X_train.shape, y_train.shape)\n",
    "# print('Test', X_test.shape, y_test.shape)\n",
    "\n",
    "# feature selection\n",
    "def select_features(X_train, y_train, X_test,score_func,k):\n",
    "    fs = SelectKBest(score_func=score_func, k=k)\n",
    "    fs.fit(X_train, y_train)\n",
    "    X_train_fs = fs.transform(X_train)\n",
    "    X_test_fs = fs.transform(X_test)\n",
    "    return X_train_fs, X_test_fs, fs\n",
    "\n",
    "X_train_fs_fr, X_test_fs_fr, fs_fr = select_features(X_train, y_train, X_test,\n",
    "                                                     f_regression, k=6)\n",
    "X_train_fs_mi, X_test_fs_mi, fs_mi = select_features(X_train, y_train, X_test,\n",
    "                                                     mutual_info_regression, k=6)\n",
    "\n",
    "# # what are scores for the features\n",
    "# for i in range(len(fs.scores_)):\n",
    "#     print('Feature %d: %f' % (i, fs.scores_[i]))\n",
    "# # plot the scores\n",
    "# plt.bar([i for i in range(len(fs.scores_))], fs.scores_)\n",
    "# plt.show()\n",
    "\n",
    "# fit the model\n",
    "full_model = LinearRegression()\n",
    "full_model.fit(X_train, y_train)\n",
    "\n",
    "# evaluate the model\n",
    "yhat = full_model.predict(X_test)\n",
    "\n",
    "# evaluate predictions\n",
    "mae_full = mean_absolute_error(y_test, yhat)\n",
    "print('Linear with all features: MAE - %.3f' % mae_full)\n",
    "\n",
    "# Model Built Using Correlation Features\n",
    "f_reg_model = LinearRegression()\n",
    "f_reg_model.fit(X_train_fs_fr, y_train)\n",
    "yhat2 = f_reg_model.predict(X_test_fs_fr)\n",
    "mae_f_reg = mean_absolute_error(y_test, yhat2)\n",
    "print('Linear with f-reg: MAE - %.3f' % mae_f_reg)\n",
    "\n",
    "# Model Built Using Mutual Information Features\n",
    "mi_model = LinearRegression()\n",
    "mi_model.fit(X_train_fs_mi, y_train)\n",
    "yhat3 = mi_model.predict(X_test_fs_mi)\n",
    "mae_mi = mean_absolute_error(y_test, yhat3)\n",
    "print('Linear with mutual information: MAE - %.3f' % mae_mi)"
   ]
  },
  {
   "cell_type": "markdown",
   "metadata": {},
   "source": [
    "<a id=\"tuning\"></a>\n",
    "<h5><ins>Tune the Number of Selected Features</ins></h5>"
   ]
  },
  {
   "cell_type": "code",
   "execution_count": 43,
   "metadata": {},
   "outputs": [],
   "source": [
    "from sklearn.model_selection import RepeatedKFold\n",
    "from sklearn.pipeline import Pipeline\n",
    "from sklearn.model_selection import RepeatedStratifiedKFold, GridSearchCV, cross_val_score"
   ]
  },
  {
   "cell_type": "markdown",
   "metadata": {},
   "source": [
    "In this case, we will evaluate models using the negative mean absolute error (neg mean absolute error). It is negative because the scikit-learn requires the score to be maximized, so the MAE is made negative, meaning scores scale from -infinity to 0 (best)."
   ]
  },
  {
   "cell_type": "code",
   "execution_count": 44,
   "metadata": {},
   "outputs": [
    {
     "name": "stdout",
     "output_type": "stream",
     "text": [
      "Best MAE: -44.470\n",
      "Best Config: {'sel__k': 10}\n",
      ">-51.888 with: {'sel__k': 1}\n",
      ">-47.459 with: {'sel__k': 2}\n",
      ">-47.349 with: {'sel__k': 3}\n",
      ">-47.356 with: {'sel__k': 4}\n",
      ">-46.413 with: {'sel__k': 5}\n",
      ">-45.755 with: {'sel__k': 6}\n",
      ">-45.699 with: {'sel__k': 7}\n",
      ">-44.851 with: {'sel__k': 8}\n",
      ">-44.543 with: {'sel__k': 9}\n",
      ">-44.470 with: {'sel__k': 10}\n"
     ]
    }
   ],
   "source": [
    "# define the evaluation method\n",
    "cv = RepeatedKFold(n_splits=10, n_repeats=3, random_state=1)\n",
    "\n",
    "# define the pipeline to evaluate\n",
    "model = LinearRegression()\n",
    "fs = SelectKBest(score_func=mutual_info_regression)\n",
    "pipeline = Pipeline(steps=[('sel',fs), ('lr', model)])\n",
    "\n",
    "# define the grid\n",
    "grid = dict()\n",
    "grid['sel__k'] = [i for i in range(1, X.shape[1]+1)]\n",
    "\n",
    "# define the grid search\n",
    "search = GridSearchCV(pipeline, grid, scoring='neg_mean_absolute_error', n_jobs=-1, cv=cv)\n",
    "\n",
    "# perform the search\n",
    "results = search.fit(X, y)\n",
    "\n",
    "# summarize best\n",
    "print('Best MAE: %.3f' % results.best_score_)\n",
    "print('Best Config: %s' % results.best_params_)\n",
    "\n",
    "# summarize all\n",
    "means = results.cv_results_['mean_test_score']\n",
    "params = results.cv_results_['params']\n",
    "for mean, param in zip(means, params):\n",
    "    print('>%.3f with: %r' % (mean, param))"
   ]
  },
  {
   "cell_type": "markdown",
   "metadata": {},
   "source": [
    "We might want to see the relationship between the number of selected features and MAE. In this relationship, we may expect that more features result in better performance, to a point. This relationship can be explored by manually evaluating each configuration of k for the SelectKBest, gathering the sample of MAE scores, and plotting the results using box and whisker plots side by side. The spread and mean of these box plots would be expected to show any interesting relationship between the number of selected features and the MAE of the pipeline."
   ]
  },
  {
   "cell_type": "code",
   "execution_count": 45,
   "metadata": {
    "scrolled": true
   },
   "outputs": [
    {
     "name": "stdout",
     "output_type": "stream",
     "text": [
      ">1 -52.727 (1.840)\n",
      ">2 -48.334 (3.450)\n",
      ">3 -46.822 (1.320)\n",
      ">4 -46.349 (1.358)\n",
      ">5 -46.228 (0.716)\n",
      ">6 -45.782 (1.480)\n",
      ">7 -44.849 (1.998)\n",
      ">8 -44.828 (2.084)\n",
      ">9 -44.372 (2.196)\n",
      ">10 -44.276 (2.100)\n"
     ]
    },
    {
     "data": {
      "image/png": "[encoded data removed]",
      "text/plain": [
       "<Figure size 432x288 with 1 Axes>"
      ]
     },
     "metadata": {
      "needs_background": "light"
     },
     "output_type": "display_data"
    }
   ],
   "source": [
    "# define number of features to evaluate\n",
    "num_features = [i for i in range(1, X.shape[1]+1)]\n",
    "# enumerate each number of features\n",
    "results = list()\n",
    "for k in num_features:\n",
    "# create pipeline\n",
    "    model = LinearRegression()\n",
    "    fs = SelectKBest(score_func=mutual_info_regression, k=k)\n",
    "    pipeline = Pipeline(steps=[('sel',fs), ('lr', model)])\n",
    "    # evaluate the model\n",
    "    cv = RepeatedKFold(n_splits=10, n_repeats=3, random_state=1)\n",
    "    scores = cross_val_score(pipeline, X, y, scoring='neg_mean_absolute_error',\n",
    "                             n_jobs=-1)\n",
    "    results.append(scores)\n",
    "    # summarize the results\n",
    "    print('>%d %.3f (%.3f)' % (k, np.mean(scores), np.std(scores)))\n",
    "\n",
    "# plot model performance for comparison\n",
    "plt.boxplot(results, labels=num_features, showmeans=True)\n",
    "plt.show()"
   ]
  },
  {
   "cell_type": "markdown",
   "metadata": {},
   "source": [
    "<a id=\"univariate\"></a>\n",
    "<h2><ins>Univariate Feature Selection With GenericUnivariateSelect</ins></h2>\n",
    "\n",
    "Filtering is usually based on an arbitrary (or normative) threshold that allows the analyst to discard features. Some people try filtering methods where they assess each regressor’s correlation with the dependent variable or check univariate tests that evaluate the relationship between each independent regressor and the dependent variable."
   ]
  },
  {
   "cell_type": "code",
   "execution_count": 46,
   "metadata": {},
   "outputs": [],
   "source": [
    "from sklearn.datasets import load_diabetes\n",
    "from sklearn.feature_selection import GenericUnivariateSelect"
   ]
  },
  {
   "cell_type": "code",
   "execution_count": 47,
   "metadata": {},
   "outputs": [],
   "source": [
    "# numerical input, numerical output - regression\n",
    "\n",
    "data = load_diabetes()\n",
    "df = pd.DataFrame(data.data, columns=data.feature_names)\n",
    "df['target'] = data.target\n",
    "\n",
    "X = df.drop(columns=['target'])\n",
    "y = df['target']"
   ]
  },
  {
   "cell_type": "markdown",
   "metadata": {},
   "source": [
    "<table>\n",
    "<tr><th style=\"text-align:center\">SCORING FUNCTION</th><th style=\"text-align:center\">MODE</th></tr>\n",
    "<tr><td>\n",
    "\n",
    "|<b>SCORE_FUNC</b>|desc|<b> I/O Data Type</b>|\n",
    "|:-:|:-:|:-:|\n",
    "|f_classif|ANOVA$\\;$F-value between<br>label/feature for classification tasks|numerical / categorical|\n",
    "|chi2|Chi-squared stats of non-negative<br>features for classification tasks|categorical / categorical|\n",
    "|mutual_info_classif|Mutual information<br>for a discrete target|categorical / categorical|\n",
    "|f_regression|F-value between label/feature<br>for regression tasks|numerical / numerical|\n",
    "|mutual_info_regression|Mutual information<br>for a continuous target|numerical / numerical|\n",
    "|f_oneway|Performs a 1-way ANOVA|\n",
    "    \n",
    "</td><td>\n",
    "\n",
    "|<b>PARAM</b>|desc|\n",
    "|:-:|:-:|\n",
    "|'percentile'|requires param<br>between 0 and 100|\n",
    "|'k_best'|requires param between 1<br>and total number of features|\n",
    "|'fpr', 'fdr', 'fwe'|highest p-value for<br>features to be kept|\n",
    "\n",
    "</td></tr> </table>"
   ]
  },
  {
   "cell_type": "code",
   "execution_count": 48,
   "metadata": {
    "scrolled": true
   },
   "outputs": [
    {
     "data": {
      "text/plain": [
       "GenericUnivariateSelect(mode='k_best', param=5,\n",
       "                        score_func=<function f_regression at 0x000001D2C1C974C0>)"
      ]
     },
     "execution_count": 48,
     "metadata": {},
     "output_type": "execute_result"
    }
   ],
   "source": [
    "X_gus = GenericUnivariateSelect(score_func=f_regression,\n",
    "                                mode='k_best', param=5)\n",
    "X_gus.fit(X,y)"
   ]
  },
  {
   "cell_type": "code",
   "execution_count": 49,
   "metadata": {},
   "outputs": [
    {
     "data": {
      "text/plain": [
       "array(['age', 'sex', 'bmi', 'bp', 's1', 's2', 's3', 's4', 's5', 's6'],\n",
       "      dtype=object)"
      ]
     },
     "execution_count": 49,
     "metadata": {},
     "output_type": "execute_result"
    }
   ],
   "source": [
    "X_gus.feature_names_in_"
   ]
  },
  {
   "cell_type": "code",
   "execution_count": 50,
   "metadata": {},
   "outputs": [
    {
     "data": {
      "text/plain": [
       "array(['bmi', 'bp', 's3', 's4', 's5'], dtype=object)"
      ]
     },
     "execution_count": 50,
     "metadata": {},
     "output_type": "execute_result"
    }
   ],
   "source": [
    "X_gus.get_feature_names_out()"
   ]
  },
  {
   "cell_type": "code",
   "execution_count": 51,
   "metadata": {},
   "outputs": [
    {
     "data": {
      "text/plain": [
       "array([False, False,  True,  True, False, False,  True,  True,  True,\n",
       "       False])"
      ]
     },
     "execution_count": 51,
     "metadata": {},
     "output_type": "execute_result"
    }
   ],
   "source": [
    "X_gus.get_support()"
   ]
  },
  {
   "cell_type": "code",
   "execution_count": 52,
   "metadata": {},
   "outputs": [
    {
     "data": {
      "text/plain": [
       "(442, 10)"
      ]
     },
     "execution_count": 52,
     "metadata": {},
     "output_type": "execute_result"
    }
   ],
   "source": [
    "X.shape"
   ]
  },
  {
   "cell_type": "code",
   "execution_count": 53,
   "metadata": {},
   "outputs": [
    {
     "data": {
      "text/plain": [
       "(442, 5)"
      ]
     },
     "execution_count": 53,
     "metadata": {},
     "output_type": "execute_result"
    }
   ],
   "source": [
    "X_gus.transform(X).shape"
   ]
  },
  {
   "cell_type": "code",
   "execution_count": 54,
   "metadata": {},
   "outputs": [
    {
     "data": {
      "text/html": [
       "<div>\n",
       "<style scoped>\n",
       "    .dataframe tbody tr th:only-of-type {\n",
       "        vertical-align: middle;\n",
       "    }\n",
       "\n",
       "    .dataframe tbody tr th {\n",
       "        vertical-align: top;\n",
       "    }\n",
       "\n",
       "    .dataframe thead th {\n",
       "        text-align: right;\n",
       "    }\n",
       "</style>\n",
       "<table border=\"1\" class=\"dataframe\">\n",
       "  <thead>\n",
       "    <tr style=\"text-align: right;\">\n",
       "      <th></th>\n",
       "      <th>Scores</th>\n",
       "      <th>p-values</th>\n",
       "    </tr>\n",
       "  </thead>\n",
       "  <tbody>\n",
       "    <tr>\n",
       "      <th>age</th>\n",
       "      <td>16.101374</td>\n",
       "      <td>7.055686e-05</td>\n",
       "    </tr>\n",
       "    <tr>\n",
       "      <th>sex</th>\n",
       "      <td>0.817423</td>\n",
       "      <td>3.664293e-01</td>\n",
       "    </tr>\n",
       "    <tr>\n",
       "      <th>bmi</th>\n",
       "      <td>230.653764</td>\n",
       "      <td>3.466006e-42</td>\n",
       "    </tr>\n",
       "    <tr>\n",
       "      <th>bp</th>\n",
       "      <td>106.521384</td>\n",
       "      <td>1.648533e-22</td>\n",
       "    </tr>\n",
       "    <tr>\n",
       "      <th>s1</th>\n",
       "      <td>20.710567</td>\n",
       "      <td>6.920712e-06</td>\n",
       "    </tr>\n",
       "    <tr>\n",
       "      <th>s2</th>\n",
       "      <td>13.746079</td>\n",
       "      <td>2.359848e-04</td>\n",
       "    </tr>\n",
       "    <tr>\n",
       "      <th>s3</th>\n",
       "      <td>81.239659</td>\n",
       "      <td>6.162865e-18</td>\n",
       "    </tr>\n",
       "    <tr>\n",
       "      <th>s4</th>\n",
       "      <td>100.069264</td>\n",
       "      <td>2.304253e-21</td>\n",
       "    </tr>\n",
       "    <tr>\n",
       "      <th>s5</th>\n",
       "      <td>207.272091</td>\n",
       "      <td>8.823754e-39</td>\n",
       "    </tr>\n",
       "    <tr>\n",
       "      <th>s6</th>\n",
       "      <td>75.399683</td>\n",
       "      <td>7.580083e-17</td>\n",
       "    </tr>\n",
       "  </tbody>\n",
       "</table>\n",
       "</div>"
      ],
      "text/plain": [
       "         Scores      p-values\n",
       "age   16.101374  7.055686e-05\n",
       "sex    0.817423  3.664293e-01\n",
       "bmi  230.653764  3.466006e-42\n",
       "bp   106.521384  1.648533e-22\n",
       "s1    20.710567  6.920712e-06\n",
       "s2    13.746079  2.359848e-04\n",
       "s3    81.239659  6.162865e-18\n",
       "s4   100.069264  2.304253e-21\n",
       "s5   207.272091  8.823754e-39\n",
       "s6    75.399683  7.580083e-17"
      ]
     },
     "execution_count": 54,
     "metadata": {},
     "output_type": "execute_result"
    }
   ],
   "source": [
    "data = {'Scores':X_gus.scores_, 'p-values':X_gus.pvalues_}\n",
    "pd.DataFrame(data=data,index=X_gus.feature_names_in_)"
   ]
  },
  {
   "cell_type": "code",
   "execution_count": 55,
   "metadata": {},
   "outputs": [
    {
     "data": {
      "image/png": "[encoded data removed]",
      "text/plain": [
       "<Figure size 432x288 with 1 Axes>"
      ]
     },
     "metadata": {
      "needs_background": "light"
     },
     "output_type": "display_data"
    }
   ],
   "source": [
    "plt.bar([i for i in range(len(X_gus.scores_))], X_gus.scores_)\n",
    "plt.hlines(y=50,xmin=-1,xmax=11,colors='red',linestyles='dashed',label='arbitrary line')\n",
    "plt.legend(loc=9)\n",
    "plt.show()"
   ]
  },
  {
   "cell_type": "markdown",
   "metadata": {},
   "source": [
    "<a id=\"any\"></a>\n",
    "<h1 align=\"center\">FEATURE SELECTION WITH ANY DATA TYPE</h1>\n",
    "\n",
    "Previously, we looked at measures of statistical correlation that are specific to numerical and categorical data types. It is rare that we have a dataset with just a single input variable data type. One approach to handling different input variable data types is to separately select numerical input variables and categorical input variables using appropriate metrics. This can be achieved using the `ColumnTransformer` class.\n",
    "\n",
    "Another data type agnostic method is to score input features using a model and use a filter-based feature selection method. Many models will automatically select features or score features as part of fitting the model and these scores can be used just like the statistical methods described above. Decision tree algorithms and ensembles of decision tree algorithms provide an input variable data type agnostic method of scoring input variables, including algorithms such as:\n",
    "- Classification and Regression Trees (CART)\n",
    "- Random Forest\n",
    "- Bagged Decision Trees\n",
    "- Gradient Boosting"
   ]
  },
  {
   "cell_type": "markdown",
   "metadata": {},
   "source": [
    "Another approach is to use a wrapper method that performs a search through different combinations or subsets of input features based on the effect they have on model quality. Simple methods might create a tree of all possible combinations of input features and navigate the graph based on the pay-off, e.g. using a best-first tree searching algorithm. Alternately, a stochastic global search algorithm can be used. Although effective, these approaches can be computationally very expensive, specially for large training datasets and sophisticated models. \n",
    "- Tree-Searching Methods (depth-first, breadth-first, etc.).\n",
    "- Stochastic Global Search (simulated annealing, genetic algorithm).\n",
    "\n",
    "Simpler methods involve systematically adding or removing features from the model until no further improvement is seen. This includes so-called step-wise models (e.g. step-wise regression) and RFE as well as the method of variance thresholding. "
   ]
  },
  {
   "cell_type": "markdown",
   "metadata": {},
   "source": [
    "<a id=\"forward\"></a>\n",
    "<h5><ins>Forward Selection</ins></h5>\n",
    "\n",
    "**Forward selection** starts with zero features, then, for each individual feature, runs a model and determines the p-value associated with the t-test or F-test performed. It then selects the feature with the lowest p-value and adds that to the working model. Next, it takes the first feature selected and runs models with a second feature added and selects the second feature with the lowest p-value. Then it takes the two features previously selected and runs models with a third feature and so on, until all features that have significant p-values are added to the model. Any features that never had a significant p-value when tried in the iterations will be excluded from the final model.\n",
    "- What's the \"best?\" That depends entirely on the defined evaluation criteria (AUC, prediction accuracy, RMSE, etc.). "
   ]
  },
  {
   "cell_type": "code",
   "execution_count": 56,
   "metadata": {},
   "outputs": [],
   "source": [
    "import pandas as pd\n",
    "import statsmodels.api as sm\n",
    "\n",
    "def forward_selection(data, target, significance_level=0.05):\n",
    "    initial_features = data.columns.tolist()\n",
    "    selected_features = []\n",
    "    while True:\n",
    "        remaining_features = list(set(initial_features)-set(selected_features))\n",
    "        new_pval = pd.Series(index=remaining_features, dtype=float)\n",
    "        for new_column in remaining_features:\n",
    "            model = sm.OLS(target, sm.add_constant(data[selected_features+[new_column]])).fit()\n",
    "            new_pval[new_column] = model.pvalues[new_column]\n",
    "        best_feature = new_pval.min()\n",
    "        if(min_p_value<significance_level):\n",
    "            selected_features.append(new_pval.idxmin())\n",
    "        else:\n",
    "            break\n",
    "    return selected_features"
   ]
  },
  {
   "cell_type": "markdown",
   "metadata": {},
   "source": [
    "<a id=\"backward\"></a>\n",
    "<h5><ins>Backward Selection</ins></h5>\n",
    "\n",
    "**Backward selection** starts with all features contained in the dataset. It then runs a model and calculates a p-value associated with the t-test or F-test of the model for each feature. The feature with the largest insignificant p-value will then be removed from the model, and the process starts again. This continues until all features with insignificant p-values are removed from the model."
   ]
  },
  {
   "cell_type": "code",
   "execution_count": 57,
   "metadata": {},
   "outputs": [],
   "source": [
    "def step_backward(X,y, sklearn=True, significance_level=0.05):\n",
    "    \n",
    "    initial_features = X.columns.tolist()\n",
    "    not_useful = []\n",
    "    while True:\n",
    "        if sklearn:\n",
    "            model_lr = LinearRegression().fit(X[initial_features],y)\n",
    "            data = model_lr.p\n",
    "        else:\n",
    "            model_ols = sm.OLS(y, sm.add_constant(X[initial_features])).fit()\n",
    "            data = model_ols.pvalues[1:]\n",
    "        \n",
    "        pvalues = pd.Series(data=data, index=initial_features)\n",
    "        highest_p, worst_col = pvalues.max(), pvalues.idxmax()\n",
    "    \n",
    "        if highest_p > significance_level:\n",
    "            not_useful.append(worst_col)\n",
    "            initial_features.remove(worst_col)\n",
    "        else:\n",
    "            break\n",
    "\n",
    "    print(f'Best features are: {initial_features}')\n",
    "    print(f'Non-useful features are: {not_useful}')\n",
    "#     return initial_features, not_useful"
   ]
  },
  {
   "cell_type": "markdown",
   "metadata": {},
   "source": [
    "<a id=\"stepwise\"></a>\n",
    "<h5><ins>Stepwise Selection</ins></h5>\n",
    "\n",
    "**Stepwise selection** is a hybrid of forward and backward selection. It starts with zero features and adds the one feature with the lowest significant p-value as described above. Then, it goes through and finds the second feature with the lowest significant p-value. On the third iteration, it will look for the next feature with the lowest significant p-value, ***and it will also remove any features that were previously added that now have an insignificant p-value. This allows for the final model to have all of the features included be significant.***\n",
    "\n",
    "It is similar to forward selection but the difference is while adding a new feature it also checks the significance of already added features and if it finds any of the already selected features insignificant then it simply removes that particular feature through backward elimination."
   ]
  },
  {
   "cell_type": "markdown",
   "metadata": {},
   "source": [
    "<a id=\"sklearn\"></a>\n",
    "<h5><ins>Sequential Selection using Sklearn</ins></h5>\n",
    "\n",
    "Forward-SFS is a greedy procedure that iteratively finds the best new feature to add to the set of selected features. Concretely, we initially start with zero feature and find the one feature that maximizes a cross-validated score when an estimator is trained on this single feature. Once that first feature is selected, we repeat the procedure by adding a new feature to the set of selected features. The procedure stops when the desired number of selected features is reached, as determined by the n_features_to_select parameter.\n",
    "\n",
    "Backward-SFS follows the same idea but works in the opposite direction: instead of starting with no feature and greedily adding features, we start with all the features and greedily remove features from the set. The direction parameter controls whether forward or backward SFS is used.\n",
    "\n",
    "In general, forward and backward selection do not yield equivalent results. Also, one may be much faster than the other depending on the requested number of selected features: if we have 10 features and ask for 7 selected features, forward selection would need to perform 7 iterations while backward selection would only need to perform 3."
   ]
  },
  {
   "cell_type": "code",
   "execution_count": 58,
   "metadata": {},
   "outputs": [],
   "source": [
    "from sklearn.neighbors import KNeighborsClassifier\n",
    "from sklearn.datasets import load_iris\n",
    "from sklearn.feature_selection import SequentialFeatureSelector"
   ]
  },
  {
   "cell_type": "code",
   "execution_count": 59,
   "metadata": {},
   "outputs": [
    {
     "name": "stdout",
     "output_type": "stream",
     "text": [
      "forward\n"
     ]
    },
    {
     "data": {
      "text/plain": [
       "array(['x0', 'x2', 'x3'], dtype=object)"
      ]
     },
     "execution_count": 59,
     "metadata": {},
     "output_type": "execute_result"
    }
   ],
   "source": [
    "X, y = load_iris(return_X_y=True)\n",
    "\n",
    "knn = KNeighborsClassifier(n_neighbors=4)\n",
    "sfs = SequentialFeatureSelector(knn, n_features_to_select=3,\n",
    "                               scoring='accuracy', cv=10)\n",
    "new_data = sfs.fit_transform(X,y)\n",
    "\n",
    "print(sfs.direction)\n",
    "sfs.get_feature_names_out()"
   ]
  },
  {
   "cell_type": "code",
   "execution_count": 60,
   "metadata": {},
   "outputs": [
    {
     "name": "stdout",
     "output_type": "stream",
     "text": [
      "backward\n"
     ]
    },
    {
     "data": {
      "text/plain": [
       "array(['x1', 'x2', 'x3'], dtype=object)"
      ]
     },
     "execution_count": 60,
     "metadata": {},
     "output_type": "execute_result"
    }
   ],
   "source": [
    "X, y = load_iris(return_X_y=True)\n",
    "\n",
    "knn = KNeighborsClassifier(n_neighbors=4)\n",
    "sfs = SequentialFeatureSelector(knn, n_features_to_select=3,\n",
    "                                scoring='accuracy', direction='backward')\n",
    "new_data = sfs.fit_transform(X,y)\n",
    "\n",
    "print(sfs.direction)\n",
    "sfs.get_feature_names_out()"
   ]
  },
  {
   "cell_type": "markdown",
   "metadata": {},
   "source": [
    "<a id=\"mlxtend\"></a>\n",
    "<h5><ins>Sequential Selection using mlxtend</ins></h5>"
   ]
  },
  {
   "cell_type": "code",
   "execution_count": 61,
   "metadata": {},
   "outputs": [],
   "source": [
    "from sklearn.neighbors import KNeighborsClassifier\n",
    "from sklearn.datasets import load_iris\n",
    "\n",
    "from mlxtend.feature_selection import SequentialFeatureSelector as SFS\n",
    "\n",
    "iris = load_iris()\n",
    "X = iris.data\n",
    "y = iris.target\n",
    "knn = KNeighborsClassifier(n_neighbors=4)"
   ]
  },
  {
   "cell_type": "code",
   "execution_count": 62,
   "metadata": {
    "scrolled": true
   },
   "outputs": [
    {
     "name": "stdout",
     "output_type": "stream",
     "text": [
      "\n",
      "Sequential Forward Selection (k=3):\n",
      "(0, 2, 3)\n",
      "('sepal length (cm)', 'petal length (cm)', 'petal width (cm)')\n",
      "CV Score:\n",
      "0.9533333333333334\n",
      "\n",
      "Sequential Backward Selection (k=3):\n",
      "(1, 2, 3)\n",
      "('sepal width (cm)', 'petal length (cm)', 'petal width (cm)')\n",
      "CV Score:\n",
      "0.9731507823613088\n",
      "\n",
      "Sequential Forward Floating Selection (k=3):\n",
      "(1, 2, 3)\n",
      "('sepal width (cm)', 'petal length (cm)', 'petal width (cm)')\n",
      "CV Score:\n",
      "0.9731507823613088\n",
      "\n",
      "Sequential Backward Floating Selection (k=3):\n",
      "(1, 2, 3)\n",
      "('sepal width (cm)', 'petal length (cm)', 'petal width (cm)')\n",
      "CV Score:\n",
      "0.9731507823613088\n"
     ]
    }
   ],
   "source": [
    "# Sequential Forward Selection\n",
    "sfs = SFS(knn, k_features=3, forward=True, floating=False, \n",
    "          scoring='accuracy', cv=5, n_jobs=-1)\n",
    "\n",
    "sfs = sfs.fit(X, y, custom_feature_names=iris.feature_names)\n",
    "\n",
    "print('\\nSequential Forward Selection (k=3):')\n",
    "print(sfs.k_feature_idx_)\n",
    "print(sfs.k_feature_names_)\n",
    "print('CV Score:')\n",
    "print(sfs.k_score_)\n",
    "\n",
    "###################################################\n",
    "\n",
    "# Sequential Backward Selection\n",
    "sbs = SFS(knn, k_features=3, forward=False, floating=False, \n",
    "          scoring='accuracy', cv=4, n_jobs=-1)\n",
    "\n",
    "sbs = sbs.fit(X, y, custom_feature_names=iris.feature_names)\n",
    "\n",
    "print('\\nSequential Backward Selection (k=3):')\n",
    "print(sbs.k_feature_idx_)\n",
    "print(sbs.k_feature_names_)\n",
    "print('CV Score:')\n",
    "print(sbs.k_score_)\n",
    "\n",
    "###################################################\n",
    "\n",
    "# Sequential Forward Floating Selection\n",
    "sffs = SFS(knn, k_features=3, forward=True, floating=True, \n",
    "           scoring='accuracy', cv=4, n_jobs=-1)\n",
    "\n",
    "sffs = sffs.fit(X, y, custom_feature_names=iris.feature_names)\n",
    "\n",
    "print('\\nSequential Forward Floating Selection (k=3):')\n",
    "print(sffs.k_feature_idx_)\n",
    "print(sffs.k_feature_names_)\n",
    "print('CV Score:')\n",
    "print(sffs.k_score_)\n",
    "\n",
    "###################################################\n",
    "\n",
    "# Sequential Backward Floating Selection\n",
    "sbfs = SFS(knn, k_features=3, forward=False, floating=True, \n",
    "           scoring='accuracy', cv=4, n_jobs=-1)\n",
    "\n",
    "sbfs = sbfs.fit(X, y, custom_feature_names=iris.feature_names)\n",
    "\n",
    "print('\\nSequential Backward Floating Selection (k=3):')\n",
    "print(sbfs.k_feature_idx_)\n",
    "print(sbfs.k_feature_names_)\n",
    "print('CV Score:')\n",
    "print(sbfs.k_score_)"
   ]
  },
  {
   "cell_type": "code",
   "execution_count": 63,
   "metadata": {},
   "outputs": [
    {
     "data": {
      "text/plain": [
       "{1: {'feature_idx': (3,),\n",
       "  'cv_scores': array([0.96666667, 0.96666667, 0.93333333, 0.93333333, 1.        ]),\n",
       "  'avg_score': 0.96,\n",
       "  'feature_names': ('petal width (cm)',)},\n",
       " 2: {'feature_idx': (2, 3),\n",
       "  'cv_scores': array([0.96666667, 0.96666667, 0.93333333, 0.96666667, 1.        ]),\n",
       "  'avg_score': 0.9666666666666668,\n",
       "  'feature_names': ('petal length (cm)', 'petal width (cm)')},\n",
       " 3: {'feature_idx': (0, 2, 3),\n",
       "  'cv_scores': array([0.96666667, 0.96666667, 0.93333333, 0.93333333, 0.96666667]),\n",
       "  'avg_score': 0.9533333333333334,\n",
       "  'feature_names': ('sepal length (cm)',\n",
       "   'petal length (cm)',\n",
       "   'petal width (cm)')}}"
      ]
     },
     "execution_count": 63,
     "metadata": {},
     "output_type": "execute_result"
    }
   ],
   "source": [
    "sfs.subsets_"
   ]
  },
  {
   "cell_type": "code",
   "execution_count": 64,
   "metadata": {},
   "outputs": [
    {
     "data": {
      "text/html": [
       "<div>\n",
       "<style scoped>\n",
       "    .dataframe tbody tr th:only-of-type {\n",
       "        vertical-align: middle;\n",
       "    }\n",
       "\n",
       "    .dataframe tbody tr th {\n",
       "        vertical-align: top;\n",
       "    }\n",
       "\n",
       "    .dataframe thead th {\n",
       "        text-align: right;\n",
       "    }\n",
       "</style>\n",
       "<table border=\"1\" class=\"dataframe\">\n",
       "  <thead>\n",
       "    <tr style=\"text-align: right;\">\n",
       "      <th></th>\n",
       "      <th>feature_idx</th>\n",
       "      <th>cv_scores</th>\n",
       "      <th>avg_score</th>\n",
       "      <th>feature_names</th>\n",
       "      <th>ci_bound</th>\n",
       "      <th>std_dev</th>\n",
       "      <th>std_err</th>\n",
       "    </tr>\n",
       "  </thead>\n",
       "  <tbody>\n",
       "    <tr>\n",
       "      <th>1</th>\n",
       "      <td>(3,)</td>\n",
       "      <td>[0.9666666666666667, 0.9666666666666667, 0.933...</td>\n",
       "      <td>0.96</td>\n",
       "      <td>(petal width (cm),)</td>\n",
       "      <td>0.032061</td>\n",
       "      <td>0.024944</td>\n",
       "      <td>0.012472</td>\n",
       "    </tr>\n",
       "    <tr>\n",
       "      <th>2</th>\n",
       "      <td>(2, 3)</td>\n",
       "      <td>[0.9666666666666667, 0.9666666666666667, 0.933...</td>\n",
       "      <td>0.966667</td>\n",
       "      <td>(petal length (cm), petal width (cm))</td>\n",
       "      <td>0.027096</td>\n",
       "      <td>0.021082</td>\n",
       "      <td>0.010541</td>\n",
       "    </tr>\n",
       "    <tr>\n",
       "      <th>3</th>\n",
       "      <td>(0, 2, 3)</td>\n",
       "      <td>[0.9666666666666667, 0.9666666666666667, 0.933...</td>\n",
       "      <td>0.953333</td>\n",
       "      <td>(sepal length (cm), petal length (cm), petal w...</td>\n",
       "      <td>0.020989</td>\n",
       "      <td>0.01633</td>\n",
       "      <td>0.008165</td>\n",
       "    </tr>\n",
       "  </tbody>\n",
       "</table>\n",
       "</div>"
      ],
      "text/plain": [
       "  feature_idx                                          cv_scores avg_score  \\\n",
       "1        (3,)  [0.9666666666666667, 0.9666666666666667, 0.933...      0.96   \n",
       "2      (2, 3)  [0.9666666666666667, 0.9666666666666667, 0.933...  0.966667   \n",
       "3   (0, 2, 3)  [0.9666666666666667, 0.9666666666666667, 0.933...  0.953333   \n",
       "\n",
       "                                       feature_names  ci_bound   std_dev  \\\n",
       "1                                (petal width (cm),)  0.032061  0.024944   \n",
       "2              (petal length (cm), petal width (cm))  0.027096  0.021082   \n",
       "3  (sepal length (cm), petal length (cm), petal w...  0.020989   0.01633   \n",
       "\n",
       "    std_err  \n",
       "1  0.012472  \n",
       "2  0.010541  \n",
       "3  0.008165  "
      ]
     },
     "execution_count": 64,
     "metadata": {},
     "output_type": "execute_result"
    }
   ],
   "source": [
    "# convert results into a dataframe\n",
    "pd.DataFrame.from_dict(sfs.get_metric_dict()).T"
   ]
  },
  {
   "cell_type": "markdown",
   "metadata": {},
   "source": [
    "The ci_bound column in the DataFrame above represents the confidence interval around the computed cross-validation scores. By default, a confidence interval of 95% is used, but we can use different confidence bounds via the confidence_interval parameter."
   ]
  },
  {
   "cell_type": "code",
   "execution_count": 65,
   "metadata": {},
   "outputs": [
    {
     "data": {
      "text/html": [
       "<div>\n",
       "<style scoped>\n",
       "    .dataframe tbody tr th:only-of-type {\n",
       "        vertical-align: middle;\n",
       "    }\n",
       "\n",
       "    .dataframe tbody tr th {\n",
       "        vertical-align: top;\n",
       "    }\n",
       "\n",
       "    .dataframe thead th {\n",
       "        text-align: right;\n",
       "    }\n",
       "</style>\n",
       "<table border=\"1\" class=\"dataframe\">\n",
       "  <thead>\n",
       "    <tr style=\"text-align: right;\">\n",
       "      <th></th>\n",
       "      <th>feature_idx</th>\n",
       "      <th>cv_scores</th>\n",
       "      <th>avg_score</th>\n",
       "      <th>feature_names</th>\n",
       "      <th>ci_bound</th>\n",
       "      <th>std_dev</th>\n",
       "      <th>std_err</th>\n",
       "    </tr>\n",
       "  </thead>\n",
       "  <tbody>\n",
       "    <tr>\n",
       "      <th>1</th>\n",
       "      <td>(3,)</td>\n",
       "      <td>[0.9666666666666667, 0.9666666666666667, 0.933...</td>\n",
       "      <td>0.96</td>\n",
       "      <td>(petal width (cm),)</td>\n",
       "      <td>0.025132</td>\n",
       "      <td>0.024944</td>\n",
       "      <td>0.012472</td>\n",
       "    </tr>\n",
       "    <tr>\n",
       "      <th>2</th>\n",
       "      <td>(2, 3)</td>\n",
       "      <td>[0.9666666666666667, 0.9666666666666667, 0.933...</td>\n",
       "      <td>0.966667</td>\n",
       "      <td>(petal length (cm), petal width (cm))</td>\n",
       "      <td>0.02124</td>\n",
       "      <td>0.021082</td>\n",
       "      <td>0.010541</td>\n",
       "    </tr>\n",
       "    <tr>\n",
       "      <th>3</th>\n",
       "      <td>(0, 2, 3)</td>\n",
       "      <td>[0.9666666666666667, 0.9666666666666667, 0.933...</td>\n",
       "      <td>0.953333</td>\n",
       "      <td>(sepal length (cm), petal length (cm), petal w...</td>\n",
       "      <td>0.016453</td>\n",
       "      <td>0.01633</td>\n",
       "      <td>0.008165</td>\n",
       "    </tr>\n",
       "  </tbody>\n",
       "</table>\n",
       "</div>"
      ],
      "text/plain": [
       "  feature_idx                                          cv_scores avg_score  \\\n",
       "1        (3,)  [0.9666666666666667, 0.9666666666666667, 0.933...      0.96   \n",
       "2      (2, 3)  [0.9666666666666667, 0.9666666666666667, 0.933...  0.966667   \n",
       "3   (0, 2, 3)  [0.9666666666666667, 0.9666666666666667, 0.933...  0.953333   \n",
       "\n",
       "                                       feature_names  ci_bound   std_dev  \\\n",
       "1                                (petal width (cm),)  0.025132  0.024944   \n",
       "2              (petal length (cm), petal width (cm))   0.02124  0.021082   \n",
       "3  (sepal length (cm), petal length (cm), petal w...  0.016453   0.01633   \n",
       "\n",
       "    std_err  \n",
       "1  0.012472  \n",
       "2  0.010541  \n",
       "3  0.008165  "
      ]
     },
     "execution_count": 65,
     "metadata": {},
     "output_type": "execute_result"
    }
   ],
   "source": [
    "pd.DataFrame.from_dict(sfs.get_metric_dict(confidence_interval=0.90)).T"
   ]
  },
  {
   "cell_type": "markdown",
   "metadata": {},
   "source": [
    "We can also visualize the results using matplotlib figures."
   ]
  },
  {
   "cell_type": "code",
   "execution_count": 66,
   "metadata": {},
   "outputs": [
    {
     "data": {
      "image/png": "[encoded data removed]",
      "text/plain": [
       "<Figure size 432x288 with 1 Axes>"
      ]
     },
     "metadata": {
      "needs_background": "light"
     },
     "output_type": "display_data"
    }
   ],
   "source": [
    "from mlxtend.plotting import plot_sequential_feature_selection as plot_sfs\n",
    "\n",
    "fig1 = plot_sfs(sfs.get_metric_dict(), kind='std_dev')\n",
    "\n",
    "plt.ylim([0.8, 1])\n",
    "plt.title('Sequential Forward Selection (w. StdDev)')\n",
    "plt.grid()\n",
    "plt.show()"
   ]
  },
  {
   "cell_type": "code",
   "execution_count": 67,
   "metadata": {},
   "outputs": [
    {
     "data": {
      "image/png": "[encoded data removed]",
      "text/plain": [
       "<Figure size 432x288 with 1 Axes>"
      ]
     },
     "metadata": {
      "needs_background": "light"
     },
     "output_type": "display_data"
    }
   ],
   "source": [
    "# Sequential Forward Selection\n",
    "sfs1 = SFS(LinearRegression(), k_features=(1,4), forward=True, floating=False, \n",
    "          cv=4, n_jobs=-1)\n",
    "\n",
    "sfs1 = sfs1.fit(X, y)\n",
    "\n",
    "fig1 = plot_sfs(sfs1.get_metric_dict(), kind='std_dev')\n",
    "plt.title('Sequential Forward Selection (w. StdErr)')\n",
    "plt.grid()\n",
    "plt.show()"
   ]
  },
  {
   "cell_type": "markdown",
   "metadata": {},
   "source": [
    "Similar to the classification examples above, the SequentialFeatureSelector also supports scikit-learn's estimators for regression."
   ]
  },
  {
   "cell_type": "code",
   "execution_count": 68,
   "metadata": {
    "scrolled": true
   },
   "outputs": [
    {
     "data": {
      "image/png": "[encoded data removed]",
      "text/plain": [
       "<Figure size 432x288 with 1 Axes>"
      ]
     },
     "metadata": {
      "needs_background": "light"
     },
     "output_type": "display_data"
    }
   ],
   "source": [
    "from sklearn.linear_model import LinearRegression\n",
    "from sklearn.datasets import load_boston\n",
    "\n",
    "# boston = load_boston()\n",
    "# X, y = boston.data, boston.target\n",
    "\n",
    "lr = LinearRegression()\n",
    "\n",
    "sfs = SFS(lr, \n",
    "          k_features=4, \n",
    "          forward=True, \n",
    "          floating=False, \n",
    "          scoring='neg_mean_squared_error',\n",
    "          cv=10)\n",
    "\n",
    "sfs = sfs.fit(X, y,custom_feature_names=iris.feature_names)\n",
    "fig = plot_sfs(sfs.get_metric_dict(), kind='std_err')\n",
    "\n",
    "plt.title('Sequential Forward Selection (w. StdErr)')\n",
    "plt.grid()\n",
    "plt.show()"
   ]
  },
  {
   "cell_type": "markdown",
   "metadata": {},
   "source": [
    "<a id=\"threshold\"></a>\n",
    "<h5><ins>Variance Thresholding</ins></h5>\n",
    "\n",
    "Another filter method of feature reduction is **variance thresholding**. The variance of a feature determines how much predictive power it contains. The lower the variance is, the less information contained in the feature, and the less value it has in predicting the response variable. Given this fact, variance thresholding is done by finding the variance of each feature, and then dropping all of the features below a certain variance threshold. This threshold could be 0 if you only want to remove features that have the same value for each instance of the response variable. However, to remove more features from your dataset, the threshold could be set to 0.5, 0.3, 0.1, or another value that makes sense for the distribution of variances."
   ]
  },
  {
   "cell_type": "code",
   "execution_count": 69,
   "metadata": {},
   "outputs": [],
   "source": [
    "from sklearn.feature_selection import VarianceThreshold\n",
    "\n",
    "def variance_threshold_selector(data, names_only=True, threshold=0.5):\n",
    "    selector = VarianceThreshold(threshold)\n",
    "    selector.fit(data)\n",
    "    selected_columns = data.columns[selector.get_support(indices=True)]\n",
    "    \n",
    "    if names_only:\n",
    "        return selected_columns\n",
    "    else:\n",
    "        return data[selected_columns]"
   ]
  },
  {
   "cell_type": "markdown",
   "metadata": {},
   "source": [
    "<a id=\"rfe\"></a>\n",
    "<h1 align=\"center\">RECURSIVE FEATURE ELIMINATION (RFE)</h1>\n",
    "\n",
    "The basic feature selection methods discussed so far are mostly about individual properties of features and how they interact with each other. Variance thresholding and pairwise feature selection are a few examples that remove unnecessary features based on variance and the correlation between them. However, a more pragmatic approach would select features based on how they affect a particular model’s performance. One such technique is **Recursive Feature Elimination (RFE)** whereby the objective is to reduce model complexity by removing features one by one until the optimal number of features is left.\n",
    "\n",
    "RFE is a popular feature selection algorithm because it is easy to configure and use, and because it is effective at selecting those features (columns) in a training dataset that are more or most relevant in predicting the target variable. There are two important configuration options when using RFE: \n",
    "1. the choice in the number of features to select, and\n",
    "2. the choice of the algorithm used to help choose features\n",
    ">**Both of these hyperparameters can be explored, although the performance of the method is not strongly dependent on these hyperparameters being configured well.**"
   ]
  },
  {
   "cell_type": "markdown",
   "metadata": {},
   "source": [
    "Technically, RFE is a wrapper-style feature selection algorithm that also uses filter-based feature selection internally. This means that a different machine learning algorithm is given and used in the core of the method, then wrapped by RFE, and used to help select the best possible set of features that gives the highest performance. This is in contrast to filter-based feature selections that score each feature and select those features with the largest (or smallest) score.\n",
    "\n",
    "RFE works by searching for a subset of features by starting with all features in the training dataset and successfully removing features until the desired number remains. This is achieved by fitting the given machine learning algorithm used in the core of the model, ranking features by importance, discarding the least important features, and re-fitting the model. This process is repeated until a specified number of features remains. \n",
    "- Features are scored either using the provided machine learning model (e.g. some algorithms like decision trees offer importance scores) or by using a statistical method.\n",
    "- It is common to use k-fold cross-validation to evaluate a machine learning algorithm on a dataset. When using cross-validation, it is good practice to perform data transforms like RFE as part of a Pipeline to avoid data leakage.\n",
    ">***Since RFE trains the given model on the full dataset every time it drops a feature, the computation time will be heavy for large datasets with many features. To control this behavior, RFE provides `step` parameter that lets us drop an arbitrary number of features in each iteration instead of one.***"
   ]
  },
  {
   "cell_type": "markdown",
   "metadata": {},
   "source": [
    "<a id=\"basic\"></a>\n",
    "<h5><ins>Basic Outline for RFE & RFECV</ins></h5>"
   ]
  },
  {
   "cell_type": "code",
   "execution_count": 70,
   "metadata": {},
   "outputs": [],
   "source": [
    "from sklearn.ensemble import RandomForestRegressor\n",
    "from sklearn.preprocessing import StandardScaler"
   ]
  },
  {
   "cell_type": "code",
   "execution_count": 71,
   "metadata": {},
   "outputs": [
    {
     "data": {
      "text/plain": [
       "0.9437832211739067"
      ]
     },
     "execution_count": 71,
     "metadata": {},
     "output_type": "execute_result"
    }
   ],
   "source": [
    "df = pd.read_csv('./datasets/Feature Selection/ansur_male.csv')\n",
    "\n",
    "# df._get_numeric_data()\n",
    "# df.select_dtypes(include='number')\n",
    "df_num = df.select_dtypes(include=np.number)\n",
    "\n",
    "# Feature, target arrays\n",
    "X, y = df_num.iloc[:, :-1], df_num.iloc[:, -1]\n",
    "\n",
    "# Train/test set generation\n",
    "X_train, X_test, y_train, y_test = train_test_split(X, y, \n",
    "                                                    test_size=0.3, \n",
    "                                                    random_state=1)\n",
    "\n",
    "# Scale train and test sets with StandardScaler\n",
    "ss = StandardScaler()\n",
    "X_train_std = ss.fit_transform(X_train)\n",
    "X_test_std = ss.transform(X_test)\n",
    "\n",
    "# Init, fit, test score\n",
    "model_full = RandomForestRegressor()\n",
    "model_full.fit(X_train_std, y_train)\n",
    "model_full.score(X_test_std, y_test)"
   ]
  },
  {
   "cell_type": "code",
   "execution_count": 72,
   "metadata": {
    "scrolled": true
   },
   "outputs": [
    {
     "data": {
      "text/html": [
       "<div>\n",
       "<style scoped>\n",
       "    .dataframe tbody tr th:only-of-type {\n",
       "        vertical-align: middle;\n",
       "    }\n",
       "\n",
       "    .dataframe tbody tr th {\n",
       "        vertical-align: top;\n",
       "    }\n",
       "\n",
       "    .dataframe thead th {\n",
       "        text-align: right;\n",
       "    }\n",
       "</style>\n",
       "<table border=\"1\" class=\"dataframe\">\n",
       "  <thead>\n",
       "    <tr style=\"text-align: right;\">\n",
       "      <th></th>\n",
       "      <th>feature</th>\n",
       "      <th>weight</th>\n",
       "    </tr>\n",
       "  </thead>\n",
       "  <tbody>\n",
       "    <tr>\n",
       "      <th>0</th>\n",
       "      <td>DODRace</td>\n",
       "      <td>0.000091</td>\n",
       "    </tr>\n",
       "    <tr>\n",
       "      <th>1</th>\n",
       "      <td>SubjectNumericRace</td>\n",
       "      <td>0.000134</td>\n",
       "    </tr>\n",
       "    <tr>\n",
       "      <th>2</th>\n",
       "      <td>lateralfemoralepicondyleheight</td>\n",
       "      <td>0.000175</td>\n",
       "    </tr>\n",
       "    <tr>\n",
       "      <th>3</th>\n",
       "      <td>Heightin</td>\n",
       "      <td>0.000176</td>\n",
       "    </tr>\n",
       "    <tr>\n",
       "      <th>4</th>\n",
       "      <td>waistheightomphalion</td>\n",
       "      <td>0.000192</td>\n",
       "    </tr>\n",
       "    <tr>\n",
       "      <th>...</th>\n",
       "      <td>...</td>\n",
       "      <td>...</td>\n",
       "    </tr>\n",
       "    <tr>\n",
       "      <th>93</th>\n",
       "      <td>wristheight</td>\n",
       "      <td>0.001771</td>\n",
       "    </tr>\n",
       "    <tr>\n",
       "      <th>94</th>\n",
       "      <td>bicepscircumferenceflexed</td>\n",
       "      <td>0.002102</td>\n",
       "    </tr>\n",
       "    <tr>\n",
       "      <th>95</th>\n",
       "      <td>forearmcircumferenceflexed</td>\n",
       "      <td>0.003056</td>\n",
       "    </tr>\n",
       "    <tr>\n",
       "      <th>96</th>\n",
       "      <td>bideltoidbreadth</td>\n",
       "      <td>0.004810</td>\n",
       "    </tr>\n",
       "    <tr>\n",
       "      <th>97</th>\n",
       "      <td>weightkg</td>\n",
       "      <td>0.941537</td>\n",
       "    </tr>\n",
       "  </tbody>\n",
       "</table>\n",
       "<p>98 rows × 2 columns</p>\n",
       "</div>"
      ],
      "text/plain": [
       "                           feature    weight\n",
       "0                          DODRace  0.000091\n",
       "1               SubjectNumericRace  0.000134\n",
       "2   lateralfemoralepicondyleheight  0.000175\n",
       "3                         Heightin  0.000176\n",
       "4             waistheightomphalion  0.000192\n",
       "..                             ...       ...\n",
       "93                     wristheight  0.001771\n",
       "94       bicepscircumferenceflexed  0.002102\n",
       "95      forearmcircumferenceflexed  0.003056\n",
       "96                bideltoidbreadth  0.004810\n",
       "97                        weightkg  0.941537\n",
       "\n",
       "[98 rows x 2 columns]"
      ]
     },
     "execution_count": 72,
     "metadata": {},
     "output_type": "execute_result"
    }
   ],
   "source": [
    "# coefficients for the Random Forest Regressor model\n",
    "pd.DataFrame(\n",
    "    zip(X_train.columns, abs(model_full.feature_importances_)),\n",
    "    columns=[\"feature\", \"weight\"],\n",
    ").sort_values(\"weight\").reset_index(drop=True)"
   ]
  },
  {
   "cell_type": "markdown",
   "metadata": {},
   "source": [
    "To reduce model complexity, always start by removing features with a weight close to 0. Since all weights are multiplied by the values of features, such small weights contribute very little to the overall predictions. Looking at the above weights, we can see that many weights are close to 0.\n",
    "\n",
    "We could set a low threshold and filter out features based on it. But we have to remember that even removing a single feature forces other coefficients to change. So, we have to eliminate them step-by-step, leaving out the lowest weighted feature by sorting the fitted model coefficients. Doing this manually for 98 features would be cumbersome, but thankfully Sklearn provides us with Recursive Feature Elimination."
   ]
  },
  {
   "cell_type": "code",
   "execution_count": 73,
   "metadata": {},
   "outputs": [
    {
     "data": {
      "text/plain": [
       "RFE(estimator=RandomForestRegressor(), n_features_to_select=10, step=10)"
      ]
     },
     "execution_count": 73,
     "metadata": {},
     "output_type": "execute_result"
    }
   ],
   "source": [
    "from sklearn.feature_selection import RFE\n",
    "\n",
    "# Init the transformer\n",
    "rfe = RFE(estimator=RandomForestRegressor(), n_features_to_select=10,step=10)\n",
    "rfe.fit(X_train_std, y_train)"
   ]
  },
  {
   "cell_type": "code",
   "execution_count": 74,
   "metadata": {},
   "outputs": [
    {
     "name": "stdout",
     "output_type": "stream",
     "text": [
      "Num Features: 10 \n",
      "\n",
      "Selected Features: [False False False False False False False False False  True False  True\n",
      " False False False  True False False False False False False False False\n",
      " False False False False False False False False  True  True False False\n",
      " False False  True False False False False False False False False False\n",
      " False False False False False False False False False False False False\n",
      " False False False False False False False False  True False False False\n",
      " False False False False False False False False False False False False\n",
      " False False False False False False False  True  True  True False False\n",
      " False False] \n",
      "\n",
      "Feature Ranking: [ 9  8  8  9  7 10  8  7  7  1  5  1  7  5  3  1  4  4  9  4  2  7  8  5\n",
      "  2  6 10  8  3  4  9  5  1  1  6  7  5  4  1  2  9  6  8  8  9  9  7  3\n",
      "  8  3  4  2  8  4  3  3 10  6 10  6  4  3  2  6  6  9  6  7  1  9  7  3\n",
      "  4  9  2  2 10  8  7  3  5 10  5  4  6  3  2  5  5  5 10  1  1  1 10 10\n",
      "  6 10]\n"
     ]
    }
   ],
   "source": [
    "print(\"Num Features: %d\" % rfe.n_features_,'\\n')\n",
    "print(\"Selected Features: %s\" % rfe.support_,'\\n')\n",
    "print(\"Feature Ranking: %s\" % rfe.ranking_)"
   ]
  },
  {
   "cell_type": "code",
   "execution_count": 75,
   "metadata": {},
   "outputs": [
    {
     "data": {
      "text/html": [
       "<div>\n",
       "<style scoped>\n",
       "    .dataframe tbody tr th:only-of-type {\n",
       "        vertical-align: middle;\n",
       "    }\n",
       "\n",
       "    .dataframe tbody tr th {\n",
       "        vertical-align: top;\n",
       "    }\n",
       "\n",
       "    .dataframe thead th {\n",
       "        text-align: right;\n",
       "    }\n",
       "</style>\n",
       "<table border=\"1\" class=\"dataframe\">\n",
       "  <thead>\n",
       "    <tr style=\"text-align: right;\">\n",
       "      <th></th>\n",
       "      <th>bicepscircumferenceflexed</th>\n",
       "      <th>bideltoidbreadth</th>\n",
       "      <th>bizygomaticbreadth</th>\n",
       "      <th>earprotrusion</th>\n",
       "      <th>elbowrestheight</th>\n",
       "      <th>forearmcircumferenceflexed</th>\n",
       "      <th>shouldercircumference</th>\n",
       "      <th>weightkg</th>\n",
       "      <th>wristcircumference</th>\n",
       "      <th>wristheight</th>\n",
       "    </tr>\n",
       "  </thead>\n",
       "  <tbody>\n",
       "    <tr>\n",
       "      <th>816</th>\n",
       "      <td>342</td>\n",
       "      <td>502</td>\n",
       "      <td>148</td>\n",
       "      <td>27</td>\n",
       "      <td>250</td>\n",
       "      <td>295</td>\n",
       "      <td>1168</td>\n",
       "      <td>846</td>\n",
       "      <td>165</td>\n",
       "      <td>856</td>\n",
       "    </tr>\n",
       "    <tr>\n",
       "      <th>1956</th>\n",
       "      <td>357</td>\n",
       "      <td>521</td>\n",
       "      <td>141</td>\n",
       "      <td>21</td>\n",
       "      <td>247</td>\n",
       "      <td>311</td>\n",
       "      <td>1180</td>\n",
       "      <td>983</td>\n",
       "      <td>180</td>\n",
       "      <td>898</td>\n",
       "    </tr>\n",
       "    <tr>\n",
       "      <th>1379</th>\n",
       "      <td>357</td>\n",
       "      <td>521</td>\n",
       "      <td>140</td>\n",
       "      <td>24</td>\n",
       "      <td>241</td>\n",
       "      <td>315</td>\n",
       "      <td>1176</td>\n",
       "      <td>822</td>\n",
       "      <td>185</td>\n",
       "      <td>843</td>\n",
       "    </tr>\n",
       "    <tr>\n",
       "      <th>1412</th>\n",
       "      <td>381</td>\n",
       "      <td>529</td>\n",
       "      <td>140</td>\n",
       "      <td>24</td>\n",
       "      <td>281</td>\n",
       "      <td>293</td>\n",
       "      <td>1163</td>\n",
       "      <td>889</td>\n",
       "      <td>170</td>\n",
       "      <td>825</td>\n",
       "    </tr>\n",
       "    <tr>\n",
       "      <th>3039</th>\n",
       "      <td>347</td>\n",
       "      <td>538</td>\n",
       "      <td>141</td>\n",
       "      <td>23</td>\n",
       "      <td>238</td>\n",
       "      <td>312</td>\n",
       "      <td>1225</td>\n",
       "      <td>882</td>\n",
       "      <td>171</td>\n",
       "      <td>853</td>\n",
       "    </tr>\n",
       "    <tr>\n",
       "      <th>...</th>\n",
       "      <td>...</td>\n",
       "      <td>...</td>\n",
       "      <td>...</td>\n",
       "      <td>...</td>\n",
       "      <td>...</td>\n",
       "      <td>...</td>\n",
       "      <td>...</td>\n",
       "      <td>...</td>\n",
       "      <td>...</td>\n",
       "      <td>...</td>\n",
       "    </tr>\n",
       "    <tr>\n",
       "      <th>3839</th>\n",
       "      <td>346</td>\n",
       "      <td>482</td>\n",
       "      <td>140</td>\n",
       "      <td>24</td>\n",
       "      <td>239</td>\n",
       "      <td>318</td>\n",
       "      <td>1146</td>\n",
       "      <td>733</td>\n",
       "      <td>184</td>\n",
       "      <td>817</td>\n",
       "    </tr>\n",
       "    <tr>\n",
       "      <th>1096</th>\n",
       "      <td>386</td>\n",
       "      <td>549</td>\n",
       "      <td>145</td>\n",
       "      <td>27</td>\n",
       "      <td>268</td>\n",
       "      <td>331</td>\n",
       "      <td>1254</td>\n",
       "      <td>985</td>\n",
       "      <td>182</td>\n",
       "      <td>902</td>\n",
       "    </tr>\n",
       "    <tr>\n",
       "      <th>3980</th>\n",
       "      <td>352</td>\n",
       "      <td>515</td>\n",
       "      <td>138</td>\n",
       "      <td>19</td>\n",
       "      <td>217</td>\n",
       "      <td>327</td>\n",
       "      <td>1178</td>\n",
       "      <td>821</td>\n",
       "      <td>181</td>\n",
       "      <td>785</td>\n",
       "    </tr>\n",
       "    <tr>\n",
       "      <th>235</th>\n",
       "      <td>383</td>\n",
       "      <td>473</td>\n",
       "      <td>128</td>\n",
       "      <td>22</td>\n",
       "      <td>218</td>\n",
       "      <td>328</td>\n",
       "      <td>1139</td>\n",
       "      <td>718</td>\n",
       "      <td>171</td>\n",
       "      <td>755</td>\n",
       "    </tr>\n",
       "    <tr>\n",
       "      <th>1061</th>\n",
       "      <td>421</td>\n",
       "      <td>576</td>\n",
       "      <td>154</td>\n",
       "      <td>23</td>\n",
       "      <td>270</td>\n",
       "      <td>363</td>\n",
       "      <td>1326</td>\n",
       "      <td>1258</td>\n",
       "      <td>200</td>\n",
       "      <td>901</td>\n",
       "    </tr>\n",
       "  </tbody>\n",
       "</table>\n",
       "<p>2857 rows × 10 columns</p>\n",
       "</div>"
      ],
      "text/plain": [
       "      bicepscircumferenceflexed  bideltoidbreadth  bizygomaticbreadth  \\\n",
       "816                         342               502                 148   \n",
       "1956                        357               521                 141   \n",
       "1379                        357               521                 140   \n",
       "1412                        381               529                 140   \n",
       "3039                        347               538                 141   \n",
       "...                         ...               ...                 ...   \n",
       "3839                        346               482                 140   \n",
       "1096                        386               549                 145   \n",
       "3980                        352               515                 138   \n",
       "235                         383               473                 128   \n",
       "1061                        421               576                 154   \n",
       "\n",
       "      earprotrusion  elbowrestheight  forearmcircumferenceflexed  \\\n",
       "816              27              250                         295   \n",
       "1956             21              247                         311   \n",
       "1379             24              241                         315   \n",
       "1412             24              281                         293   \n",
       "3039             23              238                         312   \n",
       "...             ...              ...                         ...   \n",
       "3839             24              239                         318   \n",
       "1096             27              268                         331   \n",
       "3980             19              217                         327   \n",
       "235              22              218                         328   \n",
       "1061             23              270                         363   \n",
       "\n",
       "      shouldercircumference  weightkg  wristcircumference  wristheight  \n",
       "816                    1168       846                 165          856  \n",
       "1956                   1180       983                 180          898  \n",
       "1379                   1176       822                 185          843  \n",
       "1412                   1163       889                 170          825  \n",
       "3039                   1225       882                 171          853  \n",
       "...                     ...       ...                 ...          ...  \n",
       "3839                   1146       733                 184          817  \n",
       "1096                   1254       985                 182          902  \n",
       "3980                   1178       821                 181          785  \n",
       "235                    1139       718                 171          755  \n",
       "1061                   1326      1258                 200          901  \n",
       "\n",
       "[2857 rows x 10 columns]"
      ]
     },
     "execution_count": 75,
     "metadata": {},
     "output_type": "execute_result"
    }
   ],
   "source": [
    "X_train.loc[:, rfe.support_]"
   ]
  },
  {
   "cell_type": "markdown",
   "metadata": {},
   "source": [
    "Using this smaller subset to test Random Forest Regressor once again."
   ]
  },
  {
   "cell_type": "code",
   "execution_count": 76,
   "metadata": {},
   "outputs": [
    {
     "data": {
      "text/plain": [
       "(2857, 10)"
      ]
     },
     "execution_count": 76,
     "metadata": {},
     "output_type": "execute_result"
    }
   ],
   "source": [
    "rfe.transform(X_train_std).shape"
   ]
  },
  {
   "cell_type": "code",
   "execution_count": 77,
   "metadata": {},
   "outputs": [
    {
     "data": {
      "text/plain": [
       "0.9440920617089974"
      ]
     },
     "execution_count": 77,
     "metadata": {},
     "output_type": "execute_result"
    }
   ],
   "source": [
    "model_fs = RandomForestRegressor()\n",
    "model_fs.fit(rfe.transform(X_train_std), y_train)\n",
    "model_fs.score(rfe.transform(X_test_std), y_test)"
   ]
  },
  {
   "cell_type": "markdown",
   "metadata": {},
   "source": [
    "Even after dropping almost 89 features, we got the same score which is very impressive.\n",
    "\n",
    "<a id=\"auto\"></a>\n",
    "<ins>Choosing the number of features to keep automatically</ins><br>\n",
    "The most important hyperparameters of RFE are estimator and n_features_to_select. We arbitrarily chose 10 features and hoped for the best. However, as RFE can be wrapped around any model, we have to choose the number of relevant features based on their performance.\n",
    "\n",
    "To achieve this, Sklearn provides a similar RFECV class which implements Recursive Feature Elimination with cross-validation and automatically finds the optimal number of features to keep. In this example, we will be using Linear regression because we can guess there will be a linear correlation between body measurements. Besides, combined with cross-validation, Random Forest Regressor will become more computationally expensive. "
   ]
  },
  {
   "cell_type": "code",
   "execution_count": 78,
   "metadata": {},
   "outputs": [
    {
     "data": {
      "text/plain": [
       "RFECV(cv=5, estimator=LinearRegression(), min_features_to_select=5, n_jobs=-1,\n",
       "      scoring='r2', step=5)"
      ]
     },
     "execution_count": 78,
     "metadata": {},
     "output_type": "execute_result"
    }
   ],
   "source": [
    "from sklearn.feature_selection import RFECV\n",
    "\n",
    "# Init, fit\n",
    "rfecv = RFECV(estimator=LinearRegression(), min_features_to_select=5,\n",
    "              step=5, n_jobs=-1, scoring=\"r2\", cv=5)\n",
    "rfecv.fit(X_train_std, y_train)"
   ]
  },
  {
   "cell_type": "code",
   "execution_count": 79,
   "metadata": {},
   "outputs": [
    {
     "data": {
      "text/plain": [
       "Index(['bideltoidbreadth', 'crotchlengthomphalion', 'kneeheightsitting',\n",
       "       'shouldercircumference', 'waistbreadth', 'waistcircumference',\n",
       "       'waistheightomphalion', 'weightkg'],\n",
       "      dtype='object')"
      ]
     },
     "execution_count": 79,
     "metadata": {},
     "output_type": "execute_result"
    }
   ],
   "source": [
    "X_train.columns[rfecv.support_]"
   ]
  },
  {
   "cell_type": "markdown",
   "metadata": {},
   "source": [
    "Let's now train the model only on these 8 features and look at its performance."
   ]
  },
  {
   "cell_type": "code",
   "execution_count": 80,
   "metadata": {},
   "outputs": [
    {
     "data": {
      "text/plain": [
       "0.9493073153977724"
      ]
     },
     "execution_count": 80,
     "metadata": {},
     "output_type": "execute_result"
    }
   ],
   "source": [
    "lr = LinearRegression()\n",
    "lr.fit(rfecv.transform(X_train_std), y_train)\n",
    "lr.score(rfecv.transform(X_test_std), y_test)"
   ]
  },
  {
   "cell_type": "markdown",
   "metadata": {},
   "source": [
    "Even after dropping 91 features, we still got an impressive score."
   ]
  },
  {
   "cell_type": "markdown",
   "metadata": {},
   "source": [
    "<a id=\"rfe_cla\"></a>\n",
    "<h5><ins>RFE for Classification: Numerical Input, Categorical Output</ins></h5>"
   ]
  },
  {
   "cell_type": "code",
   "execution_count": 81,
   "metadata": {},
   "outputs": [],
   "source": [
    "from sklearn.model_selection import cross_val_score, RepeatedStratifiedKFold\n",
    "from sklearn.feature_selection import RFE\n",
    "from sklearn.tree import DecisionTreeClassifier\n",
    "from sklearn.pipeline import Pipeline"
   ]
  },
  {
   "cell_type": "code",
   "execution_count": 82,
   "metadata": {},
   "outputs": [
    {
     "name": "stdout",
     "output_type": "stream",
     "text": [
      "Accuracy: 0.694 +-(0.054)\n"
     ]
    }
   ],
   "source": [
    "def load_dataset(file_path):\n",
    "    # read in the dataset using pandas\n",
    "    df = pd.read_csv(file_path, header=None, prefix='col_')\n",
    "    # split the data into input and output variables\n",
    "    X = df.values[:, :-1]\n",
    "    y = df.values[:,-1]\n",
    "    return X, y\n",
    "\n",
    "X, y = load_dataset(\"./datasets/Feature Selection/Diabetes.csv\")\n",
    "\n",
    "# create pipeline\n",
    "rfe = RFE(estimator=DecisionTreeClassifier(), n_features_to_select=7)\n",
    "model = DecisionTreeClassifier()\n",
    "pipeline = Pipeline(steps=[('s',rfe),('m',model)])\n",
    "# evaluate model\n",
    "cv = RepeatedStratifiedKFold(n_splits=10, n_repeats=3, random_state=1)\n",
    "n_scores = cross_val_score(pipeline, X, y, scoring='accuracy', cv=cv, n_jobs=-1)\n",
    "# report performance\n",
    "print('Accuracy: %.3f +-(%.3f)' % (np.mean(n_scores), np.std(n_scores)))"
   ]
  },
  {
   "cell_type": "code",
   "execution_count": 83,
   "metadata": {},
   "outputs": [
    {
     "data": {
      "text/plain": [
       "Pipeline(steps=[('s',\n",
       "                 RFE(estimator=DecisionTreeClassifier(),\n",
       "                     n_features_to_select=7)),\n",
       "                ('m', DecisionTreeClassifier())])"
      ]
     },
     "execution_count": 83,
     "metadata": {},
     "output_type": "execute_result"
    }
   ],
   "source": [
    "# split into train and test sets\n",
    "X_train, X_test, y_train, y_test = train_test_split(X, y, test_size=0.3, \n",
    "                                                    random_state=1)\n",
    "\n",
    "\n",
    "# create pipeline\n",
    "rfe = RFE(estimator=DecisionTreeClassifier(), n_features_to_select=7)\n",
    "model = DecisionTreeClassifier()\n",
    "pipeline = Pipeline(steps=[('s',rfe),('m',model)])\n",
    "# fit the model on all available data\n",
    "pipeline.fit(X_train, y_train)"
   ]
  },
  {
   "cell_type": "code",
   "execution_count": 84,
   "metadata": {},
   "outputs": [
    {
     "name": "stdout",
     "output_type": "stream",
     "text": [
      "Accuracy score is 0.683982683982684\n"
     ]
    }
   ],
   "source": [
    "y_hat = pipeline.predict(X_test)\n",
    "accuracy = accuracy_score(y_test,y_hat)\n",
    "print(f'Accuracy score is {accuracy}')"
   ]
  },
  {
   "cell_type": "code",
   "execution_count": 85,
   "metadata": {},
   "outputs": [
    {
     "name": "stdout",
     "output_type": "stream",
     "text": [
      "Accuracy score is 0.6666666666666666\n"
     ]
    }
   ],
   "source": [
    "rfecv = RFECV(estimator=DecisionTreeClassifier(), min_features_to_select=5,\n",
    "              step=1, n_jobs=-1, scoring=\"r2\", cv=5)\n",
    "X_train_rfecv = rfecv.fit_transform(X_train,y_train)\n",
    "X_test_rfecv = rfecv.transform(X_test)\n",
    "\n",
    "model = DecisionTreeClassifier()\n",
    "model.fit(X_train_rfecv,y_train)\n",
    "\n",
    "y_hat_ = model.predict(X_test_rfecv)\n",
    "accuracy = accuracy_score(y_test,y_hat_)\n",
    "print(f'Accuracy score is {accuracy}')"
   ]
  },
  {
   "cell_type": "code",
   "execution_count": 86,
   "metadata": {},
   "outputs": [
    {
     "data": {
      "text/plain": [
       "array(['x1', 'x2', 'x5', 'x6', 'x7'], dtype=object)"
      ]
     },
     "execution_count": 86,
     "metadata": {},
     "output_type": "execute_result"
    }
   ],
   "source": [
    "rfecv.get_feature_names_out()"
   ]
  },
  {
   "cell_type": "code",
   "execution_count": 87,
   "metadata": {},
   "outputs": [
    {
     "name": "stdout",
     "output_type": "stream",
     "text": [
      "Accuracy score is 0.6883116883116883\n"
     ]
    }
   ],
   "source": [
    "rfecv = RFECV(estimator=DecisionTreeClassifier(), min_features_to_select=7,\n",
    "              step=1, n_jobs=-1, scoring=\"r2\", cv=5)\n",
    "model = DecisionTreeClassifier()\n",
    "pipeline = Pipeline(steps=[('cv',rfecv),('m',model)])\n",
    "pipeline.fit(X_train, y_train)\n",
    "y_hat = pipeline.predict(X_test)\n",
    "accuracy = accuracy_score(y_test,y_hat)\n",
    "print(f'Accuracy score is {accuracy}')"
   ]
  },
  {
   "cell_type": "code",
   "execution_count": 88,
   "metadata": {},
   "outputs": [
    {
     "data": {
      "text/plain": [
       "array(['x1', 'x2', 'x3', 'x4', 'x5', 'x6', 'x7'], dtype=object)"
      ]
     },
     "execution_count": 88,
     "metadata": {},
     "output_type": "execute_result"
    }
   ],
   "source": [
    "pipeline.steps[0][1].get_feature_names_out()"
   ]
  },
  {
   "cell_type": "markdown",
   "metadata": {},
   "source": [
    "<a id=\"rfe_reg\"></a>\n",
    "<h5><ins>RFE for Regression: Numerical Input, Numerical Output</ins></h5>"
   ]
  },
  {
   "cell_type": "code",
   "execution_count": 89,
   "metadata": {},
   "outputs": [],
   "source": [
    "from sklearn.model_selection import cross_val_score\n",
    "from sklearn.model_selection import RepeatedKFold\n",
    "from sklearn.tree import DecisionTreeRegressor\n",
    "from sklearn.feature_selection import RFE\n",
    "from sklearn.pipeline import Pipeline"
   ]
  },
  {
   "cell_type": "code",
   "execution_count": 90,
   "metadata": {},
   "outputs": [],
   "source": [
    "data = load_diabetes()\n",
    "df = pd.DataFrame(data.data, columns=data.feature_names)\n",
    "df['target'] = data.target\n",
    "\n",
    "X = df.drop(columns=['target'])\n",
    "y = df['target']\n",
    "\n",
    "# split into train and test sets\n",
    "X_train, X_test, y_train, y_test = train_test_split(X, y, test_size=0.3, \n",
    "                                                    random_state=1)"
   ]
  },
  {
   "cell_type": "code",
   "execution_count": 91,
   "metadata": {},
   "outputs": [
    {
     "name": "stdout",
     "output_type": "stream",
     "text": [
      "MAE: -63.169 +- (7.763)\n"
     ]
    }
   ],
   "source": [
    "# create pipeline\n",
    "rfe = RFE(estimator=DecisionTreeRegressor(), n_features_to_select=7)\n",
    "model = DecisionTreeRegressor()\n",
    "pipeline = Pipeline(steps=[('s',rfe),('m',model)])\n",
    "\n",
    "# evaluate model\n",
    "cv = RepeatedKFold(n_splits=10, n_repeats=3, random_state=1)\n",
    "n_scores = cross_val_score(pipeline, X, y, \n",
    "                           scoring='neg_mean_absolute_error', cv=cv, n_jobs=-1)\n",
    "\n",
    "# report performance\n",
    "print('MAE: %.3f +- (%.3f)' % (np.mean(n_scores), np.std(n_scores)))"
   ]
  },
  {
   "cell_type": "markdown",
   "metadata": {},
   "source": [
    "We can also use the RFE as part of the final model and make predictions for regression."
   ]
  },
  {
   "cell_type": "code",
   "execution_count": 92,
   "metadata": {},
   "outputs": [],
   "source": [
    "from sklearn.metrics import r2_score"
   ]
  },
  {
   "cell_type": "code",
   "execution_count": 93,
   "metadata": {},
   "outputs": [
    {
     "name": "stdout",
     "output_type": "stream",
     "text": [
      "MAE: 63.21052631578947\n",
      "score: -0.2774834830772144\n"
     ]
    }
   ],
   "source": [
    "rfe = RFE(estimator=DecisionTreeRegressor(), n_features_to_select=5)\n",
    "model = DecisionTreeRegressor()\n",
    "pipeline = Pipeline(steps=[('s',rfe),('m',model)])\n",
    "# fit the model on all available data\n",
    "pipeline.fit(X_train, y_train)\n",
    "# make a prediction for one example\n",
    "yhat = pipeline.predict(X_test)\n",
    "mae = mean_absolute_error(y_test,yhat)\n",
    "print(f'MAE: {mae}')\n",
    "print(f'score: {r2_score(y_test,yhat)}')"
   ]
  },
  {
   "cell_type": "code",
   "execution_count": 94,
   "metadata": {},
   "outputs": [
    {
     "data": {
      "text/plain": [
       "-0.2774834830772144"
      ]
     },
     "execution_count": 94,
     "metadata": {},
     "output_type": "execute_result"
    }
   ],
   "source": [
    "pipeline.score(X_test,y_test)"
   ]
  },
  {
   "cell_type": "markdown",
   "metadata": {},
   "source": [
    "<a id=\"hyper\"></a>\n",
    "<h5><ins>RFE Hyperparameters</ins></h5>\n",
    "\n",
    "We will now look at some of the hyperparameters that should be considered when \n",
    "tuning the RFE for feature selection and their effect on model performance.\n",
    "\n",
    "<a id=\"explore\"></a>\n",
    "<ins>Explore Number of Features</ins><br>\n",
    "An important hyperparameter for the RFE algorithm is the number of features to select. Previously, we used an arbitrary number of selected features. In practice, we cannot know the best number of features to select with RFE; instead, it is good practice to test different values. For this example, we will use a classification dataset from sklearn."
   ]
  },
  {
   "cell_type": "code",
   "execution_count": 95,
   "metadata": {},
   "outputs": [],
   "source": [
    "from sklearn.model_selection import RepeatedStratifiedKFold, cross_val_score\n",
    "from sklearn.datasets import make_classification\n",
    "from sklearn.tree import DecisionTreeClassifier\n",
    "from sklearn.feature_selection import RFE\n",
    "from sklearn.pipeline import Pipeline"
   ]
  },
  {
   "cell_type": "code",
   "execution_count": 96,
   "metadata": {},
   "outputs": [],
   "source": [
    "# get the dataset\n",
    "def get_dataset():\n",
    "    X, y = make_classification(n_samples=1000, n_features=10,\n",
    "                               n_informative=5, n_redundant=5, random_state=1)\n",
    "    return X, y\n",
    "\n",
    "# get a list of models to evaluate\n",
    "def get_models():\n",
    "    models = dict()\n",
    "    for i in range(2, 10):\n",
    "        rfe = RFE(estimator=DecisionTreeClassifier(), n_features_to_select=i)\n",
    "        model = DecisionTreeClassifier()\n",
    "        models[str(i)] = Pipeline(steps=[('s',rfe),('m',model)])\n",
    "    return models\n",
    "\n",
    "# evaluate a given model using cross-validation\n",
    "def evaluate_model(model, X, y):\n",
    "    cv = RepeatedStratifiedKFold(n_splits=10, n_repeats=3, random_state=1)\n",
    "    scores = cross_val_score(model, X, y, scoring='accuracy', cv=cv, n_jobs=-1)\n",
    "    return scores"
   ]
  },
  {
   "cell_type": "code",
   "execution_count": 97,
   "metadata": {},
   "outputs": [],
   "source": [
    "# define dataset\n",
    "X, y = get_dataset()"
   ]
  },
  {
   "cell_type": "code",
   "execution_count": 98,
   "metadata": {},
   "outputs": [],
   "source": [
    "# get the models to evaluate\n",
    "models = get_models()"
   ]
  },
  {
   "cell_type": "code",
   "execution_count": 99,
   "metadata": {
    "scrolled": true
   },
   "outputs": [
    {
     "data": {
      "text/plain": [
       "{'2': Pipeline(steps=[('s',\n",
       "                  RFE(estimator=DecisionTreeClassifier(),\n",
       "                      n_features_to_select=2)),\n",
       "                 ('m', DecisionTreeClassifier())]),\n",
       " '3': Pipeline(steps=[('s',\n",
       "                  RFE(estimator=DecisionTreeClassifier(),\n",
       "                      n_features_to_select=3)),\n",
       "                 ('m', DecisionTreeClassifier())]),\n",
       " '4': Pipeline(steps=[('s',\n",
       "                  RFE(estimator=DecisionTreeClassifier(),\n",
       "                      n_features_to_select=4)),\n",
       "                 ('m', DecisionTreeClassifier())]),\n",
       " '5': Pipeline(steps=[('s',\n",
       "                  RFE(estimator=DecisionTreeClassifier(),\n",
       "                      n_features_to_select=5)),\n",
       "                 ('m', DecisionTreeClassifier())]),\n",
       " '6': Pipeline(steps=[('s',\n",
       "                  RFE(estimator=DecisionTreeClassifier(),\n",
       "                      n_features_to_select=6)),\n",
       "                 ('m', DecisionTreeClassifier())]),\n",
       " '7': Pipeline(steps=[('s',\n",
       "                  RFE(estimator=DecisionTreeClassifier(),\n",
       "                      n_features_to_select=7)),\n",
       "                 ('m', DecisionTreeClassifier())]),\n",
       " '8': Pipeline(steps=[('s',\n",
       "                  RFE(estimator=DecisionTreeClassifier(),\n",
       "                      n_features_to_select=8)),\n",
       "                 ('m', DecisionTreeClassifier())]),\n",
       " '9': Pipeline(steps=[('s',\n",
       "                  RFE(estimator=DecisionTreeClassifier(),\n",
       "                      n_features_to_select=9)),\n",
       "                 ('m', DecisionTreeClassifier())])}"
      ]
     },
     "execution_count": 99,
     "metadata": {},
     "output_type": "execute_result"
    }
   ],
   "source": [
    "models"
   ]
  },
  {
   "cell_type": "code",
   "execution_count": 100,
   "metadata": {},
   "outputs": [
    {
     "name": "stdout",
     "output_type": "stream",
     "text": [
      ">2 0.720 (0.044)\n",
      ">3 0.826 (0.033)\n",
      ">4 0.872 (0.033)\n",
      ">5 0.887 (0.030)\n",
      ">6 0.888 (0.026)\n",
      ">7 0.888 (0.026)\n",
      ">8 0.882 (0.028)\n",
      ">9 0.888 (0.028)\n"
     ]
    }
   ],
   "source": [
    "# evaluate the models and store results\n",
    "results, names = list(), list()\n",
    "for name, model in models.items():\n",
    "    scores = evaluate_model(model, X, y)\n",
    "    results.append(scores)\n",
    "    names.append(name)\n",
    "    print('>%s %.3f (%.3f)' % (name, np.mean(scores), np.std(scores)))"
   ]
  },
  {
   "cell_type": "markdown",
   "metadata": {},
   "source": [
    "In this case, we can see that performance improves as the number of features increase and perhaps peaks around 5-to-7 as we might expect, given that only five features are relevant to the target variable."
   ]
  },
  {
   "cell_type": "code",
   "execution_count": 101,
   "metadata": {},
   "outputs": [
    {
     "data": {
      "image/png": "[encoded data removed]",
      "text/plain": [
       "<Figure size 432x288 with 1 Axes>"
      ]
     },
     "metadata": {
      "needs_background": "light"
     },
     "output_type": "display_data"
    }
   ],
   "source": [
    "# plot model performance for comparison\n",
    "plt.boxplot(results, labels=names, showmeans=True)\n",
    "plt.show()"
   ]
  },
  {
   "cell_type": "markdown",
   "metadata": {},
   "source": [
    "<a id=\"which\"></a>\n",
    "<ins>Which Features Were Selected With RFE</ins><br>\n",
    "When using RFE, we may be interested to know which features were selected and which were removed. This can be achieved by reviewing the attributes of the fit RFE object (or fit RFECV object). The support attribute reports true or false as to which features in order of column index were included and the ranking attribute reports the relative ranking of features in the same order. The example below fits an RFE model on the whole dataset and selects five features, then reports each feature column index (0 to 9), whether it was selected or not (True or False), and the relative feature ranking."
   ]
  },
  {
   "cell_type": "code",
   "execution_count": 102,
   "metadata": {},
   "outputs": [
    {
     "name": "stdout",
     "output_type": "stream",
     "text": [
      "Column: 0, Selected=False, Rank: 4\n",
      "Column: 1, Selected=False, Rank: 5\n",
      "Column: 2, Selected=True, Rank: 1\n",
      "Column: 3, Selected=True, Rank: 1\n",
      "Column: 4, Selected=True, Rank: 1\n",
      "Column: 5, Selected=False, Rank: 6\n",
      "Column: 6, Selected=True, Rank: 1\n",
      "Column: 7, Selected=False, Rank: 2\n",
      "Column: 8, Selected=True, Rank: 1\n",
      "Column: 9, Selected=False, Rank: 3\n"
     ]
    }
   ],
   "source": [
    "# define RFE\n",
    "rfe = RFE(estimator=DecisionTreeClassifier(), n_features_to_select=5)\n",
    "\n",
    "# fit RFE\n",
    "rfe.fit(X, y)\n",
    "\n",
    "# summarize all features\n",
    "for i in range(X.shape[1]):\n",
    "    print(f'Column: {i}, Selected={rfe.support_[i]}, Rank: {rfe.ranking_[i]}')"
   ]
  },
  {
   "cell_type": "markdown",
   "metadata": {},
   "source": [
    "<a id=\"explore\"></a>\n",
    "<ins>Automatically Select the Number of Features With RFECV</ins><br>\n",
    "It is also possible to automatically select the number of features chosen by RFE. This can be achieved by performing cross-validation evaluation of different numbers of features as we did in the previous section and automatically selecting the number of features that resulted in the best mean score. The `RFECV` class implements this.\n",
    "\n",
    "The RFECV is configured just like the RFE class regarding the choice of the algorithm that is wrapped. Additionally, the minimum number of features to be considered can be specified via the `min_features_to_select argument` (defaults to 1) and we can also specify the type of cross-validation and scoring to use via the cv (defaults to 5) and scoring arguments (uses accuracy for classification)."
   ]
  },
  {
   "cell_type": "code",
   "execution_count": 103,
   "metadata": {},
   "outputs": [],
   "source": [
    "from sklearn.model_selection import RepeatedStratifiedKFold, cross_val_score\n",
    "from sklearn.datasets import make_classification\n",
    "from sklearn.tree import DecisionTreeClassifier\n",
    "from sklearn.feature_selection import RFECV\n",
    "from sklearn.pipeline import Pipeline"
   ]
  },
  {
   "cell_type": "code",
   "execution_count": 104,
   "metadata": {},
   "outputs": [
    {
     "name": "stdout",
     "output_type": "stream",
     "text": [
      "Accuracy: 0.887 (0.026)\n"
     ]
    }
   ],
   "source": [
    "# define dataset\n",
    "X, y = make_classification(n_samples=1000, n_features=10,\n",
    "                           n_informative=5, n_redundant=5, random_state=1)\n",
    "# create pipeline\n",
    "rfe = RFECV(estimator=DecisionTreeClassifier())\n",
    "model = DecisionTreeClassifier()\n",
    "pipeline = Pipeline(steps=[('s',rfe),('m',model)])\n",
    "\n",
    "# evaluate model\n",
    "cv = RepeatedStratifiedKFold(n_splits=10, n_repeats=3, random_state=1)\n",
    "# n_scores = cross_val_score(pipeline, X, y, scoring='accuracy', n_jobs=-1)\n",
    "n_scores = cross_val_score(pipeline, X, y, scoring='accuracy', cv=cv, n_jobs=-1)\n",
    "\n",
    "# report performance\n",
    "print('Accuracy: %.3f (%.3f)' % (np.mean(n_scores), np.std(n_scores)))"
   ]
  },
  {
   "cell_type": "markdown",
   "metadata": {},
   "source": [
    "In this case, we can see the RFECV useing a decision tree model to automatically select the number of features and then fits a decision tree on the selected features. This achieves a classification accuracy of about 88.7 percent."
   ]
  },
  {
   "cell_type": "markdown",
   "metadata": {},
   "source": [
    "<a id=\"which2\"></a>\n",
    "<ins>Which Features Were Selected with RFECV</ins>"
   ]
  },
  {
   "cell_type": "code",
   "execution_count": 105,
   "metadata": {},
   "outputs": [
    {
     "name": "stdout",
     "output_type": "stream",
     "text": [
      "Column: 0, Selected=False, Rank: 4\n",
      "Column: 1, Selected=False, Rank: 3\n",
      "Column: 2, Selected=True, Rank: 1\n",
      "Column: 3, Selected=True, Rank: 1\n",
      "Column: 4, Selected=True, Rank: 1\n",
      "Column: 5, Selected=False, Rank: 5\n",
      "Column: 6, Selected=True, Rank: 1\n",
      "Column: 7, Selected=False, Rank: 2\n",
      "Column: 8, Selected=True, Rank: 1\n",
      "Column: 9, Selected=True, Rank: 1\n"
     ]
    }
   ],
   "source": [
    "# define RFECV\n",
    "cv1 = RepeatedStratifiedKFold(n_splits=10, n_repeats=3, random_state=1)\n",
    "rfecv = RFECV(estimator=DecisionTreeClassifier(), cv=cv1)\n",
    "# fit RFE\n",
    "rfecv.fit(X, y)\n",
    "# summarize all features\n",
    "for i in range(X.shape[1]):\n",
    "    print(f'Column: {i}, Selected={rfecv.support_[i]}, Rank: {rfecv.ranking_[i]}')"
   ]
  },
  {
   "cell_type": "markdown",
   "metadata": {},
   "source": [
    "<a id=\"base\"></a>\n",
    "<ins>Explore Base Algorithm</ins><br>\n",
    "There are many algorithms that can be used in the core RFE, as long as they provide some indication of variable importance. Most decision tree algorithms are likely to report the same general trends in feature importance, but this is not guaranteed. It might be helpful to explore the use of different algorithms wrapped by RFE."
   ]
  },
  {
   "cell_type": "code",
   "execution_count": 106,
   "metadata": {},
   "outputs": [],
   "source": [
    "from sklearn.ensemble import GradientBoostingClassifier, RandomForestClassifier\n",
    "from sklearn.model_selection import RepeatedStratifiedKFold, cross_val_score\n",
    "from sklearn.linear_model import LogisticRegression, Perceptron\n",
    "from sklearn.datasets import make_classification\n",
    "from sklearn.tree import DecisionTreeClassifier\n",
    "from sklearn.feature_selection import RFE\n",
    "from sklearn.pipeline import Pipeline"
   ]
  },
  {
   "cell_type": "code",
   "execution_count": 107,
   "metadata": {},
   "outputs": [],
   "source": [
    "# get the dataset\n",
    "def get_dataset():\n",
    "    X, y = make_classification(n_samples=1000, n_features=10,\n",
    "                               n_informative=5, n_redundant=5, random_state=1)\n",
    "    return X, y\n",
    "\n",
    "# get a list of models to evaluate\n",
    "def get_models():\n",
    "    models = dict()\n",
    "    \n",
    "    # lr\n",
    "    rfe = RFE(estimator=LogisticRegression(), n_features_to_select=5)\n",
    "    model = DecisionTreeClassifier()\n",
    "    models['lr'] = Pipeline(steps=[('s',rfe),('m',model)])\n",
    "    \n",
    "    # perceptron\n",
    "    rfe = RFE(estimator=Perceptron(), n_features_to_select=5)\n",
    "    model = DecisionTreeClassifier()\n",
    "    models['per'] = Pipeline(steps=[('s',rfe),('m',model)])\n",
    "    \n",
    "    # cart\n",
    "    rfe = RFE(estimator=DecisionTreeClassifier(), n_features_to_select=5)\n",
    "    model = DecisionTreeClassifier()\n",
    "    models['cart'] = Pipeline(steps=[('s',rfe),('m',model)])\n",
    "    \n",
    "    # rf\n",
    "    rfe = RFE(estimator=RandomForestClassifier(), n_features_to_select=5)\n",
    "    model = DecisionTreeClassifier()\n",
    "    models['rf'] = Pipeline(steps=[('s',rfe),('m',model)])\n",
    "    \n",
    "    # gbm\n",
    "    rfe = RFE(estimator=GradientBoostingClassifier(), n_features_to_select=5)\n",
    "    model = DecisionTreeClassifier()\n",
    "    models['gbm'] = Pipeline(steps=[('s',rfe),('m',model)])\n",
    "    return models\n",
    "\n",
    "# evaluate a given model using cross-validation\n",
    "def evaluate_model(model, X, y):\n",
    "    cv = RepeatedStratifiedKFold(n_splits=10, n_repeats=3, random_state=1)\n",
    "    scores = cross_val_score(model, X, y, scoring='accuracy', cv=cv, n_jobs=-1)\n",
    "    return scores"
   ]
  },
  {
   "cell_type": "code",
   "execution_count": 108,
   "metadata": {},
   "outputs": [],
   "source": [
    "# define dataset\n",
    "X, y = get_dataset()"
   ]
  },
  {
   "cell_type": "code",
   "execution_count": 109,
   "metadata": {},
   "outputs": [],
   "source": [
    "# get the models to evaluate\n",
    "models = get_models()"
   ]
  },
  {
   "cell_type": "code",
   "execution_count": 110,
   "metadata": {},
   "outputs": [
    {
     "data": {
      "text/plain": [
       "{'lr': Pipeline(steps=[('s',\n",
       "                  RFE(estimator=LogisticRegression(), n_features_to_select=5)),\n",
       "                 ('m', DecisionTreeClassifier())]),\n",
       " 'per': Pipeline(steps=[('s', RFE(estimator=Perceptron(), n_features_to_select=5)),\n",
       "                 ('m', DecisionTreeClassifier())]),\n",
       " 'cart': Pipeline(steps=[('s',\n",
       "                  RFE(estimator=DecisionTreeClassifier(),\n",
       "                      n_features_to_select=5)),\n",
       "                 ('m', DecisionTreeClassifier())]),\n",
       " 'rf': Pipeline(steps=[('s',\n",
       "                  RFE(estimator=RandomForestClassifier(),\n",
       "                      n_features_to_select=5)),\n",
       "                 ('m', DecisionTreeClassifier())]),\n",
       " 'gbm': Pipeline(steps=[('s',\n",
       "                  RFE(estimator=GradientBoostingClassifier(),\n",
       "                      n_features_to_select=5)),\n",
       "                 ('m', DecisionTreeClassifier())])}"
      ]
     },
     "execution_count": 110,
     "metadata": {},
     "output_type": "execute_result"
    }
   ],
   "source": [
    "models"
   ]
  },
  {
   "cell_type": "code",
   "execution_count": 111,
   "metadata": {},
   "outputs": [
    {
     "name": "stdout",
     "output_type": "stream",
     "text": [
      ">lr 0.896 (0.029)\n",
      ">per 0.848 (0.040)\n",
      ">cart 0.882 (0.036)\n",
      ">rf 0.855 (0.040)\n",
      ">gbm 0.889 (0.030)\n"
     ]
    },
    {
     "data": {
      "image/png": "[encoded data removed]",
      "text/plain": [
       "<Figure size 432x288 with 1 Axes>"
      ]
     },
     "metadata": {
      "needs_background": "light"
     },
     "output_type": "display_data"
    }
   ],
   "source": [
    "# evaluate the models and store results\n",
    "results, names = list(), list()\n",
    "for name, model in models.items():\n",
    "    scores = evaluate_model(model, X, y)\n",
    "    results.append(scores)\n",
    "    names.append(name)\n",
    "    print('>%s %.3f (%.3f)' % (name, np.mean(scores), np.std(scores)))\n",
    "\n",
    "    # plot model performance for comparison\n",
    "plt.boxplot(results, labels=names, showmeans=True)\n",
    "plt.show()"
   ]
  },
  {
   "cell_type": "markdown",
   "metadata": {},
   "source": [
    "A box and whisker plot is created for the distribution of accuracy scores for each configured wrapped algorithm. We can see the general trend of good performance with logistic regression, CART and GBM. This highlights that even though the actual model used to fit the chosen features is the same in each case, the model used within RFE can make an important difference to which features are selected and in turn the performance on the prediction problem."
   ]
  },
  {
   "cell_type": "code",
   "execution_count": 112,
   "metadata": {},
   "outputs": [],
   "source": [
    "# get the dataset\n",
    "def get_dataset():\n",
    "    X, y = make_classification(n_samples=1000, n_features=10,\n",
    "                               n_informative=5, n_redundant=5, random_state=1)\n",
    "    return X, y\n",
    "\n",
    "# get a list of models to evaluate\n",
    "def get_cv_models():\n",
    "    models = dict()\n",
    "    \n",
    "    model_dict = {'lr':LogisticRegression(), 'per':Perceptron(),\n",
    "                 'cart':DecisionTreeClassifier(), 'rf':RandomForestClassifier(),\n",
    "                 'gbm':GradientBoostingClassifier()}\n",
    "    \n",
    "    for name,mod in model_dict.items():\n",
    "        rfecv = RFECV(estimator=mod, min_features_to_select=3,\n",
    "                      step=1, scoring=\"accuracy\", cv=5 )\n",
    "        model = DecisionTreeClassifier()\n",
    "        models[name] = Pipeline(steps=[('rfecv',rfecv),('m', model)])\n",
    "        \n",
    "    return models\n",
    "\n",
    "# evaluate a given model using cross-validation\n",
    "def evaluate_model(model, X, y):\n",
    "    cv = RepeatedStratifiedKFold(n_splits=10, n_repeats=3, random_state=1)\n",
    "    scores = cross_val_score(model, X, y, scoring='accuracy', cv=cv, n_jobs=-1)\n",
    "    return scores\n",
    "\n",
    "# define dataset\n",
    "X_, y_ = get_dataset()\n",
    "\n",
    "# get the models to evaluate\n",
    "models = get_cv_models()"
   ]
  },
  {
   "cell_type": "code",
   "execution_count": 113,
   "metadata": {},
   "outputs": [
    {
     "data": {
      "text/plain": [
       "{'lr': Pipeline(steps=[('rfecv',\n",
       "                  RFECV(cv=5, estimator=LogisticRegression(),\n",
       "                        min_features_to_select=3, scoring='accuracy')),\n",
       "                 ('m', DecisionTreeClassifier())]),\n",
       " 'per': Pipeline(steps=[('rfecv',\n",
       "                  RFECV(cv=5, estimator=Perceptron(), min_features_to_select=3,\n",
       "                        scoring='accuracy')),\n",
       "                 ('m', DecisionTreeClassifier())]),\n",
       " 'cart': Pipeline(steps=[('rfecv',\n",
       "                  RFECV(cv=5, estimator=DecisionTreeClassifier(),\n",
       "                        min_features_to_select=3, scoring='accuracy')),\n",
       "                 ('m', DecisionTreeClassifier())]),\n",
       " 'rf': Pipeline(steps=[('rfecv',\n",
       "                  RFECV(cv=5, estimator=RandomForestClassifier(),\n",
       "                        min_features_to_select=3, scoring='accuracy')),\n",
       "                 ('m', DecisionTreeClassifier())]),\n",
       " 'gbm': Pipeline(steps=[('rfecv',\n",
       "                  RFECV(cv=5, estimator=GradientBoostingClassifier(),\n",
       "                        min_features_to_select=3, scoring='accuracy')),\n",
       "                 ('m', DecisionTreeClassifier())])}"
      ]
     },
     "execution_count": 113,
     "metadata": {},
     "output_type": "execute_result"
    }
   ],
   "source": [
    "models"
   ]
  },
  {
   "cell_type": "code",
   "execution_count": 114,
   "metadata": {},
   "outputs": [
    {
     "name": "stdout",
     "output_type": "stream",
     "text": [
      ">lr 0.891 (0.028)\n",
      ">per 0.864 (0.041)\n",
      ">cart 0.881 (0.026)\n",
      ">rf 0.888 (0.023)\n",
      ">gbm 0.889 (0.031)\n"
     ]
    },
    {
     "data": {
      "image/png": "[encoded data removed]",
      "text/plain": [
       "<Figure size 432x288 with 1 Axes>"
      ]
     },
     "metadata": {
      "needs_background": "light"
     },
     "output_type": "display_data"
    }
   ],
   "source": [
    "# evaluate the models and store results\n",
    "results, names = list(), list()\n",
    "for name, model in models.items():\n",
    "    scores = evaluate_model(model, X_, y_)\n",
    "    results.append(scores)\n",
    "    names.append(name)\n",
    "    print('>%s %.3f (%.3f)' % (name, np.mean(scores), np.std(scores)))\n",
    "\n",
    "    # plot model performance for comparison\n",
    "plt.boxplot(results, labels=names, showmeans=True)\n",
    "plt.show()"
   ]
  },
  {
   "cell_type": "markdown",
   "metadata": {},
   "source": [
    "<a id=\"yellow\"></a>\n",
    "<h5><ins>RFECV with `Yellowbrick`</ins></h5>\n",
    "\n",
    "Recursive feature elimination (RFE) is a feature selection method that fits a model and removes the weakest feature (or features) until the specified number of features is reached. Features are ranked by the model’s `coef_` or `feature_importances_` attributes. By recursively eliminating a small number of features per loop, RFE attempts to eliminate dependencies and collinearity that may exist in the model.\n",
    "\n",
    "RFE requires a specified number of features to keep, however it is often not known in advance how many features are valid. To find the optimal number of features cross-validation is used with RFE to score different feature subsets and select the best scoring collection of features. `Yellowbricks` RFECV visualizer plots the number of features in the model along with their cross-validated test score and variability and visualizes the selected number of features."
   ]
  },
  {
   "cell_type": "markdown",
   "metadata": {},
   "source": [
    "- Selects the best subset of features for the supplied estimator by removing 0 to N features (where N is the number of features) using recursive feature elimination, then selecting the best subset based on the cross-validation score of the model. Recursive feature elimination eliminates n features from a model by fitting the model multiple times and at each step, removing the weakest features, determined by either the `coef_` or `feature_importances_` attribute of the fitted model.\n",
    "\n",
    "\n",
    "- The visualization plots the score relative to each subset and shows trends in feature elimination. If the feature elimination CV score is flat, then potentially there are not enough features in the model. An ideal curve is when the score jumps from low to high as the number of features removed increases, then slowly decreases again from the optimal number of features."
   ]
  },
  {
   "cell_type": "code",
   "execution_count": 115,
   "metadata": {},
   "outputs": [],
   "source": [
    "from sklearn.svm import SVC\n",
    "from yellowbrick.model_selection import RFECV"
   ]
  },
  {
   "cell_type": "code",
   "execution_count": 116,
   "metadata": {},
   "outputs": [
    {
     "data": {
      "image/png": "[encoded data removed]",
      "text/plain": [
       "<Figure size 576x396 with 1 Axes>"
      ]
     },
     "metadata": {},
     "output_type": "display_data"
    },
    {
     "data": {
      "text/plain": [
       "<AxesSubplot:title={'center':'RFECV for SVC'}, xlabel='Number of Features Selected', ylabel='Score'>"
      ]
     },
     "execution_count": 116,
     "metadata": {},
     "output_type": "execute_result"
    }
   ],
   "source": [
    "X, y = make_classification(n_samples=1000, n_features=10,\n",
    "                           n_informative=5, n_redundant=5, random_state=1)\n",
    "\n",
    "# Instantiate RFECV visualizer with a linear SVM classifier\n",
    "visualizer = RFECV(SVC(kernel='linear', C=1))\n",
    "\n",
    "visualizer.fit(X, y)        # Fit the data to the visualizer\n",
    "visualizer.show()           # Finalize and render the figure"
   ]
  },
  {
   "cell_type": "code",
   "execution_count": 117,
   "metadata": {},
   "outputs": [],
   "source": [
    "from sklearn.model_selection import StratifiedKFold"
   ]
  },
  {
   "cell_type": "code",
   "execution_count": 118,
   "metadata": {},
   "outputs": [
    {
     "data": {
      "image/png": "[encoded data removed]",
      "text/plain": [
       "<Figure size 576x396 with 1 Axes>"
      ]
     },
     "metadata": {},
     "output_type": "display_data"
    },
    {
     "data": {
      "text/plain": [
       "<AxesSubplot:title={'center':'RFECV for RandomForestClassifier'}, xlabel='Number of Features Selected', ylabel='Score'>"
      ]
     },
     "execution_count": 118,
     "metadata": {},
     "output_type": "execute_result"
    }
   ],
   "source": [
    "cv = StratifiedKFold(5)\n",
    "visualizer = RFECV(RandomForestClassifier(), cv=cv, scoring='f1_weighted')\n",
    "\n",
    "visualizer.fit(X, y)        # Fit the data to the visualizer\n",
    "visualizer.show()           # Finalize and render the figure"
   ]
  },
  {
   "cell_type": "markdown",
   "metadata": {},
   "source": [
    "<a id=\"importance\"></a>\n",
    "<h3 align=\"center\">HOW TO USE FEATURE IMPORTANCE</h3>\n",
    "\n",
    "Feature importance refers to techniques that assign a score to input features based on how useful they are at predicting a target variable. There are many types and sources of feature importance scores, although popular examples include statistical correlation scores, coefficients calculated as part of linear models, decision trees, and permutation importance scores. Feature importance scores play an important role in a predictive modeling project, including providing insight into the data, insight into the model, and the basis for dimensionality reduction and feature selection that can improve the efficiency and effectiveness of a predictive model on the problem."
   ]
  },
  {
   "cell_type": "markdown",
   "metadata": {},
   "source": [
    "<a id=\"fi\"></a>\n",
    "<h5><ins>What is Feature Importance?</ins></h5>\n",
    "\n",
    "Feature importance refers to a class of techniques for assigning scores to input features to a predictive model that indicates the relative importance of each feature when making a prediction. Feature importance scores can be calculated for problems that involve predicting a numerical value, called regression, and those problems that involve predicting a class label, called classification. The scores are useful and can be used in a range of situations in a predictive modeling problem, such as:\n",
    "- **Better understanding the data** - Feature importance scores can provide insight into the dataset. The relative scores can highlight which features may be most relevant to the target, and the converse, which features are the least relevant. This may be interpreted by a domain expert and could be used as the basis for gathering more or different data.\n",
    "- **Better understanding a model** - Feature importance scores can provide insight into the model. Most feature importance scores are calculated by a predictive model that has been fit on the dataset. Inspecting the importance score provides insight into that specific model and which features are the most important and least important to the model when making a prediction. This is a type of model interpretation that can be performed for those models that support it.\n",
    "- **Reducing the number of input features** - Feature importance can be used to improve a predictive model. This can be achieved by using the importance scores to select those features to delete (lowest scores) or those features to keep (highest scores). This is a type of feature selection and can simplify the problem that is being modeled, speed up the modeling process (deleting features is called dimensionality reduction), and in some cases, improve the performance of the model.\n",
    "\n",
    "Feature importance scores can be fed to a wrapper model, such as the `SelectFromModel` class, to perform feature selection. Each feature importance technique has the potential to rank the importance of input features differently, creating a different view on the data. As such, there is no best feature importance technique. If the goal is to find the subset of input features that result in the best model performance, then a suite of different feature selection techniques should be tried including different feature importance methods. There are many ways to calculate feature importance scores and many models that can be used for this purpose. Nevertheless, the scores between feature importance methods cannot be compared directly. Instead, the scores for each input variable are relative to each other for a given method."
   ]
  },
  {
   "cell_type": "markdown",
   "metadata": {},
   "source": [
    "<a id=\"coeff\"></a>\n",
    "<h5><ins>Coefficients as Feature Importance</ins></h5>\n",
    "\n",
    "Linear machine learning algorithms fit a model where the prediction is the weighted sum of the input values. Examples include **linear regression**, **logistic regression**, and extensions that add regularization, such as **ridge regression**, **LASSO**, and the **elastic net**. All of these algorithms find a set of coefficients to use in the weighted sum in order to make a prediction. These coefficients can be used directly as a crude type of feature importance score.***This assumes that the input variables have the same\n",
    "scale or have been scaled prior to fitting a model.***"
   ]
  },
  {
   "cell_type": "markdown",
   "metadata": {},
   "source": [
    "<a id=\"ridge\"></a>\n",
    "<h5><ins>A Note on Ridge, Lasso & Decision Trees</ins></h5>\n",
    "\n",
    "Occasionally you may want to keep all the features in your final model, but you don’t want the model to focus too much on any one coefficient. **Ridge Regression** can do this by penalizing the beta coefficients of a model for being too large. *Basically, it scales back the strength of correlation with variables that may not be as important as others*. This takes care of any multicollinearity (relationships among features that will inflate their betas) that may be present in your data. **Ridge Regression is done by adding a penalty term (also called ridge estimator or shrinkage estimator) to the cost function of the regression. The penalty term takes all of the betas and scales them by a term lambda (λ)** that must be tuned (usually with cross validation: compares the same model but with different values of lambda). Lambda is a value between 0 and infinity, although it is good to start with values between 0 and 1. \n",
    "- The higher the value of lambda, the more the coefficients are shrunk (i.e. more restriction on the coefficients).\n",
    "- When lambda is equal to 0, the result will be a regular ordinary least squares model with no penalty."
   ]
  },
  {
   "cell_type": "markdown",
   "metadata": {},
   "source": [
    "<a id=\"lasso\"></a>\n",
    "**Lasso Regression** is another way to penalize the beta coefficients in a model, and is very similar to Ridge regression. It also adds a penalty term to the cost function of a model, with a lambda value that must be tuned. **The most important distinction from Ridge regression is that Lasso Regression can force the Beta coefficient to zero, which will remove that feature from the model.** This is why Lasso is preferred at times, especially when you are looking to reduce model complexity. The smaller number of features a model has, the lower the complexity. *In order to force the coefficients to zero, the penalty term added to the cost function takes the absolute value of the beta terms instead of squaring it, which when trying to minimize the cost, can negate the rest of the function, leading to a beta equal to zero.*"
   ]
  },
  {
   "cell_type": "markdown",
   "metadata": {},
   "source": [
    "<a id=\"decision\"></a>\n",
    "Another common way to model data with feature selection is called **Decision Tree**, which can either be a regression tree or classification tree depending on whether the response variable is continuous or discrete, respectively. This method creates splits in the tree based on certain features to create an algorithm to find the correct response variable. The way the tree is built uses a wrapper method inside an embedded method. What we mean by that is, when making the tree model, the function has several feature selection methods built into it. At each split, the function used to create the tree tries all possible splits for all the features and chooses the one that splits the data into the most homogenous groups. In plain terms, it chooses the feature that can best predict what the response variable will be at each point in the tree. This is a wrapper method since it tries all possible combinations of features and then picks the best one.\n",
    "- The most important features in predicting the response variable are used to make splits near the root (start) of the tree, and the more irrelevant features aren’t used to make splits until near the nodes of the tree (ends). In this way, decision tree penalizes features that are not helpful in predicting the response variable (embedded method). After a tree has been made, there is an option to go back and ‘prune’ some of the nodes that do not provide any additional information to the model. This prevents overfitting, and is usually done through cross validation with a holdout test set."
   ]
  },
  {
   "cell_type": "markdown",
   "metadata": {},
   "source": [
    "<a id=\"lr\"></a>\n",
    "<ins>Linear Regression Feature Importance</ins>"
   ]
  },
  {
   "cell_type": "code",
   "execution_count": 119,
   "metadata": {},
   "outputs": [],
   "source": [
    "from sklearn.linear_model import LinearRegression\n",
    "from sklearn.datasets import make_regression"
   ]
  },
  {
   "cell_type": "code",
   "execution_count": 120,
   "metadata": {},
   "outputs": [
    {
     "name": "stdout",
     "output_type": "stream",
     "text": [
      "Feature: 0, Score: -0.00000\n",
      "Feature: 1, Score: 12.44483\n",
      "Feature: 2, Score: 0.00000\n",
      "Feature: 3, Score: -0.00000\n",
      "Feature: 4, Score: 93.32225\n",
      "Feature: 5, Score: 86.50811\n",
      "Feature: 6, Score: 26.74607\n",
      "Feature: 7, Score: 3.28535\n",
      "Feature: 8, Score: 0.00000\n",
      "Feature: 9, Score: -0.00000\n"
     ]
    },
    {
     "data": {
      "image/png": "[encoded data removed]",
      "text/plain": [
       "<Figure size 576x396 with 1 Axes>"
      ]
     },
     "metadata": {},
     "output_type": "display_data"
    }
   ],
   "source": [
    "# linear regression feature importance\n",
    "# define dataset\n",
    "X, y = make_regression(n_samples=1000, n_features=10,\n",
    "                       n_informative=5, random_state=1)\n",
    "# define the model\n",
    "model = LinearRegression()\n",
    "# fit the model\n",
    "model.fit(X, y)\n",
    "# get importance\n",
    "importance = model.coef_\n",
    "\n",
    "# summarize feature importance\n",
    "for i,v in enumerate(importance):\n",
    "    print('Feature: %0d, Score: %.5f' % (i,v))\n",
    "\n",
    "# plot feature importance\n",
    "plt.bar([x for x in range(len(importance))], importance)\n",
    "plt.show()"
   ]
  },
  {
   "cell_type": "markdown",
   "metadata": {},
   "source": [
    "The scores suggest that the model found the five important features and marked all other features with a zero coefficient, essentially removing them from the model. **This approach may also be used with Ridge, Lasso, and ElasticNet models from scikitlearn.**"
   ]
  },
  {
   "cell_type": "markdown",
   "metadata": {},
   "source": [
    "<a id=\"log\"></a>\n",
    "<ins>Logistic Regression Feature Importance</ins>"
   ]
  },
  {
   "cell_type": "code",
   "execution_count": 121,
   "metadata": {},
   "outputs": [],
   "source": [
    "from sklearn.linear_model import LogisticRegression\n",
    "from sklearn.datasets import make_classification"
   ]
  },
  {
   "cell_type": "code",
   "execution_count": 122,
   "metadata": {},
   "outputs": [
    {
     "name": "stdout",
     "output_type": "stream",
     "text": [
      "Feature: 0, Score: 0.16320\n",
      "Feature: 1, Score: -0.64301\n",
      "Feature: 2, Score: 0.48497\n",
      "Feature: 3, Score: -0.46190\n",
      "Feature: 4, Score: 0.18432\n",
      "Feature: 5, Score: -0.11978\n",
      "Feature: 6, Score: -0.40602\n",
      "Feature: 7, Score: 0.03772\n",
      "Feature: 8, Score: -0.51785\n",
      "Feature: 9, Score: 0.26540\n"
     ]
    },
    {
     "data": {
      "image/png": "[encoded data removed]",
      "text/plain": [
       "<Figure size 576x396 with 1 Axes>"
      ]
     },
     "metadata": {},
     "output_type": "display_data"
    }
   ],
   "source": [
    "# logistic regression for feature importance\n",
    "\n",
    "# define dataset\n",
    "X, y = make_classification(n_samples=1000, n_features=10, n_informative=5, n_redundant=5,\n",
    "random_state=1)\n",
    "\n",
    "# define the model\n",
    "model = LogisticRegression()\n",
    "\n",
    "# fit the model\n",
    "model.fit(X, y)\n",
    "\n",
    "# get importance\n",
    "importance = model.coef_[0]\n",
    "\n",
    "# summarize feature importance\n",
    "for i,v in enumerate(importance):\n",
    "    print('Feature: %0d, Score: %.5f' % (i,v))\n",
    "\n",
    "# plot feature importance\n",
    "plt.bar([x for x in range(len(importance))], importance)\n",
    "plt.show()"
   ]
  },
  {
   "cell_type": "markdown",
   "metadata": {},
   "source": [
    "This is a classification problem with classes 0 and 1. Notice that the coefficients are both positive and negative. \n",
    "- The positive scores indicate a feature that predicts class 1, whereas\n",
    "- the negative scores indicate a feature that predicts class 0\n",
    "\n",
    "No clear pattern of important and unimportant features can be identified from these results. Nevertheless, this technique may provide insight on a binary classification dataset."
   ]
  },
  {
   "cell_type": "markdown",
   "metadata": {},
   "source": [
    "<a id=\"dtree\"></a>\n",
    "<h5><ins>Decision Tree Feature Importance</ins></h5>\n",
    "\n",
    "Decision tree algorithms like classification and regression trees (CART) offer importance scores based on the reduction in the criterion used to select split points, like Gini or entropy. This same approach can be used for ensembles of decision trees, such as the random forest and stochastic gradient boosting algorithms.\n",
    "\n",
    "<a id=\"cart_reg\"></a>\n",
    "<ins>CART Regression Feature Importance</ins><br>\n",
    "We can use the CART algorithm for feature importance implemented in scikit learn as the `DecisionTreeRegressor` and `DecisionTreeClassifier` classes. After being fit, the model provides a `feature_importances` property that can be accessed to retrieve the relative importance scores for each input feature."
   ]
  },
  {
   "cell_type": "code",
   "execution_count": 123,
   "metadata": {},
   "outputs": [],
   "source": [
    "# decision tree for feature importance on a regression problem\n",
    "from sklearn.datasets import make_regression\n",
    "from sklearn.tree import DecisionTreeRegressor"
   ]
  },
  {
   "cell_type": "code",
   "execution_count": 124,
   "metadata": {},
   "outputs": [
    {
     "name": "stdout",
     "output_type": "stream",
     "text": [
      "Feature: 0, Score: 0.00240\n",
      "Feature: 1, Score: 0.00451\n",
      "Feature: 2, Score: 0.00243\n",
      "Feature: 3, Score: 0.00188\n",
      "Feature: 4, Score: 0.51648\n",
      "Feature: 5, Score: 0.43874\n",
      "Feature: 6, Score: 0.02665\n",
      "Feature: 7, Score: 0.00329\n",
      "Feature: 8, Score: 0.00246\n",
      "Feature: 9, Score: 0.00117\n"
     ]
    },
    {
     "data": {
      "image/png": "[encoded data removed]",
      "text/plain": [
       "<Figure size 576x396 with 1 Axes>"
      ]
     },
     "metadata": {},
     "output_type": "display_data"
    }
   ],
   "source": [
    "# define dataset\n",
    "X, y = make_regression(n_samples=1000, n_features=10,\n",
    "                       n_informative=5, random_state=1)\n",
    "\n",
    "# define the model\n",
    "model = DecisionTreeRegressor()\n",
    "\n",
    "# fit the model\n",
    "model.fit(X, y)\n",
    "\n",
    "# get importance\n",
    "importance = model.feature_importances_\n",
    "\n",
    "# summarize feature importance\n",
    "for i,v in enumerate(importance):\n",
    "    print('Feature: %0d, Score: %.5f' % (i,v))\n",
    "\n",
    "# plot feature importance\n",
    "plt.bar([x for x in range(len(importance))], importance)\n",
    "plt.show()"
   ]
  },
  {
   "cell_type": "markdown",
   "metadata": {},
   "source": [
    "The results suggest perhaps three of the 10 features as being important to prediction.\n",
    "\n",
    "<a id=\"cart_cla\"></a>\n",
    "<ins>CART Classification Feature Importance</ins><br>"
   ]
  },
  {
   "cell_type": "code",
   "execution_count": 125,
   "metadata": {},
   "outputs": [],
   "source": [
    "# decision tree for feature importance on a classification problem\n",
    "from sklearn.datasets import make_classification\n",
    "from sklearn.tree import DecisionTreeClassifier"
   ]
  },
  {
   "cell_type": "code",
   "execution_count": 126,
   "metadata": {},
   "outputs": [
    {
     "name": "stdout",
     "output_type": "stream",
     "text": [
      "Feature: 0, Score: 0.02158\n",
      "Feature: 1, Score: 0.01713\n",
      "Feature: 2, Score: 0.18378\n",
      "Feature: 3, Score: 0.30166\n",
      "Feature: 4, Score: 0.08124\n",
      "Feature: 5, Score: 0.00285\n",
      "Feature: 6, Score: 0.16194\n",
      "Feature: 7, Score: 0.04520\n",
      "Feature: 8, Score: 0.13412\n",
      "Feature: 9, Score: 0.05052\n"
     ]
    },
    {
     "data": {
      "image/png": "[encoded data removed]",
      "text/plain": [
       "<Figure size 576x396 with 1 Axes>"
      ]
     },
     "metadata": {},
     "output_type": "display_data"
    }
   ],
   "source": [
    "# define dataset\n",
    "X, y = make_classification(n_samples=1000, n_features=10, n_informative=5, n_redundant=5,\n",
    "random_state=1)\n",
    "\n",
    "# define the model\n",
    "model = DecisionTreeClassifier()\n",
    "\n",
    "# fit the model\n",
    "model.fit(X, y)\n",
    "\n",
    "# get importance\n",
    "importance = model.feature_importances_\n",
    "\n",
    "# summarize feature importance\n",
    "for i,v in enumerate(importance):\n",
    "    print('Feature: %0d, Score: %.5f' % (i,v))\n",
    "\n",
    "# plot feature importance\n",
    "plt.bar([x for x in range(len(importance))], importance)\n",
    "plt.show()"
   ]
  },
  {
   "cell_type": "markdown",
   "metadata": {},
   "source": [
    "The results suggest perhaps 4-5 of the 10 features as being important to prediction."
   ]
  },
  {
   "cell_type": "markdown",
   "metadata": {},
   "source": [
    "<a id=\"forest\"></a>\n",
    "<h5><ins>Random Forest Feature Importance</ins></h5>\n",
    "\n",
    "We can use the Random Forest algorithm for feature importance implemented in scikit-learn as the `RandomForestRegressor` and `RandomForestClassifier` classes. After being fit, the model provides a `feature_importances` property that can be accessed to retrieve the relative importance scores for each input feature. This approach can also be used with the bagging and extra trees algorithms.\n",
    "\n",
    "<a id=\"forest_reg\"></a>\n",
    "<ins>Random Forest Regression Feature Importance</ins><br>"
   ]
  },
  {
   "cell_type": "code",
   "execution_count": 127,
   "metadata": {},
   "outputs": [],
   "source": [
    "# random forest for feature importance on a regression problem\n",
    "from sklearn.datasets import make_regression\n",
    "from sklearn.ensemble import RandomForestRegressor"
   ]
  },
  {
   "cell_type": "code",
   "execution_count": 128,
   "metadata": {},
   "outputs": [
    {
     "name": "stdout",
     "output_type": "stream",
     "text": [
      "Feature: 0, Score: 0.00294\n",
      "Feature: 1, Score: 0.00499\n",
      "Feature: 2, Score: 0.00279\n",
      "Feature: 3, Score: 0.00293\n",
      "Feature: 4, Score: 0.52906\n",
      "Feature: 5, Score: 0.42262\n",
      "Feature: 6, Score: 0.02594\n",
      "Feature: 7, Score: 0.00291\n",
      "Feature: 8, Score: 0.00312\n",
      "Feature: 9, Score: 0.00270\n"
     ]
    },
    {
     "data": {
      "image/png": "[encoded data removed]",
      "text/plain": [
       "<Figure size 576x396 with 1 Axes>"
      ]
     },
     "metadata": {},
     "output_type": "display_data"
    }
   ],
   "source": [
    "# define dataset\n",
    "X, y = make_regression(n_samples=1000, n_features=10,\n",
    "                       n_informative=5, random_state=1)\n",
    "\n",
    "# define the model\n",
    "model = RandomForestRegressor()\n",
    "\n",
    "# fit the model\n",
    "model.fit(X, y)\n",
    "\n",
    "# get importance\n",
    "importance = model.feature_importances_\n",
    "\n",
    "# summarize feature importance\n",
    "for i,v in enumerate(importance):\n",
    "    print('Feature: %0d, Score: %.5f' % (i,v))\n",
    "\n",
    "# plot feature importance\n",
    "plt.bar([x for x in range(len(importance))], importance)\n",
    "plt.show()"
   ]
  },
  {
   "cell_type": "markdown",
   "metadata": {},
   "source": [
    "The results suggest perhaps two or three of the 10 features as being important to prediction.\n",
    "\n",
    "<a id=\"forest_cla\"></a>\n",
    "<ins>Random Forest Classification Feature Importance</ins><br>"
   ]
  },
  {
   "cell_type": "code",
   "execution_count": 129,
   "metadata": {},
   "outputs": [],
   "source": [
    "# random forest for feature importance on a classification problem\n",
    "from sklearn.datasets import make_classification\n",
    "from sklearn.ensemble import RandomForestClassifier"
   ]
  },
  {
   "cell_type": "code",
   "execution_count": 130,
   "metadata": {},
   "outputs": [
    {
     "name": "stdout",
     "output_type": "stream",
     "text": [
      "Feature: 0, Score: 0.06548\n",
      "Feature: 1, Score: 0.11988\n",
      "Feature: 2, Score: 0.16571\n",
      "Feature: 3, Score: 0.18316\n",
      "Feature: 4, Score: 0.07866\n",
      "Feature: 5, Score: 0.11115\n",
      "Feature: 6, Score: 0.09531\n",
      "Feature: 7, Score: 0.05099\n",
      "Feature: 8, Score: 0.08783\n",
      "Feature: 9, Score: 0.04183\n"
     ]
    },
    {
     "data": {
      "image/png": "[encoded data removed]",
      "text/plain": [
       "<Figure size 576x396 with 1 Axes>"
      ]
     },
     "metadata": {},
     "output_type": "display_data"
    }
   ],
   "source": [
    "# define dataset\n",
    "X, y = make_classification(n_samples=1000, n_features=10, \n",
    "                           n_informative=5, n_redundant=5, random_state=1)\n",
    "\n",
    "# define the model\n",
    "model = RandomForestClassifier()\n",
    "\n",
    "# fit the model\n",
    "model.fit(X, y)\n",
    "\n",
    "# get importance\n",
    "importance = model.feature_importances_\n",
    "\n",
    "# summarize feature importance\n",
    "for i,v in enumerate(importance):\n",
    "    print('Feature: %0d, Score: %.5f' % (i,v))\n",
    "\n",
    "# plot feature importance\n",
    "plt.bar([x for x in range(len(importance))], importance)\n",
    "plt.show()"
   ]
  },
  {
   "cell_type": "markdown",
   "metadata": {},
   "source": [
    "The results suggest perhaps two of the 10 features as being less important to prediction."
   ]
  },
  {
   "cell_type": "markdown",
   "metadata": {},
   "source": [
    "<a id=\"perm\"></a>\n",
    "<h5><ins>Permutation Feature Importance</ins></h5>\n",
    "\n",
    "Permutation feature importance is a technique for calculating relative importance scores that is independent of the model used. First, a model is fit on the dataset, such as a model that does not support native feature importance scores. Then the model is used to make predictions on a dataset, although the values of a feature (column) in the dataset are scrambled. This is repeated for each feature in the dataset. Then this whole process is repeated 3, 5, 10 or more times. The result is a mean importance score for each input feature (and distribution of scores given the repeats).\n",
    "\n",
    "This approach can be used for regression or classification and requires that a performance metric be chosen as the basis of the importance score, such as the mean squared error for regression and accuracy for classification. Permutation feature selection can be used via the `permutation_importance()` function that takes a fit model, a dataset (train or test dataset is fine), and a scoring function. Let’s take a look at this approach to feature selection with an algorithm that does not support feature selection natively, specifically k nearest neighbors."
   ]
  },
  {
   "cell_type": "markdown",
   "metadata": {},
   "source": [
    "<a id=\"perm_reg\"></a>\n",
    "<ins>Permutation Feature Importance for Regression</ins>"
   ]
  },
  {
   "cell_type": "code",
   "execution_count": 131,
   "metadata": {},
   "outputs": [],
   "source": [
    "# permutation feature importance with knn for regression\n",
    "from sklearn.datasets import make_regression\n",
    "from sklearn.neighbors import KNeighborsRegressor\n",
    "from sklearn.inspection import permutation_importance"
   ]
  },
  {
   "cell_type": "code",
   "execution_count": 132,
   "metadata": {},
   "outputs": [
    {
     "name": "stdout",
     "output_type": "stream",
     "text": [
      "Feature: 0, Score: 192.89987\n",
      "Feature: 1, Score: 359.17133\n",
      "Feature: 2, Score: 113.37917\n",
      "Feature: 3, Score: 41.17512\n",
      "Feature: 4, Score: 9476.89123\n",
      "Feature: 5, Score: 7625.49016\n",
      "Feature: 6, Score: 917.27450\n",
      "Feature: 7, Score: 131.44963\n",
      "Feature: 8, Score: 130.21362\n",
      "Feature: 9, Score: 87.38490\n"
     ]
    },
    {
     "data": {
      "image/png": "[encoded data removed]",
      "text/plain": [
       "<Figure size 576x396 with 1 Axes>"
      ]
     },
     "metadata": {},
     "output_type": "display_data"
    }
   ],
   "source": [
    "# define dataset\n",
    "X, y = make_regression(n_samples=1000, n_features=10, n_informative=5, random_state=1)\n",
    "\n",
    "# define the model\n",
    "model = KNeighborsRegressor()\n",
    "\n",
    "# fit the model\n",
    "model.fit(X, y)\n",
    "\n",
    "# perform permutation importance\n",
    "results = permutation_importance(model, X, y, scoring='neg_mean_squared_error')\n",
    "\n",
    "# get importance\n",
    "importance = results.importances_mean\n",
    "\n",
    "# summarize feature importance\n",
    "for i,v in enumerate(importance):\n",
    "    print('Feature: %0d, Score: %.5f' % (i,v))\n",
    "\n",
    "# plot feature importance\n",
    "plt.bar([x for x in range(len(importance))], importance)\n",
    "plt.show()"
   ]
  },
  {
   "cell_type": "markdown",
   "metadata": {},
   "source": [
    "The results suggest perhaps two or three of the 10 features as being important to prediction."
   ]
  },
  {
   "cell_type": "markdown",
   "metadata": {},
   "source": [
    "<a id=\"perm_cla\"></a>\n",
    "<ins>Permutation Feature Importance for Classification</ins>"
   ]
  },
  {
   "cell_type": "code",
   "execution_count": 133,
   "metadata": {},
   "outputs": [],
   "source": [
    "# permutation feature importance with knn for regression\n",
    "from sklearn.datasets import make_classification\n",
    "from sklearn.neighbors import KNeighborsClassifier\n",
    "from sklearn.inspection import permutation_importance"
   ]
  },
  {
   "cell_type": "code",
   "execution_count": 134,
   "metadata": {},
   "outputs": [
    {
     "name": "stdout",
     "output_type": "stream",
     "text": [
      "Feature: 0, Score: 0.04920\n",
      "Feature: 1, Score: 0.06620\n",
      "Feature: 2, Score: 0.04980\n",
      "Feature: 3, Score: 0.08740\n",
      "Feature: 4, Score: 0.05120\n",
      "Feature: 5, Score: 0.05440\n",
      "Feature: 6, Score: 0.07580\n",
      "Feature: 7, Score: 0.06100\n",
      "Feature: 8, Score: 0.05400\n",
      "Feature: 9, Score: 0.03360\n"
     ]
    },
    {
     "data": {
      "image/png": "[encoded data removed]",
      "text/plain": [
       "<Figure size 576x396 with 1 Axes>"
      ]
     },
     "metadata": {},
     "output_type": "display_data"
    }
   ],
   "source": [
    "# define dataset\n",
    "X, y = make_classification(n_samples=1000, n_features=10, \n",
    "                           n_informative=5, n_redundant=5, random_state=1)\n",
    "# define the model\n",
    "model = KNeighborsClassifier()\n",
    "\n",
    "# fit the model\n",
    "model.fit(X, y)\n",
    "\n",
    "# perform permutation importance\n",
    "results = permutation_importance(model, X, y, scoring='accuracy')\n",
    "\n",
    "# get importance\n",
    "importance = results.importances_mean\n",
    "\n",
    "# summarize feature importance\n",
    "for i,v in enumerate(importance):\n",
    "    print('Feature: %0d, Score: %.5f' % (i,v))\n",
    "\n",
    "# plot feature importance\n",
    "plt.bar([x for x in range(len(importance))], importance)\n",
    "plt.show()"
   ]
  },
  {
   "cell_type": "markdown",
   "metadata": {},
   "source": [
    "The results suggest perhaps two or three of the 10 features as being important to prediction."
   ]
  },
  {
   "cell_type": "markdown",
   "metadata": {},
   "source": [
    "<a id=\"fsi\"></a>\n",
    "<h5><ins>Feature Selection with Importance</ins></h5>\n",
    "\n",
    "Feature importance scores can be used to help interpret the data, but they can also be used directly to help rank and select features that are most useful to a predictive model."
   ]
  },
  {
   "cell_type": "code",
   "execution_count": 135,
   "metadata": {},
   "outputs": [],
   "source": [
    "# evaluation of a model using all features\n",
    "from sklearn.datasets import make_classification\n",
    "from sklearn.model_selection import train_test_split\n",
    "from sklearn.linear_model import LogisticRegression\n",
    "from sklearn.metrics import accuracy_score"
   ]
  },
  {
   "cell_type": "code",
   "execution_count": 136,
   "metadata": {},
   "outputs": [
    {
     "name": "stdout",
     "output_type": "stream",
     "text": [
      "Accuracy: 84.55\n"
     ]
    }
   ],
   "source": [
    "# define the dataset\n",
    "X, y = make_classification(n_samples=1000, n_features=10,\n",
    "                           n_informative=5, n_redundant=5, random_state=1)\n",
    "\n",
    "# split into train and test sets\n",
    "X_train, X_test, y_train, y_test = train_test_split(X, y, \n",
    "                                                    test_size=0.33,\n",
    "                                                    random_state=1)\n",
    "\n",
    "# fit the model\n",
    "model = LogisticRegression(solver='liblinear')\n",
    "model.fit(X_train, y_train)\n",
    "\n",
    "# evaluate the model\n",
    "yhat = model.predict(X_test)\n",
    "\n",
    "# evaluate predictions\n",
    "accuracy = accuracy_score(y_test, yhat)\n",
    "print('Accuracy: %.2f' % (accuracy*100))"
   ]
  },
  {
   "cell_type": "markdown",
   "metadata": {},
   "source": [
    "In this case we can see that the model achieved the classification accuracy of about 84.55 percent using all features in the dataset.\n",
    "\n",
    "Given that we created the dataset to have 5 informative features, we would expect better or the same results with half the number of input variables. We could use any of the feature importance scores previously mentioned, but in this case we will use the feature importance scores provided by random forest. We can use the `SelectFromModel` class to define both the model we wish to calculate importance scores, `RandomForestClassifier` in this case, and the number of features to select, 5 in this case."
   ]
  },
  {
   "cell_type": "code",
   "execution_count": 137,
   "metadata": {},
   "outputs": [],
   "source": [
    "from sklearn.feature_selection import SelectFromModel"
   ]
  },
  {
   "cell_type": "code",
   "execution_count": 138,
   "metadata": {},
   "outputs": [
    {
     "name": "stdout",
     "output_type": "stream",
     "text": [
      "Accuracy: 79.09\n"
     ]
    }
   ],
   "source": [
    "# feature selection\n",
    "def select_features(X_train, y_train, X_test):\n",
    "    # configure to select a subset of features\n",
    "    fs = SelectFromModel(RandomForestClassifier(n_estimators=200),\n",
    "                         max_features=5)\n",
    "\n",
    "    # learn relationship from training data\n",
    "    fs.fit(X_train, y_train)\n",
    "\n",
    "    # transform train & test input data\n",
    "    X_train_fs = fs.transform(X_train)\n",
    "    X_test_fs = fs.transform(X_test)\n",
    "    \n",
    "    return X_train_fs, X_test_fs, fs\n",
    "\n",
    "# feature selection\n",
    "X_train_fs, X_test_fs, fs = select_features(X_train, y_train, X_test)\n",
    "\n",
    "# fit the model\n",
    "model = LogisticRegression(solver='liblinear')\n",
    "model.fit(X_train_fs, y_train)\n",
    "\n",
    "# evaluate the model\n",
    "yhat = model.predict(X_test_fs)\n",
    "\n",
    "# evaluate predictions\n",
    "accuracy = accuracy_score(y_test, yhat)\n",
    "print('Accuracy: %.2f' % (accuracy*100))"
   ]
  },
  {
   "cell_type": "markdown",
   "metadata": {},
   "source": [
    "In this case, we can see that the model achieves the same performance on the dataset, although with half the number of input features. As expected, the feature importance scores calculated by random forest allowed us to accurately rank the input features and delete those that were not relevant to the target variable."
   ]
  },
  {
   "cell_type": "markdown",
   "metadata": {},
   "source": [
    "<a id=\"brick\"></a>\n",
    "<h5><ins>Feature Importance with `Yellowbrick`</ins></h5>\n",
    "\n",
    "The feature engineering process involves selecting the minimum required features to produce a valid model because the more features a model contains, the more complex it is (and the more sparse the data), therefore the more sensitive the model is to errors due to variance. A common approach to eliminating features is to describe their relative importance to a model, then eliminate weak features or combinations of features and re-evalute to see if the model fairs better during cross-validation.\n",
    "\n",
    "Many model forms describe the underlying impact of features relative to each other. In scikit-learn, Decision Tree models and ensembles of trees such as Random Forest, Gradient Boosting, and Ada Boost provide a `feature_importances_` attribute when fitted. The Yellowbrick FeatureImportances visualizer utilizes this attribute to rank and plot relative importances."
   ]
  },
  {
   "cell_type": "code",
   "execution_count": 139,
   "metadata": {},
   "outputs": [],
   "source": [
    "from yellowbrick.model_selection import FeatureImportances"
   ]
  },
  {
   "cell_type": "code",
   "execution_count": 140,
   "metadata": {},
   "outputs": [],
   "source": [
    "X, y = make_classification(n_samples=1000, n_features=10,\n",
    "                           n_informative=5, n_redundant=5, random_state=1)\n",
    "\n",
    "# split into train and test sets\n",
    "X_train, X_test, y_train, y_test = train_test_split(X, y, \n",
    "                                                    test_size=0.33,\n",
    "                                                    random_state=1)"
   ]
  },
  {
   "cell_type": "code",
   "execution_count": 141,
   "metadata": {},
   "outputs": [
    {
     "data": {
      "image/png": "[encoded data removed]",
      "text/plain": [
       "<Figure size 576x396 with 1 Axes>"
      ]
     },
     "metadata": {},
     "output_type": "display_data"
    },
    {
     "data": {
      "text/plain": [
       "<AxesSubplot:title={'center':'Feature Importances of 10 Features using RandomForestClassifier'}, xlabel='relative importance'>"
      ]
     },
     "execution_count": 141,
     "metadata": {},
     "output_type": "execute_result"
    }
   ],
   "source": [
    "model = RandomForestClassifier(n_estimators=10)\n",
    "viz = FeatureImportances(model)\n",
    "viz.fit(X, y)\n",
    "viz.show()"
   ]
  },
  {
   "cell_type": "code",
   "execution_count": 142,
   "metadata": {},
   "outputs": [
    {
     "data": {
      "image/png": "[encoded data removed]",
      "text/plain": [
       "<Figure size 576x396 with 1 Axes>"
      ]
     },
     "metadata": {},
     "output_type": "display_data"
    },
    {
     "data": {
      "text/plain": [
       "<AxesSubplot:title={'center':'Feature Importances of 10 Features using RandomForestClassifier'}, xlabel='relative importance'>"
      ]
     },
     "execution_count": 142,
     "metadata": {},
     "output_type": "execute_result"
    }
   ],
   "source": [
    "model = RandomForestClassifier(n_estimators=10)\n",
    "viz = FeatureImportances(model)\n",
    "viz.fit(X_train, y_train)\n",
    "viz.show()"
   ]
  },
  {
   "cell_type": "markdown",
   "metadata": {},
   "source": [
    "The above figures show the features ranked according to the explained variance each feature contributes to the model. In this case the features are plotted against their relative importance, that is the percent importance of the most important feature. The visualizer also contains `features_` and `feature_importances_` attributes to get the ranked numeric values.\n",
    "\n",
    "For models that do not support a `feature_importances_` attribute, the FeatureImportances visualizer will also draw a bar plot for the `coef_` attribute that many linear models provide.\n",
    "\n",
    "When using a model with a `coef_` attribute, it is better to set `relative=False` to draw the true magnitude of the coefficient (which may be negative)."
   ]
  },
  {
   "cell_type": "code",
   "execution_count": 143,
   "metadata": {},
   "outputs": [
    {
     "data": {
      "image/png": "[encoded data removed]",
      "text/plain": [
       "<Figure size 576x396 with 1 Axes>"
      ]
     },
     "metadata": {},
     "output_type": "display_data"
    },
    {
     "data": {
      "text/plain": [
       "<AxesSubplot:title={'center':'Feature Importances of 10 Features using RandomForestClassifier'}, xlabel='feature importance'>"
      ]
     },
     "execution_count": 143,
     "metadata": {},
     "output_type": "execute_result"
    }
   ],
   "source": [
    "model = RandomForestClassifier(n_estimators=10)\n",
    "\n",
    "labels = list(map(lambda s: str(s)+'_#_', range(10)))\n",
    "viz = FeatureImportances(model,labels=labels, relative=False)\n",
    "viz.fit(X_train, y_train)\n",
    "viz.show()"
   ]
  },
  {
   "cell_type": "markdown",
   "metadata": {},
   "source": [
    "<ins>Stacked Feature Importances</ins>\n",
    "\n",
    "Some estimators return a multi-dimensonal array for either `feature_importances_` or `coef_` attributes. For example the LogisticRegression classifier returns a `coef_` array in the shape of (n_classes, n_features) in the multiclass case. These coefficients map the importance of the feature to the prediction of the probability of a specific class. Although the interpretation of multi-dimensional feature importances depends on the specific estimator and model family, the data is treated the same in the FeatureImportances visualizer – namely the importances are averaged.\n",
    "\n",
    "Taking the mean of the importances may be undesirable for several reasons. For example, a feature may be more informative for some classes than others. Multi-output estimators also do not benefit from having averages taken across what are essentially multiple internal models. In this case, use the `stack=True` parameter to draw a stacked bar chart of importances as follows:"
   ]
  },
  {
   "cell_type": "code",
   "execution_count": 144,
   "metadata": {},
   "outputs": [],
   "source": [
    "from sklearn.datasets import load_iris"
   ]
  },
  {
   "cell_type": "code",
   "execution_count": 145,
   "metadata": {},
   "outputs": [
    {
     "data": {
      "image/png": "[encoded data removed]",
      "text/plain": [
       "<Figure size 576x396 with 1 Axes>"
      ]
     },
     "metadata": {},
     "output_type": "display_data"
    },
    {
     "data": {
      "text/plain": [
       "<AxesSubplot:title={'center':'Feature Importances of 4 Features using LogisticRegression'}, xlabel='coefficient value'>"
      ]
     },
     "execution_count": 145,
     "metadata": {},
     "output_type": "execute_result"
    }
   ],
   "source": [
    "data = load_iris()\n",
    "X, y = data.data, data.target\n",
    "\n",
    "model = LogisticRegression(multi_class=\"auto\", solver=\"liblinear\")\n",
    "viz = FeatureImportances(model, stack=True, relative=False)\n",
    "viz.fit(X, y)\n",
    "viz.show()"
   ]
  },
  {
   "cell_type": "markdown",
   "metadata": {},
   "source": [
    "<ins>Top and Bottom Feature Importances</ins>\n",
    "\n",
    "It may be more illuminating to the feature engineering process to identify the most or least informative features. To view only the N most informative features, specify the `topn` argument to the visualizer. Similar to slicing a ranked list by their importance, if `topn` is a postive integer, then the most highly ranked features are used. If `topn` is a negative integer, then the lowest ranked features are displayed instead."
   ]
  },
  {
   "cell_type": "code",
   "execution_count": 146,
   "metadata": {},
   "outputs": [],
   "source": [
    "from sklearn.datasets import make_regression\n",
    "from sklearn.linear_model import Lasso"
   ]
  },
  {
   "cell_type": "code",
   "execution_count": 147,
   "metadata": {},
   "outputs": [
    {
     "data": {
      "image/png": "[encoded data removed]",
      "text/plain": [
       "<Figure size 576x396 with 1 Axes>"
      ]
     },
     "metadata": {},
     "output_type": "display_data"
    },
    {
     "data": {
      "text/plain": [
       "<AxesSubplot:title={'center':'Feature Importances of Top 5 Features using Lasso'}, xlabel='coefficient value'>"
      ]
     },
     "execution_count": 147,
     "metadata": {},
     "output_type": "execute_result"
    }
   ],
   "source": [
    "X, y = make_regression(n_samples=1000, n_features=10, n_informative=5,\n",
    "                       random_state=1)\n",
    "\n",
    "viz = FeatureImportances(Lasso(), relative=False, topn=5)\n",
    "\n",
    "viz.fit(X, y)\n",
    "viz.show()"
   ]
  },
  {
   "cell_type": "markdown",
   "metadata": {},
   "source": [
    "<a id='references'></a>\n",
    "### REFERENCES\n",
    "\n",
    "<ins>BOOKS</ins>\n",
    "- [Data Preparation for Machine Learning by Jason Brownlee](https://machinelearningmastery.com/data-preparation-for-machine-learning/)\n",
    "\n",
    "<ins>ARTICLES / WEBSITES</ins>\n",
    "- [Towards Data Science - Intro to Feature Selection Methods for Data Science](https://towardsdatascience.com/intro-to-feature-selection-methods-for-data-science-4cae2178a00a)\n",
    "- [Towards Data Science - Feature Selection Techniques in Machine Learning with Python](https://towardsdatascience.com/feature-selection-techniques-in-machine-learning-with-python-f24e7da3f36e)\n",
    "- [Towards Data Science - Powerful Feature Selection with Recursive Feature Elimination (RFE) of Sklearn](https://towardsdatascience.com/powerful-feature-selection-with-recursive-feature-elimination-rfe-of-sklearn-23efb2cdb54e)\n",
    "- [DataSklr](https://www.datasklr.com/ols-least-squares-regression/variable-selection)\n",
    "- [Step Forward Feature Selection: A Practical Example in Python](https://www.kdnuggets.com/2018/06/step-forward-feature-selection-python.html)\n",
    "- [A comprehensive guide to Feature Selection using Wrapper methods in Python](https://www.analyticsvidhya.com/blog/2020/10/a-comprehensive-guide-to-feature-selection-using-wrapper-methods-in-python/)\n",
    "\n",
    "<ins>PYTHON PACKAGES</ins>\n",
    "- [Scikit Learn Documentation](https://scikit-learn.org/stable/modules/feature_selection.html#feature-selection)\n",
    "- [mlxtend - python module](http://rasbt.github.io/mlxtend/)\n",
    "- [Yellowbrick - Machine Learning Visualization module](https://www.scikit-yb.org/en/latest/index.html)"
   ]
  }
 ],
 "metadata": {
  "kernelspec": {
   "display_name": "Python 3",
   "language": "python",
   "name": "python3"
  },
  "language_info": {
   "codemirror_mode": {
    "name": "ipython",
    "version": 3
   },
   "file_extension": ".py",
   "mimetype": "text/x-python",
   "name": "python",
   "nbconvert_exporter": "python",
   "pygments_lexer": "ipython3",
   "version": "3.8.8"
  }
 },
 "nbformat": 4,
 "nbformat_minor": 4
}
