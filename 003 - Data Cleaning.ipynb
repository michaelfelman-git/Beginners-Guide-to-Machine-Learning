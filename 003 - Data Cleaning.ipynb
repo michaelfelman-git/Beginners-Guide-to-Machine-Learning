{
 "cells": [
  {
   "cell_type": "markdown",
   "id": "fbe1ee60",
   "metadata": {},
   "source": [
    "<h1 align=\"center\">DATA CLEANING</h1>\n",
    "<h2 align=\"left\"><ins>Lesson Guide</ins></h2>\n",
    "\n",
    "- [**DATA CLEANING**](#intro)\n",
    "    - [**Identify & Remove Columns That Contain a Single Value**](#single)\n",
    "    - [**Consider Columns That Have Very Few Unique Values**](#few)\n",
    "    - [**Remove Columns That Have A Low Variance**](#variance)\n",
    "    - [**Identify & Remove Rows That Contain Duplicate Data**](#duplicate)\n",
    "- [**OUTLIER IDENTIFICATION AND REMOVAL**](#outlier)\n",
    "    - [**What are Outliers?**](#what)\n",
    "    - [**Standard Deviation Method**](#std)\n",
    "    - [**Interquartile Range Method**](#iqr)\n",
    "    - [**Automatic Outlier Detection**](#auto)\n",
    "- [**HOW TO HANDLE MISSING DATA**](#missing)\n",
    "    - [**Identify & Mark Missing Values**](#identify)\n",
    "    - [**Remove Rows With Missing Values**](#remove)\n",
    "    - [**How to Use Statistical Imputation**](#impute)\n",
    "        - [**Using Pandas to Fill Missing Values**](#fill)\n",
    "        - [**SimpleImputer Data Transform**](#transform)\n",
    "        - [**SimpleImputer and Model Evaluation**](#eval)\n",
    "        - [**Comparing Different Imputed Statistics**](#compare)\n",
    "        - [**SimpleImputer Transform When Making a Prediction**](#predict)\n",
    "    - [**How to Use KNN Imputation**](#knn)\n",
    "        - [**KNNImputer Data Transform**](#data)\n",
    "        - [**KNNImputer and Model Evaluation**](#model)\n",
    "        - [**KNNImputer and Different Number of Neighbors**](#range)\n",
    "        - [**KNNImputer Transform When Making a Prediction**](#make)\n",
    "    - [**How to Use Iterative Imputation**](#iter)\n",
    "        - [**IterativeImputer Data Transform**](#iidt)\n",
    "        - [**IterativeImputer and Model Evaluation**](#ii_model)\n",
    "        - [**IterativeImputer and Different Imputation Order**](#order)\n",
    "        - [**IterativeImputer and Different Number of Iterations**](#number)\n",
    "        - [**IterativeImputer Transform When Making a Prediction**](#ii_pred)"
   ]
  },
  {
   "cell_type": "code",
   "execution_count": 1,
   "id": "338645b8",
   "metadata": {},
   "outputs": [],
   "source": [
    "import numpy as np\n",
    "import pandas as pd\n",
    "import seaborn as sns\n",
    "import matplotlib.pyplot as plt\n",
    "import missingno as msno\n",
    "\n",
    "%matplotlib inline"
   ]
  },
  {
   "cell_type": "code",
   "execution_count": 2,
   "id": "4a17f1e2",
   "metadata": {},
   "outputs": [],
   "source": [
    "from sklearn.metrics import mean_absolute_error\n",
    "from sklearn.pipeline import Pipeline\n",
    "from sklearn.linear_model import LinearRegression\n",
    "from sklearn.ensemble import RandomForestClassifier\n",
    "from sklearn.discriminant_analysis import LinearDiscriminantAnalysis\n",
    "\n",
    "from sklearn.model_selection import (train_test_split, KFold, \n",
    "                                     cross_val_score, RepeatedStratifiedKFold)"
   ]
  },
  {
   "cell_type": "markdown",
   "id": "3df1a680",
   "metadata": {},
   "source": [
    "<a id=\"intro\"></a>\n",
    "<h1 align=\"center\">DATA CLEANING</h1>\n",
    "\n",
    "**Data cleaning** refers to identifying and correcting errors in the dataset that may negatively impact a predictive model. Data cleaning is a critically important step in any machine learning project. In tabular data, there are many different statistical analysis and data visualization techniques used to explore the data in order to identify any data cleaning operations that may be required. There are many types of errors that exist in a dataset, although some of the simplest errors include columns that don’t contain much information and duplicated rows. Although critically important, it is neither exciting, nor does it involve fancy techniques. Just a good knowledge of the dataset. "
   ]
  },
  {
   "cell_type": "markdown",
   "id": "9fbb42e0",
   "metadata": {},
   "source": [
    "<a id=\"single\"></a>\n",
    "<h3 style=\"text-decoration:underline\">Identify & Remove Columns That Contain a Single Value</h3>\n",
    "\n",
    "Columns that have a single observation or value are probably useless for modeling. These columns or predictors are referred to as *zero-variance predictors* - if we measured the variance (average value from the mean), it would be zero. \n",
    ">**Columns that have a single value for all rows do not contain any information for modeling. Depending on the choice of data preparation and modeling algorithms, variables with a single value can also cause errors or unexpected results.**\n",
    ">>**Variables or columns that have a single value should probably be removed from your dataset.**"
   ]
  },
  {
   "cell_type": "code",
   "execution_count": 3,
   "id": "c06facfd",
   "metadata": {
    "scrolled": true
   },
   "outputs": [
    {
     "data": {
      "text/html": [
       "<div>\n",
       "<style scoped>\n",
       "    .dataframe tbody tr th:only-of-type {\n",
       "        vertical-align: middle;\n",
       "    }\n",
       "\n",
       "    .dataframe tbody tr th {\n",
       "        vertical-align: top;\n",
       "    }\n",
       "\n",
       "    .dataframe thead th {\n",
       "        text-align: right;\n",
       "    }\n",
       "</style>\n",
       "<table border=\"1\" class=\"dataframe\">\n",
       "  <thead>\n",
       "    <tr style=\"text-align: right;\">\n",
       "      <th></th>\n",
       "      <th>0</th>\n",
       "      <th>1</th>\n",
       "      <th>2</th>\n",
       "      <th>3</th>\n",
       "      <th>4</th>\n",
       "      <th>5</th>\n",
       "      <th>6</th>\n",
       "      <th>7</th>\n",
       "      <th>8</th>\n",
       "      <th>9</th>\n",
       "      <th>...</th>\n",
       "      <th>40</th>\n",
       "      <th>41</th>\n",
       "      <th>42</th>\n",
       "      <th>43</th>\n",
       "      <th>44</th>\n",
       "      <th>45</th>\n",
       "      <th>46</th>\n",
       "      <th>47</th>\n",
       "      <th>48</th>\n",
       "      <th>49</th>\n",
       "    </tr>\n",
       "  </thead>\n",
       "  <tbody>\n",
       "    <tr>\n",
       "      <th>0</th>\n",
       "      <td>1</td>\n",
       "      <td>2558</td>\n",
       "      <td>1506.09</td>\n",
       "      <td>456.63</td>\n",
       "      <td>90</td>\n",
       "      <td>6395000.0</td>\n",
       "      <td>40.88</td>\n",
       "      <td>7.89</td>\n",
       "      <td>29780.0</td>\n",
       "      <td>0.19</td>\n",
       "      <td>...</td>\n",
       "      <td>2850.00</td>\n",
       "      <td>1000.00</td>\n",
       "      <td>763.16</td>\n",
       "      <td>135.46</td>\n",
       "      <td>3.73</td>\n",
       "      <td>0</td>\n",
       "      <td>33243.19</td>\n",
       "      <td>65.74</td>\n",
       "      <td>7.95</td>\n",
       "      <td>1</td>\n",
       "    </tr>\n",
       "    <tr>\n",
       "      <th>1</th>\n",
       "      <td>2</td>\n",
       "      <td>22325</td>\n",
       "      <td>79.11</td>\n",
       "      <td>841.03</td>\n",
       "      <td>180</td>\n",
       "      <td>55812500.0</td>\n",
       "      <td>51.11</td>\n",
       "      <td>1.21</td>\n",
       "      <td>61900.0</td>\n",
       "      <td>0.02</td>\n",
       "      <td>...</td>\n",
       "      <td>5750.00</td>\n",
       "      <td>11500.00</td>\n",
       "      <td>9593.48</td>\n",
       "      <td>1648.80</td>\n",
       "      <td>0.60</td>\n",
       "      <td>0</td>\n",
       "      <td>51572.04</td>\n",
       "      <td>65.73</td>\n",
       "      <td>6.26</td>\n",
       "      <td>0</td>\n",
       "    </tr>\n",
       "    <tr>\n",
       "      <th>2</th>\n",
       "      <td>3</td>\n",
       "      <td>115</td>\n",
       "      <td>1449.85</td>\n",
       "      <td>608.43</td>\n",
       "      <td>88</td>\n",
       "      <td>287500.0</td>\n",
       "      <td>40.42</td>\n",
       "      <td>7.34</td>\n",
       "      <td>3340.0</td>\n",
       "      <td>0.18</td>\n",
       "      <td>...</td>\n",
       "      <td>1400.00</td>\n",
       "      <td>250.00</td>\n",
       "      <td>150.00</td>\n",
       "      <td>45.13</td>\n",
       "      <td>9.33</td>\n",
       "      <td>1</td>\n",
       "      <td>31692.84</td>\n",
       "      <td>65.81</td>\n",
       "      <td>7.84</td>\n",
       "      <td>1</td>\n",
       "    </tr>\n",
       "    <tr>\n",
       "      <th>3</th>\n",
       "      <td>4</td>\n",
       "      <td>1201</td>\n",
       "      <td>1562.53</td>\n",
       "      <td>295.65</td>\n",
       "      <td>66</td>\n",
       "      <td>3002500.0</td>\n",
       "      <td>42.40</td>\n",
       "      <td>7.97</td>\n",
       "      <td>18030.0</td>\n",
       "      <td>0.19</td>\n",
       "      <td>...</td>\n",
       "      <td>6041.52</td>\n",
       "      <td>761.58</td>\n",
       "      <td>453.21</td>\n",
       "      <td>144.97</td>\n",
       "      <td>13.33</td>\n",
       "      <td>1</td>\n",
       "      <td>37696.21</td>\n",
       "      <td>65.67</td>\n",
       "      <td>8.07</td>\n",
       "      <td>1</td>\n",
       "    </tr>\n",
       "    <tr>\n",
       "      <th>4</th>\n",
       "      <td>5</td>\n",
       "      <td>312</td>\n",
       "      <td>950.27</td>\n",
       "      <td>440.86</td>\n",
       "      <td>37</td>\n",
       "      <td>780000.0</td>\n",
       "      <td>41.43</td>\n",
       "      <td>7.03</td>\n",
       "      <td>3350.0</td>\n",
       "      <td>0.17</td>\n",
       "      <td>...</td>\n",
       "      <td>1320.04</td>\n",
       "      <td>710.63</td>\n",
       "      <td>512.54</td>\n",
       "      <td>109.16</td>\n",
       "      <td>2.58</td>\n",
       "      <td>0</td>\n",
       "      <td>29038.17</td>\n",
       "      <td>65.66</td>\n",
       "      <td>7.35</td>\n",
       "      <td>0</td>\n",
       "    </tr>\n",
       "  </tbody>\n",
       "</table>\n",
       "<p>5 rows × 50 columns</p>\n",
       "</div>"
      ],
      "text/plain": [
       "   0      1        2       3    4           5      6     7        8     9   \\\n",
       "0   1   2558  1506.09  456.63   90   6395000.0  40.88  7.89  29780.0  0.19   \n",
       "1   2  22325    79.11  841.03  180  55812500.0  51.11  1.21  61900.0  0.02   \n",
       "2   3    115  1449.85  608.43   88    287500.0  40.42  7.34   3340.0  0.18   \n",
       "3   4   1201  1562.53  295.65   66   3002500.0  42.40  7.97  18030.0  0.19   \n",
       "4   5    312   950.27  440.86   37    780000.0  41.43  7.03   3350.0  0.17   \n",
       "\n",
       "   ...       40        41       42       43     44  45        46     47    48  \\\n",
       "0  ...  2850.00   1000.00   763.16   135.46   3.73   0  33243.19  65.74  7.95   \n",
       "1  ...  5750.00  11500.00  9593.48  1648.80   0.60   0  51572.04  65.73  6.26   \n",
       "2  ...  1400.00    250.00   150.00    45.13   9.33   1  31692.84  65.81  7.84   \n",
       "3  ...  6041.52    761.58   453.21   144.97  13.33   1  37696.21  65.67  8.07   \n",
       "4  ...  1320.04    710.63   512.54   109.16   2.58   0  29038.17  65.66  7.35   \n",
       "\n",
       "   49  \n",
       "0   1  \n",
       "1   0  \n",
       "2   1  \n",
       "3   1  \n",
       "4   0  \n",
       "\n",
       "[5 rows x 50 columns]"
      ]
     },
     "execution_count": 3,
     "metadata": {},
     "output_type": "execute_result"
    }
   ],
   "source": [
    "# using numpy \n",
    "# data = np.loadtxt('./datasets/Data Cleaning/oil_spill.csv', delimiter=',')\n",
    "\n",
    "# using pandas\n",
    "df = pd.read_csv('./datasets/Data Cleaning/oil_spill.csv',header=None)\n",
    "df.head()"
   ]
  },
  {
   "cell_type": "code",
   "execution_count": 4,
   "id": "4e03294c",
   "metadata": {},
   "outputs": [
    {
     "name": "stdout",
     "output_type": "stream",
     "text": [
      "[238 297 927 933 179 375 820 618 561  57 577  59  73 107  53  91 893 810\n",
      " 170  53  68   9   1  92   9   8   9 308 447 392 107  42   4  45 141 110\n",
      "   3 758   9   9 388 220 644 649 499   2 937 169 286   2]\n"
     ]
    }
   ],
   "source": [
    "# column-wise unique value count\n",
    "print(df.nunique().values)"
   ]
  },
  {
   "cell_type": "markdown",
   "id": "7cc51e01",
   "metadata": {},
   "source": [
    "We can see that the column at index 22 only has a single value (all are zeros). "
   ]
  },
  {
   "cell_type": "code",
   "execution_count": 5,
   "id": "e1cef2b5",
   "metadata": {},
   "outputs": [],
   "source": [
    "# df.nunique().loc[lambda x : x==1]\n",
    "# df.nunique()[lambda x: x==1]"
   ]
  },
  {
   "cell_type": "code",
   "execution_count": 6,
   "id": "37f9bb14",
   "metadata": {},
   "outputs": [
    {
     "name": "stdout",
     "output_type": "stream",
     "text": [
      "Original shape is: (937, 50)\n",
      "Columns to delete are: [22]\n",
      "New shape after removal is: (937, 49)\n"
     ]
    }
   ],
   "source": [
    "# get number of unique values for each column\n",
    "counts = df.nunique()\n",
    "print(f'Original shape is: {df.shape}')\n",
    "\n",
    "# record columns to delete\n",
    "to_del = [i for i,v in enumerate(counts) if v == 1]\n",
    "print(f'Columns to delete are: {to_del}')\n",
    "\n",
    "# drop useless columns\n",
    "df.drop(to_del, axis=1)\n",
    "# df.drop(columns=[22], inplace=True)\n",
    "\n",
    "print(f'New shape after removal is: {df.drop(to_del, axis=1).shape}')"
   ]
  },
  {
   "cell_type": "markdown",
   "id": "25647f61",
   "metadata": {},
   "source": [
    "<a id=\"few\"></a>\n",
    "<h3 style=\"text-decoration:underline\">Consider Columns That Have Very Few Unique Values</h3>\n",
    "\n",
    "There are some columns in the dataset that have less than 10 unique values. This might make sense for ordinal or categorical variables. However, in this case, the dataset only contains numerical variables. As such, only having 2, 4, or 9 unique numerical values in a column might be surprising. We can refer to these columns or predictors as *near-zero variance predictors*, as their variance is not zero, but a very small number close to zero.\n",
    ">**These columns may or may not contribute to the performance of a model.** We can’t assume that they are useless to modeling. Depending on the choice of data preparation and modeling algorithms, variables with very few numerical values can also cause errors or unexpected results. \n",
    "\n",
    "To help highlight columns of this type, we can calculate the number of unique values for each variable as a percentage of the total number of rows in the dataset. "
   ]
  },
  {
   "cell_type": "code",
   "execution_count": 7,
   "id": "14325f1f",
   "metadata": {
    "scrolled": true
   },
   "outputs": [
    {
     "name": "stdout",
     "output_type": "stream",
     "text": [
      "The column 21 has 9 unique values which are:\n",
      "[ 87.65  75.26  67.87  85.22 126.08 123.47  47.66  69.09  55.85]\n",
      "\n",
      "The column 22 has 1 unique values which are:\n",
      "[0]\n",
      "\n",
      "The column 24 has 9 unique values which are:\n",
      "[ 132.78  351.67  421.21  422.12 2025.42 2036.8   204.34  239.69  221.97]\n",
      "\n",
      "The column 25 has 8 unique values which are:\n",
      "[-0.01  0.18  1.83  1.01 -0.53 -0.71  0.97  0.87]\n",
      "\n",
      "The column 26 has 9 unique values which are:\n",
      "[ 3.78  9.24 14.78 12.06  3.01  2.96  4.66  3.83  5.07]\n",
      "\n",
      "The column 32 has 4 unique values which are:\n",
      "[0.   0.01 0.87 0.86]\n",
      "\n",
      "The column 36 has 3 unique values which are:\n",
      "[0.   0.01 0.02]\n",
      "\n",
      "The column 38 has 9 unique values which are:\n",
      "[ 89  78  64  85 133 143  99 102  82]\n",
      "\n",
      "The column 39 has 9 unique values which are:\n",
      "[69 55 39 63 85 86 67 73 50]\n",
      "\n",
      "The column 45 has 2 unique values which are:\n",
      "[0 1]\n",
      "\n",
      "The column 49 has 2 unique values which are:\n",
      "[1 0]\n",
      "\n"
     ]
    }
   ],
   "source": [
    "for col in df.columns:\n",
    "    if df[col].nunique() > 10:\n",
    "#         print(f'The column {col} has {df[col].nunique()} unique values and is good to go')\n",
    "        continue\n",
    "    else:\n",
    "        print(f'The column {col} has {df[col].nunique()} unique values which are:\\n{df[col].unique()}\\n')"
   ]
  },
  {
   "cell_type": "code",
   "execution_count": 8,
   "id": "82aa0866",
   "metadata": {
    "scrolled": true
   },
   "outputs": [
    {
     "data": {
      "text/html": [
       "<div>\n",
       "<style scoped>\n",
       "    .dataframe tbody tr th:only-of-type {\n",
       "        vertical-align: middle;\n",
       "    }\n",
       "\n",
       "    .dataframe tbody tr th {\n",
       "        vertical-align: top;\n",
       "    }\n",
       "\n",
       "    .dataframe thead th {\n",
       "        text-align: right;\n",
       "    }\n",
       "</style>\n",
       "<table border=\"1\" class=\"dataframe\">\n",
       "  <thead>\n",
       "    <tr style=\"text-align: right;\">\n",
       "      <th></th>\n",
       "      <th>Unique Count</th>\n",
       "      <th>% of total_rows</th>\n",
       "    </tr>\n",
       "  </thead>\n",
       "  <tbody>\n",
       "    <tr>\n",
       "      <th>21</th>\n",
       "      <td>9</td>\n",
       "      <td>0.960512</td>\n",
       "    </tr>\n",
       "    <tr>\n",
       "      <th>22</th>\n",
       "      <td>1</td>\n",
       "      <td>0.106724</td>\n",
       "    </tr>\n",
       "    <tr>\n",
       "      <th>24</th>\n",
       "      <td>9</td>\n",
       "      <td>0.960512</td>\n",
       "    </tr>\n",
       "    <tr>\n",
       "      <th>25</th>\n",
       "      <td>8</td>\n",
       "      <td>0.853789</td>\n",
       "    </tr>\n",
       "    <tr>\n",
       "      <th>26</th>\n",
       "      <td>9</td>\n",
       "      <td>0.960512</td>\n",
       "    </tr>\n",
       "    <tr>\n",
       "      <th>32</th>\n",
       "      <td>4</td>\n",
       "      <td>0.426894</td>\n",
       "    </tr>\n",
       "    <tr>\n",
       "      <th>36</th>\n",
       "      <td>3</td>\n",
       "      <td>0.320171</td>\n",
       "    </tr>\n",
       "    <tr>\n",
       "      <th>38</th>\n",
       "      <td>9</td>\n",
       "      <td>0.960512</td>\n",
       "    </tr>\n",
       "    <tr>\n",
       "      <th>39</th>\n",
       "      <td>9</td>\n",
       "      <td>0.960512</td>\n",
       "    </tr>\n",
       "    <tr>\n",
       "      <th>45</th>\n",
       "      <td>2</td>\n",
       "      <td>0.213447</td>\n",
       "    </tr>\n",
       "    <tr>\n",
       "      <th>49</th>\n",
       "      <td>2</td>\n",
       "      <td>0.213447</td>\n",
       "    </tr>\n",
       "  </tbody>\n",
       "</table>\n",
       "</div>"
      ],
      "text/plain": [
       "    Unique Count  % of total_rows\n",
       "21             9         0.960512\n",
       "22             1         0.106724\n",
       "24             9         0.960512\n",
       "25             8         0.853789\n",
       "26             9         0.960512\n",
       "32             4         0.426894\n",
       "36             3         0.320171\n",
       "38             9         0.960512\n",
       "39             9         0.960512\n",
       "45             2         0.213447\n",
       "49             2         0.213447"
      ]
     },
     "execution_count": 8,
     "metadata": {},
     "output_type": "execute_result"
    }
   ],
   "source": [
    "test = pd.DataFrame(data=df.nunique(),columns=['Unique Count'],\n",
    "                    index=df.columns)\n",
    "\n",
    "# calculate the percentage of unique values to the total number of rows\n",
    "test['% of total_rows'] = test['Unique Count'].apply(lambda x: (x/df.shape[0])*100)\n",
    "\n",
    "# only include columns that have less than 10 unique values\n",
    "test[test['Unique Count']<10]"
   ]
  },
  {
   "cell_type": "markdown",
   "id": "f62b1d3f",
   "metadata": {},
   "source": [
    "We can see that 11 of the 50 numerical variables have unique values that are less than 1 percent of the number of rows. This does not mean that these rows and columns should be deleted, but they require further attention. \n",
    "- Perhaps the unique values can be encoded as ordinal values.\n",
    "- Perhaps the unique values can be encoded as categorical values.\n",
    "- Perhaps compare model performance with each variable removed from the dataset.\n",
    "\n",
    "For example, if we wanted to delete all 10 columns with unique values less than 1 percent of rows:\n",
    "\n",
    "```python\n",
    "counts = df.nunique()\n",
    "to_del = [i for i,v in enumerate(counts) if (float(v)/df.shape[0]*100) < 1]\n",
    "         [i for i,v in counts.items() if (v/df.shape[0]*100) < 1]\n",
    "df.drop(to_del, axis=1, inplace=True)\n",
    "```"
   ]
  },
  {
   "cell_type": "code",
   "execution_count": 9,
   "id": "23a9deb8",
   "metadata": {},
   "outputs": [],
   "source": [
    "# df.nunique().loc[lambda x : x==1]\n",
    "# data.df.nunique()[lambda x: x==1]"
   ]
  },
  {
   "cell_type": "markdown",
   "id": "76e8e178",
   "metadata": {},
   "source": [
    "<a id=\"variance\"></a>\n",
    "<h3 style=\"text-decoration:underline\">Remove Columns That Have A Low Variance</h3>\n",
    "\n",
    "Another approach to the problem of removing columns with few unique values is to consider the variance of the column. Recall that the variance is a statistic calculated as the average squared difference of values in the sample from its mean. \n",
    ">The variance can be used as a filter for identifying columns to be removed from the dataset. A column that has a single value has a variance of 0.0, and a column that has very few unique values may have a small variance.\n",
    "\n",
    "One approach is using numpy and pandas:\n",
    "\n",
    "```python\n",
    "variance = np.var(df)\n",
    "low_variance = [i for i,v in variance.items() if v < threshold]\n",
    "df.drop(low_variance, axis=1, inplace=True)\n",
    "```\n",
    "\n",
    "Another approach is the `VarianceThreshold` class from the scikit-learn library. An instance of the class can be created and we can specify the threshold argument, which defaults to 0.0 to remove columns with a single value. It can then be fit and applied to a dataset by calling the `fit_transform()` function to create a transformed version of the dataset where the columns that have a variance lower than the threshold have been removed automatically."
   ]
  },
  {
   "cell_type": "code",
   "execution_count": 10,
   "id": "bf160e2b",
   "metadata": {},
   "outputs": [],
   "source": [
    "from sklearn.feature_selection import VarianceThreshold"
   ]
  },
  {
   "cell_type": "code",
   "execution_count": 11,
   "id": "9af5561d",
   "metadata": {},
   "outputs": [
    {
     "name": "stdout",
     "output_type": "stream",
     "text": [
      "(937, 49) (937,)\n",
      "(937, 48)\n"
     ]
    }
   ],
   "source": [
    "X = df.iloc[:, :-1]\n",
    "y = df.iloc[:, -1]\n",
    "print(X.shape, y.shape)\n",
    "\n",
    "# define the transform\n",
    "transform = VarianceThreshold()\n",
    "\n",
    "# transform the input data\n",
    "X_sel = transform.fit_transform(X)\n",
    "print(X_sel.shape)"
   ]
  },
  {
   "cell_type": "markdown",
   "id": "473656eb",
   "metadata": {},
   "source": [
    "The transform (with a default threshold of 0.0) has removed all columns with a variance of 0.0 - i.e. the single column where all values are the same (column 22).\n",
    "\n",
    "We can also see what happens when we use different thresholds."
   ]
  },
  {
   "cell_type": "code",
   "execution_count": 12,
   "id": "b9f75d38",
   "metadata": {},
   "outputs": [
    {
     "name": "stdout",
     "output_type": "stream",
     "text": [
      ">Threshold=0.00, Features=48, #_cols_removed=1\n",
      ">Threshold=0.05, Features=37, #_cols_removed=12\n",
      ">Threshold=0.10, Features=36, #_cols_removed=13\n",
      ">Threshold=0.15, Features=35, #_cols_removed=14\n",
      ">Threshold=0.20, Features=35, #_cols_removed=14\n",
      ">Threshold=0.25, Features=35, #_cols_removed=14\n",
      ">Threshold=0.30, Features=35, #_cols_removed=14\n",
      ">Threshold=0.35, Features=35, #_cols_removed=14\n",
      ">Threshold=0.40, Features=35, #_cols_removed=14\n",
      ">Threshold=0.45, Features=33, #_cols_removed=16\n",
      ">Threshold=0.50, Features=31, #_cols_removed=18\n"
     ]
    }
   ],
   "source": [
    "# define thresholds to check\n",
    "thresholds = np.arange(0.0, 0.55, 0.05)\n",
    "\n",
    "# apply transform with each threshold\n",
    "results = list()\n",
    "for t in thresholds:\n",
    "    \n",
    "    # define the transform\n",
    "    transform = VarianceThreshold(threshold=t)\n",
    "    \n",
    "    # transform the input data\n",
    "    X_sel = transform.fit_transform(X)\n",
    "    \n",
    "    # determine the number of input features\n",
    "    n_features = X_sel.shape[1]\n",
    "    \n",
    "    # store the result\n",
    "    results.append(n_features)\n",
    "    \n",
    "    print('>Threshold=%.2f, Features=%d, #_cols_removed=%d' % (t, n_features,X.shape[1]-n_features)) "
   ]
  },
  {
   "cell_type": "markdown",
   "id": "c9c1e5af",
   "metadata": {},
   "source": [
    "We can see that the number of features in the dataset quickly drops from 48 in the unchanged data down to 35 with a threshold of 0.15. It later drops to 31 (18 columns deleted) with a threshold of 0.5. We can illustrate the relationship between the threshold and the number of features in the transformed dataset using a line plot. Even with a small threshold between 0.15 and 0.4, a large number of features are removed immediately."
   ]
  },
  {
   "cell_type": "code",
   "execution_count": 13,
   "id": "ebcb98de",
   "metadata": {},
   "outputs": [
    {
     "data": {
      "image/png": "[encoded data removed]",
      "text/plain": [
       "<Figure size 432x288 with 1 Axes>"
      ]
     },
     "metadata": {
      "needs_background": "light"
     },
     "output_type": "display_data"
    }
   ],
   "source": [
    "plt.plot(thresholds, results)\n",
    "plt.xlabel('Threshold',fontsize=14)\n",
    "plt.ylabel('Number of Features',fontsize=14)\n",
    "plt.title('Threshold v Number of Features', fontsize=14)\n",
    "plt.show()"
   ]
  },
  {
   "cell_type": "markdown",
   "id": "c6a0df67",
   "metadata": {},
   "source": [
    "<a id=\"duplicate\"></a>\n",
    "<h3 style=\"text-decoration:underline\">Identify & Remove Rows That Contain Duplicate Data</h3>\n",
    "\n",
    "Rows that have identical data are useless to the modeling process, if not dangerously misleading during model evaluation. Here, a duplicate row is a row where each value in each column for that row appears in identically the same order (same column values) in another row. Machine learning algorithms will perform better by identifying and removing rows with duplicate data. From an algorithm evaluation perspective, duplicate rows will result in misleading performance. "
   ]
  },
  {
   "cell_type": "code",
   "execution_count": 14,
   "id": "933b2314",
   "metadata": {},
   "outputs": [],
   "source": [
    "df_iris = pd.read_csv('./datasets/Data Cleaning/iris_flowers.csv', header=None)"
   ]
  },
  {
   "cell_type": "code",
   "execution_count": 15,
   "id": "273efbe0",
   "metadata": {
    "scrolled": true
   },
   "outputs": [
    {
     "data": {
      "text/plain": [
       "True"
      ]
     },
     "execution_count": 15,
     "metadata": {},
     "output_type": "execute_result"
    }
   ],
   "source": [
    "df_iris.duplicated().any()"
   ]
  },
  {
   "cell_type": "code",
   "execution_count": 16,
   "id": "76fea38f",
   "metadata": {},
   "outputs": [
    {
     "data": {
      "text/html": [
       "<div>\n",
       "<style scoped>\n",
       "    .dataframe tbody tr th:only-of-type {\n",
       "        vertical-align: middle;\n",
       "    }\n",
       "\n",
       "    .dataframe tbody tr th {\n",
       "        vertical-align: top;\n",
       "    }\n",
       "\n",
       "    .dataframe thead th {\n",
       "        text-align: right;\n",
       "    }\n",
       "</style>\n",
       "<table border=\"1\" class=\"dataframe\">\n",
       "  <thead>\n",
       "    <tr style=\"text-align: right;\">\n",
       "      <th></th>\n",
       "      <th>0</th>\n",
       "      <th>1</th>\n",
       "      <th>2</th>\n",
       "      <th>3</th>\n",
       "      <th>4</th>\n",
       "    </tr>\n",
       "  </thead>\n",
       "  <tbody>\n",
       "    <tr>\n",
       "      <th>34</th>\n",
       "      <td>4.9</td>\n",
       "      <td>3.1</td>\n",
       "      <td>1.5</td>\n",
       "      <td>0.1</td>\n",
       "      <td>Iris-setosa</td>\n",
       "    </tr>\n",
       "    <tr>\n",
       "      <th>37</th>\n",
       "      <td>4.9</td>\n",
       "      <td>3.1</td>\n",
       "      <td>1.5</td>\n",
       "      <td>0.1</td>\n",
       "      <td>Iris-setosa</td>\n",
       "    </tr>\n",
       "    <tr>\n",
       "      <th>142</th>\n",
       "      <td>5.8</td>\n",
       "      <td>2.7</td>\n",
       "      <td>5.1</td>\n",
       "      <td>1.9</td>\n",
       "      <td>Iris-virginica</td>\n",
       "    </tr>\n",
       "  </tbody>\n",
       "</table>\n",
       "</div>"
      ],
      "text/plain": [
       "       0    1    2    3               4\n",
       "34   4.9  3.1  1.5  0.1     Iris-setosa\n",
       "37   4.9  3.1  1.5  0.1     Iris-setosa\n",
       "142  5.8  2.7  5.1  1.9  Iris-virginica"
      ]
     },
     "execution_count": 16,
     "metadata": {},
     "output_type": "execute_result"
    }
   ],
   "source": [
    "df_iris[df_iris.duplicated()]"
   ]
  },
  {
   "cell_type": "markdown",
   "id": "8b55180f",
   "metadata": {},
   "source": [
    "Rows of duplicate data should probably be deleted from your dataset prior to modeling."
   ]
  },
  {
   "cell_type": "code",
   "execution_count": 17,
   "id": "7ac1ac1a",
   "metadata": {},
   "outputs": [
    {
     "name": "stdout",
     "output_type": "stream",
     "text": [
      "Original Shape: (150, 5)\n",
      "After removing duplicates: (147, 5)\n"
     ]
    }
   ],
   "source": [
    "print(f'Original Shape: {df_iris.shape}')\n",
    "\n",
    "# delete duplicate rows\n",
    "df_iris.drop_duplicates(inplace=True)\n",
    "print(f'After removing duplicates: {df_iris.shape}')"
   ]
  },
  {
   "cell_type": "markdown",
   "id": "0f23a8fe",
   "metadata": {},
   "source": [
    "<a id=\"outlier\"></a>\n",
    "<h1 align=\"center\">OUTLIER IDENTIFICATION AND REMOVAL</h1>\n",
    "\n",
    "When modeling, it is important to clean the data to ensure the observations best represent the problem. Sometimes data can contain extreme values that are outside the range of what is expected and unlike the other data. These are called **outliers** and often machine learning modeling and model performance in general can be improved by understanding and even removing these outlier values.\n",
    "\n",
    "<a id=\"what\"></a>\n",
    "<h3 style=\"text-decoration:underline\">What are Outliers?</h3>\n",
    "\n",
    "An outlier is an observation that is unlike the other observations. They are rare, distinct, or do not fit in some way. Outliers can have many causes, such as:\n",
    "- Measurement or input error.\n",
    "- Data corruption.\n",
    "- True outlier observation.\n",
    "\n",
    "There is no precise way to define and identify outliers in general because of the specifics of each dataset. Instead, a domain expert should interpret the raw observations and decide whether a value is an outlier or not. Nevertheless, we can use statistical methods to identify observations that appear to be rare or unlikely given the available data. This does not mean that the values identified are outliers and should be removed, but rather shed light on rare events that may require a second look.\n",
    ">A good tip is to consider plotting the identified outlier values, perhaps in the context of non-outlier values to see if there are any systematic relationships or pattern to the outliers. If there is, perhaps they are not outliers and can be explained, or perhaps the outliers themselves can be identified more systematically."
   ]
  },
  {
   "cell_type": "markdown",
   "id": "f5a6e71b",
   "metadata": {},
   "source": [
    "<a id=\"std\"></a>\n",
    "<h3 style=\"text-decoration:underline\">Standard Deviation Method</h3>\n",
    "\n",
    "Let’s define a dataset we can use to test the methods. We will generate a population of 10,000 random numbers drawn from a Gaussian distribution with a mean of 50 and a standard deviation of 5. Numbers drawn from a Gaussian distribution will have outliers. That is, by virtue of the distribution itself, there will be a few values that will be a long way from the mean, rare values that we can identify as outliers."
   ]
  },
  {
   "cell_type": "code",
   "execution_count": 18,
   "id": "58e19399",
   "metadata": {},
   "outputs": [
    {
     "name": "stdout",
     "output_type": "stream",
     "text": [
      "mean=50.049 stdv=4.994\n"
     ]
    }
   ],
   "source": [
    "# seed the random number generator\n",
    "np.random.seed(1)\n",
    "# generate univariate observations\n",
    "data = 5 * np.random.randn(10000) + 50\n",
    "# summarize\n",
    "print('mean=%.3f stdv=%.3f' % (np.mean(data), np.std(data)))"
   ]
  },
  {
   "cell_type": "markdown",
   "id": "978ffde9",
   "metadata": {},
   "source": [
    "If we know that the distribution of values in the sample is Gaussian or Gaussian-like, we can use the standard deviation of the sample as a cut-off for identifying outliers. The Gaussian distribution has the property that the standard deviation from the mean can be used to reliably summarize the percentage of values in the sample. \n",
    "- 1 Standard Deviation from the Mean: 68 percent.\n",
    "- 2 Standard Deviations from the Mean: 95 percent.\n",
    "- 3 Standard Deviations from the Mean: 99.7 percent.\n",
    "\n",
    "So, if the mean is 50 and the standard deviation is 5, then all data in the sample between 45 and 55 will account for about 68 percent of the data sample. \n",
    "\n",
    "A value that falls outside of 3 standard deviations is part of the distribution, but it is an unlikely or rare event. Three standard deviations from the mean is a common cut-off in practice for identifying outliers in a Gaussian or Gaussian-like distribution. For smaller samples of data, perhaps a value of 2 standard deviations (95 percent) can be used, and for larger samples, perhaps a value of 4 standard deviations (99.9 percent) can be used."
   ]
  },
  {
   "cell_type": "code",
   "execution_count": 19,
   "id": "db36785e",
   "metadata": {},
   "outputs": [
    {
     "name": "stdout",
     "output_type": "stream",
     "text": [
      "Identified outliers: 29\n",
      "Non-outlier observations: 9971\n"
     ]
    }
   ],
   "source": [
    "# calculate summary statistics\n",
    "data_mean, data_std = np.mean(data), np.std(data)\n",
    "\n",
    "# define outliers\n",
    "cut_off = data_std * 3\n",
    "lower, upper = data_mean - cut_off, data_mean + cut_off\n",
    "\n",
    "# identify outliers\n",
    "outliers = [x for x in data if x < lower or x > upper]\n",
    "print('Identified outliers: %d' % len(outliers))\n",
    "\n",
    "# remove outliers\n",
    "outliers_removed = [x for x in data if x >= lower and x <= upper]\n",
    "print('Non-outlier observations: %d' % len(outliers_removed))"
   ]
  },
  {
   "cell_type": "markdown",
   "id": "58dba4b6",
   "metadata": {},
   "source": [
    "You can use the same approach if you have multivariate data, e.g. data with multiple variables, each with a different Gaussian distribution. You can imagine bounds in two dimensions that would define an ellipse if you have two variables. Observations that fall outside of the ellipse would be considered outliers. In three dimensions, this would be an ellipsoid, and so on into higher dimensions. Alternately, if you knew more about the domain, perhaps an outlier may be identified by exceeding the limits on one or a subset of the data dimensions."
   ]
  },
  {
   "cell_type": "markdown",
   "id": "a140e9a8",
   "metadata": {},
   "source": [
    "<a id=\"iqr\"></a>\n",
    "<h3 style=\"text-decoration:underline\">Interquartile Range Method</h3>\n",
    "\n",
    "Not all data is normal or normal enough to treat it as being drawn from a Gaussian distribution. A good statistic for summarizing a non-Gaussian distribution sample of data is the Interquartile Range, or IQR for short. The IQR is calculated as the difference between the 75th and the 25th percentiles of the data and defines the box in a box and whisker plot. Remember that percentiles can be calculated by sorting the observations and selecting values at specific indices. The 50th percentile is the middle value, or the average of the two middle values for an even number of examples. We refer to the percentiles as quartiles (quart meaning 4) because the data is divided into four groups via the 25th, 50th and 75th values. The IQR defines the middle 50 percent of the data, or the body of the data. \n",
    "\n",
    "The IQR can be used to identify outliers by defining limits on the sample values that are a factor k of the IQR below the 25th percentile or above the 75th percentile. The common value for the factor k is the value 1.5. A factor k of 3 or more can be used to identify values that are extreme outliers or far outs when described in the context of box and whisker plots. On a box and whisker plot, these limits are drawn as fences on the whiskers (or the lines) that are drawn from the box. Values that fall outside of these values are drawn as dots. We can calculate the percentiles of a dataset using the percentile() NumPy function that takes the dataset and specification of the desired percentile. The IQR can then be calculated as the difference between the 75th and 25th percentiles."
   ]
  },
  {
   "cell_type": "code",
   "execution_count": 20,
   "id": "b730ea63",
   "metadata": {},
   "outputs": [
    {
     "name": "stdout",
     "output_type": "stream",
     "text": [
      "Percentiles: 25th=46.685, 75th=53.359, IQR=6.674\n",
      "Identified outliers: 81\n",
      "Non-outlier observations: 9919\n"
     ]
    }
   ],
   "source": [
    "# calculate interquartile range\n",
    "q25, q75 = np.percentile(data, 25), np.percentile(data, 75)\n",
    "iqr = q75 - q25\n",
    "print('Percentiles: 25th=%.3f, 75th=%.3f, IQR=%.3f' % (q25, q75, iqr))\n",
    "\n",
    "# calculate the outlier cutoff\n",
    "cut_off = iqr * 1.5\n",
    "lower, upper = q25 - cut_off, q75 + cut_off\n",
    "\n",
    "# identify outliers\n",
    "outliers = [x for x in data if x < lower or x > upper]\n",
    "print('Identified outliers: %d' % len(outliers))\n",
    "\n",
    "# remove outliers\n",
    "outliers_removed = [x for x in data if x >= lower and x <= upper]\n",
    "print('Non-outlier observations: %d' % len(outliers_removed))"
   ]
  },
  {
   "cell_type": "markdown",
   "id": "9511b443",
   "metadata": {},
   "source": [
    "The approach can be used for multivariate data by calculating the limits on each variable in the dataset in turn, and taking outliers as observations that fall outside of the rectangle or hyper-rectangle.\n",
    "\n",
    "<a id=\"auto\"></a>\n",
    "<h3 style=\"text-decoration:underline\">Automatic Outlier Detection</h3>\n",
    "\n",
    "In machine learning, an approach to tackling the problem of outlier detection is one-class classification. A one-class classifier aims at capturing characteristics of training instances, in order to be able to distinguish between them and potential outliers to appear.\n",
    "\n",
    "A simple approach to identifying outliers is to locate those examples that are far from the other examples in the multi-dimensional feature space. This can work well for feature spaces with low dimensionality (few features), although it can become less reliable as the number of features is increased, referred to as the curse of dimensionality. The local outlier factor, or LOF for short, is a technique that attempts to harness the idea of nearest neighbors for outlier detection. Each example is assigned a scoring of how isolated or how likely it is to be outliers based on the size of its local neighborhood. Those examples with the largest score are more likely to be outliers. The scikit-learn library provides an implementation of this approach in the `LocalOutlierFactor` class."
   ]
  },
  {
   "cell_type": "code",
   "execution_count": 21,
   "id": "0d1866cd",
   "metadata": {},
   "outputs": [
    {
     "name": "stdout",
     "output_type": "stream",
     "text": [
      "(506, 13) (506,)\n",
      "(339, 13) (167, 13) (339,) (167,)\n"
     ]
    }
   ],
   "source": [
    "df = pd.read_csv('./datasets/Data Cleaning/boston_housing.csv',\n",
    "                 names=['CRIM', 'ZN', 'INDUS', 'CHAS', 'NOX', 'RM', 'AGE',\n",
    "                        'DIS','RAD','TAX', 'PTRATIO', 'B', 'LSTAT','MEDV'])\n",
    "\n",
    "X = df.drop(columns=['MEDV'])\n",
    "y = df['MEDV']\n",
    "\n",
    "# summarize the shape of the dataset\n",
    "print(X.shape, y.shape)\n",
    "\n",
    "# split into train and test sets\n",
    "X_train, X_test, y_train, y_test = train_test_split(X, y, \n",
    "                                                    test_size=0.33, \n",
    "                                                    random_state=1)\n",
    "\n",
    "# summarize the shape of the train and test sets\n",
    "print(X_train.shape, X_test.shape, y_train.shape, y_test.shape)"
   ]
  },
  {
   "cell_type": "code",
   "execution_count": 22,
   "id": "89306697",
   "metadata": {},
   "outputs": [
    {
     "data": {
      "text/html": [
       "<div>\n",
       "<style scoped>\n",
       "    .dataframe tbody tr th:only-of-type {\n",
       "        vertical-align: middle;\n",
       "    }\n",
       "\n",
       "    .dataframe tbody tr th {\n",
       "        vertical-align: top;\n",
       "    }\n",
       "\n",
       "    .dataframe thead th {\n",
       "        text-align: right;\n",
       "    }\n",
       "</style>\n",
       "<table border=\"1\" class=\"dataframe\">\n",
       "  <thead>\n",
       "    <tr style=\"text-align: right;\">\n",
       "      <th></th>\n",
       "      <th>CRIM</th>\n",
       "      <th>ZN</th>\n",
       "      <th>INDUS</th>\n",
       "      <th>CHAS</th>\n",
       "      <th>NOX</th>\n",
       "      <th>RM</th>\n",
       "      <th>AGE</th>\n",
       "      <th>DIS</th>\n",
       "      <th>RAD</th>\n",
       "      <th>TAX</th>\n",
       "      <th>PTRATIO</th>\n",
       "      <th>B</th>\n",
       "      <th>LSTAT</th>\n",
       "      <th>MEDV</th>\n",
       "    </tr>\n",
       "  </thead>\n",
       "  <tbody>\n",
       "    <tr>\n",
       "      <th>0</th>\n",
       "      <td>0.01</td>\n",
       "      <td>18.0</td>\n",
       "      <td>2.31</td>\n",
       "      <td>0</td>\n",
       "      <td>0.54</td>\n",
       "      <td>6.58</td>\n",
       "      <td>65.2</td>\n",
       "      <td>4.09</td>\n",
       "      <td>1</td>\n",
       "      <td>296.0</td>\n",
       "      <td>15.3</td>\n",
       "      <td>396.9</td>\n",
       "      <td>4.98</td>\n",
       "      <td>24.0</td>\n",
       "    </tr>\n",
       "    <tr>\n",
       "      <th>1</th>\n",
       "      <td>0.03</td>\n",
       "      <td>0.0</td>\n",
       "      <td>7.07</td>\n",
       "      <td>0</td>\n",
       "      <td>0.47</td>\n",
       "      <td>6.42</td>\n",
       "      <td>78.9</td>\n",
       "      <td>4.97</td>\n",
       "      <td>2</td>\n",
       "      <td>242.0</td>\n",
       "      <td>17.8</td>\n",
       "      <td>396.9</td>\n",
       "      <td>9.14</td>\n",
       "      <td>21.6</td>\n",
       "    </tr>\n",
       "  </tbody>\n",
       "</table>\n",
       "</div>"
      ],
      "text/plain": [
       "   CRIM    ZN  INDUS  CHAS   NOX    RM   AGE   DIS  RAD    TAX  PTRATIO  \\\n",
       "0  0.01  18.0   2.31     0  0.54  6.58  65.2  4.09    1  296.0     15.3   \n",
       "1  0.03   0.0   7.07     0  0.47  6.42  78.9  4.97    2  242.0     17.8   \n",
       "\n",
       "       B  LSTAT  MEDV  \n",
       "0  396.9   4.98  24.0  \n",
       "1  396.9   9.14  21.6  "
      ]
     },
     "execution_count": 22,
     "metadata": {},
     "output_type": "execute_result"
    }
   ],
   "source": [
    "df.head(2).round(2)"
   ]
  },
  {
   "cell_type": "markdown",
   "id": "8405989d",
   "metadata": {},
   "source": [
    "It is a regression predictive modeling problem, meaning that we will be predicting a numeric value. All input variables are also numeric. In this case, we will fit a linear regression algorithm and evaluate model performance by training the model on the test dataset and making a prediction on the test data and evaluate the predictions using the mean absolute error (MAE). \n",
    "\n",
    "We can also try removing outliers from the training dataset. The expectation is that the outliers are causing the linear regression model to learn a bias or skewed understanding of the problem, and that removing these outliers from the training set will allow a more effective model to be learned. We can achieve this by defining the LocalOutlierFactor model and using it to make a prediction on the training dataset, marking each row in the training dataset as normal (1) or an outlier (-1). We will use the default hyperparameters for the outlier detection model, although it is a good idea to tune the configuration to the specifics of the dataset."
   ]
  },
  {
   "cell_type": "code",
   "execution_count": 23,
   "id": "4ccd8a0b",
   "metadata": {},
   "outputs": [
    {
     "name": "stdout",
     "output_type": "stream",
     "text": [
      "(339, 13) (339,)\n",
      "The MAE with the full dataset: 3.417\n"
     ]
    }
   ],
   "source": [
    "# fit the model\n",
    "full_model = LinearRegression()\n",
    "full_model.fit(X_train, y_train)\n",
    "print(X_train.shape, y_train.shape)\n",
    "\n",
    "# evaluate the model\n",
    "yhat = full_model.predict(X_test)\n",
    "\n",
    "# evaluate predictions\n",
    "mae = mean_absolute_error(y_test, yhat)\n",
    "print('The MAE with the full dataset: %.3f' % mae)"
   ]
  },
  {
   "cell_type": "code",
   "execution_count": 24,
   "id": "0737ab3d",
   "metadata": {},
   "outputs": [],
   "source": [
    "from sklearn.neighbors import LocalOutlierFactor"
   ]
  },
  {
   "cell_type": "code",
   "execution_count": 25,
   "id": "b985a763",
   "metadata": {
    "scrolled": true
   },
   "outputs": [
    {
     "name": "stdout",
     "output_type": "stream",
     "text": [
      "(305, 13) (305,)\n",
      "The MAE after removing the outliers: 3.356\n"
     ]
    }
   ],
   "source": [
    "# identify outliers in the training dataset\n",
    "lof = LocalOutlierFactor()\n",
    "yhat_new = lof.fit_predict(X_train)\n",
    "\n",
    "# select all rows that are not outliers\n",
    "mask = (yhat_new != -1)\n",
    "X_train_out, y_train_out = X_train[mask], y_train[mask]\n",
    "print(X_train_out.shape, y_train_out.shape)\n",
    "\n",
    "# fit the model\n",
    "model_out = LinearRegression()\n",
    "model_out.fit(X_train_out, y_train_out)\n",
    "\n",
    "# evaluate the model\n",
    "yhat_out = model_out.predict(X_test)\n",
    "\n",
    "# evaluate predictions\n",
    "mae = mean_absolute_error(y_test, yhat_out)\n",
    "print('The MAE after removing the outliers: %.3f' % mae)"
   ]
  },
  {
   "cell_type": "markdown",
   "id": "05365644",
   "metadata": {},
   "source": [
    "Firstly, we can see that the number of examples in the training dataset has been reduced from 339 to 305, meaning 34 rows containing outliers were identified and deleted. We can also see a reduction in MAE from about 3.417 by a model fit on the entire training dataset, to about 3.356 on a model fit on the dataset with outliers removed.\n",
    "\n",
    "The Scikit-Learn library provides other outlier detection algorithms that can be used in the same way such as:\n",
    "- `sklearn.ensemble.IsolationForest`\n",
    "- `sklearn.covariance.EllipticEnvelope` - An object for detecting outliers in a Gaussian distributed dataset.\n",
    "- `sklearn.svm.OneClassSVM` - Unsupervised Outlier Detection. Estimate the support of a high-dimensional distribution. The implementation is based on libsvm.\n",
    "\n",
    "https://scikit-learn.org/stable/modules/outlier_detection.html#"
   ]
  },
  {
   "cell_type": "markdown",
   "id": "48f16e01",
   "metadata": {},
   "source": [
    "<a id=\"missing\"></a>\n",
    "<h1 align=\"center\">HOW TO HANDLE MISSING DATA</h1>\n",
    "\n",
    "Most Real-world data has missing values, with the likelihood increasing with the size of the dataset. Handling missing data is important as many machine learning algorithms do not support data with missing values. As such, it is good practice to identify and replace missing values for each column in the input data prior to modeling. This is called ***missing data imputation*** (or ***imputing***).  "
   ]
  },
  {
   "cell_type": "code",
   "execution_count": 26,
   "id": "8a8b7c57",
   "metadata": {},
   "outputs": [
    {
     "data": {
      "text/html": [
       "<div>\n",
       "<style scoped>\n",
       "    .dataframe tbody tr th:only-of-type {\n",
       "        vertical-align: middle;\n",
       "    }\n",
       "\n",
       "    .dataframe tbody tr th {\n",
       "        vertical-align: top;\n",
       "    }\n",
       "\n",
       "    .dataframe thead th {\n",
       "        text-align: right;\n",
       "    }\n",
       "</style>\n",
       "<table border=\"1\" class=\"dataframe\">\n",
       "  <thead>\n",
       "    <tr style=\"text-align: right;\">\n",
       "      <th></th>\n",
       "      <th>pregnant</th>\n",
       "      <th>glucose_conc</th>\n",
       "      <th>blood_press</th>\n",
       "      <th>tricep_thick</th>\n",
       "      <th>serum_ins</th>\n",
       "      <th>bmi</th>\n",
       "      <th>pedigree</th>\n",
       "      <th>age</th>\n",
       "    </tr>\n",
       "  </thead>\n",
       "  <tbody>\n",
       "    <tr>\n",
       "      <th>count</th>\n",
       "      <td>768.00</td>\n",
       "      <td>768.00</td>\n",
       "      <td>768.00</td>\n",
       "      <td>768.00</td>\n",
       "      <td>768.00</td>\n",
       "      <td>768.00</td>\n",
       "      <td>768.00</td>\n",
       "      <td>768.00</td>\n",
       "    </tr>\n",
       "    <tr>\n",
       "      <th>mean</th>\n",
       "      <td>3.85</td>\n",
       "      <td>120.89</td>\n",
       "      <td>69.11</td>\n",
       "      <td>20.54</td>\n",
       "      <td>79.80</td>\n",
       "      <td>31.99</td>\n",
       "      <td>0.47</td>\n",
       "      <td>33.24</td>\n",
       "    </tr>\n",
       "    <tr>\n",
       "      <th>std</th>\n",
       "      <td>3.37</td>\n",
       "      <td>31.97</td>\n",
       "      <td>19.36</td>\n",
       "      <td>15.95</td>\n",
       "      <td>115.24</td>\n",
       "      <td>7.88</td>\n",
       "      <td>0.33</td>\n",
       "      <td>11.76</td>\n",
       "    </tr>\n",
       "    <tr>\n",
       "      <th>min</th>\n",
       "      <td>0.00</td>\n",
       "      <td>0.00</td>\n",
       "      <td>0.00</td>\n",
       "      <td>0.00</td>\n",
       "      <td>0.00</td>\n",
       "      <td>0.00</td>\n",
       "      <td>0.08</td>\n",
       "      <td>21.00</td>\n",
       "    </tr>\n",
       "    <tr>\n",
       "      <th>25%</th>\n",
       "      <td>1.00</td>\n",
       "      <td>99.00</td>\n",
       "      <td>62.00</td>\n",
       "      <td>0.00</td>\n",
       "      <td>0.00</td>\n",
       "      <td>27.30</td>\n",
       "      <td>0.24</td>\n",
       "      <td>24.00</td>\n",
       "    </tr>\n",
       "    <tr>\n",
       "      <th>50%</th>\n",
       "      <td>3.00</td>\n",
       "      <td>117.00</td>\n",
       "      <td>72.00</td>\n",
       "      <td>23.00</td>\n",
       "      <td>30.50</td>\n",
       "      <td>32.00</td>\n",
       "      <td>0.37</td>\n",
       "      <td>29.00</td>\n",
       "    </tr>\n",
       "    <tr>\n",
       "      <th>75%</th>\n",
       "      <td>6.00</td>\n",
       "      <td>140.25</td>\n",
       "      <td>80.00</td>\n",
       "      <td>32.00</td>\n",
       "      <td>127.25</td>\n",
       "      <td>36.60</td>\n",
       "      <td>0.63</td>\n",
       "      <td>41.00</td>\n",
       "    </tr>\n",
       "    <tr>\n",
       "      <th>max</th>\n",
       "      <td>17.00</td>\n",
       "      <td>199.00</td>\n",
       "      <td>122.00</td>\n",
       "      <td>99.00</td>\n",
       "      <td>846.00</td>\n",
       "      <td>67.10</td>\n",
       "      <td>2.42</td>\n",
       "      <td>81.00</td>\n",
       "    </tr>\n",
       "  </tbody>\n",
       "</table>\n",
       "</div>"
      ],
      "text/plain": [
       "       pregnant  glucose_conc  blood_press  tricep_thick  serum_ins     bmi  \\\n",
       "count    768.00        768.00       768.00        768.00     768.00  768.00   \n",
       "mean       3.85        120.89        69.11         20.54      79.80   31.99   \n",
       "std        3.37         31.97        19.36         15.95     115.24    7.88   \n",
       "min        0.00          0.00         0.00          0.00       0.00    0.00   \n",
       "25%        1.00         99.00        62.00          0.00       0.00   27.30   \n",
       "50%        3.00        117.00        72.00         23.00      30.50   32.00   \n",
       "75%        6.00        140.25        80.00         32.00     127.25   36.60   \n",
       "max       17.00        199.00       122.00         99.00     846.00   67.10   \n",
       "\n",
       "       pedigree     age  \n",
       "count    768.00  768.00  \n",
       "mean       0.47   33.24  \n",
       "std        0.33   11.76  \n",
       "min        0.08   21.00  \n",
       "25%        0.24   24.00  \n",
       "50%        0.37   29.00  \n",
       "75%        0.63   41.00  \n",
       "max        2.42   81.00  "
      ]
     },
     "execution_count": 26,
     "metadata": {},
     "output_type": "execute_result"
    }
   ],
   "source": [
    "df_diab = pd.read_csv('./datasets/Data Cleaning/Diabetes.csv',header=None)\n",
    "df_diab.columns = ['pregnant','glucose_conc','blood_press','tricep_thick',\n",
    "                  'serum_ins','bmi','pedigree','age','target']\n",
    "\n",
    "df_diab.drop('target',axis=1).describe().round(2)"
   ]
  },
  {
   "cell_type": "markdown",
   "id": "66aeab91",
   "metadata": {},
   "source": [
    "<a id=\"identify\"></a>\n",
    "<h3 style=\"text-decoration:underline\">Identify & Mark Missing Values</h3>\n",
    "\n",
    "Missing values are identified within rows of data where one or more values or columns in that row are not present. The values may be missing completely or they may be marked with a special character or value. No matter how they appear, knowing what to expect and checking to make sure the data matches that expectation will reduce future problems.<br>\n",
    ">**Missing values are frequently indicated by out-of-range entries; perhaps a negative number (e.g., -1) in a numeric field that is normally only positive, or a 0 in a numeric field that can never normally be 0.**\n",
    ">>**Values could be missing for many reasons, often specific to the problem domain, and might include reasons such as corrupt measurements or data unavailability.**\n",
    "\n",
    "\n",
    "From the descriptive statistics above, We can see that there are columns that have a minimum value of zero (0). On most of these columns, a value of zero does not make sense and indicates an invalid or missing value. Specifically, the following columns have an invalid zero minimum value: glucose_conc, blood_press, tricep_thick, serum_ins and bmi. We can corroborate this by the definition of those columns and the domain knowledge that a zero value is invalid for those measures, e.g. a zero for body mass index or blood pressure is invalid.\n",
    ">**In Python, specifically Pandas, NumPy and Scikit-Learn, we mark missing values as NaN.** Values with a NaN value are ignored from operations like sum, count, etc."
   ]
  },
  {
   "cell_type": "code",
   "execution_count": 27,
   "id": "8c7c7992",
   "metadata": {},
   "outputs": [],
   "source": [
    "cols_with_zeros = ['glucose_conc', 'blood_press', 'tricep_thick',\n",
    "                   'serum_ins', 'bmi']\n",
    "\n",
    "# Using pandas .where\n",
    "# df_diab[cols_with_zeros].where(df_diab[cols_with_zeros]!=0,np.nan)\n",
    "# df_diab[cols_with_zeros].where(df_diab[cols_with_zeros]!=0)\n",
    "\n",
    "\n",
    "# Using pandas .mask\n",
    "# df_diab[cols_with_zeros].mask(df_diab[cols_with_zeros]==0,np.nan)\n",
    "# df_diab[cols_with_zeros].mask(df_diab[cols_with_zeros]==0)\n",
    "\n",
    "# Using pandas .replace\n",
    "# df_diab[cols_with_zeros] = df_diab[cols_with_zeros].replace(0,np.nan)\n",
    "df_diab[cols_with_zeros] = df_diab[cols_with_zeros].replace({0:np.nan})"
   ]
  },
  {
   "cell_type": "markdown",
   "id": "5b4041a4",
   "metadata": {},
   "source": [
    "Now that the missing values have been replaced by NaN, detecting missing values is easier via Pandas. \n",
    "- `isnull()`|`isna()` - detects missing values\n",
    "- `notnull()`|`notna()` - detects non-missing values\n",
    "- `count()` - counts the non-NA cells for each column or row"
   ]
  },
  {
   "cell_type": "code",
   "execution_count": 28,
   "id": "3bc9e3b8",
   "metadata": {},
   "outputs": [
    {
     "data": {
      "text/plain": [
       "glucose_conc      5\n",
       "blood_press      35\n",
       "tricep_thick    227\n",
       "serum_ins       374\n",
       "bmi              11\n",
       "dtype: int64"
      ]
     },
     "execution_count": 28,
     "metadata": {},
     "output_type": "execute_result"
    }
   ],
   "source": [
    "# As a series\n",
    "null_count = df_diab.isnull().sum()\n",
    "\n",
    "null_count[null_count>0]"
   ]
  },
  {
   "cell_type": "code",
   "execution_count": 29,
   "id": "4f3f660e",
   "metadata": {},
   "outputs": [
    {
     "data": {
      "text/html": [
       "<div>\n",
       "<style scoped>\n",
       "    .dataframe tbody tr th:only-of-type {\n",
       "        vertical-align: middle;\n",
       "    }\n",
       "\n",
       "    .dataframe tbody tr th {\n",
       "        vertical-align: top;\n",
       "    }\n",
       "\n",
       "    .dataframe thead th {\n",
       "        text-align: right;\n",
       "    }\n",
       "</style>\n",
       "<table border=\"1\" class=\"dataframe\">\n",
       "  <thead>\n",
       "    <tr style=\"text-align: right;\">\n",
       "      <th></th>\n",
       "      <th>Null_Count</th>\n",
       "    </tr>\n",
       "    <tr>\n",
       "      <th>Column</th>\n",
       "      <th></th>\n",
       "    </tr>\n",
       "  </thead>\n",
       "  <tbody>\n",
       "    <tr>\n",
       "      <th>glucose_conc</th>\n",
       "      <td>5</td>\n",
       "    </tr>\n",
       "    <tr>\n",
       "      <th>blood_press</th>\n",
       "      <td>35</td>\n",
       "    </tr>\n",
       "    <tr>\n",
       "      <th>tricep_thick</th>\n",
       "      <td>227</td>\n",
       "    </tr>\n",
       "    <tr>\n",
       "      <th>serum_ins</th>\n",
       "      <td>374</td>\n",
       "    </tr>\n",
       "    <tr>\n",
       "      <th>bmi</th>\n",
       "      <td>11</td>\n",
       "    </tr>\n",
       "  </tbody>\n",
       "</table>\n",
       "</div>"
      ],
      "text/plain": [
       "              Null_Count\n",
       "Column                  \n",
       "glucose_conc           5\n",
       "blood_press           35\n",
       "tricep_thick         227\n",
       "serum_ins            374\n",
       "bmi                   11"
      ]
     },
     "execution_count": 29,
     "metadata": {},
     "output_type": "execute_result"
    }
   ],
   "source": [
    "# As a dataframe\n",
    "\n",
    "null_df = pd.DataFrame(df_diab.isna().sum(), columns=['Null_Count'])\n",
    "null_df.index.name = 'Column'\n",
    "# null_df.sort_values(['Null_Count'], ascending=False)\n",
    "null_df[null_df['Null_Count']>0]"
   ]
  },
  {
   "cell_type": "markdown",
   "id": "ff164483",
   "metadata": {},
   "source": [
    "We can see that columns at index 1, 2 and 5 have just a few zero values, whereas columns 3 and 4 show a lot more, nearly half of the rows. This highlights that different missing value strategies may be needed for different columns, e.g. to ensure that there are still a sufficient number of records left to train a predictive model.\n",
    "\n",
    "There are also many different visualizations for missing values."
   ]
  },
  {
   "cell_type": "code",
   "execution_count": 30,
   "id": "0aa6681e",
   "metadata": {},
   "outputs": [
    {
     "data": {
      "text/plain": [
       "<AxesSubplot:>"
      ]
     },
     "execution_count": 30,
     "metadata": {},
     "output_type": "execute_result"
    },
    {
     "data": {
      "image/png": "[encoded data removed]",
      "text/plain": [
       "<Figure size 1440x864 with 2 Axes>"
      ]
     },
     "metadata": {
      "needs_background": "light"
     },
     "output_type": "display_data"
    }
   ],
   "source": [
    "# sns.heatmap(df_diab.isnull(),cbar=False,cmap='viridis')\n",
    "\n",
    "# msno.bar(df_diab)\n",
    "# msno.matrix(df_diab)\n",
    "msno.heatmap(df_diab)"
   ]
  },
  {
   "cell_type": "markdown",
   "id": "92dcb82d",
   "metadata": {},
   "source": [
    "The heatmap is used to identify correlations of the nullity between each of the different columns. In other words, it can be used to identify if there is a relationship in the presence of null values between each of the columns.\n",
    "- Values close to positive 1 indicate that the presence of null values in one column is correlated with the presence of null values in another column.\n",
    "- Values close to negative 1 indicate that the presence of null values in one column is anti-correlated with the presence of null values in another column. In other words, when null values are present in one column, there are data values present in the other column, and vice versa.\n",
    "- Values close to 0, indicate there is little to no relationship between the presence of null values in one column compared to another."
   ]
  },
  {
   "cell_type": "code",
   "execution_count": 31,
   "id": "d5084768",
   "metadata": {},
   "outputs": [
    {
     "data": {
      "text/plain": [
       "<AxesSubplot:>"
      ]
     },
     "execution_count": 31,
     "metadata": {},
     "output_type": "execute_result"
    },
    {
     "data": {
      "image/png": "[encoded data removed]",
      "text/plain": [
       "<Figure size 1800x720 with 1 Axes>"
      ]
     },
     "metadata": {
      "needs_background": "light"
     },
     "output_type": "display_data"
    }
   ],
   "source": [
    "msno.dendrogram(df_diab)"
   ]
  },
  {
   "cell_type": "markdown",
   "id": "e3a0eaf2",
   "metadata": {},
   "source": [
    "The dendrogram plot provides a tree-like graph generated through hierarchical clustering and groups together columns that have strong correlations in nullity. If a number of columns are grouped together at level zero, then the presence of nulls in one of those columns is directly related to the presence or absence of nulls in the others columns. The more separated the columns in the tree, the less likely the null values can be correlated between the columns."
   ]
  },
  {
   "cell_type": "markdown",
   "id": "9cf692d3",
   "metadata": {},
   "source": [
    "Finding missing data is the easy part! Determining what to do next is more complicated. Typically, we are most interested in knowing why we are missing data. Once we know what 'type of missingness' we have (the source of missing data), we can proceed effectively. How we fill in data depends largely on why it is missing (types of missingness) and what sampling we have available to us. The most common options are:\n",
    "- **Delete missing data altogether**\n",
    "- **Fill in missing data**\n",
    "- **Collect more data:**"
   ]
  },
  {
   "cell_type": "markdown",
   "id": "dba23d43",
   "metadata": {},
   "source": [
    "<a id=\"remove\"></a>\n",
    "<h3><ins>Remove Rows With Missing Values</ins></h3>\n",
    "\n",
    "The simplest strategy for handling missing data is to remove records that contain a missing value. This is as simple as using Pandas `dropna` function along with the axis argument. By default, axis=0, i.e., along row, which means that if any value within a row is NA then the whole row is excluded.\n",
    ">**Though not always recommended, it is okay to drop missing rows if less than 5%.**"
   ]
  },
  {
   "cell_type": "code",
   "execution_count": 32,
   "id": "19447124",
   "metadata": {},
   "outputs": [
    {
     "data": {
      "text/plain": [
       "(768, 9)"
      ]
     },
     "execution_count": 32,
     "metadata": {},
     "output_type": "execute_result"
    }
   ],
   "source": [
    "# original shape including missing values\n",
    "\n",
    "df_diab.shape"
   ]
  },
  {
   "cell_type": "code",
   "execution_count": 33,
   "id": "fb36bd1e",
   "metadata": {},
   "outputs": [
    {
     "data": {
      "text/plain": [
       "(392, 9)"
      ]
     },
     "execution_count": 33,
     "metadata": {},
     "output_type": "execute_result"
    }
   ],
   "source": [
    "# new shape after removing all rows with missing values in them\n",
    "\n",
    "df_diab.dropna().shape"
   ]
  },
  {
   "cell_type": "code",
   "execution_count": 34,
   "id": "c8640dc1",
   "metadata": {},
   "outputs": [
    {
     "name": "stdout",
     "output_type": "stream",
     "text": [
      "Accuracy: 0.781\n"
     ]
    }
   ],
   "source": [
    "df_diab.dropna(inplace=True)\n",
    "X = df_diab.drop(columns=['target'])\n",
    "y = df_diab['target']\n",
    "\n",
    "# define the model\n",
    "model = LinearDiscriminantAnalysis()\n",
    "\n",
    "# define the model evaluation procedure\n",
    "cv = KFold(n_splits=3, shuffle=True, random_state=1)\n",
    "\n",
    "# evaluate the model\n",
    "result = cross_val_score(model, X, y, cv=cv, scoring='accuracy')\n",
    "\n",
    "# report the mean performance\n",
    "print('Accuracy: %.3f' % np.mean(result))"
   ]
  },
  {
   "cell_type": "markdown",
   "id": "01820385",
   "metadata": {},
   "source": [
    "Removing rows with missing values can be too limiting on some predictive modeling problems. An alternative is to **impute missing values**."
   ]
  },
  {
   "cell_type": "markdown",
   "id": "0d482f2d",
   "metadata": {},
   "source": [
    "<a id=\"impute\"></a>\n",
    "<h3><ins>How to Use Statistical Imputation</ins></h3>\n",
    "\n",
    "A simple and popular approach to data imputation involves using statistical methods to estimate a value for a column from those values that are present, then replace all missing values in the column with the calculated statistic. It is simple because statistics are fast to calculate and it is popular because it often proves very effective. Some common statistics are:\n",
    "- mean\n",
    "- median\n",
    "- mode\n",
    "- constant"
   ]
  },
  {
   "cell_type": "code",
   "execution_count": 35,
   "id": "42423fec",
   "metadata": {
    "scrolled": true
   },
   "outputs": [
    {
     "data": {
      "text/html": [
       "<div>\n",
       "<style scoped>\n",
       "    .dataframe tbody tr th:only-of-type {\n",
       "        vertical-align: middle;\n",
       "    }\n",
       "\n",
       "    .dataframe tbody tr th {\n",
       "        vertical-align: top;\n",
       "    }\n",
       "\n",
       "    .dataframe thead th {\n",
       "        text-align: right;\n",
       "    }\n",
       "</style>\n",
       "<table border=\"1\" class=\"dataframe\">\n",
       "  <thead>\n",
       "    <tr style=\"text-align: right;\">\n",
       "      <th></th>\n",
       "      <th>0</th>\n",
       "      <th>1</th>\n",
       "      <th>2</th>\n",
       "      <th>3</th>\n",
       "      <th>4</th>\n",
       "      <th>5</th>\n",
       "      <th>6</th>\n",
       "      <th>7</th>\n",
       "      <th>8</th>\n",
       "      <th>9</th>\n",
       "      <th>...</th>\n",
       "      <th>18</th>\n",
       "      <th>19</th>\n",
       "      <th>20</th>\n",
       "      <th>21</th>\n",
       "      <th>22</th>\n",
       "      <th>23</th>\n",
       "      <th>24</th>\n",
       "      <th>25</th>\n",
       "      <th>26</th>\n",
       "      <th>27</th>\n",
       "    </tr>\n",
       "  </thead>\n",
       "  <tbody>\n",
       "    <tr>\n",
       "      <th>0</th>\n",
       "      <td>2.0</td>\n",
       "      <td>1</td>\n",
       "      <td>530101</td>\n",
       "      <td>38.5</td>\n",
       "      <td>66.0</td>\n",
       "      <td>28.0</td>\n",
       "      <td>3.0</td>\n",
       "      <td>3.0</td>\n",
       "      <td>NaN</td>\n",
       "      <td>2.0</td>\n",
       "      <td>...</td>\n",
       "      <td>45.0</td>\n",
       "      <td>8.4</td>\n",
       "      <td>NaN</td>\n",
       "      <td>NaN</td>\n",
       "      <td>2.0</td>\n",
       "      <td>2</td>\n",
       "      <td>11300</td>\n",
       "      <td>0</td>\n",
       "      <td>0</td>\n",
       "      <td>2</td>\n",
       "    </tr>\n",
       "    <tr>\n",
       "      <th>1</th>\n",
       "      <td>1.0</td>\n",
       "      <td>1</td>\n",
       "      <td>534817</td>\n",
       "      <td>39.2</td>\n",
       "      <td>88.0</td>\n",
       "      <td>20.0</td>\n",
       "      <td>NaN</td>\n",
       "      <td>NaN</td>\n",
       "      <td>4.0</td>\n",
       "      <td>1.0</td>\n",
       "      <td>...</td>\n",
       "      <td>50.0</td>\n",
       "      <td>85.0</td>\n",
       "      <td>2.0</td>\n",
       "      <td>2.0</td>\n",
       "      <td>3.0</td>\n",
       "      <td>2</td>\n",
       "      <td>2208</td>\n",
       "      <td>0</td>\n",
       "      <td>0</td>\n",
       "      <td>2</td>\n",
       "    </tr>\n",
       "    <tr>\n",
       "      <th>2</th>\n",
       "      <td>2.0</td>\n",
       "      <td>1</td>\n",
       "      <td>530334</td>\n",
       "      <td>38.3</td>\n",
       "      <td>40.0</td>\n",
       "      <td>24.0</td>\n",
       "      <td>1.0</td>\n",
       "      <td>1.0</td>\n",
       "      <td>3.0</td>\n",
       "      <td>1.0</td>\n",
       "      <td>...</td>\n",
       "      <td>33.0</td>\n",
       "      <td>6.7</td>\n",
       "      <td>NaN</td>\n",
       "      <td>NaN</td>\n",
       "      <td>1.0</td>\n",
       "      <td>2</td>\n",
       "      <td>0</td>\n",
       "      <td>0</td>\n",
       "      <td>0</td>\n",
       "      <td>1</td>\n",
       "    </tr>\n",
       "    <tr>\n",
       "      <th>3</th>\n",
       "      <td>1.0</td>\n",
       "      <td>9</td>\n",
       "      <td>5290409</td>\n",
       "      <td>39.1</td>\n",
       "      <td>164.0</td>\n",
       "      <td>84.0</td>\n",
       "      <td>4.0</td>\n",
       "      <td>1.0</td>\n",
       "      <td>6.0</td>\n",
       "      <td>2.0</td>\n",
       "      <td>...</td>\n",
       "      <td>48.0</td>\n",
       "      <td>7.2</td>\n",
       "      <td>3.0</td>\n",
       "      <td>5.3</td>\n",
       "      <td>2.0</td>\n",
       "      <td>1</td>\n",
       "      <td>2208</td>\n",
       "      <td>0</td>\n",
       "      <td>0</td>\n",
       "      <td>1</td>\n",
       "    </tr>\n",
       "    <tr>\n",
       "      <th>4</th>\n",
       "      <td>2.0</td>\n",
       "      <td>1</td>\n",
       "      <td>530255</td>\n",
       "      <td>37.3</td>\n",
       "      <td>104.0</td>\n",
       "      <td>35.0</td>\n",
       "      <td>NaN</td>\n",
       "      <td>NaN</td>\n",
       "      <td>6.0</td>\n",
       "      <td>2.0</td>\n",
       "      <td>...</td>\n",
       "      <td>74.0</td>\n",
       "      <td>7.4</td>\n",
       "      <td>NaN</td>\n",
       "      <td>NaN</td>\n",
       "      <td>2.0</td>\n",
       "      <td>2</td>\n",
       "      <td>4300</td>\n",
       "      <td>0</td>\n",
       "      <td>0</td>\n",
       "      <td>2</td>\n",
       "    </tr>\n",
       "  </tbody>\n",
       "</table>\n",
       "<p>5 rows × 28 columns</p>\n",
       "</div>"
      ],
      "text/plain": [
       "    0   1        2     3      4     5    6    7    8    9   ...    18    19  \\\n",
       "0  2.0   1   530101  38.5   66.0  28.0  3.0  3.0  NaN  2.0  ...  45.0   8.4   \n",
       "1  1.0   1   534817  39.2   88.0  20.0  NaN  NaN  4.0  1.0  ...  50.0  85.0   \n",
       "2  2.0   1   530334  38.3   40.0  24.0  1.0  1.0  3.0  1.0  ...  33.0   6.7   \n",
       "3  1.0   9  5290409  39.1  164.0  84.0  4.0  1.0  6.0  2.0  ...  48.0   7.2   \n",
       "4  2.0   1   530255  37.3  104.0  35.0  NaN  NaN  6.0  2.0  ...  74.0   7.4   \n",
       "\n",
       "    20   21   22  23     24  25  26  27  \n",
       "0  NaN  NaN  2.0   2  11300   0   0   2  \n",
       "1  2.0  2.0  3.0   2   2208   0   0   2  \n",
       "2  NaN  NaN  1.0   2      0   0   0   1  \n",
       "3  3.0  5.3  2.0   1   2208   0   0   1  \n",
       "4  NaN  NaN  2.0   2   4300   0   0   2  \n",
       "\n",
       "[5 rows x 28 columns]"
      ]
     },
     "execution_count": 35,
     "metadata": {},
     "output_type": "execute_result"
    }
   ],
   "source": [
    "# load dataset - missing values are maarked with a ?\n",
    "df_horse = pd.read_csv('./datasets/Data Cleaning/horse_colic.csv',\n",
    "                       header=None, na_values='?')\n",
    "\n",
    "df_horse.head()"
   ]
  },
  {
   "cell_type": "code",
   "execution_count": 36,
   "id": "9d545d2f",
   "metadata": {
    "scrolled": true
   },
   "outputs": [
    {
     "name": "stdout",
     "output_type": "stream",
     "text": [
      "> Column 0, Missing: 1 (0.3%)\n",
      "> Column 1, Missing: 0 (0.0%)\n",
      "> Column 2, Missing: 0 (0.0%)\n",
      "> Column 3, Missing: 60 (20.0%)\n",
      "> Column 4, Missing: 24 (8.0%)\n",
      "> Column 5, Missing: 58 (19.3%)\n",
      "> Column 6, Missing: 56 (18.7%)\n",
      "> Column 7, Missing: 69 (23.0%)\n",
      "> Column 8, Missing: 47 (15.7%)\n",
      "> Column 9, Missing: 32 (10.7%)\n",
      "> Column 10, Missing: 55 (18.3%)\n",
      "> Column 11, Missing: 44 (14.7%)\n",
      "> Column 12, Missing: 56 (18.7%)\n",
      "> Column 13, Missing: 104 (34.7%)\n",
      "> Column 14, Missing: 106 (35.3%)\n",
      "> Column 15, Missing: 247 (82.3%)\n",
      "> Column 16, Missing: 102 (34.0%)\n",
      "> Column 17, Missing: 118 (39.3%)\n",
      "> Column 18, Missing: 29 (9.7%)\n",
      "> Column 19, Missing: 33 (11.0%)\n",
      "> Column 20, Missing: 165 (55.0%)\n",
      "> Column 21, Missing: 198 (66.0%)\n",
      "> Column 22, Missing: 1 (0.3%)\n",
      "> Column 23, Missing: 0 (0.0%)\n",
      "> Column 24, Missing: 0 (0.0%)\n",
      "> Column 25, Missing: 0 (0.0%)\n",
      "> Column 26, Missing: 0 (0.0%)\n",
      "> Column 27, Missing: 0 (0.0%)\n"
     ]
    }
   ],
   "source": [
    "# summarize the number of rows with missing values for each column\n",
    "for i in range(df_horse.shape[1]):\n",
    "    # count number of rows with missing values\n",
    "    n_miss = df_horse[[i]].isnull().sum()\n",
    "    perc = n_miss / df_horse.shape[0] * 100\n",
    "    print('> Column %d, Missing: %d (%.1f%%)' % (i, n_miss, perc))"
   ]
  },
  {
   "cell_type": "markdown",
   "id": "e281d5f8",
   "metadata": {},
   "source": [
    "<a id=\"fill\"></a>\n",
    "<h5 style=\"text-decoration:underline\">Using Pandas to Fill Missing Values</h5>\n",
    "\n",
    "Pandas provides various methods for cleaning the missing values. In order to fill null values in a dataset, we use `fillna()`, `replace()` and `interpolate()` to replace NaN values with some value of their own. All these functions help in filling a null value in a dataset of a DataFrame. `Interpolate()` function is basically used to fill NA values in the dataframe but it uses various interpolation techniques to fill the missing values rather than hard-coding the value.\n",
    "\n",
    "```python\n",
    "# reference a single column\n",
    "df_horse['column_name'].fillna(value=   )\n",
    "\n",
    "# A better way is:\n",
    "df_horse.fillna(value={'column_name': value_to_replace})\n",
    "\n",
    "# not good for changing multiple columns at a time:\n",
    "df_horse[['column_name1', 'column_name2']].fillna(value=   )\n",
    "\n",
    "# better to do this for multiple columns:\n",
    "df_horse.fillna(value={'column_name1': value_to_replace, \n",
    "                       'column_name2': df_horse['column_name3'].mean()\n",
    "                      })\n",
    "```\n",
    "\n",
    "Many times, we have to replace a generic value with some specific value. We can achieve this by applying the replace method. Replacing NA with a scalar value is equivalent behavior of the fillna() function.\n",
    "```python\n",
    "df_horse.replace(to_replace=None, value=None, inplace=False, limit=None,\n",
    "                 regex=False, method='pad')\n",
    "```"
   ]
  },
  {
   "cell_type": "markdown",
   "id": "1ac75be9",
   "metadata": {},
   "source": [
    "<a id=\"transform\"></a>\n",
    "<h5 style=\"text-decoration:underline\">SimpleImputer Data Transform</h5>\n",
    "\n",
    "The `SimpleImputer` in scikit-learn's machine learning library is a data transform that is first configured based on the type of statistic to calculate for each column, e.g. mean."
   ]
  },
  {
   "cell_type": "code",
   "execution_count": 37,
   "id": "45cc942d",
   "metadata": {},
   "outputs": [],
   "source": [
    "from sklearn.impute import SimpleImputer"
   ]
  },
  {
   "cell_type": "code",
   "execution_count": 38,
   "id": "b3e82968",
   "metadata": {},
   "outputs": [
    {
     "name": "stdout",
     "output_type": "stream",
     "text": [
      "Original - Missing: 1605\n",
      "After imputing - Missing: 0\n"
     ]
    }
   ],
   "source": [
    "X = df_horse.drop(23,axis=1)\n",
    "y = df_horse[23]\n",
    "\n",
    "# summarize total missing\n",
    "print('Original - Missing: %d' % sum(np.isnan(X.values).flatten()))\n",
    "\n",
    "# define imputer\n",
    "imputer = SimpleImputer(strategy='mean')\n",
    "\n",
    "# fit on the dataset\n",
    "imputer.fit(X)\n",
    "\n",
    "# transform the dataset \n",
    "Xtrans = imputer.transform(X)\n",
    "\n",
    "# summarize total missing -> Xtrans are values only so no need for .values\n",
    "print('After imputing - Missing: %d' % sum(np.isnan(Xtrans).flatten()))"
   ]
  },
  {
   "cell_type": "markdown",
   "id": "836499ec",
   "metadata": {},
   "source": [
    "<a id=\"eval\"></a>\n",
    "<h5 style=\"text-decoration:underline\">SimpleImputer and Model Evaluation</h5>\n",
    "\n",
    "It is a good practice to evaluate machine learning models on a dataset using k-fold cross validation. To correctly apply statistical missing data imputation and avoid data leakage, it is required that the statistics calculated for each column are calculated on the training dataset only, then applied to the train and test sets for each fold in the dataset. This can be achieved by creating a modeling pipeline where the first step is the statistical imputation, then the second step is the model."
   ]
  },
  {
   "cell_type": "code",
   "execution_count": 39,
   "id": "469cfcb4",
   "metadata": {},
   "outputs": [
    {
     "name": "stdout",
     "output_type": "stream",
     "text": [
      "Mean Accuracy: 0.864 (0.054)\n"
     ]
    }
   ],
   "source": [
    "model = RandomForestClassifier()\n",
    "imputer = SimpleImputer(strategy='mean')\n",
    "pipeline = Pipeline(steps=[('i', imputer), ('m', model)])\n",
    "\n",
    "# define model evaluation\n",
    "cv = RepeatedStratifiedKFold(n_splits=10, n_repeats=3, random_state=1)\n",
    "\n",
    "# evaluate model\n",
    "scores = cross_val_score(pipeline, X, y, scoring='accuracy', cv=cv, n_jobs=-1)\n",
    "\n",
    "print('Mean Accuracy: %.3f (%.3f)' % (np.mean(scores), np.std(scores)))"
   ]
  },
  {
   "cell_type": "markdown",
   "id": "28e6c8d1",
   "metadata": {},
   "source": [
    "The pipeline is evaluated using three repeats of 10-fold cross-validation and reports the mean classification accuracy on the dataset as about 86%."
   ]
  },
  {
   "cell_type": "markdown",
   "id": "6b49abd0",
   "metadata": {},
   "source": [
    "<a id=\"compare\"></a>\n",
    "<h5 style=\"text-decoration:underline\">Comparing Different Imputed Statistics</h5>\n",
    "\n",
    "How do we know that using a ‘mean’ statistical strategy is good or best for this dataset? The answer is that we don’t and that it was chosen arbitrarily. We can design an experiment to test each statistical strategy and discover what works best for this dataset, comparing the mean, median, mode (most frequent), and constant strategies. The mean accuracy of each approach can then be compared."
   ]
  },
  {
   "cell_type": "code",
   "execution_count": 40,
   "id": "0034f10e",
   "metadata": {},
   "outputs": [
    {
     "name": "stdout",
     "output_type": "stream",
     "text": [
      ">mean 0.863 (0.053)\n",
      ">median 0.867 (0.055)\n",
      ">most_frequent 0.871 (0.059)\n",
      ">constant 0.874 (0.049)\n"
     ]
    },
    {
     "data": {
      "image/png": "[encoded data removed]",
      "text/plain": [
       "<Figure size 432x288 with 1 Axes>"
      ]
     },
     "metadata": {
      "needs_background": "light"
     },
     "output_type": "display_data"
    }
   ],
   "source": [
    "# compare statistical imputation strategies for the horse colic dataset\n",
    "\n",
    "# evaluate each strategy on the dataset\n",
    "results = list()\n",
    "strategies = ['mean', 'median', 'most_frequent', 'constant']\n",
    "\n",
    "for s in strategies:\n",
    "    # create the modeling pipeline\n",
    "    pipeline = Pipeline(steps=[('i', SimpleImputer(strategy=s)), \n",
    "                               ('m', RandomForestClassifier())])\n",
    "\n",
    "    # evaluate the model\n",
    "    cv = RepeatedStratifiedKFold(n_splits=10, n_repeats=3, random_state=1)\n",
    "    scores = cross_val_score(pipeline, X, y, scoring='accuracy',\n",
    "                             cv=cv, n_jobs=-1)\n",
    "\n",
    "    # store results\n",
    "    results.append(scores)\n",
    "\n",
    "    print('>%s %.3f (%.3f)' % (s, np.mean(scores), np.std(scores)))\n",
    "\n",
    "# plot model performance for comparison\n",
    "plt.boxplot(results, labels=strategies, showmeans=True)\n",
    "plt.show()"
   ]
  },
  {
   "cell_type": "markdown",
   "id": "f80bdf05",
   "metadata": {},
   "source": [
    "In this case, the results suggest that using a constant value, e.g. 0, results in the best performance of about 87.7 percent. We can see that the distribution of accuracy scores for the constant strategy may be better than the other strategies."
   ]
  },
  {
   "cell_type": "markdown",
   "id": "1aa4608e",
   "metadata": {},
   "source": [
    "<a id=\"predict\"></a>\n",
    "<h5 style=\"text-decoration:underline\">SimpleImputer Transform When Making a Prediction</h5>\n",
    "\n",
    "We may wish to create a final modeling pipeline with the constant imputation strategy and random forest algorithm, then make a prediction for new data. This can be achieved by defining the pipeline and fitting it on all available data, then calling the `predict()` function and passing new data in as an argument. ***Importantly, the row of new data must mark any missing values using the NaN value.***"
   ]
  },
  {
   "cell_type": "code",
   "execution_count": 41,
   "id": "e33c8b46",
   "metadata": {},
   "outputs": [
    {
     "name": "stdout",
     "output_type": "stream",
     "text": [
      "Predicted Class: 2\n"
     ]
    }
   ],
   "source": [
    "pipeline = Pipeline(steps=[('i', SimpleImputer(strategy='constant')), \n",
    "                           ('m', RandomForestClassifier())])\n",
    "\n",
    "# fit the model\n",
    "pipeline.fit(X, y)\n",
    "\n",
    "# define new (made-up in this case) data\n",
    "row = [2, 1, 530101, 38.50, 66, 28, 3, 3, np.nan, 2, 5, 4, 4, np.nan, \n",
    "       np.nan, np.nan, 3, 5, 45.00, 8.40, np.nan, np.nan, 2, 11300,\n",
    "       0, 0, 2]\n",
    "\n",
    "# make a prediction\n",
    "yhat = pipeline.predict([row])\n",
    "\n",
    "# summarize prediction\n",
    "print('Predicted Class: %d' % yhat[0])"
   ]
  },
  {
   "cell_type": "markdown",
   "id": "78c57381",
   "metadata": {},
   "source": [
    "<a id=\"knn\"></a>\n",
    "<h3><ins>How to Use KNN Imputation</ins></h3>\n",
    "\n",
    "Another popular approach to missing data imputation is to use a model to predict the missing values. This requires a model to be created for each input variable that has missing values. If input variables are numeric, then regression models can be used for prediction, and this case is quite common. Although any one among a range of different models can be used to predict the missing values, the **k-nearest neighbor (KNN)** algorithm has proven to be generally effective, often referred to as nearest neighbor imputation.  Configuration of KNN imputation often involves selecting the distance measure (e.g. Euclidean) and the number of contributing neighbors for each prediction, the k hyperparameter of the KNN algorithm.\n",
    "\n",
    "The scikit-learn machine learning library provides the **`KNNImputer`** class that supports nearest neighbor imputation. By default, a euclidean distance metric that supports missing values, nan_euclidean_distances, is used to find the nearest neighbors. Each missing feature is imputed using values from n_neighbors nearest neighbors that have a value for the feature. The feature of the neighbors are averaged uniformly or weighted by distance to each neighbor. If a sample has more than one feature missing, then the neighbors for that sample can be different depending on the particular feature being imputed. When the number of available neighbors is less than n_neighbors and there are no defined distances to the training set, the training set average for that feature is used during imputation. If there is at least one neighbor with a defined distance, the weighted or unweighted average of the remaining neighbors will be used during imputation. If a feature is always missing in training, it is removed during transform."
   ]
  },
  {
   "cell_type": "markdown",
   "id": "87397f50",
   "metadata": {},
   "source": [
    "<a id=\"data\"></a>\n",
    "<h5 style=\"text-decoration:underline\">KNNImputer Data Transform</h5>\n",
    "\n",
    "The `KNNImputer` is a data transform that is first configured based on the method used to estimate the missing values. The default distance measure is a *Euclidean* distance measure that is NaN aware, e.g. will not include NaN values when calculating the distance between members of the training dataset. This is set via the `metric` argument. The number of neighbors is set to five by default and can be configured by the `n neighbors` argument. Finally, the distance measure can be weighed proportional to the distance between instances (rows), although this is set to a uniform weighting by default, controlled via the `weights` argument."
   ]
  },
  {
   "cell_type": "code",
   "execution_count": 42,
   "id": "39511e23",
   "metadata": {},
   "outputs": [],
   "source": [
    "from sklearn.impute import KNNImputer"
   ]
  },
  {
   "cell_type": "code",
   "execution_count": 43,
   "id": "1ad9cd7f",
   "metadata": {},
   "outputs": [
    {
     "name": "stdout",
     "output_type": "stream",
     "text": [
      "Original - Missing: 1605\n",
      "After KNN imputing - Missing: 0\n"
     ]
    }
   ],
   "source": [
    "# summarize total missing\n",
    "print('Original - Missing: %d' % sum(np.isnan(X.values).flatten()))\n",
    "\n",
    "# define imputer\n",
    "imputer = KNNImputer()\n",
    "\n",
    "# fit on the dataset\n",
    "imputer.fit(X)\n",
    "\n",
    "# transform the dataset\n",
    "Xtrans = imputer.transform(X)\n",
    "\n",
    "# summarize total missing -> Xtrans are values only so no need for .values\n",
    "print('After KNN imputing - Missing: %d' % sum(np.isnan(Xtrans).flatten()))"
   ]
  },
  {
   "cell_type": "markdown",
   "id": "edab6638",
   "metadata": {},
   "source": [
    "<a id=\"model\"></a>\n",
    "<h5 style=\"text-decoration:underline\">KNNImputer and Model Evaluation</h5>\n",
    "\n",
    "It is a good practice to evaluate machine learning models on a dataset using k fold crossvalidation. To correctly apply nearest neighbor missing data imputation and avoid data leakage, it is required that the models calculated for each column are calculated on the training dataset only, then applied to the train and test sets for each fold in the dataset. This can be achieved by creating a modeling pipeline where the first step is the nearest neighbor imputation, then the second step is the model."
   ]
  },
  {
   "cell_type": "code",
   "execution_count": 44,
   "id": "a9a0f826",
   "metadata": {},
   "outputs": [
    {
     "name": "stdout",
     "output_type": "stream",
     "text": [
      "Mean Accuracy: 0.862 (0.059)\n"
     ]
    }
   ],
   "source": [
    "# define modeling pipeline\n",
    "model = RandomForestClassifier()\n",
    "imputer = KNNImputer(missing_values=np.nan, n_neighbors=5,\n",
    "                     weights='uniform', metric='nan_euclidean')\n",
    "pipeline = Pipeline(steps=[('i', imputer), ('m', model)])\n",
    "\n",
    "# define model evaluation\n",
    "cv = RepeatedStratifiedKFold(n_splits=10, n_repeats=3, random_state=1)\n",
    "\n",
    "# evaluate model\n",
    "scores = cross_val_score(pipeline, X, y, scoring='accuracy', cv=cv, n_jobs=-1)\n",
    "\n",
    "print('Mean Accuracy: %.3f (%.3f)' % (np.mean(scores), np.std(scores)))"
   ]
  },
  {
   "cell_type": "markdown",
   "id": "3520df25",
   "metadata": {},
   "source": [
    "How do we know that using a default number of neighbors of five is good or best for this dataset? The answer is that we don’t."
   ]
  },
  {
   "cell_type": "markdown",
   "id": "4c44b818",
   "metadata": {},
   "source": [
    "<a id=\"range\"></a>\n",
    "<h5 style=\"text-decoration:underline\">KNNImputer and Different Number of Neighbors</h5>\n",
    "\n",
    "The key hyperparameter for the KNN algorithm is k; that controls the number of nearest neighbors that are used to contribute to a prediction. It is good practice to test a suite of different values for k. "
   ]
  },
  {
   "cell_type": "code",
   "execution_count": 45,
   "id": "39e75cbe",
   "metadata": {},
   "outputs": [
    {
     "name": "stdout",
     "output_type": "stream",
     "text": [
      "> k=1 0.868 (0.052)\n",
      "> k=3 0.854 (0.052)\n",
      "> k=5 0.866 (0.054)\n",
      "> k=7 0.866 (0.053)\n",
      "> k=9 0.864 (0.053)\n",
      "> k=15 0.859 (0.052)\n",
      "> k=18 0.863 (0.062)\n",
      "> k=21 0.861 (0.052)\n"
     ]
    },
    {
     "data": {
      "image/png": "[encoded data removed]",
      "text/plain": [
       "<Figure size 432x288 with 1 Axes>"
      ]
     },
     "metadata": {
      "needs_background": "light"
     },
     "output_type": "display_data"
    }
   ],
   "source": [
    "# evaluate each strategy on the dataset\n",
    "results = list()\n",
    "strategies = [str(i) for i in [1,3,5,7,9,15,18,21]]\n",
    "\n",
    "for s in strategies:\n",
    "    # create the modeling pipeline\n",
    "    pipeline = Pipeline(steps=[('i', KNNImputer(n_neighbors=int(s))),\n",
    "                               ('m', RandomForestClassifier())])\n",
    "    \n",
    "    # evaluate the model\n",
    "    cv = RepeatedStratifiedKFold(n_splits=10, n_repeats=3, random_state=1)\n",
    "    scores = cross_val_score(pipeline, X, y, scoring='accuracy', \n",
    "                             cv=cv, n_jobs=-1)\n",
    "\n",
    "    # store results\n",
    "    results.append(scores)\n",
    "    print('> k=%s %.3f (%.3f)' % (s, np.mean(scores), np.std(scores)))\n",
    "\n",
    "# plot model performance for comparison\n",
    "plt.boxplot(results, labels=strategies, showmeans=True)\n",
    "plt.show()"
   ]
  },
  {
   "cell_type": "markdown",
   "id": "e3f0f397",
   "metadata": {},
   "source": [
    "The plot suggest that there is not much difference in the k value when imputing the missing values, with minor fluctuations around the mean performance (green triangle)."
   ]
  },
  {
   "cell_type": "markdown",
   "id": "41609c83",
   "metadata": {},
   "source": [
    "<a id=\"make\"></a>\n",
    "<h5 style=\"text-decoration:underline\">KNNImputer Transform When Making a Prediction</h5>\n",
    "\n",
    "We may wish to create a final modeling pipeline with the nearest neighbor imputation strategy and random forest algorithm, then make a prediction for new data. This can be achieved by defining the pipeline and fitting it on all available data, then calling the `predict()` function and passing new data in as an argument. ***Importantly, the row of new data must mark any missing values using the NaN value.***"
   ]
  },
  {
   "cell_type": "code",
   "execution_count": 46,
   "id": "a6006e8f",
   "metadata": {},
   "outputs": [
    {
     "name": "stdout",
     "output_type": "stream",
     "text": [
      "Predicted Class: 2\n"
     ]
    }
   ],
   "source": [
    "# create the modeling pipeline\n",
    "pipeline = Pipeline(steps=[('i', KNNImputer(n_neighbors=21)), \n",
    "                           ('m', RandomForestClassifier())])\n",
    "\n",
    "# fit the model\n",
    "pipeline.fit(X, y)\n",
    "\n",
    "# define new data\n",
    "row = [2, 1, 530101, 38.50, 66, 28, 3, 3, np.nan, 2, 5, 4, 4, np.nan, \n",
    "       np.nan, np.nan, 3, 5, 45.00, 8.40, np.nan, np.nan, 2, 11300, 0, 0, 2]\n",
    "\n",
    "# make a prediction\n",
    "yhat = pipeline.predict([row])\n",
    "\n",
    "# summarize prediction\n",
    "print('Predicted Class: %d' % yhat[0])"
   ]
  },
  {
   "cell_type": "markdown",
   "id": "a21d2d11",
   "metadata": {},
   "source": [
    "<a id=\"iter\"></a>\n",
    "<h3><ins>How to Use Iterative Imputation</ins></h3>\n",
    "\n",
    "A sophisticated approach to imputing missing values is to use an **iterative imputation** model. Iterative imputation refers to a process where each feature is modeled as a function of the other features, e.g. a regression problem where missing values are predicted. Each feature is imputed sequentially, one after the other, allowing prior imputed values to be used as part of a model in predicting subsequent features.\n",
    "\n",
    "It is iterative because this process is repeated multiple times, allowing ever improved estimates of missing values to be calculated as missing values across all features are estimated. This approach may be generally referred to as fully conditional specification (FCS) or multivariate imputation by chained equations (MICE).\n",
    "\n",
    "Different regression algorithms can be used to estimate the missing values for each feature, although linear methods are often used for simplicity. The number of iterations of the procedure is often kept small, such as 10. Finally, the order that features are processed sequentially can be considered, such as from the feature with the least missing values to the feature with the most missing values."
   ]
  },
  {
   "cell_type": "markdown",
   "id": "48758428",
   "metadata": {},
   "source": [
    "<a id=\"iidt\"></a>\n",
    "<h5 style=\"text-decoration:underline\">IterativeImputer Data Transform</h5>\n",
    "\n",
    "`IterativeImputer` is a data transform that is first configured based on the method used to estimate the missing values. By default, a BayesianRidge model is employed that uses a function of all other input features. Features are filled in ascending order, from those with the fewest missing values to those with the most."
   ]
  },
  {
   "cell_type": "code",
   "execution_count": 47,
   "id": "46fd3d0b",
   "metadata": {},
   "outputs": [],
   "source": [
    "from sklearn.experimental import enable_iterative_imputer\n",
    "from sklearn.impute import IterativeImputer"
   ]
  },
  {
   "cell_type": "code",
   "execution_count": 48,
   "id": "9cba8b44",
   "metadata": {},
   "outputs": [
    {
     "name": "stdout",
     "output_type": "stream",
     "text": [
      "Original - Missing: 1605\n",
      "After iterative imputing - Missing: 0\n"
     ]
    }
   ],
   "source": [
    "# summarize total missing\n",
    "print('Original - Missing: %d' % sum(np.isnan(X.values).flatten()))\n",
    "\n",
    "# define imputer\n",
    "imputer = IterativeImputer()\n",
    "\n",
    "# fit on the dataset\n",
    "imputer.fit(X)\n",
    "\n",
    "# transform the dataset\n",
    "Xtrans = imputer.transform(X)\n",
    "\n",
    "# summarize total missing -> Xtrans are values only so no need for .values\n",
    "print('After iterative imputing - Missing: %d' % sum(np.isnan(Xtrans).flatten()))"
   ]
  },
  {
   "cell_type": "markdown",
   "id": "e7adb91e",
   "metadata": {},
   "source": [
    "<a id=\"ii_model\"></a>\n",
    "<h5 style=\"text-decoration:underline\">IterativeImputer and Model Evaluation</h5>\n",
    "\n",
    "It is a good practice to evaluate machine learning models on a dataset using k fold crossvalidation. To correctly apply iterative missing data imputation and avoid data leakage, it is required that the models for each column are calculated on the training dataset only, then applied to the train and test sets for each fold in the dataset. This can be achieved by creating a modeling pipeline where the first step is the iterative imputation, then the second step is the model."
   ]
  },
  {
   "cell_type": "code",
   "execution_count": 49,
   "id": "d779a887",
   "metadata": {},
   "outputs": [
    {
     "name": "stdout",
     "output_type": "stream",
     "text": [
      "Mean Accuracy: 0.876 (0.049)\n"
     ]
    }
   ],
   "source": [
    "# define modeling pipeline\n",
    "model = RandomForestClassifier()\n",
    "imputer = IterativeImputer()\n",
    "pipeline = Pipeline(steps=[('i', imputer), ('m', model)])\n",
    "\n",
    "# define model evaluation\n",
    "cv = RepeatedStratifiedKFold(n_splits=10, n_repeats=3, random_state=1)\n",
    "\n",
    "# evaluate model\n",
    "scores = cross_val_score(pipeline, X, y, scoring='accuracy', cv=cv, n_jobs=-1)\n",
    "\n",
    "print('Mean Accuracy: %.3f (%.3f)' % (np.mean(scores), np.std(scores)))"
   ]
  },
  {
   "cell_type": "markdown",
   "id": "b9acfadb",
   "metadata": {},
   "source": [
    "The pipeline is evaluated using three repeats of 10-fold cross-validation and reports the mean classification accuracy on the dataset as about 87%.\n",
    "\n",
    "How do we know that using a default iterative strategy is good or best for this dataset? The answer is that we don’t."
   ]
  },
  {
   "cell_type": "markdown",
   "id": "6608fcf7",
   "metadata": {},
   "source": [
    "<a id=\"order\"></a>\n",
    "<h5 style=\"text-decoration:underline\">IterativeImputer and Different Imputation Order</h5>\n",
    "\n",
    "By default, imputation is performed in ascending order from the feature with the least missing values to the feature with the most. This makes sense as we want to have more complete data when it comes time to estimating missing values for columns where the majority of values are missing. Nevertheless, we can experiment with different imputation order strategies, such as descending, right-to-left (Arabic), left-to-right (Roman), and random. The example below evaluates and compares each available imputation order configuration."
   ]
  },
  {
   "cell_type": "code",
   "execution_count": 50,
   "id": "dc87b018",
   "metadata": {},
   "outputs": [
    {
     "name": "stdout",
     "output_type": "stream",
     "text": [
      ">Strategy: ascending 0.870 (0.055)\n",
      ">Strategy: descending 0.872 (0.052)\n",
      ">Strategy: roman 0.876 (0.053)\n",
      ">Strategy: arabic 0.874 (0.052)\n",
      ">Strategy: random 0.876 (0.054)\n"
     ]
    },
    {
     "data": {
      "image/png": "[encoded data removed]",
      "text/plain": [
       "<Figure size 432x288 with 1 Axes>"
      ]
     },
     "metadata": {
      "needs_background": "light"
     },
     "output_type": "display_data"
    }
   ],
   "source": [
    "# evaluate each strategy on the dataset\n",
    "results = list()\n",
    "strategies = ['ascending', 'descending', 'roman', 'arabic', 'random']\n",
    "for s in strategies:\n",
    "    # create the modeling pipeline\n",
    "    pipeline = Pipeline(steps=[('i', IterativeImputer(imputation_order=s)),\n",
    "                               ('m', RandomForestClassifier())])\n",
    "\n",
    "    # evaluate the model\n",
    "    cv = RepeatedStratifiedKFold(n_splits=10, n_repeats=3, random_state=1)\n",
    "    scores = cross_val_score(pipeline, X, y, scoring='accuracy',\n",
    "                             cv=cv, n_jobs=-1)\n",
    "\n",
    "    # store results\n",
    "    results.append(scores)\n",
    "\n",
    "    print('>Strategy: %s %.3f (%.3f)' % (s, np.mean(scores), np.std(scores)))\n",
    "\n",
    "# plot model performance for comparison\n",
    "plt.boxplot(results, labels=strategies, showmeans=True)\n",
    "plt.show()"
   ]
  },
  {
   "cell_type": "markdown",
   "id": "978224d4",
   "metadata": {},
   "source": [
    "<a id=\"number\"></a>\n",
    "<h5 style=\"text-decoration:underline\">IterativeImputer and Different Number of Iterations</h5>\n",
    "\n",
    "By default, the `IterativeImputer` will repeat the number of iterations 10 times. It is possible that a large number of iterations may begin to bias or skew the estimate and that few iterations may be preferred. The number of iterations of the procedure can be specified via the **`max_iter`** argument. It may be interesting to evaluate different numbers of iterations. "
   ]
  },
  {
   "cell_type": "code",
   "execution_count": 51,
   "id": "a6ca8054",
   "metadata": {},
   "outputs": [
    {
     "name": "stdout",
     "output_type": "stream",
     "text": [
      ">max_iter=1 0.876 (0.051)\n",
      ">max_iter=2 0.864 (0.047)\n",
      ">max_iter=3 0.862 (0.053)\n",
      ">max_iter=4 0.872 (0.056)\n",
      ">max_iter=5 0.874 (0.054)\n",
      ">max_iter=6 0.870 (0.051)\n",
      ">max_iter=7 0.873 (0.053)\n",
      ">max_iter=8 0.873 (0.052)\n",
      ">max_iter=9 0.869 (0.052)\n",
      ">max_iter=10 0.871 (0.050)\n",
      ">max_iter=11 0.867 (0.052)\n",
      ">max_iter=12 0.874 (0.052)\n",
      ">max_iter=13 0.872 (0.054)\n",
      ">max_iter=14 0.874 (0.051)\n",
      ">max_iter=15 0.869 (0.052)\n",
      ">max_iter=16 0.871 (0.050)\n",
      ">max_iter=17 0.872 (0.052)\n",
      ">max_iter=18 0.877 (0.056)\n",
      ">max_iter=19 0.866 (0.052)\n",
      ">max_iter=20 0.879 (0.049)\n"
     ]
    },
    {
     "data": {
      "image/png": "[encoded data removed]",
      "text/plain": [
       "<Figure size 432x288 with 1 Axes>"
      ]
     },
     "metadata": {
      "needs_background": "light"
     },
     "output_type": "display_data"
    }
   ],
   "source": [
    "results = list()\n",
    "strategies = [i for i in range(1, 21)]\n",
    "for s in strategies:\n",
    "    # create the modeling pipeline\n",
    "    pipeline = Pipeline(steps=[('i', IterativeImputer(max_iter=s)),\n",
    "                               ('m', RandomForestClassifier())])\n",
    "\n",
    "    # evaluate the model\n",
    "    cv = RepeatedStratifiedKFold(n_splits=10, n_repeats=3, random_state=1)\n",
    "    scores = cross_val_score(pipeline, X, y, scoring='accuracy',\n",
    "                             cv=cv, n_jobs=-1)\n",
    "\n",
    "    # store results\n",
    "    results.append(scores)\n",
    "    print('>max_iter=%s %.3f (%.3f)' % (s, np.mean(scores), np.std(scores)))\n",
    "\n",
    "# plot model performance for comparison\n",
    "plt.boxplot(results, labels=strategies, showmeans=True)\n",
    "plt.show()"
   ]
  },
  {
   "cell_type": "markdown",
   "id": "d8e81b3d",
   "metadata": {},
   "source": [
    "<a id=\"ii_pred\"></a>\n",
    "<h5 style=\"text-decoration:underline\">IterativeImputer Transform When Making a Prediction</h5>\n",
    "\n",
    "We may wish to create a final modeling pipeline with the iterative imputation and random forest algorithm, then make a prediction for new data. This can be achieved by defining the pipeline and fitting it on all available data, then calling the `predict()` function, passing new data in as an argument. Importantly, the row of new data must mark any missing values using the NaN value."
   ]
  },
  {
   "cell_type": "code",
   "execution_count": 52,
   "id": "33352d15",
   "metadata": {},
   "outputs": [
    {
     "name": "stdout",
     "output_type": "stream",
     "text": [
      "Predicted Class: 2\n"
     ]
    }
   ],
   "source": [
    "pipeline = Pipeline(steps=[('i', IterativeImputer()), \n",
    "                           ('m', RandomForestClassifier())])\n",
    "\n",
    "# fit the model\n",
    "pipeline.fit(X, y)\n",
    "\n",
    "# define new data\n",
    "row = [2, 1, 530101, 38.50, 66, 28, 3, 3, np.nan, 2, 5, 4, 4, np.nan, \n",
    "       np.nan, np.nan, 3, 5, 45.00, 8.40, np.nan, np.nan, 2, 11300,\n",
    "       0, 0, 2]\n",
    "\n",
    "# make a prediction\n",
    "yhat = pipeline.predict([row])\n",
    "\n",
    "# summarize prediction\n",
    "print('Predicted Class: %d' % yhat[0])"
   ]
  },
  {
   "cell_type": "markdown",
   "id": "8299fbb9",
   "metadata": {},
   "source": [
    "<a id=\"ref\"></a>\n",
    "<h3><ins>REFERENCES</ins></h3>\n",
    "\n",
    "<ins>BOOKS</ins>\n",
    "- [Data Preparation for Machine Learning by Jason Brownlee](https://machinelearningmastery.com/data-preparation-for-machine-learning/)\n",
    "\n",
    "<ins>ARTICLES / WEBSITES</ins>\n",
    "- [Towards Data Science - Using the missingno Python library to Identify and Visualise Missing Data Prior to Machine Learning](https://towardsdatascience.com/using-the-missingno-python-library-to-identify-and-visualise-missing-data-prior-to-machine-learning-34c8c5b5f009)\n",
    "\n",
    "\n",
    "<ins>PYTHON PACKAGES</ins>\n",
    "- [missingno](https://github.com/ResidentMario/missingno)\n",
    "- [sklearn - Novelty and Outlier Detection](https://scikit-learn.org/stable/modules/outlier_detection.html#)\n",
    "- [sklearn - Imputation of missing values](https://scikit-learn.org/stable/modules/impute.html#)"
   ]
  }
 ],
 "metadata": {
  "kernelspec": {
   "display_name": "Python 3",
   "language": "python",
   "name": "python3"
  },
  "language_info": {
   "codemirror_mode": {
    "name": "ipython",
    "version": 3
   },
   "file_extension": ".py",
   "mimetype": "text/x-python",
   "name": "python",
   "nbconvert_exporter": "python",
   "pygments_lexer": "ipython3",
   "version": "3.8.8"
  }
 },
 "nbformat": 4,
 "nbformat_minor": 5
}
