{
 "cells": [
  {
   "cell_type": "markdown",
   "id": "e40165e0",
   "metadata": {},
   "source": [
    "<h1 align=\"center\">EVALUATION</h1>\n",
    "<h2 align=\"left\"><ins>Lesson Guide</ins></h2>\n",
    "\n",
    "\n",
    "- [**BASELINE MODELS**](#base)\n",
    "- [**EVALUATE PERFORMANCE OF MACHINE LEARNING ALGORITHMS WITH RESAMPLING**](#resample)\n",
    "    - [**Problem With Naive Data Preparation**](#problem)\n",
    "    - [**Data Preparation Without Data Leakage**](#leak)\n",
    "    - [**Resampling With Train and Test Sets**](#train)\n",
    "    - [**Resampling With k-fold Cross-Validation**](#kfold)\n",
    "    - [**Resampling With Leave-One-Out Cross-Validation**](#leave)\n",
    "    - [**Resampling With Repeated Random Test-Train Splits**](#repeat)\n",
    "    - [**How to Choose a Resampling Method**](#resamp)\n",
    "- [**MACHINE LEARNING ALGORITHM PERFORMANCE METRICS**](#metrics)\n",
    "    - [**Classification Metrics**](#class)\n",
    "        - [**Classification Accuracy**](#acc)\n",
    "        - [**Logarithmic Loss**](#log)\n",
    "        - [**Area Under ROC Curve**](#roc)\n",
    "        - [**Confusion Matrix**](#matrix)\n",
    "        - [**Classification Report**](#report)\n",
    "    - [**Regression Metrics**](#reg)\n",
    "        - [**Mean Absolute Error**](#mae)\n",
    "        - [**Mean Squared Error**](#mse)\n",
    "        - [**Root Mean Squared Error**](#rmse)\n",
    "        - [**R-squared $R^2$**](#squared)\n",
    "    - [**Spot-Check Machine Learning Algorithms**](#ml)\n",
    "        - [**Classification Models**](#spot)\n",
    "        - [**Regression Models**](#check)\n",
    "- [**AUTOMATE MACHINE LEARNING WORKFLOWS WITH PIPELINES**](#auto)\n",
    "    - [**Data Preparation and Modeling Pipeline**](#pipe)\n",
    "    - [**Feature Extraction and Modeling Pipeline**](#extract)\n",
    "- [**IMPROVE PERFORMANCE WITH ENSEMBLES**](#ensemble)\n",
    "    - [**Bagging Algorithms**](#bag)\n",
    "        - [**Bagged Decision Trees**](#bagtree)\n",
    "        - [**Random Forest**](#forest)\n",
    "        - [**Extra Trees**](#extra)\n",
    "    - [**Boosting Algorithms**](#boost)\n",
    "        - [**AdaBoost**](#ada)\n",
    "        - [**Stochastic Gradient Boosting**](#gradient)\n",
    "    - [**Voting Ensemble**](#vote)\n",
    "- [**IMPROVE PERFORMANCE WITH ALGORITHM TUNING**](#tune)\n",
    "   - [**Grid Search Parameter Tuning**](#grid)\n",
    "   - [**Random Search Parameter Tuning**](#random)\n",
    "- [**SAVE AND LOAD MACHINE LEARNING MODELS**](#save)\n",
    "    - [**Finalize Your Model with pickle**](#pickle)\n",
    "    - [**Finalize Your Model with Joblib**](#joblib)\n",
    "- [**REFERENCES**](#ref)"
   ]
  },
  {
   "cell_type": "code",
   "execution_count": 1,
   "id": "e393704a",
   "metadata": {},
   "outputs": [],
   "source": [
    "import numpy as np\n",
    "import pandas as pd\n",
    "import matplotlib.pyplot as plt\n",
    "import seaborn as sns\n",
    "\n",
    "from sklearn.model_selection import train_test_split\n",
    "from sklearn.metrics import confusion_matrix, classification_report"
   ]
  },
  {
   "cell_type": "markdown",
   "id": "aca875e8",
   "metadata": {},
   "source": [
    "<a id=\"base\"></a>\n",
    "<h2 align=\"center\">BASELINE MODELS</h2>\n",
    "\n",
    "With hundreds of machine learning algorithms to choose from. How do you know whether the predictions for a given algorithm are good or not? The answer is to use a **baseline prediction algorithm**.\n",
    "\n",
    "When doing supervised learning, a simple sanity check consists of comparing one’s estimator against simple rules of thumb that can be used as a baseline model to provide a point of comparison for the more advanced algorithms.\n",
    "\n",
    "A baseline model uses heuristics, simple summary statistics, randomness, or machine learning to create predictions from a dataset. These predictions can be evaluated using metrics such as classification accuracy or RMSE. The scores from these baseline algorithms provide the required point of comparison when evaluating all other machine learning algorithms. Once established, we can comment on how much better a given algorithm is compared to the naive baseline algorithm, providing context on just how good a given method actually is.\n",
    "\n",
    "The two commonly used baseline methods are:\n",
    "- **Random Prediction Algorithm** - predicts a random (distinct) outcome.\n",
    "- **Zero Rule Algorithm** - uses more information about a given problem to create one rule in order to make predictions. This rule is different depending on the problem type. \n",
    "    - For **classification** problems, the one rule is to predict the class value that is most common in the training dataset. \n",
    "    - Regression problems require the prediction of a real value. A good default prediction for real values is to predict the central tendency. This could be the mean or the median. This is likely to have a lower error than random prediction which will return any observed output value.\n",
    "\n",
    "When starting on a new problem that is more difficult than a conventional classification or regression problem, it is a good idea to first devise a random prediction algorithm that is specific to the prediction problem. Later you can improve upon this and devise a zero rule algorithm."
   ]
  },
  {
   "cell_type": "markdown",
   "id": "403df223",
   "metadata": {},
   "source": [
    "Besides using the mean or the value counts as a baseline model, we can also use [scikit learn](https://scikit-learn.org/stable/modules/model_evaluation.html#dummy-estimators) to perform this for both classification and regression problems. \n",
    "\n",
    "**`DummyClassifier`** for classification baselines\n",
    "- **stratified** generates random predictions by respecting the training set class distribution.\n",
    "- **most_frequent** always predicts the most frequent label in the training set.\n",
    "- **prior** always predicts the class that maximizes the class prior (like most_frequent) and `predict_proba` returns the class prior.\n",
    "- **uniform** generates predictions uniformly at random.\n",
    "- **constant** always predicts a constant label that is provided by the user. \n",
    "\n",
    "A major motivation of this method is F1-scoring, when the positive class is a minority.\n",
    "\n",
    "**`DummyRegressor`** for regression baselines\n",
    "- **mean** always predicts the mean of the training targets.\n",
    "- **median** always predicts the median of the training targets.\n",
    "- **quantile** always predicts a user provided quantile of the training targets.\n",
    "- **constant** always predicts a constant value that is provided by the user.\n",
    "\n",
    ">**Note that with all these strategies, the predict method completely ignores the input data**"
   ]
  },
  {
   "cell_type": "markdown",
   "id": "b9506d2e",
   "metadata": {},
   "source": [
    "Let's look at a couple of examples to gain a better understaing."
   ]
  },
  {
   "cell_type": "code",
   "execution_count": 2,
   "id": "a606cbaa",
   "metadata": {},
   "outputs": [
    {
     "data": {
      "text/html": [
       "<div>\n",
       "<style scoped>\n",
       "    .dataframe tbody tr th:only-of-type {\n",
       "        vertical-align: middle;\n",
       "    }\n",
       "\n",
       "    .dataframe tbody tr th {\n",
       "        vertical-align: top;\n",
       "    }\n",
       "\n",
       "    .dataframe thead th {\n",
       "        text-align: right;\n",
       "    }\n",
       "</style>\n",
       "<table border=\"1\" class=\"dataframe\">\n",
       "  <thead>\n",
       "    <tr style=\"text-align: right;\">\n",
       "      <th></th>\n",
       "      <th>Play_sport(hrs)</th>\n",
       "      <th>Test_scores</th>\n",
       "    </tr>\n",
       "  </thead>\n",
       "  <tbody>\n",
       "    <tr>\n",
       "      <th>0</th>\n",
       "      <td>2</td>\n",
       "      <td>41</td>\n",
       "    </tr>\n",
       "    <tr>\n",
       "      <th>1</th>\n",
       "      <td>4</td>\n",
       "      <td>59</td>\n",
       "    </tr>\n",
       "  </tbody>\n",
       "</table>\n",
       "</div>"
      ],
      "text/plain": [
       "   Play_sport(hrs)  Test_scores\n",
       "0                2           41\n",
       "1                4           59"
      ]
     },
     "execution_count": 2,
     "metadata": {},
     "output_type": "execute_result"
    }
   ],
   "source": [
    "# time spent in sport (hrs)\n",
    "x = np.array([2,4,8,6,1,4,3,6,0,1])\n",
    "\n",
    "# scores in a test\n",
    "y = np.array([41, 59,  7, 24, 74, 28, 40, 29, 78, 55])\n",
    "\n",
    "# Method 1 - converting data into a dictionary\n",
    "# d = {'Play_sport(hrs)':x,'Test_scores':y}\n",
    "# df = pd.DataFrame(data=d)\n",
    "\n",
    "# Method 2 - joining 2 dataframes\n",
    "# df1 = pd.DataFrame(x, columns=['Play_sport(hrs)'])\n",
    "# df2 = pd.DataFrame(y, columns=['Test_scores'])\n",
    "# df = df1.join(df2)\n",
    "\n",
    "# Method 3 - this method only works if we transpose the data first\n",
    "# df = pd.DataFrame(data=[x,y]).T\n",
    "# df.columns = ['Play_sport(hrs)','Test_scores']\n",
    "\n",
    "# Method 4 - applying numpy's horizontal stack method\n",
    "# df = pd.DataFrame(data=np.hstack((x[:,None],y[:,None])),\n",
    "#                   columns = ['Play_sport(hrs)','Test_scores'])\n",
    "\n",
    "# Method 5 - starting with an empty dataframe\n",
    "df = pd.DataFrame()\n",
    "df['Play_sport(hrs)'] = x\n",
    "df['Test_scores'] = y\n",
    "\n",
    "df.head(2)"
   ]
  },
  {
   "cell_type": "code",
   "execution_count": 3,
   "id": "d45ca2e8",
   "metadata": {},
   "outputs": [
    {
     "data": {
      "text/plain": [
       "<seaborn.axisgrid.FacetGrid at 0x230cfafb310>"
      ]
     },
     "execution_count": 3,
     "metadata": {},
     "output_type": "execute_result"
    },
    {
     "data": {
      "image/png": "[encoded data removed]",
      "text/plain": [
       "<Figure size 360x360 with 1 Axes>"
      ]
     },
     "metadata": {
      "needs_background": "light"
     },
     "output_type": "display_data"
    }
   ],
   "source": [
    "# distribution plot of the test scores (the blue bars and blue line)\n",
    "sns.displot(df['Test_scores'], label='distribution', kind='kde')"
   ]
  },
  {
   "cell_type": "code",
   "execution_count": 4,
   "id": "737b720a",
   "metadata": {
    "scrolled": true
   },
   "outputs": [
    {
     "data": {
      "text/plain": [
       "[(-40.0, 120.0)]"
      ]
     },
     "execution_count": 4,
     "metadata": {},
     "output_type": "execute_result"
    },
    {
     "data": {
      "image/png": "[encoded data removed]",
      "text/plain": [
       "<Figure size 432x288 with 1 Axes>"
      ]
     },
     "metadata": {
      "needs_background": "light"
     },
     "output_type": "display_data"
    }
   ],
   "source": [
    "plot = sns.histplot(df['Test_scores'], label='distribution', kde=True)\n",
    "plot.set(xlim=(-40, 120))"
   ]
  },
  {
   "cell_type": "code",
   "execution_count": 5,
   "id": "748b421b",
   "metadata": {},
   "outputs": [
    {
     "name": "stderr",
     "output_type": "stream",
     "text": [
      "C:\\Users\\Michael\\anaconda3\\lib\\site-packages\\seaborn\\distributions.py:2557: FutureWarning: `distplot` is a deprecated function and will be removed in a future version. Please adapt your code to use either `displot` (a figure-level function with similar flexibility) or `histplot` (an axes-level function for histograms).\n",
      "  warnings.warn(msg, FutureWarning)\n"
     ]
    },
    {
     "data": {
      "text/plain": [
       "<AxesSubplot:xlabel='Test_scores', ylabel='Density'>"
      ]
     },
     "execution_count": 5,
     "metadata": {},
     "output_type": "execute_result"
    },
    {
     "data": {
      "image/png": "[encoded data removed]",
      "text/plain": [
       "<Figure size 432x288 with 1 Axes>"
      ]
     },
     "metadata": {
      "needs_background": "light"
     },
     "output_type": "display_data"
    }
   ],
   "source": [
    "# distribution plot of the test scores (the blue bars and blue line)\n",
    "sns.distplot(df['Test_scores'], label='distribution')"
   ]
  },
  {
   "cell_type": "code",
   "execution_count": 6,
   "id": "b0e8dd17",
   "metadata": {
    "scrolled": false
   },
   "outputs": [
    {
     "name": "stderr",
     "output_type": "stream",
     "text": [
      "C:\\Users\\Michael\\anaconda3\\lib\\site-packages\\seaborn\\distributions.py:2557: FutureWarning: `distplot` is a deprecated function and will be removed in a future version. Please adapt your code to use either `displot` (a figure-level function with similar flexibility) or `histplot` (an axes-level function for histograms).\n",
      "  warnings.warn(msg, FutureWarning)\n"
     ]
    },
    {
     "data": {
      "text/plain": [
       "<matplotlib.legend.Legend at 0x230f4ede0d0>"
      ]
     },
     "execution_count": 6,
     "metadata": {},
     "output_type": "execute_result"
    },
    {
     "data": {
      "image/png": "[encoded data removed]",
      "text/plain": [
       "<Figure size 432x288 with 1 Axes>"
      ]
     },
     "metadata": {
      "needs_background": "light"
     },
     "output_type": "display_data"
    }
   ],
   "source": [
    "# distribution plot of the test scores (the blue bars and blue line)\n",
    "sns.distplot(df['Test_scores'], label='distribution')\n",
    "\n",
    "# plotting the test scores along the x-axis (the red dots)\n",
    "plt.plot(df['Test_scores'], np.zeros_like(y), 'o', color='r', label='test scores')\n",
    "\n",
    "# plotting the mean test score horizontally (green dashed line)\n",
    "plt.axvline(np.mean(df['Test_scores']),linestyle='--',color='g', label='average')\n",
    "\n",
    "# putting the labels outside the chart\n",
    "plt.legend(loc='center left', bbox_to_anchor=(1, 0.5))"
   ]
  },
  {
   "cell_type": "markdown",
   "id": "4ba3e866",
   "metadata": {},
   "source": [
    "In the following illustration, we can see that the red line is the baseline model being compared to the the blue line (the regression line)."
   ]
  },
  {
   "cell_type": "code",
   "execution_count": 7,
   "id": "13544cc3",
   "metadata": {},
   "outputs": [
    {
     "data": {
      "text/plain": [
       "<matplotlib.lines.Line2D at 0x230f4f6f0a0>"
      ]
     },
     "execution_count": 7,
     "metadata": {},
     "output_type": "execute_result"
    },
    {
     "data": {
      "image/png": "[encoded data removed]",
      "text/plain": [
       "<Figure size 360x360 with 1 Axes>"
      ]
     },
     "metadata": {
      "needs_background": "light"
     },
     "output_type": "display_data"
    }
   ],
   "source": [
    "sns.lmplot(data=df, x='Play_sport(hrs)', y='Test_scores')\n",
    "\n",
    "plt.axhline(df['Test_scores'].mean(), color='r', ls='--')"
   ]
  },
  {
   "cell_type": "markdown",
   "id": "f6c724ed",
   "metadata": {},
   "source": [
    "In this example, using the Iris dataset from sklearn, we can see that the baseline accuracy is around 60% while the SVC model's accuracy was improved to 95%. "
   ]
  },
  {
   "cell_type": "code",
   "execution_count": 8,
   "id": "bb82510d",
   "metadata": {},
   "outputs": [],
   "source": [
    "from sklearn.datasets import load_iris\n",
    "from sklearn.model_selection import train_test_split\n",
    "from sklearn.dummy import DummyClassifier\n",
    "from sklearn.svm import SVC"
   ]
  },
  {
   "cell_type": "code",
   "execution_count": 9,
   "id": "f339ae55",
   "metadata": {},
   "outputs": [
    {
     "name": "stdout",
     "output_type": "stream",
     "text": [
      "Baseline score is: 0.5789473684210527\n",
      "SVC score is: 0.631578947368421\n",
      "SVC score is: 0.9473684210526315\n"
     ]
    }
   ],
   "source": [
    "X, y = load_iris(return_X_y=True)\n",
    "y[y != 1] = -1    # this is done to create an imbalanced dataset\n",
    "X_train, X_test, y_train, y_test = train_test_split(X, y, random_state=0)\n",
    "\n",
    "clf_base = DummyClassifier(strategy='most_frequent', random_state=0)\n",
    "clf_base.fit(X_train, y_train)\n",
    "print(f\"Baseline score is: {clf_base.score(X_test, y_test)}\")\n",
    "\n",
    "clf_model1 = SVC(kernel='linear', C=1).fit(X_train, y_train)\n",
    "clf_model1.score(X_test, y_test)\n",
    "print(f\"SVC score is: {clf_model1.score(X_test, y_test)}\")\n",
    "\n",
    "clf_model2 = SVC(kernel='rbf', C=1).fit(X_train, y_train)\n",
    "clf_model2.score(X_test, y_test)\n",
    "print(f\"SVC score is: {clf_model2.score(X_test, y_test)}\")"
   ]
  },
  {
   "cell_type": "markdown",
   "id": "5dc1c7eb",
   "metadata": {},
   "source": [
    "When the accuracy of a classifier is too close to random, it probably means that something went wrong: features are not helpful, a hyperparameter is not correctly tuned, the classifier is suffering from class imbalance, etc…"
   ]
  },
  {
   "cell_type": "markdown",
   "id": "ff3075eb",
   "metadata": {},
   "source": [
    "<a id=\"resample\"></a>\n",
    "<h2 align=\"center\">EVALUATE PERFORMANCE OF MACHINE LEARNING ALGORITHMS WITH RESAMPLING</h2>\n",
    "\n",
    "The goal of predictive modeling is to create models that make good predictions on new data. Thus, it is important to know how well these machine learning algorithms perform on unseen data. The best way to evaluate the performance of an algorithm would be to make predictions for new data to which we already know the answers. The second best way is to use clever techniques from statistics called **resampling methods**, as they are resampling the available training data. The goal of resampling methods is to make the best use of the training data in order to accurately estimate the performance of a model on new unseen data. Accurate estimates of performance can then be used to help choose which set of model parameters to use or which model to select. Once we estimate the performance of our algorithm, we can then re-train the final algorithm on the entire training dataset and get it ready for operational use.\n",
    "\n",
    "So why can’t we train a machine learning algorithm on the dataset and use predictions from this same dataset to evaluate machine learning algorithms? The simple answer is **overfitting**.<br>\n",
    "$\\;\\;\\;\\;\\;\\;\\;$Imagine an algorithm that remembers every observation it is shown during training. If we evaluated a machine learning algorithm on the same dataset used to train the algorithm, then an algorithm like this would have a perfect score on the training dataset. But the predictions it made on new data would be terrible.<br>\n",
    "$\\;\\;\\;\\;\\;\\;\\;$We must evaluate the machine learning algorithms on data that is not used to train the algorithm. This evaluation is an estimate that we can use to talk about how well we think the algorithm may actually do in practice. However, it is not a guarantee of performance. \n",
    "\n",
    "Some common resampling techniques that we can use to split up the training dataset and create useful estimates of performance for machine learning algorithms:\n",
    "- **Train and Test Sets**\n",
    "- **k-fold Cross Validation**\n",
    "- **Leave One Out Cross Validation**\n",
    "- **Repeated Random Test-Train Splits**"
   ]
  },
  {
   "cell_type": "markdown",
   "id": "28f59310",
   "metadata": {},
   "source": [
    "<a id=\"problem\"></a>\n",
    "<h3><ins>Problem With Naive Data Preparation</ins></h3>\n",
    "\n",
    "Data preparation is the process of transforming raw data into a form that is appropriate for modeling. The manner in which data preparation techniques are applied to data significantly matters.<br>\n",
    "$\\;\\;\\;\\;\\;\\;\\;$A naive approach to preparing data is to first apply any transforms to the entire dataset. The transformed dataset is then either split into train and test sets or k-fold cross-validation is used to fit and evaluate a machine learning model.<br>\n",
    "$\\;\\;\\;\\;\\;\\;\\;$Although this is a common approach, it is dangerously incorrect in most cases. The problem with applying data preparation techniques before splitting data for model evaluation is that it can lead to **data leakage** and, in turn, will *likely result in an incorrect estimate of a model’s performance on the problem.* Data leakage refers to a problem where knowledge/information about the holdout dataset, such as a test or validation dataset, is made available to (or leaks into) the model in the training phase. *This leakage is often small and subtle but can have a marked effect on performance.*\n",
    ">A careful application of data preparation techniques is required in order to avoid data leakage, and this varies depending on the model evaluation scheme used, such as **train test splits** or **k-fold cross-validation**."
   ]
  },
  {
   "cell_type": "markdown",
   "id": "bbe3617d",
   "metadata": {},
   "source": [
    "<a id=\"leak\"></a>\n",
    "<h3><ins>Data Preparation Without Data Leakage</ins></h3>\n",
    "\n",
    "We get data leakage by applying data preparation techniques to the entire dataset. This is not a direct type of data leakage, where we would train the model on the test dataset. Instead, it is an indirect type of data leakage, where some knowledge about the test dataset, captured in summary statistics is available to the model during training. This can make it a harder type of data leakage to spot, especially for beginners. For example:\n",
    "- Consider the case where we want to normalize data, that is scale input variables to the range 0-1. This requires that we first calculate the minimum and maximum values for each variable before using these values to scale the variables. The dataset is then split into train and test datasets. But, the examples in the training dataset know something about the data in the test dataset; they have been scaled by the global minimum and maximum values, so they know more about the global distribution of the variable then they should.\n",
    "- We get the same type of leakage with almost all data preparation techniques; for example, standardization estimates the mean and standard deviation values from the domain in order to scale the variables.\n",
    "- Even models that impute missing values using a model or summary statistics will draw on the full dataset to fill in values in the training dataset. \n",
    "\n",
    "**The solution is straightforward.** Data preparation must be fit on the training dataset only. That is, any coefficients or models prepared for the data preparation process must only use rows of data in the training dataset. Once fit, the data preparation algorithms or models can then be applied to the training dataset, and to the test dataset.\n",
    "\n",
    "1. Split Data.\n",
    "2. Fit Data Preparation on Training Dataset.\n",
    "3. Apply Data Preparation to Train and Test Datasets.\n",
    "4. Evaluate Models.\n",
    "\n",
    ">**More generally, the entire modeling pipeline must be prepared only on the training dataset to avoid data leakage. This might include data transforms, but also other techniques such as feature selection, dimensionality reduction, feature engineering and more.**"
   ]
  },
  {
   "cell_type": "markdown",
   "id": "732d4c1e",
   "metadata": {},
   "source": [
    "<a id=\"train\"></a>\n",
    "<h3><ins>Resampling With Train and Test Sets</ins></h3>\n",
    "\n",
    "The **train and test split** is the easiest resampling method we can use to evaluate the performance of a machine learning algorithm. As such, it is the most widely used. The correct approach to performing data preparation with a train-test split evaluation is to first split the data, fit the data preparation on the training set, then apply the transform to the train and test sets.<br>\n",
    "$\\;\\;\\;\\;\\;\\;\\;$This algorithm evaluation technique is very fast and ideal for large datasets (millions of records) where there is strong evidence that both splits of the data are representative of the underlying problem. Because of the speed, it is useful to use this approach when the algorithm under investigaton is slow to train. A downside of this technique is that it can have a high variance. This means that differences in the training and test dataset can result in meaningful differences in the estimate of accuracy.\n",
    "\n",
    "If multiple algorithms are compared or multiple configurations of the same algorithm are compared, the same train and test split of the dataset should be used. This is to ensure that the comparison of performance is consistent or apples-to-apples. We can achieve this by seeding the random number generator the same way before splitting the data, or by holding the same split of the dataset for use by multiple algorithms."
   ]
  },
  {
   "cell_type": "code",
   "execution_count": 10,
   "id": "0703a784",
   "metadata": {},
   "outputs": [],
   "source": [
    "from sklearn.metrics import accuracy_score\n",
    "from sklearn.preprocessing import MinMaxScaler\n",
    "from sklearn.datasets import make_classification\n",
    "from sklearn.linear_model import LogisticRegression\n",
    "from sklearn.model_selection import train_test_split\n",
    "\n",
    "# define dataset\n",
    "X, y = make_classification(n_samples=1000, n_features=20,\n",
    "                           n_informative=15, n_redundant=5, random_state=7)"
   ]
  },
  {
   "cell_type": "code",
   "execution_count": 11,
   "id": "d08f0946",
   "metadata": {},
   "outputs": [
    {
     "name": "stdout",
     "output_type": "stream",
     "text": [
      "Accuracy with the Naive Approach: 84.8485\n"
     ]
    }
   ],
   "source": [
    "# Naive Approach - scale then split\n",
    "\n",
    "# prepare and transform the data\n",
    "scaler_incorrect = MinMaxScaler()\n",
    "X_nay = scaler_incorrect.fit_transform(X)\n",
    "\n",
    "# split the data\n",
    "X_train, X_test, y_train, y_test = train_test_split(X_nay, y, test_size=0.33,\n",
    "                                                    random_state=1)\n",
    "# fit the model\n",
    "model = LogisticRegression()\n",
    "model.fit(X_train,y_train)\n",
    "\n",
    "# evaluate the model\n",
    "yhat = model.predict(X_test)\n",
    "accuracy = accuracy_score(y_test, yhat)\n",
    "print(f'Accuracy with the Naive Approach: {accuracy*100:.4f}')"
   ]
  },
  {
   "cell_type": "code",
   "execution_count": 12,
   "id": "b5190f87",
   "metadata": {},
   "outputs": [
    {
     "name": "stdout",
     "output_type": "stream",
     "text": [
      "Accuracy with the Correct Approach: 85.4545\n"
     ]
    }
   ],
   "source": [
    "# Correct Approach - split then scale\n",
    "\n",
    "# split the data\n",
    "X_train, X_test, y_train, y_test = train_test_split(X, y, test_size=0.33,\n",
    "                                                    random_state=1)\n",
    "# prepare and transform the data\n",
    "scaler_correct = MinMaxScaler()\n",
    "scaler_correct.fit(X_train)\n",
    "X_train_cor = scaler_correct.transform(X_train)\n",
    "X_test_cor = scaler_correct.transform(X_test)\n",
    "\n",
    "# fit the model\n",
    "model = LogisticRegression()\n",
    "model.fit(X_train_cor, y_train)\n",
    "\n",
    "# evaluate the model\n",
    "yhat = model.predict(X_test_cor)\n",
    "accuracy = accuracy_score(y_test, yhat)\n",
    "print(f'Accuracy with the Correct Approach: {accuracy*100:.4f}')"
   ]
  },
  {
   "cell_type": "markdown",
   "id": "e5d965b5",
   "metadata": {},
   "source": [
    "<a id=\"kfold\"></a>\n",
    "<h3><ins>Resampling With k-fold Cross-Validation</ins></h3>\n",
    "\n",
    "A limitation of using the train and test split method is that you get a noisy estimate of algorithm performance. The **k-fold cross-validation** resampling procedure generally gives a more accurate and reliable estimate of model performance with less variance than a train-test split, although it is more computationally expensive given the repeated fitting and evaluation of models.<br>\n",
    "$\\;\\;\\;\\;\\;\\;\\;$Data preparation without data leakage when using cross-validation is slightly more challenging. It requires that the data preparation method is prepared on the training set and applied to the train and test sets within the cross-validation procedure, e.g. the groups of folds of rows. We can achieve this by defining a modeling **pipeline** that defines a sequence of data preparation steps to perform and ending in the model to fit and evaluate.\n",
    "\n",
    "k-fold cross-validation involves splitting the dataset into $k$ non-overlapping groups of rows. The algorithm is then trained on all but one group to form a training dataset and then evaluated on the held-out fold. This process is repeated $k$ times so that each fold is given a chance to be used as the holdout test set. Finally, the average performance across all evaluations is reported. \n",
    ">**The choice of $k$ must allow the size of each test partition to be large enough to be a reasonable sample of the problem, whilst allowing enough repetitions of the train-test evaluation of the algorithm to provide a fair estimate of the algorithms performance on unseen data. A good default to use is $k=3$ for a small dataset or $k=10$ for a larger dataset. A quick way to check if the fold sizes are representative is to calculate summary statistics such as mean and standard deviation and see how much the values differ from the same statistics on the whole dataset.**"
   ]
  },
  {
   "cell_type": "code",
   "execution_count": 13,
   "id": "afa500e1",
   "metadata": {},
   "outputs": [],
   "source": [
    "from sklearn.model_selection import (cross_val_score, RepeatedStratifiedKFold,\n",
    "                                     KFold)\n",
    "from sklearn.pipeline import Pipeline"
   ]
  },
  {
   "cell_type": "code",
   "execution_count": 14,
   "id": "49fd82b8",
   "metadata": {},
   "outputs": [
    {
     "name": "stdout",
     "output_type": "stream",
     "text": [
      "Accuracy using Naive Approach: 85.200 (1.720)\n"
     ]
    }
   ],
   "source": [
    "# naive data preparation for model evaluation with k-fold cross-validation\n",
    "\n",
    "# standardize the dataset\n",
    "scaler = MinMaxScaler()\n",
    "X_nay = scaler.fit_transform(X)\n",
    "\n",
    "# define the model\n",
    "model = LogisticRegression()\n",
    "\n",
    "# define the evaluation procedure\n",
    "cv = KFold(n_splits=10, shuffle=False, random_state=None)\n",
    "\n",
    "# evaluate the model using cross-validation\n",
    "scores = cross_val_score(model, X_nay, y, scoring='accuracy', \n",
    "                         cv=cv, n_jobs=-1)\n",
    "\n",
    "# report performance\n",
    "print('Accuracy using Naive Approach: %.3f (%.3f)' % (np.mean(scores)*100,\n",
    "                                                        np.std(scores)*100))"
   ]
  },
  {
   "cell_type": "code",
   "execution_count": 15,
   "id": "de993d3c",
   "metadata": {},
   "outputs": [
    {
     "name": "stdout",
     "output_type": "stream",
     "text": [
      "Accuracy using Correct Approach with KFold: 84.900 (1.814%)\n"
     ]
    }
   ],
   "source": [
    "# correct data preparation for model evaluation with k-fold cross-validation\n",
    "\n",
    "# define the pipeline\n",
    "steps = [('scaler', MinMaxScaler()), ('model', LogisticRegression())]\n",
    "pipeline = Pipeline(steps=steps)\n",
    "\n",
    "# define the evaluation procedure\n",
    "cv = KFold(n_splits=10, shuffle=False, random_state=None)\n",
    "\n",
    "# evaluate the model using cross-validation\n",
    "scores = cross_val_score(pipeline, X, y, scoring='accuracy', cv=cv, n_jobs=-1)\n",
    "\n",
    "# report performance\n",
    "print('Accuracy using Correct Approach with KFold: %.3f (%.3f%%)' % (np.mean(scores)*100,\n",
    "                                                                   np.std(scores)*100))"
   ]
  },
  {
   "cell_type": "code",
   "execution_count": 16,
   "id": "9e23a881",
   "metadata": {},
   "outputs": [
    {
     "name": "stdout",
     "output_type": "stream",
     "text": [
      "Accuracy using Correct Approach with KFold: 85.100 (2.211%)\n"
     ]
    }
   ],
   "source": [
    "# correct data preparation for model evaluation with k-fold cross-validation\n",
    "\n",
    "# define the pipeline\n",
    "steps = [('scaler', MinMaxScaler()), ('model', LogisticRegression())]\n",
    "pipeline = Pipeline(steps=steps)\n",
    "\n",
    "# define the evaluation procedure\n",
    "cv = KFold(n_splits=10, shuffle=True, random_state=1)\n",
    "\n",
    "# evaluate the model using cross-validation\n",
    "scores = cross_val_score(pipeline, X, y, scoring='accuracy', cv=cv, n_jobs=-1)\n",
    "\n",
    "# report performance\n",
    "print('Accuracy using Correct Approach with KFold: %.3f (%.3f%%)' % (np.mean(scores)*100,\n",
    "                                                                   np.std(scores)*100))"
   ]
  },
  {
   "cell_type": "markdown",
   "id": "dd5ea225",
   "metadata": {},
   "source": [
    "In the following example we will use repeated stratified 10-fold cross-validation, which is a best practice for classification. Repeated means that the whole cross-validation procedure is repeated multiple times, three in this case. Stratified means that each group of rows will have the relative composition of examples from each class as the whole dataset. We will use k = 10 or 10-fold cross-validation. This can be achieved using the **RepeatedStratifiedKFold** which can be configured to three repeats and 10 folds, and then using the `cross val score()` function to perform the procedure, passing in the defined model, cross-validation object, and metric to calculate, in this case, accuracy."
   ]
  },
  {
   "cell_type": "code",
   "execution_count": 17,
   "id": "cf184fa5",
   "metadata": {},
   "outputs": [
    {
     "name": "stdout",
     "output_type": "stream",
     "text": [
      "Accuracy using Naive Approach: 85.300 (3.607)\n"
     ]
    }
   ],
   "source": [
    "# naive data preparation for model evaluation with \n",
    "# repeated stratified k-fold cross-validation\n",
    "\n",
    "# standardize the dataset\n",
    "scaler = MinMaxScaler()\n",
    "X_nay = scaler.fit_transform(X)\n",
    "\n",
    "# define the model\n",
    "model = LogisticRegression()\n",
    "\n",
    "# define the evaluation procedure\n",
    "cv = RepeatedStratifiedKFold(n_splits=10, n_repeats=3, random_state=1)\n",
    "\n",
    "# evaluate the model using cross-validation\n",
    "scores = cross_val_score(model, X_nay, y, scoring='accuracy', cv=cv, n_jobs=-1)\n",
    "\n",
    "# report performance\n",
    "print('Accuracy using Naive Approach: %.3f (%.3f)' % (np.mean(scores)*100,\n",
    "                                                        np.std(scores)*100))"
   ]
  },
  {
   "cell_type": "code",
   "execution_count": 18,
   "id": "48e9ea8b",
   "metadata": {},
   "outputs": [
    {
     "name": "stdout",
     "output_type": "stream",
     "text": [
      "Accuracy using Correct Approach with RepeatedStratifiedKFold: 85.433 (3.471)\n"
     ]
    }
   ],
   "source": [
    "# correct data preparation for model evaluation with \n",
    "# repeated stratified k-fold cross-validation\n",
    "\n",
    "# define the pipeline\n",
    "steps = [('scaler', MinMaxScaler()), ('model', LogisticRegression())]\n",
    "pipeline = Pipeline(steps=steps)\n",
    "\n",
    "# define the evaluation procedure\n",
    "cv = RepeatedStratifiedKFold(n_splits=10, n_repeats=3, random_state=1)\n",
    "\n",
    "# evaluate the model using cross-validation\n",
    "scores = cross_val_score(pipeline, X, y, scoring='accuracy', cv=cv, n_jobs=-1)\n",
    "\n",
    "# report performance\n",
    "print('Accuracy using Correct Approach with RepeatedStratifiedKFold: %.3f (%.3f)' % (np.mean(scores)*100,\n",
    "                                                                                     np.std(scores)*100))"
   ]
  },
  {
   "cell_type": "markdown",
   "id": "d8c30b67",
   "metadata": {},
   "source": [
    "<a id=\"leave\"></a>\n",
    "<h3><ins>Resampling With Leave-One-Out Cross-Validation</ins></h3>\n",
    "\n",
    "We can configure cross validation so that the size of the fold is 1 (k is set to the number of observations in the dataset). This variation of cross validation is called **leave-one-out cross-validation**. The result is a large number of performance measures that can be summarized in an effort to give a more reasonable estimate of the accuracy of the model on unseen data. A downside is that it can be a computationally more expensive procedure than k-fold cross validation. "
   ]
  },
  {
   "cell_type": "code",
   "execution_count": 19,
   "id": "cbdfaed6",
   "metadata": {},
   "outputs": [],
   "source": [
    "from sklearn.model_selection import LeaveOneOut"
   ]
  },
  {
   "cell_type": "code",
   "execution_count": 20,
   "id": "fdc26eb3",
   "metadata": {},
   "outputs": [
    {
     "name": "stdout",
     "output_type": "stream",
     "text": [
      "Accuracy using Correct Approach with Leave-one-out: 85.600 (35.109%)\n"
     ]
    }
   ],
   "source": [
    "# define the pipeline\n",
    "steps = [('scaler', MinMaxScaler()), ('model', LogisticRegression())]\n",
    "pipeline = Pipeline(steps=steps)\n",
    "\n",
    "# define the evaluation procedure\n",
    "loocv = LeaveOneOut()\n",
    "\n",
    "# evaluate the model using cross-validation\n",
    "scores = cross_val_score(pipeline, X, y, scoring='accuracy',\n",
    "                         cv=loocv, n_jobs=-1)\n",
    "\n",
    "# report performance\n",
    "print('Accuracy using Correct Approach with Leave-one-out: %.3f (%.3f%%)' % (np.mean(scores)*100,\n",
    "                                                                             np.std(scores)*100))"
   ]
  },
  {
   "cell_type": "markdown",
   "id": "47154a2d",
   "metadata": {},
   "source": [
    "The scores for Leave-One-Out cross-validation has significantly more variance than the k-fold cross-validation results."
   ]
  },
  {
   "cell_type": "markdown",
   "id": "e342f59a",
   "metadata": {},
   "source": [
    "<a id=\"repeat\"></a>\n",
    "<h3><ins>Resampling With Repeated Random Test-Train Splits</ins></h3>\n",
    "\n",
    "Another variation on k-fold cross validation is to create a random split of the data like the train/test split described above, but repeat the process of splitting and evaluation of the algorithm multiple times, like cross validation. This has the speed of using a train/test split and the reduction in variance in the estimated performance of k-fold cross validation. You can also repeat the process many more times as needed to improve the accuracy. A down side is that repetitions may include much of the same data in the train or the test split from run to run, introducing redundancy into the evaluation."
   ]
  },
  {
   "cell_type": "code",
   "execution_count": 21,
   "id": "3b5a4d86",
   "metadata": {},
   "outputs": [],
   "source": [
    "from sklearn.model_selection import ShuffleSplit"
   ]
  },
  {
   "cell_type": "code",
   "execution_count": 22,
   "id": "e7fe3f26",
   "metadata": {},
   "outputs": [
    {
     "name": "stdout",
     "output_type": "stream",
     "text": [
      "Accuracy using Correct Approach with ShuffleSplit: 85.030 (1.175%)\n"
     ]
    }
   ],
   "source": [
    "# define the pipeline\n",
    "steps = [('scaler', MinMaxScaler()), ('model', LogisticRegression())]\n",
    "pipeline = Pipeline(steps=steps)\n",
    "\n",
    "# define the evaluation procedure\n",
    "kfold = ShuffleSplit(n_splits=10, test_size=0.33, random_state=1)\n",
    "\n",
    "# evaluate the model using cross-validation\n",
    "scores = cross_val_score(pipeline, X, y, scoring='accuracy',\n",
    "                         cv=kfold, n_jobs=-1)\n",
    "\n",
    "# report performance\n",
    "print('Accuracy using Correct Approach with ShuffleSplit: %.3f (%.3f%%)' % (np.mean(scores)*100,\n",
    "                                                                   np.std(scores)*100))"
   ]
  },
  {
   "cell_type": "markdown",
   "id": "d7a66536",
   "metadata": {},
   "source": [
    "<a id=\"resamp\"></a>\n",
    "<h3><ins>How to Choose a Resampling Method</ins></h3>\n",
    "\n",
    "The gold standard for estimating the performance of machine learning algorithms on new data is k-fold cross-validation. When well-configured, k-fold cross-validation gives a robust estimate of performance compared to other methods such as the train and test split. The downside of cross-validation is that it can be time-consuming to run, requiring $k$ different models to be trained and evaluated. This is a problem if you have a very large dataset or if you are evaluating a model that takes a long time to train.\n",
    "\n",
    "The train and test split resampling method is the most widely used. This is because it is easy to understand and implement, and because it gives a quick estimate of algorithm performance. Only a single model is constructed and evaluated. Although the train and test split method can give a noisy or unreliable estimate of the performance of a model on new data, this becomes less of a problem if you have a very large dataset. Using a train/test split is good for speed when using a slow algorithm and produces performance estimates with lower bias when using large datasets.\n",
    "\n",
    "Large datasets are those in the hundreds of thousands or millions of records, large enough that splitting it in half results in two datasets that have nearly equivalent statistical properties. In such cases, there may be little need to use k-fold cross-validation as an evaluation of the algorithm and a train and test split may be just as reliable.\n",
    "\n",
    "Techniques like leave-one-out cross validation and repeated random splits can be useful intermediates when trying to balance variance in the estimated performance, model training speed and dataset size."
   ]
  },
  {
   "cell_type": "markdown",
   "id": "afc6ece2",
   "metadata": {},
   "source": [
    "<a id=\"metrics\"></a>\n",
    "<h2 align=\"center\">EVALUATION METRICS</h2>\n",
    "\n",
    "After we make predictions, we need to know if they are any good. There are standard measures that are used to summarize how good a set of predictions actually is. Knowing how good a set of predictions is allows us to make estimates about the performance of a given machine learning model. \n",
    "\n",
    "The metrics that we choose to evaluate the machine learning algorithms are very important. Choice of metrics influences how the performance of machine learning algorithms is measured and compared. They influence how we weight the importance of different characteristics in the results and our ultimate choice of which algorithm to choose.\n",
    "\n",
    "**Performance metrics** like classification accuracy and root mean squared error can give us a clear objective idea of how good a set of predictions is, and in turn how good the model is that generated them. This is important as it allows us to tell the difference and select among:\n",
    "- Different data transforms used to train the same machine learning model.\n",
    "- Different machine learning models trained on the same data.\n",
    "- Different machine learning model configurations trained on the same data.\n",
    "\n",
    "There are many other performance metrics such as:\n",
    "- Precision, Recall, F1 & Area Under ROC Curve or AUC for classification.\n",
    "- Goodness of Fit or $R^2$ for regression."
   ]
  },
  {
   "cell_type": "markdown",
   "id": "ecb95f01",
   "metadata": {},
   "source": [
    "<a id=\"class\"></a>\n",
    "<h3><ins>Classification Metrics</ins></h3>\n",
    "\n",
    "Classification problems are perhaps the most common type of machine learning problem and as such there are a myriad of metrics that can be used to evaluate predictions for these problems."
   ]
  },
  {
   "cell_type": "code",
   "execution_count": 23,
   "id": "614357f5",
   "metadata": {},
   "outputs": [
    {
     "data": {
      "text/html": [
       "<div>\n",
       "<style scoped>\n",
       "    .dataframe tbody tr th:only-of-type {\n",
       "        vertical-align: middle;\n",
       "    }\n",
       "\n",
       "    .dataframe tbody tr th {\n",
       "        vertical-align: top;\n",
       "    }\n",
       "\n",
       "    .dataframe thead th {\n",
       "        text-align: right;\n",
       "    }\n",
       "</style>\n",
       "<table border=\"1\" class=\"dataframe\">\n",
       "  <thead>\n",
       "    <tr style=\"text-align: right;\">\n",
       "      <th></th>\n",
       "      <th>preg</th>\n",
       "      <th>plas</th>\n",
       "      <th>pres</th>\n",
       "      <th>skin</th>\n",
       "      <th>test</th>\n",
       "      <th>mass</th>\n",
       "      <th>pedi</th>\n",
       "      <th>age</th>\n",
       "      <th>target</th>\n",
       "    </tr>\n",
       "  </thead>\n",
       "  <tbody>\n",
       "    <tr>\n",
       "      <th>0</th>\n",
       "      <td>6</td>\n",
       "      <td>148</td>\n",
       "      <td>72</td>\n",
       "      <td>35</td>\n",
       "      <td>0</td>\n",
       "      <td>33.6</td>\n",
       "      <td>0.627</td>\n",
       "      <td>50</td>\n",
       "      <td>1</td>\n",
       "    </tr>\n",
       "    <tr>\n",
       "      <th>1</th>\n",
       "      <td>1</td>\n",
       "      <td>85</td>\n",
       "      <td>66</td>\n",
       "      <td>29</td>\n",
       "      <td>0</td>\n",
       "      <td>26.6</td>\n",
       "      <td>0.351</td>\n",
       "      <td>31</td>\n",
       "      <td>0</td>\n",
       "    </tr>\n",
       "  </tbody>\n",
       "</table>\n",
       "</div>"
      ],
      "text/plain": [
       "   preg  plas  pres  skin  test  mass   pedi  age  target\n",
       "0     6   148    72    35     0  33.6  0.627   50       1\n",
       "1     1    85    66    29     0  26.6  0.351   31       0"
      ]
     },
     "execution_count": 23,
     "metadata": {},
     "output_type": "execute_result"
    }
   ],
   "source": [
    "names = ['preg', 'plas', 'pres', 'skin', 'test', 'mass',\n",
    "         'pedi', 'age', 'target']\n",
    "df = pd.read_csv(\"./datasets/Evaluation Metrics/Diabetes.csv\", names=names)\n",
    "\n",
    "X_diab = df.drop(columns=['target'])\n",
    "Y_diab = df['target']\n",
    "df.head(2)"
   ]
  },
  {
   "cell_type": "markdown",
   "id": "3f8aa3d5",
   "metadata": {},
   "source": [
    "<a id=\"acc\"></a>\n",
    "<h5 style=\"text-decoration:underline\">Classification Accuracy</h5>\n",
    "\n",
    "A quick way to evaluate a set of predictions on a classification problem is by using accuracy. **Classification accuracy** is a ratio of the number of correct predictions out of all predictions that were made. It is often presented as a percentage between 0% for the worst possible accuracy and 100% for the best possible accuracy.\n",
    ">**This is the most common evaluation metric for classification problems, but also the most misused. It is really only suitable when there are an equal number of observations in each class (which is rarely the case) and that all predictions and prediction errors are equally important, which is often not the case.**\n",
    ">>**Accuracy is a good metric to use when you have a small number of class values, such as 2, also called a binary classification problem. Accuracy starts to lose it’s meaning when you have more class values and you may need to review a different perspective on the results, such as a confusion matrix.**\n"
   ]
  },
  {
   "cell_type": "code",
   "execution_count": 24,
   "id": "0aa36237",
   "metadata": {},
   "outputs": [
    {
     "name": "stdout",
     "output_type": "stream",
     "text": [
      "Accuracy: 0.776 (0.052)\n"
     ]
    }
   ],
   "source": [
    "model = LogisticRegression(max_iter=300)\n",
    "\n",
    "kfold = KFold(n_splits=10)\n",
    "results = cross_val_score(model, X_diab, Y_diab, cv=kfold, scoring='accuracy')\n",
    "\n",
    "print(f\"Accuracy: {results.mean():.3f} ({results.std():.{2}})\")"
   ]
  },
  {
   "cell_type": "markdown",
   "id": "8bfdf070",
   "metadata": {},
   "source": [
    "<a id=\"log\"></a>\n",
    "<h5 style=\"text-decoration:underline\">Logarithmic Loss</h5>\n",
    "\n",
    "**Logarithmic loss (or logloss)** is a performance metric for evaluating the predictions of probabilities of membership to a given class. The scalar probability between 0 and 1 can be seen as a measure of confidence for a prediction by an algorithm. Predictions that are correct or incorrect are rewarded or punished proportionally to the confidence of the prediction."
   ]
  },
  {
   "cell_type": "code",
   "execution_count": 25,
   "id": "beae6147",
   "metadata": {},
   "outputs": [
    {
     "name": "stdout",
     "output_type": "stream",
     "text": [
      "Logloss: -0.484 (0.062)\n"
     ]
    }
   ],
   "source": [
    "model = LogisticRegression(max_iter=300)\n",
    "\n",
    "kfold = KFold(n_splits=10)\n",
    "results = cross_val_score(model, X_diab, Y_diab, cv=kfold, scoring='neg_log_loss')\n",
    "\n",
    "print(f\"Logloss: {results.mean():.3f} ({results.std():.3f})\")"
   ]
  },
  {
   "cell_type": "markdown",
   "id": "7e30c6ce",
   "metadata": {},
   "source": [
    "Smaller logloss is better with 0 representing a perfect logloss. The measure is inverted (made negative) to be ascending when using the `cross_val_score()` function."
   ]
  },
  {
   "cell_type": "markdown",
   "id": "6da8bd53",
   "metadata": {},
   "source": [
    "<a id=\"roc\"></a>\n",
    "<h5 style=\"text-decoration:underline\">Area Under ROC Curve</h5>\n",
    "\n",
    "**Area under ROC Curve (or AUC)** is a performance metric for binary classification problems. The AUC represents a model’s ability to discriminate between positive and negative classes. An area of 1.0 represents a model that made all predictions perfectly. An area of 0.5 represents a model that is as good as random.<br> \n",
    "$\\;\\;\\;\\;\\;\\;\\;$ROC can be broken down into sensitivity and specificity. A binary classification problem is really a trade-off between sensitivity and specificity.\n",
    "- **Sensitivity** is the true positive rate also called the recall. It is the number of instances from the positive (first) class that actually predicted correctly.\n",
    "- **Specificity** is also called the true negative rate. It is the number of instances from the negative (second) class that were actually predicted correctly."
   ]
  },
  {
   "cell_type": "code",
   "execution_count": 26,
   "id": "00e0cdb6",
   "metadata": {},
   "outputs": [
    {
     "name": "stdout",
     "output_type": "stream",
     "text": [
      "AUC: 0.828 (0.043)\n"
     ]
    }
   ],
   "source": [
    "model = LogisticRegression(max_iter=300)\n",
    "\n",
    "kfold = KFold(n_splits=10)\n",
    "results = cross_val_score(model, X_diab, Y_diab, cv=kfold, scoring='roc_auc')\n",
    "\n",
    "print(f\"AUC: {results.mean():.3f} ({results.std():.3f})\")"
   ]
  },
  {
   "cell_type": "markdown",
   "id": "5d663845",
   "metadata": {},
   "source": [
    "<a id=\"matrix\"></a>\n",
    "<h5 style=\"text-decoration:underline\">Confusion Matrix</h5>\n",
    "\n",
    "The **confusion matrix** is a handy presentation of the accuracy of a model with two or more classes. The table presents predictions on the x-axis and accuracy outcomes on the y-axis. The cells of the table are the number of predictions made by a machine learning algorithm.a A confusion matrix is always a good idea to use in addition to classification accuracy to help interpret the predictions.\n",
    ">**The value of a confusion matrix for classification problems is that you can clearly see which predictions were wrong and the type of mistake that was made.**"
   ]
  },
  {
   "cell_type": "code",
   "execution_count": 27,
   "id": "3dedd265",
   "metadata": {},
   "outputs": [
    {
     "data": {
      "text/plain": [
       "array([[142,  20],\n",
       "       [ 34,  58]], dtype=int64)"
      ]
     },
     "execution_count": 27,
     "metadata": {},
     "output_type": "execute_result"
    }
   ],
   "source": [
    "X_train, X_test, Y_train, Y_test = train_test_split(X_diab, Y_diab, \n",
    "                                                    test_size=0.33,\n",
    "                                                    random_state=7)\n",
    "model = LogisticRegression(max_iter=300)\n",
    "model.fit(X_train, Y_train)\n",
    "predicted = model.predict(X_test)\n",
    "\n",
    "confusion_matrix(Y_test, predicted)"
   ]
  },
  {
   "cell_type": "markdown",
   "id": "c6eb09ea",
   "metadata": {},
   "source": [
    "Although the array is printed without headings, we can see that the majority of the predictions fall on the diagonal line of the matrix (which are correct predictions)."
   ]
  },
  {
   "cell_type": "markdown",
   "id": "26637589",
   "metadata": {},
   "source": [
    "<a id=\"report\"></a>\n",
    "<h5 style=\"text-decoration:underline\">Classification Report</h5>\n",
    "\n",
    "The scikit-learn library provides a convenience report when working on classification problems to give you a quick idea of the accuracy of a model using a number of measures. The **classification report** displays the precision, recall, F1-score and support for each class."
   ]
  },
  {
   "cell_type": "code",
   "execution_count": 28,
   "id": "11112152",
   "metadata": {},
   "outputs": [
    {
     "name": "stdout",
     "output_type": "stream",
     "text": [
      "              precision    recall  f1-score   support\n",
      "\n",
      "           0       0.81      0.88      0.84       162\n",
      "           1       0.74      0.63      0.68        92\n",
      "\n",
      "    accuracy                           0.79       254\n",
      "   macro avg       0.78      0.75      0.76       254\n",
      "weighted avg       0.78      0.79      0.78       254\n",
      "\n"
     ]
    }
   ],
   "source": [
    "print(classification_report(Y_test, predicted))"
   ]
  },
  {
   "cell_type": "markdown",
   "id": "5aaef4bc",
   "metadata": {},
   "source": [
    "<a id=\"reg\"></a>\n",
    "<h3><ins>Regression Metrics</ins></h3>"
   ]
  },
  {
   "cell_type": "code",
   "execution_count": 29,
   "id": "045f6e8f",
   "metadata": {},
   "outputs": [],
   "source": [
    "from sklearn.linear_model import LinearRegression"
   ]
  },
  {
   "cell_type": "code",
   "execution_count": 30,
   "id": "d5efe679",
   "metadata": {},
   "outputs": [
    {
     "data": {
      "text/html": [
       "<div>\n",
       "<style scoped>\n",
       "    .dataframe tbody tr th:only-of-type {\n",
       "        vertical-align: middle;\n",
       "    }\n",
       "\n",
       "    .dataframe tbody tr th {\n",
       "        vertical-align: top;\n",
       "    }\n",
       "\n",
       "    .dataframe thead th {\n",
       "        text-align: right;\n",
       "    }\n",
       "</style>\n",
       "<table border=\"1\" class=\"dataframe\">\n",
       "  <thead>\n",
       "    <tr style=\"text-align: right;\">\n",
       "      <th></th>\n",
       "      <th>CRIM</th>\n",
       "      <th>ZN</th>\n",
       "      <th>INDUS</th>\n",
       "      <th>CHAS</th>\n",
       "      <th>NOX</th>\n",
       "      <th>RM</th>\n",
       "      <th>AGE</th>\n",
       "      <th>DIS</th>\n",
       "      <th>RAD</th>\n",
       "      <th>TAX</th>\n",
       "      <th>PTRATIO</th>\n",
       "      <th>B</th>\n",
       "      <th>LSTAT</th>\n",
       "      <th>MEDV</th>\n",
       "    </tr>\n",
       "  </thead>\n",
       "  <tbody>\n",
       "    <tr>\n",
       "      <th>0</th>\n",
       "      <td>0.00632</td>\n",
       "      <td>18.0</td>\n",
       "      <td>2.31</td>\n",
       "      <td>0</td>\n",
       "      <td>0.538</td>\n",
       "      <td>6.575</td>\n",
       "      <td>65.2</td>\n",
       "      <td>4.0900</td>\n",
       "      <td>1</td>\n",
       "      <td>296.0</td>\n",
       "      <td>15.3</td>\n",
       "      <td>396.9</td>\n",
       "      <td>4.98</td>\n",
       "      <td>24.0</td>\n",
       "    </tr>\n",
       "    <tr>\n",
       "      <th>1</th>\n",
       "      <td>0.02731</td>\n",
       "      <td>0.0</td>\n",
       "      <td>7.07</td>\n",
       "      <td>0</td>\n",
       "      <td>0.469</td>\n",
       "      <td>6.421</td>\n",
       "      <td>78.9</td>\n",
       "      <td>4.9671</td>\n",
       "      <td>2</td>\n",
       "      <td>242.0</td>\n",
       "      <td>17.8</td>\n",
       "      <td>396.9</td>\n",
       "      <td>9.14</td>\n",
       "      <td>21.6</td>\n",
       "    </tr>\n",
       "  </tbody>\n",
       "</table>\n",
       "</div>"
      ],
      "text/plain": [
       "      CRIM    ZN  INDUS  CHAS    NOX     RM   AGE     DIS  RAD    TAX  \\\n",
       "0  0.00632  18.0   2.31     0  0.538  6.575  65.2  4.0900    1  296.0   \n",
       "1  0.02731   0.0   7.07     0  0.469  6.421  78.9  4.9671    2  242.0   \n",
       "\n",
       "   PTRATIO      B  LSTAT  MEDV  \n",
       "0     15.3  396.9   4.98  24.0  \n",
       "1     17.8  396.9   9.14  21.6  "
      ]
     },
     "execution_count": 30,
     "metadata": {},
     "output_type": "execute_result"
    }
   ],
   "source": [
    "names = ['CRIM', 'ZN', 'INDUS', 'CHAS', 'NOX', 'RM', 'AGE',\n",
    "         'DIS', 'RAD', 'TAX', 'PTRATIO','B', 'LSTAT', 'MEDV']\n",
    "\n",
    "df = pd.read_csv(\"./datasets/Evaluation Metrics/boston_housing.csv\",\n",
    "                 names=names)\n",
    "\n",
    "X_hous = df.drop(columns=['MEDV'])\n",
    "Y_hous = df['MEDV']\n",
    "df.head(2)"
   ]
  },
  {
   "cell_type": "markdown",
   "id": "58f243d3",
   "metadata": {},
   "source": [
    "<a id=\"mae\"></a>\n",
    "<h5 style=\"text-decoration:underline\">Mean Absolute Error</h5>\n",
    "\n",
    "Regression problems are those where a real value is predicted. An easy metric to consider is the error in the predicted values as compared to the expected values. The **Mean Absolute Error (MAE)** is a good first error metric to use. It is calculated as the average of the absolute error values (difference between predictions and actual values). The measure gives an idea of the magnitude of the error, but no idea of the direction (e.g. over or under predicting).\n",
    "$$MAE=\\frac{\\Sigma{abs(predicted_i-actual_i)}}{\\text{no. of predictions}}$$"
   ]
  },
  {
   "cell_type": "code",
   "execution_count": 31,
   "id": "c7e99604",
   "metadata": {},
   "outputs": [
    {
     "name": "stdout",
     "output_type": "stream",
     "text": [
      "MAE: -4.005 (2.084)\n"
     ]
    }
   ],
   "source": [
    "model = LinearRegression()\n",
    "\n",
    "kfold = KFold(n_splits=10)\n",
    "results = cross_val_score(model, X_hous, Y_hous, cv=kfold, scoring='neg_mean_absolute_error')\n",
    "\n",
    "print(f\"MAE: {results.mean():.3f} ({results.std():.3f})\")"
   ]
  },
  {
   "cell_type": "markdown",
   "id": "ea047560",
   "metadata": {},
   "source": [
    "<a id=\"mse\"></a>\n",
    "<h5 style=\"text-decoration:underline\">Mean Squared Error</h5>\n",
    "\n",
    "The **Mean Squared Error (or MSE)** is much like the mean absolute error in that it provides a gross idea of the magnitude of error. Taking the square root of the mean squared error converts the units back to the original units of the output variable and can be meaningful for description and presentation."
   ]
  },
  {
   "cell_type": "code",
   "execution_count": 32,
   "id": "0b35e0c9",
   "metadata": {},
   "outputs": [
    {
     "name": "stdout",
     "output_type": "stream",
     "text": [
      "MSE: -34.705 (45.574)\n"
     ]
    }
   ],
   "source": [
    "model = LinearRegression()\n",
    "\n",
    "kfold = KFold(n_splits=10)\n",
    "results = cross_val_score(model, X_hous, Y_hous, cv=kfold, scoring='neg_mean_squared_error')\n",
    "\n",
    "print(f\"MSE: {results.mean():.3f} ({results.std():.3f})\")"
   ]
  },
  {
   "cell_type": "markdown",
   "id": "5057c71a",
   "metadata": {},
   "source": [
    "This metric too is inverted (made negative) so that the results are increasing (closer to zero the better). Remember to take the absolute value before taking the square root if you are interested in calculating the RMSE."
   ]
  },
  {
   "cell_type": "markdown",
   "id": "2af97247",
   "metadata": {},
   "source": [
    "<a id=\"rmse\"></a>\n",
    "<h5 style=\"text-decoration:underline\">Root Mean Squared Error</h5>\n",
    "\n",
    "Another popular way to calculate the error in a set of regression predictions is to use the **Root Mean Squared Error (RMSE)**. RMSE is calculated as the square root of the mean of the squared differences between actual outcomes and predictions. Squaring each error forces the values to be positive, and the square root of the mean squared error returns the error metric back to the original units for comparison.\n",
    "$$RMSE=\\sqrt{\\frac{\\Sigma{(predicted_i-actual_i)^2}}{\\text{no. of predictions}}}$$"
   ]
  },
  {
   "cell_type": "markdown",
   "id": "f3e1ff29",
   "metadata": {},
   "source": [
    "<a id=\"squared\"></a>\n",
    "<h5 style=\"text-decoration:underline\">R-squared $R^2$</h5>\n",
    "\n",
    "The **$R^2$** metric provides an indication of the goodness of fit of a set of predictions to the actual values. In statistical literature this measure is called the coefficient of determination. This is a value between 0 and 1 for no-fit and perfect fit respectively"
   ]
  },
  {
   "cell_type": "code",
   "execution_count": 33,
   "id": "3221ef29",
   "metadata": {},
   "outputs": [
    {
     "name": "stdout",
     "output_type": "stream",
     "text": [
      "R_squared: 0.203 (0.595)\n"
     ]
    }
   ],
   "source": [
    "model = LinearRegression()\n",
    "\n",
    "kfold = KFold(n_splits=10)\n",
    "results = cross_val_score(model, X_hous, Y_hous, cv=kfold, scoring='r2')\n",
    "\n",
    "print(f\"R_squared: {results.mean():.3f} ({results.std():.3f})\")"
   ]
  },
  {
   "cell_type": "markdown",
   "id": "b11567c6",
   "metadata": {},
   "source": [
    "The predictions have a poor fit to the actual values with a value closer to zero and less than 0.5."
   ]
  },
  {
   "cell_type": "markdown",
   "id": "7c94d450",
   "metadata": {},
   "source": [
    "<a id=\"ml\"></a>\n",
    "<h3><ins>Spot-Check Machine Learning Algorithms</ins></h3>\n",
    "\n",
    "Spot-checking is a way of discovering which algorithms perform well on our machine learning problem. We cannot know which algorithms are best suited to our problem beforehand. We must trial a number of methods and focus attention on those that prove themselves the most promising.\n",
    "\n",
    "The question is not: *What algorithm should I use on my dataset?* Instead it is: *What algorithms should I spot-check on my dataset?* We can sometimes guess what algorithms might do well on the dataset, and this can be a good starting point. It is recommended trying a mixture of algorithms and see what is good at picking out the structure in the data.\n",
    "\n",
    "Below are some suggestions when spot-checking algorithms on a dataset:\n",
    "- Try a mixture of algorithm representations (e.g. instances and trees).\n",
    "- Try a mixture of learning algorithms (e.g. different algorithms for learning the same type of representation).\n",
    "- Try a mixture of modeling types (e.g. linear and nonlinear functions or parametric and nonparametric)."
   ]
  },
  {
   "cell_type": "markdown",
   "id": "01ffe5d8",
   "metadata": {},
   "source": [
    "<a id=\"spot\"></a>\n",
    "<h5 style=\"text-decoration:underline\">Classification Models</h5>\n",
    "\n",
    "The following looks at six classification algorithms that can be used to spot-check a dataset. \n",
    "- **Linear machine learning algorithms** \n",
    "    - **Logistic Regression** - assumes a Gaussian distribution for the numeric input variables and can model binary classification problems.\n",
    "    - **Linear Discriminant Anlysis** - a statistical technique for binary and multiclass classification. It too assumes a Gaussian distribution for the numerical input variables. \n",
    "    \n",
    "    \n",
    "- **Nonlinear machine learning algorithms**\n",
    "    - **k-Nearest Neighbors** - The k-Nearest Neighbors algorithm (or KNN) uses a distance metric to find the k most similar instances in the training data for a new instance and takes the mean outcome of the neighbors as the prediction.\n",
    "    - **Naive Bayes** - Naive Bayes calculates the probability of each class and the conditional probability of each class given each input value. These probabilities are estimated for new data and multiplied together, assuming that they are all independent (a simple or naive assumption). When working with real-valued data, a Gaussian distribution is assumed to easily estimate the probabilities for input variables using the Gaussian Probability Density Function.\n",
    "    - **Classification and Regression Trees** - Classification and Regression Trees (CART or just decision trees) construct a binary tree from the training data. Split points are chosen greedily by evaluating each attribute and each value of each attribute in the training data in order to minimize a cost function (like the Gini index).\n",
    "    - **Support Vector Machines** - Support Vector Machines (or SVM) seek a line that best separates two classes. Those data instances that are closest to the line that best separates the classes are called support vectors and influence where the line is placed. SVM has been extended to support multiple classes. Of particular importance is the use of different kernel functions via the kernel parameter."
   ]
  },
  {
   "cell_type": "code",
   "execution_count": 34,
   "id": "d72a9649",
   "metadata": {},
   "outputs": [],
   "source": [
    "from sklearn.discriminant_analysis import LinearDiscriminantAnalysis"
   ]
  },
  {
   "cell_type": "code",
   "execution_count": 35,
   "id": "980ca58f",
   "metadata": {},
   "outputs": [
    {
     "name": "stdout",
     "output_type": "stream",
     "text": [
      "Results for logistic model: 0.7760 (0.0516)\n",
      "Results for LDA model: 0.7735 (0.0516)\n"
     ]
    }
   ],
   "source": [
    "# LINEAR MODELS\n",
    "\n",
    "model_1 = LogisticRegression(max_iter=300)\n",
    "\n",
    "model_2 = LinearDiscriminantAnalysis()\n",
    "\n",
    "kfold = KFold(n_splits=10)\n",
    "\n",
    "results_1 = cross_val_score(model_1, X_diab, Y_diab, cv=kfold)\n",
    "results_2 = cross_val_score(model_2, X_diab, Y_diab, cv=kfold)\n",
    "\n",
    "print(f\"Results for logistic model: {results_1.mean():.4f} ({results_1.std():.4f})\")\n",
    "print(f\"Results for LDA model: {results_2.mean():.4f} ({results_2.std():.4f})\")"
   ]
  },
  {
   "cell_type": "code",
   "execution_count": 36,
   "id": "e62404c6",
   "metadata": {},
   "outputs": [],
   "source": [
    "from sklearn.neighbors import KNeighborsClassifier\n",
    "from sklearn.naive_bayes import GaussianNB\n",
    "from sklearn.tree import DecisionTreeClassifier\n",
    "from sklearn.svm import SVC"
   ]
  },
  {
   "cell_type": "code",
   "execution_count": 37,
   "id": "eb7f0a1f",
   "metadata": {},
   "outputs": [
    {
     "name": "stdout",
     "output_type": "stream",
     "text": [
      "Results for k-Nearest Neighbors model: 0.7266 (0.0618)\n",
      "Results for Naive Bayes model: 0.7552 (0.0428)\n",
      "Results for Decision Tree model: 0.6900 (0.0687)\n",
      "Results for Support Vector Machines model: 0.7604 (0.0529)\n"
     ]
    }
   ],
   "source": [
    "# NON-LINEAR MODELS\n",
    "\n",
    "model_1 = KNeighborsClassifier()\n",
    "\n",
    "model_2 = GaussianNB()\n",
    "\n",
    "model_3 = DecisionTreeClassifier()\n",
    "\n",
    "model_4 = SVC()\n",
    "\n",
    "kfold = KFold(n_splits=10)\n",
    "\n",
    "results_1 = cross_val_score(model_1, X_diab, Y_diab, cv=kfold)\n",
    "results_2 = cross_val_score(model_2, X_diab, Y_diab, cv=kfold)\n",
    "results_3 = cross_val_score(model_3, X_diab, Y_diab, cv=kfold)\n",
    "results_4 = cross_val_score(model_4, X_diab, Y_diab, cv=kfold)\n",
    "\n",
    "print(f\"Results for k-Nearest Neighbors model: {results_1.mean():.4f} ({results_1.std():.4f})\")\n",
    "print(f\"Results for Naive Bayes model: {results_2.mean():.4f} ({results_2.std():.4f})\")\n",
    "print(f\"Results for Decision Tree model: {results_3.mean():.4f} ({results_3.std():.4f})\")\n",
    "print(f\"Results for Support Vector Machines model: {results_4.mean():.4f} ({results_4.std():.4f})\")"
   ]
  },
  {
   "cell_type": "code",
   "execution_count": 38,
   "id": "209ef0d5",
   "metadata": {},
   "outputs": [
    {
     "name": "stdout",
     "output_type": "stream",
     "text": [
      "LR: 0.776042 (0.051575)\n",
      "LDA: 0.773462 (0.051592)\n",
      "KNN: 0.726555 (0.061821)\n",
      "CART: 0.705639 (0.058110)\n",
      "NB: 0.755178 (0.042766)\n",
      "SVM: 0.760424 (0.052931)\n"
     ]
    },
    {
     "data": {
      "image/png": "[encoded data removed]",
      "text/plain": [
       "<Figure size 432x288 with 1 Axes>"
      ]
     },
     "metadata": {
      "needs_background": "light"
     },
     "output_type": "display_data"
    }
   ],
   "source": [
    "# prepare models\n",
    "models = [('LR', LogisticRegression(max_iter=300)),\n",
    "          ('LDA', LinearDiscriminantAnalysis()),\n",
    "          ('KNN', KNeighborsClassifier()),\n",
    "          ('CART', DecisionTreeClassifier()),\n",
    "          ('NB', GaussianNB()),\n",
    "          ('SVM', SVC())]\n",
    "\n",
    "# evaluate each model in turn\n",
    "results = []\n",
    "names = []\n",
    "for name, model in models:\n",
    "    kfold = KFold(n_splits=10)\n",
    "    cv_results = cross_val_score(model, X_diab, Y_diab, cv=kfold, scoring='accuracy')\n",
    "    results.append(cv_results)\n",
    "    names.append(name)\n",
    "    msg = \"%s: %f (%f)\" % (name, cv_results.mean(), cv_results.std())\n",
    "    print(msg)\n",
    "\n",
    "# boxplot algorithm comparison\n",
    "fig = plt.figure()\n",
    "fig.suptitle('Algorithm Comparison')\n",
    "ax = fig.add_subplot(111)\n",
    "plt.boxplot(results)\n",
    "ax.set_xticklabels(names)\n",
    "plt.show()"
   ]
  },
  {
   "cell_type": "markdown",
   "id": "cf8a1cec",
   "metadata": {},
   "source": [
    "<a id=\"check\"></a>\n",
    "<h5 style=\"text-decoration:underline\">Regression Models</h5>\n",
    "\n",
    "The following looks at seven regression algorithms that can be used to spot-check a dataset. \n",
    "- **Linear machine learning algorithms** \n",
    "    - **Linear Regression** - assumes a Gaussian distribution for the numeric input variables. It is also assumed that input variables are relevant to the output variable and that they are not highly correlated with each other\n",
    "    - **Ridge Regression** - Ridge regression is an extension of linear regression where the loss function is modified to minimize the complexity of the model measured as the sum squared value of the coefficient values (also called the L2-norm).\n",
    "    - **LASSO Linear Regression** - The Least Absolute Shrinkage and Selection Operator (or LASSO for short) is a modification of linear regression, like ridge regression, where the loss function is modified to minimize the complexity of the model measured as the sum absolute value of the coefficient values (also called the L1-norm).\n",
    "    - **Elastic Net Regression** - ElasticNet is a form of regularization regression that combines the properties of both Ridge Regression and LASSO regression. It seeks to minimize the complexity of the regression model (magnitude and number of regression coefficients) by penalizing the model using both the L2-norm (sum squared coefficient values) and the L1-norm (sum absolute coefficient values).\n",
    "\n",
    "    \n",
    "- **Nonlinear machine learning algorithms**\n",
    "    - **k-Nearest Neighbors** - The k-Nearest Neighbors algorithm (or KNN) locates the k most similar instances in the training dataset for a new data instance. From the k neighbors, a mean or median output variable is taken as the prediction. Of note is the distance metric used (the `metric` argument). The Minkowski distance is used by default, which is a generalization of both the Euclidean distance (used when all inputs have the same scale) and Manhattan distance (for when the scales of the input variables differ).\n",
    "    - **Classification and Regression Trees** - Classification and Regression Trees (CART or just decision trees) construct a binary tree from the training data. Split points are chosen greedily by evaluating each attribute and each value of each attribute in the training data in order to minimize a cost function (like the Gini index).\n",
    "    - **Support Vector Machines** - Support Vector Machines (or SVM) seek a line that best separates two classes. Those data instances that are closest to the line that best separates the classes are called support vectors and influence where the line is placed. SVM has been extended to support multiple classes. Of particular importance is the use of different kernel functions via the kernel parameter."
   ]
  },
  {
   "cell_type": "code",
   "execution_count": 39,
   "id": "3c1824a1",
   "metadata": {},
   "outputs": [],
   "source": [
    "from sklearn.linear_model import Ridge, Lasso, ElasticNet"
   ]
  },
  {
   "cell_type": "code",
   "execution_count": 40,
   "id": "6510b9df",
   "metadata": {},
   "outputs": [
    {
     "name": "stdout",
     "output_type": "stream",
     "text": [
      "Results for linear regression model: -34.7053 (45.5740)\n",
      "Results for ridge model: -34.0782 (45.9000)\n",
      "Results for lasso regression model: -34.4641 (22.7087)\n",
      "Results for elastic net model: -34.4641 (22.7087)\n"
     ]
    }
   ],
   "source": [
    "# LINEAR MODELS\n",
    "\n",
    "model_1 = LinearRegression()\n",
    "\n",
    "model_2 = Ridge()\n",
    "\n",
    "model_3 = Lasso()\n",
    "\n",
    "model_4 = ElasticNet()\n",
    "\n",
    "kfold = KFold(n_splits=10)\n",
    "\n",
    "results_1 = cross_val_score(model_1, X_hous, Y_hous, cv=kfold, scoring='neg_mean_squared_error')\n",
    "results_2 = cross_val_score(model_2, X_hous, Y_hous, cv=kfold, scoring='neg_mean_squared_error')\n",
    "results_3 = cross_val_score(model_3, X_hous, Y_hous, cv=kfold, scoring='neg_mean_squared_error')\n",
    "results_4 = cross_val_score(model_4, X_hous, Y_hous, cv=kfold, scoring='neg_mean_squared_error')\n",
    "\n",
    "print(f\"Results for linear regression model: {results_1.mean():.4f} ({results_1.std():.4f})\")\n",
    "print(f\"Results for ridge model: {results_2.mean():.4f} ({results_2.std():.4f})\")\n",
    "print(f\"Results for lasso regression model: {results_3.mean():.4f} ({results_4.std():.4f})\")\n",
    "print(f\"Results for elastic net model: {results_3.mean():.4f} ({results_4.std():.4f})\")"
   ]
  },
  {
   "cell_type": "code",
   "execution_count": 41,
   "id": "455f498b",
   "metadata": {},
   "outputs": [],
   "source": [
    "from sklearn.neighbors import KNeighborsRegressor\n",
    "from sklearn.tree import DecisionTreeRegressor\n",
    "from sklearn.svm import SVR"
   ]
  },
  {
   "cell_type": "code",
   "execution_count": 42,
   "id": "58568e8a",
   "metadata": {},
   "outputs": [
    {
     "name": "stdout",
     "output_type": "stream",
     "text": [
      "Results for k-Nearest Neighbors model: -107.2868 (79.8395)\n",
      "Results for Decision Tree model: -33.6892 (26.4516)\n",
      "Results for Support Vector Machines model: -72.2554 (61.9605)\n"
     ]
    }
   ],
   "source": [
    "# NON-LINEAR MODELS\n",
    "\n",
    "model_1 = KNeighborsRegressor()\n",
    "\n",
    "model_2 = DecisionTreeRegressor()\n",
    "\n",
    "model_3 = SVR()\n",
    "\n",
    "kfold = KFold(n_splits=10)\n",
    "\n",
    "results_1 = cross_val_score(model_1, X_hous, Y_hous, cv=kfold, scoring='neg_mean_squared_error')\n",
    "results_2 = cross_val_score(model_2, X_hous, Y_hous, cv=kfold, scoring='neg_mean_squared_error')\n",
    "results_3 = cross_val_score(model_3, X_hous, Y_hous, cv=kfold, scoring='neg_mean_squared_error')\n",
    "\n",
    "print(f\"Results for k-Nearest Neighbors model: {results_1.mean():.4f} ({results_1.std():.4f})\")\n",
    "print(f\"Results for Decision Tree model: {results_2.mean():.4f} ({results_2.std():.4f})\")\n",
    "print(f\"Results for Support Vector Machines model: {results_3.mean():.4f} ({results_3.std():.4f})\")"
   ]
  },
  {
   "cell_type": "markdown",
   "id": "8607af33",
   "metadata": {},
   "source": [
    "<a id=\"auto\"></a>\n",
    "<h2 align=\"center\">AUTOMATE MACHINE LEARNING WORKFLOWS WITH PIPELINES</h2>\n",
    "\n",
    "There are standard workflows in a machine learning project that can be automated. Standard because they overcome common problems like data leakage in your test harness. Pipelines help to clearly define and automate these workflows. Pipelines work by allowing for a linear sequence of data transforms to be chained together culminating in a modeling process that can be evaluated. The goal is to ensure that all of the steps in the pipeline are constrained to the data available for the evaluation, such as the training dataset or each fold of the cross validation procedure."
   ]
  },
  {
   "cell_type": "markdown",
   "id": "e9f5818c",
   "metadata": {},
   "source": [
    "<a id=\"pipe\"></a>\n",
    "<h3><ins>Data Preparation and Modeling Pipeline</ins></h3>\n",
    "\n",
    "An easy trap to fall into in applied machine learning is leaking data from the training dataset to the test dataset. To avoid this trap we need a robust test harness with strong separation of training and testing. This includes data preparation. Data preparation is one easy way to leak knowledge of the whole training dataset to the algorithm. For example, preparing data using normalization or standardization on the entire training dataset before learning would not be a valid test because the training dataset would have been influenced by the scale of the data in the test set. Pipelines help prevent data leakage in the test set by ensuring that data preparation like standardization is constrained to each fold of the cross-validation procedure."
   ]
  },
  {
   "cell_type": "code",
   "execution_count": 43,
   "id": "a82ce365",
   "metadata": {},
   "outputs": [],
   "source": [
    "from sklearn.preprocessing import StandardScaler"
   ]
  },
  {
   "cell_type": "code",
   "execution_count": 44,
   "id": "a479b9a4",
   "metadata": {},
   "outputs": [
    {
     "name": "stdout",
     "output_type": "stream",
     "text": [
      "0.773462064251538\n"
     ]
    }
   ],
   "source": [
    "# create pipeline\n",
    "estimators = [('standardize', StandardScaler()),\n",
    "             ('lda', LinearDiscriminantAnalysis())]\n",
    "\n",
    "model = Pipeline(estimators)\n",
    "\n",
    "# evaluate pipeline\n",
    "kfold = KFold(n_splits=10)\n",
    "results = cross_val_score(model, X_diab, Y_diab, cv=kfold)\n",
    "print(results.mean())"
   ]
  },
  {
   "cell_type": "markdown",
   "id": "f4051456",
   "metadata": {},
   "source": [
    "**Note how the `Pipeline` itself is treated like an estimator and is evaluated in its entirety by the k-fold cross-validation procedure.**"
   ]
  },
  {
   "cell_type": "markdown",
   "id": "0ca430fb",
   "metadata": {},
   "source": [
    "<a id=\"extract\"></a>\n",
    "<h3><ins>Feature Extraction and Modeling Pipeline</ins></h3>\n",
    "\n",
    "Feature extraction is another procedure that is susceptible to data leakage. Like data preparation, feature extraction procedures must be restricted to the data in the training dataset. The pipeline provides a handy tool called `FeatureUnion` which allows the results of multiple feature selection and extraction procedures to be combined into a larger dataset on which a model can be trained. Importantly, all the feature extraction and the feature union occurs within each fold of the cross validation procedure."
   ]
  },
  {
   "cell_type": "code",
   "execution_count": 45,
   "id": "297e4c42",
   "metadata": {},
   "outputs": [],
   "source": [
    "from sklearn.pipeline import FeatureUnion\n",
    "from sklearn.decomposition import PCA\n",
    "from sklearn.feature_selection import SelectKBest"
   ]
  },
  {
   "cell_type": "code",
   "execution_count": 46,
   "id": "4bf4aaea",
   "metadata": {},
   "outputs": [
    {
     "name": "stdout",
     "output_type": "stream",
     "text": [
      "0.7760423786739576\n"
     ]
    }
   ],
   "source": [
    "# create feature union\n",
    "features = [('pca', PCA(n_components=3)),\n",
    "           ('select_best', SelectKBest(k=6))]\n",
    "feature_union = FeatureUnion(features)\n",
    "\n",
    "# create pipeline\n",
    "estimators = [('feature_union', feature_union),\n",
    "             ('logistic', LogisticRegression(max_iter=300))]\n",
    "model = Pipeline(estimators)\n",
    "\n",
    "# evaluate pipeline\n",
    "kfold = KFold(n_splits=10)\n",
    "results = cross_val_score(model, X_diab, Y_diab, cv=kfold)\n",
    "\n",
    "print(results.mean())"
   ]
  },
  {
   "cell_type": "markdown",
   "id": "b68bcebd",
   "metadata": {},
   "source": [
    "Note how the `FeatureUnion` is it’s own Pipeline that in turn is a single step in the final Pipeline used to feed Logistic Regression. This introduces the idea of embedding pipelines within pipelines."
   ]
  },
  {
   "cell_type": "markdown",
   "id": "f88701f5",
   "metadata": {},
   "source": [
    "<a id=\"ensemble\"></a>\n",
    "<h2 align=\"center\">IMPROVE PERFORMANCE WITH ENSEMBLES</h2>\n",
    "\n",
    "Ensembles have the potential to give a boost in accuracy on a dataset.\n",
    "\n",
    "The three most popular methods for combining the predictions from different ensemble models are:\n",
    "- **Bagging** - Building multiple models (typically of the same type) from different subsamples of the training dataset.\n",
    "- **Boosting** - Building multiple models (typically of the same type) each of which learns to fix the prediction errors of a prior model in the sequence of models.\n",
    "- **Voting** - Building multiple models (typically of differing types) and simple statistics (like calculating the mean) are used to combine predictions."
   ]
  },
  {
   "cell_type": "markdown",
   "id": "8a938ddf",
   "metadata": {},
   "source": [
    "<a id=\"bag\"></a>\n",
    "<h3><ins>Bagging Algorithms</ins></h3>\n",
    "\n",
    "Bootstrap Aggregation (or Bagging) involves taking multiple samples from your training dataset (with replacement) and training a model for each sample. The final output prediction is averaged across the predictions of all of the sub-models. \n",
    ">**Bagging performs best with algorithms that have high variance.** "
   ]
  },
  {
   "cell_type": "markdown",
   "id": "d700ebe9",
   "metadata": {},
   "source": [
    "<a id=\"bagtree\"></a>\n",
    "<h5 style=\"text-decoration:underline\">Bagged Decision Trees</h5>\n",
    "\n",
    "A popular example are **decision trees**, often constructed without pruning. "
   ]
  },
  {
   "cell_type": "code",
   "execution_count": 47,
   "id": "78978a5b",
   "metadata": {},
   "outputs": [],
   "source": [
    "from sklearn.ensemble import BaggingClassifier\n",
    "from sklearn.tree import DecisionTreeClassifier"
   ]
  },
  {
   "cell_type": "code",
   "execution_count": 48,
   "id": "87490494",
   "metadata": {},
   "outputs": [
    {
     "name": "stdout",
     "output_type": "stream",
     "text": [
      "Results for bagged decision tree model: 0.7720 (0.0751)\n"
     ]
    }
   ],
   "source": [
    "kfold = KFold(n_splits=10)\n",
    "model = DecisionTreeClassifier()\n",
    "\n",
    "# create bagged classifier with a total of 100 trees\n",
    "bagged_model = BaggingClassifier(base_estimator=model, n_estimators=100,\n",
    "                                 random_state=7)\n",
    "results = cross_val_score(bagged_model, X_diab, Y_diab, cv=kfold)\n",
    "\n",
    "print(f\"Results for bagged decision tree model: {results.mean():.4f} ({results.std():.4f})\")"
   ]
  },
  {
   "cell_type": "markdown",
   "id": "e7c5970e",
   "metadata": {},
   "source": [
    "<a id=\"forest\"></a>\n",
    "<h5 style=\"text-decoration:underline\">Random Forest</h5>\n",
    "\n",
    "**Random Forests** is an extension of bagged decision trees. Samples of the training dataset are taken with replacement, but the trees are constructed in a way that reduces the correlation between individual classifiers. Specifically, rather than greedily choosing the best split point in the construction of each tree, only a random subset of features are considered for each split."
   ]
  },
  {
   "cell_type": "code",
   "execution_count": 49,
   "id": "a3939ee0",
   "metadata": {},
   "outputs": [],
   "source": [
    "from sklearn.ensemble import RandomForestClassifier"
   ]
  },
  {
   "cell_type": "code",
   "execution_count": 50,
   "id": "31c2d5cb",
   "metadata": {},
   "outputs": [
    {
     "name": "stdout",
     "output_type": "stream",
     "text": [
      "Results for random forest model: 0.7668 (0.0673)\n"
     ]
    }
   ],
   "source": [
    "kfold = KFold(n_splits=10)\n",
    "model = RandomForestClassifier(n_estimators=100, max_features=3)\n",
    "\n",
    "results = cross_val_score(model, X_diab, Y_diab, cv=kfold)\n",
    "\n",
    "print(f\"Results for random forest model: {results.mean():.4f} ({results.std():.4f})\")"
   ]
  },
  {
   "cell_type": "markdown",
   "id": "14f198b5",
   "metadata": {},
   "source": [
    "<a id=\"extra\"></a>\n",
    "<h5 style=\"text-decoration:underline\">Extra Trees</h5>\n",
    "\n",
    "**Extra Trees** are another modification of bagging where random trees are constructed from samples of the training dataset."
   ]
  },
  {
   "cell_type": "code",
   "execution_count": 51,
   "id": "81354afe",
   "metadata": {},
   "outputs": [],
   "source": [
    "from sklearn.ensemble import ExtraTreesClassifier"
   ]
  },
  {
   "cell_type": "code",
   "execution_count": 52,
   "id": "cf7e9048",
   "metadata": {},
   "outputs": [
    {
     "name": "stdout",
     "output_type": "stream",
     "text": [
      "Results for random forest model: 0.7669 (0.0705)\n"
     ]
    }
   ],
   "source": [
    "kfold = KFold(n_splits=10)\n",
    "model = ExtraTreesClassifier(n_estimators=100, max_features=3)\n",
    "\n",
    "results = cross_val_score(model, X_diab, Y_diab, cv=kfold)\n",
    "\n",
    "print(f\"Results for random forest model: {results.mean():.4f} ({results.std():.4f})\")"
   ]
  },
  {
   "cell_type": "markdown",
   "id": "9b58ade2",
   "metadata": {},
   "source": [
    "<a id=\"boost\"></a>\n",
    "<h3><ins>Boosting Algorithms</ins></h3>\n",
    "\n",
    "**Boosting ensemble algorithms** creates a sequence of models that attempt to correct the mistakes of the models before them in the sequence. Once created, the models make predictions which may be weighted by their demonstrated accuracy and the results are combined to create a final output prediction. \n",
    "\n",
    "<a id=\"ada\"></a>\n",
    "<h5 style=\"text-decoration:underline\">AdaBoost</h5>\n",
    "\n",
    "**AdaBoost** was perhaps the first successful boosting ensemble algorithm. It generally works by weighting instances in the dataset by how easy or difficult they are to classify, allowing the algorithm to pay less attention to them in the construction of subsequent models."
   ]
  },
  {
   "cell_type": "code",
   "execution_count": 53,
   "id": "50478ab0",
   "metadata": {},
   "outputs": [],
   "source": [
    "from sklearn.ensemble import AdaBoostClassifier"
   ]
  },
  {
   "cell_type": "code",
   "execution_count": 54,
   "id": "e5b40974",
   "metadata": {},
   "outputs": [
    {
     "name": "stdout",
     "output_type": "stream",
     "text": [
      "Results for ada boost model: 0.7605 (0.0544)\n"
     ]
    }
   ],
   "source": [
    "kfold = KFold(n_splits=10)\n",
    "model = AdaBoostClassifier(n_estimators=30, random_state=7)\n",
    "\n",
    "results = cross_val_score(model, X_diab, Y_diab, cv=kfold)\n",
    "\n",
    "print(f\"Results for ada boost model: {results.mean():.4f} ({results.std():.4f})\")"
   ]
  },
  {
   "cell_type": "markdown",
   "id": "e4a81c7c",
   "metadata": {},
   "source": [
    "<a id=\"gradient\"></a>\n",
    "<h5 style=\"text-decoration:underline\">Stochastic Gradient Boosting</h5>\n",
    "\n",
    "**Stochastic Gradient Boosting (or Gradient Boosting Machines)** are one of the most sophisticated ensemble techniques. It is also a technique that is proving to be perhaps one of the best techniques available for improving performance via ensembles."
   ]
  },
  {
   "cell_type": "code",
   "execution_count": 55,
   "id": "398a04b4",
   "metadata": {},
   "outputs": [],
   "source": [
    "from sklearn.ensemble import GradientBoostingClassifier"
   ]
  },
  {
   "cell_type": "code",
   "execution_count": 56,
   "id": "06c49757",
   "metadata": {},
   "outputs": [
    {
     "name": "stdout",
     "output_type": "stream",
     "text": [
      "Results for gradient boost model: 0.7682 (0.0558)\n"
     ]
    }
   ],
   "source": [
    "kfold = KFold(n_splits=10)\n",
    "model = GradientBoostingClassifier(n_estimators=100, random_state=7)\n",
    "\n",
    "results = cross_val_score(model, X_diab, Y_diab, cv=kfold)\n",
    "\n",
    "print(f\"Results for gradient boost model: {results.mean():.4f} ({results.std():.4f})\")"
   ]
  },
  {
   "cell_type": "markdown",
   "id": "a9028860",
   "metadata": {},
   "source": [
    "<a id=\"vote\"></a>\n",
    "<h3><ins>Voting Ensemble</ins></h3>\n",
    "\n",
    "**Voting** is one of the simplest ways of combining the predictions from multiple machine learning algorithms. It works by first creating two or more standalone models from your training dataset. A Voting Classifier can then be used to wrap the models and average the predictions of the sub-models when asked to make predictions for new data. The predictions of the sub-models can be weighted, but specifying the weights for classifiers manually or even heuristically is difficult. More advanced methods can learn how to best weight the predictions from sub models, but this is called **stacking (stacked aggregation)** and is currently not provided in scikit-learn."
   ]
  },
  {
   "cell_type": "code",
   "execution_count": 57,
   "id": "ac238bf2",
   "metadata": {},
   "outputs": [],
   "source": [
    "from sklearn.svm import SVC\n",
    "from sklearn.ensemble import VotingClassifier"
   ]
  },
  {
   "cell_type": "code",
   "execution_count": 58,
   "id": "ffc693fa",
   "metadata": {},
   "outputs": [
    {
     "name": "stdout",
     "output_type": "stream",
     "text": [
      "Results for voting model: 0.7669 (0.0729)\n"
     ]
    }
   ],
   "source": [
    "kfold = KFold(n_splits=10)\n",
    "\n",
    "# create the sub models\n",
    "estimators = [('logistic', LogisticRegression(max_iter=300)),\n",
    "             ('cart', DecisionTreeClassifier()),\n",
    "             ('svm', SVC())]\n",
    "\n",
    "# create the ensemble model\n",
    "ensemble = VotingClassifier(estimators)\n",
    "\n",
    "results = cross_val_score(ensemble, X_diab, Y_diab, cv=kfold)\n",
    "\n",
    "print(f\"Results for voting model: {results.mean():.4f} ({results.std():.4f})\")"
   ]
  },
  {
   "cell_type": "markdown",
   "id": "4b65976d",
   "metadata": {},
   "source": [
    "<a id=\"tune\"></a>\n",
    "<h2 align=\"center\">IMPROVE PERFORMANCE WITH ALGORITHM TUNING</h2>\n",
    "\n",
    "Machine learning models are parameterized so that their behavior can be tuned for a given problem. Models can have many parameters and finding the best combination of parameters can be treated as a search problem.\n",
    "\n",
    "Algorithm tuning is a final step in the process of applied machine learning before finalizing a model. It is sometimes called **hyperparameter optimization** where the algorithm parameters are referred to as hyperparameters, whereas the coefficients found by the machine learning algorithm itself are referred to as parameters. Optimization suggests the search-nature of the problem. Phrased as a search problem, you can use different search strategies to find a good and robust parameter or set of parameters for an algorithm on a given problem."
   ]
  },
  {
   "cell_type": "markdown",
   "id": "41f75c68",
   "metadata": {},
   "source": [
    "<a id=\"grid\"></a>\n",
    "<h3><ins>Grid Search Parameter Tuning</ins></h3>\n",
    "\n",
    "**Grid search** is an approach to parameter tuning that will methodically build and evaluate a model for each combination of algorithm parameters specified in a grid."
   ]
  },
  {
   "cell_type": "code",
   "execution_count": 59,
   "id": "851202c6",
   "metadata": {},
   "outputs": [],
   "source": [
    "from sklearn.linear_model import Ridge\n",
    "from sklearn.model_selection import GridSearchCV"
   ]
  },
  {
   "cell_type": "code",
   "execution_count": 60,
   "id": "a32adf1d",
   "metadata": {},
   "outputs": [
    {
     "name": "stdout",
     "output_type": "stream",
     "text": [
      "0.27610844129292433\n",
      "1\n"
     ]
    }
   ],
   "source": [
    "alphas = [1,0.1,0.01,0.001,0.0001,0]\n",
    "\n",
    "param_grid = dict(alpha=alphas)\n",
    "\n",
    "model = Ridge()\n",
    "grid = GridSearchCV(estimator=model, param_grid=param_grid)\n",
    "grid.fit(X_diab, Y_diab)\n",
    "\n",
    "print(grid.best_score_)\n",
    "print(grid.best_estimator_.alpha)"
   ]
  },
  {
   "cell_type": "markdown",
   "id": "0300b7f2",
   "metadata": {},
   "source": [
    "<a id=\"random\"></a>\n",
    "<h3><ins>Random Search Parameter Tuning</ins></h3>\n",
    "\n",
    "**Random search** is an approach to parameter tuning that will sample algorithm parameters from a random distribution (i.e. uniform) for a fixed number of iterations. A model is constructed and evaluated for each combination of parameters chosen."
   ]
  },
  {
   "cell_type": "code",
   "execution_count": 61,
   "id": "1ddb99c4",
   "metadata": {},
   "outputs": [],
   "source": [
    "from scipy.stats import uniform\n",
    "from sklearn.model_selection import RandomizedSearchCV"
   ]
  },
  {
   "cell_type": "markdown",
   "id": "86326fa6",
   "metadata": {},
   "source": [
    "A total of 100 iterations are performed with uniformly random alpha values selected in the range between 0 and 1 (the range that alpha values can take)."
   ]
  },
  {
   "cell_type": "code",
   "execution_count": 62,
   "id": "472de8cf",
   "metadata": {},
   "outputs": [
    {
     "name": "stdout",
     "output_type": "stream",
     "text": [
      "0.2761075573402853\n",
      "0.9779895119966027\n"
     ]
    }
   ],
   "source": [
    "param_grid = {'alpha': uniform()}\n",
    "model = Ridge()\n",
    "rsearch = RandomizedSearchCV(estimator=model, \n",
    "                             param_distributions=param_grid,\n",
    "                             n_iter=100, random_state=7)\n",
    "rsearch.fit(X_diab, Y_diab)\n",
    "print(rsearch.best_score_)\n",
    "print(rsearch.best_estimator_.alpha)"
   ]
  },
  {
   "cell_type": "markdown",
   "id": "1e6365ae",
   "metadata": {},
   "source": [
    "<a id=\"save\"></a>\n",
    "<h2 align=\"center\">SAVE AND LOAD MACHINE LEARNING MODELS</h2>\n",
    "\n",
    "Finding an accurate machine learning model is not the end of the project. It is necessary to save a machine learning model so that it can be used to make predictions."
   ]
  },
  {
   "cell_type": "markdown",
   "id": "e68df12d",
   "metadata": {},
   "source": [
    "<a id=\"pickle\"></a>\n",
    "<h3><ins>Finalize Your Model with pickle</ins></h3>\n",
    "\n",
    "**Pickle** is the standard way of serializing objects in Python. We can use the `pickle` operation to serialize our machine learning algorithms and save the serialized format to a file. Later we can load this file to deserialize our model and use it to make new predictions."
   ]
  },
  {
   "cell_type": "code",
   "execution_count": 63,
   "id": "bec7f5a8",
   "metadata": {},
   "outputs": [],
   "source": [
    "from pickle import dump, load"
   ]
  },
  {
   "cell_type": "code",
   "execution_count": 64,
   "id": "b660875b",
   "metadata": {},
   "outputs": [
    {
     "name": "stdout",
     "output_type": "stream",
     "text": [
      "0.7874015748031497\n"
     ]
    }
   ],
   "source": [
    "X_train, X_test, Y_train, Y_test = train_test_split(X_diab, Y_diab,\n",
    "                                                    test_size=0.33,\n",
    "                                                    random_state=7)\n",
    "\n",
    "# Fit the model on the training set\n",
    "model = LogisticRegression(max_iter=300)\n",
    "model.fit(X_train, Y_train)\n",
    "\n",
    "# save the model\n",
    "filename = 'finalized_model_pickle.sav'\n",
    "dump(model, open(filename, 'wb'))\n",
    "\n",
    "# load the model\n",
    "loaded_model = load(open(filename, 'rb'))\n",
    "result = loaded_model.score(X_test, Y_test)\n",
    "print(result)"
   ]
  },
  {
   "cell_type": "markdown",
   "id": "02ba9fbc",
   "metadata": {},
   "source": [
    "<a id=\"joblib\"></a>\n",
    "<h3><ins>Finalize Your Model with Joblib</ins></h3>\n",
    "\n",
    "The **`Joblib2`** library is part of the SciPy ecosystem and provides utilities for pipelining Python jobs. It provides utilities for saving and loading Python objects that make use of NumPy data structures, efficiently. This can be useful for some machine learning algorithms that require a lot of parameters or store the entire dataset (e.g. k-Nearest Neighbors)."
   ]
  },
  {
   "cell_type": "code",
   "execution_count": 65,
   "id": "2dbdce41",
   "metadata": {},
   "outputs": [],
   "source": [
    "import joblib"
   ]
  },
  {
   "cell_type": "code",
   "execution_count": 66,
   "id": "7375091a",
   "metadata": {},
   "outputs": [
    {
     "name": "stdout",
     "output_type": "stream",
     "text": [
      "0.7874015748031497\n"
     ]
    }
   ],
   "source": [
    "X_train, X_test, Y_train, Y_test = train_test_split(X_diab, Y_diab,\n",
    "                                                    test_size=0.33,\n",
    "                                                    random_state=7)\n",
    "# Fit the model on the training set\n",
    "model = LogisticRegression(max_iter=300)\n",
    "model.fit(X_train, Y_train)\n",
    "\n",
    "# save the model\n",
    "filename = 'finalized_model_joblib.sav'\n",
    "dump(model, open(filename, 'wb'))\n",
    "\n",
    "# load the model\n",
    "loaded_model = load(open(filename, 'rb'))\n",
    "result = loaded_model.score(X_test, Y_test)\n",
    "print(result)"
   ]
  },
  {
   "cell_type": "markdown",
   "id": "02d76621",
   "metadata": {},
   "source": [
    "<a id=\"ref\"></a>\n",
    "<h3><ins>REFERENCES</ins></h3>\n",
    "\n",
    "<ins>BOOKS</ins>\n",
    "- [Machine Learning Algorithms From Scratch by Jason Brownlee](https://machinelearningmastery.com/machine-learning-algorithms-from-scratch/)\n",
    "- [Data Preparation for Machine Learning by Jason Brownlee](https://machinelearningmastery.com/data-preparation-for-machine-learning/)\n",
    "\n",
    "\n",
    "<ins>ARTICLES / WEBSITES</ins>\n",
    "- [Towards Data Science - Choosing a Baseline Accuracy for a Classification Model](https://towardsdatascience.com/calculating-a-baseline-accuracy-for-a-classification-model-a4b342ceb88f)\n",
    "\n",
    "<ins>PYTHON PACKAGES</ins>\n",
    "- [Scikit Learn - Cross-validation: evaluating estimator performance](https://scikit-learn.org/stable/modules/cross_validation.html#cross-validation)\n",
    "- [Scikit Learn - Dummy (baseline) Estimators](https://scikit-learn.org/stable/modules/model_evaluation.html#dummy-estimators)\n"
   ]
  }
 ],
 "metadata": {
  "kernelspec": {
   "display_name": "Python 3",
   "language": "python",
   "name": "python3"
  },
  "language_info": {
   "codemirror_mode": {
    "name": "ipython",
    "version": 3
   },
   "file_extension": ".py",
   "mimetype": "text/x-python",
   "name": "python",
   "nbconvert_exporter": "python",
   "pygments_lexer": "ipython3",
   "version": "3.8.8"
  }
 },
 "nbformat": 4,
 "nbformat_minor": 5
}
