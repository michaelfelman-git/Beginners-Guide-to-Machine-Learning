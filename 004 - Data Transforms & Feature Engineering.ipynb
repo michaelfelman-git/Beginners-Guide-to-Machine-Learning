{
 "cells": [
  {
   "cell_type": "markdown",
   "id": "fbe1ee60",
   "metadata": {},
   "source": [
    "<h1 align=\"center\">DATA TRANSFORMS & FEATURE ENGINEERING</h1>\n",
    "<h3><mark style=\"background-color: yellow\">CONTENTS</mark></h3>\n",
    "\n",
    "- [**NEED FOR PREPROCESSING**](#need)\n",
    "- [**HOW TO SCALE NUMERICAL DATA**](#intro)\n",
    "    - [**Scale of the Data Matters**](#matter)\n",
    "    - [**Common Numerical Data Scaling Methods**](#method)\n",
    "        - [**Centering**](#center)\n",
    "        - [**MinMaxScaler**](#minmax)\n",
    "        - [**MaxAbsScaler**](#maxabs)\n",
    "        - [**Normalization**](#norm)\n",
    "        - [**Standardization**](#stand)\n",
    "        - [**Diabetes Dataset Example**](#diab)\n",
    "        - [**Data Binarization**](#binary)\n",
    "    - [**Common Tips & Questions**](#common)\n",
    "- [**HOW TO SCALE DATA WITH OUTLIERS**](#out)\n",
    "    - [**Robust Scaling Data**](#robust)\n",
    "    - [**Robust Scaler Transforms**](#scale)\n",
    "    - [**IQR Robust Scaler Transform**](#iqr)\n",
    "    - [**Explore Robust Scaler Range**](#explore)\n",
    "- [**HOW TO ENCODE CATEGORICAL DATA**](#categ)\n",
    "    - [**Nominal and Ordinal Variables**](#var)\n",
    "    - [**Encoding Categorical Data**](#encode)\n",
    "        - [**Ordinal Encoding**](#ord)\n",
    "        - [**One Hot Encoding**](#hot)\n",
    "        - [**Dummy Variable Encoding**](#dummy)\n",
    "    - [**Breast Cancer Dataset Example**](#bre)\n",
    "        - [**OrdinalEncoder Transform**](#tran)\n",
    "        - [**OneHotEncoder Transform**](#one)\n",
    "        - [**Dummy Variable Transform**](#dum)\n",
    "        - [**ColumnTansformer**](#col)\n",
    "    - [**Common Questions**](#quest)\n",
    "- [**HOW TO MAKE DISTRIBUTIONS MORE GAUSSIAN**](#gaus)\n",
    "    - [**Power Transforms**](#power)\n",
    "        - [**Sonar Dataset**](#sonar)\n",
    "        - [**Box-Cox Transform**](#box)\n",
    "        - [**Yeo-Johnson Transform**](#yeo)\n",
    "- [**HOW TO CHANGE NUMERICAL DISTRIBUTIONS**](#change)\n",
    "    - [**Quantile Transforms**](#quant)\n",
    "        - [**Normal Quantile Transform**](#nqt)\n",
    "        - [**Uniform Quantile Transform**](#uqt)\n",
    "        - [**Select Number of Quantiles**](#select)\n",
    "- [**HOW TO TRANSFORM NUMERICAL TO CATEGORICAL DATA**](#cat)\n",
    "    - [**Discretization Transforms**](#disc)\n",
    "        - [**Uniform Discretization Transform**](#uni)\n",
    "        - [**k-Means Discretization Transform**](#kmean)\n",
    "        - [**Quantile Discretization Transform**](#qdt)\n",
    "    - [**Grouping Observations Using Clustering**](#cluster)\n",
    "- [**HOW TO DERIVE NEW INPUT VARIABLES**](#derive)\n",
    "    - [**Interaction Terms**](#inter)\n",
    "    - [**Polynomial Features**](#poly)\n",
    "        - [**Polynomial Feature Transform**](#pft)\n",
    "        - [**Effect of Polynomial Degree**](#degree)\n",
    "    - [**Transforming Features with FunctionTransformer**](#func)\n",
    "- [**HOW TO TRANSFORM NUMERICAL AND CATEGORICAL DATA**](#num_cat)\n",
    "    - [**Challenge of Transforming Different Data Types**](#chall)\n",
    "    - [**How to use the ColumnTransformer**](#use)\n",
    "    - [**Abalone Regression Dataset**](#abalone)\n",
    "- [**HOW TO TRANSFORM THE TARGET VARIABLE**](#reg)\n",
    "    - [**Handling Imbalanced Classes**](#imbal)\n",
    "    - [**How to Scale Target Variables**](#target)\n",
    "        - [**Manual Transform of the Target Variable**](#manual)\n",
    "        - [**Automatic Transform of the Target Variable**](#auto)\n",
    "    - [**Using the TransformedTargetRegressor**](#ttr)\n",
    "- [**HOW TO HANDLE TEXT**](#text)\n",
    "    - [**Cleaning Text**](#clean)\n",
    "        - [**Removing Punctuation**](#punc)\n",
    "    - [**Parsing and Cleaning HTML**](#parse)\n",
    "    - [**Tokenizing Text**](#token)\n",
    "    - [**Removing Stop Words**](#stop)\n",
    "    - [**Stemming Words**](#stem)\n",
    "    - [**Tagging Parts of Speech**](#tag)\n",
    "    - [**Encoding Text as a Bag of Words**](#bag)\n",
    "    - [**Weighting Word Importance**](#weigh)\n",
    "- [**HOW TO HANDLE DATES & TIMES**](#date)\n",
    "    - [**Converting Strings to Dates**](#convert)\n",
    "    - [**Handling Time Zones**](#zone)\n",
    "    - [**Selecting Dates and Times**](#time)\n",
    "    - [**Breaking Up Time Data into Multiple Features**](#break)\n",
    "    - [**Calculating the Difference Between Dates**](#diff)\n",
    "    - [**Encoding Days of the Week**](#week)\n",
    "    - [**Creating a Lagged Feature**](#lag)\n",
    "    - [**Using Rolling Time Windows**](#roll)\n",
    "    - [**Handling Missing Data in Time Series**](#miss)\n",
    "- [**HOW TO SAVE AND LOAD DATA TRANSFORMS**](#how)\n",
    "    - [**Challenge of Preparing New Data for a Model**](#prep)\n",
    "    - [**Save Data Preparation Objects**](#data)\n",
    "    - [**Save Model and Data Scaler**](#save)\n",
    "    - [**Load Model and Data Scaler**](#load)\n",
    "- [**REFERENCES**](#ref)    "
   ]
  },
  {
   "cell_type": "code",
   "execution_count": 1,
   "id": "7ef0ba5e",
   "metadata": {},
   "outputs": [],
   "source": [
    "import numpy as np\n",
    "import pandas as pd\n",
    "import seaborn as sns\n",
    "import matplotlib.pyplot as plt\n",
    "\n",
    "%matplotlib inline"
   ]
  },
  {
   "cell_type": "markdown",
   "id": "4c83dc80",
   "metadata": {},
   "source": [
    "<a id=\"need\"></a>\n",
    "<h1 align=\"center\">NEED FOR PREPROCESSING</h1>\n",
    "\n",
    "Many machine learning algorithms make assumptions about data. As such, it is often a good idea (and best practice) to prepare the data in such a way to best expose the structure of the problem to the machine learning algorithms intended for use. One of the difficulties is that different algorithms make different assumptions about data and may require different transforms. Further, when you follow all of the rules and prepare your data, sometimes algorithms can deliver better results without pre-processing. \n",
    ">**It is recommended to apply a handful of different machine learning algorithms to many different views and transforms of the data. This will help flush out which data transforms might be better at exposing the structure of the problem in general.**"
   ]
  },
  {
   "cell_type": "markdown",
   "id": "fc401ffa",
   "metadata": {},
   "source": [
    "<a id=\"intro\"></a>\n",
    "<h1 align=\"center\">HOW TO SCALE NUMERICAL DATA</h1>\n",
    "\n",
    "**Scaling** data is the process of increasing or decreasing the magnitude according to a fixed ratio (i.e. change the range of the values). In other words, you change the size but not the shape of the data (i.e. the shape of the distribution is unchanged). Think about how a scale model of a building has the same proportions as the original, just smaller.\n",
    "\n",
    "Some data scaling methods often change the *location* of the data as well. For example, when \"centering\" we take a distribution and change it's mean to be zero by subtracting the mean of the distribution from each data point in the distribution. While this is not technically \"scaling\", changing the location is often a component of the process and preserves the shape of the data (it just shifts it around).\n",
    "\n",
    "**There are a number of good reasons why we scale data:**\n",
    "- To handle disparities in units.\n",
    "- Cut computational expense.\n",
    "- Improve model performance (Especially in Machine Learning).\n",
    "- We scale for models to prevent the steps on different axes from varying widely.\n",
    "\n",
    "It is common to scale data prior to fitting a machine learning model. This is because data often consists of many different input variables or features (columns) and each may have a different range of values or units of measure, such as feet, miles, kilograms, dollars, etc. If there are input variables that have very large values relative to the other input variables, these large values can dominate or skew some machine learning algorithms. The result is that the algorithms pay most of their attention to the large values and ignore the variables with smaller values. \n",
    "\n",
    "This pertains to algorithms that use a weighted sum of inputs like linear regression, logistic regression, and artificial neural networks, as well as algorithms that use distance measures between examples, such as k-nearest neighbors and support vector machines. As such, it is normal to scale input variables to a common range as a data preparation technique prior to fitting a model. "
   ]
  },
  {
   "cell_type": "markdown",
   "id": "93f7043f",
   "metadata": {},
   "source": [
    "Some popular methods for scaling datasets prior to modeling are:\n",
    "- **Centering** - Mean centering is the act of subtracting a variable's mean from all observations on that variable in the dataset such that the variable's new mean is zero.\n",
    "- **Normalization** scales each input variable separately to the range 0-1, which is the range for floating-point values where we have the most precision.\n",
    "- **Standardization** scales each input variable separately by subtracting the mean (called centering) and dividing by the standard deviation to shift the distribution to have a mean of zero and a standard deviation of one. \n",
    "- **Robust** - Using the median and interquartile range when standardizing numerical input variables.\n",
    "- **Binarization** is the process of dividing data into two groups - `from sklearn.preprocessing import Binarizer`\n",
    "\n",
    "**Assumptions**:\n",
    "- Implicit/explicit assumptions of machine learning algorithms - features follow a normal distribution.\n",
    "* Most method are based on linear assumptions\n",
    "* Most machine learning requires the data to be normally distributed - Gaussian with zero mean and unit variance.\n",
    "* Many elements used in the objective function of a learning algorithm (such as the RBF kernel of Support Vector Machines or the l1 and l2 regularizers of linear models) **assume that all features are centered around zero and have variance in the same order**. If a feature has a variance that is orders of magnitude larger than others, it might dominate the objective function and make the estimator unable to learn from other features correctly as expected.\n"
   ]
  },
  {
   "cell_type": "markdown",
   "id": "0f75d6b0",
   "metadata": {},
   "source": [
    "<a id=\"matter\"></a>\n",
    "<h2><ins>Scale of the Data Matters</ins></h2>\n",
    "\n",
    "Machine learning models learn a mapping from input variables to an output variable. As such, the scale and distribution of the data drawn from the domain may be different for each variable. Differences in the scales across input variables may increase the difficulty of the problem being modeled. An example of this is that large input values (e.g. a spread of hundreds or thousands of units) can result in a model that learns large weight values. A model with large weight values is often unstable, meaning that it may suffer from poor performance during learning and sensitivity to input values resulting in higher generalization error. \n",
    "\n",
    "This difference in scale for input variables does not affect all machine learning algorithms. Some of the algorithms unaffected by the scale of numerical input variables are *decision trees* and *ensembles of trees*, like *random forest*. **This is because they consider features independently**.\n",
    "\n",
    "When data is comprised of attributes with varying scales, many machine learning algorithms can benefit from rescaling the attributes to all have the same scale. This is useful for optimization algorithms used in the core of machine learning algorithms like gradient descent. **Many machine learning algorithms perform better or converge faster when features are on a relatively similar scale and/or close to normally distributed.**<br>\n",
    "$\\;\\;\\;\\;\\;\\;\\;$Algorithms that fit a model that use a weighted sum of input variables are affected by the scale, such as *linear regression*, *logistic regression*, *perceptrons* and *artificial neural networks (deep learning)*. If using gradient descent/ascent-based optimization, some weights will update much faster than others.\n",
    "> **Note:** In ordinary linear regression, centering and scaling variables does *not* impact the amount of variance accounted for. This is because we are only moving and adjusting the magnitude of the distribution: the shape of the distribution does not change."
   ]
  },
  {
   "cell_type": "markdown",
   "id": "03fce286",
   "metadata": {},
   "source": [
    "Linear Discriminant Analysis, Principal Component Analysis, Kernel Principal Component analysis are also affected by the scale. Since you want to find directions of maximizing the variance (under the constraints that those directions/eigenvectors/principal components are orthogonal); you want to have features on the same scale since you would emphasize variables on \"larger measurement scales\" more.<br>\n",
    "$\\;\\;\\;\\;\\;\\;\\;$Finally, algorithms that use distance measures between examples are affected, such as *k-nearest neighbors*, *k-means* and *support vector machines*. \n",
    ">Different attributes are measured on different scales, so if the Euclidean distance formula were used directly, the effect of some attributes might be completely dwarfed by others that had larger scales of measurement.\n",
    ">>When the distance or dot products between predictors are used, or when the variables are required to be a common scale in order to apply a penalty, a standardization procedure is essential to allow features to contribute equally.\n",
    "\n",
    "It can also be a good idea to scale the target variable for regression predictive modeling problems to make the problem easier to learn, most notably in the case of neural network models. A target variable with a large spread of values, in turn, may result in large error gradient values causing weight values to change dramatically, making the learning process unstable. Scaling input and output variables is a critical step in using neural network models."
   ]
  },
  {
   "cell_type": "markdown",
   "id": "97abbfdf",
   "metadata": {},
   "source": [
    "<a id=\"common\"></a>\n",
    "<h2><ins>Common Tips & Questions</ins></h2>\n",
    "\n",
    ">If you want more normally distributed data, and are okay with transforming the data - try `QuantileTransformer(output_distribution='normal')`.\n",
    "\n",
    "**Should I Normalize or Standardize?** - Whether input variables require scaling depends on the specifics of the problem and of each variable. If the distribution of the data is normal, then it should be standardized, otherwise, the data should be normalized.\n",
    "- Standardization assumes data conforms to a normal distribution.\n",
    "- Normalization does not assume any specific distribution.\n",
    "\n",
    "In clustering analyses, standardization may be especially crucial in order to compare similarities between features based on certain distance measures. Another prominent example is the Principal Component Analysis, where we usually prefer standardization over Min-Max scaling, since we are interested in the components that maximize the variance (depending on the question and if the PCA computes the components via the correlation matrix instead of the covariance matrix. However, this doesn’t mean that Min-Max scaling is not useful at all! A popular application is image processing, where pixel intensities have to be normalized to fit within a certain range (i.e., 0 to 255 for the RGB color range). Also, typical neural network algorithm require data that on a 0-1 scale.\n",
    "\n",
    "If the data values are small (near 0-1) and the distribution is limited (e.g. standard deviation near 1), then perhaps no scaling of the data is required. Predictive modeling problems can be complex, and it may not be clear how to best scale input data. If in doubt, normalize the input sequence. If you have the resources, ***explore modeling with the raw data, standardized data, and normalized data and see if there is a beneficial difference in the performance of the resulting model.***\n",
    "\n",
    "**Should I Standardize then Normalize?** - Standardization can give values that are both positively and negatively centered around zero. It may be desirable to normalize data after it has been standardized. This might be a good idea of you have a mixture of standardized and normalized variables and wish all input variables to have the same minimum and maximum values as input for a given algorithm, such as an algorithm that calculates distance measures."
   ]
  },
  {
   "cell_type": "markdown",
   "id": "73e6fe54",
   "metadata": {},
   "source": [
    "<a id=\"method\"></a>\n",
    "<h2><ins>Common Numerical Data Scaling Methods</ins></h2>\n",
    "\n",
    "Good practice usage with scaling techniques is as follows:\n",
    "- **Fit the scaler using available training data** - For normalization, this means the training data will be used to estimate the min and max observable values. For standardization, this means calculating the mean and standard deviation. This is done by calling the `fit()` function.\n",
    "- **Apply the scale to training data** - This means we can use the scaled data to train a model. This is done by calling the `transform()` function.\n",
    "- **Apply the scale to data going forward** - This means we can prepare new data in the future on which we want to make predictions."
   ]
  },
  {
   "cell_type": "markdown",
   "id": "5404c5d2",
   "metadata": {},
   "source": [
    "|Preprocessing<br>Type|Sklearn<br>Function|Range|Mean|Distribution<br>Characteristics|When Use|\n",
    "|:-:|:-:|:-:|:-:|:-:|:-:|\n",
    "|Scale|MinMaxScaler|0 to 1 default,<br>can override|varies|Bounded|When want a light touch.|\n",
    "|Standardize|RobustScaler|varies|varies|Unbounded|Use if have outliers and don't<br>want them to have much influence.|\n",
    "|Standardize|StandardScaler|varies|0|Unbounded,<br>Unit variance|When need to transform a feature with<br>zero mean and unit standard deviation.|\n",
    "|Normalize|Normalizer|varies|0|Unit norm|Rarely| \n",
    "<br>\n",
    "\n",
    "|Definition|Notes|\n",
    "|:-:|:-:|\n",
    "|**MinMaxScaler** subtracts the minimum value in the column and then divides by the difference between the original maximum and original minimum.|Preserves the shape of the original distribution. Doesn't reduce the importance of outliers. Least disruptive to the information in the original data. Default range is [0,1].|\n",
    "|**RobustScaler** standardizes a feature by removing the median and dividing by the interquartile range.|Outliers have less influence. Range is larger than MinMaxScaler or StandardScaler.\n",
    "|**StandardScaler** standardizes a feature by removing the mean and dividing each value by the standard deviation.|Results in a distribution with a standard deviation equal to 1 (and variance equal to 1). If outliers are present, normalizing will scale most of the data to a small interval.| \n",
    "|An observation (row) is **normalized** by applying l2 (Euclidian) normalization. If each element were squared and summed, the total would equal 1. Could also specify l1 (Manhatten) normalization.|Normalizes each sample observation (row), not the feature (column)|"
   ]
  },
  {
   "cell_type": "markdown",
   "id": "98ba5a7d",
   "metadata": {},
   "source": [
    "<a id=\"center\"></a>\n",
    "<h5 style=\"text-decoration:underline\">Centering</h5>\n",
    "\n",
    "We can start with the simplest transformation example - **changing the location of data**. If we have a distribution of values $X$, then to center our data to a new distribution $X_c$:\n",
    "$$X_c = X - \\bar{X}$$\n",
    ">The primary benefit of centering data in linear modeling is so **the intercept represents the estimate of the target when all predictors are at their mean value.** If we don't center, the intercept is the estimate of our model when all predictors are at value 0. It often makes the intercept much more interpretable when centering the predictors. Centering the data will not change the coefficients."
   ]
  },
  {
   "cell_type": "markdown",
   "id": "91d5b43d",
   "metadata": {},
   "source": [
    "<a id=\"minmax\"></a>\n",
    "<h5 style=\"text-decoration:underline\">MinMaxScaler</h5>\n",
    "\n",
    "**Transform features by scaling each feature to a given range.** This estimator scales and transforms each feature individually such that it is in the given range on the training set. MinMaxScaler preserves the shape of the original distribution. It doesn’t meaningfully change the information embedded in the original data.\n",
    "- **Note that MinMaxScaler doesn’t reduce the importance of outliers. It essentially shrinks the range such that the range is now between 0 and 1 (or -1 to 1 if there are negative values).**\n",
    "\n",
    "This transformation is often used as an alternative to zero mean, unit variance scaling. The motivation to use this scaling include robustness to very small standard deviations of features and preserving zero entries in sparse data. This scaler also works better for cases in which the standard scaler might not work so well. If the distribution is not Gaussian or the standard deviation is very small, the min-max scaler works better.\n",
    ">MinMaxScaler isn’t a bad place to start, unless you know you want your features to have a normal distribution (`StandardScaler`) or you have outliers and you want them to have reduced influence (`RobustScaler`).\n",
    "\n",
    "For each value in a feature, MinMaxScaler subtracts the minimum value in the feature and then divides by the range. The range is the difference between the original maximum and original minimum. The transformation is given by:\n",
    "\n",
    "$$X = \\frac{(X - X.min(axis=0))}{(X.max(axis=0) - X.min(axis=0))}$$\n",
    "\n",
    "-  If an $x$ value is provided that is outside the bounds of the min and max values, the resulting value will not be in the range of 0 and 1. We can check for these observations prior to making predictions and either remove them from the dataset or limit them to the pre-defined min or max values. \n",
    "<br><br>\n",
    "\n",
    "```python\n",
    "from sklearn.preprocessing import MinMaxScaler\n",
    "\n",
    "X_minmax = MinMaxScaler(feature_range=(0, 1)).fit_transform(X)\n",
    "```\n",
    "The default scale for the MinMaxScaler is to rescale variables into the range [0,1], although a preferred scale can be specified via the `feature_range` argument as a tuple containing the min and the max for all variables. If needed, the transform can be inverted. This is useful for converting predictions back into their original scale for reporting or plotting. This can be done by calling the `inverse_transform()` function.\n"
   ]
  },
  {
   "cell_type": "markdown",
   "id": "7dca65a4",
   "metadata": {},
   "source": [
    "<a id=\"maxabs\"></a>\n",
    "<h5 style=\"text-decoration:underline\">MaxAbsScaler</h5>\n",
    "\n",
    "**Scale each feature by its maximum absolute value.** This estimator scales and translates each feature individually such that the maximal absolute value of each feature in the training set will be 1.0. It does not shift/center the data, and thus does not destroy any sparsity.\n",
    "\n",
    "`MaxAbsScaler` works very similar to `MinMaxScaler` but scales in a way that the training data lies within the range [-1, 1] by dividing through the largest maximum value in each feature. **It is meant for data that is already centered at zero or sparse data.**\n",
    "\n",
    "```python\n",
    "from sklearn.preprocessing import MaxAbsScaler\n",
    "\n",
    "X_minmax = MaxAbsScaler(feature_range=(0, 1)).fit_transform(X)\n",
    "```"
   ]
  },
  {
   "cell_type": "markdown",
   "id": "5d407c37",
   "metadata": {},
   "source": [
    "<a id=\"norm\"></a>\n",
    "<h5 style=\"text-decoration:underline\">Normalization</h5>\n",
    "\n",
    "**Normalize samples individually to unit norm.** Normalization is a rescaling of the data from the original range so that all values are within the new range of 0 and 1. Normalizing in scikit-learn refers to rescaling each observation (row) to have a length of 1 (called a unit norm or a vector with the length of 1 in linear algebra). This pre processing method can be useful for sparse datasets (lots of zeros) with attributes of varying scales when using algorithms that weight input values such as neural networks and algorithms that use distance measures such as k-Nearest Neighbors.\n",
    ">This process can be useful if you plan to use a quadratic form such as the dot-product or any other kernel to quantify the similarity of any pair of samples. This assumption is the base of the Vector Space Model often used in text classification and clustering contexts. \n",
    "\n",
    "There are two types of Normalization\n",
    "- **L1 normalization** - Least Absolute Deviations ensure the sum of absolute values is 1 in each row.\n",
    "- **L2 normalization** - Least squares ensure that the sum of squares is 1.\n",
    "\n",
    "**Sklearn's `Normalizer` works on the rows, not the columns.** By default, L2 normalization is applied to each observation so the that the values in a row have a unit norm.\n",
    ">Unit norm with L2 (Euclidean) means that if each element were squared and summed, the total would equal 1. Alternatively, L1 (aka taxicab or Manhattan) normalization can be applied instead of L2 normalization.\n",
    "\n",
    "In most cases one of the other preprocessing tools will be more helpful."
   ]
  },
  {
   "cell_type": "markdown",
   "id": "f7d55c3a",
   "metadata": {},
   "source": [
    "```python\n",
    "from sklearn.preprocessing import normalize, Normalizer\n",
    "\n",
    "X_norm = normalize(X, norm='l2')\n",
    "\n",
    "or\n",
    "\n",
    "X_norm = Normalizer(norm='l2').fit_transform(X)\n",
    "```"
   ]
  },
  {
   "cell_type": "markdown",
   "id": "53a29ac8",
   "metadata": {},
   "source": [
    "<a id=\"stand\"></a>\n",
    "<h5 style=\"text-decoration:underline\">Standardization</h5>\n",
    "\n",
    "**Standardize features by removing the mean and scaling to unit variance. Assumes the data is normally distributed within each feature.** \n",
    "\n",
    "Standardizing a dataset involves rescaling the distribution of values so that the mean value is removed (mean is 0) and the standard deviation is 1. This is to remove bias. Subtracting the mean from the data is called *centering*, whereas dividing by the standard deviation is called *scaling*. As such, the method is sometimes called *center scaling*. Can be influenced by outliers. `StandardScaler` therefore cannot guarantee balanced feature scales in the presence of outliers. \n",
    "- Centering and scaling happen independently on each feature by computing the relevant statistics on the samples in the training set. Mean and standard deviation are then stored to be used later in the `transform` stage.\n",
    "\n",
    "Standardizing the features so that they are centered around 0 with a standard deviation of 1 is not only important if we are comparing measurements that have different units, but it is also a general requirement for many machine learning algorithms. Furthermore, many machine learning algorithms behave badly if the individual features do not more or less look like standard normally distributed data: **Gaussian with zero mean and unit variance**.\n",
    "- However, it depends on the learning algorithm. For example, principal component analysis often works better using standardization, while min-max scaling is often recommended for neural networks.\n",
    "- If the data has significant outliers, it can negatively impact standardization by affecting the feature’s mean and variance. In this case, it is often helpful to instead rescale the feature using the median and quartile range (i.e. use `RobustScaler`).\n",
    "- \n",
    "\n",
    "Standardization assumes that the observations fit a Gaussian distribution (bell curve) with a well-behaved mean and standard deviation. If this expectation is not met, we can still standardize the data, but may not get reliable results. A value is standardized as follows:\n",
    "$$Z=\\frac{X-\\mu}{\\sigma}$$\n",
    "\n",
    "where:\n",
    "- $mean=\\frac{\\Sigma{x_i}}{N}$$\\;\\;$\n",
    "- $standard\\;deviation=\\sqrt{\\frac{\\Sigma{(x_i-mean)^2}}{N-1}}$\n",
    "\n",
    "The mean and standard deviation estimates of a dataset can be more robust to new data than the minimum and maximum.\n",
    "\n",
    "There are many benefits to standardizing data, especially when there is more than one predictor present:\n",
    "- Intercepts are interpreted as the estimate when all predictors are at their mean value.\n",
    "- Coefficients are in units of standard deviations of the original predictors. This allows for direct comparison of the magnitude of impact between different predictors.\n",
    "- Optimization methods (minimizing loss functions) are faster and more stable.\n",
    "- It is required for regularization penalties where the magnitude of coefficients for different predictors must have the same meaning.\n",
    "- In K-Nearest Neighbors methods it is necessary if you want features to contribute equally since these models use the distance between observations calculated from the features.\n",
    "- K-means clustering is affected by the scale of the data and standardizing the features will prevent variables from dominating simply based on their scale.\n",
    "- In logistic regression, neural networks, and support vector machines unscaled data can result in a disproportionate effect of some data points over others.\n",
    "\n",
    "```python\n",
    "from sklearn.preprocessing import StandardScaler\n",
    "\n",
    "ss = StandardScaler()\n",
    "X_train_std = ss.fit_transform(X_train)\n",
    "X_test_std = ss.transform(X_test)\n",
    "```\n",
    "It is possible to disable either centering or scaling by either passing \n",
    "`with_mean=False` or `with_std=False` to the constructor of `StandardScaler`.\n"
   ]
  },
  {
   "cell_type": "markdown",
   "id": "6584c735",
   "metadata": {},
   "source": [
    "<a id=\"diab\"></a>\n",
    "<h5 style=\"text-decoration:underline\">Diabetes Dataset Example</h5>"
   ]
  },
  {
   "cell_type": "code",
   "execution_count": 2,
   "id": "be1cdfa1",
   "metadata": {},
   "outputs": [],
   "source": [
    "from sklearn.preprocessing import LabelEncoder"
   ]
  },
  {
   "cell_type": "code",
   "execution_count": 3,
   "id": "e59d33fa",
   "metadata": {},
   "outputs": [],
   "source": [
    "df_diab = pd.read_csv('./datasets/Data Transforms/Diabetes.csv',header=None)\n",
    "df_diab.columns = ['pregnant','glucose_conc','blood_press','tricep_thick',\n",
    "                  'serum_ins','bmi','pedigree','age','target']\n",
    "\n",
    "X = df_diab.drop('target', axis=1)\n",
    "y = df_diab['target']\n",
    "\n",
    "# ensure inputs are floats and output is an integer label\n",
    "X = X.astype('float32')\n",
    "y = LabelEncoder().fit_transform(y.astype('str'))"
   ]
  },
  {
   "cell_type": "code",
   "execution_count": 4,
   "id": "41a0e772",
   "metadata": {},
   "outputs": [
    {
     "data": {
      "text/html": [
       "<div>\n",
       "<style scoped>\n",
       "    .dataframe tbody tr th:only-of-type {\n",
       "        vertical-align: middle;\n",
       "    }\n",
       "\n",
       "    .dataframe tbody tr th {\n",
       "        vertical-align: top;\n",
       "    }\n",
       "\n",
       "    .dataframe thead th {\n",
       "        text-align: right;\n",
       "    }\n",
       "</style>\n",
       "<table border=\"1\" class=\"dataframe\">\n",
       "  <thead>\n",
       "    <tr style=\"text-align: right;\">\n",
       "      <th></th>\n",
       "      <th>pregnant</th>\n",
       "      <th>glucose_conc</th>\n",
       "      <th>blood_press</th>\n",
       "      <th>tricep_thick</th>\n",
       "      <th>serum_ins</th>\n",
       "      <th>bmi</th>\n",
       "      <th>pedigree</th>\n",
       "      <th>age</th>\n",
       "      <th>target</th>\n",
       "    </tr>\n",
       "  </thead>\n",
       "  <tbody>\n",
       "    <tr>\n",
       "      <th>count</th>\n",
       "      <td>768.000000</td>\n",
       "      <td>768.000000</td>\n",
       "      <td>768.000000</td>\n",
       "      <td>768.000000</td>\n",
       "      <td>768.000000</td>\n",
       "      <td>768.000000</td>\n",
       "      <td>768.000000</td>\n",
       "      <td>768.000000</td>\n",
       "      <td>768.000000</td>\n",
       "    </tr>\n",
       "    <tr>\n",
       "      <th>mean</th>\n",
       "      <td>3.845052</td>\n",
       "      <td>120.894531</td>\n",
       "      <td>69.105469</td>\n",
       "      <td>20.536458</td>\n",
       "      <td>79.799479</td>\n",
       "      <td>31.992578</td>\n",
       "      <td>0.471876</td>\n",
       "      <td>33.240885</td>\n",
       "      <td>0.348958</td>\n",
       "    </tr>\n",
       "    <tr>\n",
       "      <th>std</th>\n",
       "      <td>3.369578</td>\n",
       "      <td>31.972618</td>\n",
       "      <td>19.355807</td>\n",
       "      <td>15.952218</td>\n",
       "      <td>115.244002</td>\n",
       "      <td>7.884160</td>\n",
       "      <td>0.331329</td>\n",
       "      <td>11.760232</td>\n",
       "      <td>0.476951</td>\n",
       "    </tr>\n",
       "    <tr>\n",
       "      <th>min</th>\n",
       "      <td>0.000000</td>\n",
       "      <td>0.000000</td>\n",
       "      <td>0.000000</td>\n",
       "      <td>0.000000</td>\n",
       "      <td>0.000000</td>\n",
       "      <td>0.000000</td>\n",
       "      <td>0.078000</td>\n",
       "      <td>21.000000</td>\n",
       "      <td>0.000000</td>\n",
       "    </tr>\n",
       "    <tr>\n",
       "      <th>25%</th>\n",
       "      <td>1.000000</td>\n",
       "      <td>99.000000</td>\n",
       "      <td>62.000000</td>\n",
       "      <td>0.000000</td>\n",
       "      <td>0.000000</td>\n",
       "      <td>27.300000</td>\n",
       "      <td>0.243750</td>\n",
       "      <td>24.000000</td>\n",
       "      <td>0.000000</td>\n",
       "    </tr>\n",
       "    <tr>\n",
       "      <th>50%</th>\n",
       "      <td>3.000000</td>\n",
       "      <td>117.000000</td>\n",
       "      <td>72.000000</td>\n",
       "      <td>23.000000</td>\n",
       "      <td>30.500000</td>\n",
       "      <td>32.000000</td>\n",
       "      <td>0.372500</td>\n",
       "      <td>29.000000</td>\n",
       "      <td>0.000000</td>\n",
       "    </tr>\n",
       "    <tr>\n",
       "      <th>75%</th>\n",
       "      <td>6.000000</td>\n",
       "      <td>140.250000</td>\n",
       "      <td>80.000000</td>\n",
       "      <td>32.000000</td>\n",
       "      <td>127.250000</td>\n",
       "      <td>36.600000</td>\n",
       "      <td>0.626250</td>\n",
       "      <td>41.000000</td>\n",
       "      <td>1.000000</td>\n",
       "    </tr>\n",
       "    <tr>\n",
       "      <th>max</th>\n",
       "      <td>17.000000</td>\n",
       "      <td>199.000000</td>\n",
       "      <td>122.000000</td>\n",
       "      <td>99.000000</td>\n",
       "      <td>846.000000</td>\n",
       "      <td>67.100000</td>\n",
       "      <td>2.420000</td>\n",
       "      <td>81.000000</td>\n",
       "      <td>1.000000</td>\n",
       "    </tr>\n",
       "  </tbody>\n",
       "</table>\n",
       "</div>"
      ],
      "text/plain": [
       "         pregnant  glucose_conc  blood_press  tricep_thick   serum_ins  \\\n",
       "count  768.000000    768.000000   768.000000    768.000000  768.000000   \n",
       "mean     3.845052    120.894531    69.105469     20.536458   79.799479   \n",
       "std      3.369578     31.972618    19.355807     15.952218  115.244002   \n",
       "min      0.000000      0.000000     0.000000      0.000000    0.000000   \n",
       "25%      1.000000     99.000000    62.000000      0.000000    0.000000   \n",
       "50%      3.000000    117.000000    72.000000     23.000000   30.500000   \n",
       "75%      6.000000    140.250000    80.000000     32.000000  127.250000   \n",
       "max     17.000000    199.000000   122.000000     99.000000  846.000000   \n",
       "\n",
       "              bmi    pedigree         age      target  \n",
       "count  768.000000  768.000000  768.000000  768.000000  \n",
       "mean    31.992578    0.471876   33.240885    0.348958  \n",
       "std      7.884160    0.331329   11.760232    0.476951  \n",
       "min      0.000000    0.078000   21.000000    0.000000  \n",
       "25%     27.300000    0.243750   24.000000    0.000000  \n",
       "50%     32.000000    0.372500   29.000000    0.000000  \n",
       "75%     36.600000    0.626250   41.000000    1.000000  \n",
       "max     67.100000    2.420000   81.000000    1.000000  "
      ]
     },
     "execution_count": 4,
     "metadata": {},
     "output_type": "execute_result"
    }
   ],
   "source": [
    "df_diab.describe()"
   ]
  },
  {
   "cell_type": "code",
   "execution_count": 5,
   "id": "517f8ada",
   "metadata": {},
   "outputs": [
    {
     "data": {
      "image/png": "[encoded data removed]",
      "text/plain": [
       "<Figure size 720x432 with 9 Axes>"
      ]
     },
     "metadata": {
      "needs_background": "light"
     },
     "output_type": "display_data"
    }
   ],
   "source": [
    "# histograms of the variables\n",
    "fig = df_diab.hist(xlabelsize=8, ylabelsize=8,figsize=(10,6))\n",
    "[x.title.set_size(8) for x in fig.ravel()]\n",
    "\n",
    "# show the plot\n",
    "plt.tight_layout()\n",
    "plt.show()"
   ]
  },
  {
   "cell_type": "code",
   "execution_count": 6,
   "id": "aa61518b",
   "metadata": {},
   "outputs": [],
   "source": [
    "from sklearn.model_selection import cross_val_score, RepeatedStratifiedKFold\n",
    "from sklearn.neighbors import KNeighborsClassifier\n",
    "from sklearn.preprocessing import (MinMaxScaler, StandardScaler, MaxAbsScaler,\n",
    "                                   RobustScaler, Normalizer)\n",
    "from sklearn.pipeline import Pipeline, make_pipeline"
   ]
  },
  {
   "cell_type": "code",
   "execution_count": 7,
   "id": "31f563ec",
   "metadata": {},
   "outputs": [
    {
     "data": {
      "text/plain": [
       "Pipeline(steps=[('standardized', StandardScaler()),\n",
       "                ('model', KNeighborsClassifier())])"
      ]
     },
     "execution_count": 7,
     "metadata": {},
     "output_type": "execute_result"
    }
   ],
   "source": [
    "estimators = [('standardized', StandardScaler()),\n",
    "              ('model', KNeighborsClassifier())]\n",
    "\n",
    "pipe = Pipeline(estimators)\n",
    "pipe"
   ]
  },
  {
   "cell_type": "markdown",
   "id": "58c52780",
   "metadata": {},
   "source": [
    "<ins>Accessing the `named_steps` attribute<ins>"
   ]
  },
  {
   "cell_type": "code",
   "execution_count": 8,
   "id": "a066dc5a",
   "metadata": {},
   "outputs": [
    {
     "data": {
      "text/plain": [
       "{'standardized': StandardScaler(), 'model': KNeighborsClassifier()}"
      ]
     },
     "execution_count": 8,
     "metadata": {},
     "output_type": "execute_result"
    }
   ],
   "source": [
    "pipe.named_steps"
   ]
  },
  {
   "cell_type": "code",
   "execution_count": 9,
   "id": "8ddb0ec8",
   "metadata": {},
   "outputs": [
    {
     "data": {
      "text/plain": [
       "StandardScaler()"
      ]
     },
     "execution_count": 9,
     "metadata": {},
     "output_type": "execute_result"
    }
   ],
   "source": [
    "pipe.named_steps['standardized']"
   ]
  },
  {
   "cell_type": "code",
   "execution_count": 10,
   "id": "44cc60a2",
   "metadata": {},
   "outputs": [
    {
     "data": {
      "text/plain": [
       "KNeighborsClassifier()"
      ]
     },
     "execution_count": 10,
     "metadata": {},
     "output_type": "execute_result"
    }
   ],
   "source": [
    "pipe.named_steps.model"
   ]
  },
  {
   "cell_type": "code",
   "execution_count": 11,
   "id": "a23e8fd1",
   "metadata": {},
   "outputs": [
    {
     "data": {
      "text/plain": [
       "StandardScaler()"
      ]
     },
     "execution_count": 11,
     "metadata": {},
     "output_type": "execute_result"
    }
   ],
   "source": [
    "pipe['standardized']"
   ]
  },
  {
   "cell_type": "markdown",
   "id": "1a2ff67f",
   "metadata": {},
   "source": [
    "<ins>Accessing the `steps` attribute<ins>"
   ]
  },
  {
   "cell_type": "code",
   "execution_count": 12,
   "id": "6435a502",
   "metadata": {
    "scrolled": true
   },
   "outputs": [
    {
     "data": {
      "text/plain": [
       "[('standardized', StandardScaler()), ('model', KNeighborsClassifier())]"
      ]
     },
     "execution_count": 12,
     "metadata": {},
     "output_type": "execute_result"
    }
   ],
   "source": [
    "pipe.steps"
   ]
  },
  {
   "cell_type": "code",
   "execution_count": 13,
   "id": "fd9c6a84",
   "metadata": {},
   "outputs": [
    {
     "data": {
      "text/plain": [
       "('standardized', StandardScaler())"
      ]
     },
     "execution_count": 13,
     "metadata": {},
     "output_type": "execute_result"
    }
   ],
   "source": [
    "pipe.steps[0]"
   ]
  },
  {
   "cell_type": "code",
   "execution_count": 14,
   "id": "e0d166a7",
   "metadata": {},
   "outputs": [
    {
     "data": {
      "text/plain": [
       "KNeighborsClassifier()"
      ]
     },
     "execution_count": 14,
     "metadata": {},
     "output_type": "execute_result"
    }
   ],
   "source": [
    "pipe.steps[1][1]"
   ]
  },
  {
   "cell_type": "code",
   "execution_count": 15,
   "id": "047da7c1",
   "metadata": {},
   "outputs": [
    {
     "data": {
      "text/plain": [
       "StandardScaler()"
      ]
     },
     "execution_count": 15,
     "metadata": {},
     "output_type": "execute_result"
    }
   ],
   "source": [
    "pipe[0]"
   ]
  },
  {
   "cell_type": "code",
   "execution_count": 16,
   "id": "4f2f68c0",
   "metadata": {},
   "outputs": [
    {
     "data": {
      "text/plain": [
       "True"
      ]
     },
     "execution_count": 16,
     "metadata": {},
     "output_type": "execute_result"
    }
   ],
   "source": [
    "pipe.named_steps.model == pipe.steps[1][1]"
   ]
  },
  {
   "cell_type": "markdown",
   "id": "8bb1e04a",
   "metadata": {},
   "source": [
    "<ins>Spot check different scaling methods<ins>"
   ]
  },
  {
   "cell_type": "code",
   "execution_count": 17,
   "id": "62a5d021",
   "metadata": {},
   "outputs": [
    {
     "name": "stdout",
     "output_type": "stream",
     "text": [
      "Accuracy with   original   data: 0.717 +/-(0.040)\n",
      "Accuracy with   centered   data: 0.717 +/-(0.040)\n",
      "Accuracy with    MinMax    data: 0.739 +/-(0.053)\n",
      "Accuracy with    MaxAbs    data: 0.738 +/-(0.048)\n",
      "Accuracy with  normalized  data: 0.690 +/-(0.043)\n",
      "Accuracy with standardized data: 0.741 +/-(0.050)\n"
     ]
    }
   ],
   "source": [
    "# define and configure the model\n",
    "model = KNeighborsClassifier()\n",
    "\n",
    "pipe_dict = {'original': Pipeline(steps=[('m', model)]),\n",
    "             'centered': Pipeline(steps=[('cen', StandardScaler(with_std=False)),\n",
    "                                         ('m', model)]),\n",
    "             'MinMax': Pipeline(steps=[('minmax', MinMaxScaler()), ('m', model)]),\n",
    "             'MaxAbs': Pipeline(steps=[('maxabs', MaxAbsScaler()), ('m', model)]),\n",
    "             'normalized': Pipeline(steps=[('norm', Normalizer()), ('m', model)]),\n",
    "             'standardized': Pipeline(steps=[('std', StandardScaler()), ('m', model)])}\n",
    "\n",
    "for i, pipe in pipe_dict.items():\n",
    "    cv = RepeatedStratifiedKFold(n_splits=10, n_repeats=3, random_state=1)\n",
    "    scores = cross_val_score(pipe, X, y, scoring='accuracy', cv=cv, n_jobs=-1)\n",
    "    \n",
    "    print(f'Accuracy with {i:^12} data: {np.mean(scores):.3f} +/-({np.std(scores):.3f})')"
   ]
  },
  {
   "cell_type": "markdown",
   "id": "f6a03448",
   "metadata": {},
   "source": [
    "<a id=\"binary\"></a>\n",
    "<h5 style=\"text-decoration:underline\">Data Binarization</h5>\n",
    "\n",
    "$$f(x)={0,1}$$\n",
    "\n",
    "Feature binarization is the process of thresholding numerical features to get boolean values. All values above the threshold are marked 1 and all equal to or below are marked as 0. \n",
    "- This can be useful for downstream probabilistic estimators that make assumptions that the input data is distributed according to a multi-variate Bernoulli distribution.\n",
    "- It can be useful when you have probabilities that you want to make crisp values. \n",
    "- It is also useful when feature engineering and you want to add new features that indicate something meaningful.\n",
    "- It is also common among the text processing community to use binary feature values (probably to simplify the probabilistic reasoning) even if normalized counts (a.k.a. term frequencies) or TF-IDF valued features often perform slightly better in practice.\n",
    "\n",
    "```python\n",
    "# Using Sklearn\n",
    "---------------\n",
    "from sklearn.preprocessing import Binarizer\n",
    "\n",
    "X_bin = Binarizer(threshold=0.0).fit_transform(X)\n",
    "\n",
    "# Using Numpy\n",
    "-------------\n",
    "np.digitize(x, bins, right=False)\n",
    "```"
   ]
  },
  {
   "cell_type": "markdown",
   "id": "beb11008",
   "metadata": {},
   "source": [
    "<a id=\"out\"></a>\n",
    "<h1 align=\"center\">HOW TO SCALE DATA WITH OUTLIERS</h1>\n",
    "\n",
    "Standardizing is a popular scaling technique that subtracts the mean from values and divides by the standard deviation, transforming the probability distribution for an input variable to a standard Gaussian (zero mean and unit variance). **Standardization can become skewed or biased if the input variable contains outlier values.** To overcome this, the median and interquartile range can be used when standardizing numerical input variables, generally referred to as **robust scaling**.\n",
    "\n",
    "<a id=\"robust\"></a>\n",
    "<h2><ins>Robust Scaling Data</ins></h2>\n",
    "\n",
    "Sometimes an input variable may have outlier values. These are values on the edge of the distribution that may have a low probability of occurrence, yet are overrepresented for some reason. Outliers can skew a probability distribution and make data scaling using standardization difficult as the calculated mean and standard deviation will be skewed by the presence of the outliers. \n",
    "\n",
    "One approach to standardizing input variables in the presence of outliers is to ignore the outliers from the calculation of the mean and standard deviation, then use the calculated values to scale the variable. This is called **robust standardization** or **robust data scaling**. This can be achieved by calculating the median (50th percentile) and the 25th and 75th percentiles. The values of each variable then have their median subtracted and are divided by the interquartile range (IQR) which is the difference between the 75th and 25th percentiles.\n",
    "$$X_R=\\frac{X-median}{IQR}=\\frac{X-median}{p_{75}-p_{25}}$$\n",
    "**The resulting variable has a zero mean and median and a standard deviation of 1, although not skewed by outliers and the outliers are still present with the same relative relationships to other values.**\n",
    ">Unlike the previous scalers, the centering and scaling statistics of `RobustScaler` is based on percentiles and are therefore not influenced by a few number of very large marginal outliers. Consequently, the resulting range of the transformed feature values is larger than for the previous scalers."
   ]
  },
  {
   "cell_type": "markdown",
   "id": "abe41cad",
   "metadata": {},
   "source": [
    "<a id=\"scale\"></a>\n",
    "<h2><ins>Robust Scaler Transforms</ins></h2>\n",
    "\n",
    "**Transforms the feature vector by subtracting the median and then dividing by the interquartile range (75% value — 25% value).** The robust scaler transform is available in the scikit-learn Python machine learning library via the `RobustScaler` class. The `with_centering` argument controls whether the value is centered to zero (median is subtracted) and defaults to True. The `with_scaling` argument controls whether the value is scaled to the IQR (standard deviation set to one) or not and defaults to True. Interestingly, the definition of the scaling range can be specified via the `quantile_range` argument. It takes a tuple of two integers between 0 and 100 and defaults to the percentile values of the IQR, specifically (25, 75). Changing this will change the definition of outliers and the scope of the scaling. \n",
    ">**Note that RobustScaler does not scale the data into a predetermined interval like MinMaxScaler. The range for each feature after `RobustScaler` is applied is larger than it was for MinMaxScaler. Use `RobustScaler` if you want to reduce the effects of outliers, relative to MinMaxScaler.** \n",
    "\n",
    "The histogram plots shown previously confirm the differing scale for each input variable and show that the variables have differing scales. Importantly, we can see some of the distributions show the presence of outliers. The dataset provides a good candidate for using a robust scaler transform to standardize the data in the presence of differing input variable scales and outliers."
   ]
  },
  {
   "cell_type": "markdown",
   "id": "536e9214",
   "metadata": {},
   "source": [
    "<a id=\"iqr\"></a>\n",
    "<h2><ins>IQR Robust Scaler Transform</ins></h2>\n",
    "\n",
    "We can apply the robust scaler to the diabetes dataset directly. We will use the default configuration and scale values to the IQR. First, a RobustScaler instance is defined with default hyperparameters. Once defined, we can call the fit_transform() function and pass it to our dataset to create a robust scale transformed version of our dataset."
   ]
  },
  {
   "cell_type": "code",
   "execution_count": 18,
   "id": "6decdc5d",
   "metadata": {},
   "outputs": [
    {
     "data": {
      "image/png": "[encoded data removed]",
      "text/plain": [
       "<Figure size 720x432 with 9 Axes>"
      ]
     },
     "metadata": {
      "needs_background": "light"
     },
     "output_type": "display_data"
    }
   ],
   "source": [
    "# perform a robust scaler transform of the dataset\n",
    "trans = RobustScaler()\n",
    "data = trans.fit_transform(X)\n",
    "df_robust = pd.DataFrame(data, columns = X.columns)\n",
    "fig = df_robust.hist(xlabelsize=8, ylabelsize=8, figsize=(10,6))\n",
    "[x.title.set_size(8) for x in fig.ravel()]\n",
    "# show the plot\n",
    "plt.show()"
   ]
  },
  {
   "cell_type": "markdown",
   "id": "fc88b63e",
   "metadata": {},
   "source": [
    "Histogram plots of the transformed variables show that the distributions don’t look much\n",
    "different from their original distributions. We can see that the center of mass for each distribution is now close to zero."
   ]
  },
  {
   "cell_type": "code",
   "execution_count": 19,
   "id": "8fdd9edc",
   "metadata": {},
   "outputs": [],
   "source": [
    "data_dict = {'original':X,\n",
    "             'minmax':pd.DataFrame(MinMaxScaler().fit_transform(X),columns=X.columns),\n",
    "             'standard':pd.DataFrame(StandardScaler().fit_transform(X),columns=X.columns),\n",
    "             'robust':pd.DataFrame(RobustScaler().fit_transform(X),columns=X.columns)}"
   ]
  },
  {
   "cell_type": "code",
   "execution_count": 20,
   "id": "dfda80b7",
   "metadata": {
    "scrolled": false
   },
   "outputs": [
    {
     "data": {
      "image/png": "[encoded data removed]",
      "text/plain": [
       "<Figure size 720x504 with 4 Axes>"
      ]
     },
     "metadata": {
      "needs_background": "light"
     },
     "output_type": "display_data"
    }
   ],
   "source": [
    "fig, axes = plt.subplots(nrows=2, ncols=2, figsize=(10, 7))\n",
    "\n",
    "for ax, (name, df) in zip(axes.ravel(), data_dict.items()):\n",
    "    \n",
    "    for i in df.columns:\n",
    "        sns.kdeplot(df[i], ax=ax, label=i)\n",
    "    ax.set_title(f'{name} distribution')\n",
    "    ax.set_xlabel('')\n",
    "#     ax.legend()\n",
    "    if name=='original':\n",
    "        ax.legend(bbox_to_anchor=(0.4, 0.35, 0.5, 0.5))\n",
    "        \n",
    "# plt.legend(bbox_to_anchor=(0, 0.5, 0.5, 0.5))\n",
    "plt.tight_layout()"
   ]
  },
  {
   "cell_type": "code",
   "execution_count": 21,
   "id": "7a85f630",
   "metadata": {},
   "outputs": [
    {
     "name": "stdout",
     "output_type": "stream",
     "text": [
      "Accuracy with  original  data: 0.717 +/-(0.040)\n",
      "Accuracy with   robust   data: 0.734 +/-(0.044)\n"
     ]
    }
   ],
   "source": [
    "# define and configure the model\n",
    "model = KNeighborsClassifier()\n",
    "\n",
    "pipe_dict = {'original': Pipeline(steps=[('m', model)]),\n",
    "             'robust': Pipeline(steps=[('rob', RobustScaler()), ('m', model)])}\n",
    "\n",
    "for i, pipe in pipe_dict.items():\n",
    "    cv = RepeatedStratifiedKFold(n_splits=10, n_repeats=3, random_state=1)\n",
    "    scores = cross_val_score(pipe, X, y, scoring='accuracy', cv=cv, n_jobs=-1)\n",
    "    \n",
    "    print(f'Accuracy with {i:^10} data: {np.mean(scores):.3f} +/-({np.std(scores):.3f})')"
   ]
  },
  {
   "cell_type": "markdown",
   "id": "4dab0933",
   "metadata": {},
   "source": [
    "<a id=\"explore\"></a>\n",
    "<h2><ins>Explore Robust Scaler Range</ins></h2>\n",
    "\n",
    "The range used to scale each variable is chosen by default as the IQR is bounded by the 25th and 75th percentiles. This is specified by the quantile_range argument as a tuple. Other values can be specified and might improve the performance of the model, such as a wider range, allowing fewer values to be considered outliers, or a more narrow range, allowing more values to be considered outliers."
   ]
  },
  {
   "cell_type": "code",
   "execution_count": 22,
   "id": "88b5d477",
   "metadata": {},
   "outputs": [
    {
     "name": "stdout",
     "output_type": "stream",
     "text": [
      "Range=(1,99): 0.734 +/-(0.054)\n",
      "Range=(5,95): 0.736 +/-(0.051)\n",
      "Range=(10,90): 0.739 +/-(0.047)\n",
      "Range=(15,85): 0.740 +/-(0.045)\n",
      "Range=(20,80): 0.734 +/-(0.050)\n",
      "Range=(25,75): 0.734 +/-(0.044)\n",
      "Range=(30,70): 0.735 +/-(0.042)\n"
     ]
    },
    {
     "data": {
      "image/png": "[encoded data removed]",
      "text/plain": [
       "<Figure size 432x288 with 1 Axes>"
      ]
     },
     "metadata": {
      "needs_background": "light"
     },
     "output_type": "display_data"
    }
   ],
   "source": [
    "models = dict()\n",
    "for value in [1, 5, 10, 15, 20, 25, 30]:\n",
    "    # define the pipeline\n",
    "    robust = RobustScaler(quantile_range=(value, 100-value))\n",
    "    model = KNeighborsClassifier()\n",
    "    models[str(value)] = Pipeline(steps=[('r', robust), ('m', model)])\n",
    "    \n",
    "results, names = list(), list()\n",
    "for name, model in models.items():\n",
    "    cv = RepeatedStratifiedKFold(n_splits=10, n_repeats=3, random_state=1)\n",
    "    scores = cross_val_score(model, X, y, scoring='accuracy', cv=cv, n_jobs=-1)\n",
    "    results.append(scores)\n",
    "    names.append(name)\n",
    "    print(f'Range=({name},{100-int(name)}): {np.mean(scores):.3f} +/-({np.std(scores):.3f})')\n",
    "\n",
    "# plot model performance for comparison\n",
    "plt.boxplot(results, labels=names, showmeans=True)\n",
    "plt.show()"
   ]
  },
  {
   "cell_type": "markdown",
   "id": "518057ac",
   "metadata": {},
   "source": [
    "Interestingly, we can see that there are a couple of ranges that perform better than the default of 25-75. Box and whisker plots are created to summarize the classification accuracy scores for each IQR range. We can see a subtle difference in the distribution and mean accuracy"
   ]
  },
  {
   "cell_type": "markdown",
   "id": "ba4e5c61",
   "metadata": {},
   "source": [
    "<a id=\"categ\"></a>\n",
    "<h1 align=\"center\">HOW TO ENCODE CATEGORICAL DATA</h1>\n",
    "\n",
    "Categorical variables are variables that classify observations into groups. They have a limited number of different values, called levels. Regression analysis requires numerical variables. So, when a researcher wishes to include a categorical variable in a regression model, supplementary steps are required to make the results interpretable. In these steps, the categorical variables are recoded into a set of separate binary variables. This recoding is called “dummy coding”.\n",
    "\n",
    "Machine learning models require all input and output variables be numeric. This means that if the data contains categorical data, it must be encoded into numbers before fitting and evaluating a model. \n",
    "\n",
    "<a id=\"var\"></a>\n",
    "<h2><ins>Nominal and Ordinal Variables</ins></h2>\n",
    "\n",
    "**Numerical** data involves features that are only composed of numbers, such as integers or floating-point values. **Categorical** data are variables that contain label values rather than numeric values. The number of possible values is often limited to a fixed set. \n",
    "\n",
    "- **Nominal Variable** - Variable comprises a finite set of discrete values with no rank-order relationship between values.<br><br>\n",
    "- **Ordinal Variable** - Some categories may have a natural relationship to each other, such as a natural ordering (i.e. 1st,2nd,3rd). This type of categorical variable is called an ordinal variable because the values can be ordered or ranked. In this situation, the variable comprises a finite set of discrete values with a ranked ordering between values.<br><br>\n",
    "- A numerical variable can be converted to an ordinal variable by dividing the range of the numerical variable into bins and assigning values to each bin. This is called **discretization**.\n",
    "\n",
    "Some algorithms can work with categorical data directly. For example, a decision tree can be learned directly from categorical data with no data transform required (this depends on the specific implementation). Many machine learning algorithms,however, cannot operate on label data directly. They require all input variables and output variables to be numeric. In general, this is mostly a constraint of the efficient implementation of machine learning algorithms rather than hard limitations on the algorithms themselves.<br>\n",
    "$\\;\\;\\;\\;\\;\\;$Some implementations of machine learning algorithms require all data to be numerical. For example, scikit-learn has this requirement. This means that categorical data must be converted to a numerical form. If the categorical variable is an output variable, you may also want to convert predictions by the model back into a categorical form in order to present them or use them in some application.\n"
   ]
  },
  {
   "cell_type": "markdown",
   "id": "58bb8a6b",
   "metadata": {},
   "source": [
    "<a id=\"encode\"></a>\n",
    "<h2><ins>Encoding Categorical Data</ins></h2>\n",
    "\n",
    "There are three common approaches for converting ordinal and categorical variables to numerical values. \n",
    "- Ordinal Encoding\n",
    "- One Hot Encoding\n",
    "- Dummy Variable Encoding"
   ]
  },
  {
   "cell_type": "markdown",
   "id": "ef6dc59a",
   "metadata": {},
   "source": [
    "<a id=\"ord\"></a>\n",
    "<h5 style=\"text-decoration:underline\">Ordinal Encoding</h5>\n",
    "\n",
    "In ordinal encoding, each unique category value is assigned an integer value. For example, red is 1, green is 2, and blue is 3. This is called an ordinal encoding or an integer encoding and is easily reversible. Often, integer values starting at zero are used. For some variables, an ordinal encoding may be enough. The integer values have a natural ordered relationship between each other and machine learning algorithms may be able to understand and harness this relationship. \n",
    "\n",
    "An integer ordinal encoding is a natural encoding for ordinal variables. For categorical variables, it imposes an ordinal relationship where no such relationship may exist. This can cause problems and a one hot encoding may be used instead. This ordinal encoding transform is available in the scikit-learn Python machine learning library via the `OrdinalEncoder` class. \n",
    "- By default, it will assign integers to labels in the order that is observed in the data. For strings, this means the labels are sorted alphabetically. If a specific order is desired, it can be specified via the `categories` argument as a list with the rank order of all expected labels.\n",
    "\n",
    ">**If a categorical target variable needs to be encoded for a classification predictive modeling problem, then the `LabelEncoder` class can be used. It does the same thing as the `OrdinalEncoder`, although it expects a one-dimensional input for the single target variable.**"
   ]
  },
  {
   "cell_type": "markdown",
   "id": "68d8cc59",
   "metadata": {},
   "source": [
    "<a id=\"hot\"></a>\n",
    "<h5 style=\"text-decoration:underline\">One Hot Encoding</h5>\n",
    "\n",
    "For categorical variables where no ordinal relationship exists, the integer encoding may not be enough or even misleading to the model. Forcing an ordinal relationship via an ordinal encoding and allowing the model to assume a natural ordering between categories may result in poor performance or unexpected results (predictions halfway between categories). In this case, a one hot encoding can be applied to the ordinal representation. This is where the integer encoded variable is removed and one new binary variable is added for each unique integer value in the variable.\n",
    "\n",
    "One hot encoding transform is available in the scikit-learn Python machine learning library via the `OneHotEncoder` class. We can demonstrate the usage of the OneHotEncoder on the color categories. First the categories are sorted, in this case alphabetically because they are strings, then binary variables are created for each category in turn.\n",
    "\n",
    "If you know all of the labels to be expected in the data, they can be specified via the `categories` argument as a list. The encoder is fit on the training dataset, which likely contains at least one example of all expected labels for each categorical variable if you do not specify the list of labels. If new data contains categories not seen in the training dataset, the `handle_unknown` argument can be set to `ignore` to not raise an error, which will result in a zero value for each label."
   ]
  },
  {
   "cell_type": "markdown",
   "id": "5e3b62a4",
   "metadata": {},
   "source": [
    "<a id=\"dummy\"></a>\n",
    "<h5 style=\"text-decoration:underline\">Dummy Variable Encoding</h5>\n",
    "\n",
    "The one hot encoding creates one binary variable for each category. The problem is that this representation includes redundancy. For example, if we know that [1,0,0] represents blue and [0,1,0] represents green we don’t need another binary variable to represent red, instead we could use 0 values alone, e.g. [0,0]. This is called a **dummy variable encoding**, and always represents $C$ categories with $C−1$ binary variables.\n",
    "\n",
    "In addition to being slightly less redundant, a dummy variable representation is required for some models. For example, in the case of a linear regression model (and other regression models that have a bias (intercept) term), a one hot encoding will cause the matrix of input data to become singular, meaning it cannot be inverted and the linear regression coefficients cannot be calculated using linear algebra. For these types of models a dummy variable encoding must be used instead.\n",
    ">There are occasions when a complete set of dummy variables is useful. For\n",
    "example, the splits in a tree-based model are more interpretable when the dummy\n",
    "variables encode all the information for that predictor. It is recommended to use the full set of dummy variables when working with tree-based models.\n",
    "\n",
    "**We can use the `OneHotEncoder` class to implement a dummy encoding as well as a one hot encoding.** The `drop` argument can be set to indicate which category will become the one that is assigned all zero values, called the *baseline*. We can set this to 'first' so that the first category is used. When the labels are sorted alphabetically, the blue label will be the first and will become the baseline."
   ]
  },
  {
   "cell_type": "markdown",
   "id": "d2bf3116",
   "metadata": {},
   "source": [
    "<a id=\"bre\"></a>\n",
    "<h2><ins>Breast Cancer Dataset Example</ins></h2>\n",
    "\n",
    "This dataset classifies breast cancer patient data as either a recurrence or no recurrence of cancer. There are 286 examples and nine input variables. It is a binary classification problem. "
   ]
  },
  {
   "cell_type": "code",
   "execution_count": 23,
   "id": "b5082a3c",
   "metadata": {},
   "outputs": [],
   "source": [
    "from sklearn.preprocessing import LabelEncoder, OrdinalEncoder, OneHotEncoder"
   ]
  },
  {
   "cell_type": "code",
   "execution_count": 24,
   "id": "8ade8a59",
   "metadata": {},
   "outputs": [
    {
     "data": {
      "text/plain": [
       "0    0\n",
       "1    0\n",
       "2    0\n",
       "3    0\n",
       "4    8\n",
       "5    0\n",
       "6    0\n",
       "7    1\n",
       "8    0\n",
       "9    0\n",
       "dtype: int64"
      ]
     },
     "execution_count": 24,
     "metadata": {},
     "output_type": "execute_result"
    }
   ],
   "source": [
    "df_bc = pd.read_csv('./datasets/Data Transforms/breast_cancer.csv',header=None)\n",
    "\n",
    "# confirms that all features have dtype = 'object'\n",
    "# df_bc.info()\n",
    "\n",
    "# checks for missing values\n",
    "# df_bc.isna().sum()\n",
    "\n",
    "# replace missing values from NaN to 'nan'\n",
    "# df_bc[[4,7]] = df_bc[[4,7]].fillna(\"'missing'\")\n",
    "# df_bc.fillna(np.nan)\n",
    "df_bc.isna().sum()\n",
    "# df_bc.head()"
   ]
  },
  {
   "cell_type": "code",
   "execution_count": 25,
   "id": "8e7d407a",
   "metadata": {},
   "outputs": [
    {
     "name": "stdout",
     "output_type": "stream",
     "text": [
      "Input (286, 9)\n",
      "Output (286,)\n"
     ]
    }
   ],
   "source": [
    "# separate into input and output columns\n",
    "X = df_bc.drop(columns=[9]).astype(str)\n",
    "y = df_bc[9].astype(str)\n",
    "\n",
    "# summarize\n",
    "print('Input', X.shape)\n",
    "print('Output', y.shape)"
   ]
  },
  {
   "cell_type": "code",
   "execution_count": 26,
   "id": "07411253",
   "metadata": {},
   "outputs": [
    {
     "data": {
      "text/plain": [
       "array([\"'yes'\", \"'no'\", 'nan'], dtype=object)"
      ]
     },
     "execution_count": 26,
     "metadata": {},
     "output_type": "execute_result"
    }
   ],
   "source": [
    "X[4].unique()"
   ]
  },
  {
   "cell_type": "markdown",
   "id": "a9b2ebeb",
   "metadata": {},
   "source": [
    "<a id=\"tran\"></a>\n",
    "<h5 style=\"text-decoration:underline\">OrdinalEncoder Transform</h5>\n",
    "\n",
    "An ordinal encoding involves mapping each unique label to an integer value. This type of encoding is really only appropriate if there is a known relationship between the categories. This relationship does exist for some of the variables in our dataset, and ideally, this should be harnessed when preparing the data. In this case, we will ignore any possible existing ordinal relationship and assume all variables are categorical. It can still be helpful to use an ordinal encoding, at least as a point of reference with other encoding schemes. We can use the OrdinalEncoder from scikit-learn to encode each variable to integers. This is a flexible class and does allow the order of the categories to be specified as arguments if any such order is known. Once defined, we can call the `fit_transform()` function and pass it to our dataset to create a ordinal transformed version of our dataset."
   ]
  },
  {
   "cell_type": "code",
   "execution_count": 27,
   "id": "fd75e1e0",
   "metadata": {},
   "outputs": [
    {
     "data": {
      "text/plain": [
       "[array([\"'20-29'\", \"'30-39'\", \"'40-49'\", \"'50-59'\", \"'60-69'\", \"'70-79'\"],\n",
       "       dtype=object),\n",
       " array([\"'ge40'\", \"'lt40'\", \"'premeno'\"], dtype=object),\n",
       " array([\"'0-4'\", \"'10-14'\", \"'15-19'\", \"'20-24'\", \"'25-29'\", \"'30-34'\",\n",
       "        \"'35-39'\", \"'40-44'\", \"'45-49'\", \"'5-9'\", \"'50-54'\"], dtype=object),\n",
       " array([\"'0-2'\", \"'12-14'\", \"'15-17'\", \"'24-26'\", \"'3-5'\", \"'6-8'\",\n",
       "        \"'9-11'\"], dtype=object),\n",
       " array([\"'no'\", \"'yes'\", 'nan'], dtype=object),\n",
       " array([\"'1'\", \"'2'\", \"'3'\"], dtype=object),\n",
       " array([\"'left'\", \"'right'\"], dtype=object),\n",
       " array([\"'central'\", \"'left_low'\", \"'left_up'\", \"'right_low'\",\n",
       "        \"'right_up'\", 'nan'], dtype=object),\n",
       " array([\"'no'\", \"'yes'\"], dtype=object)]"
      ]
     },
     "execution_count": 27,
     "metadata": {},
     "output_type": "execute_result"
    }
   ],
   "source": [
    "# ordinal encode input variables\n",
    "ordinal_encoder = OrdinalEncoder()\n",
    "X_ord = ordinal_encoder.fit(X)\n",
    "X_oe = X_ord.transform(X)\n",
    "\n",
    "# shows the categories for each feature \n",
    "X_ord.categories_"
   ]
  },
  {
   "cell_type": "code",
   "execution_count": 28,
   "id": "99143123",
   "metadata": {},
   "outputs": [],
   "source": [
    "# useless function to help identify the values assigned to each category\n",
    "# from pprint import pprint\n",
    "\n",
    "# df_bc[[4,7]] = df_bc[[4,7]].fillna(\"'missing'\")\n",
    "\n",
    "# full_dict = dict()\n",
    "\n",
    "# for i, col_name in zip(X_ord.categories_, [f'col_{i}' for i in df_bc.columns]):\n",
    "#     categories = [val.strip(\"'\") for val in list(i)]\n",
    "#     length = len(categories)\n",
    "  \n",
    "#     enc_dict = dict()\n",
    "#     enc_dict[col_name] = dict(zip(categories, range(length)))\n",
    "    \n",
    "#     full_dict.update(enc_dict)\n",
    "#     print(enc_dict)\n",
    "\n",
    "\n",
    "# pprint(full_dict)"
   ]
  },
  {
   "cell_type": "code",
   "execution_count": 29,
   "id": "da28e62b",
   "metadata": {},
   "outputs": [],
   "source": [
    "from sklearn.model_selection import train_test_split\n",
    "from sklearn.linear_model import LogisticRegression\n",
    "from sklearn.metrics import accuracy_score,r2_score"
   ]
  },
  {
   "cell_type": "code",
   "execution_count": 30,
   "id": "505f7358",
   "metadata": {
    "scrolled": true
   },
   "outputs": [
    {
     "name": "stdout",
     "output_type": "stream",
     "text": [
      "Accuracy: 75.79\n"
     ]
    }
   ],
   "source": [
    "# split the dataset into train and test sets\n",
    "X_train, X_test, y_train, y_test = train_test_split(X, y, \n",
    "                                                    test_size=0.33,\n",
    "                                                    random_state=1)\n",
    "# ordinal encode input variables\n",
    "ordinal_encoder = OrdinalEncoder()\n",
    "ordinal_encoder.fit(X_train)\n",
    "X_train = ordinal_encoder.transform(X_train)\n",
    "X_test = ordinal_encoder.transform(X_test)\n",
    "\n",
    "# ordinal encode target variable\n",
    "label_encoder = LabelEncoder()\n",
    "label_encoder.fit(y_train)\n",
    "y_train = label_encoder.transform(y_train)\n",
    "y_test = label_encoder.transform(y_test)\n",
    "\n",
    "# define the model\n",
    "model = LogisticRegression()\n",
    "\n",
    "# fit on the training set\n",
    "model.fit(X_train, y_train)\n",
    "\n",
    "# predict on test set\n",
    "yhat = model.predict(X_test)\n",
    "\n",
    "# evaluate predictions\n",
    "accuracy = accuracy_score(y_test, yhat)\n",
    "print('Accuracy: %.2f' % (accuracy*100))"
   ]
  },
  {
   "cell_type": "markdown",
   "id": "c735a6fe",
   "metadata": {},
   "source": [
    "<a id=\"one\"></a>\n",
    "<h5 style=\"text-decoration:underline\">OneHotEncoder Transform</h5>\n",
    "\n",
    "A one hot encoding is appropriate for categorical data where no relationship exists between categories. The scikit-learn library provides the `OneHotEncoder` class to automatically one hot encode one or more variables. By default the OneHotEncoder will output data with a sparse representation, which is efficient given that most values are 0 in the encoded representation. Once defined, we can call the `fit_transform()` function and pass it to our dataset to create a quantile transformed version of our dataset."
   ]
  },
  {
   "cell_type": "code",
   "execution_count": 31,
   "id": "6cee90e4",
   "metadata": {},
   "outputs": [
    {
     "data": {
      "text/html": [
       "<div>\n",
       "<style scoped>\n",
       "    .dataframe tbody tr th:only-of-type {\n",
       "        vertical-align: middle;\n",
       "    }\n",
       "\n",
       "    .dataframe tbody tr th {\n",
       "        vertical-align: top;\n",
       "    }\n",
       "\n",
       "    .dataframe thead th {\n",
       "        text-align: right;\n",
       "    }\n",
       "</style>\n",
       "<table border=\"1\" class=\"dataframe\">\n",
       "  <thead>\n",
       "    <tr style=\"text-align: right;\">\n",
       "      <th></th>\n",
       "      <th>0</th>\n",
       "      <th>1</th>\n",
       "      <th>2</th>\n",
       "      <th>3</th>\n",
       "      <th>4</th>\n",
       "      <th>5</th>\n",
       "      <th>6</th>\n",
       "      <th>7</th>\n",
       "      <th>8</th>\n",
       "    </tr>\n",
       "  </thead>\n",
       "  <tbody>\n",
       "    <tr>\n",
       "      <th>0</th>\n",
       "      <td>'40-49'</td>\n",
       "      <td>'premeno'</td>\n",
       "      <td>'15-19'</td>\n",
       "      <td>'0-2'</td>\n",
       "      <td>'yes'</td>\n",
       "      <td>'3'</td>\n",
       "      <td>'right'</td>\n",
       "      <td>'left_up'</td>\n",
       "      <td>'no'</td>\n",
       "    </tr>\n",
       "    <tr>\n",
       "      <th>1</th>\n",
       "      <td>'50-59'</td>\n",
       "      <td>'ge40'</td>\n",
       "      <td>'15-19'</td>\n",
       "      <td>'0-2'</td>\n",
       "      <td>'no'</td>\n",
       "      <td>'1'</td>\n",
       "      <td>'right'</td>\n",
       "      <td>'central'</td>\n",
       "      <td>'no'</td>\n",
       "    </tr>\n",
       "    <tr>\n",
       "      <th>2</th>\n",
       "      <td>'50-59'</td>\n",
       "      <td>'ge40'</td>\n",
       "      <td>'35-39'</td>\n",
       "      <td>'0-2'</td>\n",
       "      <td>'no'</td>\n",
       "      <td>'2'</td>\n",
       "      <td>'left'</td>\n",
       "      <td>'left_low'</td>\n",
       "      <td>'no'</td>\n",
       "    </tr>\n",
       "    <tr>\n",
       "      <th>3</th>\n",
       "      <td>'40-49'</td>\n",
       "      <td>'premeno'</td>\n",
       "      <td>'35-39'</td>\n",
       "      <td>'0-2'</td>\n",
       "      <td>'yes'</td>\n",
       "      <td>'3'</td>\n",
       "      <td>'right'</td>\n",
       "      <td>'left_low'</td>\n",
       "      <td>'yes'</td>\n",
       "    </tr>\n",
       "    <tr>\n",
       "      <th>4</th>\n",
       "      <td>'40-49'</td>\n",
       "      <td>'premeno'</td>\n",
       "      <td>'30-34'</td>\n",
       "      <td>'3-5'</td>\n",
       "      <td>'yes'</td>\n",
       "      <td>'2'</td>\n",
       "      <td>'left'</td>\n",
       "      <td>'right_up'</td>\n",
       "      <td>'no'</td>\n",
       "    </tr>\n",
       "  </tbody>\n",
       "</table>\n",
       "</div>"
      ],
      "text/plain": [
       "         0          1        2      3      4    5        6           7      8\n",
       "0  '40-49'  'premeno'  '15-19'  '0-2'  'yes'  '3'  'right'   'left_up'   'no'\n",
       "1  '50-59'     'ge40'  '15-19'  '0-2'   'no'  '1'  'right'   'central'   'no'\n",
       "2  '50-59'     'ge40'  '35-39'  '0-2'   'no'  '2'   'left'  'left_low'   'no'\n",
       "3  '40-49'  'premeno'  '35-39'  '0-2'  'yes'  '3'  'right'  'left_low'  'yes'\n",
       "4  '40-49'  'premeno'  '30-34'  '3-5'  'yes'  '2'   'left'  'right_up'   'no'"
      ]
     },
     "execution_count": 31,
     "metadata": {},
     "output_type": "execute_result"
    }
   ],
   "source": [
    "X.head()"
   ]
  },
  {
   "cell_type": "code",
   "execution_count": 32,
   "id": "752c39bf",
   "metadata": {},
   "outputs": [
    {
     "name": "stdout",
     "output_type": "stream",
     "text": [
      "Original Input (286, 9)\n",
      "One_Hot_Encoded Input (286, 43)\n"
     ]
    }
   ],
   "source": [
    "# one hot encode input variables\n",
    "onehot_encoder = OneHotEncoder(sparse=False)\n",
    "X_one = onehot_encoder.fit_transform(X)\n",
    "\n",
    "print('Original Input', X.shape)\n",
    "print('One_Hot_Encoded Input', X_one.shape)"
   ]
  },
  {
   "cell_type": "markdown",
   "id": "fc28323c",
   "metadata": {},
   "source": [
    "Running the example transforms the dataset and reports the shape of the resulting dataset. We would expect the number of rows to remain the same, but the number of columns to dramatically increase. As expected, in this case, we can see that the number of variables has leaped up from 9 to 43 and all values are now binary values 0 or 1."
   ]
  },
  {
   "cell_type": "code",
   "execution_count": 33,
   "id": "0a76d01a",
   "metadata": {},
   "outputs": [
    {
     "name": "stdout",
     "output_type": "stream",
     "text": [
      "Accuracy: 70.53\n"
     ]
    }
   ],
   "source": [
    "# split the dataset into train and test sets\n",
    "X_train, X_test, y_train, y_test = train_test_split(X, y, \n",
    "                                                    test_size=0.33, \n",
    "                                                    random_state=1)\n",
    "# one-hot encode input variables\n",
    "onehot_encoder = OneHotEncoder(sparse=True)\n",
    "onehot_encoder.fit(X_train)\n",
    "X_train = onehot_encoder.transform(X_train)\n",
    "X_test = onehot_encoder.transform(X_test)\n",
    "\n",
    "# ordinal encode target variable\n",
    "label_encoder = LabelEncoder()\n",
    "label_encoder.fit(y_train)\n",
    "y_train = label_encoder.transform(y_train)\n",
    "y_test = label_encoder.transform(y_test)\n",
    "\n",
    "# define the model\n",
    "model = LogisticRegression()\n",
    "\n",
    "# fit on the training set\n",
    "model.fit(X_train, y_train)\n",
    "\n",
    "# predict on test set\n",
    "yhat = model.predict(X_test)\n",
    "\n",
    "# evaluate predictions\n",
    "accuracy = accuracy_score(y_test, yhat)\n",
    "print('Accuracy: %.2f' % (accuracy*100))"
   ]
  },
  {
   "cell_type": "markdown",
   "id": "e833cb04",
   "metadata": {},
   "source": [
    "<a id=\"dum\"></a>\n",
    "<h5 style=\"text-decoration:underline\">Dummay Variable Transform</h5>"
   ]
  },
  {
   "cell_type": "code",
   "execution_count": 34,
   "id": "314fad9e",
   "metadata": {},
   "outputs": [
    {
     "name": "stdout",
     "output_type": "stream",
     "text": [
      "Accuracy: 70.53\n",
      "R^2: -0.30\n"
     ]
    }
   ],
   "source": [
    "# split the dataset into train and test sets\n",
    "X_train, X_test, y_train, y_test = train_test_split(X, y, \n",
    "                                                    test_size=0.33, \n",
    "                                                    random_state=1)\n",
    "\n",
    "# Converting splits into dummies while keeping train & test consistent\n",
    "all_data = pd.concat((X_train,X_test))\n",
    "\n",
    "for column in all_data.select_dtypes(include=[np.object]).columns:\n",
    "    \n",
    "    cat_dtype_train = pd.api.types.CategoricalDtype(categories=all_data[column].unique())\n",
    "    cat_dtype_test = pd.api.types.CategoricalDtype(categories=all_data[column].unique())\n",
    "    \n",
    "    X_train[column] = X_train[column].astype(cat_dtype_train)\n",
    "    X_test[column] = X_test[column].astype(cat_dtype_test)\n",
    "    \n",
    "X_train = pd.get_dummies(X_train, drop_first=True)\n",
    "X_test = pd.get_dummies(X_test, drop_first=True)\n",
    "\n",
    "# ordinal encode target variable\n",
    "label_encoder = LabelEncoder()\n",
    "label_encoder.fit(y_train)\n",
    "y_train = label_encoder.transform(y_train)\n",
    "y_test = label_encoder.transform(y_test)\n",
    "\n",
    "# define the model\n",
    "model = LogisticRegression()\n",
    "\n",
    "# fit on the training set\n",
    "model.fit(X_train, y_train)\n",
    "\n",
    "# predict on test set\n",
    "yhat = model.predict(X_test)\n",
    "\n",
    "# evaluate predictions\n",
    "accuracy = accuracy_score(y_test, yhat)\n",
    "score = r2_score(y_test, yhat)\n",
    "print('Accuracy: %.2f' % (accuracy*100))\n",
    "print(f'R^2: {score:.2f}')"
   ]
  },
  {
   "cell_type": "markdown",
   "id": "67f1d2be",
   "metadata": {},
   "source": [
    "<a id=\"col\"></a>\n",
    "<h5 style=\"text-decoration:underline\">ColumnTansformer</h5>"
   ]
  },
  {
   "cell_type": "code",
   "execution_count": 35,
   "id": "8d13bbcf",
   "metadata": {},
   "outputs": [
    {
     "name": "stdout",
     "output_type": "stream",
     "text": [
      "Accuracy: 66.30\n"
     ]
    }
   ],
   "source": [
    "# separate into input and output columns\n",
    "X = df_bc.dropna().drop(columns=[9]).astype(str)\n",
    "y = df_bc.dropna()[9].astype(str)\n",
    "\n",
    "# X.shape, y.shape\n",
    "\n",
    "oe_df = X[[0,1,2,3,5]]\n",
    "ohe_df = X[[4,6,7,8]]\n",
    "\n",
    "\n",
    "oe_df = pd.DataFrame(OrdinalEncoder().fit_transform(oe_df),\n",
    "                     columns=range(5))\n",
    "\n",
    "ohe_df = pd.DataFrame(OneHotEncoder(sparse=False, drop='first').fit_transform(ohe_df),\n",
    "                     columns=range(5,12))\n",
    "\n",
    "full_X = pd.concat([oe_df,ohe_df],axis=1)\n",
    "\n",
    "# split the dataset into train and test sets\n",
    "X_train, X_test, y_train, y_test = train_test_split(full_X, y, \n",
    "                                                    test_size=0.33, \n",
    "                                                    random_state=1)\n",
    "# ordinal encode target variable\n",
    "label_encoder = LabelEncoder()\n",
    "label_encoder.fit(y_train)\n",
    "y_train = label_encoder.transform(y_train)\n",
    "y_test = label_encoder.transform(y_test)\n",
    "\n",
    "# define the model\n",
    "model = LogisticRegression()\n",
    "\n",
    "# fit on the training set\n",
    "model.fit(X_train, y_train)\n",
    "\n",
    "# predict on test set\n",
    "yhat = model.predict(X_test)\n",
    "\n",
    "# evaluate predictions\n",
    "accuracy = accuracy_score(y_test, yhat)\n",
    "print('Accuracy: %.2f' % (accuracy*100))"
   ]
  },
  {
   "cell_type": "code",
   "execution_count": 36,
   "id": "781bd40d",
   "metadata": {},
   "outputs": [
    {
     "name": "stdout",
     "output_type": "stream",
     "text": [
      "Accuracy: 66.30\n"
     ]
    }
   ],
   "source": [
    "from sklearn.compose import ColumnTransformer\n",
    "\n",
    "ct = ColumnTransformer(transformers=[('ordinal',OrdinalEncoder(), [0,1,2,3,5]),\n",
    "                                    ('onehot',OneHotEncoder(drop='first'),[4,6,7,8])],\n",
    "                       remainder='passthrough')\n",
    "X = ct.fit_transform(X)\n",
    "\n",
    "# split the dataset into train and test sets\n",
    "X_train, X_test, y_train, y_test = train_test_split(X, y, \n",
    "                                                    test_size=0.33, \n",
    "                                                    random_state=1)\n",
    "# ordinal encode target variable\n",
    "label_encoder = LabelEncoder()\n",
    "label_encoder.fit(y_train)\n",
    "y_train = label_encoder.transform(y_train)\n",
    "y_test = label_encoder.transform(y_test)\n",
    "\n",
    "# define the model\n",
    "model = LogisticRegression()\n",
    "\n",
    "# fit on the training set\n",
    "model.fit(X_train, y_train)\n",
    "\n",
    "# predict on test set\n",
    "yhat = model.predict(X_test)\n",
    "\n",
    "# evaluate predictions\n",
    "accuracy = accuracy_score(y_test, yhat)\n",
    "print('Accuracy: %.2f' % (accuracy*100))"
   ]
  },
  {
   "cell_type": "markdown",
   "id": "0c2252fe",
   "metadata": {},
   "source": [
    "<a id=\"quest\"></a>\n",
    "<h2><ins>Common Questions</ins></h2>\n",
    "\n",
    "**What if I have a mixture of numeric and categorical data?** - Or, what if I have a mixture of categorical and ordinal data? You will need to prepare or encode each variable (column) in your dataset separately, then concatenate all of the prepared variables back together into a single array for fitting or evaluating the model. Alternately, you can use the `ColumnTransformer` to conditionally apply different data transforms to different input variables."
   ]
  },
  {
   "cell_type": "markdown",
   "id": "041ebac4",
   "metadata": {},
   "source": [
    "<a id=\"gaus\"></a>\n",
    "<h1 align=\"center\">HOW TO MAKE DISTRIBUTIONS MORE GAUSSIAN</h1>\n",
    "\n",
    "Machine learning algorithms like Linear Regression and Gaussian Naive Bayes assume the numerical variables have a Gaussian probability distribution. Data may not have a Gaussian distribution and instead may have a Gaussian-like distribution (e.g. nearly Gaussian but with outliers or a skew) or a totally different distribution (e.g. exponential). As such, better performance may be achieved on a wide range of machine learning algorithms by transforming input and/or output variables to have a Gaussian or more Gaussian distribution.\n",
    "> Power transforms like the **Box-Cox transform** and the **Yeo-Johnson transform** provide an automatic way of performing these transforms on data and are provided in the scikit-learn Python machine learning library.\n",
    "\n",
    "The Gaussian is a common distribution with the familiar bell shape. It is so common that it is often referred to as the normal distribution. Some algorithms like linear regression and logistic regression explicitly assume the real-valued variables have a Gaussian distribution. Other nonlinear algorithms may not have this assumption, yet often perform better when variables have a Gaussian distribution. This applies both to real-valued input variables in the case of classification and regression tasks, and real-valued target variables in the case of regression tasks. \n",
    "\n",
    "Some input variables may have a highly skewed or non-standaard distribution, such as an exponential distribution where the most common observations are bunched together. Some input variables may have outliers that cause the distribution to be highly spread. These concerns and others, like non-standard distributions and multi-modal distributions, can make a dataset challenging to model with a range of machine learning models. As such, it is often desirable to transform each input variable to have a standard probability distribution, such as a *Gaussian (normal) distribution* or a *uniform distribution*.\n",
    "\n",
    "There are data preparation techniques that can be used to transform each variable to make the distribution Gaussian, or if not Gaussian, then more Gaussian like. These transforms are most effective when the data distribution is nearly-Gaussian to begin with and is afflicted with a skew or outliers. Another common reason for transformations is to remove distributional skewness."
   ]
  },
  {
   "cell_type": "markdown",
   "id": "69325e1b",
   "metadata": {},
   "source": [
    "<a id=\"power\"></a>\n",
    "<h2><ins>Power Transforms</ins></h2>\n",
    "\n",
    "**Power transforms refer to a class of techniques that use a power function (like a logarithm or exponent) to make the probability distribution of a variable Gaussian or more Gaussian like.** This is often described as removing (or minimizing) a skew in the distribution, although more generally is described as stabilizing the variance of the distribution.\n",
    "- We can apply a power transform directly by calculating the log, square root or inverse of the variable, although this may or may not be the best power transform for a given variable.\n",
    "\n",
    "Instead, we can use a generalized version of the transform that finds a parameter (lambda or $\\lambda$) that best transforms a variable to a Gaussian probability distribution. There are two popular approaches for such automatic power transforms: **Box-Cox Transform**, **Yeo-Johnson Transform**.\n",
    "\n",
    "These are some common values for lambda:\n",
    "- $\\lambda=-1.0$ is a reciprocal transform.\n",
    "- $\\lambda=-0.5$ is a reciprocal square root transform.\n",
    "- $\\lambda=0.0$ is a log transform.\n",
    "- $\\lambda=0.5$ is a square root transform.\n",
    "- $\\lambda=1.0$ is no transform.\n",
    "\n",
    "The optimal value for this hyperparameter used in the transform for each variable can be stored and reused to transform new data in an identical manner, such as a test dataset or new data in the future. These power transforms are available in the scikit learn Python machine learning library via the `PowerTransformer` class. The class takes an argument named `method` that can be set to *'yeo-johnson'* or *'box-cox'* for the preferred method. It will also standardize the data automatically after the transform, meaning each variable will have a zero mean and unit variance. This can be turned off by setting the `standardize` argument to *'False'*.\n"
   ]
  },
  {
   "cell_type": "markdown",
   "id": "31e4baff",
   "metadata": {},
   "source": [
    "<a id=\"sonar\"></a>\n",
    "<h5 style=\"text-decoration:underline\">Sonar Dataset</h5>\n",
    "\n",
    "The sonar dataset is a standard machine learning dataset for binary classification. It involves 60 real-valued inputs and a two-class target variable. There are 208 examples in the dataset and the classes are reasonably balanced. A baseline classification algorithm can achieve a classification accuracy of about 53.4 percent using repeated stratified 10-fold cross-validation. Top performance on this dataset is about 88 percent using repeated stratified 10-fold crossvalidation. The dataset describes sonar returns of rocks or simulated mines."
   ]
  },
  {
   "cell_type": "code",
   "execution_count": 37,
   "id": "57d9f4dc",
   "metadata": {},
   "outputs": [
    {
     "name": "stdout",
     "output_type": "stream",
     "text": [
      "(208, 61)\n"
     ]
    },
    {
     "data": {
      "text/html": [
       "<div>\n",
       "<style scoped>\n",
       "    .dataframe tbody tr th:only-of-type {\n",
       "        vertical-align: middle;\n",
       "    }\n",
       "\n",
       "    .dataframe tbody tr th {\n",
       "        vertical-align: top;\n",
       "    }\n",
       "\n",
       "    .dataframe thead th {\n",
       "        text-align: right;\n",
       "    }\n",
       "</style>\n",
       "<table border=\"1\" class=\"dataframe\">\n",
       "  <thead>\n",
       "    <tr style=\"text-align: right;\">\n",
       "      <th></th>\n",
       "      <th>0</th>\n",
       "      <th>1</th>\n",
       "      <th>2</th>\n",
       "      <th>3</th>\n",
       "      <th>4</th>\n",
       "      <th>5</th>\n",
       "      <th>6</th>\n",
       "      <th>7</th>\n",
       "      <th>8</th>\n",
       "      <th>9</th>\n",
       "      <th>...</th>\n",
       "      <th>50</th>\n",
       "      <th>51</th>\n",
       "      <th>52</th>\n",
       "      <th>53</th>\n",
       "      <th>54</th>\n",
       "      <th>55</th>\n",
       "      <th>56</th>\n",
       "      <th>57</th>\n",
       "      <th>58</th>\n",
       "      <th>59</th>\n",
       "    </tr>\n",
       "  </thead>\n",
       "  <tbody>\n",
       "    <tr>\n",
       "      <th>count</th>\n",
       "      <td>208.000000</td>\n",
       "      <td>208.000000</td>\n",
       "      <td>208.000000</td>\n",
       "      <td>208.000000</td>\n",
       "      <td>208.000000</td>\n",
       "      <td>208.000000</td>\n",
       "      <td>208.000000</td>\n",
       "      <td>208.000000</td>\n",
       "      <td>208.000000</td>\n",
       "      <td>208.000000</td>\n",
       "      <td>...</td>\n",
       "      <td>208.000000</td>\n",
       "      <td>208.000000</td>\n",
       "      <td>208.000000</td>\n",
       "      <td>208.000000</td>\n",
       "      <td>208.000000</td>\n",
       "      <td>208.000000</td>\n",
       "      <td>208.000000</td>\n",
       "      <td>208.000000</td>\n",
       "      <td>208.000000</td>\n",
       "      <td>208.000000</td>\n",
       "    </tr>\n",
       "    <tr>\n",
       "      <th>mean</th>\n",
       "      <td>0.029164</td>\n",
       "      <td>0.038437</td>\n",
       "      <td>0.043832</td>\n",
       "      <td>0.053892</td>\n",
       "      <td>0.075202</td>\n",
       "      <td>0.104570</td>\n",
       "      <td>0.121747</td>\n",
       "      <td>0.134799</td>\n",
       "      <td>0.178003</td>\n",
       "      <td>0.208259</td>\n",
       "      <td>...</td>\n",
       "      <td>0.016069</td>\n",
       "      <td>0.013420</td>\n",
       "      <td>0.010709</td>\n",
       "      <td>0.010941</td>\n",
       "      <td>0.009290</td>\n",
       "      <td>0.008222</td>\n",
       "      <td>0.007820</td>\n",
       "      <td>0.007949</td>\n",
       "      <td>0.007941</td>\n",
       "      <td>0.006507</td>\n",
       "    </tr>\n",
       "    <tr>\n",
       "      <th>std</th>\n",
       "      <td>0.022991</td>\n",
       "      <td>0.032960</td>\n",
       "      <td>0.038428</td>\n",
       "      <td>0.046528</td>\n",
       "      <td>0.055552</td>\n",
       "      <td>0.059105</td>\n",
       "      <td>0.061788</td>\n",
       "      <td>0.085152</td>\n",
       "      <td>0.118387</td>\n",
       "      <td>0.134416</td>\n",
       "      <td>...</td>\n",
       "      <td>0.012008</td>\n",
       "      <td>0.009634</td>\n",
       "      <td>0.007060</td>\n",
       "      <td>0.007301</td>\n",
       "      <td>0.007088</td>\n",
       "      <td>0.005736</td>\n",
       "      <td>0.005785</td>\n",
       "      <td>0.006470</td>\n",
       "      <td>0.006181</td>\n",
       "      <td>0.005031</td>\n",
       "    </tr>\n",
       "    <tr>\n",
       "      <th>min</th>\n",
       "      <td>0.001500</td>\n",
       "      <td>0.000600</td>\n",
       "      <td>0.001500</td>\n",
       "      <td>0.005800</td>\n",
       "      <td>0.006700</td>\n",
       "      <td>0.010200</td>\n",
       "      <td>0.003300</td>\n",
       "      <td>0.005500</td>\n",
       "      <td>0.007500</td>\n",
       "      <td>0.011300</td>\n",
       "      <td>...</td>\n",
       "      <td>0.000000</td>\n",
       "      <td>0.000800</td>\n",
       "      <td>0.000500</td>\n",
       "      <td>0.001000</td>\n",
       "      <td>0.000600</td>\n",
       "      <td>0.000400</td>\n",
       "      <td>0.000300</td>\n",
       "      <td>0.000300</td>\n",
       "      <td>0.000100</td>\n",
       "      <td>0.000600</td>\n",
       "    </tr>\n",
       "    <tr>\n",
       "      <th>25%</th>\n",
       "      <td>0.013350</td>\n",
       "      <td>0.016450</td>\n",
       "      <td>0.018950</td>\n",
       "      <td>0.024375</td>\n",
       "      <td>0.038050</td>\n",
       "      <td>0.067025</td>\n",
       "      <td>0.080900</td>\n",
       "      <td>0.080425</td>\n",
       "      <td>0.097025</td>\n",
       "      <td>0.111275</td>\n",
       "      <td>...</td>\n",
       "      <td>0.008425</td>\n",
       "      <td>0.007275</td>\n",
       "      <td>0.005075</td>\n",
       "      <td>0.005375</td>\n",
       "      <td>0.004150</td>\n",
       "      <td>0.004400</td>\n",
       "      <td>0.003700</td>\n",
       "      <td>0.003600</td>\n",
       "      <td>0.003675</td>\n",
       "      <td>0.003100</td>\n",
       "    </tr>\n",
       "    <tr>\n",
       "      <th>50%</th>\n",
       "      <td>0.022800</td>\n",
       "      <td>0.030800</td>\n",
       "      <td>0.034300</td>\n",
       "      <td>0.044050</td>\n",
       "      <td>0.062500</td>\n",
       "      <td>0.092150</td>\n",
       "      <td>0.106950</td>\n",
       "      <td>0.112100</td>\n",
       "      <td>0.152250</td>\n",
       "      <td>0.182400</td>\n",
       "      <td>...</td>\n",
       "      <td>0.013900</td>\n",
       "      <td>0.011400</td>\n",
       "      <td>0.009550</td>\n",
       "      <td>0.009300</td>\n",
       "      <td>0.007500</td>\n",
       "      <td>0.006850</td>\n",
       "      <td>0.005950</td>\n",
       "      <td>0.005800</td>\n",
       "      <td>0.006400</td>\n",
       "      <td>0.005300</td>\n",
       "    </tr>\n",
       "    <tr>\n",
       "      <th>75%</th>\n",
       "      <td>0.035550</td>\n",
       "      <td>0.047950</td>\n",
       "      <td>0.057950</td>\n",
       "      <td>0.064500</td>\n",
       "      <td>0.100275</td>\n",
       "      <td>0.134125</td>\n",
       "      <td>0.154000</td>\n",
       "      <td>0.169600</td>\n",
       "      <td>0.233425</td>\n",
       "      <td>0.268700</td>\n",
       "      <td>...</td>\n",
       "      <td>0.020825</td>\n",
       "      <td>0.016725</td>\n",
       "      <td>0.014900</td>\n",
       "      <td>0.014500</td>\n",
       "      <td>0.012100</td>\n",
       "      <td>0.010575</td>\n",
       "      <td>0.010425</td>\n",
       "      <td>0.010350</td>\n",
       "      <td>0.010325</td>\n",
       "      <td>0.008525</td>\n",
       "    </tr>\n",
       "    <tr>\n",
       "      <th>max</th>\n",
       "      <td>0.137100</td>\n",
       "      <td>0.233900</td>\n",
       "      <td>0.305900</td>\n",
       "      <td>0.426400</td>\n",
       "      <td>0.401000</td>\n",
       "      <td>0.382300</td>\n",
       "      <td>0.372900</td>\n",
       "      <td>0.459000</td>\n",
       "      <td>0.682800</td>\n",
       "      <td>0.710600</td>\n",
       "      <td>...</td>\n",
       "      <td>0.100400</td>\n",
       "      <td>0.070900</td>\n",
       "      <td>0.039000</td>\n",
       "      <td>0.035200</td>\n",
       "      <td>0.044700</td>\n",
       "      <td>0.039400</td>\n",
       "      <td>0.035500</td>\n",
       "      <td>0.044000</td>\n",
       "      <td>0.036400</td>\n",
       "      <td>0.043900</td>\n",
       "    </tr>\n",
       "  </tbody>\n",
       "</table>\n",
       "<p>8 rows × 60 columns</p>\n",
       "</div>"
      ],
      "text/plain": [
       "               0           1           2           3           4           5   \\\n",
       "count  208.000000  208.000000  208.000000  208.000000  208.000000  208.000000   \n",
       "mean     0.029164    0.038437    0.043832    0.053892    0.075202    0.104570   \n",
       "std      0.022991    0.032960    0.038428    0.046528    0.055552    0.059105   \n",
       "min      0.001500    0.000600    0.001500    0.005800    0.006700    0.010200   \n",
       "25%      0.013350    0.016450    0.018950    0.024375    0.038050    0.067025   \n",
       "50%      0.022800    0.030800    0.034300    0.044050    0.062500    0.092150   \n",
       "75%      0.035550    0.047950    0.057950    0.064500    0.100275    0.134125   \n",
       "max      0.137100    0.233900    0.305900    0.426400    0.401000    0.382300   \n",
       "\n",
       "               6           7           8           9   ...          50  \\\n",
       "count  208.000000  208.000000  208.000000  208.000000  ...  208.000000   \n",
       "mean     0.121747    0.134799    0.178003    0.208259  ...    0.016069   \n",
       "std      0.061788    0.085152    0.118387    0.134416  ...    0.012008   \n",
       "min      0.003300    0.005500    0.007500    0.011300  ...    0.000000   \n",
       "25%      0.080900    0.080425    0.097025    0.111275  ...    0.008425   \n",
       "50%      0.106950    0.112100    0.152250    0.182400  ...    0.013900   \n",
       "75%      0.154000    0.169600    0.233425    0.268700  ...    0.020825   \n",
       "max      0.372900    0.459000    0.682800    0.710600  ...    0.100400   \n",
       "\n",
       "               51          52          53          54          55          56  \\\n",
       "count  208.000000  208.000000  208.000000  208.000000  208.000000  208.000000   \n",
       "mean     0.013420    0.010709    0.010941    0.009290    0.008222    0.007820   \n",
       "std      0.009634    0.007060    0.007301    0.007088    0.005736    0.005785   \n",
       "min      0.000800    0.000500    0.001000    0.000600    0.000400    0.000300   \n",
       "25%      0.007275    0.005075    0.005375    0.004150    0.004400    0.003700   \n",
       "50%      0.011400    0.009550    0.009300    0.007500    0.006850    0.005950   \n",
       "75%      0.016725    0.014900    0.014500    0.012100    0.010575    0.010425   \n",
       "max      0.070900    0.039000    0.035200    0.044700    0.039400    0.035500   \n",
       "\n",
       "               57          58          59  \n",
       "count  208.000000  208.000000  208.000000  \n",
       "mean     0.007949    0.007941    0.006507  \n",
       "std      0.006470    0.006181    0.005031  \n",
       "min      0.000300    0.000100    0.000600  \n",
       "25%      0.003600    0.003675    0.003100  \n",
       "50%      0.005800    0.006400    0.005300  \n",
       "75%      0.010350    0.010325    0.008525  \n",
       "max      0.044000    0.036400    0.043900  \n",
       "\n",
       "[8 rows x 60 columns]"
      ]
     },
     "execution_count": 37,
     "metadata": {},
     "output_type": "execute_result"
    }
   ],
   "source": [
    "# load dataset\n",
    "df_son = pd.read_csv('./datasets/Data Transforms/sonar.csv', header=None)\n",
    "\n",
    "# summarize the shape of the dataset\n",
    "print(df_son.shape)\n",
    "\n",
    "# summarize each variable\n",
    "df_son.describe()"
   ]
  },
  {
   "cell_type": "code",
   "execution_count": 38,
   "id": "d87dd915",
   "metadata": {},
   "outputs": [
    {
     "data": {
      "text/plain": [
       "M    0.533654\n",
       "R    0.466346\n",
       "Name: 60, dtype: float64"
      ]
     },
     "execution_count": 38,
     "metadata": {},
     "output_type": "execute_result"
    }
   ],
   "source": [
    "# Baseline accuracy score\n",
    "df_son[60].value_counts(normalize=True)"
   ]
  },
  {
   "cell_type": "code",
   "execution_count": 39,
   "id": "04f1655c",
   "metadata": {
    "scrolled": false
   },
   "outputs": [
    {
     "data": {
      "image/png": "[encoded data removed]",
      "text/plain": [
       "<Figure size 432x288 with 60 Axes>"
      ]
     },
     "metadata": {
      "needs_background": "light"
     },
     "output_type": "display_data"
    }
   ],
   "source": [
    "# histograms of the variables\n",
    "fig = df_son.hist(xlabelsize=4, ylabelsize=4,layout=(6,10))\n",
    "[x.title.set_size(7) for x in fig.ravel()]\n",
    "\n",
    "plt.tight_layout()\n",
    "plt.show()"
   ]
  },
  {
   "cell_type": "markdown",
   "id": "368de7c0",
   "metadata": {},
   "source": [
    "The descriptive statistics of the input variables shows that values are numeric and range approximately from 0 to 1. From the histogram, we can see that many variables have a skewed distribution. The dataset provides a good candidate for using a power transform to make the variables more Gaussian.\n",
    "\n",
    "Next, we will fit and evaluate a machine learning model on the raw dataset using k-nearest neighbors algorithm with default hyperparameters and evaluate it using repeated stratified k-fold cross-validation."
   ]
  },
  {
   "cell_type": "code",
   "execution_count": 40,
   "id": "1771cc7d",
   "metadata": {},
   "outputs": [
    {
     "name": "stdout",
     "output_type": "stream",
     "text": [
      "Accuracy: 0.797 (0.073)\n"
     ]
    }
   ],
   "source": [
    "X = df_son.drop(columns=[60])\n",
    "y = df_son[60]\n",
    "\n",
    "# ensure inputs are floats and output is an integer label\n",
    "X = X.astype('float32')\n",
    "y_le = LabelEncoder().fit_transform(y.astype('str'))\n",
    "\n",
    "# define and configure the model\n",
    "model = KNeighborsClassifier()\n",
    "\n",
    "# evaluate the model\n",
    "cv = RepeatedStratifiedKFold(n_splits=10, n_repeats=3, random_state=1)\n",
    "n_scores = cross_val_score(model, X, y_le, scoring='accuracy', cv=cv, n_jobs=-1)\n",
    "\n",
    "# report model performance\n",
    "print('Accuracy: %.3f (%.3f)' % (np.mean(n_scores), np.std(n_scores)))"
   ]
  },
  {
   "cell_type": "markdown",
   "id": "4ed5a5d1",
   "metadata": {},
   "source": [
    "The model achieved a mean classification accuracy of about 79.7%, showing that it has skill (better than the baseline of 53.4%) and is in the ball-park of good performance (the best being 88%)."
   ]
  },
  {
   "cell_type": "markdown",
   "id": "719e376f",
   "metadata": {},
   "source": [
    "<a id=\"box\"></a>\n",
    "<h5 style=\"text-decoration:underline\">Box-Cox Transform</h5>\n",
    "\n",
    "The **Box-Cox transform** is named for the two authors of the method. It is **a power transform that assumes the values of the input variable to which it is applied are strictly positive. That means 0 and negative values are not supported.**"
   ]
  },
  {
   "cell_type": "code",
   "execution_count": 41,
   "id": "cd205c62",
   "metadata": {},
   "outputs": [],
   "source": [
    "from sklearn.preprocessing import PowerTransformer, MinMaxScaler, StandardScaler\n",
    "from sklearn.pipeline import Pipeline"
   ]
  },
  {
   "cell_type": "code",
   "execution_count": 42,
   "id": "56e1c7a9",
   "metadata": {
    "scrolled": true
   },
   "outputs": [
    {
     "name": "stdout",
     "output_type": "stream",
     "text": [
      "This does not work\n"
     ]
    }
   ],
   "source": [
    "# perform a box-cox transform of the dataset\n",
    "pt = PowerTransformer(method='box-cox')\n",
    "\n",
    "try:\n",
    "    # NOTE: we expect this to cause an error.\n",
    "    X_trans = pt.fit_transform(X)\n",
    "except ValueError:\n",
    "    print('This does not work')"
   ]
  },
  {
   "cell_type": "markdown",
   "id": "9d0902bd",
   "metadata": {},
   "source": [
    "As expected, we cannot use the transform on the raw data because it is not strictly positive. **One way to solve this problem is to use a `MixMaxScaler` transform first to scale the data to positive values, then apply the transform.** We can use a Pipeline object to apply both transforms in sequence."
   ]
  },
  {
   "cell_type": "code",
   "execution_count": 43,
   "id": "704fe940",
   "metadata": {},
   "outputs": [
    {
     "data": {
      "image/png": "[encoded data removed]",
      "text/plain": [
       "<Figure size 432x288 with 60 Axes>"
      ]
     },
     "metadata": {
      "needs_background": "light"
     },
     "output_type": "display_data"
    }
   ],
   "source": [
    "# perform a box-cox transform of the dataset\n",
    "scaler = MinMaxScaler(feature_range=(1, 2))\n",
    "power = PowerTransformer(method='box-cox')\n",
    "pipeline = Pipeline(steps=[('s', scaler),('p', power)])\n",
    "data_trans = pipeline.fit_transform(X)\n",
    "\n",
    "# convert the array back to a dataframe\n",
    "df = pd.DataFrame(data_trans)\n",
    "\n",
    "# histograms of the variables\n",
    "fig = df.hist(xlabelsize=4, ylabelsize=4,layout=(6,10))\n",
    "[x.title.set_size(6) for x in fig.ravel()]\n",
    "\n",
    "plt.tight_layout()\n",
    "plt.show()"
   ]
  },
  {
   "cell_type": "markdown",
   "id": "8e8ce5f7",
   "metadata": {},
   "source": [
    "We can see that the shape of the histograms for each variable looks more Gaussian than the raw data.\n",
    "\n",
    "Next, let’s evaluate the same KNN model, but in this case on a Box-Cox transform of the scaled dataset."
   ]
  },
  {
   "cell_type": "code",
   "execution_count": 44,
   "id": "d0e34421",
   "metadata": {},
   "outputs": [
    {
     "name": "stdout",
     "output_type": "stream",
     "text": [
      "Accuracy: 0.811 (0.085)\n"
     ]
    }
   ],
   "source": [
    "# define the pipeline\n",
    "scaler = MinMaxScaler(feature_range=(1, 2))\n",
    "power = PowerTransformer(method='box-cox')\n",
    "model = KNeighborsClassifier()\n",
    "pipeline = Pipeline(steps=[('s', scaler),('p', power), ('m', model)])\n",
    "\n",
    "# evaluate the pipeline\n",
    "cv = RepeatedStratifiedKFold(n_splits=10, n_repeats=3, random_state=1)\n",
    "n_scores = cross_val_score(pipeline, X, y_le, scoring='accuracy',\n",
    "                           cv=cv, n_jobs=-1)\n",
    "\n",
    "# report pipeline performance\n",
    "print('Accuracy: %.3f (%.3f)' % (np.mean(n_scores), np.std(n_scores)))"
   ]
  },
  {
   "cell_type": "markdown",
   "id": "8c96aaf4",
   "metadata": {},
   "source": [
    "The Box-Cox transform results in a lift in performance from 79.7% accuracy without the transform to about 81.1% with the transform."
   ]
  },
  {
   "cell_type": "markdown",
   "id": "774ea89a",
   "metadata": {},
   "source": [
    "<a id=\"yeo\"></a>\n",
    "<h5 style=\"text-decoration:underline\">Yeo-Johnson Transform</h5>\n",
    "\n",
    "The Yeo-Johnson transform is also named for the authors. **Unlike the Box-Cox transform, it does not require the values for each input variable to be strictly positive. It supports zero values and negative values.** This means we can apply it to the sonar dataset without scaling it first. "
   ]
  },
  {
   "cell_type": "code",
   "execution_count": 45,
   "id": "7f3f3576",
   "metadata": {},
   "outputs": [
    {
     "name": "stdout",
     "output_type": "stream",
     "text": [
      "Accuracy: 0.808 (0.082)\n"
     ]
    }
   ],
   "source": [
    "# define the pipeline\n",
    "power = PowerTransformer(method='yeo-johnson')\n",
    "model = KNeighborsClassifier()\n",
    "pipeline = Pipeline(steps=[('p', power), ('m', model)])\n",
    "\n",
    "# evaluate the pipeline\n",
    "cv = RepeatedStratifiedKFold(n_splits=10, n_repeats=3, random_state=1)\n",
    "n_scores = cross_val_score(pipeline, X, y_le, scoring='accuracy',\n",
    "                           cv=cv, n_jobs=-1)\n",
    "\n",
    "# report pipeline performance\n",
    "print('Accuracy: %.3f (%.3f)' % (np.mean(n_scores), np.std(n_scores)))"
   ]
  },
  {
   "cell_type": "markdown",
   "id": "2003dc4b",
   "metadata": {},
   "source": [
    "The Yeo-Johnson transform results in a lift in performance from 79.7% accuracy without the transform to about 80.8% with the transform, but is slightly less than the Box-Cox transform that achieved 81.1%.\n",
    "\n",
    "**Sometimes a lift in performance can be achieved by first standardizing the raw dataset prior to performing a Yeo-Johnson transform.** We can explore this by adding a `StandardScaler` as a first step in the pipeline."
   ]
  },
  {
   "cell_type": "code",
   "execution_count": 46,
   "id": "286ca455",
   "metadata": {},
   "outputs": [
    {
     "name": "stdout",
     "output_type": "stream",
     "text": [
      "Accuracy: 0.816 (0.077)\n"
     ]
    }
   ],
   "source": [
    "# define the pipeline\n",
    "scaler = StandardScaler()\n",
    "power = PowerTransformer(method='yeo-johnson')\n",
    "model = KNeighborsClassifier()\n",
    "pipeline = Pipeline(steps=[('s',scaler),('p', power), ('m', model)])\n",
    "\n",
    "# evaluate the pipeline\n",
    "cv = RepeatedStratifiedKFold(n_splits=10, n_repeats=3, random_state=1)\n",
    "n_scores = cross_val_score(pipeline, X, y_le, scoring='accuracy',\n",
    "                           cv=cv, n_jobs=-1)\n",
    "\n",
    "# report pipeline performance\n",
    "print('Accuracy: %.3f (%.3f)' % (np.mean(n_scores), np.std(n_scores)))"
   ]
  },
  {
   "cell_type": "markdown",
   "id": "184ccd06",
   "metadata": {},
   "source": [
    "Standardizing the data prior to the Yeo Johnson transform resulted in a small lift in performance from 80.8% to 81.6%, as well as having a small lift over the results for the Box-Cox transform."
   ]
  },
  {
   "cell_type": "markdown",
   "id": "ec385930",
   "metadata": {},
   "source": [
    "<a id=\"change\"></a>\n",
    "<h1 align=\"center\">HOW TO CHANGE NUMERICAL DISTRIBUTIONS</h1>\n",
    "\n",
    "Numerical input variables may have a highly skewed or non-standard distribution. This could be caused by outliers in the data, multi-modal distributions, highly exponential distributions, and more. Many machine learning algorithms prefer or perform better when numerical input variables and even output variables in the case of regression have a standard probability distribution, such as a Gaussian (normal) or a uniform distribution. The **quantile transform** provides an automatic way to transform a numeric input variable to have a different data distribution, which in turn, can be used as input to a predictive model.\n",
    "\n",
    "`RobustScaler` and `QuantileTransformer` are robust to outliers in the sense that adding or removing outliers in the training set will yield approximately the same transformation. But contrary to `RobustScaler`, `QuantileTransformer` will also automatically collapse any outlier by setting them to the a priori defined range boundaries (0 and 1). This can result in saturation artifacts for extreme values.\n",
    "\n",
    "<a id=\"quant\"></a>\n",
    "<h2><ins>Quantile Transforms</ins></h2>\n",
    "\n",
    "A quantile transform will map a variable’s probability distribution to another probability distribution. Recall that a quantile function, also called a percent-point function (PPF), is the inverse of the cumulative probability distribution (CDF). A CDF is a function that returns the probability of a value at or below a given value. The PPF is the inverse of this function and returns the value at or below a given probability.\n",
    "\n",
    "The quantile function ranks or smooths out the relationship between observations and can be mapped onto other distributions, such as the uniform or normal distribution. The transformation can be applied to each numeric input variable in the training dataset and then provided as input to a machine learning model to learn a predictive modeling task. This quantile transform is available in the scikit-learn Python machine learning library via the `QuantileTransformer` class. The class has an `output_distribution` argument that can be set to *'uniform'* or *'normal'*. It also provides a `n_quantiles` that determines the resolution of the mapping or ranking of the observations in the dataset. This must be set to a value less than the number of observations in the dataset and defaults to 1,000."
   ]
  },
  {
   "cell_type": "markdown",
   "id": "72f00255",
   "metadata": {},
   "source": [
    "<a id=\"nqt\"></a>\n",
    "<h5 style=\"text-decoration:underline\">Normal Quantile Transform</h5>\n",
    "\n",
    "We can apply the Quantile transform using the `QuantileTransformer` class and set the output_distribution argument to 'normal'. We must also set the n_quantiles argument to a value less than the number of observations in the training dataset."
   ]
  },
  {
   "cell_type": "code",
   "execution_count": 47,
   "id": "919e3f91",
   "metadata": {},
   "outputs": [],
   "source": [
    "from sklearn.preprocessing import QuantileTransformer"
   ]
  },
  {
   "cell_type": "code",
   "execution_count": 48,
   "id": "69dc5a60",
   "metadata": {},
   "outputs": [
    {
     "name": "stdout",
     "output_type": "stream",
     "text": [
      "Accuracy: 0.817 (0.087)\n"
     ]
    }
   ],
   "source": [
    "# define the pipeline\n",
    "transformer = QuantileTransformer(n_quantiles=100, output_distribution='normal')\n",
    "model = KNeighborsClassifier()\n",
    "pipeline = Pipeline(steps=[('t', transformer), ('m', model)])\n",
    "\n",
    "# evaluate the pipeline\n",
    "cv = RepeatedStratifiedKFold(n_splits=10, n_repeats=3, random_state=1)\n",
    "n_scores = cross_val_score(pipeline, X, y_le, scoring='accuracy', cv=cv, n_jobs=-1)\n",
    "\n",
    "# report pipeline performance\n",
    "print('Accuracy: %.3f (%.3f)' % (np.mean(n_scores), np.std(n_scores)))"
   ]
  },
  {
   "cell_type": "markdown",
   "id": "e894d5a0",
   "metadata": {},
   "source": [
    "<a id=\"uqt\"></a>\n",
    "<h5 style=\"text-decoration:underline\">Uniform Quantile Transform</h5>\n",
    "\n",
    "Sometimes it can be beneficial to transform a highly exponential or multi-modal distribution to have a uniform distribution. This is especially useful for data with a large and sparse range of values, e.g. outliers that are common rather than rare. We can apply the transform by defining a `QuantileTransformer` class and setting the `output_distribution` argument to 'uniform' (the default)."
   ]
  },
  {
   "cell_type": "code",
   "execution_count": 49,
   "id": "7318c2e6",
   "metadata": {},
   "outputs": [
    {
     "name": "stdout",
     "output_type": "stream",
     "text": [
      "Accuracy: 0.845 (0.074)\n"
     ]
    }
   ],
   "source": [
    "# define the pipeline\n",
    "transformer = QuantileTransformer(n_quantiles=100, output_distribution='uniform')\n",
    "model = KNeighborsClassifier()\n",
    "pipeline = Pipeline(steps=[('t', transformer), ('m', model)])\n",
    "\n",
    "# evaluate the pipeline\n",
    "cv = RepeatedStratifiedKFold(n_splits=10, n_repeats=3, random_state=1)\n",
    "n_scores = cross_val_score(pipeline, X, y_le, scoring='accuracy', cv=cv, n_jobs=-1)\n",
    "\n",
    "# report pipeline performance\n",
    "print('Accuracy: %.3f (%.3f)' % (np.mean(n_scores), np.std(n_scores)))"
   ]
  },
  {
   "cell_type": "markdown",
   "id": "ec6bfa4a",
   "metadata": {},
   "source": [
    "<a id=\"select\"></a>\n",
    "<h5 style=\"text-decoration:underline\">Select Number of Quantiles</h5>\n",
    "\n",
    "We chose the number of quantiles = 100 as an arbitrary number. This hyperparameter can be tuned to explore the effect of the resolution of the transform on the resulting performance of the model. The example below performs this experiment and plots the mean accuracy for different `n_quantiles` values from 1 to 99."
   ]
  },
  {
   "cell_type": "code",
   "execution_count": 50,
   "id": "c485e731",
   "metadata": {
    "scrolled": true
   },
   "outputs": [
    {
     "name": "stdout",
     "output_type": "stream",
     "text": [
      ">1 0.534 (0.016)\n",
      ">2 0.813 (0.085)\n",
      ">3 0.840 (0.080)\n",
      ">4 0.854 (0.075)\n",
      ">5 0.848 (0.072)\n",
      ">6 0.851 (0.071)\n",
      ">7 0.845 (0.071)\n",
      ">8 0.848 (0.066)\n",
      ">9 0.848 (0.071)\n",
      ">10 0.843 (0.074)\n",
      ">11 0.838 (0.069)\n",
      ">12 0.838 (0.069)\n",
      ">13 0.846 (0.071)\n",
      ">14 0.842 (0.071)\n",
      ">15 0.845 (0.068)\n",
      ">16 0.841 (0.074)\n",
      ">17 0.846 (0.071)\n",
      ">18 0.842 (0.075)\n",
      ">19 0.840 (0.075)\n",
      ">20 0.838 (0.076)\n",
      ">21 0.843 (0.071)\n",
      ">22 0.845 (0.073)\n",
      ">23 0.843 (0.068)\n",
      ">24 0.845 (0.072)\n",
      ">25 0.840 (0.077)\n",
      ">26 0.843 (0.072)\n",
      ">27 0.842 (0.073)\n",
      ">28 0.840 (0.076)\n",
      ">29 0.845 (0.072)\n",
      ">30 0.840 (0.075)\n",
      ">31 0.838 (0.076)\n",
      ">32 0.842 (0.075)\n",
      ">33 0.843 (0.074)\n",
      ">34 0.843 (0.075)\n",
      ">35 0.842 (0.075)\n",
      ">36 0.843 (0.073)\n",
      ">37 0.842 (0.075)\n",
      ">38 0.843 (0.075)\n",
      ">39 0.840 (0.076)\n",
      ">40 0.845 (0.074)\n",
      ">41 0.841 (0.072)\n",
      ">42 0.842 (0.075)\n",
      ">43 0.842 (0.074)\n",
      ">44 0.843 (0.074)\n",
      ">45 0.840 (0.076)\n",
      ">46 0.842 (0.075)\n",
      ">47 0.845 (0.072)\n",
      ">48 0.842 (0.073)\n",
      ">49 0.840 (0.073)\n",
      ">50 0.842 (0.072)\n",
      ">51 0.842 (0.075)\n",
      ">52 0.845 (0.071)\n",
      ">53 0.843 (0.075)\n",
      ">54 0.845 (0.074)\n",
      ">55 0.838 (0.076)\n",
      ">56 0.846 (0.073)\n",
      ">57 0.845 (0.073)\n",
      ">58 0.845 (0.075)\n",
      ">59 0.848 (0.073)\n",
      ">60 0.845 (0.074)\n",
      ">61 0.843 (0.073)\n",
      ">62 0.843 (0.074)\n",
      ">63 0.842 (0.075)\n",
      ">64 0.843 (0.073)\n",
      ">65 0.842 (0.074)\n",
      ">66 0.845 (0.074)\n",
      ">67 0.846 (0.075)\n",
      ">68 0.846 (0.072)\n",
      ">69 0.845 (0.076)\n",
      ">70 0.846 (0.075)\n",
      ">71 0.840 (0.075)\n",
      ">72 0.842 (0.074)\n",
      ">73 0.843 (0.073)\n",
      ">74 0.843 (0.075)\n",
      ">75 0.841 (0.075)\n",
      ">76 0.845 (0.074)\n",
      ">77 0.846 (0.074)\n",
      ">78 0.845 (0.076)\n",
      ">79 0.846 (0.072)\n",
      ">80 0.845 (0.075)\n",
      ">81 0.843 (0.073)\n",
      ">82 0.840 (0.076)\n",
      ">83 0.845 (0.075)\n",
      ">84 0.845 (0.074)\n",
      ">85 0.845 (0.074)\n",
      ">86 0.845 (0.076)\n",
      ">87 0.845 (0.075)\n",
      ">88 0.843 (0.075)\n",
      ">89 0.845 (0.074)\n",
      ">90 0.843 (0.075)\n",
      ">91 0.843 (0.074)\n",
      ">92 0.846 (0.074)\n",
      ">93 0.846 (0.075)\n",
      ">94 0.845 (0.076)\n",
      ">95 0.843 (0.074)\n",
      ">96 0.845 (0.074)\n",
      ">97 0.846 (0.073)\n",
      ">98 0.843 (0.073)\n",
      ">99 0.846 (0.075)\n"
     ]
    },
    {
     "data": {
      "image/png": "[encoded data removed]",
      "text/plain": [
       "<Figure size 432x288 with 1 Axes>"
      ]
     },
     "metadata": {
      "needs_background": "light"
     },
     "output_type": "display_data"
    }
   ],
   "source": [
    "models = dict()\n",
    "for i in range(1,100):\n",
    "    # define the pipeline\n",
    "    trans = QuantileTransformer(n_quantiles=i, output_distribution='uniform')\n",
    "    model = KNeighborsClassifier()\n",
    "    models[str(i)] = Pipeline(steps=[('t', trans), ('m', model)])\n",
    "    \n",
    "results = list()\n",
    "for name, model in models.items():\n",
    "    cv = RepeatedStratifiedKFold(n_splits=10, n_repeats=3, random_state=1)\n",
    "    scores = cross_val_score(model, X, y_le, scoring='accuracy', cv=cv, n_jobs=-1)\n",
    "    results.append(np.mean(scores))\n",
    "    print('>%s %.3f (%.3f)' % (name, np.mean(scores), np.std(scores)))\n",
    "\n",
    "# plot model performance for comparison\n",
    "plt.plot(results)\n",
    "plt.show()"
   ]
  },
  {
   "cell_type": "markdown",
   "id": "c0f84271",
   "metadata": {},
   "source": [
    "A line plot is created showing the number of quantiles used in the transform versus the classification accuracy of the resulting model.There is a bump with values less than 10 and drop and flat performance after that. The results highlight that there is likely some benefit in exploring different distributions and number of quantiles to see if better performance can be achieved."
   ]
  },
  {
   "cell_type": "markdown",
   "id": "d446b281",
   "metadata": {},
   "source": [
    "<a id=\"cat\"></a>\n",
    "<h1 align=\"center\">HOW TO TRANSFORM NUMERICAL TO CATEGORICAL DATA</h1>\n",
    "\n",
    "The **discretization transform** (which maps numerical values to discrete categories) provides an automatic way to change a numeric input variable to have a different data distribution, which in turn can be used as input to a predictive model.\n",
    "- Many machine learning algorithms prefer or perform better when numerical features with non-standard probability distributions are made discrete.\n",
    "- Some machine learning algorithms may prefer or require categorical or ordinal input variables, such as some decision tree and rule-based algorithms. \n",
    "- Some classification and clustering algorithms deal with nominal attributes only and cannot handle ones measured on a numeric scale.\n",
    "\n",
    "Further, the performance of many machine learning algorithms degrades for variables that have non-standard probability distributions. This applies both to real-valued input variables in the case of classification and regression tasks, and real-valued target variables in the case of regression tasks.\n",
    "\n",
    "One approach is to use a transform of the numerical variable to have a discrete probability distribution where each numerical value is assigned a label and the labels have an ordered (ordinal) relationship. This is called a binning or a discretization transform and can improve the performance of some machine learning models for datasets by making the probability distribution of numerical input variables discrete."
   ]
  },
  {
   "cell_type": "markdown",
   "id": "c1c23c9e",
   "metadata": {},
   "source": [
    "<a id=\"disc\"></a>\n",
    "<h2><ins>Discretization Transforms</ins></h2>\n",
    "\n",
    "A **discretization transform** will map numerical variables onto discrete values (i.e., categories). \n",
    "\n",
    "Values for the variable are grouped together into discrete bins and each bin is assigned a unique integer such that the ordinal relationship between the bins is preserved. The use of bins is often referred to as binning or k-bins, where k refers to the number of groups to which a numeric variable is mapped. The mapping provides a high-order ranking of values that can smooth out the relationships between observations. The transformation can be applied to each numeric input variable in the training dataset and then provided as input to a machine learning model to learn a predictive modeling task.\n",
    "\n",
    "Different methods for grouping the values into $k$ discrete bins can be used. Some common techniques include:\n",
    "- **Uniform:** Each bin has the same width in the span of possible values for the variable.\n",
    "- **Quantile:** Each bin has the same number of values, split based on percentiles.\n",
    "- **Clustered:** Clusters are identified and examples are assigned to each group.\n",
    "\n",
    "The discretization transform is available in the scikit-learn Python machine learning library via the **`KBinsDiscretizer`** class. The `strategy` argument controls the manner in which the input variable is divided, as either *'uniform'*, *'quantile'*, or *'kmeans'*. The `n_bins` argument controls the number of bins that will be created and must be set based on the choice of strategy, e.g. 'uniform' is flexible, 'quantile' must have a n_bins less than the number of observations or sensible percentiles, and 'kmeans' must use a value for the number of clusters that can be reasonably found. The `encode` argument controls whether the transform will map each value to an integer value by setting 'ordinal' or a one hot encoding 'onehot'. \n",
    "- An ordinal encoding is almost always preferred, although a one hot encoding may allow a model to learn non-ordinal relationships between the groups, such as in the case of k-means clustering strategy."
   ]
  },
  {
   "cell_type": "markdown",
   "id": "f18c668f",
   "metadata": {},
   "source": [
    "<a id=\"uni\"></a>\n",
    "<h5 style=\"text-decoration:underline\">Uniform Discretization Transform</h5>\n",
    "\n",
    "A uniform discretization transform will preserve the probability distribution of each input variable but will make it discrete with the specified number of ordinal groups or labels."
   ]
  },
  {
   "cell_type": "code",
   "execution_count": 51,
   "id": "14546ad2",
   "metadata": {},
   "outputs": [],
   "source": [
    "from sklearn.preprocessing import KBinsDiscretizer"
   ]
  },
  {
   "cell_type": "code",
   "execution_count": 52,
   "id": "7ea95dd0",
   "metadata": {},
   "outputs": [
    {
     "name": "stdout",
     "output_type": "stream",
     "text": [
      "Accuracy: 0.829 (0.079)\n"
     ]
    }
   ],
   "source": [
    "# define the pipeline\n",
    "transform = KBinsDiscretizer(n_bins=10, encode='ordinal', strategy='uniform')\n",
    "model = KNeighborsClassifier()\n",
    "pipeline = Pipeline(steps=[('t', transform), ('m', model)])\n",
    "\n",
    "# evaluate the pipeline\n",
    "cv = RepeatedStratifiedKFold(n_splits=10, n_repeats=3, random_state=1)\n",
    "n_scores = cross_val_score(pipeline, X, y_le, scoring='accuracy', cv=cv, n_jobs=-1)\n",
    "\n",
    "# report pipeline performance\n",
    "print('Accuracy: %.3f (%.3f)' % (np.mean(n_scores), np.std(n_scores)))"
   ]
  },
  {
   "cell_type": "markdown",
   "id": "be8fd707",
   "metadata": {},
   "source": [
    "The uniform discretization transform results in a lift in performance from 79.7% accuracy without the transform to about 82.7% with the transform."
   ]
  },
  {
   "cell_type": "markdown",
   "id": "e2c6c087",
   "metadata": {},
   "source": [
    "<a id=\"kmean\"></a>\n",
    "<h5 style=\"text-decoration:underline\">k-Means Discretization Transform</h5>\n",
    "\n",
    "A k-means discretization transform will attempt to fit k clusters for each input variable and then assign each observation to a cluster. Unless the empirical distribution of the variable is complex, the number of clusters is likely to be small, such as 3-to-5."
   ]
  },
  {
   "cell_type": "code",
   "execution_count": 53,
   "id": "c36f3516",
   "metadata": {},
   "outputs": [
    {
     "name": "stdout",
     "output_type": "stream",
     "text": [
      "Accuracy: 0.814 (0.084)\n"
     ]
    }
   ],
   "source": [
    "# define the pipeline\n",
    "transform = KBinsDiscretizer(n_bins=3, encode='ordinal', strategy='kmeans')\n",
    "model = KNeighborsClassifier()\n",
    "pipeline = Pipeline(steps=[('t', transform), ('m', model)])\n",
    "\n",
    "# evaluate the pipeline\n",
    "cv = RepeatedStratifiedKFold(n_splits=10, n_repeats=3, random_state=1)\n",
    "n_scores = cross_val_score(pipeline, X, y_le, scoring='accuracy', cv=cv, n_jobs=-1)\n",
    "\n",
    "# report pipeline performance\n",
    "print('Accuracy: %.3f (%.3f)' % (np.mean(n_scores), np.std(n_scores)))"
   ]
  },
  {
   "cell_type": "markdown",
   "id": "73bbcb66",
   "metadata": {},
   "source": [
    "The k-means discretization transform results in a lift in performance from 79.7% accuracy without the transform to about 81.4% with the transform, although slightly less than the uniform distribution."
   ]
  },
  {
   "cell_type": "markdown",
   "id": "f6f9e01e",
   "metadata": {},
   "source": [
    "<a id=\"qdt\"></a>\n",
    "<h5 style=\"text-decoration:underline\">Quantile Discretization Transform</h5>\n",
    "\n",
    "A quantile discretization transform will attempt to split the observations for each input variable into k groups, where the number of observations assigned to each group is approximately equal. Unless there are a large number of observations or a complex empirical distribution, the number of bins must be kept small, such as 5-10."
   ]
  },
  {
   "cell_type": "code",
   "execution_count": 54,
   "id": "486a87ab",
   "metadata": {},
   "outputs": [
    {
     "name": "stdout",
     "output_type": "stream",
     "text": [
      "Accuracy: 0.840 (0.072)\n"
     ]
    }
   ],
   "source": [
    "# define the pipeline\n",
    "transform = KBinsDiscretizer(n_bins=10, encode='ordinal', strategy='quantile')\n",
    "model = KNeighborsClassifier()\n",
    "pipeline = Pipeline(steps=[('t', transform), ('m', model)])\n",
    "\n",
    "# evaluate the pipeline\n",
    "cv = RepeatedStratifiedKFold(n_splits=10, n_repeats=3, random_state=1)\n",
    "n_scores = cross_val_score(pipeline, X, y_le, scoring='accuracy', cv=cv, n_jobs=-1)\n",
    "\n",
    "# report pipeline performance\n",
    "print('Accuracy: %.3f (%.3f)' % (np.mean(n_scores), np.std(n_scores)))"
   ]
  },
  {
   "cell_type": "markdown",
   "id": "f3207928",
   "metadata": {},
   "source": [
    "The uniform transform results in a lift in performance from 79.7% accuracy without the transform to about 84.0% with the transform, better than the uniform and k-means strategy.\n",
    "\n",
    "We chose the number of bins as an arbitrary number; in this case, 10. This hyperparameter can be tuned to explore the effect of the resolution of the transform on the resulting performance of the model. We can experiment and plots the mean accuracy for different n_bins values from two to 10."
   ]
  },
  {
   "cell_type": "code",
   "execution_count": 55,
   "id": "0b536566",
   "metadata": {},
   "outputs": [
    {
     "name": "stdout",
     "output_type": "stream",
     "text": [
      ">2 0.822 (0.066)\n",
      ">3 0.869 (0.073)\n",
      ">4 0.838 (0.078)\n",
      ">5 0.838 (0.070)\n",
      ">6 0.836 (0.071)\n",
      ">7 0.852 (0.072)\n",
      ">8 0.837 (0.077)\n",
      ">9 0.841 (0.069)\n",
      ">10 0.840 (0.072)\n"
     ]
    },
    {
     "data": {
      "image/png": "[encoded data removed]",
      "text/plain": [
       "<Figure size 432x288 with 1 Axes>"
      ]
     },
     "metadata": {
      "needs_background": "light"
     },
     "output_type": "display_data"
    }
   ],
   "source": [
    "models = dict()\n",
    "for i in range(2,11):\n",
    "    # define the pipeline\n",
    "    transform = KBinsDiscretizer(n_bins=i, encode='ordinal', strategy='quantile')\n",
    "    model = KNeighborsClassifier()\n",
    "    models[str(i)] = Pipeline(steps=[('t', transform), ('m', model)])\n",
    "    \n",
    "# evaluate the models and store results\n",
    "results, names = list(), list()\n",
    "for name, model in models.items():\n",
    "    cv = RepeatedStratifiedKFold(n_splits=10, n_repeats=3, random_state=1)\n",
    "    scores = cross_val_score(model, X, y_le, scoring='accuracy', cv=cv, n_jobs=-1)\n",
    "    results.append(scores)\n",
    "    names.append(name)\n",
    "    print('>%s %.3f (%.3f)' % (name, np.mean(scores), np.std(scores)))\n",
    "\n",
    "# plot model performance for comparison\n",
    "plt.boxplot(results, labels=names, showmeans=True)\n",
    "plt.show()"
   ]
  },
  {
   "cell_type": "markdown",
   "id": "7ef81958",
   "metadata": {},
   "source": [
    "A $k$ value of 3 achieves an accuracy of 86.9%. We can see a small bump in accuracy at three bins and the scores drop and remain flat for larger values. The results highlight that there is likely some benefit in exploring different numbers of discrete bins for the chosen method to see if better performance can be achieved."
   ]
  },
  {
   "cell_type": "markdown",
   "id": "24f9f52c",
   "metadata": {},
   "source": [
    "<a id=\"cluster\"></a>\n",
    "<h2 style=\"text-decoration:underline\">Grouping Observations Using Clustering</h2>\n",
    "\n",
    "If you know that you have k groups, you can use k-means clustering to group\n",
    "similar observations and output a new feature containing each observation’s\n",
    "group membership\n",
    "\n",
    "```python\n",
    "from sklearn.cluster import KMeans\n",
    "\n",
    "# Make k-means clusterer \n",
    "clusterer = KMeans(n_clusters=8, init='k-means++', max_iter=300, \n",
    "                   n_init=10, tol=0.0001, random_state=None,\n",
    "                   verbose=0, copy_x=True, algorithm='auto')\n",
    "\n",
    "# Predict values and assign to new column\n",
    "df[\"new_col_name\"] = clusterer.predict(X)\n",
    "```"
   ]
  },
  {
   "cell_type": "markdown",
   "id": "cde9b7ee",
   "metadata": {},
   "source": [
    "<a id=\"derive\"></a>\n",
    "<h1 align=\"center\">HOW TO DERIVE NEW INPUT VARIABLES</h1>\n",
    "\n",
    "Often, the input features for a predictive modeling task interact in unexpected and often nonlinear ways. These interactions can be identified and modeled by a learning algorithm. \n",
    "\n",
    "Another approach is to engineer new features that expose these interactions and see if they improve model performance. These features are called interaction and polynomial features. \n",
    "- **Polynomial features** are often created when we want to include the notion that there exists a nonlinear relationship between the features and the target. For example, the effect of age on the probability of having a major medical condition is not constant over time but increases as age increases. We can encode that nonconstant effect in a feature by generating that feature’s higher-order forms. \n",
    "- Often we run into situations where the effect of one feature is dependent on another feature. We can encode that relationship by including an **interaction feature** that is the product of the individual features.\n",
    "\n",
    "\n",
    "Transforms like raising input variables to a power can help to better expose the important relationships between input variables and the target variable, although often at the cost of adding thousands or even millions of additional input variables.\n"
   ]
  },
  {
   "cell_type": "markdown",
   "id": "916f8f8f",
   "metadata": {},
   "source": [
    "<a id=\"inter\"></a>\n",
    "<h2><ins>Interaction Terms</ins></h2>\n",
    "\n",
    "In some situations, there might be an **interaction effect** between some predictors, that is for example, increasing the value of a predictor variable x1 may increase the effectiveness of the predictor x2 in explaining the variation in the outcome variable.\n",
    "\n",
    "Sometimes interactions could be useful to add to the model, especially when you suspect that two features have a relationship that can provide useful information to your model. To see if an interaction term is significant, we can perform a t-test or F-test and look to see if the p-value of the term is significant. One important note is that **if the interaction term is significant, both lower order X terms must be kept in the model**, even if they are insignificant. This is to preserve the X1 and X2 as two independent variables rather than one new variable."
   ]
  },
  {
   "cell_type": "markdown",
   "id": "805133a9",
   "metadata": {},
   "source": [
    "<a id=\"poly\"></a>\n",
    "<h2><ins>Polynomial Features</ins></h2>\n",
    "\n",
    "**Polynomial features** are those features created by raising existing features to an exponent. For example, if a dataset had one input feature X, then a polynomial feature would be the addition of a new feature (column) where values were calculated by squaring the values in X, e.g. $X^2$. This process can be repeated for each input variable in the dataset, creating a transformed version of each. *As such, polynomial features are a type of feature engineering*, e.g. the creation of new input features based on the existing features. \n",
    ">*The degree of the polynomial is used to control the number of features added, e.g. a degree of 3 will add two new variables for each input variable. Typically a small degree is used such as 2 or 3.*\n",
    "\n",
    "It is also common to add new variables that represent the **interaction** between **features**, e.g a new column that represents one variable multiplied by another. This too can be repeated for each input variable creating a new interaction variable for each pair of input variables. A squared or cubed version of an input variable will change the probability distribution, separating the small and large values, a separation that is increased with the size of the exponent. This separation can help some machine learning algorithms make better predictions and is common for regression predictive modeling tasks and generally tasks that have numerical input variables. \n",
    ">*Typically linear algorithms, such as linear regression and logistic regression, respond well to the use of polynomial input variables.*\n",
    ">>*Linear regression is linear in the model parameters and adding polynomial terms to the model can be an effective way of allowing the model to identify nonlinear patterns.*\n"
   ]
  },
  {
   "cell_type": "markdown",
   "id": "492a7cc7",
   "metadata": {},
   "source": [
    "<a id=\"pft\"></a>\n",
    "<h5 style=\"text-decoration:underline\">Polynomial Feature Transform</h5>\n",
    "\n",
    "The polynomial features transform is available in the scikit-learn Python machine learning\n",
    "library via the PolynomialFeatures class. The features created include:\n",
    "- The bias (the value of 1.0)\n",
    "- Values raised to a power for each degree (e.g. $x^1$,$x^2$,$x^3$,...)\n",
    "- Interactions between all pairs of features (e.g. $x^1$x $x^2$, $x^1$x $x^3$,$x^2$x $x^3$,...)\n",
    "\n",
    "The `degree` argument controls the number of features created and defaults to 2. The `interaction_only` argument means that only the raw values (degree 1) and the interaction (pairs of values multiplied with each other) are included, defaulting to False. The `include_bias` argument defaults to True to include the bias feature."
   ]
  },
  {
   "cell_type": "code",
   "execution_count": 56,
   "id": "a4a9f8ba",
   "metadata": {},
   "outputs": [],
   "source": [
    "from sklearn.preprocessing import PolynomialFeatures"
   ]
  },
  {
   "cell_type": "code",
   "execution_count": 57,
   "id": "04a0537b",
   "metadata": {},
   "outputs": [
    {
     "name": "stdout",
     "output_type": "stream",
     "text": [
      "Accuracy: 0.800 (0.077)\n"
     ]
    }
   ],
   "source": [
    "# define the pipeline\n",
    "poly = PolynomialFeatures(degree=3, interaction_only=False,\n",
    "                          include_bias=False)\n",
    "model = KNeighborsClassifier()\n",
    "pipeline = Pipeline(steps=[('t', poly), ('m', model)])\n",
    "\n",
    "# evaluate the pipeline\n",
    "cv = RepeatedStratifiedKFold(n_splits=10, n_repeats=3, random_state=1)\n",
    "n_scores = cross_val_score(pipeline, X, y_le, scoring='accuracy', cv=cv, n_jobs=-1)\n",
    "\n",
    "# report pipeline performance\n",
    "print('Accuracy: %.3f (%.3f)' % (np.mean(n_scores), np.std(n_scores)))"
   ]
  },
  {
   "cell_type": "markdown",
   "id": "51e98953",
   "metadata": {},
   "source": [
    "<a id=\"degree\"></a>\n",
    "<h5 style=\"text-decoration:underline\"> Effect of Polynomial Degree</h5>\n",
    "\n",
    "Using a degree of 3 in the previous example sees the number of features increased from 61 (60 input features) for the raw dataset to 39,711 features (39,710 input features).\n",
    "\n",
    "The degree of the polynomial dramatically increases the number of input features. To get an idea of how much this impacts the number of features, we can perform the transform with a range of different degrees and compare the number of features in the dataset."
   ]
  },
  {
   "cell_type": "code",
   "execution_count": 58,
   "id": "231af9ab",
   "metadata": {},
   "outputs": [
    {
     "name": "stdout",
     "output_type": "stream",
     "text": [
      "Degree: 1, Features: 61\n",
      "Degree: 2, Features: 1891\n",
      "Degree: 3, Features: 39711\n",
      "Degree: 4, Features: 635376\n",
      "Degree: 5, Features: 8259888\n"
     ]
    },
    {
     "data": {
      "image/png": "[encoded data removed]",
      "text/plain": [
       "<Figure size 432x288 with 1 Axes>"
      ]
     },
     "metadata": {
      "needs_background": "light"
     },
     "output_type": "display_data"
    }
   ],
   "source": [
    "num_features = list()\n",
    "degrees = [i for i in range(1, 6)]\n",
    "for d in degrees:\n",
    "    # create polynomial transform\n",
    "    poly = PolynomialFeatures(degree=d)\n",
    "    \n",
    "    # fit and transform\n",
    "    data = poly.fit_transform(X)\n",
    "    \n",
    "    # record number of features\n",
    "    num_features.append(data.shape[1])\n",
    "\n",
    "    # summarize\n",
    "    print('Degree: %d, Features: %d' % (d, data.shape[1]))\n",
    "\n",
    "# plot degree vs number of features\n",
    "plt.plot(degrees, num_features)\n",
    "plt.show()"
   ]
  },
  {
   "cell_type": "markdown",
   "id": "f86feac5",
   "metadata": {},
   "source": [
    "More features may result in more overfitting, and in turn, worse results. It may be a good idea to treat the degree for the polynomial features transform as a hyperparameter and test different values for your dataset."
   ]
  },
  {
   "cell_type": "code",
   "execution_count": 59,
   "id": "af40be60",
   "metadata": {},
   "outputs": [
    {
     "name": "stdout",
     "output_type": "stream",
     "text": [
      ">1 0.797 (0.073)\n",
      ">2 0.793 (0.085)\n",
      ">3 0.800 (0.077)\n",
      ">4 0.795 (0.079)\n"
     ]
    },
    {
     "data": {
      "image/png": "[encoded data removed]",
      "text/plain": [
       "<Figure size 432x288 with 1 Axes>"
      ]
     },
     "metadata": {
      "needs_background": "light"
     },
     "output_type": "display_data"
    }
   ],
   "source": [
    "models = dict()\n",
    "for d in range(1,5):\n",
    "    # define the pipeline\n",
    "    poly = PolynomialFeatures(degree=d)\n",
    "    model = KNeighborsClassifier()\n",
    "    models[str(d)] = Pipeline(steps=[('t', poly), ('m', model)])\n",
    "    \n",
    "# evaluate the models and store results\n",
    "results, names = list(), list()\n",
    "for name, model in models.items():\n",
    "    cv = RepeatedStratifiedKFold(n_splits=10, n_repeats=3, random_state=1)\n",
    "    scores = cross_val_score(model, X, y_le, scoring='accuracy', cv=cv, n_jobs=-1)\n",
    "    results.append(scores)\n",
    "    names.append(name)\n",
    "    print('>%s %.3f (%.3f)' % (name, np.mean(scores), np.std(scores)))\n",
    "\n",
    "# plot model performance for comparison\n",
    "plt.boxplot(results, labels=names, showmeans=True)\n",
    "plt.show()"
   ]
  },
  {
   "cell_type": "markdown",
   "id": "45ad3e70",
   "metadata": {},
   "source": [
    "In this case, we can see that performance is generally worse than no transform (degree 1) except for a degree 3.  From the Box and whisker plots we see that performance remains flat, perhaps with the first signs of overfitting with a degree of 4.\n",
    "\n",
    "It might be interesting to explore scaling the data before or after performing the transform to see how it impacts model performance."
   ]
  },
  {
   "cell_type": "code",
   "execution_count": 60,
   "id": "cb850ea4",
   "metadata": {},
   "outputs": [
    {
     "name": "stdout",
     "output_type": "stream",
     "text": [
      ">1 0.810 (0.080)\n",
      ">2 0.811 (0.073)\n",
      ">3 0.806 (0.074)\n"
     ]
    },
    {
     "data": {
      "image/png": "[encoded data removed]",
      "text/plain": [
       "<Figure size 432x288 with 1 Axes>"
      ]
     },
     "metadata": {
      "needs_background": "light"
     },
     "output_type": "display_data"
    }
   ],
   "source": [
    "models = dict()\n",
    "for d in range(1,4):\n",
    "    # define the pipeline\n",
    "    scaler = StandardScaler()\n",
    "    poly = PolynomialFeatures(degree=d)\n",
    "    model = KNeighborsClassifier()\n",
    "    models[str(d)] = Pipeline(steps=[('t', poly),('sc', scaler) , ('m', model)])\n",
    "    \n",
    "# evaluate the models and store results\n",
    "results, names = list(), list()\n",
    "for name, model in models.items():\n",
    "    cv = RepeatedStratifiedKFold(n_splits=10, n_repeats=3, random_state=1)\n",
    "    scores = cross_val_score(model, X, y_le, scoring='accuracy', cv=cv, n_jobs=-1)\n",
    "    results.append(scores)\n",
    "    names.append(name)\n",
    "    print('>%s %.3f (%.3f)' % (name, np.mean(scores), np.std(scores)))\n",
    "\n",
    "# plot model performance for comparison\n",
    "plt.boxplot(results, labels=names, showmeans=True)\n",
    "plt.show()"
   ]
  },
  {
   "cell_type": "markdown",
   "id": "825f5d8f",
   "metadata": {},
   "source": [
    "<a id=\"func\"></a>\n",
    "<h2><ins>Transforming Features with FunctionTransformer</ins></h2>\n",
    "\n",
    "We can make a custom transformation to one or more features with Scikit-Learns' `FunctionTransformer` method. This is similar to numpy's `vectorize` method and pandas `apply` method.\n",
    "\n",
    "It is common to want to make some custom transformations to one or more features. For example, we might want to create a feature that is the natural log of a feature. We can do this by creating a function and then mapping it to features using either scikit-learn’s `FunctionTransformer` or pandas’ `apply`.\n",
    "\n",
    "```python\n",
    "# Define a simple function\n",
    "def take_log(x):\n",
    "    return np.log(x)\n",
    "\n",
    "Using FunctionTransformer\n",
    "-------------------------\n",
    "# Create transformer\n",
    "log_transformer = FunctionTransformer(take_log)\n",
    "\n",
    "# Transform feature matrix\n",
    "log_transformer.transform(df)\n",
    "\n",
    "Using apply\n",
    "-----------\n",
    "df.apply(take_log)\n",
    "```"
   ]
  },
  {
   "cell_type": "markdown",
   "id": "f4b038c2",
   "metadata": {},
   "source": [
    "<a id=\"num_cat\"></a>\n",
    "<h1 align=\"center\">HOW TO TRANSFORM NUMERICAL AND CATEGORICAL DATA</h1>\n",
    "\n",
    "It is now apparent the necessity to prepare raw data using transforms prior to fitting a machine learning model to ensure that we best expose the structure of the predictive modeling problem to the learning algorithms. Applying data transforms like scaling or encoding categorical variables is straightforward when all input variables are the same type. It can be challenging though when we have a dataset with mixed types and want to selectively apply data transforms to some, but not all, input features. This is where scikit-learn's library provides the ColumnTransformer that allows us to selectively apply data transforms to different columns in a dataset."
   ]
  },
  {
   "cell_type": "markdown",
   "id": "8466c6b2",
   "metadata": {},
   "source": [
    "<a id=\"chall\"></a>\n",
    "<h2><ins>Challenge of Transforming Different Data Types</ins></h2>\n",
    "\n",
    "It is important to prepare data prior to modeling. *This may involve replacing missing values, scaling numerical values, and one hot encoding categorical data.* Data transforms can be performed using the scikit-learn library; for example, the `SimpleImputer` class can be used to replace missing values, the `MinMaxScaler` class can be used to scale numerical values, and the `OneHotEncoder` can be used to encode categorical variables. Sequences of different transforms can also be chained together using `Pipelines`.\n",
    "\n",
    "It is very common to want to perform different data preparation techniques on different columns in the input data. For example, you may want to impute missing numerical values with a median value, then scale the values and impute missing categorical values using the most frequent value and one hot encode the categories. Traditionally, this would require separating the numerical and categorical data and then manually applying the transforms on those groups of features before combining the columns back together in order to fit and evaluate a model. Now, scikit-learn's *`ColumnTransformer`* can perform this operation."
   ]
  },
  {
   "cell_type": "markdown",
   "id": "51fff2bb",
   "metadata": {},
   "source": [
    "<a id=\"use\"></a>\n",
    "<h3><ins>How to use the ColumnTransformer</ins></h3>\n",
    "\n",
    "The **ColumnTransformer** is a class in the scikit-learn Python machine learning library that allows you to selectively apply data preparation transforms. For example, it allows you to apply a specific transform or sequence of transforms to just the numerical columns, and a separate sequence of transforms to just the categorical columns. \n",
    ">**To use the ColumnTransformer, you must specify a list of transformers.<br><br>Each transformer is a three-element tuple that defines the name of the transformer, the transform to apply, and the column indices to apply it to.**\n",
    "\n",
    "For example, to use the ColumnTransformer to apply a OneHotEncoder to columns 0 and 1:\n",
    "```python\n",
    "transformer = ColumnTransformer(transformers=\n",
    "                  [('num',SimpleImputer(strategy='median'), [0, 1]),\n",
    "                   ('cat', SimpleImputer(strategy='most_frequent'), [2, 3]),\n",
    "                   ('cat', OneHotEncoder(), [0, 1])],\n",
    "                    remainder='passthrough')\n",
    "```\n",
    "Any columns not specified in the list of transformers are dropped from the dataset by default; this can be changed by setting the `remainder` argument. Setting **remainder='passthrough'** will mean that all columns not specified in the list of transformers will be passed through without transformation, instead of being dropped.\n",
    "\n",
    "A ColumnTransformer can also be used in a Pipeline to selectively prepare the columns of the dataset before fitting a model on the transformed data. This is the most likely use case as it ensures that the transforms are performed automatically on the raw data when fitting the model and when making predictions, such as when evaluating the model on a test dataset via cross-validation or making predictions on new data in the future.\n",
    "```python\n",
    "transformer = ColumnTransformer(transformers=[('cat', OneHotEncoder(), [0, 1])])\n",
    "pipeline = Pipeline(steps=[('t', transformer), ('m',model)])\n",
    "```"
   ]
  },
  {
   "cell_type": "markdown",
   "id": "9ab8eaf3",
   "metadata": {},
   "source": [
    "<a id=\"abalone\"></a>\n",
    "<h2><ins>Abalone Regression Dataset</ins></h2>\n",
    "\n",
    "The abalone dataset is a standard machine learning problem that involves predicting the age of an abalone given measurements of an abalone. The dataset has 4,177 examples, 8 input variables, and the target variable is an integer. A naive model can achieve a mean absolute error (MAE) of about 2.363 (std 0.092) by predicting the mean value, evaluated via 10-fold cross-validation. "
   ]
  },
  {
   "cell_type": "code",
   "execution_count": 61,
   "id": "1dc95a64",
   "metadata": {},
   "outputs": [
    {
     "data": {
      "text/html": [
       "<div>\n",
       "<style scoped>\n",
       "    .dataframe tbody tr th:only-of-type {\n",
       "        vertical-align: middle;\n",
       "    }\n",
       "\n",
       "    .dataframe tbody tr th {\n",
       "        vertical-align: top;\n",
       "    }\n",
       "\n",
       "    .dataframe thead th {\n",
       "        text-align: right;\n",
       "    }\n",
       "</style>\n",
       "<table border=\"1\" class=\"dataframe\">\n",
       "  <thead>\n",
       "    <tr style=\"text-align: right;\">\n",
       "      <th></th>\n",
       "      <th>0</th>\n",
       "      <th>1</th>\n",
       "      <th>2</th>\n",
       "      <th>3</th>\n",
       "      <th>4</th>\n",
       "      <th>5</th>\n",
       "      <th>6</th>\n",
       "      <th>7</th>\n",
       "      <th>8</th>\n",
       "    </tr>\n",
       "  </thead>\n",
       "  <tbody>\n",
       "    <tr>\n",
       "      <th>0</th>\n",
       "      <td>M</td>\n",
       "      <td>0.455</td>\n",
       "      <td>0.365</td>\n",
       "      <td>0.095</td>\n",
       "      <td>0.5140</td>\n",
       "      <td>0.2245</td>\n",
       "      <td>0.1010</td>\n",
       "      <td>0.150</td>\n",
       "      <td>15</td>\n",
       "    </tr>\n",
       "    <tr>\n",
       "      <th>1</th>\n",
       "      <td>M</td>\n",
       "      <td>0.350</td>\n",
       "      <td>0.265</td>\n",
       "      <td>0.090</td>\n",
       "      <td>0.2255</td>\n",
       "      <td>0.0995</td>\n",
       "      <td>0.0485</td>\n",
       "      <td>0.070</td>\n",
       "      <td>7</td>\n",
       "    </tr>\n",
       "    <tr>\n",
       "      <th>2</th>\n",
       "      <td>F</td>\n",
       "      <td>0.530</td>\n",
       "      <td>0.420</td>\n",
       "      <td>0.135</td>\n",
       "      <td>0.6770</td>\n",
       "      <td>0.2565</td>\n",
       "      <td>0.1415</td>\n",
       "      <td>0.210</td>\n",
       "      <td>9</td>\n",
       "    </tr>\n",
       "    <tr>\n",
       "      <th>3</th>\n",
       "      <td>M</td>\n",
       "      <td>0.440</td>\n",
       "      <td>0.365</td>\n",
       "      <td>0.125</td>\n",
       "      <td>0.5160</td>\n",
       "      <td>0.2155</td>\n",
       "      <td>0.1140</td>\n",
       "      <td>0.155</td>\n",
       "      <td>10</td>\n",
       "    </tr>\n",
       "    <tr>\n",
       "      <th>4</th>\n",
       "      <td>I</td>\n",
       "      <td>0.330</td>\n",
       "      <td>0.255</td>\n",
       "      <td>0.080</td>\n",
       "      <td>0.2050</td>\n",
       "      <td>0.0895</td>\n",
       "      <td>0.0395</td>\n",
       "      <td>0.055</td>\n",
       "      <td>7</td>\n",
       "    </tr>\n",
       "  </tbody>\n",
       "</table>\n",
       "</div>"
      ],
      "text/plain": [
       "   0      1      2      3       4       5       6      7   8\n",
       "0  M  0.455  0.365  0.095  0.5140  0.2245  0.1010  0.150  15\n",
       "1  M  0.350  0.265  0.090  0.2255  0.0995  0.0485  0.070   7\n",
       "2  F  0.530  0.420  0.135  0.6770  0.2565  0.1415  0.210   9\n",
       "3  M  0.440  0.365  0.125  0.5160  0.2155  0.1140  0.155  10\n",
       "4  I  0.330  0.255  0.080  0.2050  0.0895  0.0395  0.055   7"
      ]
     },
     "execution_count": 61,
     "metadata": {},
     "output_type": "execute_result"
    }
   ],
   "source": [
    "# load dataset\n",
    "df_aba = pd.read_csv('./datasets/Data Transforms/abalone.csv', header=None)\n",
    "df_aba.head()"
   ]
  },
  {
   "cell_type": "markdown",
   "id": "b01907f5",
   "metadata": {},
   "source": [
    "The first column is categorical and the remainder of the columns are numerical. We may want to one hot encode the first column and normalize the remaining numerical columns, and this can be achieved using the ColumnTransformer. We can model this as a regression predictive modeling problem with a support vector machine model (SVR)."
   ]
  },
  {
   "cell_type": "code",
   "execution_count": 62,
   "id": "2f34c0a2",
   "metadata": {},
   "outputs": [],
   "source": [
    "from sklearn.svm import SVR\n",
    "from sklearn.model_selection import KFold"
   ]
  },
  {
   "cell_type": "code",
   "execution_count": 63,
   "id": "d2d8511c",
   "metadata": {},
   "outputs": [
    {
     "name": "stdout",
     "output_type": "stream",
     "text": [
      "MAE: 1.465 (0.047)\n"
     ]
    }
   ],
   "source": [
    "# split into inputs and outputs\n",
    "X = df_aba.drop(8, axis=1)\n",
    "y = df_aba[8]\n",
    "\n",
    "# determine categorical and numerical features\n",
    "numerical_cols = X.select_dtypes(include=['int64', 'float64']).columns\n",
    "categorical_cols = X.select_dtypes(include=['object', 'bool']).columns\n",
    "\n",
    "# define the data preparation for the columns\n",
    "t = [('cat', OneHotEncoder(), categorical_cols), ('num', MinMaxScaler(), numerical_cols)]\n",
    "col_transform = ColumnTransformer(transformers=t)\n",
    "\n",
    "# define the model\n",
    "model = SVR(kernel='rbf',gamma='scale',C=100)\n",
    "\n",
    "# define the data preparation and modeling pipeline\n",
    "pipeline = Pipeline(steps=[('prep',col_transform), ('m', model)])\n",
    "\n",
    "# define the model cross-validation configuration\n",
    "cv = KFold(n_splits=10, shuffle=True, random_state=1)\n",
    "\n",
    "# evaluate the pipeline using cross-validation and calculate MAE\n",
    "scores = cross_val_score(pipeline, X, y, scoring='neg_mean_absolute_error',\n",
    "                         cv=cv, n_jobs=-1)\n",
    "\n",
    "# convert MAE scores to positive values\n",
    "scores = np.absolute(scores)\n",
    "\n",
    "# summarize the model performance\n",
    "print('MAE: %.3f (%.3f)' % (np.mean(scores), np.std(scores)))"
   ]
  },
  {
   "cell_type": "markdown",
   "id": "45f5df1b",
   "metadata": {},
   "source": [
    "In this case, we achieve an average MAE of about 1.4, which is better than the baseline score of 2.3."
   ]
  },
  {
   "cell_type": "markdown",
   "id": "13125250",
   "metadata": {},
   "source": [
    "<a id=\"reg\"></a>\n",
    "<h1 align=\"center\">HOW TO TRANSFORM THE TARGET VARIABLE</h1>\n",
    "\n",
    "Data preparation is a big part of applied machine learning. Correctly preparing the training data can mean the difference between mediocre and extraordinary results, even with very simple linear algorithms. Performing data preparation operations, such as scaling, is relatively straightforward for input variables and has been made routine in Python via the Pipeline scikit-learn class. On regression predictive modeling problems where a numerical value must be predicted, it can also be critical to scale and perform other data transformations on the target variable. This can be achieved in Python using the `TransformedTargetRegressor` class.\n",
    ">For regression problems, it is often desirable to scale or transform both the input and the target variables."
   ]
  },
  {
   "cell_type": "markdown",
   "id": "3533b121",
   "metadata": {},
   "source": [
    "<a id=\"imbal\"></a>\n",
    "<h2><ins>Handling Imbalanced Classes</ins></h2>\n",
    "\n",
    "If the target vector contains highly **imbalanced classes**, then there are a few possible solutions. Collect more data. If that isn’t possible, change the metrics used to evaluate your model. If that doesn’t work, consider using a model’s built-in class weight parameters (if available), downsampling, or upsampling. \n",
    "- **Many algorithms in scikit-learn offer a parameter to weight classes during training to counteract the effect of their imbalance.** \n",
    "- Alternatively, we can downsample the majority class or upsample the minority class. In **downsampling**, we randomly sample without replacement from the majority class (i.e., the class with more observations) to create a new subset of observations equal in size to the minority class. For example, if the minority class has 10 observations, we randomly select 10 observations from the majority class and use those 20 observations as the dataset.\n",
    "- The other option is to upsample the minority class. In **upsampling**, for every observation in the majority class, we randomly select an observation from the minority class with replacement. The end result is the same number of observations from the minority and majority classes. Upsampling is implemented very similarly to downsampling, just in reverse."
   ]
  },
  {
   "cell_type": "code",
   "execution_count": 64,
   "id": "98a3a3b1",
   "metadata": {},
   "outputs": [
    {
     "data": {
      "text/html": [
       "<div>\n",
       "<style scoped>\n",
       "    .dataframe tbody tr th:only-of-type {\n",
       "        vertical-align: middle;\n",
       "    }\n",
       "\n",
       "    .dataframe tbody tr th {\n",
       "        vertical-align: top;\n",
       "    }\n",
       "\n",
       "    .dataframe thead th {\n",
       "        text-align: right;\n",
       "    }\n",
       "</style>\n",
       "<table border=\"1\" class=\"dataframe\">\n",
       "  <thead>\n",
       "    <tr style=\"text-align: right;\">\n",
       "      <th></th>\n",
       "      <th>pregnant</th>\n",
       "      <th>glucose_conc</th>\n",
       "      <th>blood_press</th>\n",
       "      <th>tricep_thick</th>\n",
       "      <th>serum_ins</th>\n",
       "      <th>bmi</th>\n",
       "      <th>pedigree</th>\n",
       "      <th>age</th>\n",
       "      <th>target</th>\n",
       "    </tr>\n",
       "  </thead>\n",
       "  <tbody>\n",
       "    <tr>\n",
       "      <th>0</th>\n",
       "      <td>6</td>\n",
       "      <td>148</td>\n",
       "      <td>72</td>\n",
       "      <td>35</td>\n",
       "      <td>0</td>\n",
       "      <td>33.6</td>\n",
       "      <td>0.627</td>\n",
       "      <td>50</td>\n",
       "      <td>1</td>\n",
       "    </tr>\n",
       "    <tr>\n",
       "      <th>1</th>\n",
       "      <td>1</td>\n",
       "      <td>85</td>\n",
       "      <td>66</td>\n",
       "      <td>29</td>\n",
       "      <td>0</td>\n",
       "      <td>26.6</td>\n",
       "      <td>0.351</td>\n",
       "      <td>31</td>\n",
       "      <td>0</td>\n",
       "    </tr>\n",
       "    <tr>\n",
       "      <th>2</th>\n",
       "      <td>8</td>\n",
       "      <td>183</td>\n",
       "      <td>64</td>\n",
       "      <td>0</td>\n",
       "      <td>0</td>\n",
       "      <td>23.3</td>\n",
       "      <td>0.672</td>\n",
       "      <td>32</td>\n",
       "      <td>1</td>\n",
       "    </tr>\n",
       "    <tr>\n",
       "      <th>3</th>\n",
       "      <td>1</td>\n",
       "      <td>89</td>\n",
       "      <td>66</td>\n",
       "      <td>23</td>\n",
       "      <td>94</td>\n",
       "      <td>28.1</td>\n",
       "      <td>0.167</td>\n",
       "      <td>21</td>\n",
       "      <td>0</td>\n",
       "    </tr>\n",
       "    <tr>\n",
       "      <th>4</th>\n",
       "      <td>0</td>\n",
       "      <td>137</td>\n",
       "      <td>40</td>\n",
       "      <td>35</td>\n",
       "      <td>168</td>\n",
       "      <td>43.1</td>\n",
       "      <td>2.288</td>\n",
       "      <td>33</td>\n",
       "      <td>1</td>\n",
       "    </tr>\n",
       "  </tbody>\n",
       "</table>\n",
       "</div>"
      ],
      "text/plain": [
       "   pregnant  glucose_conc  blood_press  tricep_thick  serum_ins   bmi  \\\n",
       "0         6           148           72            35          0  33.6   \n",
       "1         1            85           66            29          0  26.6   \n",
       "2         8           183           64             0          0  23.3   \n",
       "3         1            89           66            23         94  28.1   \n",
       "4         0           137           40            35        168  43.1   \n",
       "\n",
       "   pedigree  age  target  \n",
       "0     0.627   50       1  \n",
       "1     0.351   31       0  \n",
       "2     0.672   32       1  \n",
       "3     0.167   21       0  \n",
       "4     2.288   33       1  "
      ]
     },
     "execution_count": 64,
     "metadata": {},
     "output_type": "execute_result"
    }
   ],
   "source": [
    "df_diab.head()"
   ]
  },
  {
   "cell_type": "code",
   "execution_count": 65,
   "id": "f8adfdcb",
   "metadata": {},
   "outputs": [
    {
     "data": {
      "text/plain": [
       "0    500\n",
       "1    268\n",
       "Name: target, dtype: int64"
      ]
     },
     "execution_count": 65,
     "metadata": {},
     "output_type": "execute_result"
    }
   ],
   "source": [
    "df_diab['target'].value_counts()"
   ]
  },
  {
   "cell_type": "code",
   "execution_count": 66,
   "id": "1423b2fe",
   "metadata": {},
   "outputs": [
    {
     "data": {
      "text/plain": [
       "0    500\n",
       "1    268\n",
       "Name: target, dtype: int64"
      ]
     },
     "execution_count": 66,
     "metadata": {},
     "output_type": "execute_result"
    }
   ],
   "source": [
    "X_diab = df_diab.drop(columns=['target'])\n",
    "y_diab = df_diab['target']\n",
    "\n",
    "y_diab.value_counts()"
   ]
  },
  {
   "cell_type": "code",
   "execution_count": 67,
   "id": "a70967ff",
   "metadata": {},
   "outputs": [
    {
     "name": "stdout",
     "output_type": "stream",
     "text": [
      "500\n",
      "268\n"
     ]
    }
   ],
   "source": [
    "# Indicies of each class' observations\n",
    "i_class0 = np.where(y_diab == 0)[0]\n",
    "i_class1 = np.where(y_diab == 1)[0]\n",
    "\n",
    "# Number of observations in each class\n",
    "n_class0 = len(i_class0)\n",
    "n_class1 = len(i_class1)\n",
    "\n",
    "print(n_class0)\n",
    "print(n_class1)"
   ]
  },
  {
   "cell_type": "code",
   "execution_count": 68,
   "id": "82ced897",
   "metadata": {},
   "outputs": [
    {
     "data": {
      "text/plain": [
       "268"
      ]
     },
     "execution_count": 68,
     "metadata": {},
     "output_type": "execute_result"
    }
   ],
   "source": [
    "# For every observation of class 1, randomly sample\n",
    "# from class 0 without replacement\n",
    "i_class0_downsampled = np.random.choice(i_class0, size=n_class1,\n",
    "                                        replace=False)\n",
    "len(i_class0_downsampled)"
   ]
  },
  {
   "cell_type": "code",
   "execution_count": 69,
   "id": "f97dffc4",
   "metadata": {
    "scrolled": true
   },
   "outputs": [
    {
     "data": {
      "text/plain": [
       "array([1, 1, 1, 1, 1, 1, 1, 1, 1, 1, 1, 1, 1, 1, 1, 1, 1, 1, 1, 1, 1, 1,\n",
       "       1, 1, 1, 1, 1, 1, 1, 1, 1, 1, 1, 1, 1, 1, 1, 1, 1, 1, 1, 1, 1, 1,\n",
       "       1, 1, 1, 1, 1, 1, 1, 1, 1, 1, 1, 1, 1, 1, 1, 1, 1, 1, 1, 1, 1, 1,\n",
       "       1, 1, 1, 1, 1, 1, 1, 1, 1, 1, 1, 1, 1, 1, 1, 1, 1, 1, 1, 1, 1, 1,\n",
       "       1, 1, 1, 1, 1, 1, 1, 1, 1, 1, 1, 1, 1, 1, 1, 1, 1, 1, 1, 1, 1, 1,\n",
       "       1, 1, 1, 1, 1, 1, 1, 1, 1, 1, 1, 1, 1, 1, 1, 1, 1, 1, 1, 1, 1, 1,\n",
       "       1, 1, 1, 1, 1, 1, 1, 1, 1, 1, 1, 1, 1, 1, 1, 1, 1, 1, 1, 1, 1, 1,\n",
       "       1, 1, 1, 1, 1, 1, 1, 1, 1, 1, 1, 1, 1, 1, 1, 1, 1, 1, 1, 1, 1, 1,\n",
       "       1, 1, 1, 1, 1, 1, 1, 1, 1, 1, 1, 1, 1, 1, 1, 1, 1, 1, 1, 1, 1, 1,\n",
       "       1, 1, 1, 1, 1, 1, 1, 1, 1, 1, 1, 1, 1, 1, 1, 1, 1, 1, 1, 1, 1, 1,\n",
       "       1, 1, 1, 1, 1, 1, 1, 1, 1, 1, 1, 1, 1, 1, 1, 1, 1, 1, 1, 1, 1, 1,\n",
       "       1, 1, 1, 1, 1, 1, 1, 1, 1, 1, 1, 1, 1, 1, 1, 1, 1, 1, 1, 1, 1, 1,\n",
       "       1, 1, 1, 1, 0, 0, 0, 0, 0, 0, 0, 0, 0, 0, 0, 0, 0, 0, 0, 0, 0, 0,\n",
       "       0, 0, 0, 0, 0, 0, 0, 0, 0, 0, 0, 0, 0, 0, 0, 0, 0, 0, 0, 0, 0, 0,\n",
       "       0, 0, 0, 0, 0, 0, 0, 0, 0, 0, 0, 0, 0, 0, 0, 0, 0, 0, 0, 0, 0, 0,\n",
       "       0, 0, 0, 0, 0, 0, 0, 0, 0, 0, 0, 0, 0, 0, 0, 0, 0, 0, 0, 0, 0, 0,\n",
       "       0, 0, 0, 0, 0, 0, 0, 0, 0, 0, 0, 0, 0, 0, 0, 0, 0, 0, 0, 0, 0, 0,\n",
       "       0, 0, 0, 0, 0, 0, 0, 0, 0, 0, 0, 0, 0, 0, 0, 0, 0, 0, 0, 0, 0, 0,\n",
       "       0, 0, 0, 0, 0, 0, 0, 0, 0, 0, 0, 0, 0, 0, 0, 0, 0, 0, 0, 0, 0, 0,\n",
       "       0, 0, 0, 0, 0, 0, 0, 0, 0, 0, 0, 0, 0, 0, 0, 0, 0, 0, 0, 0, 0, 0,\n",
       "       0, 0, 0, 0, 0, 0, 0, 0, 0, 0, 0, 0, 0, 0, 0, 0, 0, 0, 0, 0, 0, 0,\n",
       "       0, 0, 0, 0, 0, 0, 0, 0, 0, 0, 0, 0, 0, 0, 0, 0, 0, 0, 0, 0, 0, 0,\n",
       "       0, 0, 0, 0, 0, 0, 0, 0, 0, 0, 0, 0, 0, 0, 0, 0, 0, 0, 0, 0, 0, 0,\n",
       "       0, 0, 0, 0, 0, 0, 0, 0, 0, 0, 0, 0, 0, 0, 0, 0, 0, 0, 0, 0, 0, 0,\n",
       "       0, 0, 0, 0, 0, 0, 0, 0], dtype=int64)"
      ]
     },
     "execution_count": 69,
     "metadata": {},
     "output_type": "execute_result"
    }
   ],
   "source": [
    "# Join together class 1's target vector with the\n",
    "# downsampled class 0's target vector\n",
    "new_target = np.hstack((y_diab[i_class1], y_diab[i_class0_downsampled]))\n",
    "new_target"
   ]
  },
  {
   "cell_type": "code",
   "execution_count": 70,
   "id": "f3202ed8",
   "metadata": {},
   "outputs": [
    {
     "data": {
      "text/plain": [
       "array([[  6.   , 148.   ,  72.   , ...,  33.6  ,   0.627,  50.   ],\n",
       "       [  8.   , 183.   ,  64.   , ...,  23.3  ,   0.672,  32.   ],\n",
       "       [  0.   , 137.   ,  40.   , ...,  43.1  ,   2.288,  33.   ],\n",
       "       ...,\n",
       "       [  1.   , 112.   ,  80.   , ...,  34.8  ,   0.217,  24.   ],\n",
       "       [  2.   , 119.   ,   0.   , ...,  19.6  ,   0.832,  72.   ],\n",
       "       [ 12.   , 100.   ,  84.   , ...,  30.   ,   0.488,  46.   ]])"
      ]
     },
     "execution_count": 70,
     "metadata": {},
     "output_type": "execute_result"
    }
   ],
   "source": [
    "# Join together class 1's feature matrix with the\n",
    "# downsampled class 0's feature matrix\n",
    "new_data = np.vstack((X_diab.loc[i_class1,:],\n",
    "                      X_diab.loc[i_class0_downsampled,:]))\n",
    "new_data"
   ]
  },
  {
   "cell_type": "code",
   "execution_count": 71,
   "id": "c3e9ca0e",
   "metadata": {},
   "outputs": [
    {
     "name": "stdout",
     "output_type": "stream",
     "text": [
      "(536,)\n",
      "(536, 8)\n"
     ]
    }
   ],
   "source": [
    "print(new_target.shape)\n",
    "print(new_data.shape)"
   ]
  },
  {
   "cell_type": "code",
   "execution_count": 72,
   "id": "685de2e5",
   "metadata": {},
   "outputs": [
    {
     "data": {
      "text/html": [
       "<div>\n",
       "<style scoped>\n",
       "    .dataframe tbody tr th:only-of-type {\n",
       "        vertical-align: middle;\n",
       "    }\n",
       "\n",
       "    .dataframe tbody tr th {\n",
       "        vertical-align: top;\n",
       "    }\n",
       "\n",
       "    .dataframe thead th {\n",
       "        text-align: right;\n",
       "    }\n",
       "</style>\n",
       "<table border=\"1\" class=\"dataframe\">\n",
       "  <thead>\n",
       "    <tr style=\"text-align: right;\">\n",
       "      <th></th>\n",
       "      <th>pregnant</th>\n",
       "      <th>glucose_conc</th>\n",
       "      <th>blood_press</th>\n",
       "      <th>tricep_thick</th>\n",
       "      <th>serum_ins</th>\n",
       "      <th>bmi</th>\n",
       "      <th>pedigree</th>\n",
       "      <th>age</th>\n",
       "      <th>target</th>\n",
       "    </tr>\n",
       "  </thead>\n",
       "  <tbody>\n",
       "    <tr>\n",
       "      <th>0</th>\n",
       "      <td>6.0</td>\n",
       "      <td>148.0</td>\n",
       "      <td>72.0</td>\n",
       "      <td>35.0</td>\n",
       "      <td>0.0</td>\n",
       "      <td>33.6</td>\n",
       "      <td>0.627</td>\n",
       "      <td>50.0</td>\n",
       "      <td>1</td>\n",
       "    </tr>\n",
       "    <tr>\n",
       "      <th>1</th>\n",
       "      <td>8.0</td>\n",
       "      <td>183.0</td>\n",
       "      <td>64.0</td>\n",
       "      <td>0.0</td>\n",
       "      <td>0.0</td>\n",
       "      <td>23.3</td>\n",
       "      <td>0.672</td>\n",
       "      <td>32.0</td>\n",
       "      <td>1</td>\n",
       "    </tr>\n",
       "    <tr>\n",
       "      <th>2</th>\n",
       "      <td>0.0</td>\n",
       "      <td>137.0</td>\n",
       "      <td>40.0</td>\n",
       "      <td>35.0</td>\n",
       "      <td>168.0</td>\n",
       "      <td>43.1</td>\n",
       "      <td>2.288</td>\n",
       "      <td>33.0</td>\n",
       "      <td>1</td>\n",
       "    </tr>\n",
       "    <tr>\n",
       "      <th>3</th>\n",
       "      <td>3.0</td>\n",
       "      <td>78.0</td>\n",
       "      <td>50.0</td>\n",
       "      <td>32.0</td>\n",
       "      <td>88.0</td>\n",
       "      <td>31.0</td>\n",
       "      <td>0.248</td>\n",
       "      <td>26.0</td>\n",
       "      <td>1</td>\n",
       "    </tr>\n",
       "    <tr>\n",
       "      <th>4</th>\n",
       "      <td>2.0</td>\n",
       "      <td>197.0</td>\n",
       "      <td>70.0</td>\n",
       "      <td>45.0</td>\n",
       "      <td>543.0</td>\n",
       "      <td>30.5</td>\n",
       "      <td>0.158</td>\n",
       "      <td>53.0</td>\n",
       "      <td>1</td>\n",
       "    </tr>\n",
       "    <tr>\n",
       "      <th>...</th>\n",
       "      <td>...</td>\n",
       "      <td>...</td>\n",
       "      <td>...</td>\n",
       "      <td>...</td>\n",
       "      <td>...</td>\n",
       "      <td>...</td>\n",
       "      <td>...</td>\n",
       "      <td>...</td>\n",
       "      <td>...</td>\n",
       "    </tr>\n",
       "    <tr>\n",
       "      <th>531</th>\n",
       "      <td>4.0</td>\n",
       "      <td>141.0</td>\n",
       "      <td>74.0</td>\n",
       "      <td>0.0</td>\n",
       "      <td>0.0</td>\n",
       "      <td>27.6</td>\n",
       "      <td>0.244</td>\n",
       "      <td>40.0</td>\n",
       "      <td>0</td>\n",
       "    </tr>\n",
       "    <tr>\n",
       "      <th>532</th>\n",
       "      <td>10.0</td>\n",
       "      <td>68.0</td>\n",
       "      <td>106.0</td>\n",
       "      <td>23.0</td>\n",
       "      <td>49.0</td>\n",
       "      <td>35.5</td>\n",
       "      <td>0.285</td>\n",
       "      <td>47.0</td>\n",
       "      <td>0</td>\n",
       "    </tr>\n",
       "    <tr>\n",
       "      <th>533</th>\n",
       "      <td>1.0</td>\n",
       "      <td>112.0</td>\n",
       "      <td>80.0</td>\n",
       "      <td>45.0</td>\n",
       "      <td>132.0</td>\n",
       "      <td>34.8</td>\n",
       "      <td>0.217</td>\n",
       "      <td>24.0</td>\n",
       "      <td>0</td>\n",
       "    </tr>\n",
       "    <tr>\n",
       "      <th>534</th>\n",
       "      <td>2.0</td>\n",
       "      <td>119.0</td>\n",
       "      <td>0.0</td>\n",
       "      <td>0.0</td>\n",
       "      <td>0.0</td>\n",
       "      <td>19.6</td>\n",
       "      <td>0.832</td>\n",
       "      <td>72.0</td>\n",
       "      <td>0</td>\n",
       "    </tr>\n",
       "    <tr>\n",
       "      <th>535</th>\n",
       "      <td>12.0</td>\n",
       "      <td>100.0</td>\n",
       "      <td>84.0</td>\n",
       "      <td>33.0</td>\n",
       "      <td>105.0</td>\n",
       "      <td>30.0</td>\n",
       "      <td>0.488</td>\n",
       "      <td>46.0</td>\n",
       "      <td>0</td>\n",
       "    </tr>\n",
       "  </tbody>\n",
       "</table>\n",
       "<p>536 rows × 9 columns</p>\n",
       "</div>"
      ],
      "text/plain": [
       "     pregnant  glucose_conc  blood_press  tricep_thick  serum_ins   bmi  \\\n",
       "0         6.0         148.0         72.0          35.0        0.0  33.6   \n",
       "1         8.0         183.0         64.0           0.0        0.0  23.3   \n",
       "2         0.0         137.0         40.0          35.0      168.0  43.1   \n",
       "3         3.0          78.0         50.0          32.0       88.0  31.0   \n",
       "4         2.0         197.0         70.0          45.0      543.0  30.5   \n",
       "..        ...           ...          ...           ...        ...   ...   \n",
       "531       4.0         141.0         74.0           0.0        0.0  27.6   \n",
       "532      10.0          68.0        106.0          23.0       49.0  35.5   \n",
       "533       1.0         112.0         80.0          45.0      132.0  34.8   \n",
       "534       2.0         119.0          0.0           0.0        0.0  19.6   \n",
       "535      12.0         100.0         84.0          33.0      105.0  30.0   \n",
       "\n",
       "     pedigree   age  target  \n",
       "0       0.627  50.0       1  \n",
       "1       0.672  32.0       1  \n",
       "2       2.288  33.0       1  \n",
       "3       0.248  26.0       1  \n",
       "4       0.158  53.0       1  \n",
       "..        ...   ...     ...  \n",
       "531     0.244  40.0       0  \n",
       "532     0.285  47.0       0  \n",
       "533     0.217  24.0       0  \n",
       "534     0.832  72.0       0  \n",
       "535     0.488  46.0       0  \n",
       "\n",
       "[536 rows x 9 columns]"
      ]
     },
     "execution_count": 72,
     "metadata": {},
     "output_type": "execute_result"
    }
   ],
   "source": [
    "# converting back to a single dataframe.\n",
    "df_data = pd.DataFrame(new_data, columns=X_diab.columns)\n",
    "df_target = pd.DataFrame(new_target, columns=['target'])\n",
    "\n",
    "df = pd.concat([df_data,df_target],axis=1)\n",
    "df\n",
    "\n",
    "# might be a good idea to shuffle the data befor split."
   ]
  },
  {
   "cell_type": "markdown",
   "id": "4c192b43",
   "metadata": {},
   "source": [
    "**It might be a good idea to shuffle the data before split or shuffle and stratify within the train_test_split.**"
   ]
  },
  {
   "cell_type": "code",
   "execution_count": 73,
   "id": "8c0e2c97",
   "metadata": {},
   "outputs": [
    {
     "data": {
      "text/plain": [
       "0    268\n",
       "1    268\n",
       "Name: target, dtype: int64"
      ]
     },
     "execution_count": 73,
     "metadata": {},
     "output_type": "execute_result"
    }
   ],
   "source": [
    "df['target'].value_counts()"
   ]
  },
  {
   "cell_type": "markdown",
   "id": "a1abb464",
   "metadata": {},
   "source": [
    "In the real world, imbalanced classes are everywhere. For this reason, handling imbalanced classes is a common activity in machine learning. The best strategy is simply to collect more observations — especially observations from the minority class. However, this is often just not possible, so we have to resort to other options.\n",
    "\n",
    "A second strategy is to use a model evaluation metric better suited to imbalanced classes. Accuracy is often used as a metric for evaluating the performance of a model, but when imbalanced classes are present accuracy can be ill suited. Some better metrics are confusion matrices, precision, recall, F1 scores, and ROC curves.\n",
    "\n",
    "A third strategy is to use the class weighing parameters included in implementations of some models. This allows us to have the algorithm adjust for imbalanced classes. Fortunately, many scikit-learn classifiers have a class_weight parameter, making it a good option.\n",
    "\n",
    "The fourth and fifth strategies are related: downsampling and upsampling. In downsampling we create a random subset of the majority class of equal size to the minority class. In upsampling we repeatedly sample with replacement from the minority class to make it of equal size as the majority class. The decision between using downsampling and upsampling is context-specific, and in general we should try both to see which produces better results."
   ]
  },
  {
   "cell_type": "markdown",
   "id": "0e7e41f9",
   "metadata": {},
   "source": [
    "<a id=\"target\"></a>\n",
    "<h2><ins>How to Scale Target Variables</ins></h2>\n",
    "\n",
    "There are two ways that you can scale target variables. \n",
    "1. Manually transform the target variable.\n",
    "2. Automatically transform the target variable.\n",
    "\n",
    "<a id=\"manual\"></a>\n",
    "<h5 style=\"text-decoration:underline\">Manual Transform of the Target Variable</h5>\n",
    "\n",
    "Manually managing the scaling of the target variable involves creating and applying the scaling object to the data manually. It involves the following steps:\n",
    "1. Create the transform object, e.g. a `MinMaxScaler`.\n",
    "2. Fit the transform on the training dataset.\n",
    "3. Apply the transform to the train and test datasets.\n",
    "4. Invert the transform on any predictions made\n",
    "\n",
    "For example, if we wanted to normalize a target variable:\n",
    "```python\n",
    "# create target scaler object\n",
    "target_scaler = MinMaxScaler()\n",
    "target_scaler.fit(train_y)\n",
    "\n",
    "# transform target variables\n",
    "train_y = target_scaler.transform(train_y)\n",
    "test_y = target_scaler.transform(test_y)\n",
    "\n",
    "# invert transform on predictions\n",
    "yhat = model.predict(test_X)\n",
    "yhat = target_scaler.inverse_transform(yhat)\n",
    "```\n",
    "\n",
    "This is a pain, as it means you cannot use convenience functions in scikit learn, such as `cross_val_score()`, to quickly evaluate a model. "
   ]
  },
  {
   "cell_type": "markdown",
   "id": "a4470373",
   "metadata": {},
   "source": [
    "<a id=\"auto\"></a>\n",
    "<h5 style=\"text-decoration:underline\">Automatic Transform of the Target Variable</h5>\n",
    "\n",
    "An alternate approach is to automatically manage the transform and inverse transform. This can be achieved by using the **`TransformedTargetRegressor`** object that wraps a given model and a scaling object. It will prepare the transform of the target variable using the same training data used to fit the model, then apply that inverse transform on any new data provided when calling fit(), returning predictions in the correct scale.\n",
    "\n",
    "```python\n",
    "# define the target transform wrapper\n",
    "wrapped_model = TransformedTargetRegressor(regressor=model, transformer=MinMaxScaler())\n",
    "\n",
    "# use the target transform wrapper\n",
    "wrapped_model.fit(train_X, train_y)\n",
    "yhat = wrapped_model.predict(test_X)\n",
    "```\n",
    "\n",
    "This is much easier and allows you to use helpful functions like `cross_val_score()` to evaluate a model."
   ]
  },
  {
   "cell_type": "markdown",
   "id": "78e49805",
   "metadata": {},
   "source": [
    "<a id=\"ttr\"></a>\n",
    "<h3><ins>Using the TransformedTargetRegressor</ins></h3>\n",
    "\n",
    "The Boston housing dataset is a regression problem that has 13 inputs and one numerical target and requires learning the relationship between suburb characteristics and house prices. A naive regression model that predicts the mean value of the target on this problem can achieve a mean absolute error (MAE) of about 6.659. We will fit a `HuberRegressor` class (**a type of linear regression robust to outliers**) and normalize the input variables using a Pipeline."
   ]
  },
  {
   "cell_type": "code",
   "execution_count": 74,
   "id": "b25aac8b",
   "metadata": {},
   "outputs": [],
   "source": [
    "from sklearn.compose import TransformedTargetRegressor\n",
    "from sklearn.linear_model import HuberRegressor\n",
    "from sklearn.model_selection import RepeatedKFold"
   ]
  },
  {
   "cell_type": "code",
   "execution_count": 75,
   "id": "713f63fb",
   "metadata": {},
   "outputs": [
    {
     "name": "stdout",
     "output_type": "stream",
     "text": [
      "Mean MAE: 3.203\n"
     ]
    }
   ],
   "source": [
    "# load dataset\n",
    "df_bos = pd.read_csv('./datasets/Data Transforms/boston_housing.csv', header=None)\n",
    "\n",
    "# split into inputs and outputs\n",
    "X = df_bos.drop(columns=[13])\n",
    "y = df_bos[13]\n",
    "\n",
    "# prepare the model with input scaling\n",
    "pipeline = Pipeline(steps=[('normalize', MinMaxScaler()),\n",
    "                           ('model', HuberRegressor())])\n",
    "\n",
    "# prepare the model with target scaling\n",
    "model = TransformedTargetRegressor(regressor=pipeline, \n",
    "                                   transformer=MinMaxScaler())\n",
    "\n",
    "# evaluate model\n",
    "cv = RepeatedKFold(n_splits=10, n_repeats=3, random_state=1)\n",
    "scores = cross_val_score(model, X, y, \n",
    "                         scoring='neg_mean_absolute_error', cv=cv, n_jobs=-1)\n",
    "\n",
    "# convert scores to positive\n",
    "scores = np.absolute(scores)\n",
    "\n",
    "# summarize the result\n",
    "s_mean = np.mean(scores)\n",
    "print('Mean MAE: %.3f' % (s_mean))"
   ]
  },
  {
   "cell_type": "markdown",
   "id": "de9627e1",
   "metadata": {},
   "source": [
    "In this case, we achieve a MAE of about 3.2, much better than a naive model that achieved about 6.6.\n",
    "\n",
    "We are not restricted to using scaling objects; for example, we can also explore using other data transforms on the target variable, such as the **`PowerTransformer`**, that can make each variable more-Gaussian-like (using the *Yeo-Johnson transform*) and improve the performance of linear models. By default, the PowerTransformer also performs a standardization of each variable after performing the transform. It can also help to scale the values to the range 0-1 prior to applying a power transform, to avoid problems inverting the transform. We achieve this using the MinMaxScaler and defining a positive range."
   ]
  },
  {
   "cell_type": "code",
   "execution_count": 76,
   "id": "7dea4472",
   "metadata": {},
   "outputs": [
    {
     "name": "stdout",
     "output_type": "stream",
     "text": [
      "Mean MAE: 2.972\n"
     ]
    }
   ],
   "source": [
    "# prepare the model with input scaling and power transform\n",
    "steps = [('scale', MinMaxScaler(feature_range=(1e-5,1))),\n",
    "        ('power', PowerTransformer()),\n",
    "        ('model', HuberRegressor())]\n",
    "\n",
    "pipeline = Pipeline(steps=steps)\n",
    "\n",
    "# prepare the model with target scaling\n",
    "model = TransformedTargetRegressor(regressor=pipeline,\n",
    "                                   transformer=PowerTransformer())\n",
    "\n",
    "# evaluate model\n",
    "cv = RepeatedKFold(n_splits=10, n_repeats=3, random_state=1)\n",
    "scores = cross_val_score(model, X, y, \n",
    "                         scoring='neg_mean_absolute_error', cv=cv, n_jobs=-1)\n",
    "\n",
    "# convert scores to positive\n",
    "scores = np.absolute(scores)\n",
    "\n",
    "# summarize the result\n",
    "s_mean = np.mean(scores)\n",
    "print('Mean MAE: %.3f' % (s_mean))"
   ]
  },
  {
   "cell_type": "markdown",
   "id": "470b9a18",
   "metadata": {},
   "source": [
    "In this case, we see further improvement to the MAE."
   ]
  },
  {
   "cell_type": "code",
   "execution_count": 77,
   "id": "3d97738f",
   "metadata": {},
   "outputs": [
    {
     "name": "stdout",
     "output_type": "stream",
     "text": [
      "Mean MAE: 2.808\n"
     ]
    }
   ],
   "source": [
    "# prepare the model with input scaling and power transform\n",
    "steps = [('scale', MinMaxScaler(feature_range=(1e-5,1))),\n",
    "         ('model', HuberRegressor())]\n",
    "\n",
    "pipeline = Pipeline(steps=steps)\n",
    "\n",
    "# prepare the model with target scaling\n",
    "model = TransformedTargetRegressor(regressor=pipeline,\n",
    "                                   transformer=PowerTransformer())\n",
    "\n",
    "# evaluate model\n",
    "cv = RepeatedKFold(n_splits=10, n_repeats=3, random_state=1)\n",
    "scores = cross_val_score(model, X, y, \n",
    "                         scoring='neg_mean_absolute_error', cv=cv, n_jobs=-1)\n",
    "\n",
    "# convert scores to positive\n",
    "scores = np.absolute(scores)\n",
    "\n",
    "# summarize the result\n",
    "s_mean = np.mean(scores)\n",
    "print('Mean MAE: %.3f' % (s_mean))"
   ]
  },
  {
   "cell_type": "code",
   "execution_count": 78,
   "id": "d81491b5",
   "metadata": {},
   "outputs": [
    {
     "name": "stdout",
     "output_type": "stream",
     "text": [
      "Mean MAE: 2.747\n"
     ]
    }
   ],
   "source": [
    "# prepare the model with input scaling and target log transform\n",
    "steps = [('scale', MinMaxScaler(feature_range=(1e-5,1))),\n",
    "         ('model', HuberRegressor())]\n",
    "\n",
    "pipeline = Pipeline(steps=steps)\n",
    "\n",
    "# prepare the model with target scaling\n",
    "model = TransformedTargetRegressor(regressor=pipeline,\n",
    "                                   func=np.log, inverse_func=np.exp)\n",
    "\n",
    "# evaluate model\n",
    "cv = RepeatedKFold(n_splits=10, n_repeats=3, random_state=1)\n",
    "scores = cross_val_score(model, X, y, \n",
    "                         scoring='neg_mean_absolute_error', cv=cv, n_jobs=-1)\n",
    "\n",
    "# convert scores to positive\n",
    "scores = np.absolute(scores)\n",
    "\n",
    "# summarize the result\n",
    "s_mean = np.mean(scores)\n",
    "print('Mean MAE: %.3f' % (s_mean))"
   ]
  },
  {
   "cell_type": "markdown",
   "id": "4b1d1363",
   "metadata": {},
   "source": [
    "<a id=\"text\"></a>\n",
    "<h1 align=\"center\">HOW TO HANDLE TEXT</h1>\n",
    "\n",
    "Unstructured text data, like the contents of a book or a tweet, is both one of the most interesting sources of features and one of the most complex to handle.\n",
    "\n",
    "<a id=\"clean\"></a>\n",
    "<h2><ins>Cleaning Text</ins></h2>\n",
    "\n",
    "Most basic text cleaning operations should only replace Python’s core string operations, in particular `strip`, `replace`, and `split`."
   ]
  },
  {
   "cell_type": "code",
   "execution_count": 79,
   "id": "a3bf20f9",
   "metadata": {},
   "outputs": [],
   "source": [
    "# Create text\n",
    "text_data = [\" Hybrid-Theory. By Linkin Park \",\n",
    "             \"Binaural. By Pearl Jam           \",\n",
    "             \" Dark Side Of The Moon. By Pink Floyd \"]"
   ]
  },
  {
   "cell_type": "code",
   "execution_count": 80,
   "id": "9472904a",
   "metadata": {},
   "outputs": [
    {
     "data": {
      "text/plain": [
       "['Hybrid-Theory. By Linkin Park',\n",
       " 'Binaural. By Pearl Jam',\n",
       " 'Dark Side Of The Moon. By Pink Floyd']"
      ]
     },
     "execution_count": 80,
     "metadata": {},
     "output_type": "execute_result"
    }
   ],
   "source": [
    "# Strip whitespaces\n",
    "strip_whitespace = [string.strip() for string in text_data]\n",
    "strip_whitespace"
   ]
  },
  {
   "cell_type": "code",
   "execution_count": 81,
   "id": "e74a94b0",
   "metadata": {},
   "outputs": [
    {
     "data": {
      "text/plain": [
       "['Hybrid-Theory By Linkin Park',\n",
       " 'Binaural By Pearl Jam',\n",
       " 'Dark Side Of The Moon By Pink Floyd']"
      ]
     },
     "execution_count": 81,
     "metadata": {},
     "output_type": "execute_result"
    }
   ],
   "source": [
    "# Remove periods\n",
    "remove_periods = [string.replace(\".\", \"\") for string in strip_whitespace]\n",
    "remove_periods"
   ]
  },
  {
   "cell_type": "code",
   "execution_count": 82,
   "id": "deb177fa",
   "metadata": {},
   "outputs": [
    {
     "data": {
      "text/plain": [
       "['HYBRID-THEORY BY LINKIN PARK',\n",
       " 'BINAURAL BY PEARL JAM',\n",
       " 'DARK SIDE OF THE MOON BY PINK FLOYD']"
      ]
     },
     "execution_count": 82,
     "metadata": {},
     "output_type": "execute_result"
    }
   ],
   "source": [
    "# Create and apply a custom transformation function:\n",
    "\n",
    "def capitalizer(string: str) -> str:\n",
    "    return string.upper()\n",
    "\n",
    "# Apply function\n",
    "[capitalizer(string) for string in remove_periods]"
   ]
  },
  {
   "cell_type": "code",
   "execution_count": 83,
   "id": "f8b19142",
   "metadata": {},
   "outputs": [
    {
     "name": "stdout",
     "output_type": "stream",
     "text": [
      "['Hybrid', 'Theory', 'By', 'Linkin', 'Park', 'Binaural', 'By', 'Pearl', 'Jam', 'Dark', 'Side', 'Of', 'The', 'Moon', 'By', 'Pink', 'Floyd']\n"
     ]
    }
   ],
   "source": [
    "import re\n",
    "\n",
    "regex = r\"[a-zA-Z]+\"\n",
    "# regex = r\"([a-zA-Z]+)(?:,\\s*|)\"\n",
    "\n",
    "# test_str = (\"\\\" Hybrid-Theory. By Linkin Park \\\",\\n\"\n",
    "# \t\"             \\\"Binaural. By Pearl Jam           \\\",\\n\"\n",
    "# \t\"             \\\" Dark Side Of The Moon. By Pink Floyd \\\"\")\n",
    "# matches = re.finditer(regex, test_str, re.MULTILINE)\n",
    "\n",
    "matches = re.finditer(regex, str(text_data), re.MULTILINE)\n",
    "print([i.group() for i in matches])"
   ]
  },
  {
   "cell_type": "code",
   "execution_count": 84,
   "id": "38efdfdf",
   "metadata": {},
   "outputs": [
    {
     "data": {
      "text/plain": [
       "['XXXXXX-XXXXXX XX XXXXXX XXXX',\n",
       " 'XXXXXXXX XX XXXXX XXX',\n",
       " 'XXXX XXXX XX XXX XXXX XX XXXX XXXXX']"
      ]
     },
     "execution_count": 84,
     "metadata": {},
     "output_type": "execute_result"
    }
   ],
   "source": [
    "# Create function\n",
    "def replace_letters_with_X(string: str) -> str:\n",
    "    return re.sub(r\"[a-zA-Z]\", \"X\", string)\n",
    "\n",
    "# Apply function\n",
    "[replace_letters_with_X(string) for string in remove_periods]"
   ]
  },
  {
   "cell_type": "markdown",
   "id": "b5fc744c",
   "metadata": {},
   "source": [
    "Most text data will need to be cleaned before it can be used to build features. Most basic text cleaning can be completed using Python’s standard string operations or, by defining a custom cleaning function combining some cleaning tasks and applying that to the text data."
   ]
  },
  {
   "cell_type": "markdown",
   "id": "6eeadac5",
   "metadata": {},
   "source": [
    "<a id=\"punc\"></a>\n",
    "<h5><ins>Removing Punctuation</ins></h5>"
   ]
  },
  {
   "cell_type": "code",
   "execution_count": 85,
   "id": "3a6d2aa3",
   "metadata": {},
   "outputs": [],
   "source": [
    "import unicodedata\n",
    "import sys"
   ]
  },
  {
   "cell_type": "code",
   "execution_count": 86,
   "id": "d3fe8bf7",
   "metadata": {},
   "outputs": [
    {
     "data": {
      "text/plain": [
       "['Hi I Love This Song', '10000 Agree LoveIT', 'Right']"
      ]
     },
     "execution_count": 86,
     "metadata": {},
     "output_type": "execute_result"
    }
   ],
   "source": [
    "# Create text\n",
    "text = ['Hi!!!! I. Love. This. Song....',\n",
    "        '10000% Agree!!!! #LoveIT',\n",
    "        'Right?!?!']\n",
    "\n",
    "# Create a dictionary of punctuation characters\n",
    "punctuation = dict.fromkeys(i for i in range(sys.maxunicode)\n",
    "                            if unicodedata.category(chr(i)).startswith('P'))\n",
    "\n",
    "# For each string, remove any punctuation characters\n",
    "[string.translate(punctuation) for string in text]"
   ]
  },
  {
   "cell_type": "markdown",
   "id": "13e6c27a",
   "metadata": {},
   "source": [
    "`translate` is a Python method popular due to its blazing speed. In the example above, first we created a dictionary, punctuation, with all punctuation characters according to Unicode as its keys and None as its values. Next we translated all characters in the string that are in punctuation into None, effectively removing them. There are more readable ways to remove punctuation, but this somewhat hacky solution has the advantage of being far faster than alternatives. \n",
    "\n",
    "It is important to be conscious of the fact that punctuation contains information (e.g., “Right?” versus “Right!”). Removing punctuation is often a necessary evil to create features; however, if the punctuation is important we should make sure to take that into account."
   ]
  },
  {
   "cell_type": "markdown",
   "id": "db628a1e",
   "metadata": {},
   "source": [
    "<a id=\"parse\"></a>\n",
    "<h2><ins>Parsing and Cleaning HTML</ins></h2>\n",
    "\n",
    "Despite the strange name, Beautiful Soup is a powerful Python library designed for scraping HTML. Typically, Beautiful Soup is used to scrape live websites, but can just as easily be used to extract text data embedded in HTML."
   ]
  },
  {
   "cell_type": "code",
   "execution_count": 87,
   "id": "d1ee87ee",
   "metadata": {},
   "outputs": [],
   "source": [
    "from bs4 import BeautifulSoup"
   ]
  },
  {
   "cell_type": "code",
   "execution_count": 88,
   "id": "d44f7590",
   "metadata": {},
   "outputs": [
    {
     "data": {
      "text/plain": [
       "'Masego Azra'"
      ]
     },
     "execution_count": 88,
     "metadata": {},
     "output_type": "execute_result"
    }
   ],
   "source": [
    "# Create some HTML code\n",
    "html = \"\"\"\n",
    "<div class='full_name'>\n",
    "<span style='font-weight:bold'>Masego</span> Azra</div>\"\n",
    "\"\"\"\n",
    "\n",
    "# Parse html\n",
    "soup = BeautifulSoup(html, \"lxml\")\n",
    "\n",
    "# Find the div with the class \"full_name\", show text\n",
    "soup.find(\"div\", { \"class\" : \"full_name\" }).text.replace('\\n','')"
   ]
  },
  {
   "cell_type": "markdown",
   "id": "f1826df2",
   "metadata": {},
   "source": [
    "<a id=\"token\"></a>\n",
    "<h2><ins>Tokenizing Text</ins></h2>\n",
    "\n",
    "**Natural Language Toolkit** for Python (NLTK) has a powerful set of text\n",
    "manipulation operations, including word tokenizing.\n",
    "\n",
    ">**Tokenization, especially word tokenization, is a common task after cleaning text data because it is the first step in the process of turning the text into data we will use to construct useful features.**"
   ]
  },
  {
   "cell_type": "code",
   "execution_count": 89,
   "id": "5b7c798a",
   "metadata": {},
   "outputs": [],
   "source": [
    "from nltk.tokenize import word_tokenize, sent_tokenize"
   ]
  },
  {
   "cell_type": "code",
   "execution_count": 90,
   "id": "35c85bec",
   "metadata": {},
   "outputs": [
    {
     "data": {
      "text/plain": [
       "['The', 'science', 'of', 'today', 'is', 'the', 'technology', 'of', 'tomorrow']"
      ]
     },
     "execution_count": 90,
     "metadata": {},
     "output_type": "execute_result"
    }
   ],
   "source": [
    "# Create text\n",
    "string = \"The science of today is the technology of tomorrow\"\n",
    "\n",
    "# Tokenize words\n",
    "word_tokenize(string)"
   ]
  },
  {
   "cell_type": "code",
   "execution_count": 91,
   "id": "c6f193e0",
   "metadata": {},
   "outputs": [
    {
     "data": {
      "text/plain": [
       "['The', 'science', 'of', 'today', 'is', 'the', 'technology', 'of', 'tomorrow']"
      ]
     },
     "execution_count": 91,
     "metadata": {},
     "output_type": "execute_result"
    }
   ],
   "source": [
    "# Do the same thing using python's split() function\n",
    "string.split(' ')"
   ]
  },
  {
   "cell_type": "code",
   "execution_count": 92,
   "id": "f366e7da",
   "metadata": {},
   "outputs": [
    {
     "data": {
      "text/plain": [
       "[['Hi', 'I', 'Love', 'This', 'Song'], ['10000', 'Agree', 'LoveIT'], ['Right']]"
      ]
     },
     "execution_count": 92,
     "metadata": {},
     "output_type": "execute_result"
    }
   ],
   "source": [
    "text = ['Hi!!!! I. Love. This. Song....',\n",
    "        '10000% Agree!!!! #LoveIT',\n",
    "        'Right?!?!']\n",
    "\n",
    "# Create a dictionary of punctuation characters\n",
    "punctuation = dict.fromkeys(i for i in range(sys.maxunicode)\n",
    "                            if unicodedata.category(chr(i)).startswith('P'))\n",
    "# For each string, remove any punctuation characters\n",
    "cleaned_text = [string.translate(punctuation) for string in text]\n",
    "\n",
    "[word_tokenize(string) for string in cleaned_text]"
   ]
  },
  {
   "cell_type": "code",
   "execution_count": 93,
   "id": "00db145b",
   "metadata": {},
   "outputs": [
    {
     "data": {
      "text/plain": [
       "['Hi', 'I', 'Love', 'This', 'Song', '10000', 'Agree', 'LoveIT', 'Right']"
      ]
     },
     "execution_count": 93,
     "metadata": {},
     "output_type": "execute_result"
    }
   ],
   "source": [
    "from itertools import chain\n",
    "\n",
    "list(chain.from_iterable([word_tokenize(string) for string in cleaned_text]))"
   ]
  },
  {
   "cell_type": "markdown",
   "id": "0a08ad92",
   "metadata": {},
   "source": [
    "**Note the difference - `chain` alone requires unpacking the list with the `*` operator.**"
   ]
  },
  {
   "cell_type": "code",
   "execution_count": 94,
   "id": "275fd543",
   "metadata": {},
   "outputs": [
    {
     "data": {
      "text/plain": [
       "['Hi', 'I', 'Love', 'This', 'Song', '10000', 'Agree', 'LoveIT', 'Right']"
      ]
     },
     "execution_count": 94,
     "metadata": {},
     "output_type": "execute_result"
    }
   ],
   "source": [
    "list(chain(*[word_tokenize(string) for string in cleaned_text]))"
   ]
  },
  {
   "cell_type": "markdown",
   "id": "2e83f290",
   "metadata": {},
   "source": [
    "We can also tokenize into sentences."
   ]
  },
  {
   "cell_type": "code",
   "execution_count": 95,
   "id": "b2495396",
   "metadata": {},
   "outputs": [
    {
     "data": {
      "text/plain": [
       "['The science of today is the technology of tomorrow.', 'Tomorrow is today.']"
      ]
     },
     "execution_count": 95,
     "metadata": {},
     "output_type": "execute_result"
    }
   ],
   "source": [
    "# Create text\n",
    "string = \"\"\"The science of today is the technology of tomorrow.\n",
    "Tomorrow is today.\"\"\"\n",
    "\n",
    "# Tokenize sentences\n",
    "sent_tokenize(string)"
   ]
  },
  {
   "cell_type": "code",
   "execution_count": 96,
   "id": "1ac43872",
   "metadata": {},
   "outputs": [
    {
     "data": {
      "text/plain": [
       "['The science of today is the technology of tomorrow', 'Tomorrow is today']"
      ]
     },
     "execution_count": 96,
     "metadata": {},
     "output_type": "execute_result"
    }
   ],
   "source": [
    "[sent.replace('.','') for sent in sent_tokenize(string)]"
   ]
  },
  {
   "cell_type": "markdown",
   "id": "f801a00d",
   "metadata": {},
   "source": [
    "<a id=\"stop\"></a>\n",
    "<h2><ins>Removing Stop Words</ins></h2>\n",
    "\n",
    "Given tokenized text data, we may want to remove extremely common words (e.g., a, is, of, on) that contain little informational value. While “stop words” can refer to any set of words we want to remove before processing, frequently the term refers to extremely common words that themselves contain little information value."
   ]
  },
  {
   "cell_type": "code",
   "execution_count": 97,
   "id": "69b04510",
   "metadata": {},
   "outputs": [],
   "source": [
    "# Only need to run this code once\n",
    "\n",
    "# import nltk\n",
    "# nltk.download('stopwords')"
   ]
  },
  {
   "cell_type": "code",
   "execution_count": 98,
   "id": "7abc77e1",
   "metadata": {},
   "outputs": [
    {
     "data": {
      "text/plain": [
       "['The', 'science', 'of', 'today', 'is', 'the', 'technology', 'of', 'tomorrow']"
      ]
     },
     "execution_count": 98,
     "metadata": {},
     "output_type": "execute_result"
    }
   ],
   "source": [
    "# Create text\n",
    "text_string = \"The science of today, is the technology, of tomorrow.\"\n",
    "\n",
    "# Create a dictionary of punctuation characters and remove any punctuation\n",
    "punctuation = dict.fromkeys(i for i in range(sys.maxunicode)\n",
    "                            if unicodedata.category(chr(i)).startswith('P'))\n",
    "punc_free = text_string.translate(punctuation)\n",
    "\n",
    "# Tokenize the punctuation-free string\n",
    "tokenized_words = word_tokenize(punc_free)\n",
    "tokenized_words"
   ]
  },
  {
   "cell_type": "code",
   "execution_count": 99,
   "id": "7c7b14b9",
   "metadata": {},
   "outputs": [],
   "source": [
    "from nltk.corpus import stopwords"
   ]
  },
  {
   "cell_type": "code",
   "execution_count": 100,
   "id": "fb7d3fe6",
   "metadata": {},
   "outputs": [
    {
     "data": {
      "text/plain": [
       "['science', 'today', 'technology', 'tomorrow']"
      ]
     },
     "execution_count": 100,
     "metadata": {},
     "output_type": "execute_result"
    }
   ],
   "source": [
    "# All words in this list are lower case\n",
    "stop_words = stopwords.words('english')\n",
    "\n",
    "# Remove stop words\n",
    "[word for word in tokenized_words if word.lower() not in stop_words]"
   ]
  },
  {
   "cell_type": "markdown",
   "id": "4fed2acf",
   "metadata": {},
   "source": [
    "<a id=\"stem\"></a>\n",
    "<h2><ins>Stemming Words</ins></h2>\n",
    "\n",
    "Given a list of tokenized words, we may want to convert them into their root forms. Stemming reduces a word to its stem by identifying and removing affixes while keeping the root meaning of the word. For example, both \"tradition\" and \"traditional\" have \"tradit\" as their stem, indicating that while they are different words they represent the same general concept. By stemming our text data, we transform it to something less readable, but closer to its base meaning and thus more suitable for comparison across observations. NLTK’s `PorterStemmer` implements the widely used Porter stemming algorithm to remove or replace common suffixes to produce the word stem."
   ]
  },
  {
   "cell_type": "code",
   "execution_count": 101,
   "id": "5d58ce4c",
   "metadata": {},
   "outputs": [],
   "source": [
    "from nltk.stem.porter import PorterStemmer"
   ]
  },
  {
   "cell_type": "code",
   "execution_count": 102,
   "id": "51ee6baa",
   "metadata": {},
   "outputs": [
    {
     "data": {
      "text/plain": [
       "['i', 'am', 'humbl', 'by', 'thi', 'tradit', 'meet']"
      ]
     },
     "execution_count": 102,
     "metadata": {},
     "output_type": "execute_result"
    }
   ],
   "source": [
    "# Create word tokens\n",
    "tokenized_words = ['i', 'am', 'humbled', 'by', 'this',\n",
    "                   'traditional', 'meeting']\n",
    "\n",
    "# Create stemmer\n",
    "porter = PorterStemmer()\n",
    "\n",
    "# Apply stemmer\n",
    "[porter.stem(word) for word in tokenized_words]"
   ]
  },
  {
   "cell_type": "markdown",
   "id": "28c5d255",
   "metadata": {},
   "source": [
    "<a id=\"tag\"></a>\n",
    "<h2><ins>Tagging Parts of Speech</ins></h2>\n",
    "\n",
    "Suppose we have text data and want to tag each word or character with its part of speech. "
   ]
  },
  {
   "cell_type": "code",
   "execution_count": 103,
   "id": "255f3729",
   "metadata": {},
   "outputs": [],
   "source": [
    "from nltk import pos_tag"
   ]
  },
  {
   "cell_type": "code",
   "execution_count": 104,
   "id": "0ee39a6b",
   "metadata": {},
   "outputs": [
    {
     "data": {
      "text/plain": [
       "'i am humbled by this traditional meeting'"
      ]
     },
     "execution_count": 104,
     "metadata": {},
     "output_type": "execute_result"
    }
   ],
   "source": [
    "words = ['i', 'am', 'humbled', 'by', 'this', 'traditional', 'meeting']\n",
    "sentence = ' '.join(words)\n",
    "sentence\n",
    "# word_tokenize(sentence)"
   ]
  },
  {
   "cell_type": "code",
   "execution_count": 105,
   "id": "fcf0f29b",
   "metadata": {},
   "outputs": [
    {
     "name": "stdout",
     "output_type": "stream",
     "text": [
      "[('I', 'PRP'), ('am', 'VBP'), ('humbled', 'VBN'), ('by', 'IN'), ('this', 'DT'), ('traditional', 'JJ'), ('meeting', 'NN')]\n"
     ]
    }
   ],
   "source": [
    "# words = ['i', 'am', 'humbled', 'by', 'this', 'traditional', 'meeting']\n",
    "# sentence = ' '.join(words)\n",
    "text = 'I am humbled by this traditional meeting'\n",
    "\n",
    "# Use pre-trained part of speech tagger\n",
    "text_tagged = pos_tag(word_tokenize(text))\n",
    "\n",
    "# Show parts of speech\n",
    "print(text_tagged)"
   ]
  },
  {
   "cell_type": "markdown",
   "id": "1558b0be",
   "metadata": {},
   "source": [
    "The output is a list of tuples with the word and the tag of the part ofspeech. NLTK uses the Penn Treebank parts for speech tags. Some examples of the PennTreebank tags are:\n",
    "\n",
    "|Tag|Part of Speech|\n",
    "|:-:|:-|\n",
    "|NNP|Proper noun, singular|\n",
    "|NN|Noun, singular or mass|\n",
    "|RB|Adverb|\n",
    "|VBD|Verb, past tense|\n",
    "|VBG|Verb, gerund or present participle|\n",
    "|JJ|Adjective|\n",
    "|PRP|Personal pronoun|"
   ]
  },
  {
   "cell_type": "markdown",
   "id": "b093d520",
   "metadata": {},
   "source": [
    "Once the text has been tagged, we can use the tags to find certain parts of\n",
    "speech."
   ]
  },
  {
   "cell_type": "code",
   "execution_count": 106,
   "id": "edfd691d",
   "metadata": {},
   "outputs": [
    {
     "data": {
      "text/plain": [
       "['am', 'humbled']"
      ]
     },
     "execution_count": 106,
     "metadata": {},
     "output_type": "execute_result"
    }
   ],
   "source": [
    "# Filter words\n",
    "[word for word, tag in text_tagged if tag.startswith('V')]"
   ]
  },
  {
   "cell_type": "markdown",
   "id": "702f6798",
   "metadata": {},
   "source": [
    "A more realistic situation would be that we have data where every observation contains a tweet and we want to convert those sentences into features for individual parts of speech (e.g., a feature with 1 if a proper noun is present, and 0 otherwise)."
   ]
  },
  {
   "cell_type": "code",
   "execution_count": 107,
   "id": "597216fb",
   "metadata": {},
   "outputs": [],
   "source": [
    "# Create text\n",
    "tweets = [\"I am eating a burrito for breakfast\",\n",
    "          \"Political science is an amazing field\",\n",
    "          \"San Francisco is an awesome city\"]\n",
    "\n",
    "# Create list\n",
    "tagged_tweets = []\n",
    "\n",
    "# Tag each word and each tweet\n",
    "for tweet in tweets:\n",
    "    tweet_tag = pos_tag(word_tokenize(tweet))\n",
    "    tagged_tweets.append([tag for word, tag in tweet_tag])"
   ]
  },
  {
   "cell_type": "code",
   "execution_count": 108,
   "id": "69084534",
   "metadata": {},
   "outputs": [
    {
     "data": {
      "text/plain": [
       "[['PRP', 'VBP', 'VBG', 'DT', 'NN', 'IN', 'NN'],\n",
       " ['JJ', 'NN', 'VBZ', 'DT', 'JJ', 'NN'],\n",
       " ['NNP', 'NNP', 'VBZ', 'DT', 'JJ', 'NN']]"
      ]
     },
     "execution_count": 108,
     "metadata": {},
     "output_type": "execute_result"
    }
   ],
   "source": [
    "tagged_tweets"
   ]
  },
  {
   "cell_type": "code",
   "execution_count": 109,
   "id": "de8a1aad",
   "metadata": {},
   "outputs": [
    {
     "data": {
      "text/plain": [
       "['DT', 'IN', 'JJ', 'NN', 'NNP', 'PRP', 'VBG', 'VBP', 'VBZ']"
      ]
     },
     "execution_count": 109,
     "metadata": {},
     "output_type": "execute_result"
    }
   ],
   "source": [
    "tag_list = sorted(list(set(list(chain(*tagged_tweets)))))\n",
    "tag_list "
   ]
  },
  {
   "cell_type": "code",
   "execution_count": 110,
   "id": "81f86787",
   "metadata": {},
   "outputs": [],
   "source": [
    "from sklearn.preprocessing import MultiLabelBinarizer, LabelBinarizer"
   ]
  },
  {
   "cell_type": "code",
   "execution_count": 111,
   "id": "009bba0e",
   "metadata": {},
   "outputs": [
    {
     "data": {
      "text/plain": [
       "array([[1, 1, 0, 1, 0, 1, 1, 1, 0],\n",
       "       [1, 0, 1, 1, 0, 0, 0, 0, 1],\n",
       "       [1, 0, 1, 1, 1, 0, 0, 0, 1]])"
      ]
     },
     "execution_count": 111,
     "metadata": {},
     "output_type": "execute_result"
    }
   ],
   "source": [
    "# Use one-hot encoding to convert the tags into features\n",
    "one_hot_multi = MultiLabelBinarizer()\n",
    "\n",
    "one_hot_multi.fit_transform(tagged_tweets)"
   ]
  },
  {
   "cell_type": "code",
   "execution_count": 112,
   "id": "2a7b6f87",
   "metadata": {},
   "outputs": [
    {
     "data": {
      "text/plain": [
       "array(['DT', 'IN', 'JJ', 'NN', 'NNP', 'PRP', 'VBG', 'VBP', 'VBZ'],\n",
       "      dtype=object)"
      ]
     },
     "execution_count": 112,
     "metadata": {},
     "output_type": "execute_result"
    }
   ],
   "source": [
    "# Show feature names\n",
    "one_hot_multi.classes_"
   ]
  },
  {
   "cell_type": "markdown",
   "id": "66d69ae8",
   "metadata": {},
   "source": [
    "If the text is English and not on a specialized topic (e.g., medicine) the simplest solution is to use NLTK’s pre-trained parts-of-speech tagger. However, if `pos_tag` is not very accurate, NLTK also gives us the ability to train your own tagger. \n",
    "- The major downside of training a tagger is that we need a large corpus of text where the tag of each word is known. Constructing this tagged corpus is obviously labor intensive and is probably going to be a last resort. \n",
    "\n",
    "If we had a tagged corpus and wanted to train a tagger, the following is an example of how we could do it. The corpus being used is the Brown Corpus, one of the most popular sources of tagged text. Here we use a `backoff n-gram tagger`, where $n$ is the number of previous words we take into account when predicting a word’s part-of-speech tag. \n",
    "- First we take into account the previous two words using `TrigramTagger`; if two words are not present, we \"back off\" and take into account the tag of the previous one word using `BigramTagger`, and finally if that fails we only look at the word itself using `UnigramTagger`. To examine the accuracy of our tagger, we split our text data into two parts, train our tagger on one part, and test how well it predicts the tags of the second part."
   ]
  },
  {
   "cell_type": "code",
   "execution_count": 113,
   "id": "ac6f37b7",
   "metadata": {},
   "outputs": [],
   "source": [
    "from nltk.corpus import brown\n",
    "from nltk.tag import UnigramTagger, BigramTagger, TrigramTagger"
   ]
  },
  {
   "cell_type": "code",
   "execution_count": 114,
   "id": "9a858e24",
   "metadata": {},
   "outputs": [],
   "source": [
    "# Get some text from the Brown Corpus, broken into sentences\n",
    "sentences = brown.tagged_sents(categories='news')\n",
    "\n",
    "# Split into 4000 sentences for training and 623 for testing\n",
    "train = sentences[:4000]\n",
    "test = sentences[4000:]\n",
    "\n",
    "# Create backoff tagger\n",
    "unigram = UnigramTagger(train)\n",
    "bigram = BigramTagger(train, backoff=unigram)\n",
    "trigram = TrigramTagger(train, backoff=bigram)"
   ]
  },
  {
   "cell_type": "code",
   "execution_count": 115,
   "id": "d0459baf",
   "metadata": {},
   "outputs": [
    {
     "name": "stdout",
     "output_type": "stream",
     "text": [
      "0.8111044507717668\n",
      "0.8193466207103252\n",
      "0.8174734002697437\n"
     ]
    }
   ],
   "source": [
    "# Show accuracy\n",
    "print(unigram.evaluate(test))\n",
    "print(bigram.evaluate(test))\n",
    "print(trigram.evaluate(test))"
   ]
  },
  {
   "cell_type": "markdown",
   "id": "3fa756ce",
   "metadata": {},
   "source": [
    "<a id=\"bag\"></a>\n",
    "<h2><ins>Encoding Text as a Bag of Words</ins></h2>\n",
    "\n",
    "Suppose we have text data and want to create a set of features indicating the number of times an observation’s text contains a particular word.\n",
    "\n",
    "One of the most common methods of transforming text into features is by using a bag-of-words model. Bag-of-words models output a feature for every unique word in text data, with each feature containing a count of occurrences in observations.\n",
    "\n",
    "In the real world, a single observation of text data could be the contents of an entire book. Since the bag-of-words model creates a feature for every unique word in the data, the resulting matrix can contain thousands of features. This means that the size of the matrix can sometimes become very large in memory. However, luckily we can exploit a common characteristic of bag-of-words feature matrices to reduce the amount of data we need to store.<br>\n",
    "$\\;\\;\\;\\;\\;\\;$Most words likely do not occur in most observations, and therefore bag-of words feature matrices will contain mostly 0s as values. We call these types of matrices \"sparse.\" Instead of storing all values of the matrix, we can only store nonzero values and then assume all other values are 0. This will save us memory when we have large feature matrices. One of the nice features of `CountVectorizer` is that the output is a sparse matrix by default."
   ]
  },
  {
   "cell_type": "code",
   "execution_count": 116,
   "id": "76eb9e47",
   "metadata": {},
   "outputs": [],
   "source": [
    "from sklearn.feature_extraction.text import CountVectorizer"
   ]
  },
  {
   "cell_type": "code",
   "execution_count": 117,
   "id": "8ce780a4",
   "metadata": {},
   "outputs": [
    {
     "data": {
      "text/plain": [
       "<3x8 sparse matrix of type '<class 'numpy.int64'>'\n",
       "\twith 8 stored elements in Compressed Sparse Row format>"
      ]
     },
     "execution_count": 117,
     "metadata": {},
     "output_type": "execute_result"
    }
   ],
   "source": [
    "# Create text\n",
    "text_data = np.array(['I love Brazil. Brazil!',\n",
    "                      'Sweden is best',\n",
    "                      'Germany beats both'])\n",
    "\n",
    "# Create the bag of words feature matrix\n",
    "count = CountVectorizer()\n",
    "bag_of_words = count.fit_transform(text_data)\n",
    "\n",
    "# Show feature matrix\n",
    "bag_of_words"
   ]
  },
  {
   "cell_type": "markdown",
   "id": "be0613a3",
   "metadata": {},
   "source": [
    "This output is a sparse array, which is often necessary when we have a large\n",
    "amount of text."
   ]
  },
  {
   "cell_type": "code",
   "execution_count": 118,
   "id": "6439ddef",
   "metadata": {},
   "outputs": [],
   "source": [
    "import numpy as np"
   ]
  },
  {
   "cell_type": "code",
   "execution_count": 119,
   "id": "cde59113",
   "metadata": {
    "scrolled": true
   },
   "outputs": [
    {
     "data": {
      "text/plain": [
       "array([[0, 0, 0, 2, 0, 0, 1, 0],\n",
       "       [0, 1, 0, 0, 0, 1, 0, 1],\n",
       "       [1, 0, 1, 0, 1, 0, 0, 0]], dtype=int64)"
      ]
     },
     "execution_count": 119,
     "metadata": {},
     "output_type": "execute_result"
    }
   ],
   "source": [
    "bag_of_words.toarray()"
   ]
  },
  {
   "cell_type": "markdown",
   "id": "6d386bba",
   "metadata": {},
   "source": [
    "We can use the vocabulary_ method to view the word associated with each\n",
    "feature"
   ]
  },
  {
   "cell_type": "code",
   "execution_count": 120,
   "id": "d1dd0ae5",
   "metadata": {},
   "outputs": [
    {
     "data": {
      "text/plain": [
       "array(['beats', 'best', 'both', 'brazil', 'germany', 'is', 'love',\n",
       "       'sweden'], dtype=object)"
      ]
     },
     "execution_count": 120,
     "metadata": {},
     "output_type": "execute_result"
    }
   ],
   "source": [
    "# Show feature names\n",
    "count.get_feature_names_out()"
   ]
  },
  {
   "cell_type": "code",
   "execution_count": 121,
   "id": "b331704f",
   "metadata": {},
   "outputs": [
    {
     "data": {
      "text/html": [
       "<div>\n",
       "<style scoped>\n",
       "    .dataframe tbody tr th:only-of-type {\n",
       "        vertical-align: middle;\n",
       "    }\n",
       "\n",
       "    .dataframe tbody tr th {\n",
       "        vertical-align: top;\n",
       "    }\n",
       "\n",
       "    .dataframe thead th {\n",
       "        text-align: right;\n",
       "    }\n",
       "</style>\n",
       "<table border=\"1\" class=\"dataframe\">\n",
       "  <thead>\n",
       "    <tr style=\"text-align: right;\">\n",
       "      <th></th>\n",
       "      <th>beats</th>\n",
       "      <th>best</th>\n",
       "      <th>both</th>\n",
       "      <th>brazil</th>\n",
       "      <th>germany</th>\n",
       "      <th>is</th>\n",
       "      <th>love</th>\n",
       "      <th>sweden</th>\n",
       "    </tr>\n",
       "  </thead>\n",
       "  <tbody>\n",
       "    <tr>\n",
       "      <th>0</th>\n",
       "      <td>0</td>\n",
       "      <td>0</td>\n",
       "      <td>0</td>\n",
       "      <td>2</td>\n",
       "      <td>0</td>\n",
       "      <td>0</td>\n",
       "      <td>1</td>\n",
       "      <td>0</td>\n",
       "    </tr>\n",
       "    <tr>\n",
       "      <th>1</th>\n",
       "      <td>0</td>\n",
       "      <td>1</td>\n",
       "      <td>0</td>\n",
       "      <td>0</td>\n",
       "      <td>0</td>\n",
       "      <td>1</td>\n",
       "      <td>0</td>\n",
       "      <td>1</td>\n",
       "    </tr>\n",
       "    <tr>\n",
       "      <th>2</th>\n",
       "      <td>1</td>\n",
       "      <td>0</td>\n",
       "      <td>1</td>\n",
       "      <td>0</td>\n",
       "      <td>1</td>\n",
       "      <td>0</td>\n",
       "      <td>0</td>\n",
       "      <td>0</td>\n",
       "    </tr>\n",
       "  </tbody>\n",
       "</table>\n",
       "</div>"
      ],
      "text/plain": [
       "   beats  best  both  brazil  germany  is  love  sweden\n",
       "0      0     0     0       2        0   0     1       0\n",
       "1      0     1     0       0        0   1     0       1\n",
       "2      1     0     1       0        1   0     0       0"
      ]
     },
     "execution_count": 121,
     "metadata": {},
     "output_type": "execute_result"
    }
   ],
   "source": [
    "import pandas as pd\n",
    "\n",
    "# Pandas dataframe for clarity\n",
    "pd.DataFrame(data=bag_of_words.toarray(),\n",
    "             columns=count.get_feature_names_out())"
   ]
  },
  {
   "cell_type": "markdown",
   "id": "68333788",
   "metadata": {},
   "source": [
    "`CountVectorizer` comes with a number of useful parameters to make creating bag-of-words feature matrices easy. First, while by default every feature is a word, that does not have to be the case. Instead we can set every feature to be the combination of two words (called a **2-gram**) or even three words (**3-gram**). `ngram_range` sets the minimum and maximum size of our n-grams. For example, (2,3) will return all 2-grams and 3-grams. Second, we can easily remove low-information filler words using stop_words either with a built-in list or a custom list. Finally, we can restrict the words or phrases we want to consider to a certain list of words using vocabulary. For example, we could create a bag-of-words feature matrix for only occurrences of country names."
   ]
  },
  {
   "cell_type": "code",
   "execution_count": 122,
   "id": "dd728f7e",
   "metadata": {},
   "outputs": [
    {
     "data": {
      "text/plain": [
       "array(['I love Brazil. Brazil!', 'Sweden is best', 'Germany beats both'],\n",
       "      dtype='<U22')"
      ]
     },
     "execution_count": 122,
     "metadata": {},
     "output_type": "execute_result"
    }
   ],
   "source": [
    "text_data"
   ]
  },
  {
   "cell_type": "code",
   "execution_count": 123,
   "id": "dbbfae0c",
   "metadata": {},
   "outputs": [
    {
     "data": {
      "text/plain": [
       "array([[2, 0],\n",
       "       [0, 0],\n",
       "       [0, 1]], dtype=int64)"
      ]
     },
     "execution_count": 123,
     "metadata": {},
     "output_type": "execute_result"
    }
   ],
   "source": [
    "# Create feature matrix with arguments\n",
    "count_2gram = CountVectorizer(ngram_range=(1,2),\n",
    "                              stop_words=\"english\",\n",
    "                              vocabulary=['brazil', 'germany'])\n",
    "bag = count_2gram.fit_transform(text_data)\n",
    "\n",
    "# View feature matrix\n",
    "bag.toarray()"
   ]
  },
  {
   "cell_type": "code",
   "execution_count": 124,
   "id": "f2ee8fb5",
   "metadata": {},
   "outputs": [
    {
     "data": {
      "text/plain": [
       "{'brazil': 0, 'germany': 1}"
      ]
     },
     "execution_count": 124,
     "metadata": {},
     "output_type": "execute_result"
    }
   ],
   "source": [
    "# View the 1-grams and 2-grams\n",
    "count_2gram.vocabulary_"
   ]
  },
  {
   "cell_type": "markdown",
   "id": "2f062b00",
   "metadata": {},
   "source": [
    "<a id=\"weigh\"></a>\n",
    "<h2><ins>Weighting Word Importance</ins></h2>\n",
    "\n",
    "Suppose we want a bag of words, but with words weighted by their importance to an observation.\n",
    "\n",
    "We can compare the frequency of the word in a document (a tweet, movie review, speech transcript, etc.) with the frequency of the word in all other documents using **term frequency-inverse document frequency (tf-idf)**. Scikit-learn makes this easy with `TfidfVectorizer`."
   ]
  },
  {
   "cell_type": "code",
   "execution_count": 125,
   "id": "6d4230ac",
   "metadata": {},
   "outputs": [],
   "source": [
    "from sklearn.feature_extraction.text import TfidfVectorizer"
   ]
  },
  {
   "cell_type": "code",
   "execution_count": 126,
   "id": "6d8be5bf",
   "metadata": {},
   "outputs": [
    {
     "data": {
      "text/plain": [
       "<3x8 sparse matrix of type '<class 'numpy.float64'>'\n",
       "\twith 8 stored elements in Compressed Sparse Row format>"
      ]
     },
     "execution_count": 126,
     "metadata": {},
     "output_type": "execute_result"
    }
   ],
   "source": [
    "# Create text\n",
    "text_data = np.array(['I love Brazil. Brazil!',\n",
    "                      'Sweden is best',\n",
    "                      'Germany beats both'])\n",
    "\n",
    "# Create the tf-idf feature matrix\n",
    "tfidf = TfidfVectorizer()\n",
    "feature_matrix = tfidf.fit_transform(text_data)\n",
    "\n",
    "# Show tf-idf feature matrix\n",
    "feature_matrix"
   ]
  },
  {
   "cell_type": "code",
   "execution_count": 127,
   "id": "1bc98134",
   "metadata": {},
   "outputs": [
    {
     "data": {
      "text/plain": [
       "array([[0.        , 0.        , 0.        , 0.89442719, 0.        ,\n",
       "        0.        , 0.4472136 , 0.        ],\n",
       "       [0.        , 0.57735027, 0.        , 0.        , 0.        ,\n",
       "        0.57735027, 0.        , 0.57735027],\n",
       "       [0.57735027, 0.        , 0.57735027, 0.        , 0.57735027,\n",
       "        0.        , 0.        , 0.        ]])"
      ]
     },
     "execution_count": 127,
     "metadata": {},
     "output_type": "execute_result"
    }
   ],
   "source": [
    "# Show tf-idf feature matrix as dense matrix\n",
    "feature_matrix.toarray()"
   ]
  },
  {
   "cell_type": "code",
   "execution_count": 128,
   "id": "047ea611",
   "metadata": {},
   "outputs": [
    {
     "data": {
      "text/plain": [
       "{'love': 6,\n",
       " 'brazil': 3,\n",
       " 'sweden': 7,\n",
       " 'is': 5,\n",
       " 'best': 1,\n",
       " 'germany': 4,\n",
       " 'beats': 0,\n",
       " 'both': 2}"
      ]
     },
     "execution_count": 128,
     "metadata": {},
     "output_type": "execute_result"
    }
   ],
   "source": [
    "# Show feature names\n",
    "tfidf.vocabulary_"
   ]
  },
  {
   "cell_type": "markdown",
   "id": "8ec43903",
   "metadata": {},
   "source": [
    "The more a word appears in a document, the more likely it is important to that document. For example, if the word economy appears frequently, it is evidence that the document might be about economics. We call this **term frequency (tf)**. In contrast, if a word appears in many documents, it is likely less important to any individual document. For example, if every document in some text data contains the word after then it is probably an unimportant word. We call this **document frequency (df)**.\n",
    "\n",
    "By combining these two statistics, we can assign a score to every word representing how important that word is in a document. Specifically, we multiply tf to the inverse of document frequency (idf): \n",
    "$$\\text{tf-idf(t,d)}=tf(t,d)*idf(t)$$\n",
    "where $t$ is a word and $d$ is a document. There are a number of variations in how $tf$ and $idf$ are calculated. In scikit-learn, $tf$ is simply the number of times a word appears in the document and $idf$ is calculated as: \n",
    "$$idf(t)=log\\frac{1+n_d}{1+df(d,t)}+1$$\n",
    "where $n_d$ is the number of documents and $df(d,t)$ is term, $t$’s document frequency (i.e., number of documents where the term appears). By default, scikit-learn then normalizes the $tf-idf$ vectors using the Euclidean norm (L2 norm). The higher the resulting value, the more important the word is to a document."
   ]
  },
  {
   "cell_type": "markdown",
   "id": "f8e215af",
   "metadata": {},
   "source": [
    "<a id=\"date\"></a>\n",
    "<h1 align=\"center\">HOW TO HANDLE DATES & TIMES</h1>\n",
    "\n",
    "Dates and times (datetimes) are frequently encountered during preprocessing for machine learning, whether the time of a particular sale or the year of some public health statistic.\n",
    "\n",
    "<a id=\"convert\"></a>\n",
    "<h2><ins>Converting Strings to Dates</ins></h2>\n",
    "\n",
    "Given a vector of strings representing dates and times, suppose we want to transform them into time series data. We can use pandas’ `to_datetime` with the `format` of the date and/or time specified in the format parameter. We might also want to add an argument to the `errors` parameter to handle problems. If `errors=\"coerce\"`, then any problem that occurs will not raise an error (the default behavior) but instead will set the value causing the error to NaT (i.e., a missing value)."
   ]
  },
  {
   "cell_type": "code",
   "execution_count": 129,
   "id": "d568fe39",
   "metadata": {},
   "outputs": [],
   "source": [
    "import numpy as np\n",
    "import pandas as pd"
   ]
  },
  {
   "cell_type": "code",
   "execution_count": 130,
   "id": "31bc8fed",
   "metadata": {},
   "outputs": [
    {
     "data": {
      "text/plain": [
       "[Timestamp('2005-04-03 23:35:00'),\n",
       " Timestamp('2010-05-23 00:01:00'),\n",
       " Timestamp('2009-09-04 21:09:00')]"
      ]
     },
     "execution_count": 130,
     "metadata": {},
     "output_type": "execute_result"
    }
   ],
   "source": [
    "# Create strings\n",
    "date_strings = np.array(['03-04-2005 11:35 PM',\n",
    "                         '23-05-2010 12:01 AM',\n",
    "                         '04-09-2009 09:09 PM'])\n",
    "# Convert to datetimes\n",
    "[pd.to_datetime(date, format='%d-%m-%Y %I:%M %p', errors='coerce') \n",
    " for date in date_strings]"
   ]
  },
  {
   "cell_type": "markdown",
   "id": "fe048084",
   "metadata": {},
   "source": [
    "When dates and times come as strings, we need to convert them into a data type Python can understand. There are a number of Python tools for converting strings to datetimes. One obstacle to strings representing dates and times is that the format of the strings can vary significantly between data sources. For example, one vector of dates might represent March 23rd, 2015 as \"03-23-15\" while another might use \"3|23|2015\". We can use the format parameter to specify the exact format of the string. Here are some common date and time formatting codes or view the [full list here](https://strftime.org/):\n",
    "\n",
    "|Code|Description|Example|\n",
    "|:-:|:-|:-|\n",
    "|%Y|Full year|2001|\n",
    "|%m|Month w/ zero padding|04|\n",
    "|%d|Day of the month w/ zero padding|09|\n",
    "|%I|Hour (12hr clock) w/ zero padding|02|\n",
    "|%p|AM or PM|AM|\n",
    "|%M|Minute w/ zero padding|05|\n",
    "|%S|Second w/ zero padding|09|\n"
   ]
  },
  {
   "cell_type": "markdown",
   "id": "6ee59a69",
   "metadata": {},
   "source": [
    "<a id=\"zone\"></a>\n",
    "<h2><ins>Handling Time Zones</ins></h2>\n",
    "\n",
    "If not specified, pandas objects have no time zone. However, we can add a time zone using `tz` during creation"
   ]
  },
  {
   "cell_type": "code",
   "execution_count": 131,
   "id": "06d6e917",
   "metadata": {},
   "outputs": [],
   "source": [
    "# module to get list of timezones\n",
    "from pytz import all_timezones"
   ]
  },
  {
   "cell_type": "code",
   "execution_count": 132,
   "id": "53d1967a",
   "metadata": {},
   "outputs": [
    {
     "data": {
      "text/plain": [
       "593"
      ]
     },
     "execution_count": 132,
     "metadata": {},
     "output_type": "execute_result"
    }
   ],
   "source": [
    "len(all_timezones)"
   ]
  },
  {
   "cell_type": "code",
   "execution_count": 133,
   "id": "7df5fb06",
   "metadata": {},
   "outputs": [
    {
     "data": {
      "text/plain": [
       "Timestamp('2017-05-01 06:00:00+0100', tz='Europe/London')"
      ]
     },
     "execution_count": 133,
     "metadata": {},
     "output_type": "execute_result"
    }
   ],
   "source": [
    "# Create datetime\n",
    "pd.Timestamp('2017-05-01 06:00:00', tz='Europe/London')"
   ]
  },
  {
   "cell_type": "markdown",
   "id": "154afc94",
   "metadata": {},
   "source": [
    "We can add a time zone to a previously created datetime using tz_localize."
   ]
  },
  {
   "cell_type": "code",
   "execution_count": 134,
   "id": "ecb745e8",
   "metadata": {},
   "outputs": [
    {
     "data": {
      "text/plain": [
       "Timestamp('2017-05-01 06:00:00+0100', tz='Europe/London')"
      ]
     },
     "execution_count": 134,
     "metadata": {},
     "output_type": "execute_result"
    }
   ],
   "source": [
    "# Create datetime\n",
    "date = pd.Timestamp('2017-05-01 06:00:00')\n",
    "\n",
    "# Set time zone\n",
    "date_in_london = date.tz_localize('Europe/London')\n",
    "\n",
    "# Show datetime\n",
    "date_in_london"
   ]
  },
  {
   "cell_type": "markdown",
   "id": "53a57e9b",
   "metadata": {},
   "source": [
    "We can also convert to a different time zone."
   ]
  },
  {
   "cell_type": "code",
   "execution_count": 135,
   "id": "99b4538e",
   "metadata": {},
   "outputs": [
    {
     "data": {
      "text/plain": [
       "Timestamp('2017-05-01 13:00:00+0800', tz='Australia/Perth')"
      ]
     },
     "execution_count": 135,
     "metadata": {},
     "output_type": "execute_result"
    }
   ],
   "source": [
    "# Change time zone\n",
    "date_in_london.tz_convert('Australia/Perth')"
   ]
  },
  {
   "cell_type": "code",
   "execution_count": 136,
   "id": "39a08fe4",
   "metadata": {},
   "outputs": [
    {
     "data": {
      "text/plain": [
       "0   2002-02-28 00:00:00+08:00\n",
       "1   2002-03-31 00:00:00+08:00\n",
       "2   2002-04-30 00:00:00+08:00\n",
       "dtype: datetime64[ns, Australia/Perth]"
      ]
     },
     "execution_count": 136,
     "metadata": {},
     "output_type": "execute_result"
    }
   ],
   "source": [
    "# Create three dates\n",
    "dates = pd.Series(pd.date_range('2/2/2002', periods=3, freq='M'))\n",
    "\n",
    "# Set time zone\n",
    "dates.dt.tz_localize('Australia/Perth')\n"
   ]
  },
  {
   "cell_type": "markdown",
   "id": "f2203d71",
   "metadata": {},
   "source": [
    "<a id=\"time\"></a>\n",
    "<h2><ins>Selecting Dates and Times</ins></h2>"
   ]
  },
  {
   "cell_type": "code",
   "execution_count": 137,
   "id": "82887857",
   "metadata": {},
   "outputs": [
    {
     "data": {
      "text/html": [
       "<div>\n",
       "<style scoped>\n",
       "    .dataframe tbody tr th:only-of-type {\n",
       "        vertical-align: middle;\n",
       "    }\n",
       "\n",
       "    .dataframe tbody tr th {\n",
       "        vertical-align: top;\n",
       "    }\n",
       "\n",
       "    .dataframe thead th {\n",
       "        text-align: right;\n",
       "    }\n",
       "</style>\n",
       "<table border=\"1\" class=\"dataframe\">\n",
       "  <thead>\n",
       "    <tr style=\"text-align: right;\">\n",
       "      <th></th>\n",
       "      <th>Dates</th>\n",
       "    </tr>\n",
       "  </thead>\n",
       "  <tbody>\n",
       "    <tr>\n",
       "      <th>0</th>\n",
       "      <td>2001-01-01 00:00:00</td>\n",
       "    </tr>\n",
       "    <tr>\n",
       "      <th>1</th>\n",
       "      <td>2001-01-01 01:00:00</td>\n",
       "    </tr>\n",
       "    <tr>\n",
       "      <th>2</th>\n",
       "      <td>2001-01-01 02:00:00</td>\n",
       "    </tr>\n",
       "    <tr>\n",
       "      <th>3</th>\n",
       "      <td>2001-01-01 03:00:00</td>\n",
       "    </tr>\n",
       "    <tr>\n",
       "      <th>4</th>\n",
       "      <td>2001-01-01 04:00:00</td>\n",
       "    </tr>\n",
       "  </tbody>\n",
       "</table>\n",
       "</div>"
      ],
      "text/plain": [
       "                Dates\n",
       "0 2001-01-01 00:00:00\n",
       "1 2001-01-01 01:00:00\n",
       "2 2001-01-01 02:00:00\n",
       "3 2001-01-01 03:00:00\n",
       "4 2001-01-01 04:00:00"
      ]
     },
     "execution_count": 137,
     "metadata": {},
     "output_type": "execute_result"
    }
   ],
   "source": [
    "data = pd.date_range('1/1/2001', periods=100000, freq='H')\n",
    "column = 'Dates'\n",
    "df = pd.DataFrame(data, columns=[column])\n",
    "df.head()"
   ]
  },
  {
   "cell_type": "code",
   "execution_count": 138,
   "id": "2163f398",
   "metadata": {},
   "outputs": [
    {
     "data": {
      "text/html": [
       "<div>\n",
       "<style scoped>\n",
       "    .dataframe tbody tr th:only-of-type {\n",
       "        vertical-align: middle;\n",
       "    }\n",
       "\n",
       "    .dataframe tbody tr th {\n",
       "        vertical-align: top;\n",
       "    }\n",
       "\n",
       "    .dataframe thead th {\n",
       "        text-align: right;\n",
       "    }\n",
       "</style>\n",
       "<table border=\"1\" class=\"dataframe\">\n",
       "  <thead>\n",
       "    <tr style=\"text-align: right;\">\n",
       "      <th></th>\n",
       "      <th>Dates</th>\n",
       "    </tr>\n",
       "  </thead>\n",
       "  <tbody>\n",
       "    <tr>\n",
       "      <th>8762</th>\n",
       "      <td>2002-01-01 02:00:00</td>\n",
       "    </tr>\n",
       "    <tr>\n",
       "      <th>8763</th>\n",
       "      <td>2002-01-01 03:00:00</td>\n",
       "    </tr>\n",
       "    <tr>\n",
       "      <th>8764</th>\n",
       "      <td>2002-01-01 04:00:00</td>\n",
       "    </tr>\n",
       "  </tbody>\n",
       "</table>\n",
       "</div>"
      ],
      "text/plain": [
       "                   Dates\n",
       "8762 2002-01-01 02:00:00\n",
       "8763 2002-01-01 03:00:00\n",
       "8764 2002-01-01 04:00:00"
      ]
     },
     "execution_count": 138,
     "metadata": {},
     "output_type": "execute_result"
    }
   ],
   "source": [
    "# Select observations between two datetimes\n",
    "df[(df['Dates'] > '2002-1-1 01:00:00') &\n",
    "   (df['Dates'] <= '2002-1-1 04:00:00')]"
   ]
  },
  {
   "cell_type": "markdown",
   "id": "12da2c00",
   "metadata": {},
   "source": [
    "Alternatively,"
   ]
  },
  {
   "cell_type": "code",
   "execution_count": 139,
   "id": "683f01e3",
   "metadata": {},
   "outputs": [
    {
     "data": {
      "text/html": [
       "<div>\n",
       "<style scoped>\n",
       "    .dataframe tbody tr th:only-of-type {\n",
       "        vertical-align: middle;\n",
       "    }\n",
       "\n",
       "    .dataframe tbody tr th {\n",
       "        vertical-align: top;\n",
       "    }\n",
       "\n",
       "    .dataframe thead th {\n",
       "        text-align: right;\n",
       "    }\n",
       "</style>\n",
       "<table border=\"1\" class=\"dataframe\">\n",
       "  <thead>\n",
       "    <tr style=\"text-align: right;\">\n",
       "      <th></th>\n",
       "      <th>index</th>\n",
       "    </tr>\n",
       "    <tr>\n",
       "      <th>Dates</th>\n",
       "      <th></th>\n",
       "    </tr>\n",
       "  </thead>\n",
       "  <tbody>\n",
       "    <tr>\n",
       "      <th>2002-01-01 02:00:00</th>\n",
       "      <td>8762</td>\n",
       "    </tr>\n",
       "    <tr>\n",
       "      <th>2002-01-01 03:00:00</th>\n",
       "      <td>8763</td>\n",
       "    </tr>\n",
       "    <tr>\n",
       "      <th>2002-01-01 04:00:00</th>\n",
       "      <td>8764</td>\n",
       "    </tr>\n",
       "  </tbody>\n",
       "</table>\n",
       "</div>"
      ],
      "text/plain": [
       "                     index\n",
       "Dates                     \n",
       "2002-01-01 02:00:00   8762\n",
       "2002-01-01 03:00:00   8763\n",
       "2002-01-01 04:00:00   8764"
      ]
     },
     "execution_count": 139,
     "metadata": {},
     "output_type": "execute_result"
    }
   ],
   "source": [
    "# be mindful of what is included and excluded in this range\n",
    "df = df.reset_index().set_index('Dates',drop=True)\n",
    "df.loc['2002-1-1 01:00:01':'2002-1-1 04:00:00']"
   ]
  },
  {
   "cell_type": "markdown",
   "id": "08ae94bf",
   "metadata": {},
   "source": [
    "<a id=\"break\"></a>\n",
    "<h2><ins>Breaking Up Time Data into Multiple Features</ins></h2>\n",
    "\n",
    "Suppose we have a column of dates and times and want to create features from this. Sometimes it can be useful to break up a column of dates into components. For example, we might want a feature that just includes the year of the observation or we might want only to consider the month of some observation so we can compare them regardless of year."
   ]
  },
  {
   "cell_type": "code",
   "execution_count": 140,
   "id": "cafc8b4e",
   "metadata": {},
   "outputs": [
    {
     "data": {
      "text/html": [
       "<div>\n",
       "<style scoped>\n",
       "    .dataframe tbody tr th:only-of-type {\n",
       "        vertical-align: middle;\n",
       "    }\n",
       "\n",
       "    .dataframe tbody tr th {\n",
       "        vertical-align: top;\n",
       "    }\n",
       "\n",
       "    .dataframe thead th {\n",
       "        text-align: right;\n",
       "    }\n",
       "</style>\n",
       "<table border=\"1\" class=\"dataframe\">\n",
       "  <thead>\n",
       "    <tr style=\"text-align: right;\">\n",
       "      <th></th>\n",
       "      <th>date</th>\n",
       "      <th>year</th>\n",
       "      <th>month</th>\n",
       "      <th>day</th>\n",
       "      <th>hour</th>\n",
       "      <th>minute</th>\n",
       "      <th>seconds</th>\n",
       "      <th>Weekday</th>\n",
       "    </tr>\n",
       "  </thead>\n",
       "  <tbody>\n",
       "    <tr>\n",
       "      <th>0</th>\n",
       "      <td>2001-01-07</td>\n",
       "      <td>2001</td>\n",
       "      <td>1</td>\n",
       "      <td>7</td>\n",
       "      <td>0</td>\n",
       "      <td>0</td>\n",
       "      <td>0</td>\n",
       "      <td>Sunday</td>\n",
       "    </tr>\n",
       "    <tr>\n",
       "      <th>1</th>\n",
       "      <td>2001-01-14</td>\n",
       "      <td>2001</td>\n",
       "      <td>1</td>\n",
       "      <td>14</td>\n",
       "      <td>0</td>\n",
       "      <td>0</td>\n",
       "      <td>0</td>\n",
       "      <td>Sunday</td>\n",
       "    </tr>\n",
       "    <tr>\n",
       "      <th>2</th>\n",
       "      <td>2001-01-21</td>\n",
       "      <td>2001</td>\n",
       "      <td>1</td>\n",
       "      <td>21</td>\n",
       "      <td>0</td>\n",
       "      <td>0</td>\n",
       "      <td>0</td>\n",
       "      <td>Sunday</td>\n",
       "    </tr>\n",
       "    <tr>\n",
       "      <th>3</th>\n",
       "      <td>2001-01-28</td>\n",
       "      <td>2001</td>\n",
       "      <td>1</td>\n",
       "      <td>28</td>\n",
       "      <td>0</td>\n",
       "      <td>0</td>\n",
       "      <td>0</td>\n",
       "      <td>Sunday</td>\n",
       "    </tr>\n",
       "    <tr>\n",
       "      <th>4</th>\n",
       "      <td>2001-02-04</td>\n",
       "      <td>2001</td>\n",
       "      <td>2</td>\n",
       "      <td>4</td>\n",
       "      <td>0</td>\n",
       "      <td>0</td>\n",
       "      <td>0</td>\n",
       "      <td>Sunday</td>\n",
       "    </tr>\n",
       "  </tbody>\n",
       "</table>\n",
       "</div>"
      ],
      "text/plain": [
       "        date  year  month  day  hour  minute  seconds Weekday\n",
       "0 2001-01-07  2001      1    7     0       0        0  Sunday\n",
       "1 2001-01-14  2001      1   14     0       0        0  Sunday\n",
       "2 2001-01-21  2001      1   21     0       0        0  Sunday\n",
       "3 2001-01-28  2001      1   28     0       0        0  Sunday\n",
       "4 2001-02-04  2001      2    4     0       0        0  Sunday"
      ]
     },
     "execution_count": 140,
     "metadata": {},
     "output_type": "execute_result"
    }
   ],
   "source": [
    "# Create data frame\n",
    "df = pd.DataFrame()\n",
    "\n",
    "# Create five dates\n",
    "df['date'] = pd.date_range('1/1/2001', periods=150, freq='W')\n",
    "\n",
    "# Create features for year, month, day, hour, and minute\n",
    "df['year'] = df['date'].dt.year\n",
    "df['month'] = df['date'].dt.month\n",
    "df['day'] = df['date'].dt.day\n",
    "df['hour'] = df['date'].dt.hour\n",
    "df['minute'] = df['date'].dt.minute\n",
    "df['seconds'] = df['date'].dt.second\n",
    "\n",
    "# Using the strftime() function\n",
    "df['Weekday'] = df['date'].dt.strftime(\"%A\")\n",
    "\n",
    "# Show three rows\n",
    "df.head()"
   ]
  },
  {
   "cell_type": "markdown",
   "id": "33e045bc",
   "metadata": {},
   "source": [
    "<a id=\"diff\"></a>\n",
    "<h2><ins>Calculating the Difference Between Dates</ins></h2>\n",
    "\n",
    "Suppose we have two datetime features and want to calculate the time between them for each observation.\n",
    "\n",
    "There are times when the feature we want is the change (delta) between two points in time. For example, we might have the dates a customer checks in and checks out of a hotel, but the feature we want is the duration of his stay. Pandas makes this calculation easy using the `TimeDelta` data type.\n",
    "[Pandas TimeDelta Documentation](https://pandas.pydata.org/pandas-docs/stable/user_guide/timedeltas.html)"
   ]
  },
  {
   "cell_type": "code",
   "execution_count": 141,
   "id": "47aa5fae",
   "metadata": {},
   "outputs": [
    {
     "data": {
      "text/plain": [
       "0   0 days\n",
       "1   2 days\n",
       "dtype: timedelta64[ns]"
      ]
     },
     "execution_count": 141,
     "metadata": {},
     "output_type": "execute_result"
    }
   ],
   "source": [
    "# Create data frame\n",
    "df = pd.DataFrame()\n",
    "\n",
    "# Create two datetime features\n",
    "df['Arrived'] = [pd.Timestamp('01-01-2017'), pd.Timestamp('01-04-2017')]\n",
    "df['Left'] = [pd.Timestamp('01-01-2017'), pd.Timestamp('01-06-2017')]\n",
    "\n",
    "# Calculate duration between features\n",
    "df['Left'] - df['Arrived']"
   ]
  },
  {
   "cell_type": "code",
   "execution_count": 142,
   "id": "9e6dc751",
   "metadata": {},
   "outputs": [
    {
     "data": {
      "text/plain": [
       "0    0\n",
       "1    2\n",
       "dtype: int64"
      ]
     },
     "execution_count": 142,
     "metadata": {},
     "output_type": "execute_result"
    }
   ],
   "source": [
    "# Calculate duration between features\n",
    "pd.Series(delta.days for delta in (df['Left'] - df['Arrived']))"
   ]
  },
  {
   "cell_type": "code",
   "execution_count": 143,
   "id": "f9b78266",
   "metadata": {},
   "outputs": [
    {
     "data": {
      "text/html": [
       "<div>\n",
       "<style scoped>\n",
       "    .dataframe tbody tr th:only-of-type {\n",
       "        vertical-align: middle;\n",
       "    }\n",
       "\n",
       "    .dataframe tbody tr th {\n",
       "        vertical-align: top;\n",
       "    }\n",
       "\n",
       "    .dataframe thead th {\n",
       "        text-align: right;\n",
       "    }\n",
       "</style>\n",
       "<table border=\"1\" class=\"dataframe\">\n",
       "  <thead>\n",
       "    <tr style=\"text-align: right;\">\n",
       "      <th></th>\n",
       "      <th>Arrived</th>\n",
       "      <th>Left</th>\n",
       "      <th>test</th>\n",
       "      <th>diff</th>\n",
       "      <th>diff2</th>\n",
       "    </tr>\n",
       "  </thead>\n",
       "  <tbody>\n",
       "    <tr>\n",
       "      <th>0</th>\n",
       "      <td>2017-01-01</td>\n",
       "      <td>2017-01-01</td>\n",
       "      <td>0 days</td>\n",
       "      <td>0</td>\n",
       "      <td>0</td>\n",
       "    </tr>\n",
       "    <tr>\n",
       "      <th>1</th>\n",
       "      <td>2017-01-04</td>\n",
       "      <td>2017-01-06</td>\n",
       "      <td>2 days</td>\n",
       "      <td>2</td>\n",
       "      <td>2</td>\n",
       "    </tr>\n",
       "  </tbody>\n",
       "</table>\n",
       "</div>"
      ],
      "text/plain": [
       "     Arrived       Left   test  diff  diff2\n",
       "0 2017-01-01 2017-01-01 0 days     0      0\n",
       "1 2017-01-04 2017-01-06 2 days     2      2"
      ]
     },
     "execution_count": 143,
     "metadata": {},
     "output_type": "execute_result"
    }
   ],
   "source": [
    "df['test'] = df['Left'] - df['Arrived']\n",
    "df['diff'] = pd.Series(delta.days for delta in (df['Left'] - df['Arrived']))\n",
    "df['diff2'] = df['test'].apply(lambda x: x.days)\n",
    "df"
   ]
  },
  {
   "cell_type": "code",
   "execution_count": 144,
   "id": "6d09ec48",
   "metadata": {},
   "outputs": [
    {
     "name": "stdout",
     "output_type": "stream",
     "text": [
      "<class 'pandas.core.frame.DataFrame'>\n",
      "RangeIndex: 2 entries, 0 to 1\n",
      "Data columns (total 5 columns):\n",
      " #   Column   Non-Null Count  Dtype          \n",
      "---  ------   --------------  -----          \n",
      " 0   Arrived  2 non-null      datetime64[ns] \n",
      " 1   Left     2 non-null      datetime64[ns] \n",
      " 2   test     2 non-null      timedelta64[ns]\n",
      " 3   diff     2 non-null      int64          \n",
      " 4   diff2    2 non-null      int64          \n",
      "dtypes: datetime64[ns](2), int64(2), timedelta64[ns](1)\n",
      "memory usage: 208.0 bytes\n"
     ]
    }
   ],
   "source": [
    "df.info()"
   ]
  },
  {
   "cell_type": "markdown",
   "id": "5275d17e",
   "metadata": {},
   "source": [
    "<a id=\"week\"></a>\n",
    "<h2><ins>Encoding Days of the Week</ins></h2>"
   ]
  },
  {
   "cell_type": "code",
   "execution_count": 145,
   "id": "d46816ac",
   "metadata": {},
   "outputs": [
    {
     "data": {
      "text/html": [
       "<div>\n",
       "<style scoped>\n",
       "    .dataframe tbody tr th:only-of-type {\n",
       "        vertical-align: middle;\n",
       "    }\n",
       "\n",
       "    .dataframe tbody tr th {\n",
       "        vertical-align: top;\n",
       "    }\n",
       "\n",
       "    .dataframe thead th {\n",
       "        text-align: right;\n",
       "    }\n",
       "</style>\n",
       "<table border=\"1\" class=\"dataframe\">\n",
       "  <thead>\n",
       "    <tr style=\"text-align: right;\">\n",
       "      <th></th>\n",
       "      <th>Arrived</th>\n",
       "      <th>Left</th>\n",
       "      <th>test</th>\n",
       "      <th>diff</th>\n",
       "      <th>diff2</th>\n",
       "      <th>Weekday</th>\n",
       "      <th>Weekday_number</th>\n",
       "    </tr>\n",
       "  </thead>\n",
       "  <tbody>\n",
       "    <tr>\n",
       "      <th>0</th>\n",
       "      <td>2017-01-01</td>\n",
       "      <td>2017-01-01</td>\n",
       "      <td>0 days</td>\n",
       "      <td>0</td>\n",
       "      <td>0</td>\n",
       "      <td>Sunday</td>\n",
       "      <td>6</td>\n",
       "    </tr>\n",
       "    <tr>\n",
       "      <th>1</th>\n",
       "      <td>2017-01-04</td>\n",
       "      <td>2017-01-06</td>\n",
       "      <td>2 days</td>\n",
       "      <td>2</td>\n",
       "      <td>2</td>\n",
       "      <td>Wednesday</td>\n",
       "      <td>2</td>\n",
       "    </tr>\n",
       "  </tbody>\n",
       "</table>\n",
       "</div>"
      ],
      "text/plain": [
       "     Arrived       Left   test  diff  diff2    Weekday  Weekday_number\n",
       "0 2017-01-01 2017-01-01 0 days     0      0     Sunday               6\n",
       "1 2017-01-04 2017-01-06 2 days     2      2  Wednesday               2"
      ]
     },
     "execution_count": 145,
     "metadata": {},
     "output_type": "execute_result"
    }
   ],
   "source": [
    "# Show days of the week\n",
    "df['Weekday'] = df['Arrived'].dt.day_name()\n",
    "df['Weekday_number'] = df['Arrived'].dt.weekday\n",
    "df"
   ]
  },
  {
   "cell_type": "code",
   "execution_count": 146,
   "id": "7158b33e",
   "metadata": {},
   "outputs": [
    {
     "data": {
      "text/plain": [
       "0    Thursday\n",
       "1      Sunday\n",
       "2     Tuesday\n",
       "dtype: object"
      ]
     },
     "execution_count": 146,
     "metadata": {},
     "output_type": "execute_result"
    }
   ],
   "source": [
    "# Create dates\n",
    "dates = pd.Series(pd.date_range(\"2/2/2002\", periods=3, freq=\"M\"))\n",
    "# Show days of the week\n",
    "dates.dt.day_name()"
   ]
  },
  {
   "cell_type": "markdown",
   "id": "303cf018",
   "metadata": {},
   "source": [
    "<a id=\"lag\"></a>\n",
    "<h2><ins>Creating a Lagged Feature</ins></h2>\n",
    "\n",
    "Very often data is based on regularly spaced time periods (e.g., every day, every hour, every three hours) and we are interested in using values in the past to make predictions (this is often called lagging a feature). For example, we might want to predict a stock’s price using the price it was the day before. With pandas we can use `shift` to lag values by one row, creating a new feature containing past values."
   ]
  },
  {
   "cell_type": "code",
   "execution_count": 147,
   "id": "eb344aa4",
   "metadata": {},
   "outputs": [
    {
     "data": {
      "text/html": [
       "<div>\n",
       "<style scoped>\n",
       "    .dataframe tbody tr th:only-of-type {\n",
       "        vertical-align: middle;\n",
       "    }\n",
       "\n",
       "    .dataframe tbody tr th {\n",
       "        vertical-align: top;\n",
       "    }\n",
       "\n",
       "    .dataframe thead th {\n",
       "        text-align: right;\n",
       "    }\n",
       "</style>\n",
       "<table border=\"1\" class=\"dataframe\">\n",
       "  <thead>\n",
       "    <tr style=\"text-align: right;\">\n",
       "      <th></th>\n",
       "      <th>dates</th>\n",
       "      <th>stock_price</th>\n",
       "      <th>Lag1</th>\n",
       "      <th>Lag2</th>\n",
       "    </tr>\n",
       "  </thead>\n",
       "  <tbody>\n",
       "    <tr>\n",
       "      <th>0</th>\n",
       "      <td>2001-01-01</td>\n",
       "      <td>1.1</td>\n",
       "      <td>NaN</td>\n",
       "      <td>NaN</td>\n",
       "    </tr>\n",
       "    <tr>\n",
       "      <th>1</th>\n",
       "      <td>2001-01-02</td>\n",
       "      <td>2.2</td>\n",
       "      <td>1.1</td>\n",
       "      <td>NaN</td>\n",
       "    </tr>\n",
       "    <tr>\n",
       "      <th>2</th>\n",
       "      <td>2001-01-03</td>\n",
       "      <td>3.3</td>\n",
       "      <td>2.2</td>\n",
       "      <td>1.1</td>\n",
       "    </tr>\n",
       "    <tr>\n",
       "      <th>3</th>\n",
       "      <td>2001-01-04</td>\n",
       "      <td>4.4</td>\n",
       "      <td>3.3</td>\n",
       "      <td>2.2</td>\n",
       "    </tr>\n",
       "    <tr>\n",
       "      <th>4</th>\n",
       "      <td>2001-01-05</td>\n",
       "      <td>5.5</td>\n",
       "      <td>4.4</td>\n",
       "      <td>3.3</td>\n",
       "    </tr>\n",
       "  </tbody>\n",
       "</table>\n",
       "</div>"
      ],
      "text/plain": [
       "       dates  stock_price  Lag1  Lag2\n",
       "0 2001-01-01          1.1   NaN   NaN\n",
       "1 2001-01-02          2.2   1.1   NaN\n",
       "2 2001-01-03          3.3   2.2   1.1\n",
       "3 2001-01-04          4.4   3.3   2.2\n",
       "4 2001-01-05          5.5   4.4   3.3"
      ]
     },
     "execution_count": 147,
     "metadata": {},
     "output_type": "execute_result"
    }
   ],
   "source": [
    "# Create data frame\n",
    "df = pd.DataFrame()\n",
    "\n",
    "# Create data\n",
    "df[\"dates\"] = pd.date_range(\"1/1/2001\", periods=5, freq=\"D\")\n",
    "df[\"stock_price\"] = [1.1,2.2,3.3,4.4,5.5]\n",
    "\n",
    "# Lagged values by one row\n",
    "df[\"Lag1\"] = df[\"stock_price\"].shift(1)\n",
    "df[\"Lag2\"] = df[\"stock_price\"].shift(2)\n",
    "\n",
    "# Show data frame\n",
    "df"
   ]
  },
  {
   "cell_type": "markdown",
   "id": "8beb6b97",
   "metadata": {},
   "source": [
    "<a id=\"roll\"></a>\n",
    "<h2><ins> Using Rolling Time Windows</ins></h2>\n",
    "\n",
    "Rolling (also called moving) time windows are conceptually simple. Imagine we have monthly observations for a stock’s price. It is often useful to have a time window of a certain number of months and then move over the observations calculating a statistic for all observations in the time window. For example, if we have a time window of three months and we want a rolling mean, we would calculate:\n",
    "1. mean(January, February, March)\n",
    "2. mean(February, March, April)\n",
    "3. mean(March, April, May)\n",
    "4. etc.\n",
    "Another way to put it: our three-month time window “walks” over the observations, calculating the window’s mean at each step.\n",
    "\n",
    "Pandas’ rolling allows us to specify the size of the window using window and then quickly calculate some common statistics, including the max value (`max()`), mean value (`mean()`), count of values (`count()`), and rolling correlation (`corr()`). Rolling means are often used to smooth out time series data because using the mean of the entire time window dampens the effect of short-term fluctuations."
   ]
  },
  {
   "cell_type": "code",
   "execution_count": 148,
   "id": "ab545fbf",
   "metadata": {},
   "outputs": [
    {
     "data": {
      "text/html": [
       "<div>\n",
       "<style scoped>\n",
       "    .dataframe tbody tr th:only-of-type {\n",
       "        vertical-align: middle;\n",
       "    }\n",
       "\n",
       "    .dataframe tbody tr th {\n",
       "        vertical-align: top;\n",
       "    }\n",
       "\n",
       "    .dataframe thead th {\n",
       "        text-align: right;\n",
       "    }\n",
       "</style>\n",
       "<table border=\"1\" class=\"dataframe\">\n",
       "  <thead>\n",
       "    <tr style=\"text-align: right;\">\n",
       "      <th></th>\n",
       "      <th>Stock_Price</th>\n",
       "      <th>MA(2)</th>\n",
       "    </tr>\n",
       "  </thead>\n",
       "  <tbody>\n",
       "    <tr>\n",
       "      <th>2010-01-31</th>\n",
       "      <td>1</td>\n",
       "      <td>NaN</td>\n",
       "    </tr>\n",
       "    <tr>\n",
       "      <th>2010-02-28</th>\n",
       "      <td>2</td>\n",
       "      <td>1.5</td>\n",
       "    </tr>\n",
       "    <tr>\n",
       "      <th>2010-03-31</th>\n",
       "      <td>3</td>\n",
       "      <td>2.5</td>\n",
       "    </tr>\n",
       "    <tr>\n",
       "      <th>2010-04-30</th>\n",
       "      <td>4</td>\n",
       "      <td>3.5</td>\n",
       "    </tr>\n",
       "    <tr>\n",
       "      <th>2010-05-31</th>\n",
       "      <td>5</td>\n",
       "      <td>4.5</td>\n",
       "    </tr>\n",
       "  </tbody>\n",
       "</table>\n",
       "</div>"
      ],
      "text/plain": [
       "            Stock_Price  MA(2)\n",
       "2010-01-31            1    NaN\n",
       "2010-02-28            2    1.5\n",
       "2010-03-31            3    2.5\n",
       "2010-04-30            4    3.5\n",
       "2010-05-31            5    4.5"
      ]
     },
     "execution_count": 148,
     "metadata": {},
     "output_type": "execute_result"
    }
   ],
   "source": [
    "# Create datetimes\n",
    "time_index = pd.date_range(\"01/01/2010\", periods=5, freq=\"M\")\n",
    "# Create data frame, set index\n",
    "df = pd.DataFrame(index=time_index)\n",
    "\n",
    "# Create feature\n",
    "df[\"Stock_Price\"] = [1,2,3,4,5]\n",
    "\n",
    "# Calculate rolling mean\n",
    "df['MA(2)'] = df.rolling(window=2).mean()\n",
    "df"
   ]
  },
  {
   "cell_type": "markdown",
   "id": "825a9ba8",
   "metadata": {},
   "source": [
    "<a id=\"miss\"></a>\n",
    "<h2><ins> Handling Missing Data in Time Series</ins></h2>\n",
    "\n",
    "In addition to the missing data strategies previously discussed in the 'Data Cleaning' notebook, when we have time series data we can use interpolation to fill in gaps caused by missing values.\n",
    "\n",
    "Interpolation is a technique for filling in gaps caused by missing values by, in effect, drawing a line or curve between the known values bordering the gap and using that line or curve to predict reasonable values. Interpolation can be particularly useful when the time intervals between are constant, the data is not prone to noisy fluctuations, and the gaps caused by missing values are small.<br>\n",
    "$\\;\\;\\;\\;\\;\\;$If we believe the line between the two known points is nonlinear, we can use interpolate’s `method` to specify the interpolation method (e.g. `method='quadratic'`). Finally, there might be cases when we have large gaps of missing values and do not want to interpolate values across the entire gap. In these cases we can use `limit` to restrict the number of interpolated values and `limit_direction` to set whether to interpolate values forward from at the last known value before the gap or vice versa\n",
    "\n",
    "Alternatively, we can replace missing values with the last known value (i.e., forward-filling) or with the latest known value (i.e., backfilling). Back-filling and forward-filling can be thought of as a form of naive interpolation, where we draw a flat line from a known value and use it to fill in missing values. One (minor) advantage back- and forward-filling have over interpolation is the lack of the need for known values on both sides of missing value(s)."
   ]
  },
  {
   "cell_type": "code",
   "execution_count": 149,
   "id": "a342e63c",
   "metadata": {},
   "outputs": [
    {
     "data": {
      "text/html": [
       "<div>\n",
       "<style scoped>\n",
       "    .dataframe tbody tr th:only-of-type {\n",
       "        vertical-align: middle;\n",
       "    }\n",
       "\n",
       "    .dataframe tbody tr th {\n",
       "        vertical-align: top;\n",
       "    }\n",
       "\n",
       "    .dataframe thead th {\n",
       "        text-align: right;\n",
       "    }\n",
       "</style>\n",
       "<table border=\"1\" class=\"dataframe\">\n",
       "  <thead>\n",
       "    <tr style=\"text-align: right;\">\n",
       "      <th></th>\n",
       "      <th>Sales</th>\n",
       "    </tr>\n",
       "  </thead>\n",
       "  <tbody>\n",
       "    <tr>\n",
       "      <th>2010-01-31</th>\n",
       "      <td>1.0</td>\n",
       "    </tr>\n",
       "    <tr>\n",
       "      <th>2010-02-28</th>\n",
       "      <td>2.0</td>\n",
       "    </tr>\n",
       "    <tr>\n",
       "      <th>2010-03-31</th>\n",
       "      <td>NaN</td>\n",
       "    </tr>\n",
       "    <tr>\n",
       "      <th>2010-04-30</th>\n",
       "      <td>NaN</td>\n",
       "    </tr>\n",
       "    <tr>\n",
       "      <th>2010-05-31</th>\n",
       "      <td>5.0</td>\n",
       "    </tr>\n",
       "  </tbody>\n",
       "</table>\n",
       "</div>"
      ],
      "text/plain": [
       "            Sales\n",
       "2010-01-31    1.0\n",
       "2010-02-28    2.0\n",
       "2010-03-31    NaN\n",
       "2010-04-30    NaN\n",
       "2010-05-31    5.0"
      ]
     },
     "execution_count": 149,
     "metadata": {},
     "output_type": "execute_result"
    }
   ],
   "source": [
    "# Create date\n",
    "time_index = pd.date_range(\"01/01/2010\", periods=5, freq=\"M\")\n",
    "\n",
    "# Create data frame, set index\n",
    "df = pd.DataFrame(index=time_index)\n",
    "\n",
    "# Create feature with a gap of missing values\n",
    "df[\"Sales\"] = [1.0,2.0,np.nan,np.nan,5.0]\n",
    "df"
   ]
  },
  {
   "cell_type": "code",
   "execution_count": 150,
   "id": "3226da08",
   "metadata": {},
   "outputs": [
    {
     "data": {
      "text/html": [
       "<div>\n",
       "<style scoped>\n",
       "    .dataframe tbody tr th:only-of-type {\n",
       "        vertical-align: middle;\n",
       "    }\n",
       "\n",
       "    .dataframe tbody tr th {\n",
       "        vertical-align: top;\n",
       "    }\n",
       "\n",
       "    .dataframe thead th {\n",
       "        text-align: right;\n",
       "    }\n",
       "</style>\n",
       "<table border=\"1\" class=\"dataframe\">\n",
       "  <thead>\n",
       "    <tr style=\"text-align: right;\">\n",
       "      <th></th>\n",
       "      <th>Sales</th>\n",
       "      <th>interpol_linear</th>\n",
       "      <th>Sales_ffill</th>\n",
       "      <th>Sales_bfill</th>\n",
       "      <th>interpol_quadratic</th>\n",
       "      <th>limits</th>\n",
       "    </tr>\n",
       "  </thead>\n",
       "  <tbody>\n",
       "    <tr>\n",
       "      <th>2010-01-31</th>\n",
       "      <td>1.0</td>\n",
       "      <td>1.0</td>\n",
       "      <td>1.0</td>\n",
       "      <td>1.0</td>\n",
       "      <td>1.000</td>\n",
       "      <td>1.0</td>\n",
       "    </tr>\n",
       "    <tr>\n",
       "      <th>2010-02-28</th>\n",
       "      <td>2.0</td>\n",
       "      <td>2.0</td>\n",
       "      <td>2.0</td>\n",
       "      <td>2.0</td>\n",
       "      <td>2.000</td>\n",
       "      <td>2.0</td>\n",
       "    </tr>\n",
       "    <tr>\n",
       "      <th>2010-03-31</th>\n",
       "      <td>NaN</td>\n",
       "      <td>3.0</td>\n",
       "      <td>2.0</td>\n",
       "      <td>5.0</td>\n",
       "      <td>3.060</td>\n",
       "      <td>3.0</td>\n",
       "    </tr>\n",
       "    <tr>\n",
       "      <th>2010-04-30</th>\n",
       "      <td>NaN</td>\n",
       "      <td>4.0</td>\n",
       "      <td>2.0</td>\n",
       "      <td>5.0</td>\n",
       "      <td>4.038</td>\n",
       "      <td>NaN</td>\n",
       "    </tr>\n",
       "    <tr>\n",
       "      <th>2010-05-31</th>\n",
       "      <td>5.0</td>\n",
       "      <td>5.0</td>\n",
       "      <td>5.0</td>\n",
       "      <td>5.0</td>\n",
       "      <td>5.000</td>\n",
       "      <td>5.0</td>\n",
       "    </tr>\n",
       "  </tbody>\n",
       "</table>\n",
       "</div>"
      ],
      "text/plain": [
       "            Sales  interpol_linear  Sales_ffill  Sales_bfill  \\\n",
       "2010-01-31    1.0              1.0          1.0          1.0   \n",
       "2010-02-28    2.0              2.0          2.0          2.0   \n",
       "2010-03-31    NaN              3.0          2.0          5.0   \n",
       "2010-04-30    NaN              4.0          2.0          5.0   \n",
       "2010-05-31    5.0              5.0          5.0          5.0   \n",
       "\n",
       "            interpol_quadratic  limits  \n",
       "2010-01-31               1.000     1.0  \n",
       "2010-02-28               2.000     2.0  \n",
       "2010-03-31               3.060     3.0  \n",
       "2010-04-30               4.038     NaN  \n",
       "2010-05-31               5.000     5.0  "
      ]
     },
     "execution_count": 150,
     "metadata": {},
     "output_type": "execute_result"
    }
   ],
   "source": [
    "df['interpol_linear'] = df['Sales'].interpolate()\n",
    "df['Sales_ffill'] = df['Sales'].ffill()\n",
    "df['Sales_bfill'] = df['Sales'].bfill()\n",
    "df['interpol_quadratic'] = df['Sales'].interpolate(method=\"quadratic\")\n",
    "df['limits'] = df['Sales'].interpolate(limit=1, limit_direction=\"forward\")\n",
    "df.round(3)"
   ]
  },
  {
   "cell_type": "markdown",
   "id": "192dd714",
   "metadata": {},
   "source": [
    "<a id=\"how\"></a>\n",
    "<h1 align=\"center\">HOW TO SAVE AND LOAD DATA TRANSFORMS</h1>\n",
    "\n",
    "It is critical that any data preparation performed on a training dataset is also performed on a new dataset in the future. This may include a test dataset when evaluating a model or new data from the domain when using a model to make predictions. Typically, the model fit on the training dataset is saved for later use. The correct solution to preparing new data for the model in the future is to also save any data preparation objects, like data scaling methods, to file along with the model."
   ]
  },
  {
   "cell_type": "markdown",
   "id": "cc1b638b",
   "metadata": {},
   "source": [
    "<a id=\"prep\"></a>\n",
    "<h2><ins>Challenge of Preparing New Data for a Model</ins></h2>\n",
    "\n",
    "Each input variable in a dataset may have different units. For example, one variable may be in inches, another in miles, another in days, and so on. As such, it is often important to scale data prior to fitting a model. This is particularly important for models that use a weighted sum of the input or distance measures like logistic regression, neural networks, and k-nearest neighbors. This is because variables with larger values or ranges may dominate or wash out the effects of variables with smaller values or ranges.\n",
    "\n",
    "Scaling techniques, such as normalization or standardization, have the effect of transforming the distribution of each input variable to be the same, such as the **same minimum and maximum in the case of normalization** or **the same mean and standard deviation in the case of standardization**. A scaling technique must be fit, which just means it needs to calculate coefficients from data, such as the observed min and max, or the observed mean and standard deviation. These values can also be set by domain experts.\n",
    "\n",
    "The best practice when using scaling techniques for evaluating models is to fit them on the training dataset, then apply them to the training and test datasets. Or, when working with a final model, to fit the scaling method on the training dataset and apply the transform to the training dataset and any new dataset in the future. It is critical that any data preparation or transformation applied to the training dataset is also applied to the test or other dataset in the future. This is straightforward when all of the data and the model are in memory. This is challenging when a model is saved and used later. What is the best practice to scale data when saving a fit model for later use, such as a final model?"
   ]
  },
  {
   "cell_type": "markdown",
   "id": "58f76bbf",
   "metadata": {},
   "source": [
    "<a id=\"data\"></a>\n",
    "<h2><ins>Save Data Preparation Objects</ins></h2>\n",
    "\n",
    "The solution is to save the data preparation object to file along with the model. For example, it is common to use the **pickle framework** (built-in to Python) for saving machine learning models for later use, such as saving a final model. This same framework can be used to save the object that was used for data preparation. Later, the model and the data preparation object can be loaded and used. \n",
    "\n",
    "It is convenient to save the entire objects to file, such as the model object and the data preparation object. Nevertheless, experts may prefer to save just the model parameters to file, then load them later and set them into a new model object. This approach can also be used with the coefficients used for scaling the data, such as the min and max values for each variable, or the mean and standard deviation for each variable."
   ]
  },
  {
   "cell_type": "markdown",
   "id": "1c36e764",
   "metadata": {},
   "source": [
    "<a id=\"save\"></a>\n",
    "<h2><ins>Save Model and Data Scale</ins></h2>"
   ]
  },
  {
   "cell_type": "code",
   "execution_count": 151,
   "id": "4c1712a9",
   "metadata": {},
   "outputs": [
    {
     "data": {
      "text/plain": [
       "((514, 8), (514,), (254, 8), (254,))"
      ]
     },
     "execution_count": 151,
     "metadata": {},
     "output_type": "execute_result"
    }
   ],
   "source": [
    "df_diab = pd.read_csv('./datasets/Data Transforms/Diabetes.csv',header=None)\n",
    "df_diab.columns = ['pregnant','glucose_conc','blood_press','tricep_thick',\n",
    "                  'serum_ins','bmi','pedigree','age','target']\n",
    "\n",
    "X_diab = df_diab.drop('target', axis=1)\n",
    "y_diab = df_diab['target']\n",
    "\n",
    "# ensure inputs are floats and output is an integer label\n",
    "X_diab = X_diab.astype('float32')\n",
    "y_diab = LabelEncoder().fit_transform(y_diab.astype('str'))\n",
    "\n",
    "# split data into train and test sets\n",
    "X_train, X_test, y_train, y_test = train_test_split(X_diab, y_diab, \n",
    "                                                    test_size=0.33,\n",
    "                                                    random_state=1)\n",
    "\n",
    "X_train.shape, y_train.shape, X_test.shape, y_test.shape"
   ]
  },
  {
   "cell_type": "code",
   "execution_count": 152,
   "id": "bc837e37",
   "metadata": {},
   "outputs": [
    {
     "name": "stdout",
     "output_type": "stream",
     "text": [
      ">pregnant, train: min=0.000, max=14.000, test: min=0.000, max=17.000\n",
      ">glucose_conc, train: min=0.000, max=198.000, test: min=0.000, max=199.000\n",
      ">blood_press, train: min=0.000, max=122.000, test: min=0.000, max=110.000\n",
      ">tricep_thick, train: min=0.000, max=99.000, test: min=0.000, max=63.000\n",
      ">serum_ins, train: min=0.000, max=744.000, test: min=0.000, max=846.000\n",
      ">bmi, train: min=0.000, max=67.100, test: min=0.000, max=59.400\n",
      ">pedigree, train: min=0.085, max=2.329, test: min=0.078, max=2.420\n",
      ">age, train: min=21.000, max=72.000, test: min=21.000, max=81.000\n"
     ]
    }
   ],
   "source": [
    "# summarize the scale of each input variable\n",
    "for i in X_train.columns:\n",
    "    print(f'>{i}, train: min={X_train[i].min():.3f}, max={X_train[i].max():.3f}, test: min={X_test[i].min():.3f}, max={X_test[i].max():.3f}')"
   ]
  },
  {
   "cell_type": "code",
   "execution_count": 153,
   "id": "d62f7ad7",
   "metadata": {},
   "outputs": [],
   "source": [
    "# define scaler\n",
    "scaler = MinMaxScaler()\n",
    "# fit scaler on the training dataset\n",
    "scaler.fit(X_train)\n",
    "# transform both datasets\n",
    "X_train_scaled = scaler.transform(X_train)\n",
    "X_test_scaled = scaler.transform(X_test)\n"
   ]
  },
  {
   "cell_type": "code",
   "execution_count": 154,
   "id": "9abb3eff",
   "metadata": {
    "scrolled": true
   },
   "outputs": [
    {
     "data": {
      "text/plain": [
       "0.0"
      ]
     },
     "execution_count": 154,
     "metadata": {},
     "output_type": "execute_result"
    }
   ],
   "source": [
    "X_train_scaled[:,2].min()"
   ]
  },
  {
   "cell_type": "code",
   "execution_count": 155,
   "id": "5969b499",
   "metadata": {},
   "outputs": [
    {
     "name": "stdout",
     "output_type": "stream",
     "text": [
      ">col_1, train: min=0.000, max=1.000, test: min=0.000, max=1.214\n",
      ">col_2, train: min=0.000, max=1.000, test: min=0.000, max=1.005\n",
      ">col_3, train: min=0.000, max=1.000, test: min=0.000, max=0.902\n",
      ">col_4, train: min=0.000, max=1.000, test: min=0.000, max=0.636\n",
      ">col_5, train: min=0.000, max=1.000, test: min=0.000, max=1.137\n",
      ">col_6, train: min=0.000, max=1.000, test: min=0.000, max=0.885\n",
      ">col_7, train: min=0.000, max=1.000, test: min=-0.003, max=1.041\n",
      ">col_8, train: min=0.000, max=1.000, test: min=0.000, max=1.176\n"
     ]
    }
   ],
   "source": [
    "# define scaler\n",
    "scaler = MinMaxScaler()\n",
    "# fit scaler on the training dataset\n",
    "scaler.fit(X_train)\n",
    "# transform both datasets\n",
    "X_train_scaled = scaler.transform(X_train)\n",
    "X_test_scaled = scaler.transform(X_test)\n",
    "\n",
    "# summarize the scale of each input variable\n",
    "for i in range(X_test_scaled.shape[1]):\n",
    "    print(f'>col_{i+1}, train: min={X_train_scaled[:,i].min():.3f}, max={X_train_scaled[:,i].max():.3f}, test: min={X_test_scaled[:,i].min():.3f}, max={X_test_scaled[:,i].max():.3f}')"
   ]
  },
  {
   "cell_type": "code",
   "execution_count": 156,
   "id": "4549542b",
   "metadata": {},
   "outputs": [],
   "source": [
    "from pickle import dump, load"
   ]
  },
  {
   "cell_type": "code",
   "execution_count": 157,
   "id": "06b95864",
   "metadata": {},
   "outputs": [],
   "source": [
    "# define model\n",
    "model = LogisticRegression(solver='lbfgs')\n",
    "model.fit(X_train_scaled, y_train)\n",
    "\n",
    "# save the model\n",
    "dump(model, open('model.pkl', 'wb'))\n",
    "\n",
    "# save the scaler\n",
    "dump(scaler, open('scaler.pkl', 'wb'))"
   ]
  },
  {
   "cell_type": "markdown",
   "id": "71262b11",
   "metadata": {},
   "source": [
    "<a id=\"load\"></a>\n",
    "<h2><ins>Load Model and Data Scale</ins></h2>\n",
    "\n",
    "We can load the model and the scaler object and make use of them. We will load the model and the scaler, then use the scaler to prepare the new data and use the model to make predictions. Because it is a test dataset, we have the expected target values, so we will compare the predictions to the expected target values and calculate the accuracy of the model."
   ]
  },
  {
   "cell_type": "code",
   "execution_count": 158,
   "id": "4c7e2b91",
   "metadata": {},
   "outputs": [
    {
     "name": "stdout",
     "output_type": "stream",
     "text": [
      "Raw test set range\n",
      ">pregnant, min=0.000, max=17.000\n",
      ">glucose_conc, min=0.000, max=199.000\n",
      ">blood_press, min=0.000, max=110.000\n",
      ">tricep_thick, min=0.000, max=63.000\n",
      ">serum_ins, min=0.000, max=846.000\n",
      ">bmi, min=0.000, max=59.400\n",
      ">pedigree, min=0.078, max=2.420\n",
      ">age, min=21.000, max=81.000\n",
      "\n",
      "Scaled test set range\n",
      ">1, min=0.000, max=1.214\n",
      ">2, min=0.000, max=1.005\n",
      ">3, min=0.000, max=0.902\n",
      ">4, min=0.000, max=0.636\n",
      ">5, min=0.000, max=1.137\n",
      ">6, min=0.000, max=0.885\n",
      ">7, min=-0.003, max=1.041\n",
      ">8, min=0.000, max=1.176\n",
      "Test Accuracy: 0.7755905511811023\n"
     ]
    }
   ],
   "source": [
    "# load the model\n",
    "model = load(open('model.pkl', 'rb'))\n",
    "\n",
    "# load the scaler\n",
    "scaler = load(open('scaler.pkl', 'rb'))\n",
    "\n",
    "# check scale of the test set before scaling\n",
    "print('Raw test set range')\n",
    "for i in X_test.columns:\n",
    "    print(f'>{i}, min={X_test[i].min():.3f}, max={X_test[i].max():.3f}')\n",
    "    \n",
    "# transform the test dataset\n",
    "X_test_scaled = scaler.transform(X_test)\n",
    "\n",
    "# check scale of the test set after scaling\n",
    "print('\\nScaled test set range')\n",
    "for i in range(X_test_scaled.shape[1]):\n",
    "    print('>%d, min=%.3f, max=%.3f' % (i+1, X_test_scaled[:, i].min(), X_test_scaled[:,\n",
    "i].max()))\n",
    "\n",
    "# make predictions on the test set\n",
    "yhat = model.predict(X_test_scaled)\n",
    "\n",
    "# evaluate accuracy\n",
    "acc = accuracy_score(y_test, yhat)\n",
    "print('Test Accuracy:', acc)"
   ]
  },
  {
   "cell_type": "markdown",
   "id": "8299fbb9",
   "metadata": {},
   "source": [
    "<a id=\"ref\"></a>\n",
    "<h2><mark style=\"background-color: yellow\">REFERENCES</mark></h2>\n",
    "\n",
    "<ins>BOOKS</ins>\n",
    "- [Data Preparation for Machine Learning by Jason Brownlee](https://machinelearningmastery.com/data-preparation-for-machine-learning/)\n",
    "- [Machine Learning Mastery With Python by Jason Brownlee](https://machinelearningmastery.com/machine-learning-with-python/)\n",
    "- [Machine Learning with Python Cookbook: Practical Solutions from Preprocessing to Deep Learning](https://gaurav320.github.io/vpspu.github.io/eb/pdf/ML.pdf)\n",
    "\n",
    "<ins>ARTICLES / WEBSITES</ins>\n",
    "- [Sebastian Raschka - About Feature Scaling and Normalization](https://sebastianraschka.com/Articles/2014_about_feature_scaling.html)\n",
    "- [Towards Data Science - Scale, Standardize, or Normalize with Scikit-Learn](https://towardsdatascience.com/scale-standardize-or-normalize-with-scikit-learn-6ccc7d176a02)\n",
    "- [Feature Scaling With Scikit-Learn by Ben Keen](http://benalexkeen.com/feature-scaling-with-scikit-learn/)\n",
    "- [Pandas/scikit-learn: get_dummies Test/Train Sets](https://dzone.com/articles/pandasscikit-learn-get-dummies-testtrain-sets)\n",
    "\n",
    "<ins>PYTHON PACKAGES</ins>\n",
    "- sklearn\n",
    "    - https://scikit-learn.org/stable/modules/classes.html#module-sklearn.preprocessing\n",
    "    - https://scikit-learn.org/stable/modules/preprocessing.html#preprocessing-data\n",
    "    - https://scikit-learn.org/stable/auto_examples/preprocessing/plot_all_scaling.html#\n",
    "    - https://scikit-learn.org/stable/auto_examples/compose/plot_transformed_target.html#effect-of-transforming-the-targets-in-regression-model"
   ]
  }
 ],
 "metadata": {
  "kernelspec": {
   "display_name": "Python 3",
   "language": "python",
   "name": "python3"
  },
  "language_info": {
   "codemirror_mode": {
    "name": "ipython",
    "version": 3
   },
   "file_extension": ".py",
   "mimetype": "text/x-python",
   "name": "python",
   "nbconvert_exporter": "python",
   "pygments_lexer": "ipython3",
   "version": "3.8.8"
  }
 },
 "nbformat": 4,
 "nbformat_minor": 5
}
